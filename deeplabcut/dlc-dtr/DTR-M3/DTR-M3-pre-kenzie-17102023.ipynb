{
 "cells": [
  {
   "cell_type": "code",
   "execution_count": 1,
   "metadata": {},
   "outputs": [
    {
     "name": "stdout",
     "output_type": "stream",
     "text": [
      "Loading DLC 2.3.7...\n"
     ]
    },
    {
     "name": "stderr",
     "output_type": "stream",
     "text": [
      "/Users/kenzie_mackinnon/miniforge/envs/dlcm1/lib/python3.9/site-packages/tqdm/auto.py:21: TqdmWarning: IProgress not found. Please update jupyter and ipywidgets. See https://ipywidgets.readthedocs.io/en/stable/user_install.html\n",
      "  from .autonotebook import tqdm as notebook_tqdm\n"
     ]
    }
   ],
   "source": [
    "import deeplabcut"
   ]
  },
  {
   "cell_type": "code",
   "execution_count": 2,
   "metadata": {},
   "outputs": [],
   "source": [
    "config_path = '/home/kenzie_mackinnon/sync/lab-analysis/deeplabcut/dlc-dtr/DTR-M3/DTR-M3-pre-kenzie-2023-10-17/config.yaml'"
   ]
  },
  {
   "cell_type": "code",
   "execution_count": null,
   "metadata": {},
   "outputs": [],
   "source": [
    "deeplabcut.label_frames(config_path)"
   ]
  },
  {
   "cell_type": "code",
   "execution_count": 3,
   "metadata": {},
   "outputs": [
    {
     "name": "stdout",
     "output_type": "stream",
     "text": [
      "Creating images with labels by kenzie.\n",
      "Attention: /home/kenzie_mackinnon/sync/lab-analysis/deeplabcut/dlc-dtr/DTR-M3/DTR-M3-pre-kenzie-2023-10-17/labeled-data/ ts3_000000 does not appear to have labeled data!\n",
      "Attention: /home/kenzie_mackinnon/sync/lab-analysis/deeplabcut/dlc-dtr/DTR-M3/DTR-M3-pre-kenzie-2023-10-17/labeled-data/ ts3_000001 does not appear to have labeled data!\n",
      "Attention: /home/kenzie_mackinnon/sync/lab-analysis/deeplabcut/dlc-dtr/DTR-M3/DTR-M3-pre-kenzie-2023-10-17/labeled-data/ ts3_000002 does not appear to have labeled data!\n",
      "Attention: /home/kenzie_mackinnon/sync/lab-analysis/deeplabcut/dlc-dtr/DTR-M3/DTR-M3-pre-kenzie-2023-10-17/labeled-data/ ts3_000003 does not appear to have labeled data!\n",
      "Attention: /home/kenzie_mackinnon/sync/lab-analysis/deeplabcut/dlc-dtr/DTR-M3/DTR-M3-pre-kenzie-2023-10-17/labeled-data/ ts3_000004 does not appear to have labeled data!\n",
      "Attention: /home/kenzie_mackinnon/sync/lab-analysis/deeplabcut/dlc-dtr/DTR-M3/DTR-M3-pre-kenzie-2023-10-17/labeled-data/ ts3_000005 does not appear to have labeled data!\n",
      "Attention: /home/kenzie_mackinnon/sync/lab-analysis/deeplabcut/dlc-dtr/DTR-M3/DTR-M3-pre-kenzie-2023-10-17/labeled-data/ ts3_000006 does not appear to have labeled data!\n",
      "Attention: /home/kenzie_mackinnon/sync/lab-analysis/deeplabcut/dlc-dtr/DTR-M3/DTR-M3-pre-kenzie-2023-10-17/labeled-data/ ts3_000007 does not appear to have labeled data!\n",
      "Attention: /home/kenzie_mackinnon/sync/lab-analysis/deeplabcut/dlc-dtr/DTR-M3/DTR-M3-pre-kenzie-2023-10-17/labeled-data/ ts3_000008 does not appear to have labeled data!\n",
      "Attention: /home/kenzie_mackinnon/sync/lab-analysis/deeplabcut/dlc-dtr/DTR-M3/DTR-M3-pre-kenzie-2023-10-17/labeled-data/ ts3_000009 does not appear to have labeled data!\n",
      "Attention: /home/kenzie_mackinnon/sync/lab-analysis/deeplabcut/dlc-dtr/DTR-M3/DTR-M3-pre-kenzie-2023-10-17/labeled-data/ ts3_000010 does not appear to have labeled data!\n",
      "Attention: /home/kenzie_mackinnon/sync/lab-analysis/deeplabcut/dlc-dtr/DTR-M3/DTR-M3-pre-kenzie-2023-10-17/labeled-data/ ts3_000011 does not appear to have labeled data!\n",
      "Attention: /home/kenzie_mackinnon/sync/lab-analysis/deeplabcut/dlc-dtr/DTR-M3/DTR-M3-pre-kenzie-2023-10-17/labeled-data/ ts3_000012 does not appear to have labeled data!\n",
      "Attention: /home/kenzie_mackinnon/sync/lab-analysis/deeplabcut/dlc-dtr/DTR-M3/DTR-M3-pre-kenzie-2023-10-17/labeled-data/ ts3_000013 does not appear to have labeled data!\n",
      "Attention: /home/kenzie_mackinnon/sync/lab-analysis/deeplabcut/dlc-dtr/DTR-M3/DTR-M3-pre-kenzie-2023-10-17/labeled-data/ ts3_000014 does not appear to have labeled data!\n",
      "Attention: /home/kenzie_mackinnon/sync/lab-analysis/deeplabcut/dlc-dtr/DTR-M3/DTR-M3-pre-kenzie-2023-10-17/labeled-data/ ts3_000015 does not appear to have labeled data!\n",
      "Attention: /home/kenzie_mackinnon/sync/lab-analysis/deeplabcut/dlc-dtr/DTR-M3/DTR-M3-pre-kenzie-2023-10-17/labeled-data/ ts3_000016 does not appear to have labeled data!\n",
      "Attention: /home/kenzie_mackinnon/sync/lab-analysis/deeplabcut/dlc-dtr/DTR-M3/DTR-M3-pre-kenzie-2023-10-17/labeled-data/ ts3_000017 does not appear to have labeled data!\n",
      "Attention: /home/kenzie_mackinnon/sync/lab-analysis/deeplabcut/dlc-dtr/DTR-M3/DTR-M3-pre-kenzie-2023-10-17/labeled-data/ ts3_000018 does not appear to have labeled data!\n",
      "Attention: /home/kenzie_mackinnon/sync/lab-analysis/deeplabcut/dlc-dtr/DTR-M3/DTR-M3-pre-kenzie-2023-10-17/labeled-data/ ts3_000019 does not appear to have labeled data!\n",
      "Attention: /home/kenzie_mackinnon/sync/lab-analysis/deeplabcut/dlc-dtr/DTR-M3/DTR-M3-pre-kenzie-2023-10-17/labeled-data/ ts3_000020 does not appear to have labeled data!\n",
      "Attention: /home/kenzie_mackinnon/sync/lab-analysis/deeplabcut/dlc-dtr/DTR-M3/DTR-M3-pre-kenzie-2023-10-17/labeled-data/ ts3_000021 does not appear to have labeled data!\n",
      "Attention: /home/kenzie_mackinnon/sync/lab-analysis/deeplabcut/dlc-dtr/DTR-M3/DTR-M3-pre-kenzie-2023-10-17/labeled-data/ ts3_000022 does not appear to have labeled data!\n",
      "Attention: /home/kenzie_mackinnon/sync/lab-analysis/deeplabcut/dlc-dtr/DTR-M3/DTR-M3-pre-kenzie-2023-10-17/labeled-data/ ts3_000023 does not appear to have labeled data!\n",
      "Attention: /home/kenzie_mackinnon/sync/lab-analysis/deeplabcut/dlc-dtr/DTR-M3/DTR-M3-pre-kenzie-2023-10-17/labeled-data/ ts3_000024 does not appear to have labeled data!\n",
      "Attention: /home/kenzie_mackinnon/sync/lab-analysis/deeplabcut/dlc-dtr/DTR-M3/DTR-M3-pre-kenzie-2023-10-17/labeled-data/ ts3_000025 does not appear to have labeled data!\n",
      "If all the labels are ok, then use the function 'create_training_dataset' to create the training dataset!\n"
     ]
    }
   ],
   "source": [
    "deeplabcut.check_labels(config_path, visualizeindividuals=False)"
   ]
  },
  {
   "cell_type": "code",
   "execution_count": 4,
   "metadata": {},
   "outputs": [
    {
     "name": "stdout",
     "output_type": "stream",
     "text": [
      "/home/kenzie_mackinnon/sync/lab-analysis/deeplabcut/dlc-dtr/DTR-M3/DTR-M3-pre-kenzie-2023-10-17/labeled-data/ ts3_000000/CollectedData_kenzie.h5  not found (perhaps not annotated).\n",
      "/home/kenzie_mackinnon/sync/lab-analysis/deeplabcut/dlc-dtr/DTR-M3/DTR-M3-pre-kenzie-2023-10-17/labeled-data/ ts3_000001/CollectedData_kenzie.h5  not found (perhaps not annotated).\n",
      "/home/kenzie_mackinnon/sync/lab-analysis/deeplabcut/dlc-dtr/DTR-M3/DTR-M3-pre-kenzie-2023-10-17/labeled-data/ ts3_000002/CollectedData_kenzie.h5  not found (perhaps not annotated).\n",
      "/home/kenzie_mackinnon/sync/lab-analysis/deeplabcut/dlc-dtr/DTR-M3/DTR-M3-pre-kenzie-2023-10-17/labeled-data/ ts3_000003/CollectedData_kenzie.h5  not found (perhaps not annotated).\n",
      "/home/kenzie_mackinnon/sync/lab-analysis/deeplabcut/dlc-dtr/DTR-M3/DTR-M3-pre-kenzie-2023-10-17/labeled-data/ ts3_000004/CollectedData_kenzie.h5  not found (perhaps not annotated).\n",
      "/home/kenzie_mackinnon/sync/lab-analysis/deeplabcut/dlc-dtr/DTR-M3/DTR-M3-pre-kenzie-2023-10-17/labeled-data/ ts3_000005/CollectedData_kenzie.h5  not found (perhaps not annotated).\n",
      "/home/kenzie_mackinnon/sync/lab-analysis/deeplabcut/dlc-dtr/DTR-M3/DTR-M3-pre-kenzie-2023-10-17/labeled-data/ ts3_000006/CollectedData_kenzie.h5  not found (perhaps not annotated).\n",
      "/home/kenzie_mackinnon/sync/lab-analysis/deeplabcut/dlc-dtr/DTR-M3/DTR-M3-pre-kenzie-2023-10-17/labeled-data/ ts3_000007/CollectedData_kenzie.h5  not found (perhaps not annotated).\n",
      "/home/kenzie_mackinnon/sync/lab-analysis/deeplabcut/dlc-dtr/DTR-M3/DTR-M3-pre-kenzie-2023-10-17/labeled-data/ ts3_000008/CollectedData_kenzie.h5  not found (perhaps not annotated).\n",
      "/home/kenzie_mackinnon/sync/lab-analysis/deeplabcut/dlc-dtr/DTR-M3/DTR-M3-pre-kenzie-2023-10-17/labeled-data/ ts3_000009/CollectedData_kenzie.h5  not found (perhaps not annotated).\n",
      "/home/kenzie_mackinnon/sync/lab-analysis/deeplabcut/dlc-dtr/DTR-M3/DTR-M3-pre-kenzie-2023-10-17/labeled-data/ ts3_000010/CollectedData_kenzie.h5  not found (perhaps not annotated).\n",
      "/home/kenzie_mackinnon/sync/lab-analysis/deeplabcut/dlc-dtr/DTR-M3/DTR-M3-pre-kenzie-2023-10-17/labeled-data/ ts3_000011/CollectedData_kenzie.h5  not found (perhaps not annotated).\n",
      "/home/kenzie_mackinnon/sync/lab-analysis/deeplabcut/dlc-dtr/DTR-M3/DTR-M3-pre-kenzie-2023-10-17/labeled-data/ ts3_000012/CollectedData_kenzie.h5  not found (perhaps not annotated).\n",
      "/home/kenzie_mackinnon/sync/lab-analysis/deeplabcut/dlc-dtr/DTR-M3/DTR-M3-pre-kenzie-2023-10-17/labeled-data/ ts3_000013/CollectedData_kenzie.h5  not found (perhaps not annotated).\n",
      "/home/kenzie_mackinnon/sync/lab-analysis/deeplabcut/dlc-dtr/DTR-M3/DTR-M3-pre-kenzie-2023-10-17/labeled-data/ ts3_000014/CollectedData_kenzie.h5  not found (perhaps not annotated).\n",
      "/home/kenzie_mackinnon/sync/lab-analysis/deeplabcut/dlc-dtr/DTR-M3/DTR-M3-pre-kenzie-2023-10-17/labeled-data/ ts3_000015/CollectedData_kenzie.h5  not found (perhaps not annotated).\n",
      "/home/kenzie_mackinnon/sync/lab-analysis/deeplabcut/dlc-dtr/DTR-M3/DTR-M3-pre-kenzie-2023-10-17/labeled-data/ ts3_000016/CollectedData_kenzie.h5  not found (perhaps not annotated).\n",
      "/home/kenzie_mackinnon/sync/lab-analysis/deeplabcut/dlc-dtr/DTR-M3/DTR-M3-pre-kenzie-2023-10-17/labeled-data/ ts3_000017/CollectedData_kenzie.h5  not found (perhaps not annotated).\n",
      "/home/kenzie_mackinnon/sync/lab-analysis/deeplabcut/dlc-dtr/DTR-M3/DTR-M3-pre-kenzie-2023-10-17/labeled-data/ ts3_000018/CollectedData_kenzie.h5  not found (perhaps not annotated).\n",
      "/home/kenzie_mackinnon/sync/lab-analysis/deeplabcut/dlc-dtr/DTR-M3/DTR-M3-pre-kenzie-2023-10-17/labeled-data/ ts3_000019/CollectedData_kenzie.h5  not found (perhaps not annotated).\n",
      "/home/kenzie_mackinnon/sync/lab-analysis/deeplabcut/dlc-dtr/DTR-M3/DTR-M3-pre-kenzie-2023-10-17/labeled-data/ ts3_000020/CollectedData_kenzie.h5  not found (perhaps not annotated).\n",
      "/home/kenzie_mackinnon/sync/lab-analysis/deeplabcut/dlc-dtr/DTR-M3/DTR-M3-pre-kenzie-2023-10-17/labeled-data/ ts3_000021/CollectedData_kenzie.h5  not found (perhaps not annotated).\n",
      "/home/kenzie_mackinnon/sync/lab-analysis/deeplabcut/dlc-dtr/DTR-M3/DTR-M3-pre-kenzie-2023-10-17/labeled-data/ ts3_000022/CollectedData_kenzie.h5  not found (perhaps not annotated).\n",
      "/home/kenzie_mackinnon/sync/lab-analysis/deeplabcut/dlc-dtr/DTR-M3/DTR-M3-pre-kenzie-2023-10-17/labeled-data/ ts3_000023/CollectedData_kenzie.h5  not found (perhaps not annotated).\n",
      "/home/kenzie_mackinnon/sync/lab-analysis/deeplabcut/dlc-dtr/DTR-M3/DTR-M3-pre-kenzie-2023-10-17/labeled-data/ ts3_000024/CollectedData_kenzie.h5  not found (perhaps not annotated).\n",
      "/home/kenzie_mackinnon/sync/lab-analysis/deeplabcut/dlc-dtr/DTR-M3/DTR-M3-pre-kenzie-2023-10-17/labeled-data/ ts3_000025/CollectedData_kenzie.h5  not found (perhaps not annotated).\n",
      "Annotation data was not found by splitting video paths (from config['video_sets']). An alternative route is taken...\n",
      "The following folders were found: ['/home/kenzie_mackinnon/sync/lab-analysis/deeplabcut/dlc-dtr/DTR-M3/DTR-M3-pre-kenzie-2023-10-17/labeled-data/CoM DTR M3 ts3_000002', '/home/kenzie_mackinnon/sync/lab-analysis/deeplabcut/dlc-dtr/DTR-M3/DTR-M3-pre-kenzie-2023-10-17/labeled-data/CoM DTR M3 ts3_000015', '/home/kenzie_mackinnon/sync/lab-analysis/deeplabcut/dlc-dtr/DTR-M3/DTR-M3-pre-kenzie-2023-10-17/labeled-data/CoM DTR M3 ts3_000018', '/home/kenzie_mackinnon/sync/lab-analysis/deeplabcut/dlc-dtr/DTR-M3/DTR-M3-pre-kenzie-2023-10-17/labeled-data/CoM DTR M3 ts3_000012', '/home/kenzie_mackinnon/sync/lab-analysis/deeplabcut/dlc-dtr/DTR-M3/DTR-M3-pre-kenzie-2023-10-17/labeled-data/CoM DTR M3 ts3_000007', '/home/kenzie_mackinnon/sync/lab-analysis/deeplabcut/dlc-dtr/DTR-M3/DTR-M3-pre-kenzie-2023-10-17/labeled-data/CoM DTR M3 ts3_000009', '/home/kenzie_mackinnon/sync/lab-analysis/deeplabcut/dlc-dtr/DTR-M3/DTR-M3-pre-kenzie-2023-10-17/labeled-data/CoM DTR M3 ts3_000010', '/home/kenzie_mackinnon/sync/lab-analysis/deeplabcut/dlc-dtr/DTR-M3/DTR-M3-pre-kenzie-2023-10-17/labeled-data/CoM DTR M3 ts3_000010_labeled', '/home/kenzie_mackinnon/sync/lab-analysis/deeplabcut/dlc-dtr/DTR-M3/DTR-M3-pre-kenzie-2023-10-17/labeled-data/CoM DTR M3 ts3_000004', '/home/kenzie_mackinnon/sync/lab-analysis/deeplabcut/dlc-dtr/DTR-M3/DTR-M3-pre-kenzie-2023-10-17/labeled-data/CoM DTR M3 ts3_000013', '/home/kenzie_mackinnon/sync/lab-analysis/deeplabcut/dlc-dtr/DTR-M3/DTR-M3-pre-kenzie-2023-10-17/labeled-data/CoM DTR M3 ts3_000014', '/home/kenzie_mackinnon/sync/lab-analysis/deeplabcut/dlc-dtr/DTR-M3/DTR-M3-pre-kenzie-2023-10-17/labeled-data/CoM DTR M3 ts3_000022', '/home/kenzie_mackinnon/sync/lab-analysis/deeplabcut/dlc-dtr/DTR-M3/DTR-M3-pre-kenzie-2023-10-17/labeled-data/CoM DTR M3 ts3_000008', '/home/kenzie_mackinnon/sync/lab-analysis/deeplabcut/dlc-dtr/DTR-M3/DTR-M3-pre-kenzie-2023-10-17/labeled-data/CoM DTR M3 ts3_000017', '/home/kenzie_mackinnon/sync/lab-analysis/deeplabcut/dlc-dtr/DTR-M3/DTR-M3-pre-kenzie-2023-10-17/labeled-data/CoM DTR M3 ts3_000005_labeled', '/home/kenzie_mackinnon/sync/lab-analysis/deeplabcut/dlc-dtr/DTR-M3/DTR-M3-pre-kenzie-2023-10-17/labeled-data/CoM DTR M3 ts3_000000', '/home/kenzie_mackinnon/sync/lab-analysis/deeplabcut/dlc-dtr/DTR-M3/DTR-M3-pre-kenzie-2023-10-17/labeled-data/CoM DTR M3 ts3_000021', '/home/kenzie_mackinnon/sync/lab-analysis/deeplabcut/dlc-dtr/DTR-M3/DTR-M3-pre-kenzie-2023-10-17/labeled-data/CoM DTR M3 ts3_000023', '/home/kenzie_mackinnon/sync/lab-analysis/deeplabcut/dlc-dtr/DTR-M3/DTR-M3-pre-kenzie-2023-10-17/labeled-data/CoM DTR M3 ts3_000016_labeled', '/home/kenzie_mackinnon/sync/lab-analysis/deeplabcut/dlc-dtr/DTR-M3/DTR-M3-pre-kenzie-2023-10-17/labeled-data/CoM DTR M3 ts3_000005', '/home/kenzie_mackinnon/sync/lab-analysis/deeplabcut/dlc-dtr/DTR-M3/DTR-M3-pre-kenzie-2023-10-17/labeled-data/CoM DTR M3 ts3_000006', '/home/kenzie_mackinnon/sync/lab-analysis/deeplabcut/dlc-dtr/DTR-M3/DTR-M3-pre-kenzie-2023-10-17/labeled-data/CoM DTR M3 ts3_000003', '/home/kenzie_mackinnon/sync/lab-analysis/deeplabcut/dlc-dtr/DTR-M3/DTR-M3-pre-kenzie-2023-10-17/labeled-data/CoM DTR M3 ts3_000025', '/home/kenzie_mackinnon/sync/lab-analysis/deeplabcut/dlc-dtr/DTR-M3/DTR-M3-pre-kenzie-2023-10-17/labeled-data/CoM DTR M3 ts3_000020', '/home/kenzie_mackinnon/sync/lab-analysis/deeplabcut/dlc-dtr/DTR-M3/DTR-M3-pre-kenzie-2023-10-17/labeled-data/CoM DTR M3 ts3_000022_labeled', '/home/kenzie_mackinnon/sync/lab-analysis/deeplabcut/dlc-dtr/DTR-M3/DTR-M3-pre-kenzie-2023-10-17/labeled-data/CoM DTR M3 ts3_000019', '/home/kenzie_mackinnon/sync/lab-analysis/deeplabcut/dlc-dtr/DTR-M3/DTR-M3-pre-kenzie-2023-10-17/labeled-data/CoM DTR M3 ts3_000024', '/home/kenzie_mackinnon/sync/lab-analysis/deeplabcut/dlc-dtr/DTR-M3/DTR-M3-pre-kenzie-2023-10-17/labeled-data/CoM DTR M3 ts3_000016', '/home/kenzie_mackinnon/sync/lab-analysis/deeplabcut/dlc-dtr/DTR-M3/DTR-M3-pre-kenzie-2023-10-17/labeled-data/CoM DTR M3 ts3_000011', '/home/kenzie_mackinnon/sync/lab-analysis/deeplabcut/dlc-dtr/DTR-M3/DTR-M3-pre-kenzie-2023-10-17/labeled-data/CoM DTR M3 ts3_000001']\n",
      "/home/kenzie_mackinnon/sync/lab-analysis/deeplabcut/dlc-dtr/DTR-M3/DTR-M3-pre-kenzie-2023-10-17/labeled-data/CoM DTR M3 ts3_000002/CollectedData_kenzie.h5  not found (perhaps not annotated)\n",
      "/home/kenzie_mackinnon/sync/lab-analysis/deeplabcut/dlc-dtr/DTR-M3/DTR-M3-pre-kenzie-2023-10-17/labeled-data/CoM DTR M3 ts3_000015/CollectedData_kenzie.h5  not found (perhaps not annotated)\n",
      "/home/kenzie_mackinnon/sync/lab-analysis/deeplabcut/dlc-dtr/DTR-M3/DTR-M3-pre-kenzie-2023-10-17/labeled-data/CoM DTR M3 ts3_000018/CollectedData_kenzie.h5  not found (perhaps not annotated)\n",
      "/home/kenzie_mackinnon/sync/lab-analysis/deeplabcut/dlc-dtr/DTR-M3/DTR-M3-pre-kenzie-2023-10-17/labeled-data/CoM DTR M3 ts3_000012/CollectedData_kenzie.h5  not found (perhaps not annotated)\n",
      "/home/kenzie_mackinnon/sync/lab-analysis/deeplabcut/dlc-dtr/DTR-M3/DTR-M3-pre-kenzie-2023-10-17/labeled-data/CoM DTR M3 ts3_000007/CollectedData_kenzie.h5  not found (perhaps not annotated)\n",
      "/home/kenzie_mackinnon/sync/lab-analysis/deeplabcut/dlc-dtr/DTR-M3/DTR-M3-pre-kenzie-2023-10-17/labeled-data/CoM DTR M3 ts3_000009/CollectedData_kenzie.h5  not found (perhaps not annotated)\n",
      "/home/kenzie_mackinnon/sync/lab-analysis/deeplabcut/dlc-dtr/DTR-M3/DTR-M3-pre-kenzie-2023-10-17/labeled-data/CoM DTR M3 ts3_000010_labeled/CollectedData_kenzie.h5  not found (perhaps not annotated)\n",
      "/home/kenzie_mackinnon/sync/lab-analysis/deeplabcut/dlc-dtr/DTR-M3/DTR-M3-pre-kenzie-2023-10-17/labeled-data/CoM DTR M3 ts3_000004/CollectedData_kenzie.h5  not found (perhaps not annotated)\n",
      "/home/kenzie_mackinnon/sync/lab-analysis/deeplabcut/dlc-dtr/DTR-M3/DTR-M3-pre-kenzie-2023-10-17/labeled-data/CoM DTR M3 ts3_000013/CollectedData_kenzie.h5  not found (perhaps not annotated)\n",
      "/home/kenzie_mackinnon/sync/lab-analysis/deeplabcut/dlc-dtr/DTR-M3/DTR-M3-pre-kenzie-2023-10-17/labeled-data/CoM DTR M3 ts3_000014/CollectedData_kenzie.h5  not found (perhaps not annotated)\n",
      "/home/kenzie_mackinnon/sync/lab-analysis/deeplabcut/dlc-dtr/DTR-M3/DTR-M3-pre-kenzie-2023-10-17/labeled-data/CoM DTR M3 ts3_000008/CollectedData_kenzie.h5  not found (perhaps not annotated)\n",
      "/home/kenzie_mackinnon/sync/lab-analysis/deeplabcut/dlc-dtr/DTR-M3/DTR-M3-pre-kenzie-2023-10-17/labeled-data/CoM DTR M3 ts3_000017/CollectedData_kenzie.h5  not found (perhaps not annotated)\n",
      "/home/kenzie_mackinnon/sync/lab-analysis/deeplabcut/dlc-dtr/DTR-M3/DTR-M3-pre-kenzie-2023-10-17/labeled-data/CoM DTR M3 ts3_000005_labeled/CollectedData_kenzie.h5  not found (perhaps not annotated)\n",
      "/home/kenzie_mackinnon/sync/lab-analysis/deeplabcut/dlc-dtr/DTR-M3/DTR-M3-pre-kenzie-2023-10-17/labeled-data/CoM DTR M3 ts3_000000/CollectedData_kenzie.h5  not found (perhaps not annotated)\n",
      "/home/kenzie_mackinnon/sync/lab-analysis/deeplabcut/dlc-dtr/DTR-M3/DTR-M3-pre-kenzie-2023-10-17/labeled-data/CoM DTR M3 ts3_000021/CollectedData_kenzie.h5  not found (perhaps not annotated)\n",
      "/home/kenzie_mackinnon/sync/lab-analysis/deeplabcut/dlc-dtr/DTR-M3/DTR-M3-pre-kenzie-2023-10-17/labeled-data/CoM DTR M3 ts3_000023/CollectedData_kenzie.h5  not found (perhaps not annotated)\n",
      "/home/kenzie_mackinnon/sync/lab-analysis/deeplabcut/dlc-dtr/DTR-M3/DTR-M3-pre-kenzie-2023-10-17/labeled-data/CoM DTR M3 ts3_000016_labeled/CollectedData_kenzie.h5  not found (perhaps not annotated)\n",
      "/home/kenzie_mackinnon/sync/lab-analysis/deeplabcut/dlc-dtr/DTR-M3/DTR-M3-pre-kenzie-2023-10-17/labeled-data/CoM DTR M3 ts3_000006/CollectedData_kenzie.h5  not found (perhaps not annotated)\n",
      "/home/kenzie_mackinnon/sync/lab-analysis/deeplabcut/dlc-dtr/DTR-M3/DTR-M3-pre-kenzie-2023-10-17/labeled-data/CoM DTR M3 ts3_000003/CollectedData_kenzie.h5  not found (perhaps not annotated)\n",
      "/home/kenzie_mackinnon/sync/lab-analysis/deeplabcut/dlc-dtr/DTR-M3/DTR-M3-pre-kenzie-2023-10-17/labeled-data/CoM DTR M3 ts3_000025/CollectedData_kenzie.h5  not found (perhaps not annotated)\n",
      "/home/kenzie_mackinnon/sync/lab-analysis/deeplabcut/dlc-dtr/DTR-M3/DTR-M3-pre-kenzie-2023-10-17/labeled-data/CoM DTR M3 ts3_000020/CollectedData_kenzie.h5  not found (perhaps not annotated)\n",
      "/home/kenzie_mackinnon/sync/lab-analysis/deeplabcut/dlc-dtr/DTR-M3/DTR-M3-pre-kenzie-2023-10-17/labeled-data/CoM DTR M3 ts3_000022_labeled/CollectedData_kenzie.h5  not found (perhaps not annotated)\n",
      "/home/kenzie_mackinnon/sync/lab-analysis/deeplabcut/dlc-dtr/DTR-M3/DTR-M3-pre-kenzie-2023-10-17/labeled-data/CoM DTR M3 ts3_000019/CollectedData_kenzie.h5  not found (perhaps not annotated)\n",
      "/home/kenzie_mackinnon/sync/lab-analysis/deeplabcut/dlc-dtr/DTR-M3/DTR-M3-pre-kenzie-2023-10-17/labeled-data/CoM DTR M3 ts3_000024/CollectedData_kenzie.h5  not found (perhaps not annotated)\n",
      "/home/kenzie_mackinnon/sync/lab-analysis/deeplabcut/dlc-dtr/DTR-M3/DTR-M3-pre-kenzie-2023-10-17/labeled-data/CoM DTR M3 ts3_000011/CollectedData_kenzie.h5  not found (perhaps not annotated)\n",
      "/home/kenzie_mackinnon/sync/lab-analysis/deeplabcut/dlc-dtr/DTR-M3/DTR-M3-pre-kenzie-2023-10-17/labeled-data/CoM DTR M3 ts3_000001/CollectedData_kenzie.h5  not found (perhaps not annotated)\n",
      "Downloading a ImageNet-pretrained model from http://download.tensorflow.org/models/resnet_v1_50_2016_08_28.tar.gz....\n",
      "The training dataset is successfully created. Use the function 'train_network' to start training. Happy training!\n"
     ]
    },
    {
     "data": {
      "text/plain": [
       "[(0.95,\n",
       "  1,\n",
       "  (array([50, 27, 30, 77, 45, 71, 66, 68, 48, 69, 40, 63,  2, 72, 52, 34,  3,\n",
       "          22,  7, 26, 42, 38, 41, 79, 55, 17, 60, 62,  6, 56, 73,  4, 33, 53,\n",
       "          28, 11, 57, 23, 10, 31, 43, 61,  1, 32, 75, 14, 54, 19, 29, 49, 24,\n",
       "          35, 18,  0, 78, 15,  5, 59, 16, 51, 20, 74,  8, 13, 25, 37, 46, 39,\n",
       "          65, 58, 12, 70, 36, 21,  9, 76]),\n",
       "   array([67, 64, 47, 44])))]"
      ]
     },
     "execution_count": 4,
     "metadata": {},
     "output_type": "execute_result"
    }
   ],
   "source": [
    "deeplabcut.create_training_dataset(config_path, augmenter_type='imgaug')"
   ]
  },
  {
   "cell_type": "code",
   "execution_count": 3,
   "metadata": {},
   "outputs": [
    {
     "ename": "FileNotFoundError",
     "evalue": "Config file is not found. Please make sure that the file exists and/or that you passed the path of the config file correctly!",
     "output_type": "error",
     "traceback": [
      "\u001b[0;31m---------------------------------------------------------------------------\u001b[0m",
      "\u001b[0;31mFileNotFoundError\u001b[0m                         Traceback (most recent call last)",
      "Cell \u001b[0;32mIn[3], line 1\u001b[0m\n\u001b[0;32m----> 1\u001b[0m \u001b[43mdeeplabcut\u001b[49m\u001b[38;5;241;43m.\u001b[39;49m\u001b[43mtrain_network\u001b[49m\u001b[43m(\u001b[49m\u001b[43mconfig_path\u001b[49m\u001b[43m,\u001b[49m\u001b[43m \u001b[49m\u001b[43mdisplayiters\u001b[49m\u001b[38;5;241;43m=\u001b[39;49m\u001b[38;5;241;43m1000\u001b[39;49m\u001b[43m,\u001b[49m\u001b[43m \u001b[49m\u001b[43msaveiters\u001b[49m\u001b[38;5;241;43m=\u001b[39;49m\u001b[38;5;241;43m50000\u001b[39;49m\u001b[43m,\u001b[49m\u001b[43m \u001b[49m\u001b[43mmaxiters\u001b[49m\u001b[38;5;241;43m=\u001b[39;49m\u001b[38;5;241;43m1030000\u001b[39;49m\u001b[43m,\u001b[49m\u001b[43m \u001b[49m\u001b[43mallow_growth\u001b[49m\u001b[38;5;241;43m=\u001b[39;49m\u001b[38;5;28;43;01mTrue\u001b[39;49;00m\u001b[43m)\u001b[49m\n",
      "File \u001b[0;32m~/miniforge/envs/dlcm1/lib/python3.9/site-packages/deeplabcut/pose_estimation_tensorflow/training.py:166\u001b[0m, in \u001b[0;36mtrain_network\u001b[0;34m(config, shuffle, trainingsetindex, max_snapshots_to_keep, displayiters, saveiters, maxiters, allow_growth, gputouse, autotune, keepdeconvweights, modelprefix)\u001b[0m\n\u001b[1;32m    163\u001b[0m start_path \u001b[38;5;241m=\u001b[39m os\u001b[38;5;241m.\u001b[39mgetcwd()\n\u001b[1;32m    165\u001b[0m \u001b[38;5;66;03m# Read file path for pose_config file. >> pass it on\u001b[39;00m\n\u001b[0;32m--> 166\u001b[0m cfg \u001b[38;5;241m=\u001b[39m \u001b[43mauxiliaryfunctions\u001b[49m\u001b[38;5;241;43m.\u001b[39;49m\u001b[43mread_config\u001b[49m\u001b[43m(\u001b[49m\u001b[43mconfig\u001b[49m\u001b[43m)\u001b[49m\n\u001b[1;32m    167\u001b[0m modelfoldername \u001b[38;5;241m=\u001b[39m auxiliaryfunctions\u001b[38;5;241m.\u001b[39mget_model_folder(\n\u001b[1;32m    168\u001b[0m     cfg[\u001b[38;5;124m\"\u001b[39m\u001b[38;5;124mTrainingFraction\u001b[39m\u001b[38;5;124m\"\u001b[39m][trainingsetindex], shuffle, cfg, modelprefix\u001b[38;5;241m=\u001b[39mmodelprefix\n\u001b[1;32m    169\u001b[0m )\n\u001b[1;32m    170\u001b[0m poseconfigfile \u001b[38;5;241m=\u001b[39m Path(\n\u001b[1;32m    171\u001b[0m     os\u001b[38;5;241m.\u001b[39mpath\u001b[38;5;241m.\u001b[39mjoin(\n\u001b[1;32m    172\u001b[0m         cfg[\u001b[38;5;124m\"\u001b[39m\u001b[38;5;124mproject_path\u001b[39m\u001b[38;5;124m\"\u001b[39m], \u001b[38;5;28mstr\u001b[39m(modelfoldername), \u001b[38;5;124m\"\u001b[39m\u001b[38;5;124mtrain\u001b[39m\u001b[38;5;124m\"\u001b[39m, \u001b[38;5;124m\"\u001b[39m\u001b[38;5;124mpose_cfg.yaml\u001b[39m\u001b[38;5;124m\"\u001b[39m\n\u001b[1;32m    173\u001b[0m     )\n\u001b[1;32m    174\u001b[0m )\n",
      "File \u001b[0;32m~/miniforge/envs/dlcm1/lib/python3.9/site-packages/deeplabcut/utils/auxiliaryfunctions.py:207\u001b[0m, in \u001b[0;36mread_config\u001b[0;34m(configname)\u001b[0m\n\u001b[1;32m    204\u001b[0m                 \u001b[38;5;28;01mraise\u001b[39;00m\n\u001b[1;32m    206\u001b[0m \u001b[38;5;28;01melse\u001b[39;00m:\n\u001b[0;32m--> 207\u001b[0m     \u001b[38;5;28;01mraise\u001b[39;00m \u001b[38;5;167;01mFileNotFoundError\u001b[39;00m(\n\u001b[1;32m    208\u001b[0m         \u001b[38;5;124m\"\u001b[39m\u001b[38;5;124mConfig file is not found. Please make sure that the file exists and/or that you passed the path of the config file correctly!\u001b[39m\u001b[38;5;124m\"\u001b[39m\n\u001b[1;32m    209\u001b[0m     )\n\u001b[1;32m    210\u001b[0m \u001b[38;5;28;01mreturn\u001b[39;00m cfg\n",
      "\u001b[0;31mFileNotFoundError\u001b[0m: Config file is not found. Please make sure that the file exists and/or that you passed the path of the config file correctly!"
     ]
    }
   ],
   "source": [
    "deeplabcut.train_network(config_path, displayiters=1000, saveiters=50000, maxiters=1030000, allow_growth=True)"
   ]
  },
  {
   "cell_type": "code",
   "execution_count": 8,
   "metadata": {},
   "outputs": [
    {
     "name": "stdout",
     "output_type": "stream",
     "text": [
      "C:\\Users\\GPU\\Documents\\DeepLabCut\\temp_kenzie\\CoM\\DTR-pre-kenzie-2023-07-21/evaluation-results/  already exists!\n"
     ]
    },
    {
     "name": "stderr",
     "output_type": "stream",
     "text": [
      "Config:\n",
      "{'all_joints': [[0],\n",
      "                [1],\n",
      "                [2],\n",
      "                [3],\n",
      "                [4],\n",
      "                [5],\n",
      "                [6],\n",
      "                [7],\n",
      "                [8],\n",
      "                [9],\n",
      "                [10],\n",
      "                [11],\n",
      "                [12],\n",
      "                [13],\n",
      "                [14],\n",
      "                [15],\n",
      "                [16],\n",
      "                [17],\n",
      "                [18]],\n",
      " 'all_joints_names': ['calib_1',\n",
      "                      'calib_2',\n",
      "                      'calib_3',\n",
      "                      'calib_4',\n",
      "                      'calib_5',\n",
      "                      'calib_6',\n",
      "                      'iliac_crest',\n",
      "                      'hip',\n",
      "                      'knee',\n",
      "                      'ankle',\n",
      "                      'metatarsal',\n",
      "                      'toe',\n",
      "                      'fl_toe',\n",
      "                      'mirror_lhl',\n",
      "                      'mirror_rhl',\n",
      "                      'mirror_lfl',\n",
      "                      'mirror_rfl',\n",
      "                      'mirror_com',\n",
      "                      'mirror'],\n",
      " 'batch_size': 1,\n",
      " 'crop_pad': 0,\n",
      " 'dataset': 'training-datasets\\\\iteration-0\\\\UnaugmentedDataSet_DTR-preJul21\\\\DTR-pre_kenzie95shuffle1.mat',\n",
      " 'dataset_type': 'imgaug',\n",
      " 'deterministic': False,\n",
      " 'fg_fraction': 0.25,\n",
      " 'global_scale': 0.8,\n",
      " 'init_weights': 'C:\\\\ProgramData\\\\Anaconda3\\\\envs\\\\dlc-windowsGPU\\\\lib\\\\site-packages\\\\deeplabcut\\\\pose_estimation_tensorflow\\\\models\\\\pretrained\\\\resnet_v1_50.ckpt',\n",
      " 'intermediate_supervision': False,\n",
      " 'intermediate_supervision_layer': 12,\n",
      " 'location_refinement': True,\n",
      " 'locref_huber_loss': True,\n",
      " 'locref_loss_weight': 1.0,\n",
      " 'locref_stdev': 7.2801,\n",
      " 'log_dir': 'log',\n",
      " 'mean_pixel': [123.68, 116.779, 103.939],\n",
      " 'mirror': False,\n",
      " 'net_type': 'resnet_50',\n",
      " 'num_joints': 19,\n",
      " 'optimizer': 'sgd',\n",
      " 'pairwise_huber_loss': True,\n",
      " 'pairwise_predict': False,\n",
      " 'partaffinityfield_predict': False,\n",
      " 'regularize': False,\n",
      " 'scoremap_dir': 'test',\n",
      " 'shuffle': True,\n",
      " 'snapshot_prefix': 'C:\\\\Users\\\\GPU\\\\Documents\\\\DeepLabCut\\\\temp_kenzie\\\\CoM\\\\DTR-pre-kenzie-2023-07-21\\\\dlc-models\\\\iteration-0\\\\DTR-preJul21-trainset95shuffle1\\\\test\\\\snapshot',\n",
      " 'stride': 8.0,\n",
      " 'weigh_negatives': False,\n",
      " 'weigh_only_present_joints': False,\n",
      " 'weigh_part_predictions': False,\n",
      " 'weight_decay': 0.0001}\n"
     ]
    },
    {
     "name": "stdout",
     "output_type": "stream",
     "text": [
      "C:\\Users\\GPU\\Documents\\DeepLabCut\\temp_kenzie\\CoM\\DTR-pre-kenzie-2023-07-21\\evaluation-results\\iteration-0\\DTR-preJul21-trainset95shuffle1  already exists!\n",
      "Running  DLC_resnet_50_DTR-preJul21shuffle1_1030000  with # of trainingiterations: 1030000\n",
      "This net has already been evaluated!\n",
      "Plotting...(attention scale might be inconsistent in comparison to when data was analyzed; i.e. if you used rescale)\n",
      "C:\\Users\\GPU\\Documents\\DeepLabCut\\temp_kenzie\\CoM\\DTR-pre-kenzie-2023-07-21\\evaluation-results\\iteration-0\\DTR-preJul21-trainset95shuffle1\\LabeledImages_DLC_resnet_50_DTR-preJul21shuffle1_1030000_snapshot-1030000  already exists!\n"
     ]
    },
    {
     "name": "stderr",
     "output_type": "stream",
     "text": [
      "100%|████████████████████████████████████████████████████████████████████████████████████████████| 240/240 [01:34<00:00,  2.55it/s]\n"
     ]
    }
   ],
   "source": [
    "deeplabcut.evaluate_network(config_path,Shuffles=[1], plotting=True)"
   ]
  },
  {
   "cell_type": "code",
   "execution_count": 9,
   "metadata": {},
   "outputs": [
    {
     "name": "stdout",
     "output_type": "stream",
     "text": [
      "C:\\Users\\GPU\\Documents\\DeepLabCut\\temp_kenzie\\CoM\\DTR-pre-kenzie-2023-07-21/evaluation-results/  already exists!\n"
     ]
    },
    {
     "name": "stderr",
     "output_type": "stream",
     "text": [
      "Config:\n",
      "{'all_joints': [[0],\n",
      "                [1],\n",
      "                [2],\n",
      "                [3],\n",
      "                [4],\n",
      "                [5],\n",
      "                [6],\n",
      "                [7],\n",
      "                [8],\n",
      "                [9],\n",
      "                [10],\n",
      "                [11],\n",
      "                [12],\n",
      "                [13],\n",
      "                [14],\n",
      "                [15],\n",
      "                [16],\n",
      "                [17],\n",
      "                [18]],\n",
      " 'all_joints_names': ['calib_1',\n",
      "                      'calib_2',\n",
      "                      'calib_3',\n",
      "                      'calib_4',\n",
      "                      'calib_5',\n",
      "                      'calib_6',\n",
      "                      'iliac_crest',\n",
      "                      'hip',\n",
      "                      'knee',\n",
      "                      'ankle',\n",
      "                      'metatarsal',\n",
      "                      'toe',\n",
      "                      'fl_toe',\n",
      "                      'mirror_lhl',\n",
      "                      'mirror_rhl',\n",
      "                      'mirror_lfl',\n",
      "                      'mirror_rfl',\n",
      "                      'mirror_com',\n",
      "                      'mirror'],\n",
      " 'batch_size': 1,\n",
      " 'crop_pad': 0,\n",
      " 'dataset': 'training-datasets\\\\iteration-0\\\\UnaugmentedDataSet_DTR-preJul21\\\\DTR-pre_kenzie95shuffle1.mat',\n",
      " 'dataset_type': 'imgaug',\n",
      " 'deterministic': False,\n",
      " 'fg_fraction': 0.25,\n",
      " 'global_scale': 0.8,\n",
      " 'init_weights': 'C:\\\\ProgramData\\\\Anaconda3\\\\envs\\\\dlc-windowsGPU\\\\lib\\\\site-packages\\\\deeplabcut\\\\pose_estimation_tensorflow\\\\models\\\\pretrained\\\\resnet_v1_50.ckpt',\n",
      " 'intermediate_supervision': False,\n",
      " 'intermediate_supervision_layer': 12,\n",
      " 'location_refinement': True,\n",
      " 'locref_huber_loss': True,\n",
      " 'locref_loss_weight': 1.0,\n",
      " 'locref_stdev': 7.2801,\n",
      " 'log_dir': 'log',\n",
      " 'mean_pixel': [123.68, 116.779, 103.939],\n",
      " 'mirror': False,\n",
      " 'net_type': 'resnet_50',\n",
      " 'num_joints': 19,\n",
      " 'optimizer': 'sgd',\n",
      " 'pairwise_huber_loss': True,\n",
      " 'pairwise_predict': False,\n",
      " 'partaffinityfield_predict': False,\n",
      " 'regularize': False,\n",
      " 'scoremap_dir': 'test',\n",
      " 'shuffle': True,\n",
      " 'snapshot_prefix': 'C:\\\\Users\\\\GPU\\\\Documents\\\\DeepLabCut\\\\temp_kenzie\\\\CoM\\\\DTR-pre-kenzie-2023-07-21\\\\dlc-models\\\\iteration-0\\\\DTR-preJul21-trainset95shuffle1\\\\test\\\\snapshot',\n",
      " 'stride': 8.0,\n",
      " 'weigh_negatives': False,\n",
      " 'weigh_only_present_joints': False,\n",
      " 'weigh_part_predictions': False,\n",
      " 'weight_decay': 0.0001}\n"
     ]
    },
    {
     "name": "stdout",
     "output_type": "stream",
     "text": [
      "C:\\Users\\GPU\\Documents\\DeepLabCut\\temp_kenzie\\CoM\\DTR-pre-kenzie-2023-07-21\\evaluation-results\\iteration-0\\DTR-preJul21-trainset95shuffle1  already exists!\n",
      "Initializing ResNet\n",
      "Analyzing data...\n"
     ]
    },
    {
     "name": "stderr",
     "output_type": "stream",
     "text": [
      "2it [00:01,  1.74it/s]\n"
     ]
    },
    {
     "name": "stdout",
     "output_type": "stream",
     "text": [
      "Saving plots...\n",
      "C:\\Users\\GPU\\Documents\\DeepLabCut\\temp_kenzie\\CoM\\DTR-pre-kenzie-2023-07-21\\evaluation-results\\iteration-0\\DTR-preJul21-trainset95shuffle1\\maps  already exists!\n"
     ]
    },
    {
     "name": "stderr",
     "output_type": "stream",
     "text": [
      "100%|████████████████████████████████████████████████████████████████████████████████████████████████| 2/2 [00:01<00:00,  1.02it/s]\n"
     ]
    }
   ],
   "source": [
    "deeplabcut.extract_save_all_maps(config_path, shuffle=1, Indices=[0, 5])"
   ]
  },
  {
   "cell_type": "code",
   "execution_count": null,
   "metadata": {},
   "outputs": [
    {
     "name": "stderr",
     "output_type": "stream",
     "text": [
      "Config:\n",
      "{'all_joints': [[0],\n",
      "                [1],\n",
      "                [2],\n",
      "                [3],\n",
      "                [4],\n",
      "                [5],\n",
      "                [6],\n",
      "                [7],\n",
      "                [8],\n",
      "                [9],\n",
      "                [10],\n",
      "                [11],\n",
      "                [12],\n",
      "                [13],\n",
      "                [14],\n",
      "                [15],\n",
      "                [16],\n",
      "                [17],\n",
      "                [18]],\n",
      " 'all_joints_names': ['calib_1',\n",
      "                      'calib_2',\n",
      "                      'calib_3',\n",
      "                      'calib_4',\n",
      "                      'calib_5',\n",
      "                      'calib_6',\n",
      "                      'iliac_crest',\n",
      "                      'hip',\n",
      "                      'knee',\n",
      "                      'ankle',\n",
      "                      'metatarsal',\n",
      "                      'toe',\n",
      "                      'fl_toe',\n",
      "                      'mirror_lhl',\n",
      "                      'mirror_rhl',\n",
      "                      'mirror_lfl',\n",
      "                      'mirror_rfl',\n",
      "                      'mirror_com',\n",
      "                      'mirror'],\n",
      " 'batch_size': 1,\n",
      " 'crop_pad': 0,\n",
      " 'dataset': 'training-datasets\\\\iteration-0\\\\UnaugmentedDataSet_DTR-preJul21\\\\DTR-pre_kenzie95shuffle1.mat',\n",
      " 'dataset_type': 'imgaug',\n",
      " 'deterministic': False,\n",
      " 'fg_fraction': 0.25,\n",
      " 'global_scale': 0.8,\n",
      " 'init_weights': 'C:\\\\ProgramData\\\\Anaconda3\\\\envs\\\\dlc-windowsGPU\\\\lib\\\\site-packages\\\\deeplabcut\\\\pose_estimation_tensorflow\\\\models\\\\pretrained\\\\resnet_v1_50.ckpt',\n",
      " 'intermediate_supervision': False,\n",
      " 'intermediate_supervision_layer': 12,\n",
      " 'location_refinement': True,\n",
      " 'locref_huber_loss': True,\n",
      " 'locref_loss_weight': 1.0,\n",
      " 'locref_stdev': 7.2801,\n",
      " 'log_dir': 'log',\n",
      " 'mean_pixel': [123.68, 116.779, 103.939],\n",
      " 'mirror': False,\n",
      " 'net_type': 'resnet_50',\n",
      " 'num_joints': 19,\n",
      " 'optimizer': 'sgd',\n",
      " 'pairwise_huber_loss': True,\n",
      " 'pairwise_predict': False,\n",
      " 'partaffinityfield_predict': False,\n",
      " 'regularize': False,\n",
      " 'scoremap_dir': 'test',\n",
      " 'shuffle': True,\n",
      " 'snapshot_prefix': 'C:\\\\Users\\\\GPU\\\\Documents\\\\DeepLabCut\\\\temp_kenzie\\\\CoM\\\\DTR-pre-kenzie-2023-07-21\\\\dlc-models\\\\iteration-0\\\\DTR-preJul21-trainset95shuffle1\\\\test\\\\snapshot',\n",
      " 'stride': 8.0,\n",
      " 'weigh_negatives': False,\n",
      " 'weigh_only_present_joints': False,\n",
      " 'weigh_part_predictions': False,\n",
      " 'weight_decay': 0.0001}\n"
     ]
    },
    {
     "name": "stdout",
     "output_type": "stream",
     "text": [
      "Using snapshot-1030000 for model C:\\Users\\GPU\\Documents\\DeepLabCut\\temp_kenzie\\CoM\\DTR-pre-kenzie-2023-07-21\\dlc-models\\iteration-0\\DTR-preJul21-trainset95shuffle1\n",
      "Initializing ResNet\n",
      "Starting to analyze %  C:\\Users\\GPU\\Documents\\DeepLabCut\\temp_kenzie\\CoM\\DTR\\DTR-M1\\DTR M1 20230404_Pre DTX\\CoM DTR M1 ts3_000000.avi\n",
      "C:\\Users\\GPU\\Documents\\DeepLabCut\\temp_kenzie\\CoM\\DTR\\DTR-M1\\DTR M1 20230404_Pre DTX  already exists!\n",
      "Starting to analyze %  C:\\Users\\GPU\\Documents\\DeepLabCut\\temp_kenzie\\CoM\\DTR\\DTR-M1\\DTR M1 20230404_Pre DTX\\CoM DTR M1 ts3_000001.avi\n",
      "C:\\Users\\GPU\\Documents\\DeepLabCut\\temp_kenzie\\CoM\\DTR\\DTR-M1\\DTR M1 20230404_Pre DTX  already exists!\n",
      "Starting to analyze %  C:\\Users\\GPU\\Documents\\DeepLabCut\\temp_kenzie\\CoM\\DTR\\DTR-M1\\DTR M1 20230404_Pre DTX\\CoM DTR M1 ts3_000002.avi\n",
      "C:\\Users\\GPU\\Documents\\DeepLabCut\\temp_kenzie\\CoM\\DTR\\DTR-M1\\DTR M1 20230404_Pre DTX  already exists!\n",
      "Starting to analyze %  C:\\Users\\GPU\\Documents\\DeepLabCut\\temp_kenzie\\CoM\\DTR\\DTR-M1\\DTR M1 20230404_Pre DTX\\CoM DTR M1 ts3_000003.avi\n",
      "C:\\Users\\GPU\\Documents\\DeepLabCut\\temp_kenzie\\CoM\\DTR\\DTR-M1\\DTR M1 20230404_Pre DTX  already exists!\n",
      "Starting to analyze %  C:\\Users\\GPU\\Documents\\DeepLabCut\\temp_kenzie\\CoM\\DTR\\DTR-M1\\DTR M1 20230404_Pre DTX\\CoM DTR M1 ts3_000004.avi\n",
      "C:\\Users\\GPU\\Documents\\DeepLabCut\\temp_kenzie\\CoM\\DTR\\DTR-M1\\DTR M1 20230404_Pre DTX  already exists!\n",
      "Starting to analyze %  C:\\Users\\GPU\\Documents\\DeepLabCut\\temp_kenzie\\CoM\\DTR\\DTR-M1\\DTR M1 20230404_Pre DTX\\CoM DTR M1 ts3_000005.avi\n",
      "C:\\Users\\GPU\\Documents\\DeepLabCut\\temp_kenzie\\CoM\\DTR\\DTR-M1\\DTR M1 20230404_Pre DTX  already exists!\n",
      "Starting to analyze %  C:\\Users\\GPU\\Documents\\DeepLabCut\\temp_kenzie\\CoM\\DTR\\DTR-M1\\DTR M1 20230404_Pre DTX\\CoM DTR M1 ts3_000006.avi\n",
      "C:\\Users\\GPU\\Documents\\DeepLabCut\\temp_kenzie\\CoM\\DTR\\DTR-M1\\DTR M1 20230404_Pre DTX  already exists!\n",
      "Starting to analyze %  C:\\Users\\GPU\\Documents\\DeepLabCut\\temp_kenzie\\CoM\\DTR\\DTR-M1\\DTR M1 20230404_Pre DTX\\CoM DTR M1 ts3_000007.avi\n",
      "C:\\Users\\GPU\\Documents\\DeepLabCut\\temp_kenzie\\CoM\\DTR\\DTR-M1\\DTR M1 20230404_Pre DTX  already exists!\n",
      "Starting to analyze %  C:\\Users\\GPU\\Documents\\DeepLabCut\\temp_kenzie\\CoM\\DTR\\DTR-M1\\DTR M1 20230404_Pre DTX\\CoM DTR M1 ts3_000008.avi\n",
      "C:\\Users\\GPU\\Documents\\DeepLabCut\\temp_kenzie\\CoM\\DTR\\DTR-M1\\DTR M1 20230404_Pre DTX  already exists!\n",
      "Starting to analyze %  C:\\Users\\GPU\\Documents\\DeepLabCut\\temp_kenzie\\CoM\\DTR\\DTR-M1\\DTR M1 20230404_Pre DTX\\CoM DTR M1 ts3_000009.avi\n",
      "C:\\Users\\GPU\\Documents\\DeepLabCut\\temp_kenzie\\CoM\\DTR\\DTR-M1\\DTR M1 20230404_Pre DTX  already exists!\n",
      "Starting to analyze %  C:\\Users\\GPU\\Documents\\DeepLabCut\\temp_kenzie\\CoM\\DTR\\DTR-M1\\DTR M1 20230404_Pre DTX\\CoM DTR M1 ts3_000010.avi\n",
      "C:\\Users\\GPU\\Documents\\DeepLabCut\\temp_kenzie\\CoM\\DTR\\DTR-M1\\DTR M1 20230404_Pre DTX  already exists!\n",
      "Starting to analyze %  C:\\Users\\GPU\\Documents\\DeepLabCut\\temp_kenzie\\CoM\\DTR\\DTR-M1\\DTR M1 20230404_Pre DTX\\CoM DTR M1 ts3_000011.avi\n",
      "C:\\Users\\GPU\\Documents\\DeepLabCut\\temp_kenzie\\CoM\\DTR\\DTR-M1\\DTR M1 20230404_Pre DTX  already exists!\n",
      "Starting to analyze %  C:\\Users\\GPU\\Documents\\DeepLabCut\\temp_kenzie\\CoM\\DTR\\DTR-M2\\DTR M2 20230405_Pre DTX\\CoM DTR M2 ts3_000000.avi\n",
      "C:\\Users\\GPU\\Documents\\DeepLabCut\\temp_kenzie\\CoM\\DTR\\DTR-M2\\DTR M2 20230405_Pre DTX  already exists!\n",
      "Starting to analyze %  C:\\Users\\GPU\\Documents\\DeepLabCut\\temp_kenzie\\CoM\\DTR\\DTR-M2\\DTR M2 20230405_Pre DTX\\CoM DTR M2 ts3_000001.avi\n",
      "C:\\Users\\GPU\\Documents\\DeepLabCut\\temp_kenzie\\CoM\\DTR\\DTR-M2\\DTR M2 20230405_Pre DTX  already exists!\n",
      "Starting to analyze %  C:\\Users\\GPU\\Documents\\DeepLabCut\\temp_kenzie\\CoM\\DTR\\DTR-M2\\DTR M2 20230405_Pre DTX\\CoM DTR M2 ts3_000002.avi\n",
      "C:\\Users\\GPU\\Documents\\DeepLabCut\\temp_kenzie\\CoM\\DTR\\DTR-M2\\DTR M2 20230405_Pre DTX  already exists!\n",
      "Starting to analyze %  C:\\Users\\GPU\\Documents\\DeepLabCut\\temp_kenzie\\CoM\\DTR\\DTR-M2\\DTR M2 20230405_Pre DTX\\CoM DTR M2 ts3_000003.avi\n",
      "C:\\Users\\GPU\\Documents\\DeepLabCut\\temp_kenzie\\CoM\\DTR\\DTR-M2\\DTR M2 20230405_Pre DTX  already exists!\n",
      "Starting to analyze %  C:\\Users\\GPU\\Documents\\DeepLabCut\\temp_kenzie\\CoM\\DTR\\DTR-M2\\DTR M2 20230405_Pre DTX\\CoM DTR M2 ts3_000004.avi\n",
      "C:\\Users\\GPU\\Documents\\DeepLabCut\\temp_kenzie\\CoM\\DTR\\DTR-M2\\DTR M2 20230405_Pre DTX  already exists!\n",
      "Starting to analyze %  C:\\Users\\GPU\\Documents\\DeepLabCut\\temp_kenzie\\CoM\\DTR\\DTR-M2\\DTR M2 20230405_Pre DTX\\CoM DTR M2 ts3_000005.avi\n",
      "C:\\Users\\GPU\\Documents\\DeepLabCut\\temp_kenzie\\CoM\\DTR\\DTR-M2\\DTR M2 20230405_Pre DTX  already exists!\n",
      "Starting to analyze %  C:\\Users\\GPU\\Documents\\DeepLabCut\\temp_kenzie\\CoM\\DTR\\DTR-M2\\DTR M2 20230405_Pre DTX\\CoM DTR M2 ts3_000006.avi\n",
      "C:\\Users\\GPU\\Documents\\DeepLabCut\\temp_kenzie\\CoM\\DTR\\DTR-M2\\DTR M2 20230405_Pre DTX  already exists!\n",
      "Starting to analyze %  C:\\Users\\GPU\\Documents\\DeepLabCut\\temp_kenzie\\CoM\\DTR\\DTR-M2\\DTR M2 20230405_Pre DTX\\CoM DTR M2 ts3_000007.avi\n",
      "C:\\Users\\GPU\\Documents\\DeepLabCut\\temp_kenzie\\CoM\\DTR\\DTR-M2\\DTR M2 20230405_Pre DTX  already exists!\n",
      "Starting to analyze %  C:\\Users\\GPU\\Documents\\DeepLabCut\\temp_kenzie\\CoM\\DTR\\DTR-M2\\DTR M2 20230405_Pre DTX\\CoM DTR M2 ts3_000008.avi\n",
      "C:\\Users\\GPU\\Documents\\DeepLabCut\\temp_kenzie\\CoM\\DTR\\DTR-M2\\DTR M2 20230405_Pre DTX  already exists!\n",
      "Starting to analyze %  C:\\Users\\GPU\\Documents\\DeepLabCut\\temp_kenzie\\CoM\\DTR\\DTR-M2\\DTR M2 20230405_Pre DTX\\CoM DTR M2 ts3_000009.avi\n",
      "C:\\Users\\GPU\\Documents\\DeepLabCut\\temp_kenzie\\CoM\\DTR\\DTR-M2\\DTR M2 20230405_Pre DTX  already exists!\n",
      "Starting to analyze %  C:\\Users\\GPU\\Documents\\DeepLabCut\\temp_kenzie\\CoM\\DTR\\DTR-M2\\DTR M2 20230405_Pre DTX\\CoM DTR M2 ts3_000010.avi\n",
      "C:\\Users\\GPU\\Documents\\DeepLabCut\\temp_kenzie\\CoM\\DTR\\DTR-M2\\DTR M2 20230405_Pre DTX  already exists!\n",
      "Starting to analyze %  C:\\Users\\GPU\\Documents\\DeepLabCut\\temp_kenzie\\CoM\\DTR\\DTR-M2\\DTR M2 20230405_Pre DTX\\CoM DTR M2 ts3_000011.avi\n",
      "C:\\Users\\GPU\\Documents\\DeepLabCut\\temp_kenzie\\CoM\\DTR\\DTR-M2\\DTR M2 20230405_Pre DTX  already exists!\n",
      "Starting to analyze %  C:\\Users\\GPU\\Documents\\DeepLabCut\\temp_kenzie\\CoM\\DTR\\DTR-M2\\DTR M2 20230405_Pre DTX\\CoM DTR M2 ts3_000012.avi\n",
      "C:\\Users\\GPU\\Documents\\DeepLabCut\\temp_kenzie\\CoM\\DTR\\DTR-M2\\DTR M2 20230405_Pre DTX  already exists!\n",
      "Starting to analyze %  C:\\Users\\GPU\\Documents\\DeepLabCut\\temp_kenzie\\CoM\\DTR\\DTR-M2\\DTR M2 20230405_Pre DTX\\CoM DTR M2 ts3_000013.avi\n",
      "C:\\Users\\GPU\\Documents\\DeepLabCut\\temp_kenzie\\CoM\\DTR\\DTR-M2\\DTR M2 20230405_Pre DTX  already exists!\n",
      "Starting to analyze %  C:\\Users\\GPU\\Documents\\DeepLabCut\\temp_kenzie\\CoM\\DTR\\DTR-M2\\DTR M2 20230405_Pre DTX\\CoM DTR M2 ts3_000014.avi\n",
      "C:\\Users\\GPU\\Documents\\DeepLabCut\\temp_kenzie\\CoM\\DTR\\DTR-M2\\DTR M2 20230405_Pre DTX  already exists!\n",
      "Starting to analyze %  C:\\Users\\GPU\\Documents\\DeepLabCut\\temp_kenzie\\CoM\\DTR\\DTR-M2\\DTR M2 20230405_Pre DTX\\CoM DTR M2 ts3_000015.avi\n",
      "C:\\Users\\GPU\\Documents\\DeepLabCut\\temp_kenzie\\CoM\\DTR\\DTR-M2\\DTR M2 20230405_Pre DTX  already exists!\n",
      "Starting to analyze %  C:\\Users\\GPU\\Documents\\DeepLabCut\\temp_kenzie\\CoM\\DTR\\DTR-M2\\DTR M2 20230405_Pre DTX\\CoM DTR M2 ts3_000016.avi\n",
      "C:\\Users\\GPU\\Documents\\DeepLabCut\\temp_kenzie\\CoM\\DTR\\DTR-M2\\DTR M2 20230405_Pre DTX  already exists!\n",
      "Starting to analyze %  C:\\Users\\GPU\\Documents\\DeepLabCut\\temp_kenzie\\CoM\\DTR\\DTR-M2\\DTR M2 20230405_Pre DTX\\CoM DTR M2 ts3_000017.avi\n",
      "C:\\Users\\GPU\\Documents\\DeepLabCut\\temp_kenzie\\CoM\\DTR\\DTR-M2\\DTR M2 20230405_Pre DTX  already exists!\n",
      "Starting to analyze %  C:\\Users\\GPU\\Documents\\DeepLabCut\\temp_kenzie\\CoM\\DTR\\DTR-M2\\DTR M2 20230405_Pre DTX\\CoM DTR M2 ts3_000018.avi\n",
      "C:\\Users\\GPU\\Documents\\DeepLabCut\\temp_kenzie\\CoM\\DTR\\DTR-M2\\DTR M2 20230405_Pre DTX  already exists!\n",
      "Starting to analyze %  C:\\Users\\GPU\\Documents\\DeepLabCut\\temp_kenzie\\CoM\\DTR\\DTR-M2\\DTR M2 20230405_Pre DTX\\CoM DTR M2 ts3_000019.avi\n",
      "C:\\Users\\GPU\\Documents\\DeepLabCut\\temp_kenzie\\CoM\\DTR\\DTR-M2\\DTR M2 20230405_Pre DTX  already exists!\n",
      "Starting to analyze %  C:\\Users\\GPU\\Documents\\DeepLabCut\\temp_kenzie\\CoM\\DTR\\DTR-M2\\DTR M2 20230405_Pre DTX\\CoM DTR M2 ts3_000020.avi\n",
      "C:\\Users\\GPU\\Documents\\DeepLabCut\\temp_kenzie\\CoM\\DTR\\DTR-M2\\DTR M2 20230405_Pre DTX  already exists!\n",
      "Starting to analyze %  C:\\Users\\GPU\\Documents\\DeepLabCut\\temp_kenzie\\CoM\\DTR\\DTR-M2\\DTR M2 20230405_Pre DTX\\CoM DTR M2 ts3_000021.avi\n",
      "C:\\Users\\GPU\\Documents\\DeepLabCut\\temp_kenzie\\CoM\\DTR\\DTR-M2\\DTR M2 20230405_Pre DTX  already exists!\n",
      "Starting to analyze %  C:\\Users\\GPU\\Documents\\DeepLabCut\\temp_kenzie\\CoM\\DTR\\DTR-M2\\DTR M2 20230405_Pre DTX\\CoM DTR M2 ts3_000022.avi\n",
      "C:\\Users\\GPU\\Documents\\DeepLabCut\\temp_kenzie\\CoM\\DTR\\DTR-M2\\DTR M2 20230405_Pre DTX  already exists!\n",
      "Starting to analyze %  C:\\Users\\GPU\\Documents\\DeepLabCut\\temp_kenzie\\CoM\\DTR\\DTR-M2\\DTR M2 20230405_Pre DTX\\CoM DTR M2 ts3_000023.avi\n",
      "C:\\Users\\GPU\\Documents\\DeepLabCut\\temp_kenzie\\CoM\\DTR\\DTR-M2\\DTR M2 20230405_Pre DTX  already exists!\n",
      "Starting to analyze %  C:\\Users\\GPU\\Documents\\DeepLabCut\\temp_kenzie\\CoM\\DTR\\DTR-M3\\DTR M3 20230411_Pre DTX\\CoM DTR M3 ts3_000000.avi\n",
      "C:\\Users\\GPU\\Documents\\DeepLabCut\\temp_kenzie\\CoM\\DTR\\DTR-M3\\DTR M3 20230411_Pre DTX  already exists!\n",
      "Starting to analyze %  C:\\Users\\GPU\\Documents\\DeepLabCut\\temp_kenzie\\CoM\\DTR\\DTR-M3\\DTR M3 20230411_Pre DTX\\CoM DTR M3 ts3_000001.avi\n",
      "C:\\Users\\GPU\\Documents\\DeepLabCut\\temp_kenzie\\CoM\\DTR\\DTR-M3\\DTR M3 20230411_Pre DTX  already exists!\n",
      "Starting to analyze %  C:\\Users\\GPU\\Documents\\DeepLabCut\\temp_kenzie\\CoM\\DTR\\DTR-M3\\DTR M3 20230411_Pre DTX\\CoM DTR M3 ts3_000002.avi\n",
      "C:\\Users\\GPU\\Documents\\DeepLabCut\\temp_kenzie\\CoM\\DTR\\DTR-M3\\DTR M3 20230411_Pre DTX  already exists!\n",
      "Starting to analyze %  C:\\Users\\GPU\\Documents\\DeepLabCut\\temp_kenzie\\CoM\\DTR\\DTR-M3\\DTR M3 20230411_Pre DTX\\CoM DTR M3 ts3_000003.avi\n",
      "C:\\Users\\GPU\\Documents\\DeepLabCut\\temp_kenzie\\CoM\\DTR\\DTR-M3\\DTR M3 20230411_Pre DTX  already exists!\n",
      "Starting to analyze %  C:\\Users\\GPU\\Documents\\DeepLabCut\\temp_kenzie\\CoM\\DTR\\DTR-M3\\DTR M3 20230411_Pre DTX\\CoM DTR M3 ts3_000004.avi\n",
      "C:\\Users\\GPU\\Documents\\DeepLabCut\\temp_kenzie\\CoM\\DTR\\DTR-M3\\DTR M3 20230411_Pre DTX  already exists!\n",
      "Starting to analyze %  C:\\Users\\GPU\\Documents\\DeepLabCut\\temp_kenzie\\CoM\\DTR\\DTR-M3\\DTR M3 20230411_Pre DTX\\CoM DTR M3 ts3_000005.avi\n",
      "C:\\Users\\GPU\\Documents\\DeepLabCut\\temp_kenzie\\CoM\\DTR\\DTR-M3\\DTR M3 20230411_Pre DTX  already exists!\n",
      "Starting to analyze %  C:\\Users\\GPU\\Documents\\DeepLabCut\\temp_kenzie\\CoM\\DTR\\DTR-M3\\DTR M3 20230411_Pre DTX\\CoM DTR M3 ts3_000006.avi\n",
      "C:\\Users\\GPU\\Documents\\DeepLabCut\\temp_kenzie\\CoM\\DTR\\DTR-M3\\DTR M3 20230411_Pre DTX  already exists!\n",
      "Starting to analyze %  C:\\Users\\GPU\\Documents\\DeepLabCut\\temp_kenzie\\CoM\\DTR\\DTR-M3\\DTR M3 20230411_Pre DTX\\CoM DTR M3 ts3_000007.avi\n",
      "C:\\Users\\GPU\\Documents\\DeepLabCut\\temp_kenzie\\CoM\\DTR\\DTR-M3\\DTR M3 20230411_Pre DTX  already exists!\n",
      "Starting to analyze %  C:\\Users\\GPU\\Documents\\DeepLabCut\\temp_kenzie\\CoM\\DTR\\DTR-M3\\DTR M3 20230411_Pre DTX\\CoM DTR M3 ts3_000008.avi\n",
      "C:\\Users\\GPU\\Documents\\DeepLabCut\\temp_kenzie\\CoM\\DTR\\DTR-M3\\DTR M3 20230411_Pre DTX  already exists!\n",
      "Starting to analyze %  C:\\Users\\GPU\\Documents\\DeepLabCut\\temp_kenzie\\CoM\\DTR\\DTR-M3\\DTR M3 20230411_Pre DTX\\CoM DTR M3 ts3_000009.avi\n",
      "C:\\Users\\GPU\\Documents\\DeepLabCut\\temp_kenzie\\CoM\\DTR\\DTR-M3\\DTR M3 20230411_Pre DTX  already exists!\n",
      "Starting to analyze %  C:\\Users\\GPU\\Documents\\DeepLabCut\\temp_kenzie\\CoM\\DTR\\DTR-M3\\DTR M3 20230411_Pre DTX\\CoM DTR M3 ts3_000010.avi\n",
      "C:\\Users\\GPU\\Documents\\DeepLabCut\\temp_kenzie\\CoM\\DTR\\DTR-M3\\DTR M3 20230411_Pre DTX  already exists!\n",
      "Starting to analyze %  C:\\Users\\GPU\\Documents\\DeepLabCut\\temp_kenzie\\CoM\\DTR\\DTR-M3\\DTR M3 20230411_Pre DTX\\CoM DTR M3 ts3_000011.avi\n",
      "C:\\Users\\GPU\\Documents\\DeepLabCut\\temp_kenzie\\CoM\\DTR\\DTR-M3\\DTR M3 20230411_Pre DTX  already exists!\n",
      "Starting to analyze %  C:\\Users\\GPU\\Documents\\DeepLabCut\\temp_kenzie\\CoM\\DTR\\DTR-M3\\DTR M3 20230411_Pre DTX\\CoM DTR M3 ts3_000012.avi\n",
      "C:\\Users\\GPU\\Documents\\DeepLabCut\\temp_kenzie\\CoM\\DTR\\DTR-M3\\DTR M3 20230411_Pre DTX  already exists!\n",
      "Starting to analyze %  C:\\Users\\GPU\\Documents\\DeepLabCut\\temp_kenzie\\CoM\\DTR\\DTR-M3\\DTR M3 20230411_Pre DTX\\CoM DTR M3 ts3_000013.avi\n",
      "C:\\Users\\GPU\\Documents\\DeepLabCut\\temp_kenzie\\CoM\\DTR\\DTR-M3\\DTR M3 20230411_Pre DTX  already exists!\n",
      "Starting to analyze %  C:\\Users\\GPU\\Documents\\DeepLabCut\\temp_kenzie\\CoM\\DTR\\DTR-M3\\DTR M3 20230411_Pre DTX\\CoM DTR M3 ts3_000014.avi\n",
      "C:\\Users\\GPU\\Documents\\DeepLabCut\\temp_kenzie\\CoM\\DTR\\DTR-M3\\DTR M3 20230411_Pre DTX  already exists!\n",
      "Starting to analyze %  C:\\Users\\GPU\\Documents\\DeepLabCut\\temp_kenzie\\CoM\\DTR\\DTR-M3\\DTR M3 20230411_Pre DTX\\CoM DTR M3 ts3_000015.avi\n",
      "C:\\Users\\GPU\\Documents\\DeepLabCut\\temp_kenzie\\CoM\\DTR\\DTR-M3\\DTR M3 20230411_Pre DTX  already exists!\n",
      "Starting to analyze %  C:\\Users\\GPU\\Documents\\DeepLabCut\\temp_kenzie\\CoM\\DTR\\DTR-M3\\DTR M3 20230411_Pre DTX\\CoM DTR M3 ts3_000016.avi\n",
      "C:\\Users\\GPU\\Documents\\DeepLabCut\\temp_kenzie\\CoM\\DTR\\DTR-M3\\DTR M3 20230411_Pre DTX  already exists!\n",
      "Starting to analyze %  C:\\Users\\GPU\\Documents\\DeepLabCut\\temp_kenzie\\CoM\\DTR\\DTR-M3\\DTR M3 20230411_Pre DTX\\CoM DTR M3 ts3_000017.avi\n",
      "C:\\Users\\GPU\\Documents\\DeepLabCut\\temp_kenzie\\CoM\\DTR\\DTR-M3\\DTR M3 20230411_Pre DTX  already exists!\n",
      "Starting to analyze %  C:\\Users\\GPU\\Documents\\DeepLabCut\\temp_kenzie\\CoM\\DTR\\DTR-M3\\DTR M3 20230411_Pre DTX\\CoM DTR M3 ts3_000018.avi\n",
      "C:\\Users\\GPU\\Documents\\DeepLabCut\\temp_kenzie\\CoM\\DTR\\DTR-M3\\DTR M3 20230411_Pre DTX  already exists!\n",
      "Starting to analyze %  C:\\Users\\GPU\\Documents\\DeepLabCut\\temp_kenzie\\CoM\\DTR\\DTR-M3\\DTR M3 20230411_Pre DTX\\CoM DTR M3 ts3_000019.avi\n",
      "C:\\Users\\GPU\\Documents\\DeepLabCut\\temp_kenzie\\CoM\\DTR\\DTR-M3\\DTR M3 20230411_Pre DTX  already exists!\n",
      "Starting to analyze %  C:\\Users\\GPU\\Documents\\DeepLabCut\\temp_kenzie\\CoM\\DTR\\DTR-M3\\DTR M3 20230411_Pre DTX\\CoM DTR M3 ts3_000020.avi\n",
      "C:\\Users\\GPU\\Documents\\DeepLabCut\\temp_kenzie\\CoM\\DTR\\DTR-M3\\DTR M3 20230411_Pre DTX  already exists!\n",
      "Starting to analyze %  C:\\Users\\GPU\\Documents\\DeepLabCut\\temp_kenzie\\CoM\\DTR\\DTR-M3\\DTR M3 20230411_Pre DTX\\CoM DTR M3 ts3_000021.avi\n",
      "C:\\Users\\GPU\\Documents\\DeepLabCut\\temp_kenzie\\CoM\\DTR\\DTR-M3\\DTR M3 20230411_Pre DTX  already exists!\n",
      "Starting to analyze %  C:\\Users\\GPU\\Documents\\DeepLabCut\\temp_kenzie\\CoM\\DTR\\DTR-M3\\DTR M3 20230411_Pre DTX\\CoM DTR M3 ts3_000022.avi\n",
      "C:\\Users\\GPU\\Documents\\DeepLabCut\\temp_kenzie\\CoM\\DTR\\DTR-M3\\DTR M3 20230411_Pre DTX  already exists!\n",
      "Starting to analyze %  C:\\Users\\GPU\\Documents\\DeepLabCut\\temp_kenzie\\CoM\\DTR\\DTR-M3\\DTR M3 20230411_Pre DTX\\CoM DTR M3 ts3_000023.avi\n",
      "C:\\Users\\GPU\\Documents\\DeepLabCut\\temp_kenzie\\CoM\\DTR\\DTR-M3\\DTR M3 20230411_Pre DTX  already exists!\n",
      "Starting to analyze %  C:\\Users\\GPU\\Documents\\DeepLabCut\\temp_kenzie\\CoM\\DTR\\DTR-M3\\DTR M3 20230411_Pre DTX\\CoM DTR M3 ts3_000024.avi\n",
      "C:\\Users\\GPU\\Documents\\DeepLabCut\\temp_kenzie\\CoM\\DTR\\DTR-M3\\DTR M3 20230411_Pre DTX  already exists!\n",
      "Starting to analyze %  C:\\Users\\GPU\\Documents\\DeepLabCut\\temp_kenzie\\CoM\\DTR\\DTR-M3\\DTR M3 20230411_Pre DTX\\CoM DTR M3 ts3_000025.avi\n",
      "C:\\Users\\GPU\\Documents\\DeepLabCut\\temp_kenzie\\CoM\\DTR\\DTR-M3\\DTR M3 20230411_Pre DTX  already exists!\n",
      "Starting to analyze %  C:\\Users\\GPU\\Documents\\DeepLabCut\\temp_kenzie\\CoM\\DTR\\DTR-M5\\DTR-M5-20230404_pre-DTX\\CoM DTR M5 ts3_000000.avi\n",
      "C:\\Users\\GPU\\Documents\\DeepLabCut\\temp_kenzie\\CoM\\DTR\\DTR-M5\\DTR-M5-20230404_pre-DTX  already exists!\n",
      "Starting to analyze %  C:\\Users\\GPU\\Documents\\DeepLabCut\\temp_kenzie\\CoM\\DTR\\DTR-M5\\DTR-M5-20230404_pre-DTX\\CoM DTR M5 ts3_000001.avi\n",
      "C:\\Users\\GPU\\Documents\\DeepLabCut\\temp_kenzie\\CoM\\DTR\\DTR-M5\\DTR-M5-20230404_pre-DTX  already exists!\n",
      "Starting to analyze %  C:\\Users\\GPU\\Documents\\DeepLabCut\\temp_kenzie\\CoM\\DTR\\DTR-M5\\DTR-M5-20230404_pre-DTX\\CoM DTR M5 ts3_000002.avi\n",
      "C:\\Users\\GPU\\Documents\\DeepLabCut\\temp_kenzie\\CoM\\DTR\\DTR-M5\\DTR-M5-20230404_pre-DTX  already exists!\n",
      "Starting to analyze %  C:\\Users\\GPU\\Documents\\DeepLabCut\\temp_kenzie\\CoM\\DTR\\DTR-M5\\DTR-M5-20230404_pre-DTX\\CoM DTR M5 ts3_000003.avi\n",
      "C:\\Users\\GPU\\Documents\\DeepLabCut\\temp_kenzie\\CoM\\DTR\\DTR-M5\\DTR-M5-20230404_pre-DTX  already exists!\n",
      "Starting to analyze %  C:\\Users\\GPU\\Documents\\DeepLabCut\\temp_kenzie\\CoM\\DTR\\DTR-M5\\DTR-M5-20230404_pre-DTX\\CoM DTR M5 ts3_000004.avi\n",
      "C:\\Users\\GPU\\Documents\\DeepLabCut\\temp_kenzie\\CoM\\DTR\\DTR-M5\\DTR-M5-20230404_pre-DTX  already exists!\n",
      "Starting to analyze %  C:\\Users\\GPU\\Documents\\DeepLabCut\\temp_kenzie\\CoM\\DTR\\DTR-M5\\DTR-M5-20230404_pre-DTX\\CoM DTR M5 ts3_000005.avi\n",
      "C:\\Users\\GPU\\Documents\\DeepLabCut\\temp_kenzie\\CoM\\DTR\\DTR-M5\\DTR-M5-20230404_pre-DTX  already exists!\n"
     ]
    },
    {
     "name": "stdout",
     "output_type": "stream",
     "text": [
      "Starting to analyze %  C:\\Users\\GPU\\Documents\\DeepLabCut\\temp_kenzie\\CoM\\DTR\\DTR-M5\\DTR-M5-20230404_pre-DTX\\CoM DTR M5 ts3_000006.avi\n",
      "C:\\Users\\GPU\\Documents\\DeepLabCut\\temp_kenzie\\CoM\\DTR\\DTR-M5\\DTR-M5-20230404_pre-DTX  already exists!\n",
      "Starting to analyze %  C:\\Users\\GPU\\Documents\\DeepLabCut\\temp_kenzie\\CoM\\DTR\\DTR-M5\\DTR-M5-20230404_pre-DTX\\CoM DTR M5 ts3_000007.avi\n",
      "C:\\Users\\GPU\\Documents\\DeepLabCut\\temp_kenzie\\CoM\\DTR\\DTR-M5\\DTR-M5-20230404_pre-DTX  already exists!\n",
      "Starting to analyze %  C:\\Users\\GPU\\Documents\\DeepLabCut\\temp_kenzie\\CoM\\DTR\\DTR-M5\\DTR-M5-20230404_pre-DTX\\CoM DTR M5 ts3_000008.avi\n",
      "C:\\Users\\GPU\\Documents\\DeepLabCut\\temp_kenzie\\CoM\\DTR\\DTR-M5\\DTR-M5-20230404_pre-DTX  already exists!\n",
      "Starting to analyze %  C:\\Users\\GPU\\Documents\\DeepLabCut\\temp_kenzie\\CoM\\DTR\\DTR-M5\\DTR-M5-20230404_pre-DTX\\CoM DTR M5 ts3_000009.avi\n",
      "C:\\Users\\GPU\\Documents\\DeepLabCut\\temp_kenzie\\CoM\\DTR\\DTR-M5\\DTR-M5-20230404_pre-DTX  already exists!\n",
      "Starting to analyze %  C:\\Users\\GPU\\Documents\\DeepLabCut\\temp_kenzie\\CoM\\DTR\\DTR-M5\\DTR-M5-20230404_pre-DTX\\CoM DTR M5 ts3_000010.avi\n",
      "C:\\Users\\GPU\\Documents\\DeepLabCut\\temp_kenzie\\CoM\\DTR\\DTR-M5\\DTR-M5-20230404_pre-DTX  already exists!\n",
      "Starting to analyze %  C:\\Users\\GPU\\Documents\\DeepLabCut\\temp_kenzie\\CoM\\DTR\\DTR-M5\\DTR-M5-20230404_pre-DTX\\CoM DTR M5 ts3_000011.avi\n",
      "C:\\Users\\GPU\\Documents\\DeepLabCut\\temp_kenzie\\CoM\\DTR\\DTR-M5\\DTR-M5-20230404_pre-DTX  already exists!\n",
      "Starting to analyze %  C:\\Users\\GPU\\Documents\\DeepLabCut\\temp_kenzie\\CoM\\DTR\\DTR-M5\\DTR-M5-20230404_pre-DTX\\CoM DTR M5 ts3_000012.avi\n",
      "C:\\Users\\GPU\\Documents\\DeepLabCut\\temp_kenzie\\CoM\\DTR\\DTR-M5\\DTR-M5-20230404_pre-DTX  already exists!\n",
      "Starting to analyze %  C:\\Users\\GPU\\Documents\\DeepLabCut\\temp_kenzie\\CoM\\DTR\\DTR-M5\\DTR-M5-20230404_pre-DTX\\CoM DTR M5 ts3_000013.avi\n",
      "C:\\Users\\GPU\\Documents\\DeepLabCut\\temp_kenzie\\CoM\\DTR\\DTR-M5\\DTR-M5-20230404_pre-DTX  already exists!\n",
      "Starting to analyze %  C:\\Users\\GPU\\Documents\\DeepLabCut\\temp_kenzie\\CoM\\DTR\\DTR-M5\\DTR-M5-20230404_pre-DTX\\CoM DTR M5 ts3_000014.avi\n",
      "C:\\Users\\GPU\\Documents\\DeepLabCut\\temp_kenzie\\CoM\\DTR\\DTR-M5\\DTR-M5-20230404_pre-DTX  already exists!\n",
      "Starting to analyze %  C:\\Users\\GPU\\Documents\\DeepLabCut\\temp_kenzie\\CoM\\DTR\\DTR-M5\\DTR-M5-20230404_pre-DTX\\CoM DTR M5 ts3_000015.avi\n",
      "C:\\Users\\GPU\\Documents\\DeepLabCut\\temp_kenzie\\CoM\\DTR\\DTR-M5\\DTR-M5-20230404_pre-DTX  already exists!\n",
      "Starting to analyze %  C:\\Users\\GPU\\Documents\\DeepLabCut\\temp_kenzie\\CoM\\DTR\\DTR-M5\\DTR-M5-20230404_pre-DTX\\CoM DTR M5 ts3_000016.avi\n",
      "C:\\Users\\GPU\\Documents\\DeepLabCut\\temp_kenzie\\CoM\\DTR\\DTR-M5\\DTR-M5-20230404_pre-DTX  already exists!\n",
      "Starting to analyze %  C:\\Users\\GPU\\Documents\\DeepLabCut\\temp_kenzie\\CoM\\DTR\\DTR-M5\\DTR-M5-20230404_pre-DTX\\CoM DTR M5 ts3_000017.avi\n",
      "C:\\Users\\GPU\\Documents\\DeepLabCut\\temp_kenzie\\CoM\\DTR\\DTR-M5\\DTR-M5-20230404_pre-DTX  already exists!\n",
      "Starting to analyze %  C:\\Users\\GPU\\Documents\\DeepLabCut\\temp_kenzie\\CoM\\DTR\\DTR-M5\\DTR-M5-20230404_pre-DTX\\CoM DTR M5 ts3_000018.avi\n",
      "C:\\Users\\GPU\\Documents\\DeepLabCut\\temp_kenzie\\CoM\\DTR\\DTR-M5\\DTR-M5-20230404_pre-DTX  already exists!\n",
      "Starting to analyze %  C:\\Users\\GPU\\Documents\\DeepLabCut\\temp_kenzie\\CoM\\DTR\\DTR-M5\\DTR-M5-20230404_pre-DTX\\CoM DTR M5 ts3_000019.avi\n",
      "C:\\Users\\GPU\\Documents\\DeepLabCut\\temp_kenzie\\CoM\\DTR\\DTR-M5\\DTR-M5-20230404_pre-DTX  already exists!\n",
      "Starting to analyze %  C:\\Users\\GPU\\Documents\\DeepLabCut\\temp_kenzie\\CoM\\DTR\\DTR-M5\\DTR-M5-20230404_pre-DTX\\CoM DTR M5 ts3_000020.avi\n",
      "C:\\Users\\GPU\\Documents\\DeepLabCut\\temp_kenzie\\CoM\\DTR\\DTR-M5\\DTR-M5-20230404_pre-DTX  already exists!\n",
      "Starting to analyze %  C:\\Users\\GPU\\Documents\\DeepLabCut\\temp_kenzie\\CoM\\DTR\\DTR-M5\\DTR-M5-20230404_pre-DTX\\CoM DTR M5 ts3_000021.avi\n",
      "C:\\Users\\GPU\\Documents\\DeepLabCut\\temp_kenzie\\CoM\\DTR\\DTR-M5\\DTR-M5-20230404_pre-DTX  already exists!\n",
      "The videos are analyzed. Now your research can truly start! \n",
      " You can create labeled videos with 'create_labeled_video'\n",
      "If the tracking is not satisfactory for some videos, consider expanding the training set. You can use the function 'extract_outlier_frames' to extract a few representative outlier frames.\n"
     ]
    },
    {
     "name": "stderr",
     "output_type": "stream",
     "text": [
      "Config:\n",
      "{'all_joints': [[0],\n",
      "                [1],\n",
      "                [2],\n",
      "                [3],\n",
      "                [4],\n",
      "                [5],\n",
      "                [6],\n",
      "                [7],\n",
      "                [8],\n",
      "                [9],\n",
      "                [10],\n",
      "                [11],\n",
      "                [12],\n",
      "                [13],\n",
      "                [14],\n",
      "                [15],\n",
      "                [16],\n",
      "                [17],\n",
      "                [18]],\n",
      " 'all_joints_names': ['calib_1',\n",
      "                      'calib_2',\n",
      "                      'calib_3',\n",
      "                      'calib_4',\n",
      "                      'calib_5',\n",
      "                      'calib_6',\n",
      "                      'iliac_crest',\n",
      "                      'hip',\n",
      "                      'knee',\n",
      "                      'ankle',\n",
      "                      'metatarsal',\n",
      "                      'toe',\n",
      "                      'fl_toe',\n",
      "                      'mirror_lhl',\n",
      "                      'mirror_rhl',\n",
      "                      'mirror_lfl',\n",
      "                      'mirror_rfl',\n",
      "                      'mirror_com',\n",
      "                      'mirror'],\n",
      " 'batch_size': 1,\n",
      " 'crop_pad': 0,\n",
      " 'dataset': 'training-datasets\\\\iteration-0\\\\UnaugmentedDataSet_DTR-preJul21\\\\DTR-pre_kenzie95shuffle1.mat',\n",
      " 'dataset_type': 'imgaug',\n",
      " 'deterministic': False,\n",
      " 'fg_fraction': 0.25,\n",
      " 'global_scale': 0.8,\n",
      " 'init_weights': 'C:\\\\ProgramData\\\\Anaconda3\\\\envs\\\\dlc-windowsGPU\\\\lib\\\\site-packages\\\\deeplabcut\\\\pose_estimation_tensorflow\\\\models\\\\pretrained\\\\resnet_v1_50.ckpt',\n",
      " 'intermediate_supervision': False,\n",
      " 'intermediate_supervision_layer': 12,\n",
      " 'location_refinement': True,\n",
      " 'locref_huber_loss': True,\n",
      " 'locref_loss_weight': 1.0,\n",
      " 'locref_stdev': 7.2801,\n",
      " 'log_dir': 'log',\n",
      " 'mean_pixel': [123.68, 116.779, 103.939],\n",
      " 'mirror': False,\n",
      " 'net_type': 'resnet_50',\n",
      " 'num_joints': 19,\n",
      " 'optimizer': 'sgd',\n",
      " 'pairwise_huber_loss': True,\n",
      " 'pairwise_predict': False,\n",
      " 'partaffinityfield_predict': False,\n",
      " 'regularize': False,\n",
      " 'scoremap_dir': 'test',\n",
      " 'shuffle': True,\n",
      " 'snapshot_prefix': 'C:\\\\Users\\\\GPU\\\\Documents\\\\DeepLabCut\\\\temp_kenzie\\\\CoM\\\\DTR-pre-kenzie-2023-07-21\\\\dlc-models\\\\iteration-0\\\\DTR-preJul21-trainset95shuffle1\\\\test\\\\snapshot',\n",
      " 'stride': 8.0,\n",
      " 'weigh_negatives': False,\n",
      " 'weigh_only_present_joints': False,\n",
      " 'weigh_part_predictions': False,\n",
      " 'weight_decay': 0.0001}\n"
     ]
    },
    {
     "name": "stdout",
     "output_type": "stream",
     "text": [
      "Using snapshot-1030000 for model C:\\Users\\GPU\\Documents\\DeepLabCut\\temp_kenzie\\CoM\\DTR-pre-kenzie-2023-07-21\\dlc-models\\iteration-0\\DTR-preJul21-trainset95shuffle1\n",
      "Initializing ResNet\n",
      "Starting to analyze %  C:\\Users\\GPU\\Documents\\DeepLabCut\\temp_kenzie\\CoM\\DTR\\DTR-M1\\DTR M1 20230404_Pre DTX\\CoM DTR M1 ts3_000000.avi\n",
      "C:\\Users\\GPU\\Documents\\DeepLabCut\\temp_kenzie\\CoM\\DTR\\DTR-M1\\DTR M1 20230404_Pre DTX  already exists!\n",
      "Loading  C:\\Users\\GPU\\Documents\\DeepLabCut\\temp_kenzie\\CoM\\DTR\\DTR-M1\\DTR M1 20230404_Pre DTX\\CoM DTR M1 ts3_000000.avi\n",
      "Duration of video [s]:  7.81 , recorded with  500.0 fps!\n",
      "Overall # of frames:  3904  found with (before cropping) frame dimensions:  1280 850\n",
      "Starting to extract posture\n"
     ]
    },
    {
     "name": "stderr",
     "output_type": "stream",
     "text": [
      "3939it [02:46, 23.66it/s]                                                                                                          \n"
     ]
    },
    {
     "name": "stdout",
     "output_type": "stream",
     "text": [
      "Saving results in C:\\Users\\GPU\\Documents\\DeepLabCut\\temp_kenzie\\CoM\\DTR\\DTR-M1\\DTR M1 20230404_Pre DTX...\n",
      "Saving csv poses!\n",
      "Starting to analyze %  C:\\Users\\GPU\\Documents\\DeepLabCut\\temp_kenzie\\CoM\\DTR\\DTR-M1\\DTR M1 20230404_Pre DTX\\CoM DTR M1 ts3_000001.avi\n",
      "C:\\Users\\GPU\\Documents\\DeepLabCut\\temp_kenzie\\CoM\\DTR\\DTR-M1\\DTR M1 20230404_Pre DTX  already exists!\n",
      "Loading  C:\\Users\\GPU\\Documents\\DeepLabCut\\temp_kenzie\\CoM\\DTR\\DTR-M1\\DTR M1 20230404_Pre DTX\\CoM DTR M1 ts3_000001.avi\n",
      "Duration of video [s]:  5.08 , recorded with  500.0 fps!\n",
      "Overall # of frames:  2540  found with (before cropping) frame dimensions:  1280 850\n",
      "Starting to extract posture\n"
     ]
    },
    {
     "name": "stderr",
     "output_type": "stream",
     "text": [
      "2550it [01:50, 23.14it/s]                                                                                                          \n"
     ]
    },
    {
     "name": "stdout",
     "output_type": "stream",
     "text": [
      "Saving results in C:\\Users\\GPU\\Documents\\DeepLabCut\\temp_kenzie\\CoM\\DTR\\DTR-M1\\DTR M1 20230404_Pre DTX...\n",
      "Saving csv poses!\n",
      "Starting to analyze %  C:\\Users\\GPU\\Documents\\DeepLabCut\\temp_kenzie\\CoM\\DTR\\DTR-M1\\DTR M1 20230404_Pre DTX\\CoM DTR M1 ts3_000002.avi\n",
      "C:\\Users\\GPU\\Documents\\DeepLabCut\\temp_kenzie\\CoM\\DTR\\DTR-M1\\DTR M1 20230404_Pre DTX  already exists!\n",
      "Loading  C:\\Users\\GPU\\Documents\\DeepLabCut\\temp_kenzie\\CoM\\DTR\\DTR-M1\\DTR M1 20230404_Pre DTX\\CoM DTR M1 ts3_000002.avi\n",
      "Duration of video [s]:  4.25 , recorded with  500.0 fps!\n",
      "Overall # of frames:  2127  found with (before cropping) frame dimensions:  1280 850\n",
      "Starting to extract posture\n"
     ]
    },
    {
     "name": "stderr",
     "output_type": "stream",
     "text": [
      "2142it [01:33, 22.93it/s]                                                                                                          \n"
     ]
    },
    {
     "name": "stdout",
     "output_type": "stream",
     "text": [
      "Saving results in C:\\Users\\GPU\\Documents\\DeepLabCut\\temp_kenzie\\CoM\\DTR\\DTR-M1\\DTR M1 20230404_Pre DTX...\n",
      "Saving csv poses!\n",
      "Starting to analyze %  C:\\Users\\GPU\\Documents\\DeepLabCut\\temp_kenzie\\CoM\\DTR\\DTR-M1\\DTR M1 20230404_Pre DTX\\CoM DTR M1 ts3_000003.avi\n",
      "C:\\Users\\GPU\\Documents\\DeepLabCut\\temp_kenzie\\CoM\\DTR\\DTR-M1\\DTR M1 20230404_Pre DTX  already exists!\n",
      "Loading  C:\\Users\\GPU\\Documents\\DeepLabCut\\temp_kenzie\\CoM\\DTR\\DTR-M1\\DTR M1 20230404_Pre DTX\\CoM DTR M1 ts3_000003.avi\n",
      "Duration of video [s]:  4.99 , recorded with  500.0 fps!\n",
      "Overall # of frames:  2495  found with (before cropping) frame dimensions:  1280 850\n",
      "Starting to extract posture\n"
     ]
    },
    {
     "name": "stderr",
     "output_type": "stream",
     "text": [
      "2496it [01:49, 22.76it/s]                                                                                                          \n"
     ]
    },
    {
     "name": "stdout",
     "output_type": "stream",
     "text": [
      "Saving results in C:\\Users\\GPU\\Documents\\DeepLabCut\\temp_kenzie\\CoM\\DTR\\DTR-M1\\DTR M1 20230404_Pre DTX...\n",
      "Saving csv poses!\n",
      "Starting to analyze %  C:\\Users\\GPU\\Documents\\DeepLabCut\\temp_kenzie\\CoM\\DTR\\DTR-M1\\DTR M1 20230404_Pre DTX\\CoM DTR M1 ts3_000004.avi\n",
      "C:\\Users\\GPU\\Documents\\DeepLabCut\\temp_kenzie\\CoM\\DTR\\DTR-M1\\DTR M1 20230404_Pre DTX  already exists!\n",
      "Loading  C:\\Users\\GPU\\Documents\\DeepLabCut\\temp_kenzie\\CoM\\DTR\\DTR-M1\\DTR M1 20230404_Pre DTX\\CoM DTR M1 ts3_000004.avi\n",
      "Duration of video [s]:  7.81 , recorded with  500.0 fps!\n",
      "Overall # of frames:  3904  found with (before cropping) frame dimensions:  1280 850\n",
      "Starting to extract posture\n"
     ]
    },
    {
     "name": "stderr",
     "output_type": "stream",
     "text": [
      "3939it [02:51, 22.94it/s]                                                                                                          \n"
     ]
    },
    {
     "name": "stdout",
     "output_type": "stream",
     "text": [
      "Saving results in C:\\Users\\GPU\\Documents\\DeepLabCut\\temp_kenzie\\CoM\\DTR\\DTR-M1\\DTR M1 20230404_Pre DTX...\n",
      "Saving csv poses!\n",
      "Starting to analyze %  C:\\Users\\GPU\\Documents\\DeepLabCut\\temp_kenzie\\CoM\\DTR\\DTR-M1\\DTR M1 20230404_Pre DTX\\CoM DTR M1 ts3_000005.avi\n",
      "C:\\Users\\GPU\\Documents\\DeepLabCut\\temp_kenzie\\CoM\\DTR\\DTR-M1\\DTR M1 20230404_Pre DTX  already exists!\n",
      "Loading  C:\\Users\\GPU\\Documents\\DeepLabCut\\temp_kenzie\\CoM\\DTR\\DTR-M1\\DTR M1 20230404_Pre DTX\\CoM DTR M1 ts3_000005.avi\n",
      "Duration of video [s]:  7.81 , recorded with  500.0 fps!\n",
      "Overall # of frames:  3904  found with (before cropping) frame dimensions:  1280 850\n",
      "Starting to extract posture\n"
     ]
    },
    {
     "name": "stderr",
     "output_type": "stream",
     "text": [
      "3939it [02:52, 22.81it/s]                                                                                                          \n"
     ]
    },
    {
     "name": "stdout",
     "output_type": "stream",
     "text": [
      "Saving results in C:\\Users\\GPU\\Documents\\DeepLabCut\\temp_kenzie\\CoM\\DTR\\DTR-M1\\DTR M1 20230404_Pre DTX...\n",
      "Saving csv poses!\n",
      "Starting to analyze %  C:\\Users\\GPU\\Documents\\DeepLabCut\\temp_kenzie\\CoM\\DTR\\DTR-M1\\DTR M1 20230404_Pre DTX\\CoM DTR M1 ts3_000006.avi\n",
      "C:\\Users\\GPU\\Documents\\DeepLabCut\\temp_kenzie\\CoM\\DTR\\DTR-M1\\DTR M1 20230404_Pre DTX  already exists!\n",
      "Loading  C:\\Users\\GPU\\Documents\\DeepLabCut\\temp_kenzie\\CoM\\DTR\\DTR-M1\\DTR M1 20230404_Pre DTX\\CoM DTR M1 ts3_000006.avi\n",
      "Duration of video [s]:  6.95 , recorded with  500.0 fps!\n",
      "Overall # of frames:  3473  found with (before cropping) frame dimensions:  1280 850\n",
      "Starting to extract posture\n"
     ]
    },
    {
     "name": "stderr",
     "output_type": "stream",
     "text": [
      "3502it [02:33, 22.75it/s]                                                                                                          \n"
     ]
    },
    {
     "name": "stdout",
     "output_type": "stream",
     "text": [
      "Saving results in C:\\Users\\GPU\\Documents\\DeepLabCut\\temp_kenzie\\CoM\\DTR\\DTR-M1\\DTR M1 20230404_Pre DTX...\n",
      "Saving csv poses!\n",
      "Starting to analyze %  C:\\Users\\GPU\\Documents\\DeepLabCut\\temp_kenzie\\CoM\\DTR\\DTR-M1\\DTR M1 20230404_Pre DTX\\CoM DTR M1 ts3_000007.avi\n",
      "C:\\Users\\GPU\\Documents\\DeepLabCut\\temp_kenzie\\CoM\\DTR\\DTR-M1\\DTR M1 20230404_Pre DTX  already exists!\n",
      "Loading  C:\\Users\\GPU\\Documents\\DeepLabCut\\temp_kenzie\\CoM\\DTR\\DTR-M1\\DTR M1 20230404_Pre DTX\\CoM DTR M1 ts3_000007.avi\n",
      "Duration of video [s]:  5.96 , recorded with  500.0 fps!\n",
      "Overall # of frames:  2980  found with (before cropping) frame dimensions:  1280 850\n",
      "Starting to extract posture\n"
     ]
    },
    {
     "name": "stderr",
     "output_type": "stream",
     "text": [
      "2987it [02:12, 22.49it/s]                                                                                                          \n"
     ]
    },
    {
     "name": "stdout",
     "output_type": "stream",
     "text": [
      "Saving results in C:\\Users\\GPU\\Documents\\DeepLabCut\\temp_kenzie\\CoM\\DTR\\DTR-M1\\DTR M1 20230404_Pre DTX...\n",
      "Saving csv poses!\n",
      "Starting to analyze %  C:\\Users\\GPU\\Documents\\DeepLabCut\\temp_kenzie\\CoM\\DTR\\DTR-M1\\DTR M1 20230404_Pre DTX\\CoM DTR M1 ts3_000008.avi\n",
      "C:\\Users\\GPU\\Documents\\DeepLabCut\\temp_kenzie\\CoM\\DTR\\DTR-M1\\DTR M1 20230404_Pre DTX  already exists!\n",
      "Loading  C:\\Users\\GPU\\Documents\\DeepLabCut\\temp_kenzie\\CoM\\DTR\\DTR-M1\\DTR M1 20230404_Pre DTX\\CoM DTR M1 ts3_000008.avi\n",
      "Duration of video [s]:  6.95 , recorded with  500.0 fps!\n",
      "Overall # of frames:  3473  found with (before cropping) frame dimensions:  1280 850\n",
      "Starting to extract posture\n"
     ]
    },
    {
     "name": "stderr",
     "output_type": "stream",
     "text": [
      "3502it [02:35, 22.59it/s]                                                                                                          \n"
     ]
    },
    {
     "name": "stdout",
     "output_type": "stream",
     "text": [
      "Saving results in C:\\Users\\GPU\\Documents\\DeepLabCut\\temp_kenzie\\CoM\\DTR\\DTR-M1\\DTR M1 20230404_Pre DTX...\n",
      "Saving csv poses!\n",
      "Starting to analyze %  C:\\Users\\GPU\\Documents\\DeepLabCut\\temp_kenzie\\CoM\\DTR\\DTR-M1\\DTR M1 20230404_Pre DTX\\CoM DTR M1 ts3_000009.avi\n",
      "C:\\Users\\GPU\\Documents\\DeepLabCut\\temp_kenzie\\CoM\\DTR\\DTR-M1\\DTR M1 20230404_Pre DTX  already exists!\n",
      "Loading  C:\\Users\\GPU\\Documents\\DeepLabCut\\temp_kenzie\\CoM\\DTR\\DTR-M1\\DTR M1 20230404_Pre DTX\\CoM DTR M1 ts3_000009.avi\n",
      "Duration of video [s]:  4.69 , recorded with  500.0 fps!\n",
      "Overall # of frames:  2343  found with (before cropping) frame dimensions:  1280 850\n",
      "Starting to extract posture\n"
     ]
    },
    {
     "name": "stderr",
     "output_type": "stream",
     "text": [
      "2346it [01:45, 22.22it/s]                                                                                                          \n"
     ]
    },
    {
     "name": "stdout",
     "output_type": "stream",
     "text": [
      "Saving results in C:\\Users\\GPU\\Documents\\DeepLabCut\\temp_kenzie\\CoM\\DTR\\DTR-M1\\DTR M1 20230404_Pre DTX...\n",
      "Saving csv poses!\n",
      "Starting to analyze %  C:\\Users\\GPU\\Documents\\DeepLabCut\\temp_kenzie\\CoM\\DTR\\DTR-M1\\DTR M1 20230404_Pre DTX\\CoM DTR M1 ts3_000010.avi\n",
      "C:\\Users\\GPU\\Documents\\DeepLabCut\\temp_kenzie\\CoM\\DTR\\DTR-M1\\DTR M1 20230404_Pre DTX  already exists!\n",
      "Loading  C:\\Users\\GPU\\Documents\\DeepLabCut\\temp_kenzie\\CoM\\DTR\\DTR-M1\\DTR M1 20230404_Pre DTX\\CoM DTR M1 ts3_000010.avi\n",
      "Duration of video [s]:  4.11 , recorded with  500.0 fps!\n",
      "Overall # of frames:  2056  found with (before cropping) frame dimensions:  1280 850\n",
      "Starting to extract posture\n"
     ]
    },
    {
     "name": "stderr",
     "output_type": "stream",
     "text": [
      "2060it [01:32, 22.26it/s]                                                                                                          \n"
     ]
    },
    {
     "name": "stdout",
     "output_type": "stream",
     "text": [
      "Saving results in C:\\Users\\GPU\\Documents\\DeepLabCut\\temp_kenzie\\CoM\\DTR\\DTR-M1\\DTR M1 20230404_Pre DTX...\n",
      "Saving csv poses!\n",
      "Starting to analyze %  C:\\Users\\GPU\\Documents\\DeepLabCut\\temp_kenzie\\CoM\\DTR\\DTR-M1\\DTR M1 20230404_Pre DTX\\CoM DTR M1 ts3_000011.avi\n",
      "C:\\Users\\GPU\\Documents\\DeepLabCut\\temp_kenzie\\CoM\\DTR\\DTR-M1\\DTR M1 20230404_Pre DTX  already exists!\n",
      "Loading  C:\\Users\\GPU\\Documents\\DeepLabCut\\temp_kenzie\\CoM\\DTR\\DTR-M1\\DTR M1 20230404_Pre DTX\\CoM DTR M1 ts3_000011.avi\n",
      "Duration of video [s]:  7.81 , recorded with  500.0 fps!\n",
      "Overall # of frames:  3904  found with (before cropping) frame dimensions:  1280 850\n",
      "Starting to extract posture\n"
     ]
    },
    {
     "name": "stderr",
     "output_type": "stream",
     "text": [
      "3939it [02:56, 22.26it/s]                                                                                                          \n"
     ]
    },
    {
     "name": "stdout",
     "output_type": "stream",
     "text": [
      "Saving results in C:\\Users\\GPU\\Documents\\DeepLabCut\\temp_kenzie\\CoM\\DTR\\DTR-M1\\DTR M1 20230404_Pre DTX...\n",
      "Saving csv poses!\n",
      "Starting to analyze %  C:\\Users\\GPU\\Documents\\DeepLabCut\\temp_kenzie\\CoM\\DTR\\DTR-M2\\DTR M2 20230405_Pre DTX\\CoM DTR M2 ts3_000000.avi\n",
      "C:\\Users\\GPU\\Documents\\DeepLabCut\\temp_kenzie\\CoM\\DTR\\DTR-M2\\DTR M2 20230405_Pre DTX  already exists!\n",
      "Loading  C:\\Users\\GPU\\Documents\\DeepLabCut\\temp_kenzie\\CoM\\DTR\\DTR-M2\\DTR M2 20230405_Pre DTX\\CoM DTR M2 ts3_000000.avi\n",
      "Duration of video [s]:  7.81 , recorded with  500.0 fps!\n",
      "Overall # of frames:  3904  found with (before cropping) frame dimensions:  1280 850\n",
      "Starting to extract posture\n"
     ]
    },
    {
     "name": "stderr",
     "output_type": "stream",
     "text": [
      "3939it [02:55, 22.39it/s]                                                                                                          \n"
     ]
    },
    {
     "name": "stdout",
     "output_type": "stream",
     "text": [
      "Saving results in C:\\Users\\GPU\\Documents\\DeepLabCut\\temp_kenzie\\CoM\\DTR\\DTR-M2\\DTR M2 20230405_Pre DTX...\n",
      "Saving csv poses!\n",
      "Starting to analyze %  C:\\Users\\GPU\\Documents\\DeepLabCut\\temp_kenzie\\CoM\\DTR\\DTR-M2\\DTR M2 20230405_Pre DTX\\CoM DTR M2 ts3_000001.avi\n",
      "C:\\Users\\GPU\\Documents\\DeepLabCut\\temp_kenzie\\CoM\\DTR\\DTR-M2\\DTR M2 20230405_Pre DTX  already exists!\n",
      "Loading  C:\\Users\\GPU\\Documents\\DeepLabCut\\temp_kenzie\\CoM\\DTR\\DTR-M2\\DTR M2 20230405_Pre DTX\\CoM DTR M2 ts3_000001.avi\n",
      "Duration of video [s]:  7.81 , recorded with  500.0 fps!\n",
      "Overall # of frames:  3904  found with (before cropping) frame dimensions:  1280 850\n",
      "Starting to extract posture\n"
     ]
    },
    {
     "name": "stderr",
     "output_type": "stream",
     "text": [
      "3939it [02:58, 22.04it/s]                                                                                                          \n"
     ]
    },
    {
     "name": "stdout",
     "output_type": "stream",
     "text": [
      "Saving results in C:\\Users\\GPU\\Documents\\DeepLabCut\\temp_kenzie\\CoM\\DTR\\DTR-M2\\DTR M2 20230405_Pre DTX...\n",
      "Saving csv poses!\n",
      "Starting to analyze %  C:\\Users\\GPU\\Documents\\DeepLabCut\\temp_kenzie\\CoM\\DTR\\DTR-M2\\DTR M2 20230405_Pre DTX\\CoM DTR M2 ts3_000002.avi\n",
      "C:\\Users\\GPU\\Documents\\DeepLabCut\\temp_kenzie\\CoM\\DTR\\DTR-M2\\DTR M2 20230405_Pre DTX  already exists!\n",
      "Loading  C:\\Users\\GPU\\Documents\\DeepLabCut\\temp_kenzie\\CoM\\DTR\\DTR-M2\\DTR M2 20230405_Pre DTX\\CoM DTR M2 ts3_000002.avi\n",
      "Duration of video [s]:  7.35 , recorded with  500.0 fps!\n",
      "Overall # of frames:  3673  found with (before cropping) frame dimensions:  1280 850\n",
      "Starting to extract posture\n"
     ]
    },
    {
     "name": "stderr",
     "output_type": "stream",
     "text": [
      "3708it [02:50, 21.71it/s]                                                                                                          \n"
     ]
    },
    {
     "name": "stdout",
     "output_type": "stream",
     "text": [
      "Saving results in C:\\Users\\GPU\\Documents\\DeepLabCut\\temp_kenzie\\CoM\\DTR\\DTR-M2\\DTR M2 20230405_Pre DTX...\n",
      "Saving csv poses!\n",
      "Starting to analyze %  C:\\Users\\GPU\\Documents\\DeepLabCut\\temp_kenzie\\CoM\\DTR\\DTR-M2\\DTR M2 20230405_Pre DTX\\CoM DTR M2 ts3_000003.avi\n",
      "C:\\Users\\GPU\\Documents\\DeepLabCut\\temp_kenzie\\CoM\\DTR\\DTR-M2\\DTR M2 20230405_Pre DTX  already exists!\n",
      "Loading  C:\\Users\\GPU\\Documents\\DeepLabCut\\temp_kenzie\\CoM\\DTR\\DTR-M2\\DTR M2 20230405_Pre DTX\\CoM DTR M2 ts3_000003.avi\n",
      "Duration of video [s]:  7.81 , recorded with  500.0 fps!\n",
      "Overall # of frames:  3904  found with (before cropping) frame dimensions:  1280 850\n",
      "Starting to extract posture\n"
     ]
    },
    {
     "name": "stderr",
     "output_type": "stream",
     "text": [
      "3939it [02:59, 21.98it/s]                                                                                                          \n"
     ]
    },
    {
     "name": "stdout",
     "output_type": "stream",
     "text": [
      "Saving results in C:\\Users\\GPU\\Documents\\DeepLabCut\\temp_kenzie\\CoM\\DTR\\DTR-M2\\DTR M2 20230405_Pre DTX...\n",
      "Saving csv poses!\n",
      "Starting to analyze %  C:\\Users\\GPU\\Documents\\DeepLabCut\\temp_kenzie\\CoM\\DTR\\DTR-M2\\DTR M2 20230405_Pre DTX\\CoM DTR M2 ts3_000004.avi\n",
      "C:\\Users\\GPU\\Documents\\DeepLabCut\\temp_kenzie\\CoM\\DTR\\DTR-M2\\DTR M2 20230405_Pre DTX  already exists!\n",
      "Loading  C:\\Users\\GPU\\Documents\\DeepLabCut\\temp_kenzie\\CoM\\DTR\\DTR-M2\\DTR M2 20230405_Pre DTX\\CoM DTR M2 ts3_000004.avi\n",
      "Duration of video [s]:  7.81 , recorded with  500.0 fps!\n",
      "Overall # of frames:  3904  found with (before cropping) frame dimensions:  1280 850\n",
      "Starting to extract posture\n"
     ]
    },
    {
     "name": "stderr",
     "output_type": "stream",
     "text": [
      "3939it [02:59, 21.91it/s]                                                                                                          \n"
     ]
    },
    {
     "name": "stdout",
     "output_type": "stream",
     "text": [
      "Saving results in C:\\Users\\GPU\\Documents\\DeepLabCut\\temp_kenzie\\CoM\\DTR\\DTR-M2\\DTR M2 20230405_Pre DTX...\n",
      "Saving csv poses!\n",
      "Starting to analyze %  C:\\Users\\GPU\\Documents\\DeepLabCut\\temp_kenzie\\CoM\\DTR\\DTR-M2\\DTR M2 20230405_Pre DTX\\CoM DTR M2 ts3_000005.avi\n",
      "C:\\Users\\GPU\\Documents\\DeepLabCut\\temp_kenzie\\CoM\\DTR\\DTR-M2\\DTR M2 20230405_Pre DTX  already exists!\n",
      "Loading  C:\\Users\\GPU\\Documents\\DeepLabCut\\temp_kenzie\\CoM\\DTR\\DTR-M2\\DTR M2 20230405_Pre DTX\\CoM DTR M2 ts3_000005.avi\n",
      "Duration of video [s]:  7.81 , recorded with  500.0 fps!\n",
      "Overall # of frames:  3904  found with (before cropping) frame dimensions:  1280 850\n",
      "Starting to extract posture\n"
     ]
    },
    {
     "name": "stderr",
     "output_type": "stream",
     "text": [
      "3939it [03:02, 21.63it/s]                                                                                                          \n"
     ]
    },
    {
     "name": "stdout",
     "output_type": "stream",
     "text": [
      "Saving results in C:\\Users\\GPU\\Documents\\DeepLabCut\\temp_kenzie\\CoM\\DTR\\DTR-M2\\DTR M2 20230405_Pre DTX...\n",
      "Saving csv poses!\n",
      "Starting to analyze %  C:\\Users\\GPU\\Documents\\DeepLabCut\\temp_kenzie\\CoM\\DTR\\DTR-M2\\DTR M2 20230405_Pre DTX\\CoM DTR M2 ts3_000006.avi\n",
      "C:\\Users\\GPU\\Documents\\DeepLabCut\\temp_kenzie\\CoM\\DTR\\DTR-M2\\DTR M2 20230405_Pre DTX  already exists!\n",
      "Loading  C:\\Users\\GPU\\Documents\\DeepLabCut\\temp_kenzie\\CoM\\DTR\\DTR-M2\\DTR M2 20230405_Pre DTX\\CoM DTR M2 ts3_000006.avi\n",
      "Duration of video [s]:  5.45 , recorded with  500.0 fps!\n",
      "Overall # of frames:  2727  found with (before cropping) frame dimensions:  1280 850\n",
      "Starting to extract posture\n"
     ]
    },
    {
     "name": "stderr",
     "output_type": "stream",
     "text": [
      "2754it [02:09, 21.31it/s]                                                                                                          \n"
     ]
    },
    {
     "name": "stdout",
     "output_type": "stream",
     "text": [
      "Saving results in C:\\Users\\GPU\\Documents\\DeepLabCut\\temp_kenzie\\CoM\\DTR\\DTR-M2\\DTR M2 20230405_Pre DTX...\n",
      "Saving csv poses!\n",
      "Starting to analyze %  C:\\Users\\GPU\\Documents\\DeepLabCut\\temp_kenzie\\CoM\\DTR\\DTR-M2\\DTR M2 20230405_Pre DTX\\CoM DTR M2 ts3_000007.avi\n",
      "C:\\Users\\GPU\\Documents\\DeepLabCut\\temp_kenzie\\CoM\\DTR\\DTR-M2\\DTR M2 20230405_Pre DTX  already exists!\n",
      "Loading  C:\\Users\\GPU\\Documents\\DeepLabCut\\temp_kenzie\\CoM\\DTR\\DTR-M2\\DTR M2 20230405_Pre DTX\\CoM DTR M2 ts3_000007.avi\n",
      "Duration of video [s]:  7.81 , recorded with  500.0 fps!\n",
      "Overall # of frames:  3904  found with (before cropping) frame dimensions:  1280 850\n",
      "Starting to extract posture\n"
     ]
    },
    {
     "name": "stderr",
     "output_type": "stream",
     "text": [
      "3939it [03:03, 21.48it/s]                                                                                                          \n"
     ]
    },
    {
     "name": "stdout",
     "output_type": "stream",
     "text": [
      "Saving results in C:\\Users\\GPU\\Documents\\DeepLabCut\\temp_kenzie\\CoM\\DTR\\DTR-M2\\DTR M2 20230405_Pre DTX...\n",
      "Saving csv poses!\n",
      "Starting to analyze %  C:\\Users\\GPU\\Documents\\DeepLabCut\\temp_kenzie\\CoM\\DTR\\DTR-M2\\DTR M2 20230405_Pre DTX\\CoM DTR M2 ts3_000008.avi\n",
      "C:\\Users\\GPU\\Documents\\DeepLabCut\\temp_kenzie\\CoM\\DTR\\DTR-M2\\DTR M2 20230405_Pre DTX  already exists!\n",
      "Loading  C:\\Users\\GPU\\Documents\\DeepLabCut\\temp_kenzie\\CoM\\DTR\\DTR-M2\\DTR M2 20230405_Pre DTX\\CoM DTR M2 ts3_000008.avi\n",
      "Duration of video [s]:  4.89 , recorded with  500.0 fps!\n",
      "Overall # of frames:  2447  found with (before cropping) frame dimensions:  1280 850\n",
      "Starting to extract posture\n"
     ]
    },
    {
     "name": "stderr",
     "output_type": "stream",
     "text": [
      "2448it [01:53, 21.55it/s]                                                                                                          \n"
     ]
    },
    {
     "name": "stdout",
     "output_type": "stream",
     "text": [
      "Saving results in C:\\Users\\GPU\\Documents\\DeepLabCut\\temp_kenzie\\CoM\\DTR\\DTR-M2\\DTR M2 20230405_Pre DTX...\n",
      "Saving csv poses!\n",
      "Starting to analyze %  C:\\Users\\GPU\\Documents\\DeepLabCut\\temp_kenzie\\CoM\\DTR\\DTR-M2\\DTR M2 20230405_Pre DTX\\CoM DTR M2 ts3_000009.avi\n",
      "C:\\Users\\GPU\\Documents\\DeepLabCut\\temp_kenzie\\CoM\\DTR\\DTR-M2\\DTR M2 20230405_Pre DTX  already exists!\n",
      "Loading  C:\\Users\\GPU\\Documents\\DeepLabCut\\temp_kenzie\\CoM\\DTR\\DTR-M2\\DTR M2 20230405_Pre DTX\\CoM DTR M2 ts3_000009.avi\n",
      "Duration of video [s]:  7.81 , recorded with  500.0 fps!\n",
      "Overall # of frames:  3904  found with (before cropping) frame dimensions:  1280 850\n",
      "Starting to extract posture\n"
     ]
    },
    {
     "name": "stderr",
     "output_type": "stream",
     "text": [
      "3939it [03:03, 21.45it/s]                                                                                                          \n"
     ]
    },
    {
     "name": "stdout",
     "output_type": "stream",
     "text": [
      "Saving results in C:\\Users\\GPU\\Documents\\DeepLabCut\\temp_kenzie\\CoM\\DTR\\DTR-M2\\DTR M2 20230405_Pre DTX...\n",
      "Saving csv poses!\n",
      "Starting to analyze %  C:\\Users\\GPU\\Documents\\DeepLabCut\\temp_kenzie\\CoM\\DTR\\DTR-M2\\DTR M2 20230405_Pre DTX\\CoM DTR M2 ts3_000010.avi\n",
      "C:\\Users\\GPU\\Documents\\DeepLabCut\\temp_kenzie\\CoM\\DTR\\DTR-M2\\DTR M2 20230405_Pre DTX  already exists!\n",
      "Loading  C:\\Users\\GPU\\Documents\\DeepLabCut\\temp_kenzie\\CoM\\DTR\\DTR-M2\\DTR M2 20230405_Pre DTX\\CoM DTR M2 ts3_000010.avi\n",
      "Duration of video [s]:  7.81 , recorded with  500.0 fps!\n",
      "Overall # of frames:  3904  found with (before cropping) frame dimensions:  1280 850\n",
      "Starting to extract posture\n"
     ]
    },
    {
     "name": "stderr",
     "output_type": "stream",
     "text": [
      "3939it [03:04, 21.36it/s]                                                                                                          \n"
     ]
    },
    {
     "name": "stdout",
     "output_type": "stream",
     "text": [
      "Saving results in C:\\Users\\GPU\\Documents\\DeepLabCut\\temp_kenzie\\CoM\\DTR\\DTR-M2\\DTR M2 20230405_Pre DTX...\n",
      "Saving csv poses!\n",
      "Starting to analyze %  C:\\Users\\GPU\\Documents\\DeepLabCut\\temp_kenzie\\CoM\\DTR\\DTR-M2\\DTR M2 20230405_Pre DTX\\CoM DTR M2 ts3_000011.avi\n",
      "C:\\Users\\GPU\\Documents\\DeepLabCut\\temp_kenzie\\CoM\\DTR\\DTR-M2\\DTR M2 20230405_Pre DTX  already exists!\n",
      "Loading  C:\\Users\\GPU\\Documents\\DeepLabCut\\temp_kenzie\\CoM\\DTR\\DTR-M2\\DTR M2 20230405_Pre DTX\\CoM DTR M2 ts3_000011.avi\n",
      "Duration of video [s]:  7.81 , recorded with  500.0 fps!\n",
      "Overall # of frames:  3904  found with (before cropping) frame dimensions:  1280 850\n",
      "Starting to extract posture\n"
     ]
    },
    {
     "name": "stderr",
     "output_type": "stream",
     "text": [
      "3939it [03:03, 21.42it/s]                                                                                                          \n"
     ]
    },
    {
     "name": "stdout",
     "output_type": "stream",
     "text": [
      "Saving results in C:\\Users\\GPU\\Documents\\DeepLabCut\\temp_kenzie\\CoM\\DTR\\DTR-M2\\DTR M2 20230405_Pre DTX...\n",
      "Saving csv poses!\n",
      "Starting to analyze %  C:\\Users\\GPU\\Documents\\DeepLabCut\\temp_kenzie\\CoM\\DTR\\DTR-M2\\DTR M2 20230405_Pre DTX\\CoM DTR M2 ts3_000012.avi\n",
      "C:\\Users\\GPU\\Documents\\DeepLabCut\\temp_kenzie\\CoM\\DTR\\DTR-M2\\DTR M2 20230405_Pre DTX  already exists!\n",
      "Loading  C:\\Users\\GPU\\Documents\\DeepLabCut\\temp_kenzie\\CoM\\DTR\\DTR-M2\\DTR M2 20230405_Pre DTX\\CoM DTR M2 ts3_000012.avi\n",
      "Duration of video [s]:  7.81 , recorded with  500.0 fps!\n",
      "Overall # of frames:  3904  found with (before cropping) frame dimensions:  1280 850\n",
      "Starting to extract posture\n"
     ]
    },
    {
     "name": "stderr",
     "output_type": "stream",
     "text": [
      "3939it [03:01, 21.75it/s]                                                                                                          \n"
     ]
    },
    {
     "name": "stdout",
     "output_type": "stream",
     "text": [
      "Saving results in C:\\Users\\GPU\\Documents\\DeepLabCut\\temp_kenzie\\CoM\\DTR\\DTR-M2\\DTR M2 20230405_Pre DTX...\n",
      "Saving csv poses!\n",
      "Starting to analyze %  C:\\Users\\GPU\\Documents\\DeepLabCut\\temp_kenzie\\CoM\\DTR\\DTR-M2\\DTR M2 20230405_Pre DTX\\CoM DTR M2 ts3_000013.avi\n",
      "C:\\Users\\GPU\\Documents\\DeepLabCut\\temp_kenzie\\CoM\\DTR\\DTR-M2\\DTR M2 20230405_Pre DTX  already exists!\n",
      "Loading  C:\\Users\\GPU\\Documents\\DeepLabCut\\temp_kenzie\\CoM\\DTR\\DTR-M2\\DTR M2 20230405_Pre DTX\\CoM DTR M2 ts3_000013.avi\n",
      "Duration of video [s]:  7.81 , recorded with  500.0 fps!\n",
      "Overall # of frames:  3904  found with (before cropping) frame dimensions:  1280 850\n",
      "Starting to extract posture\n"
     ]
    },
    {
     "name": "stderr",
     "output_type": "stream",
     "text": [
      "3939it [03:01, 21.68it/s]                                                                                                          \n"
     ]
    },
    {
     "name": "stdout",
     "output_type": "stream",
     "text": [
      "Saving results in C:\\Users\\GPU\\Documents\\DeepLabCut\\temp_kenzie\\CoM\\DTR\\DTR-M2\\DTR M2 20230405_Pre DTX...\n",
      "Saving csv poses!\n",
      "Starting to analyze %  C:\\Users\\GPU\\Documents\\DeepLabCut\\temp_kenzie\\CoM\\DTR\\DTR-M2\\DTR M2 20230405_Pre DTX\\CoM DTR M2 ts3_000014.avi\n",
      "C:\\Users\\GPU\\Documents\\DeepLabCut\\temp_kenzie\\CoM\\DTR\\DTR-M2\\DTR M2 20230405_Pre DTX  already exists!\n",
      "Loading  C:\\Users\\GPU\\Documents\\DeepLabCut\\temp_kenzie\\CoM\\DTR\\DTR-M2\\DTR M2 20230405_Pre DTX\\CoM DTR M2 ts3_000014.avi\n",
      "Duration of video [s]:  7.81 , recorded with  500.0 fps!\n",
      "Overall # of frames:  3904  found with (before cropping) frame dimensions:  1280 850\n",
      "Starting to extract posture\n"
     ]
    },
    {
     "name": "stderr",
     "output_type": "stream",
     "text": [
      "3939it [03:01, 21.65it/s]                                                                                                          \n"
     ]
    },
    {
     "name": "stdout",
     "output_type": "stream",
     "text": [
      "Saving results in C:\\Users\\GPU\\Documents\\DeepLabCut\\temp_kenzie\\CoM\\DTR\\DTR-M2\\DTR M2 20230405_Pre DTX...\n",
      "Saving csv poses!\n",
      "Starting to analyze %  C:\\Users\\GPU\\Documents\\DeepLabCut\\temp_kenzie\\CoM\\DTR\\DTR-M2\\DTR M2 20230405_Pre DTX\\CoM DTR M2 ts3_000015.avi\n",
      "C:\\Users\\GPU\\Documents\\DeepLabCut\\temp_kenzie\\CoM\\DTR\\DTR-M2\\DTR M2 20230405_Pre DTX  already exists!\n",
      "Loading  C:\\Users\\GPU\\Documents\\DeepLabCut\\temp_kenzie\\CoM\\DTR\\DTR-M2\\DTR M2 20230405_Pre DTX\\CoM DTR M2 ts3_000015.avi\n",
      "Duration of video [s]:  7.48 , recorded with  500.0 fps!\n",
      "Overall # of frames:  3739  found with (before cropping) frame dimensions:  1280 850\n",
      "Starting to extract posture\n"
     ]
    },
    {
     "name": "stderr",
     "output_type": "stream",
     "text": [
      "3774it [02:53, 21.78it/s]                                                                                                          \n"
     ]
    },
    {
     "name": "stdout",
     "output_type": "stream",
     "text": [
      "Saving results in C:\\Users\\GPU\\Documents\\DeepLabCut\\temp_kenzie\\CoM\\DTR\\DTR-M2\\DTR M2 20230405_Pre DTX...\n",
      "Saving csv poses!\n",
      "Starting to analyze %  C:\\Users\\GPU\\Documents\\DeepLabCut\\temp_kenzie\\CoM\\DTR\\DTR-M2\\DTR M2 20230405_Pre DTX\\CoM DTR M2 ts3_000016.avi\n",
      "C:\\Users\\GPU\\Documents\\DeepLabCut\\temp_kenzie\\CoM\\DTR\\DTR-M2\\DTR M2 20230405_Pre DTX  already exists!\n",
      "Loading  C:\\Users\\GPU\\Documents\\DeepLabCut\\temp_kenzie\\CoM\\DTR\\DTR-M2\\DTR M2 20230405_Pre DTX\\CoM DTR M2 ts3_000016.avi\n",
      "Duration of video [s]:  5.77 , recorded with  500.0 fps!\n",
      "Overall # of frames:  2883  found with (before cropping) frame dimensions:  1280 850\n",
      "Starting to extract posture\n"
     ]
    },
    {
     "name": "stderr",
     "output_type": "stream",
     "text": [
      "2884it [02:15, 21.33it/s]                                                                                                          \n"
     ]
    },
    {
     "name": "stdout",
     "output_type": "stream",
     "text": [
      "Saving results in C:\\Users\\GPU\\Documents\\DeepLabCut\\temp_kenzie\\CoM\\DTR\\DTR-M2\\DTR M2 20230405_Pre DTX...\n",
      "Saving csv poses!\n",
      "Starting to analyze %  C:\\Users\\GPU\\Documents\\DeepLabCut\\temp_kenzie\\CoM\\DTR\\DTR-M2\\DTR M2 20230405_Pre DTX\\CoM DTR M2 ts3_000017.avi\n",
      "C:\\Users\\GPU\\Documents\\DeepLabCut\\temp_kenzie\\CoM\\DTR\\DTR-M2\\DTR M2 20230405_Pre DTX  already exists!\n",
      "Loading  C:\\Users\\GPU\\Documents\\DeepLabCut\\temp_kenzie\\CoM\\DTR\\DTR-M2\\DTR M2 20230405_Pre DTX\\CoM DTR M2 ts3_000017.avi\n",
      "Duration of video [s]:  7.81 , recorded with  500.0 fps!\n",
      "Overall # of frames:  3904  found with (before cropping) frame dimensions:  1280 850\n",
      "Starting to extract posture\n"
     ]
    },
    {
     "name": "stderr",
     "output_type": "stream",
     "text": [
      "3939it [03:01, 21.72it/s]                                                                                                          \n"
     ]
    },
    {
     "name": "stdout",
     "output_type": "stream",
     "text": [
      "Saving results in C:\\Users\\GPU\\Documents\\DeepLabCut\\temp_kenzie\\CoM\\DTR\\DTR-M2\\DTR M2 20230405_Pre DTX...\n",
      "Saving csv poses!\n",
      "Starting to analyze %  C:\\Users\\GPU\\Documents\\DeepLabCut\\temp_kenzie\\CoM\\DTR\\DTR-M2\\DTR M2 20230405_Pre DTX\\CoM DTR M2 ts3_000018.avi\n",
      "C:\\Users\\GPU\\Documents\\DeepLabCut\\temp_kenzie\\CoM\\DTR\\DTR-M2\\DTR M2 20230405_Pre DTX  already exists!\n",
      "Loading  C:\\Users\\GPU\\Documents\\DeepLabCut\\temp_kenzie\\CoM\\DTR\\DTR-M2\\DTR M2 20230405_Pre DTX\\CoM DTR M2 ts3_000018.avi\n",
      "Duration of video [s]:  7.81 , recorded with  500.0 fps!\n",
      "Overall # of frames:  3904  found with (before cropping) frame dimensions:  1280 850\n",
      "Starting to extract posture\n"
     ]
    },
    {
     "name": "stderr",
     "output_type": "stream",
     "text": [
      "3939it [03:02, 21.62it/s]                                                                                                          \n"
     ]
    },
    {
     "name": "stdout",
     "output_type": "stream",
     "text": [
      "Saving results in C:\\Users\\GPU\\Documents\\DeepLabCut\\temp_kenzie\\CoM\\DTR\\DTR-M2\\DTR M2 20230405_Pre DTX...\n",
      "Saving csv poses!\n",
      "Starting to analyze %  C:\\Users\\GPU\\Documents\\DeepLabCut\\temp_kenzie\\CoM\\DTR\\DTR-M2\\DTR M2 20230405_Pre DTX\\CoM DTR M2 ts3_000019.avi\n",
      "C:\\Users\\GPU\\Documents\\DeepLabCut\\temp_kenzie\\CoM\\DTR\\DTR-M2\\DTR M2 20230405_Pre DTX  already exists!\n",
      "Loading  C:\\Users\\GPU\\Documents\\DeepLabCut\\temp_kenzie\\CoM\\DTR\\DTR-M2\\DTR M2 20230405_Pre DTX\\CoM DTR M2 ts3_000019.avi\n",
      "Duration of video [s]:  7.53 , recorded with  500.0 fps!\n",
      "Overall # of frames:  3764  found with (before cropping) frame dimensions:  1280 850\n",
      "Starting to extract posture\n"
     ]
    },
    {
     "name": "stderr",
     "output_type": "stream",
     "text": [
      "3774it [02:55, 21.52it/s]                                                                                                          \n"
     ]
    },
    {
     "name": "stdout",
     "output_type": "stream",
     "text": [
      "Saving results in C:\\Users\\GPU\\Documents\\DeepLabCut\\temp_kenzie\\CoM\\DTR\\DTR-M2\\DTR M2 20230405_Pre DTX...\n",
      "Saving csv poses!\n",
      "Starting to analyze %  C:\\Users\\GPU\\Documents\\DeepLabCut\\temp_kenzie\\CoM\\DTR\\DTR-M2\\DTR M2 20230405_Pre DTX\\CoM DTR M2 ts3_000020.avi\n",
      "C:\\Users\\GPU\\Documents\\DeepLabCut\\temp_kenzie\\CoM\\DTR\\DTR-M2\\DTR M2 20230405_Pre DTX  already exists!\n",
      "Loading  C:\\Users\\GPU\\Documents\\DeepLabCut\\temp_kenzie\\CoM\\DTR\\DTR-M2\\DTR M2 20230405_Pre DTX\\CoM DTR M2 ts3_000020.avi\n",
      "Duration of video [s]:  7.81 , recorded with  500.0 fps!\n",
      "Overall # of frames:  3904  found with (before cropping) frame dimensions:  1280 850\n",
      "Starting to extract posture\n"
     ]
    },
    {
     "name": "stderr",
     "output_type": "stream",
     "text": [
      "3939it [03:01, 21.75it/s]                                                                                                          \n"
     ]
    },
    {
     "name": "stdout",
     "output_type": "stream",
     "text": [
      "Saving results in C:\\Users\\GPU\\Documents\\DeepLabCut\\temp_kenzie\\CoM\\DTR\\DTR-M2\\DTR M2 20230405_Pre DTX...\n",
      "Saving csv poses!\n",
      "Starting to analyze %  C:\\Users\\GPU\\Documents\\DeepLabCut\\temp_kenzie\\CoM\\DTR\\DTR-M2\\DTR M2 20230405_Pre DTX\\CoM DTR M2 ts3_000021.avi\n",
      "C:\\Users\\GPU\\Documents\\DeepLabCut\\temp_kenzie\\CoM\\DTR\\DTR-M2\\DTR M2 20230405_Pre DTX  already exists!\n",
      "Loading  C:\\Users\\GPU\\Documents\\DeepLabCut\\temp_kenzie\\CoM\\DTR\\DTR-M2\\DTR M2 20230405_Pre DTX\\CoM DTR M2 ts3_000021.avi\n",
      "Duration of video [s]:  7.81 , recorded with  500.0 fps!\n",
      "Overall # of frames:  3904  found with (before cropping) frame dimensions:  1280 850\n",
      "Starting to extract posture\n"
     ]
    },
    {
     "name": "stderr",
     "output_type": "stream",
     "text": [
      "3939it [03:01, 21.73it/s]                                                                                                          \n"
     ]
    },
    {
     "name": "stdout",
     "output_type": "stream",
     "text": [
      "Saving results in C:\\Users\\GPU\\Documents\\DeepLabCut\\temp_kenzie\\CoM\\DTR\\DTR-M2\\DTR M2 20230405_Pre DTX...\n",
      "Saving csv poses!\n",
      "Starting to analyze %  C:\\Users\\GPU\\Documents\\DeepLabCut\\temp_kenzie\\CoM\\DTR\\DTR-M2\\DTR M2 20230405_Pre DTX\\CoM DTR M2 ts3_000022.avi\n",
      "C:\\Users\\GPU\\Documents\\DeepLabCut\\temp_kenzie\\CoM\\DTR\\DTR-M2\\DTR M2 20230405_Pre DTX  already exists!\n",
      "Loading  C:\\Users\\GPU\\Documents\\DeepLabCut\\temp_kenzie\\CoM\\DTR\\DTR-M2\\DTR M2 20230405_Pre DTX\\CoM DTR M2 ts3_000022.avi\n",
      "Duration of video [s]:  7.81 , recorded with  500.0 fps!\n",
      "Overall # of frames:  3904  found with (before cropping) frame dimensions:  1280 850\n",
      "Starting to extract posture\n"
     ]
    },
    {
     "name": "stderr",
     "output_type": "stream",
     "text": [
      "3939it [03:01, 21.67it/s]                                                                                                          \n"
     ]
    },
    {
     "name": "stdout",
     "output_type": "stream",
     "text": [
      "Saving results in C:\\Users\\GPU\\Documents\\DeepLabCut\\temp_kenzie\\CoM\\DTR\\DTR-M2\\DTR M2 20230405_Pre DTX...\n",
      "Saving csv poses!\n",
      "Starting to analyze %  C:\\Users\\GPU\\Documents\\DeepLabCut\\temp_kenzie\\CoM\\DTR\\DTR-M2\\DTR M2 20230405_Pre DTX\\CoM DTR M2 ts3_000023.avi\n",
      "C:\\Users\\GPU\\Documents\\DeepLabCut\\temp_kenzie\\CoM\\DTR\\DTR-M2\\DTR M2 20230405_Pre DTX  already exists!\n",
      "Loading  C:\\Users\\GPU\\Documents\\DeepLabCut\\temp_kenzie\\CoM\\DTR\\DTR-M2\\DTR M2 20230405_Pre DTX\\CoM DTR M2 ts3_000023.avi\n",
      "Duration of video [s]:  7.81 , recorded with  500.0 fps!\n",
      "Overall # of frames:  3904  found with (before cropping) frame dimensions:  1280 850\n",
      "Starting to extract posture\n"
     ]
    },
    {
     "name": "stderr",
     "output_type": "stream",
     "text": [
      "3939it [03:01, 21.71it/s]                                                                                                          \n"
     ]
    },
    {
     "name": "stdout",
     "output_type": "stream",
     "text": [
      "Saving results in C:\\Users\\GPU\\Documents\\DeepLabCut\\temp_kenzie\\CoM\\DTR\\DTR-M2\\DTR M2 20230405_Pre DTX...\n",
      "Saving csv poses!\n",
      "Starting to analyze %  C:\\Users\\GPU\\Documents\\DeepLabCut\\temp_kenzie\\CoM\\DTR\\DTR-M3\\DTR M3 20230411_Pre DTX\\CoM DTR M3 ts3_000000.avi\n",
      "C:\\Users\\GPU\\Documents\\DeepLabCut\\temp_kenzie\\CoM\\DTR\\DTR-M3\\DTR M3 20230411_Pre DTX  already exists!\n",
      "Loading  C:\\Users\\GPU\\Documents\\DeepLabCut\\temp_kenzie\\CoM\\DTR\\DTR-M3\\DTR M3 20230411_Pre DTX\\CoM DTR M3 ts3_000000.avi\n",
      "Duration of video [s]:  7.81 , recorded with  500.0 fps!\n",
      "Overall # of frames:  3904  found with (before cropping) frame dimensions:  1280 850\n",
      "Starting to extract posture\n"
     ]
    },
    {
     "name": "stderr",
     "output_type": "stream",
     "text": [
      "3939it [03:03, 21.47it/s]                                                                                                          \n"
     ]
    },
    {
     "name": "stdout",
     "output_type": "stream",
     "text": [
      "Saving results in C:\\Users\\GPU\\Documents\\DeepLabCut\\temp_kenzie\\CoM\\DTR\\DTR-M3\\DTR M3 20230411_Pre DTX...\n",
      "Saving csv poses!\n",
      "Starting to analyze %  C:\\Users\\GPU\\Documents\\DeepLabCut\\temp_kenzie\\CoM\\DTR\\DTR-M3\\DTR M3 20230411_Pre DTX\\CoM DTR M3 ts3_000001.avi\n",
      "C:\\Users\\GPU\\Documents\\DeepLabCut\\temp_kenzie\\CoM\\DTR\\DTR-M3\\DTR M3 20230411_Pre DTX  already exists!\n",
      "Loading  C:\\Users\\GPU\\Documents\\DeepLabCut\\temp_kenzie\\CoM\\DTR\\DTR-M3\\DTR M3 20230411_Pre DTX\\CoM DTR M3 ts3_000001.avi\n",
      "Duration of video [s]:  7.81 , recorded with  500.0 fps!\n",
      "Overall # of frames:  3904  found with (before cropping) frame dimensions:  1280 850\n",
      "Starting to extract posture\n"
     ]
    },
    {
     "name": "stderr",
     "output_type": "stream",
     "text": [
      "3939it [03:01, 21.65it/s]                                                                                                          \n"
     ]
    },
    {
     "name": "stdout",
     "output_type": "stream",
     "text": [
      "Saving results in C:\\Users\\GPU\\Documents\\DeepLabCut\\temp_kenzie\\CoM\\DTR\\DTR-M3\\DTR M3 20230411_Pre DTX...\n",
      "Saving csv poses!\n",
      "Starting to analyze %  C:\\Users\\GPU\\Documents\\DeepLabCut\\temp_kenzie\\CoM\\DTR\\DTR-M3\\DTR M3 20230411_Pre DTX\\CoM DTR M3 ts3_000002.avi\n",
      "C:\\Users\\GPU\\Documents\\DeepLabCut\\temp_kenzie\\CoM\\DTR\\DTR-M3\\DTR M3 20230411_Pre DTX  already exists!\n",
      "Loading  C:\\Users\\GPU\\Documents\\DeepLabCut\\temp_kenzie\\CoM\\DTR\\DTR-M3\\DTR M3 20230411_Pre DTX\\CoM DTR M3 ts3_000002.avi\n",
      "Duration of video [s]:  7.81 , recorded with  500.0 fps!\n",
      "Overall # of frames:  3904  found with (before cropping) frame dimensions:  1280 850\n",
      "Starting to extract posture\n"
     ]
    },
    {
     "name": "stderr",
     "output_type": "stream",
     "text": [
      "3939it [03:02, 21.55it/s]                                                                                                          \n"
     ]
    },
    {
     "name": "stdout",
     "output_type": "stream",
     "text": [
      "Saving results in C:\\Users\\GPU\\Documents\\DeepLabCut\\temp_kenzie\\CoM\\DTR\\DTR-M3\\DTR M3 20230411_Pre DTX...\n",
      "Saving csv poses!\n",
      "Starting to analyze %  C:\\Users\\GPU\\Documents\\DeepLabCut\\temp_kenzie\\CoM\\DTR\\DTR-M3\\DTR M3 20230411_Pre DTX\\CoM DTR M3 ts3_000003.avi\n",
      "C:\\Users\\GPU\\Documents\\DeepLabCut\\temp_kenzie\\CoM\\DTR\\DTR-M3\\DTR M3 20230411_Pre DTX  already exists!\n",
      "Loading  C:\\Users\\GPU\\Documents\\DeepLabCut\\temp_kenzie\\CoM\\DTR\\DTR-M3\\DTR M3 20230411_Pre DTX\\CoM DTR M3 ts3_000003.avi\n",
      "Duration of video [s]:  7.81 , recorded with  500.0 fps!\n",
      "Overall # of frames:  3904  found with (before cropping) frame dimensions:  1280 850\n",
      "Starting to extract posture\n"
     ]
    },
    {
     "name": "stderr",
     "output_type": "stream",
     "text": [
      "3939it [03:02, 21.60it/s]                                                                                                          \n"
     ]
    },
    {
     "name": "stdout",
     "output_type": "stream",
     "text": [
      "Saving results in C:\\Users\\GPU\\Documents\\DeepLabCut\\temp_kenzie\\CoM\\DTR\\DTR-M3\\DTR M3 20230411_Pre DTX...\n",
      "Saving csv poses!\n",
      "Starting to analyze %  C:\\Users\\GPU\\Documents\\DeepLabCut\\temp_kenzie\\CoM\\DTR\\DTR-M3\\DTR M3 20230411_Pre DTX\\CoM DTR M3 ts3_000004.avi\n",
      "C:\\Users\\GPU\\Documents\\DeepLabCut\\temp_kenzie\\CoM\\DTR\\DTR-M3\\DTR M3 20230411_Pre DTX  already exists!\n",
      "Loading  C:\\Users\\GPU\\Documents\\DeepLabCut\\temp_kenzie\\CoM\\DTR\\DTR-M3\\DTR M3 20230411_Pre DTX\\CoM DTR M3 ts3_000004.avi\n",
      "Duration of video [s]:  7.81 , recorded with  500.0 fps!\n",
      "Overall # of frames:  3904  found with (before cropping) frame dimensions:  1280 850\n",
      "Starting to extract posture\n"
     ]
    },
    {
     "name": "stderr",
     "output_type": "stream",
     "text": [
      "3939it [03:00, 21.82it/s]                                                                                                          \n"
     ]
    },
    {
     "name": "stdout",
     "output_type": "stream",
     "text": [
      "Saving results in C:\\Users\\GPU\\Documents\\DeepLabCut\\temp_kenzie\\CoM\\DTR\\DTR-M3\\DTR M3 20230411_Pre DTX...\n",
      "Saving csv poses!\n",
      "Starting to analyze %  C:\\Users\\GPU\\Documents\\DeepLabCut\\temp_kenzie\\CoM\\DTR\\DTR-M3\\DTR M3 20230411_Pre DTX\\CoM DTR M3 ts3_000005.avi\n",
      "C:\\Users\\GPU\\Documents\\DeepLabCut\\temp_kenzie\\CoM\\DTR\\DTR-M3\\DTR M3 20230411_Pre DTX  already exists!\n",
      "Loading  C:\\Users\\GPU\\Documents\\DeepLabCut\\temp_kenzie\\CoM\\DTR\\DTR-M3\\DTR M3 20230411_Pre DTX\\CoM DTR M3 ts3_000005.avi\n",
      "Duration of video [s]:  7.81 , recorded with  500.0 fps!\n",
      "Overall # of frames:  3904  found with (before cropping) frame dimensions:  1280 850\n",
      "Starting to extract posture\n"
     ]
    },
    {
     "name": "stderr",
     "output_type": "stream",
     "text": [
      "3939it [03:00, 21.87it/s]                                                                                                          \n"
     ]
    },
    {
     "name": "stdout",
     "output_type": "stream",
     "text": [
      "Saving results in C:\\Users\\GPU\\Documents\\DeepLabCut\\temp_kenzie\\CoM\\DTR\\DTR-M3\\DTR M3 20230411_Pre DTX...\n",
      "Saving csv poses!\n",
      "Starting to analyze %  C:\\Users\\GPU\\Documents\\DeepLabCut\\temp_kenzie\\CoM\\DTR\\DTR-M3\\DTR M3 20230411_Pre DTX\\CoM DTR M3 ts3_000006.avi\n",
      "C:\\Users\\GPU\\Documents\\DeepLabCut\\temp_kenzie\\CoM\\DTR\\DTR-M3\\DTR M3 20230411_Pre DTX  already exists!\n",
      "Loading  C:\\Users\\GPU\\Documents\\DeepLabCut\\temp_kenzie\\CoM\\DTR\\DTR-M3\\DTR M3 20230411_Pre DTX\\CoM DTR M3 ts3_000006.avi\n",
      "Duration of video [s]:  4.22 , recorded with  500.0 fps!\n",
      "Overall # of frames:  2109  found with (before cropping) frame dimensions:  1280 850\n",
      "Starting to extract posture\n"
     ]
    },
    {
     "name": "stderr",
     "output_type": "stream",
     "text": [
      "2121it [01:39, 21.42it/s]                                                                                                          \n"
     ]
    },
    {
     "name": "stdout",
     "output_type": "stream",
     "text": [
      "Saving results in C:\\Users\\GPU\\Documents\\DeepLabCut\\temp_kenzie\\CoM\\DTR\\DTR-M3\\DTR M3 20230411_Pre DTX...\n",
      "Saving csv poses!\n",
      "Starting to analyze %  C:\\Users\\GPU\\Documents\\DeepLabCut\\temp_kenzie\\CoM\\DTR\\DTR-M3\\DTR M3 20230411_Pre DTX\\CoM DTR M3 ts3_000007.avi\n",
      "C:\\Users\\GPU\\Documents\\DeepLabCut\\temp_kenzie\\CoM\\DTR\\DTR-M3\\DTR M3 20230411_Pre DTX  already exists!\n",
      "Loading  C:\\Users\\GPU\\Documents\\DeepLabCut\\temp_kenzie\\CoM\\DTR\\DTR-M3\\DTR M3 20230411_Pre DTX\\CoM DTR M3 ts3_000007.avi\n",
      "Duration of video [s]:  6.78 , recorded with  500.0 fps!\n",
      "Overall # of frames:  3389  found with (before cropping) frame dimensions:  1280 850\n",
      "Starting to extract posture\n"
     ]
    },
    {
     "name": "stderr",
     "output_type": "stream",
     "text": [
      "3399it [02:38, 21.39it/s]                                                                                                          \n"
     ]
    },
    {
     "name": "stdout",
     "output_type": "stream",
     "text": [
      "Saving results in C:\\Users\\GPU\\Documents\\DeepLabCut\\temp_kenzie\\CoM\\DTR\\DTR-M3\\DTR M3 20230411_Pre DTX...\n",
      "Saving csv poses!\n",
      "Starting to analyze %  C:\\Users\\GPU\\Documents\\DeepLabCut\\temp_kenzie\\CoM\\DTR\\DTR-M3\\DTR M3 20230411_Pre DTX\\CoM DTR M3 ts3_000008.avi\n",
      "C:\\Users\\GPU\\Documents\\DeepLabCut\\temp_kenzie\\CoM\\DTR\\DTR-M3\\DTR M3 20230411_Pre DTX  already exists!\n",
      "Loading  C:\\Users\\GPU\\Documents\\DeepLabCut\\temp_kenzie\\CoM\\DTR\\DTR-M3\\DTR M3 20230411_Pre DTX\\CoM DTR M3 ts3_000008.avi\n",
      "Duration of video [s]:  5.19 , recorded with  500.0 fps!\n",
      "Overall # of frames:  2596  found with (before cropping) frame dimensions:  1280 850\n",
      "Starting to extract posture\n"
     ]
    },
    {
     "name": "stderr",
     "output_type": "stream",
     "text": [
      "2600it [02:02, 21.24it/s]                                                                                                          \n"
     ]
    },
    {
     "name": "stdout",
     "output_type": "stream",
     "text": [
      "Saving results in C:\\Users\\GPU\\Documents\\DeepLabCut\\temp_kenzie\\CoM\\DTR\\DTR-M3\\DTR M3 20230411_Pre DTX...\n",
      "Saving csv poses!\n",
      "Starting to analyze %  C:\\Users\\GPU\\Documents\\DeepLabCut\\temp_kenzie\\CoM\\DTR\\DTR-M3\\DTR M3 20230411_Pre DTX\\CoM DTR M3 ts3_000009.avi\n",
      "C:\\Users\\GPU\\Documents\\DeepLabCut\\temp_kenzie\\CoM\\DTR\\DTR-M3\\DTR M3 20230411_Pre DTX  already exists!\n",
      "Loading  C:\\Users\\GPU\\Documents\\DeepLabCut\\temp_kenzie\\CoM\\DTR\\DTR-M3\\DTR M3 20230411_Pre DTX\\CoM DTR M3 ts3_000009.avi\n",
      "Duration of video [s]:  3.77 , recorded with  500.0 fps!\n",
      "Overall # of frames:  1886  found with (before cropping) frame dimensions:  1280 850\n",
      "Starting to extract posture\n"
     ]
    },
    {
     "name": "stderr",
     "output_type": "stream",
     "text": [
      "1890it [01:29, 21.20it/s]                                                                                                          \n"
     ]
    },
    {
     "name": "stdout",
     "output_type": "stream",
     "text": [
      "Saving results in C:\\Users\\GPU\\Documents\\DeepLabCut\\temp_kenzie\\CoM\\DTR\\DTR-M3\\DTR M3 20230411_Pre DTX...\n",
      "Saving csv poses!\n",
      "Starting to analyze %  C:\\Users\\GPU\\Documents\\DeepLabCut\\temp_kenzie\\CoM\\DTR\\DTR-M3\\DTR M3 20230411_Pre DTX\\CoM DTR M3 ts3_000010.avi\n",
      "C:\\Users\\GPU\\Documents\\DeepLabCut\\temp_kenzie\\CoM\\DTR\\DTR-M3\\DTR M3 20230411_Pre DTX  already exists!\n",
      "Loading  C:\\Users\\GPU\\Documents\\DeepLabCut\\temp_kenzie\\CoM\\DTR\\DTR-M3\\DTR M3 20230411_Pre DTX\\CoM DTR M3 ts3_000010.avi\n",
      "Duration of video [s]:  7.81 , recorded with  500.0 fps!\n",
      "Overall # of frames:  3904  found with (before cropping) frame dimensions:  1280 850\n",
      "Starting to extract posture\n"
     ]
    },
    {
     "name": "stderr",
     "output_type": "stream",
     "text": [
      "3939it [03:02, 21.57it/s]                                                                                                          \n"
     ]
    },
    {
     "name": "stdout",
     "output_type": "stream",
     "text": [
      "Saving results in C:\\Users\\GPU\\Documents\\DeepLabCut\\temp_kenzie\\CoM\\DTR\\DTR-M3\\DTR M3 20230411_Pre DTX...\n",
      "Saving csv poses!\n",
      "Starting to analyze %  C:\\Users\\GPU\\Documents\\DeepLabCut\\temp_kenzie\\CoM\\DTR\\DTR-M3\\DTR M3 20230411_Pre DTX\\CoM DTR M3 ts3_000011.avi\n",
      "C:\\Users\\GPU\\Documents\\DeepLabCut\\temp_kenzie\\CoM\\DTR\\DTR-M3\\DTR M3 20230411_Pre DTX  already exists!\n",
      "Loading  C:\\Users\\GPU\\Documents\\DeepLabCut\\temp_kenzie\\CoM\\DTR\\DTR-M3\\DTR M3 20230411_Pre DTX\\CoM DTR M3 ts3_000011.avi\n",
      "Duration of video [s]:  7.81 , recorded with  500.0 fps!\n",
      "Overall # of frames:  3904  found with (before cropping) frame dimensions:  1280 850\n",
      "Starting to extract posture\n"
     ]
    },
    {
     "name": "stderr",
     "output_type": "stream",
     "text": [
      "3939it [03:01, 21.69it/s]                                                                                                          \n"
     ]
    },
    {
     "name": "stdout",
     "output_type": "stream",
     "text": [
      "Saving results in C:\\Users\\GPU\\Documents\\DeepLabCut\\temp_kenzie\\CoM\\DTR\\DTR-M3\\DTR M3 20230411_Pre DTX...\n",
      "Saving csv poses!\n",
      "Starting to analyze %  C:\\Users\\GPU\\Documents\\DeepLabCut\\temp_kenzie\\CoM\\DTR\\DTR-M3\\DTR M3 20230411_Pre DTX\\CoM DTR M3 ts3_000012.avi\n",
      "C:\\Users\\GPU\\Documents\\DeepLabCut\\temp_kenzie\\CoM\\DTR\\DTR-M3\\DTR M3 20230411_Pre DTX  already exists!\n",
      "Loading  C:\\Users\\GPU\\Documents\\DeepLabCut\\temp_kenzie\\CoM\\DTR\\DTR-M3\\DTR M3 20230411_Pre DTX\\CoM DTR M3 ts3_000012.avi\n",
      "Duration of video [s]:  7.81 , recorded with  500.0 fps!\n",
      "Overall # of frames:  3904  found with (before cropping) frame dimensions:  1280 850\n",
      "Starting to extract posture\n"
     ]
    },
    {
     "name": "stderr",
     "output_type": "stream",
     "text": [
      "3939it [03:01, 21.66it/s]                                                                                                          \n"
     ]
    },
    {
     "name": "stdout",
     "output_type": "stream",
     "text": [
      "Saving results in C:\\Users\\GPU\\Documents\\DeepLabCut\\temp_kenzie\\CoM\\DTR\\DTR-M3\\DTR M3 20230411_Pre DTX...\n",
      "Saving csv poses!\n",
      "Starting to analyze %  C:\\Users\\GPU\\Documents\\DeepLabCut\\temp_kenzie\\CoM\\DTR\\DTR-M3\\DTR M3 20230411_Pre DTX\\CoM DTR M3 ts3_000013.avi\n",
      "C:\\Users\\GPU\\Documents\\DeepLabCut\\temp_kenzie\\CoM\\DTR\\DTR-M3\\DTR M3 20230411_Pre DTX  already exists!\n",
      "Loading  C:\\Users\\GPU\\Documents\\DeepLabCut\\temp_kenzie\\CoM\\DTR\\DTR-M3\\DTR M3 20230411_Pre DTX\\CoM DTR M3 ts3_000013.avi\n",
      "Duration of video [s]:  7.81 , recorded with  500.0 fps!\n",
      "Overall # of frames:  3904  found with (before cropping) frame dimensions:  1280 850\n",
      "Starting to extract posture\n"
     ]
    },
    {
     "name": "stderr",
     "output_type": "stream",
     "text": [
      "3939it [03:00, 21.81it/s]                                                                                                          \n"
     ]
    },
    {
     "name": "stdout",
     "output_type": "stream",
     "text": [
      "Saving results in C:\\Users\\GPU\\Documents\\DeepLabCut\\temp_kenzie\\CoM\\DTR\\DTR-M3\\DTR M3 20230411_Pre DTX...\n",
      "Saving csv poses!\n",
      "Starting to analyze %  C:\\Users\\GPU\\Documents\\DeepLabCut\\temp_kenzie\\CoM\\DTR\\DTR-M3\\DTR M3 20230411_Pre DTX\\CoM DTR M3 ts3_000014.avi\n",
      "C:\\Users\\GPU\\Documents\\DeepLabCut\\temp_kenzie\\CoM\\DTR\\DTR-M3\\DTR M3 20230411_Pre DTX  already exists!\n",
      "Loading  C:\\Users\\GPU\\Documents\\DeepLabCut\\temp_kenzie\\CoM\\DTR\\DTR-M3\\DTR M3 20230411_Pre DTX\\CoM DTR M3 ts3_000014.avi\n",
      "Duration of video [s]:  7.81 , recorded with  500.0 fps!\n",
      "Overall # of frames:  3904  found with (before cropping) frame dimensions:  1280 850\n",
      "Starting to extract posture\n"
     ]
    },
    {
     "name": "stderr",
     "output_type": "stream",
     "text": [
      "3939it [03:02, 21.64it/s]                                                                                                          \n"
     ]
    },
    {
     "name": "stdout",
     "output_type": "stream",
     "text": [
      "Saving results in C:\\Users\\GPU\\Documents\\DeepLabCut\\temp_kenzie\\CoM\\DTR\\DTR-M3\\DTR M3 20230411_Pre DTX...\n",
      "Saving csv poses!\n",
      "Starting to analyze %  C:\\Users\\GPU\\Documents\\DeepLabCut\\temp_kenzie\\CoM\\DTR\\DTR-M3\\DTR M3 20230411_Pre DTX\\CoM DTR M3 ts3_000015.avi\n",
      "C:\\Users\\GPU\\Documents\\DeepLabCut\\temp_kenzie\\CoM\\DTR\\DTR-M3\\DTR M3 20230411_Pre DTX  already exists!\n",
      "Loading  C:\\Users\\GPU\\Documents\\DeepLabCut\\temp_kenzie\\CoM\\DTR\\DTR-M3\\DTR M3 20230411_Pre DTX\\CoM DTR M3 ts3_000015.avi\n",
      "Duration of video [s]:  6.82 , recorded with  500.0 fps!\n",
      "Overall # of frames:  3410  found with (before cropping) frame dimensions:  1280 850\n",
      "Starting to extract posture\n"
     ]
    },
    {
     "name": "stderr",
     "output_type": "stream",
     "text": [
      "3434it [02:40, 21.45it/s]                                                                                                          \n"
     ]
    },
    {
     "name": "stdout",
     "output_type": "stream",
     "text": [
      "Saving results in C:\\Users\\GPU\\Documents\\DeepLabCut\\temp_kenzie\\CoM\\DTR\\DTR-M3\\DTR M3 20230411_Pre DTX...\n",
      "Saving csv poses!\n",
      "Starting to analyze %  C:\\Users\\GPU\\Documents\\DeepLabCut\\temp_kenzie\\CoM\\DTR\\DTR-M3\\DTR M3 20230411_Pre DTX\\CoM DTR M3 ts3_000016.avi\n",
      "C:\\Users\\GPU\\Documents\\DeepLabCut\\temp_kenzie\\CoM\\DTR\\DTR-M3\\DTR M3 20230411_Pre DTX  already exists!\n",
      "Loading  C:\\Users\\GPU\\Documents\\DeepLabCut\\temp_kenzie\\CoM\\DTR\\DTR-M3\\DTR M3 20230411_Pre DTX\\CoM DTR M3 ts3_000016.avi\n",
      "Duration of video [s]:  7.81 , recorded with  500.0 fps!\n",
      "Overall # of frames:  3904  found with (before cropping) frame dimensions:  1280 850\n",
      "Starting to extract posture\n"
     ]
    },
    {
     "name": "stderr",
     "output_type": "stream",
     "text": [
      "3939it [03:01, 21.65it/s]                                                                                                          \n"
     ]
    },
    {
     "name": "stdout",
     "output_type": "stream",
     "text": [
      "Saving results in C:\\Users\\GPU\\Documents\\DeepLabCut\\temp_kenzie\\CoM\\DTR\\DTR-M3\\DTR M3 20230411_Pre DTX...\n",
      "Saving csv poses!\n",
      "Starting to analyze %  C:\\Users\\GPU\\Documents\\DeepLabCut\\temp_kenzie\\CoM\\DTR\\DTR-M3\\DTR M3 20230411_Pre DTX\\CoM DTR M3 ts3_000017.avi\n",
      "C:\\Users\\GPU\\Documents\\DeepLabCut\\temp_kenzie\\CoM\\DTR\\DTR-M3\\DTR M3 20230411_Pre DTX  already exists!\n",
      "Loading  C:\\Users\\GPU\\Documents\\DeepLabCut\\temp_kenzie\\CoM\\DTR\\DTR-M3\\DTR M3 20230411_Pre DTX\\CoM DTR M3 ts3_000017.avi\n",
      "Duration of video [s]:  7.81 , recorded with  500.0 fps!\n",
      "Overall # of frames:  3904  found with (before cropping) frame dimensions:  1280 850\n",
      "Starting to extract posture\n"
     ]
    },
    {
     "name": "stderr",
     "output_type": "stream",
     "text": [
      "3939it [03:01, 21.76it/s]                                                                                                          \n"
     ]
    },
    {
     "name": "stdout",
     "output_type": "stream",
     "text": [
      "Saving results in C:\\Users\\GPU\\Documents\\DeepLabCut\\temp_kenzie\\CoM\\DTR\\DTR-M3\\DTR M3 20230411_Pre DTX...\n",
      "Saving csv poses!\n",
      "Starting to analyze %  C:\\Users\\GPU\\Documents\\DeepLabCut\\temp_kenzie\\CoM\\DTR\\DTR-M3\\DTR M3 20230411_Pre DTX\\CoM DTR M3 ts3_000018.avi\n",
      "C:\\Users\\GPU\\Documents\\DeepLabCut\\temp_kenzie\\CoM\\DTR\\DTR-M3\\DTR M3 20230411_Pre DTX  already exists!\n",
      "Loading  C:\\Users\\GPU\\Documents\\DeepLabCut\\temp_kenzie\\CoM\\DTR\\DTR-M3\\DTR M3 20230411_Pre DTX\\CoM DTR M3 ts3_000018.avi\n",
      "Duration of video [s]:  7.81 , recorded with  500.0 fps!\n",
      "Overall # of frames:  3904  found with (before cropping) frame dimensions:  1280 850\n",
      "Starting to extract posture\n"
     ]
    },
    {
     "name": "stderr",
     "output_type": "stream",
     "text": [
      "3939it [03:02, 21.59it/s]                                                                                                          \n"
     ]
    },
    {
     "name": "stdout",
     "output_type": "stream",
     "text": [
      "Saving results in C:\\Users\\GPU\\Documents\\DeepLabCut\\temp_kenzie\\CoM\\DTR\\DTR-M3\\DTR M3 20230411_Pre DTX...\n",
      "Saving csv poses!\n",
      "Starting to analyze %  C:\\Users\\GPU\\Documents\\DeepLabCut\\temp_kenzie\\CoM\\DTR\\DTR-M3\\DTR M3 20230411_Pre DTX\\CoM DTR M3 ts3_000019.avi\n",
      "C:\\Users\\GPU\\Documents\\DeepLabCut\\temp_kenzie\\CoM\\DTR\\DTR-M3\\DTR M3 20230411_Pre DTX  already exists!\n",
      "Loading  C:\\Users\\GPU\\Documents\\DeepLabCut\\temp_kenzie\\CoM\\DTR\\DTR-M3\\DTR M3 20230411_Pre DTX\\CoM DTR M3 ts3_000019.avi\n",
      "Duration of video [s]:  7.81 , recorded with  500.0 fps!\n",
      "Overall # of frames:  3904  found with (before cropping) frame dimensions:  1280 850\n",
      "Starting to extract posture\n"
     ]
    },
    {
     "name": "stderr",
     "output_type": "stream",
     "text": [
      "3939it [03:04, 21.35it/s]                                                                                                          \n"
     ]
    },
    {
     "name": "stdout",
     "output_type": "stream",
     "text": [
      "Saving results in C:\\Users\\GPU\\Documents\\DeepLabCut\\temp_kenzie\\CoM\\DTR\\DTR-M3\\DTR M3 20230411_Pre DTX...\n",
      "Saving csv poses!\n",
      "Starting to analyze %  C:\\Users\\GPU\\Documents\\DeepLabCut\\temp_kenzie\\CoM\\DTR\\DTR-M3\\DTR M3 20230411_Pre DTX\\CoM DTR M3 ts3_000020.avi\n",
      "C:\\Users\\GPU\\Documents\\DeepLabCut\\temp_kenzie\\CoM\\DTR\\DTR-M3\\DTR M3 20230411_Pre DTX  already exists!\n",
      "Loading  C:\\Users\\GPU\\Documents\\DeepLabCut\\temp_kenzie\\CoM\\DTR\\DTR-M3\\DTR M3 20230411_Pre DTX\\CoM DTR M3 ts3_000020.avi\n",
      "Duration of video [s]:  7.81 , recorded with  500.0 fps!\n",
      "Overall # of frames:  3904  found with (before cropping) frame dimensions:  1280 850\n",
      "Starting to extract posture\n"
     ]
    },
    {
     "name": "stderr",
     "output_type": "stream",
     "text": [
      "3939it [03:02, 21.63it/s]                                                                                                          \n"
     ]
    },
    {
     "name": "stdout",
     "output_type": "stream",
     "text": [
      "Saving results in C:\\Users\\GPU\\Documents\\DeepLabCut\\temp_kenzie\\CoM\\DTR\\DTR-M3\\DTR M3 20230411_Pre DTX...\n",
      "Saving csv poses!\n",
      "Starting to analyze %  C:\\Users\\GPU\\Documents\\DeepLabCut\\temp_kenzie\\CoM\\DTR\\DTR-M3\\DTR M3 20230411_Pre DTX\\CoM DTR M3 ts3_000021.avi\n",
      "C:\\Users\\GPU\\Documents\\DeepLabCut\\temp_kenzie\\CoM\\DTR\\DTR-M3\\DTR M3 20230411_Pre DTX  already exists!\n",
      "Loading  C:\\Users\\GPU\\Documents\\DeepLabCut\\temp_kenzie\\CoM\\DTR\\DTR-M3\\DTR M3 20230411_Pre DTX\\CoM DTR M3 ts3_000021.avi\n",
      "Duration of video [s]:  7.81 , recorded with  500.0 fps!\n",
      "Overall # of frames:  3904  found with (before cropping) frame dimensions:  1280 850\n",
      "Starting to extract posture\n"
     ]
    },
    {
     "name": "stderr",
     "output_type": "stream",
     "text": [
      "3939it [03:01, 21.75it/s]                                                                                                          \n"
     ]
    },
    {
     "name": "stdout",
     "output_type": "stream",
     "text": [
      "Saving results in C:\\Users\\GPU\\Documents\\DeepLabCut\\temp_kenzie\\CoM\\DTR\\DTR-M3\\DTR M3 20230411_Pre DTX...\n",
      "Saving csv poses!\n",
      "Starting to analyze %  C:\\Users\\GPU\\Documents\\DeepLabCut\\temp_kenzie\\CoM\\DTR\\DTR-M3\\DTR M3 20230411_Pre DTX\\CoM DTR M3 ts3_000022.avi\n",
      "C:\\Users\\GPU\\Documents\\DeepLabCut\\temp_kenzie\\CoM\\DTR\\DTR-M3\\DTR M3 20230411_Pre DTX  already exists!\n",
      "Loading  C:\\Users\\GPU\\Documents\\DeepLabCut\\temp_kenzie\\CoM\\DTR\\DTR-M3\\DTR M3 20230411_Pre DTX\\CoM DTR M3 ts3_000022.avi\n",
      "Duration of video [s]:  7.81 , recorded with  500.0 fps!\n",
      "Overall # of frames:  3904  found with (before cropping) frame dimensions:  1280 850\n",
      "Starting to extract posture\n"
     ]
    },
    {
     "name": "stderr",
     "output_type": "stream",
     "text": [
      "3939it [03:00, 21.80it/s]                                                                                                          \n"
     ]
    },
    {
     "name": "stdout",
     "output_type": "stream",
     "text": [
      "Saving results in C:\\Users\\GPU\\Documents\\DeepLabCut\\temp_kenzie\\CoM\\DTR\\DTR-M3\\DTR M3 20230411_Pre DTX...\n",
      "Saving csv poses!\n",
      "Starting to analyze %  C:\\Users\\GPU\\Documents\\DeepLabCut\\temp_kenzie\\CoM\\DTR\\DTR-M3\\DTR M3 20230411_Pre DTX\\CoM DTR M3 ts3_000023.avi\n",
      "C:\\Users\\GPU\\Documents\\DeepLabCut\\temp_kenzie\\CoM\\DTR\\DTR-M3\\DTR M3 20230411_Pre DTX  already exists!\n",
      "Loading  C:\\Users\\GPU\\Documents\\DeepLabCut\\temp_kenzie\\CoM\\DTR\\DTR-M3\\DTR M3 20230411_Pre DTX\\CoM DTR M3 ts3_000023.avi\n",
      "Duration of video [s]:  7.81 , recorded with  500.0 fps!\n",
      "Overall # of frames:  3904  found with (before cropping) frame dimensions:  1280 850\n",
      "Starting to extract posture\n"
     ]
    },
    {
     "name": "stderr",
     "output_type": "stream",
     "text": [
      "3939it [03:01, 21.72it/s]                                                                                                          \n"
     ]
    },
    {
     "name": "stdout",
     "output_type": "stream",
     "text": [
      "Saving results in C:\\Users\\GPU\\Documents\\DeepLabCut\\temp_kenzie\\CoM\\DTR\\DTR-M3\\DTR M3 20230411_Pre DTX...\n",
      "Saving csv poses!\n",
      "Starting to analyze %  C:\\Users\\GPU\\Documents\\DeepLabCut\\temp_kenzie\\CoM\\DTR\\DTR-M3\\DTR M3 20230411_Pre DTX\\CoM DTR M3 ts3_000024.avi\n",
      "C:\\Users\\GPU\\Documents\\DeepLabCut\\temp_kenzie\\CoM\\DTR\\DTR-M3\\DTR M3 20230411_Pre DTX  already exists!\n",
      "Loading  C:\\Users\\GPU\\Documents\\DeepLabCut\\temp_kenzie\\CoM\\DTR\\DTR-M3\\DTR M3 20230411_Pre DTX\\CoM DTR M3 ts3_000024.avi\n",
      "Duration of video [s]:  7.81 , recorded with  500.0 fps!\n",
      "Overall # of frames:  3904  found with (before cropping) frame dimensions:  1280 850\n",
      "Starting to extract posture\n"
     ]
    },
    {
     "name": "stderr",
     "output_type": "stream",
     "text": [
      "3939it [03:02, 21.54it/s]                                                                                                          \n"
     ]
    },
    {
     "name": "stdout",
     "output_type": "stream",
     "text": [
      "Saving results in C:\\Users\\GPU\\Documents\\DeepLabCut\\temp_kenzie\\CoM\\DTR\\DTR-M3\\DTR M3 20230411_Pre DTX...\n",
      "Saving csv poses!\n",
      "Starting to analyze %  C:\\Users\\GPU\\Documents\\DeepLabCut\\temp_kenzie\\CoM\\DTR\\DTR-M3\\DTR M3 20230411_Pre DTX\\CoM DTR M3 ts3_000025.avi\n",
      "C:\\Users\\GPU\\Documents\\DeepLabCut\\temp_kenzie\\CoM\\DTR\\DTR-M3\\DTR M3 20230411_Pre DTX  already exists!\n",
      "Loading  C:\\Users\\GPU\\Documents\\DeepLabCut\\temp_kenzie\\CoM\\DTR\\DTR-M3\\DTR M3 20230411_Pre DTX\\CoM DTR M3 ts3_000025.avi\n",
      "Duration of video [s]:  3.8 , recorded with  500.0 fps!\n",
      "Overall # of frames:  1900  found with (before cropping) frame dimensions:  1280 850\n",
      "Starting to extract posture\n"
     ]
    },
    {
     "name": "stderr",
     "output_type": "stream",
     "text": [
      "1919it [01:28, 21.59it/s]                                                                                                          \n"
     ]
    },
    {
     "name": "stdout",
     "output_type": "stream",
     "text": [
      "Saving results in C:\\Users\\GPU\\Documents\\DeepLabCut\\temp_kenzie\\CoM\\DTR\\DTR-M3\\DTR M3 20230411_Pre DTX...\n",
      "Saving csv poses!\n",
      "Starting to analyze %  C:\\Users\\GPU\\Documents\\DeepLabCut\\temp_kenzie\\CoM\\DTR\\DTR-M5\\DTR-M5-20230404_pre-DTX\\CoM DTR M5 ts3_000000.avi\n",
      "C:\\Users\\GPU\\Documents\\DeepLabCut\\temp_kenzie\\CoM\\DTR\\DTR-M5\\DTR-M5-20230404_pre-DTX  already exists!\n",
      "Loading  C:\\Users\\GPU\\Documents\\DeepLabCut\\temp_kenzie\\CoM\\DTR\\DTR-M5\\DTR-M5-20230404_pre-DTX\\CoM DTR M5 ts3_000000.avi\n",
      "Duration of video [s]:  7.81 , recorded with  500.0 fps!\n",
      "Overall # of frames:  3904  found with (before cropping) frame dimensions:  1280 850\n",
      "Starting to extract posture\n"
     ]
    },
    {
     "name": "stderr",
     "output_type": "stream",
     "text": [
      "3939it [03:01, 21.65it/s]                                                                                                          \n"
     ]
    },
    {
     "name": "stdout",
     "output_type": "stream",
     "text": [
      "Saving results in C:\\Users\\GPU\\Documents\\DeepLabCut\\temp_kenzie\\CoM\\DTR\\DTR-M5\\DTR-M5-20230404_pre-DTX...\n",
      "Saving csv poses!\n",
      "Starting to analyze %  C:\\Users\\GPU\\Documents\\DeepLabCut\\temp_kenzie\\CoM\\DTR\\DTR-M5\\DTR-M5-20230404_pre-DTX\\CoM DTR M5 ts3_000001.avi\n",
      "C:\\Users\\GPU\\Documents\\DeepLabCut\\temp_kenzie\\CoM\\DTR\\DTR-M5\\DTR-M5-20230404_pre-DTX  already exists!\n",
      "Loading  C:\\Users\\GPU\\Documents\\DeepLabCut\\temp_kenzie\\CoM\\DTR\\DTR-M5\\DTR-M5-20230404_pre-DTX\\CoM DTR M5 ts3_000001.avi\n",
      "Duration of video [s]:  7.81 , recorded with  500.0 fps!\n",
      "Overall # of frames:  3904  found with (before cropping) frame dimensions:  1280 850\n",
      "Starting to extract posture\n"
     ]
    },
    {
     "name": "stderr",
     "output_type": "stream",
     "text": [
      "3939it [03:01, 21.72it/s]                                                                                                          \n"
     ]
    },
    {
     "name": "stdout",
     "output_type": "stream",
     "text": [
      "Saving results in C:\\Users\\GPU\\Documents\\DeepLabCut\\temp_kenzie\\CoM\\DTR\\DTR-M5\\DTR-M5-20230404_pre-DTX...\n",
      "Saving csv poses!\n",
      "Starting to analyze %  C:\\Users\\GPU\\Documents\\DeepLabCut\\temp_kenzie\\CoM\\DTR\\DTR-M5\\DTR-M5-20230404_pre-DTX\\CoM DTR M5 ts3_000002.avi\n",
      "C:\\Users\\GPU\\Documents\\DeepLabCut\\temp_kenzie\\CoM\\DTR\\DTR-M5\\DTR-M5-20230404_pre-DTX  already exists!\n",
      "Loading  C:\\Users\\GPU\\Documents\\DeepLabCut\\temp_kenzie\\CoM\\DTR\\DTR-M5\\DTR-M5-20230404_pre-DTX\\CoM DTR M5 ts3_000002.avi\n",
      "Duration of video [s]:  7.81 , recorded with  500.0 fps!\n",
      "Overall # of frames:  3904  found with (before cropping) frame dimensions:  1280 850\n",
      "Starting to extract posture\n"
     ]
    },
    {
     "name": "stderr",
     "output_type": "stream",
     "text": [
      "3939it [03:02, 21.54it/s]                                                                                                          \n"
     ]
    },
    {
     "name": "stdout",
     "output_type": "stream",
     "text": [
      "Saving results in C:\\Users\\GPU\\Documents\\DeepLabCut\\temp_kenzie\\CoM\\DTR\\DTR-M5\\DTR-M5-20230404_pre-DTX...\n",
      "Saving csv poses!\n",
      "Starting to analyze %  C:\\Users\\GPU\\Documents\\DeepLabCut\\temp_kenzie\\CoM\\DTR\\DTR-M5\\DTR-M5-20230404_pre-DTX\\CoM DTR M5 ts3_000003.avi\n",
      "C:\\Users\\GPU\\Documents\\DeepLabCut\\temp_kenzie\\CoM\\DTR\\DTR-M5\\DTR-M5-20230404_pre-DTX  already exists!\n",
      "Loading  C:\\Users\\GPU\\Documents\\DeepLabCut\\temp_kenzie\\CoM\\DTR\\DTR-M5\\DTR-M5-20230404_pre-DTX\\CoM DTR M5 ts3_000003.avi\n",
      "Duration of video [s]:  7.81 , recorded with  500.0 fps!\n",
      "Overall # of frames:  3904  found with (before cropping) frame dimensions:  1280 850\n",
      "Starting to extract posture\n"
     ]
    },
    {
     "name": "stderr",
     "output_type": "stream",
     "text": [
      "3939it [03:02, 21.56it/s]                                                                                                          \n"
     ]
    },
    {
     "name": "stdout",
     "output_type": "stream",
     "text": [
      "Saving results in C:\\Users\\GPU\\Documents\\DeepLabCut\\temp_kenzie\\CoM\\DTR\\DTR-M5\\DTR-M5-20230404_pre-DTX...\n",
      "Saving csv poses!\n",
      "Starting to analyze %  C:\\Users\\GPU\\Documents\\DeepLabCut\\temp_kenzie\\CoM\\DTR\\DTR-M5\\DTR-M5-20230404_pre-DTX\\CoM DTR M5 ts3_000004.avi\n",
      "C:\\Users\\GPU\\Documents\\DeepLabCut\\temp_kenzie\\CoM\\DTR\\DTR-M5\\DTR-M5-20230404_pre-DTX  already exists!\n",
      "Loading  C:\\Users\\GPU\\Documents\\DeepLabCut\\temp_kenzie\\CoM\\DTR\\DTR-M5\\DTR-M5-20230404_pre-DTX\\CoM DTR M5 ts3_000004.avi\n",
      "Duration of video [s]:  7.81 , recorded with  500.0 fps!\n",
      "Overall # of frames:  3904  found with (before cropping) frame dimensions:  1280 850\n",
      "Starting to extract posture\n"
     ]
    },
    {
     "name": "stderr",
     "output_type": "stream",
     "text": [
      "3939it [03:03, 21.48it/s]                                                                                                          \n"
     ]
    },
    {
     "name": "stdout",
     "output_type": "stream",
     "text": [
      "Saving results in C:\\Users\\GPU\\Documents\\DeepLabCut\\temp_kenzie\\CoM\\DTR\\DTR-M5\\DTR-M5-20230404_pre-DTX...\n",
      "Saving csv poses!\n",
      "Starting to analyze %  C:\\Users\\GPU\\Documents\\DeepLabCut\\temp_kenzie\\CoM\\DTR\\DTR-M5\\DTR-M5-20230404_pre-DTX\\CoM DTR M5 ts3_000005.avi\n",
      "C:\\Users\\GPU\\Documents\\DeepLabCut\\temp_kenzie\\CoM\\DTR\\DTR-M5\\DTR-M5-20230404_pre-DTX  already exists!\n",
      "Loading  C:\\Users\\GPU\\Documents\\DeepLabCut\\temp_kenzie\\CoM\\DTR\\DTR-M5\\DTR-M5-20230404_pre-DTX\\CoM DTR M5 ts3_000005.avi\n",
      "Duration of video [s]:  4.04 , recorded with  500.0 fps!\n",
      "Overall # of frames:  2020  found with (before cropping) frame dimensions:  1280 850\n",
      "Starting to extract posture\n"
     ]
    },
    {
     "name": "stderr",
     "output_type": "stream",
     "text": [
      "2040it [01:34, 21.56it/s]                                                                                                          \n"
     ]
    },
    {
     "name": "stdout",
     "output_type": "stream",
     "text": [
      "Saving results in C:\\Users\\GPU\\Documents\\DeepLabCut\\temp_kenzie\\CoM\\DTR\\DTR-M5\\DTR-M5-20230404_pre-DTX...\n",
      "Saving csv poses!\n",
      "Starting to analyze %  C:\\Users\\GPU\\Documents\\DeepLabCut\\temp_kenzie\\CoM\\DTR\\DTR-M5\\DTR-M5-20230404_pre-DTX\\CoM DTR M5 ts3_000006.avi\n",
      "C:\\Users\\GPU\\Documents\\DeepLabCut\\temp_kenzie\\CoM\\DTR\\DTR-M5\\DTR-M5-20230404_pre-DTX  already exists!\n",
      "Loading  C:\\Users\\GPU\\Documents\\DeepLabCut\\temp_kenzie\\CoM\\DTR\\DTR-M5\\DTR-M5-20230404_pre-DTX\\CoM DTR M5 ts3_000006.avi\n",
      "Duration of video [s]:  4.42 , recorded with  500.0 fps!\n",
      "Overall # of frames:  2208  found with (before cropping) frame dimensions:  1280 850\n",
      "Starting to extract posture\n"
     ]
    },
    {
     "name": "stderr",
     "output_type": "stream",
     "text": [
      "2222it [01:42, 21.59it/s]                                                                                                          \n"
     ]
    },
    {
     "name": "stdout",
     "output_type": "stream",
     "text": [
      "Saving results in C:\\Users\\GPU\\Documents\\DeepLabCut\\temp_kenzie\\CoM\\DTR\\DTR-M5\\DTR-M5-20230404_pre-DTX...\n",
      "Saving csv poses!\n",
      "Starting to analyze %  C:\\Users\\GPU\\Documents\\DeepLabCut\\temp_kenzie\\CoM\\DTR\\DTR-M5\\DTR-M5-20230404_pre-DTX\\CoM DTR M5 ts3_000007.avi\n",
      "C:\\Users\\GPU\\Documents\\DeepLabCut\\temp_kenzie\\CoM\\DTR\\DTR-M5\\DTR-M5-20230404_pre-DTX  already exists!\n",
      "Loading  C:\\Users\\GPU\\Documents\\DeepLabCut\\temp_kenzie\\CoM\\DTR\\DTR-M5\\DTR-M5-20230404_pre-DTX\\CoM DTR M5 ts3_000007.avi\n",
      "Duration of video [s]:  5.19 , recorded with  500.0 fps!\n",
      "Overall # of frames:  2594  found with (before cropping) frame dimensions:  1280 850\n",
      "Starting to extract posture\n"
     ]
    },
    {
     "name": "stderr",
     "output_type": "stream",
     "text": [
      "2600it [02:01, 21.45it/s]                                                                                                          \n"
     ]
    },
    {
     "name": "stdout",
     "output_type": "stream",
     "text": [
      "Saving results in C:\\Users\\GPU\\Documents\\DeepLabCut\\temp_kenzie\\CoM\\DTR\\DTR-M5\\DTR-M5-20230404_pre-DTX...\n",
      "Saving csv poses!\n",
      "Starting to analyze %  C:\\Users\\GPU\\Documents\\DeepLabCut\\temp_kenzie\\CoM\\DTR\\DTR-M5\\DTR-M5-20230404_pre-DTX\\CoM DTR M5 ts3_000008.avi\n",
      "C:\\Users\\GPU\\Documents\\DeepLabCut\\temp_kenzie\\CoM\\DTR\\DTR-M5\\DTR-M5-20230404_pre-DTX  already exists!\n",
      "Loading  C:\\Users\\GPU\\Documents\\DeepLabCut\\temp_kenzie\\CoM\\DTR\\DTR-M5\\DTR-M5-20230404_pre-DTX\\CoM DTR M5 ts3_000008.avi\n",
      "Duration of video [s]:  5.46 , recorded with  500.0 fps!\n",
      "Overall # of frames:  2729  found with (before cropping) frame dimensions:  1280 850\n",
      "Starting to extract posture\n"
     ]
    },
    {
     "name": "stderr",
     "output_type": "stream",
     "text": [
      "2754it [02:06, 21.83it/s]                                                                                                          \n"
     ]
    },
    {
     "name": "stdout",
     "output_type": "stream",
     "text": [
      "Saving results in C:\\Users\\GPU\\Documents\\DeepLabCut\\temp_kenzie\\CoM\\DTR\\DTR-M5\\DTR-M5-20230404_pre-DTX...\n",
      "Saving csv poses!\n",
      "Starting to analyze %  C:\\Users\\GPU\\Documents\\DeepLabCut\\temp_kenzie\\CoM\\DTR\\DTR-M5\\DTR-M5-20230404_pre-DTX\\CoM DTR M5 ts3_000009.avi\n",
      "C:\\Users\\GPU\\Documents\\DeepLabCut\\temp_kenzie\\CoM\\DTR\\DTR-M5\\DTR-M5-20230404_pre-DTX  already exists!\n",
      "Loading  C:\\Users\\GPU\\Documents\\DeepLabCut\\temp_kenzie\\CoM\\DTR\\DTR-M5\\DTR-M5-20230404_pre-DTX\\CoM DTR M5 ts3_000009.avi\n",
      "Duration of video [s]:  3.48 , recorded with  500.0 fps!\n",
      "Overall # of frames:  1742  found with (before cropping) frame dimensions:  1280 850\n",
      "Starting to extract posture\n"
     ]
    },
    {
     "name": "stderr",
     "output_type": "stream",
     "text": [
      "1751it [01:21, 21.57it/s]                                                                                                          \n"
     ]
    },
    {
     "name": "stdout",
     "output_type": "stream",
     "text": [
      "Saving results in C:\\Users\\GPU\\Documents\\DeepLabCut\\temp_kenzie\\CoM\\DTR\\DTR-M5\\DTR-M5-20230404_pre-DTX...\n",
      "Saving csv poses!\n",
      "Starting to analyze %  C:\\Users\\GPU\\Documents\\DeepLabCut\\temp_kenzie\\CoM\\DTR\\DTR-M5\\DTR-M5-20230404_pre-DTX\\CoM DTR M5 ts3_000010.avi\n",
      "C:\\Users\\GPU\\Documents\\DeepLabCut\\temp_kenzie\\CoM\\DTR\\DTR-M5\\DTR-M5-20230404_pre-DTX  already exists!\n",
      "Loading  C:\\Users\\GPU\\Documents\\DeepLabCut\\temp_kenzie\\CoM\\DTR\\DTR-M5\\DTR-M5-20230404_pre-DTX\\CoM DTR M5 ts3_000010.avi\n",
      "Duration of video [s]:  7.81 , recorded with  500.0 fps!\n",
      "Overall # of frames:  3904  found with (before cropping) frame dimensions:  1280 850\n",
      "Starting to extract posture\n"
     ]
    },
    {
     "name": "stderr",
     "output_type": "stream",
     "text": [
      "3939it [03:01, 21.68it/s]                                                                                                          \n"
     ]
    },
    {
     "name": "stdout",
     "output_type": "stream",
     "text": [
      "Saving results in C:\\Users\\GPU\\Documents\\DeepLabCut\\temp_kenzie\\CoM\\DTR\\DTR-M5\\DTR-M5-20230404_pre-DTX...\n",
      "Saving csv poses!\n",
      "Starting to analyze %  C:\\Users\\GPU\\Documents\\DeepLabCut\\temp_kenzie\\CoM\\DTR\\DTR-M5\\DTR-M5-20230404_pre-DTX\\CoM DTR M5 ts3_000011.avi\n",
      "C:\\Users\\GPU\\Documents\\DeepLabCut\\temp_kenzie\\CoM\\DTR\\DTR-M5\\DTR-M5-20230404_pre-DTX  already exists!\n",
      "Loading  C:\\Users\\GPU\\Documents\\DeepLabCut\\temp_kenzie\\CoM\\DTR\\DTR-M5\\DTR-M5-20230404_pre-DTX\\CoM DTR M5 ts3_000011.avi\n",
      "Duration of video [s]:  7.81 , recorded with  500.0 fps!\n",
      "Overall # of frames:  3904  found with (before cropping) frame dimensions:  1280 850\n",
      "Starting to extract posture\n"
     ]
    },
    {
     "name": "stderr",
     "output_type": "stream",
     "text": [
      "3939it [03:00, 21.87it/s]                                                                                                          \n"
     ]
    },
    {
     "name": "stdout",
     "output_type": "stream",
     "text": [
      "Saving results in C:\\Users\\GPU\\Documents\\DeepLabCut\\temp_kenzie\\CoM\\DTR\\DTR-M5\\DTR-M5-20230404_pre-DTX...\n",
      "Saving csv poses!\n",
      "Starting to analyze %  C:\\Users\\GPU\\Documents\\DeepLabCut\\temp_kenzie\\CoM\\DTR\\DTR-M5\\DTR-M5-20230404_pre-DTX\\CoM DTR M5 ts3_000012.avi\n",
      "C:\\Users\\GPU\\Documents\\DeepLabCut\\temp_kenzie\\CoM\\DTR\\DTR-M5\\DTR-M5-20230404_pre-DTX  already exists!\n",
      "Loading  C:\\Users\\GPU\\Documents\\DeepLabCut\\temp_kenzie\\CoM\\DTR\\DTR-M5\\DTR-M5-20230404_pre-DTX\\CoM DTR M5 ts3_000012.avi\n",
      "Duration of video [s]:  7.81 , recorded with  500.0 fps!\n",
      "Overall # of frames:  3904  found with (before cropping) frame dimensions:  1280 850\n",
      "Starting to extract posture\n"
     ]
    },
    {
     "name": "stderr",
     "output_type": "stream",
     "text": [
      "3939it [03:02, 21.63it/s]                                                                                                          \n"
     ]
    },
    {
     "name": "stdout",
     "output_type": "stream",
     "text": [
      "Saving results in C:\\Users\\GPU\\Documents\\DeepLabCut\\temp_kenzie\\CoM\\DTR\\DTR-M5\\DTR-M5-20230404_pre-DTX...\n",
      "Saving csv poses!\n",
      "Starting to analyze %  C:\\Users\\GPU\\Documents\\DeepLabCut\\temp_kenzie\\CoM\\DTR\\DTR-M5\\DTR-M5-20230404_pre-DTX\\CoM DTR M5 ts3_000013.avi\n",
      "C:\\Users\\GPU\\Documents\\DeepLabCut\\temp_kenzie\\CoM\\DTR\\DTR-M5\\DTR-M5-20230404_pre-DTX  already exists!\n",
      "Loading  C:\\Users\\GPU\\Documents\\DeepLabCut\\temp_kenzie\\CoM\\DTR\\DTR-M5\\DTR-M5-20230404_pre-DTX\\CoM DTR M5 ts3_000013.avi\n",
      "Duration of video [s]:  7.81 , recorded with  500.0 fps!\n",
      "Overall # of frames:  3904  found with (before cropping) frame dimensions:  1280 850\n",
      "Starting to extract posture\n"
     ]
    },
    {
     "name": "stderr",
     "output_type": "stream",
     "text": [
      "3939it [03:01, 21.74it/s]                                                                                                          \n"
     ]
    },
    {
     "name": "stdout",
     "output_type": "stream",
     "text": [
      "Saving results in C:\\Users\\GPU\\Documents\\DeepLabCut\\temp_kenzie\\CoM\\DTR\\DTR-M5\\DTR-M5-20230404_pre-DTX...\n",
      "Saving csv poses!\n",
      "Starting to analyze %  C:\\Users\\GPU\\Documents\\DeepLabCut\\temp_kenzie\\CoM\\DTR\\DTR-M5\\DTR-M5-20230404_pre-DTX\\CoM DTR M5 ts3_000014.avi\n",
      "C:\\Users\\GPU\\Documents\\DeepLabCut\\temp_kenzie\\CoM\\DTR\\DTR-M5\\DTR-M5-20230404_pre-DTX  already exists!\n",
      "Loading  C:\\Users\\GPU\\Documents\\DeepLabCut\\temp_kenzie\\CoM\\DTR\\DTR-M5\\DTR-M5-20230404_pre-DTX\\CoM DTR M5 ts3_000014.avi\n",
      "Duration of video [s]:  7.81 , recorded with  500.0 fps!\n",
      "Overall # of frames:  3904  found with (before cropping) frame dimensions:  1280 850\n",
      "Starting to extract posture\n"
     ]
    },
    {
     "name": "stderr",
     "output_type": "stream",
     "text": [
      "3939it [03:02, 21.54it/s]                                                                                                          \n"
     ]
    },
    {
     "name": "stdout",
     "output_type": "stream",
     "text": [
      "Saving results in C:\\Users\\GPU\\Documents\\DeepLabCut\\temp_kenzie\\CoM\\DTR\\DTR-M5\\DTR-M5-20230404_pre-DTX...\n",
      "Saving csv poses!\n",
      "Starting to analyze %  C:\\Users\\GPU\\Documents\\DeepLabCut\\temp_kenzie\\CoM\\DTR\\DTR-M5\\DTR-M5-20230404_pre-DTX\\CoM DTR M5 ts3_000015.avi\n",
      "C:\\Users\\GPU\\Documents\\DeepLabCut\\temp_kenzie\\CoM\\DTR\\DTR-M5\\DTR-M5-20230404_pre-DTX  already exists!\n",
      "Loading  C:\\Users\\GPU\\Documents\\DeepLabCut\\temp_kenzie\\CoM\\DTR\\DTR-M5\\DTR-M5-20230404_pre-DTX\\CoM DTR M5 ts3_000015.avi\n",
      "Duration of video [s]:  7.81 , recorded with  500.0 fps!\n",
      "Overall # of frames:  3904  found with (before cropping) frame dimensions:  1280 850\n",
      "Starting to extract posture\n"
     ]
    },
    {
     "name": "stderr",
     "output_type": "stream",
     "text": [
      "3939it [03:01, 21.70it/s]                                                                                                          \n"
     ]
    },
    {
     "name": "stdout",
     "output_type": "stream",
     "text": [
      "Saving results in C:\\Users\\GPU\\Documents\\DeepLabCut\\temp_kenzie\\CoM\\DTR\\DTR-M5\\DTR-M5-20230404_pre-DTX...\n",
      "Saving csv poses!\n",
      "Starting to analyze %  C:\\Users\\GPU\\Documents\\DeepLabCut\\temp_kenzie\\CoM\\DTR\\DTR-M5\\DTR-M5-20230404_pre-DTX\\CoM DTR M5 ts3_000016.avi\n",
      "C:\\Users\\GPU\\Documents\\DeepLabCut\\temp_kenzie\\CoM\\DTR\\DTR-M5\\DTR-M5-20230404_pre-DTX  already exists!\n",
      "Loading  C:\\Users\\GPU\\Documents\\DeepLabCut\\temp_kenzie\\CoM\\DTR\\DTR-M5\\DTR-M5-20230404_pre-DTX\\CoM DTR M5 ts3_000016.avi\n",
      "Duration of video [s]:  7.81 , recorded with  500.0 fps!\n",
      "Overall # of frames:  3904  found with (before cropping) frame dimensions:  1280 850\n",
      "Starting to extract posture\n"
     ]
    },
    {
     "name": "stderr",
     "output_type": "stream",
     "text": [
      "3939it [03:02, 21.54it/s]                                                                                                          \n"
     ]
    },
    {
     "name": "stdout",
     "output_type": "stream",
     "text": [
      "Saving results in C:\\Users\\GPU\\Documents\\DeepLabCut\\temp_kenzie\\CoM\\DTR\\DTR-M5\\DTR-M5-20230404_pre-DTX...\n",
      "Saving csv poses!\n",
      "Starting to analyze %  C:\\Users\\GPU\\Documents\\DeepLabCut\\temp_kenzie\\CoM\\DTR\\DTR-M5\\DTR-M5-20230404_pre-DTX\\CoM DTR M5 ts3_000017.avi\n",
      "C:\\Users\\GPU\\Documents\\DeepLabCut\\temp_kenzie\\CoM\\DTR\\DTR-M5\\DTR-M5-20230404_pre-DTX  already exists!\n",
      "Loading  C:\\Users\\GPU\\Documents\\DeepLabCut\\temp_kenzie\\CoM\\DTR\\DTR-M5\\DTR-M5-20230404_pre-DTX\\CoM DTR M5 ts3_000017.avi\n",
      "Duration of video [s]:  7.81 , recorded with  500.0 fps!\n",
      "Overall # of frames:  3904  found with (before cropping) frame dimensions:  1280 850\n",
      "Starting to extract posture\n"
     ]
    },
    {
     "name": "stderr",
     "output_type": "stream",
     "text": [
      "3939it [03:02, 21.54it/s]                                                                                                          \n"
     ]
    },
    {
     "name": "stdout",
     "output_type": "stream",
     "text": [
      "Saving results in C:\\Users\\GPU\\Documents\\DeepLabCut\\temp_kenzie\\CoM\\DTR\\DTR-M5\\DTR-M5-20230404_pre-DTX...\n",
      "Saving csv poses!\n",
      "Starting to analyze %  C:\\Users\\GPU\\Documents\\DeepLabCut\\temp_kenzie\\CoM\\DTR\\DTR-M5\\DTR-M5-20230404_pre-DTX\\CoM DTR M5 ts3_000018.avi\n",
      "C:\\Users\\GPU\\Documents\\DeepLabCut\\temp_kenzie\\CoM\\DTR\\DTR-M5\\DTR-M5-20230404_pre-DTX  already exists!\n",
      "Loading  C:\\Users\\GPU\\Documents\\DeepLabCut\\temp_kenzie\\CoM\\DTR\\DTR-M5\\DTR-M5-20230404_pre-DTX\\CoM DTR M5 ts3_000018.avi\n",
      "Duration of video [s]:  6.35 , recorded with  500.0 fps!\n",
      "Overall # of frames:  3177  found with (before cropping) frame dimensions:  1280 850\n",
      "Starting to extract posture\n"
     ]
    },
    {
     "name": "stderr",
     "output_type": "stream",
     "text": [
      "3193it [02:28, 21.49it/s]                                                                                                          \n"
     ]
    },
    {
     "name": "stdout",
     "output_type": "stream",
     "text": [
      "Saving results in C:\\Users\\GPU\\Documents\\DeepLabCut\\temp_kenzie\\CoM\\DTR\\DTR-M5\\DTR-M5-20230404_pre-DTX...\n",
      "Saving csv poses!\n",
      "Starting to analyze %  C:\\Users\\GPU\\Documents\\DeepLabCut\\temp_kenzie\\CoM\\DTR\\DTR-M5\\DTR-M5-20230404_pre-DTX\\CoM DTR M5 ts3_000019.avi\n",
      "C:\\Users\\GPU\\Documents\\DeepLabCut\\temp_kenzie\\CoM\\DTR\\DTR-M5\\DTR-M5-20230404_pre-DTX  already exists!\n",
      "Loading  C:\\Users\\GPU\\Documents\\DeepLabCut\\temp_kenzie\\CoM\\DTR\\DTR-M5\\DTR-M5-20230404_pre-DTX\\CoM DTR M5 ts3_000019.avi\n",
      "Duration of video [s]:  7.81 , recorded with  500.0 fps!\n",
      "Overall # of frames:  3904  found with (before cropping) frame dimensions:  1280 850\n",
      "Starting to extract posture\n"
     ]
    },
    {
     "name": "stderr",
     "output_type": "stream",
     "text": [
      "3939it [03:01, 21.75it/s]                                                                                                          \n"
     ]
    },
    {
     "name": "stdout",
     "output_type": "stream",
     "text": [
      "Saving results in C:\\Users\\GPU\\Documents\\DeepLabCut\\temp_kenzie\\CoM\\DTR\\DTR-M5\\DTR-M5-20230404_pre-DTX...\n",
      "Saving csv poses!\n",
      "Starting to analyze %  C:\\Users\\GPU\\Documents\\DeepLabCut\\temp_kenzie\\CoM\\DTR\\DTR-M5\\DTR-M5-20230404_pre-DTX\\CoM DTR M5 ts3_000020.avi\n",
      "C:\\Users\\GPU\\Documents\\DeepLabCut\\temp_kenzie\\CoM\\DTR\\DTR-M5\\DTR-M5-20230404_pre-DTX  already exists!\n",
      "Loading  C:\\Users\\GPU\\Documents\\DeepLabCut\\temp_kenzie\\CoM\\DTR\\DTR-M5\\DTR-M5-20230404_pre-DTX\\CoM DTR M5 ts3_000020.avi\n",
      "Duration of video [s]:  7.81 , recorded with  500.0 fps!\n",
      "Overall # of frames:  3904  found with (before cropping) frame dimensions:  1280 850\n",
      "Starting to extract posture\n"
     ]
    },
    {
     "name": "stderr",
     "output_type": "stream",
     "text": [
      "3939it [03:01, 21.75it/s]                                                                                                          \n"
     ]
    },
    {
     "name": "stdout",
     "output_type": "stream",
     "text": [
      "Saving results in C:\\Users\\GPU\\Documents\\DeepLabCut\\temp_kenzie\\CoM\\DTR\\DTR-M5\\DTR-M5-20230404_pre-DTX...\n",
      "Saving csv poses!\n",
      "Starting to analyze %  C:\\Users\\GPU\\Documents\\DeepLabCut\\temp_kenzie\\CoM\\DTR\\DTR-M5\\DTR-M5-20230404_pre-DTX\\CoM DTR M5 ts3_000021.avi\n",
      "C:\\Users\\GPU\\Documents\\DeepLabCut\\temp_kenzie\\CoM\\DTR\\DTR-M5\\DTR-M5-20230404_pre-DTX  already exists!\n",
      "Loading  C:\\Users\\GPU\\Documents\\DeepLabCut\\temp_kenzie\\CoM\\DTR\\DTR-M5\\DTR-M5-20230404_pre-DTX\\CoM DTR M5 ts3_000021.avi\n",
      "Duration of video [s]:  7.81 , recorded with  500.0 fps!\n",
      "Overall # of frames:  3904  found with (before cropping) frame dimensions:  1280 850\n",
      "Starting to extract posture\n"
     ]
    },
    {
     "name": "stderr",
     "output_type": "stream",
     "text": [
      "3939it [03:01, 21.70it/s]                                                                                                          \n"
     ]
    },
    {
     "name": "stdout",
     "output_type": "stream",
     "text": [
      "Saving results in C:\\Users\\GPU\\Documents\\DeepLabCut\\temp_kenzie\\CoM\\DTR\\DTR-M5\\DTR-M5-20230404_pre-DTX...\n",
      "Saving csv poses!\n",
      "The videos are analyzed. Now your research can truly start! \n",
      " You can create labeled videos with 'create_labeled_video'\n",
      "If the tracking is not satisfactory for some videos, consider expanding the training set. You can use the function 'extract_outlier_frames' to extract a few representative outlier frames.\n"
     ]
    }
   ],
   "source": [
    "deeplabcut.launch_dlc()"
   ]
  },
  {
   "cell_type": "code",
   "execution_count": null,
   "metadata": {},
   "outputs": [],
   "source": [
    "deeplabcut.analyze_videos(COND)"
   ]
  }
 ],
 "metadata": {
  "kernelspec": {
   "display_name": "dlcm1",
   "language": "python",
   "name": "python3"
  },
  "language_info": {
   "codemirror_mode": {
    "name": "ipython",
    "version": 3
   },
   "file_extension": ".py",
   "mimetype": "text/x-python",
   "name": "python",
   "nbconvert_exporter": "python",
   "pygments_lexer": "ipython3",
   "version": "3.9.18"
  }
 },
 "nbformat": 4,
 "nbformat_minor": 4
}
