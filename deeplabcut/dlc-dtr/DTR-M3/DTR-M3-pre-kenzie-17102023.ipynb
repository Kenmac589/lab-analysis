{
 "cells": [
  {
   "cell_type": "code",
   "execution_count": 1,
   "metadata": {},
   "outputs": [
    {
     "name": "stderr",
     "output_type": "stream",
     "text": [
      "2023-12-06 22:17:10.959364: I tensorflow/core/platform/cpu_feature_guard.cc:193] This TensorFlow binary is optimized with oneAPI Deep Neural Network Library (oneDNN) to use the following CPU instructions in performance-critical operations:  AVX2 FMA\n",
      "To enable them in other operations, rebuild TensorFlow with the appropriate compiler flags.\n",
      "2023-12-06 22:17:11.156686: W tensorflow/stream_executor/platform/default/dso_loader.cc:64] Could not load dynamic library 'libcudart.so.11.0'; dlerror: libcudart.so.11.0: cannot open shared object file: No such file or directory\n",
      "2023-12-06 22:17:11.156771: I tensorflow/stream_executor/cuda/cudart_stub.cc:29] Ignore above cudart dlerror if you do not have a GPU set up on your machine.\n",
      "2023-12-06 22:17:11.201265: E tensorflow/stream_executor/cuda/cuda_blas.cc:2981] Unable to register cuBLAS factory: Attempting to register factory for plugin cuBLAS when one has already been registered\n",
      "2023-12-06 22:17:12.602169: W tensorflow/stream_executor/platform/default/dso_loader.cc:64] Could not load dynamic library 'libnvinfer.so.7'; dlerror: libnvinfer.so.7: cannot open shared object file: No such file or directory\n",
      "2023-12-06 22:17:12.602286: W tensorflow/stream_executor/platform/default/dso_loader.cc:64] Could not load dynamic library 'libnvinfer_plugin.so.7'; dlerror: libnvinfer_plugin.so.7: cannot open shared object file: No such file or directory\n",
      "2023-12-06 22:17:12.602298: W tensorflow/compiler/tf2tensorrt/utils/py_utils.cc:38] TF-TRT Warning: Cannot dlopen some TensorRT libraries. If you would like to use Nvidia GPU with TensorRT, please make sure the missing libraries mentioned above are installed properly.\n"
     ]
    },
    {
     "name": "stdout",
     "output_type": "stream",
     "text": [
      "Loading DLC 2.3.8...\n"
     ]
    }
   ],
   "source": [
    "import deeplabcut"
   ]
  },
  {
   "cell_type": "code",
   "execution_count": 2,
   "metadata": {},
   "outputs": [],
   "source": [
    "config_path = '/home/kenzie_mackinnon/sync/lab-analysis/deeplabcut/dlc-dtr/DTR-M3/DTR-M3-pre-kenzie-2023-10-17/config.yaml'"
   ]
  },
  {
   "cell_type": "code",
   "execution_count": null,
   "metadata": {},
   "outputs": [],
   "source": [
    "deeplabcut.label_frames(config_path)"
   ]
  },
  {
   "cell_type": "code",
   "execution_count": 3,
   "metadata": {},
   "outputs": [
    {
     "name": "stdout",
     "output_type": "stream",
     "text": [
      "Creating images with labels by kenzie.\n",
      "Attention: /home/kenzie_mackinnon/sync/lab-analysis/deeplabcut/dlc-dtr/DTR-M3/DTR-M3-pre-kenzie-2023-10-17/labeled-data/ ts3_000000 does not appear to have labeled data!\n",
      "Attention: /home/kenzie_mackinnon/sync/lab-analysis/deeplabcut/dlc-dtr/DTR-M3/DTR-M3-pre-kenzie-2023-10-17/labeled-data/ ts3_000001 does not appear to have labeled data!\n",
      "Attention: /home/kenzie_mackinnon/sync/lab-analysis/deeplabcut/dlc-dtr/DTR-M3/DTR-M3-pre-kenzie-2023-10-17/labeled-data/ ts3_000002 does not appear to have labeled data!\n",
      "Attention: /home/kenzie_mackinnon/sync/lab-analysis/deeplabcut/dlc-dtr/DTR-M3/DTR-M3-pre-kenzie-2023-10-17/labeled-data/ ts3_000003 does not appear to have labeled data!\n",
      "Attention: /home/kenzie_mackinnon/sync/lab-analysis/deeplabcut/dlc-dtr/DTR-M3/DTR-M3-pre-kenzie-2023-10-17/labeled-data/ ts3_000004 does not appear to have labeled data!\n",
      "Attention: /home/kenzie_mackinnon/sync/lab-analysis/deeplabcut/dlc-dtr/DTR-M3/DTR-M3-pre-kenzie-2023-10-17/labeled-data/ ts3_000005 does not appear to have labeled data!\n",
      "Attention: /home/kenzie_mackinnon/sync/lab-analysis/deeplabcut/dlc-dtr/DTR-M3/DTR-M3-pre-kenzie-2023-10-17/labeled-data/ ts3_000006 does not appear to have labeled data!\n",
      "Attention: /home/kenzie_mackinnon/sync/lab-analysis/deeplabcut/dlc-dtr/DTR-M3/DTR-M3-pre-kenzie-2023-10-17/labeled-data/ ts3_000007 does not appear to have labeled data!\n",
      "Attention: /home/kenzie_mackinnon/sync/lab-analysis/deeplabcut/dlc-dtr/DTR-M3/DTR-M3-pre-kenzie-2023-10-17/labeled-data/ ts3_000008 does not appear to have labeled data!\n",
      "Attention: /home/kenzie_mackinnon/sync/lab-analysis/deeplabcut/dlc-dtr/DTR-M3/DTR-M3-pre-kenzie-2023-10-17/labeled-data/ ts3_000009 does not appear to have labeled data!\n",
      "Attention: /home/kenzie_mackinnon/sync/lab-analysis/deeplabcut/dlc-dtr/DTR-M3/DTR-M3-pre-kenzie-2023-10-17/labeled-data/ ts3_000010 does not appear to have labeled data!\n",
      "Attention: /home/kenzie_mackinnon/sync/lab-analysis/deeplabcut/dlc-dtr/DTR-M3/DTR-M3-pre-kenzie-2023-10-17/labeled-data/ ts3_000011 does not appear to have labeled data!\n",
      "Attention: /home/kenzie_mackinnon/sync/lab-analysis/deeplabcut/dlc-dtr/DTR-M3/DTR-M3-pre-kenzie-2023-10-17/labeled-data/ ts3_000012 does not appear to have labeled data!\n",
      "Attention: /home/kenzie_mackinnon/sync/lab-analysis/deeplabcut/dlc-dtr/DTR-M3/DTR-M3-pre-kenzie-2023-10-17/labeled-data/ ts3_000013 does not appear to have labeled data!\n",
      "Attention: /home/kenzie_mackinnon/sync/lab-analysis/deeplabcut/dlc-dtr/DTR-M3/DTR-M3-pre-kenzie-2023-10-17/labeled-data/ ts3_000014 does not appear to have labeled data!\n",
      "Attention: /home/kenzie_mackinnon/sync/lab-analysis/deeplabcut/dlc-dtr/DTR-M3/DTR-M3-pre-kenzie-2023-10-17/labeled-data/ ts3_000015 does not appear to have labeled data!\n",
      "Attention: /home/kenzie_mackinnon/sync/lab-analysis/deeplabcut/dlc-dtr/DTR-M3/DTR-M3-pre-kenzie-2023-10-17/labeled-data/ ts3_000016 does not appear to have labeled data!\n",
      "Attention: /home/kenzie_mackinnon/sync/lab-analysis/deeplabcut/dlc-dtr/DTR-M3/DTR-M3-pre-kenzie-2023-10-17/labeled-data/ ts3_000017 does not appear to have labeled data!\n",
      "Attention: /home/kenzie_mackinnon/sync/lab-analysis/deeplabcut/dlc-dtr/DTR-M3/DTR-M3-pre-kenzie-2023-10-17/labeled-data/ ts3_000018 does not appear to have labeled data!\n",
      "Attention: /home/kenzie_mackinnon/sync/lab-analysis/deeplabcut/dlc-dtr/DTR-M3/DTR-M3-pre-kenzie-2023-10-17/labeled-data/ ts3_000019 does not appear to have labeled data!\n",
      "Attention: /home/kenzie_mackinnon/sync/lab-analysis/deeplabcut/dlc-dtr/DTR-M3/DTR-M3-pre-kenzie-2023-10-17/labeled-data/ ts3_000020 does not appear to have labeled data!\n",
      "Attention: /home/kenzie_mackinnon/sync/lab-analysis/deeplabcut/dlc-dtr/DTR-M3/DTR-M3-pre-kenzie-2023-10-17/labeled-data/ ts3_000021 does not appear to have labeled data!\n",
      "Attention: /home/kenzie_mackinnon/sync/lab-analysis/deeplabcut/dlc-dtr/DTR-M3/DTR-M3-pre-kenzie-2023-10-17/labeled-data/ ts3_000022 does not appear to have labeled data!\n",
      "Attention: /home/kenzie_mackinnon/sync/lab-analysis/deeplabcut/dlc-dtr/DTR-M3/DTR-M3-pre-kenzie-2023-10-17/labeled-data/ ts3_000023 does not appear to have labeled data!\n",
      "Attention: /home/kenzie_mackinnon/sync/lab-analysis/deeplabcut/dlc-dtr/DTR-M3/DTR-M3-pre-kenzie-2023-10-17/labeled-data/ ts3_000024 does not appear to have labeled data!\n",
      "Attention: /home/kenzie_mackinnon/sync/lab-analysis/deeplabcut/dlc-dtr/DTR-M3/DTR-M3-pre-kenzie-2023-10-17/labeled-data/ ts3_000025 does not appear to have labeled data!\n",
      "If all the labels are ok, then use the function 'create_training_dataset' to create the training dataset!\n"
     ]
    }
   ],
   "source": [
    "deeplabcut.check_labels(config_path, visualizeindividuals=False)"
   ]
  },
  {
   "cell_type": "code",
   "execution_count": 4,
   "metadata": {},
   "outputs": [
    {
     "name": "stdout",
     "output_type": "stream",
     "text": [
      "/home/kenzie_mackinnon/sync/lab-analysis/deeplabcut/dlc-dtr/DTR-M3/DTR-M3-pre-kenzie-2023-10-17/labeled-data/ ts3_000000/CollectedData_kenzie.h5  not found (perhaps not annotated).\n",
      "/home/kenzie_mackinnon/sync/lab-analysis/deeplabcut/dlc-dtr/DTR-M3/DTR-M3-pre-kenzie-2023-10-17/labeled-data/ ts3_000001/CollectedData_kenzie.h5  not found (perhaps not annotated).\n",
      "/home/kenzie_mackinnon/sync/lab-analysis/deeplabcut/dlc-dtr/DTR-M3/DTR-M3-pre-kenzie-2023-10-17/labeled-data/ ts3_000002/CollectedData_kenzie.h5  not found (perhaps not annotated).\n",
      "/home/kenzie_mackinnon/sync/lab-analysis/deeplabcut/dlc-dtr/DTR-M3/DTR-M3-pre-kenzie-2023-10-17/labeled-data/ ts3_000003/CollectedData_kenzie.h5  not found (perhaps not annotated).\n",
      "/home/kenzie_mackinnon/sync/lab-analysis/deeplabcut/dlc-dtr/DTR-M3/DTR-M3-pre-kenzie-2023-10-17/labeled-data/ ts3_000004/CollectedData_kenzie.h5  not found (perhaps not annotated).\n",
      "/home/kenzie_mackinnon/sync/lab-analysis/deeplabcut/dlc-dtr/DTR-M3/DTR-M3-pre-kenzie-2023-10-17/labeled-data/ ts3_000005/CollectedData_kenzie.h5  not found (perhaps not annotated).\n",
      "/home/kenzie_mackinnon/sync/lab-analysis/deeplabcut/dlc-dtr/DTR-M3/DTR-M3-pre-kenzie-2023-10-17/labeled-data/ ts3_000006/CollectedData_kenzie.h5  not found (perhaps not annotated).\n",
      "/home/kenzie_mackinnon/sync/lab-analysis/deeplabcut/dlc-dtr/DTR-M3/DTR-M3-pre-kenzie-2023-10-17/labeled-data/ ts3_000007/CollectedData_kenzie.h5  not found (perhaps not annotated).\n",
      "/home/kenzie_mackinnon/sync/lab-analysis/deeplabcut/dlc-dtr/DTR-M3/DTR-M3-pre-kenzie-2023-10-17/labeled-data/ ts3_000008/CollectedData_kenzie.h5  not found (perhaps not annotated).\n",
      "/home/kenzie_mackinnon/sync/lab-analysis/deeplabcut/dlc-dtr/DTR-M3/DTR-M3-pre-kenzie-2023-10-17/labeled-data/ ts3_000009/CollectedData_kenzie.h5  not found (perhaps not annotated).\n",
      "/home/kenzie_mackinnon/sync/lab-analysis/deeplabcut/dlc-dtr/DTR-M3/DTR-M3-pre-kenzie-2023-10-17/labeled-data/ ts3_000010/CollectedData_kenzie.h5  not found (perhaps not annotated).\n",
      "/home/kenzie_mackinnon/sync/lab-analysis/deeplabcut/dlc-dtr/DTR-M3/DTR-M3-pre-kenzie-2023-10-17/labeled-data/ ts3_000011/CollectedData_kenzie.h5  not found (perhaps not annotated).\n",
      "/home/kenzie_mackinnon/sync/lab-analysis/deeplabcut/dlc-dtr/DTR-M3/DTR-M3-pre-kenzie-2023-10-17/labeled-data/ ts3_000012/CollectedData_kenzie.h5  not found (perhaps not annotated).\n",
      "/home/kenzie_mackinnon/sync/lab-analysis/deeplabcut/dlc-dtr/DTR-M3/DTR-M3-pre-kenzie-2023-10-17/labeled-data/ ts3_000013/CollectedData_kenzie.h5  not found (perhaps not annotated).\n",
      "/home/kenzie_mackinnon/sync/lab-analysis/deeplabcut/dlc-dtr/DTR-M3/DTR-M3-pre-kenzie-2023-10-17/labeled-data/ ts3_000014/CollectedData_kenzie.h5  not found (perhaps not annotated).\n",
      "/home/kenzie_mackinnon/sync/lab-analysis/deeplabcut/dlc-dtr/DTR-M3/DTR-M3-pre-kenzie-2023-10-17/labeled-data/ ts3_000015/CollectedData_kenzie.h5  not found (perhaps not annotated).\n",
      "/home/kenzie_mackinnon/sync/lab-analysis/deeplabcut/dlc-dtr/DTR-M3/DTR-M3-pre-kenzie-2023-10-17/labeled-data/ ts3_000016/CollectedData_kenzie.h5  not found (perhaps not annotated).\n",
      "/home/kenzie_mackinnon/sync/lab-analysis/deeplabcut/dlc-dtr/DTR-M3/DTR-M3-pre-kenzie-2023-10-17/labeled-data/ ts3_000017/CollectedData_kenzie.h5  not found (perhaps not annotated).\n",
      "/home/kenzie_mackinnon/sync/lab-analysis/deeplabcut/dlc-dtr/DTR-M3/DTR-M3-pre-kenzie-2023-10-17/labeled-data/ ts3_000018/CollectedData_kenzie.h5  not found (perhaps not annotated).\n",
      "/home/kenzie_mackinnon/sync/lab-analysis/deeplabcut/dlc-dtr/DTR-M3/DTR-M3-pre-kenzie-2023-10-17/labeled-data/ ts3_000019/CollectedData_kenzie.h5  not found (perhaps not annotated).\n",
      "/home/kenzie_mackinnon/sync/lab-analysis/deeplabcut/dlc-dtr/DTR-M3/DTR-M3-pre-kenzie-2023-10-17/labeled-data/ ts3_000020/CollectedData_kenzie.h5  not found (perhaps not annotated).\n",
      "/home/kenzie_mackinnon/sync/lab-analysis/deeplabcut/dlc-dtr/DTR-M3/DTR-M3-pre-kenzie-2023-10-17/labeled-data/ ts3_000021/CollectedData_kenzie.h5  not found (perhaps not annotated).\n",
      "/home/kenzie_mackinnon/sync/lab-analysis/deeplabcut/dlc-dtr/DTR-M3/DTR-M3-pre-kenzie-2023-10-17/labeled-data/ ts3_000022/CollectedData_kenzie.h5  not found (perhaps not annotated).\n",
      "/home/kenzie_mackinnon/sync/lab-analysis/deeplabcut/dlc-dtr/DTR-M3/DTR-M3-pre-kenzie-2023-10-17/labeled-data/ ts3_000023/CollectedData_kenzie.h5  not found (perhaps not annotated).\n",
      "/home/kenzie_mackinnon/sync/lab-analysis/deeplabcut/dlc-dtr/DTR-M3/DTR-M3-pre-kenzie-2023-10-17/labeled-data/ ts3_000024/CollectedData_kenzie.h5  not found (perhaps not annotated).\n",
      "/home/kenzie_mackinnon/sync/lab-analysis/deeplabcut/dlc-dtr/DTR-M3/DTR-M3-pre-kenzie-2023-10-17/labeled-data/ ts3_000025/CollectedData_kenzie.h5  not found (perhaps not annotated).\n",
      "Annotation data was not found by splitting video paths (from config['video_sets']). An alternative route is taken...\n",
      "The following folders were found: ['/home/kenzie_mackinnon/sync/lab-analysis/deeplabcut/dlc-dtr/DTR-M3/DTR-M3-pre-kenzie-2023-10-17/labeled-data/CoM DTR M3 ts3_000002', '/home/kenzie_mackinnon/sync/lab-analysis/deeplabcut/dlc-dtr/DTR-M3/DTR-M3-pre-kenzie-2023-10-17/labeled-data/CoM DTR M3 ts3_000015', '/home/kenzie_mackinnon/sync/lab-analysis/deeplabcut/dlc-dtr/DTR-M3/DTR-M3-pre-kenzie-2023-10-17/labeled-data/CoM DTR M3 ts3_000018', '/home/kenzie_mackinnon/sync/lab-analysis/deeplabcut/dlc-dtr/DTR-M3/DTR-M3-pre-kenzie-2023-10-17/labeled-data/CoM DTR M3 ts3_000012', '/home/kenzie_mackinnon/sync/lab-analysis/deeplabcut/dlc-dtr/DTR-M3/DTR-M3-pre-kenzie-2023-10-17/labeled-data/CoM DTR M3 ts3_000007', '/home/kenzie_mackinnon/sync/lab-analysis/deeplabcut/dlc-dtr/DTR-M3/DTR-M3-pre-kenzie-2023-10-17/labeled-data/CoM DTR M3 ts3_000009', '/home/kenzie_mackinnon/sync/lab-analysis/deeplabcut/dlc-dtr/DTR-M3/DTR-M3-pre-kenzie-2023-10-17/labeled-data/CoM DTR M3 ts3_000010', '/home/kenzie_mackinnon/sync/lab-analysis/deeplabcut/dlc-dtr/DTR-M3/DTR-M3-pre-kenzie-2023-10-17/labeled-data/CoM DTR M3 ts3_000010_labeled', '/home/kenzie_mackinnon/sync/lab-analysis/deeplabcut/dlc-dtr/DTR-M3/DTR-M3-pre-kenzie-2023-10-17/labeled-data/CoM DTR M3 ts3_000004', '/home/kenzie_mackinnon/sync/lab-analysis/deeplabcut/dlc-dtr/DTR-M3/DTR-M3-pre-kenzie-2023-10-17/labeled-data/CoM DTR M3 ts3_000013', '/home/kenzie_mackinnon/sync/lab-analysis/deeplabcut/dlc-dtr/DTR-M3/DTR-M3-pre-kenzie-2023-10-17/labeled-data/CoM DTR M3 ts3_000014', '/home/kenzie_mackinnon/sync/lab-analysis/deeplabcut/dlc-dtr/DTR-M3/DTR-M3-pre-kenzie-2023-10-17/labeled-data/CoM DTR M3 ts3_000022', '/home/kenzie_mackinnon/sync/lab-analysis/deeplabcut/dlc-dtr/DTR-M3/DTR-M3-pre-kenzie-2023-10-17/labeled-data/CoM DTR M3 ts3_000008', '/home/kenzie_mackinnon/sync/lab-analysis/deeplabcut/dlc-dtr/DTR-M3/DTR-M3-pre-kenzie-2023-10-17/labeled-data/CoM DTR M3 ts3_000017', '/home/kenzie_mackinnon/sync/lab-analysis/deeplabcut/dlc-dtr/DTR-M3/DTR-M3-pre-kenzie-2023-10-17/labeled-data/CoM DTR M3 ts3_000005_labeled', '/home/kenzie_mackinnon/sync/lab-analysis/deeplabcut/dlc-dtr/DTR-M3/DTR-M3-pre-kenzie-2023-10-17/labeled-data/CoM DTR M3 ts3_000000', '/home/kenzie_mackinnon/sync/lab-analysis/deeplabcut/dlc-dtr/DTR-M3/DTR-M3-pre-kenzie-2023-10-17/labeled-data/CoM DTR M3 ts3_000021', '/home/kenzie_mackinnon/sync/lab-analysis/deeplabcut/dlc-dtr/DTR-M3/DTR-M3-pre-kenzie-2023-10-17/labeled-data/CoM DTR M3 ts3_000023', '/home/kenzie_mackinnon/sync/lab-analysis/deeplabcut/dlc-dtr/DTR-M3/DTR-M3-pre-kenzie-2023-10-17/labeled-data/CoM DTR M3 ts3_000016_labeled', '/home/kenzie_mackinnon/sync/lab-analysis/deeplabcut/dlc-dtr/DTR-M3/DTR-M3-pre-kenzie-2023-10-17/labeled-data/CoM DTR M3 ts3_000005', '/home/kenzie_mackinnon/sync/lab-analysis/deeplabcut/dlc-dtr/DTR-M3/DTR-M3-pre-kenzie-2023-10-17/labeled-data/CoM DTR M3 ts3_000006', '/home/kenzie_mackinnon/sync/lab-analysis/deeplabcut/dlc-dtr/DTR-M3/DTR-M3-pre-kenzie-2023-10-17/labeled-data/CoM DTR M3 ts3_000003', '/home/kenzie_mackinnon/sync/lab-analysis/deeplabcut/dlc-dtr/DTR-M3/DTR-M3-pre-kenzie-2023-10-17/labeled-data/CoM DTR M3 ts3_000025', '/home/kenzie_mackinnon/sync/lab-analysis/deeplabcut/dlc-dtr/DTR-M3/DTR-M3-pre-kenzie-2023-10-17/labeled-data/CoM DTR M3 ts3_000020', '/home/kenzie_mackinnon/sync/lab-analysis/deeplabcut/dlc-dtr/DTR-M3/DTR-M3-pre-kenzie-2023-10-17/labeled-data/CoM DTR M3 ts3_000022_labeled', '/home/kenzie_mackinnon/sync/lab-analysis/deeplabcut/dlc-dtr/DTR-M3/DTR-M3-pre-kenzie-2023-10-17/labeled-data/CoM DTR M3 ts3_000019', '/home/kenzie_mackinnon/sync/lab-analysis/deeplabcut/dlc-dtr/DTR-M3/DTR-M3-pre-kenzie-2023-10-17/labeled-data/CoM DTR M3 ts3_000024', '/home/kenzie_mackinnon/sync/lab-analysis/deeplabcut/dlc-dtr/DTR-M3/DTR-M3-pre-kenzie-2023-10-17/labeled-data/CoM DTR M3 ts3_000016', '/home/kenzie_mackinnon/sync/lab-analysis/deeplabcut/dlc-dtr/DTR-M3/DTR-M3-pre-kenzie-2023-10-17/labeled-data/CoM DTR M3 ts3_000011', '/home/kenzie_mackinnon/sync/lab-analysis/deeplabcut/dlc-dtr/DTR-M3/DTR-M3-pre-kenzie-2023-10-17/labeled-data/CoM DTR M3 ts3_000001']\n",
      "/home/kenzie_mackinnon/sync/lab-analysis/deeplabcut/dlc-dtr/DTR-M3/DTR-M3-pre-kenzie-2023-10-17/labeled-data/CoM DTR M3 ts3_000002/CollectedData_kenzie.h5  not found (perhaps not annotated)\n",
      "/home/kenzie_mackinnon/sync/lab-analysis/deeplabcut/dlc-dtr/DTR-M3/DTR-M3-pre-kenzie-2023-10-17/labeled-data/CoM DTR M3 ts3_000015/CollectedData_kenzie.h5  not found (perhaps not annotated)\n",
      "/home/kenzie_mackinnon/sync/lab-analysis/deeplabcut/dlc-dtr/DTR-M3/DTR-M3-pre-kenzie-2023-10-17/labeled-data/CoM DTR M3 ts3_000018/CollectedData_kenzie.h5  not found (perhaps not annotated)\n",
      "/home/kenzie_mackinnon/sync/lab-analysis/deeplabcut/dlc-dtr/DTR-M3/DTR-M3-pre-kenzie-2023-10-17/labeled-data/CoM DTR M3 ts3_000012/CollectedData_kenzie.h5  not found (perhaps not annotated)\n",
      "/home/kenzie_mackinnon/sync/lab-analysis/deeplabcut/dlc-dtr/DTR-M3/DTR-M3-pre-kenzie-2023-10-17/labeled-data/CoM DTR M3 ts3_000007/CollectedData_kenzie.h5  not found (perhaps not annotated)\n",
      "/home/kenzie_mackinnon/sync/lab-analysis/deeplabcut/dlc-dtr/DTR-M3/DTR-M3-pre-kenzie-2023-10-17/labeled-data/CoM DTR M3 ts3_000009/CollectedData_kenzie.h5  not found (perhaps not annotated)\n",
      "/home/kenzie_mackinnon/sync/lab-analysis/deeplabcut/dlc-dtr/DTR-M3/DTR-M3-pre-kenzie-2023-10-17/labeled-data/CoM DTR M3 ts3_000010_labeled/CollectedData_kenzie.h5  not found (perhaps not annotated)\n",
      "/home/kenzie_mackinnon/sync/lab-analysis/deeplabcut/dlc-dtr/DTR-M3/DTR-M3-pre-kenzie-2023-10-17/labeled-data/CoM DTR M3 ts3_000004/CollectedData_kenzie.h5  not found (perhaps not annotated)\n",
      "/home/kenzie_mackinnon/sync/lab-analysis/deeplabcut/dlc-dtr/DTR-M3/DTR-M3-pre-kenzie-2023-10-17/labeled-data/CoM DTR M3 ts3_000013/CollectedData_kenzie.h5  not found (perhaps not annotated)\n",
      "/home/kenzie_mackinnon/sync/lab-analysis/deeplabcut/dlc-dtr/DTR-M3/DTR-M3-pre-kenzie-2023-10-17/labeled-data/CoM DTR M3 ts3_000014/CollectedData_kenzie.h5  not found (perhaps not annotated)\n",
      "/home/kenzie_mackinnon/sync/lab-analysis/deeplabcut/dlc-dtr/DTR-M3/DTR-M3-pre-kenzie-2023-10-17/labeled-data/CoM DTR M3 ts3_000008/CollectedData_kenzie.h5  not found (perhaps not annotated)\n",
      "/home/kenzie_mackinnon/sync/lab-analysis/deeplabcut/dlc-dtr/DTR-M3/DTR-M3-pre-kenzie-2023-10-17/labeled-data/CoM DTR M3 ts3_000017/CollectedData_kenzie.h5  not found (perhaps not annotated)\n",
      "/home/kenzie_mackinnon/sync/lab-analysis/deeplabcut/dlc-dtr/DTR-M3/DTR-M3-pre-kenzie-2023-10-17/labeled-data/CoM DTR M3 ts3_000005_labeled/CollectedData_kenzie.h5  not found (perhaps not annotated)\n",
      "/home/kenzie_mackinnon/sync/lab-analysis/deeplabcut/dlc-dtr/DTR-M3/DTR-M3-pre-kenzie-2023-10-17/labeled-data/CoM DTR M3 ts3_000000/CollectedData_kenzie.h5  not found (perhaps not annotated)\n",
      "/home/kenzie_mackinnon/sync/lab-analysis/deeplabcut/dlc-dtr/DTR-M3/DTR-M3-pre-kenzie-2023-10-17/labeled-data/CoM DTR M3 ts3_000021/CollectedData_kenzie.h5  not found (perhaps not annotated)\n",
      "/home/kenzie_mackinnon/sync/lab-analysis/deeplabcut/dlc-dtr/DTR-M3/DTR-M3-pre-kenzie-2023-10-17/labeled-data/CoM DTR M3 ts3_000023/CollectedData_kenzie.h5  not found (perhaps not annotated)\n",
      "/home/kenzie_mackinnon/sync/lab-analysis/deeplabcut/dlc-dtr/DTR-M3/DTR-M3-pre-kenzie-2023-10-17/labeled-data/CoM DTR M3 ts3_000016_labeled/CollectedData_kenzie.h5  not found (perhaps not annotated)\n",
      "/home/kenzie_mackinnon/sync/lab-analysis/deeplabcut/dlc-dtr/DTR-M3/DTR-M3-pre-kenzie-2023-10-17/labeled-data/CoM DTR M3 ts3_000006/CollectedData_kenzie.h5  not found (perhaps not annotated)\n",
      "/home/kenzie_mackinnon/sync/lab-analysis/deeplabcut/dlc-dtr/DTR-M3/DTR-M3-pre-kenzie-2023-10-17/labeled-data/CoM DTR M3 ts3_000003/CollectedData_kenzie.h5  not found (perhaps not annotated)\n",
      "/home/kenzie_mackinnon/sync/lab-analysis/deeplabcut/dlc-dtr/DTR-M3/DTR-M3-pre-kenzie-2023-10-17/labeled-data/CoM DTR M3 ts3_000025/CollectedData_kenzie.h5  not found (perhaps not annotated)\n",
      "/home/kenzie_mackinnon/sync/lab-analysis/deeplabcut/dlc-dtr/DTR-M3/DTR-M3-pre-kenzie-2023-10-17/labeled-data/CoM DTR M3 ts3_000020/CollectedData_kenzie.h5  not found (perhaps not annotated)\n",
      "/home/kenzie_mackinnon/sync/lab-analysis/deeplabcut/dlc-dtr/DTR-M3/DTR-M3-pre-kenzie-2023-10-17/labeled-data/CoM DTR M3 ts3_000022_labeled/CollectedData_kenzie.h5  not found (perhaps not annotated)\n",
      "/home/kenzie_mackinnon/sync/lab-analysis/deeplabcut/dlc-dtr/DTR-M3/DTR-M3-pre-kenzie-2023-10-17/labeled-data/CoM DTR M3 ts3_000019/CollectedData_kenzie.h5  not found (perhaps not annotated)\n",
      "/home/kenzie_mackinnon/sync/lab-analysis/deeplabcut/dlc-dtr/DTR-M3/DTR-M3-pre-kenzie-2023-10-17/labeled-data/CoM DTR M3 ts3_000024/CollectedData_kenzie.h5  not found (perhaps not annotated)\n",
      "/home/kenzie_mackinnon/sync/lab-analysis/deeplabcut/dlc-dtr/DTR-M3/DTR-M3-pre-kenzie-2023-10-17/labeled-data/CoM DTR M3 ts3_000011/CollectedData_kenzie.h5  not found (perhaps not annotated)\n",
      "/home/kenzie_mackinnon/sync/lab-analysis/deeplabcut/dlc-dtr/DTR-M3/DTR-M3-pre-kenzie-2023-10-17/labeled-data/CoM DTR M3 ts3_000001/CollectedData_kenzie.h5  not found (perhaps not annotated)\n",
      "Downloading a ImageNet-pretrained model from http://download.tensorflow.org/models/resnet_v1_50_2016_08_28.tar.gz....\n",
      "The training dataset is successfully created. Use the function 'train_network' to start training. Happy training!\n"
     ]
    },
    {
     "data": {
      "text/plain": [
       "[(0.95,\n",
       "  1,\n",
       "  (array([50, 27, 30, 77, 45, 71, 66, 68, 48, 69, 40, 63,  2, 72, 52, 34,  3,\n",
       "          22,  7, 26, 42, 38, 41, 79, 55, 17, 60, 62,  6, 56, 73,  4, 33, 53,\n",
       "          28, 11, 57, 23, 10, 31, 43, 61,  1, 32, 75, 14, 54, 19, 29, 49, 24,\n",
       "          35, 18,  0, 78, 15,  5, 59, 16, 51, 20, 74,  8, 13, 25, 37, 46, 39,\n",
       "          65, 58, 12, 70, 36, 21,  9, 76]),\n",
       "   array([67, 64, 47, 44])))]"
      ]
     },
     "execution_count": 4,
     "metadata": {},
     "output_type": "execute_result"
    }
   ],
   "source": [
    "deeplabcut.create_training_dataset(config_path, augmenter_type='imgaug')"
   ]
  },
  {
   "cell_type": "code",
   "execution_count": 4,
   "metadata": {},
   "outputs": [
    {
     "name": "stdout",
     "output_type": "stream",
     "text": [
      "\u001b[0;31mSignature:\u001b[0m\n",
      "\u001b[0mdeeplabcut\u001b[0m\u001b[0;34m.\u001b[0m\u001b[0mcreate_training_model_comparison\u001b[0m\u001b[0;34m(\u001b[0m\u001b[0;34m\u001b[0m\n",
      "\u001b[0;34m\u001b[0m    \u001b[0mconfig\u001b[0m\u001b[0;34m,\u001b[0m\u001b[0;34m\u001b[0m\n",
      "\u001b[0;34m\u001b[0m    \u001b[0mtrainindex\u001b[0m\u001b[0;34m=\u001b[0m\u001b[0;36m0\u001b[0m\u001b[0;34m,\u001b[0m\u001b[0;34m\u001b[0m\n",
      "\u001b[0;34m\u001b[0m    \u001b[0mnum_shuffles\u001b[0m\u001b[0;34m=\u001b[0m\u001b[0;36m1\u001b[0m\u001b[0;34m,\u001b[0m\u001b[0;34m\u001b[0m\n",
      "\u001b[0;34m\u001b[0m    \u001b[0mnet_types\u001b[0m\u001b[0;34m=\u001b[0m\u001b[0;34m[\u001b[0m\u001b[0;34m'resnet_50'\u001b[0m\u001b[0;34m]\u001b[0m\u001b[0;34m,\u001b[0m\u001b[0;34m\u001b[0m\n",
      "\u001b[0;34m\u001b[0m    \u001b[0maugmenter_types\u001b[0m\u001b[0;34m=\u001b[0m\u001b[0;34m[\u001b[0m\u001b[0;34m'imgaug'\u001b[0m\u001b[0;34m]\u001b[0m\u001b[0;34m,\u001b[0m\u001b[0;34m\u001b[0m\n",
      "\u001b[0;34m\u001b[0m    \u001b[0muserfeedback\u001b[0m\u001b[0;34m=\u001b[0m\u001b[0;32mFalse\u001b[0m\u001b[0;34m,\u001b[0m\u001b[0;34m\u001b[0m\n",
      "\u001b[0;34m\u001b[0m    \u001b[0mwindows2linux\u001b[0m\u001b[0;34m=\u001b[0m\u001b[0;32mFalse\u001b[0m\u001b[0;34m,\u001b[0m\u001b[0;34m\u001b[0m\n",
      "\u001b[0;34m\u001b[0m\u001b[0;34m)\u001b[0m\u001b[0;34m\u001b[0m\u001b[0;34m\u001b[0m\u001b[0m\n",
      "\u001b[0;31mDocstring:\u001b[0m\n",
      "Creates a training dataset to compare networks and augmentation types.\n",
      "\n",
      "The datasets are created such that the shuffles have same training and testing\n",
      "indices. Therefore, this function is useful for benchmarking the performance of\n",
      "different network and augmentation types on the same training/testdata.\n",
      "\n",
      "Parameters\n",
      "----------\n",
      "config: str\n",
      "    Full path of the config.yaml file.\n",
      "\n",
      "trainindex: int, optional, default=0\n",
      "    Either (in case uniform = True) indexes which element of TrainingFraction in\n",
      "    the config file should be used (note it is a list!).\n",
      "    Alternatively (uniform = False) indexes which folder is dropped, i.e. the first\n",
      "    if trainindex=0, the second if trainindex=1, etc.\n",
      "\n",
      "num_shuffles : int, optional, default=1\n",
      "    Number of shuffles of training dataset to create,\n",
      "    i.e. [1,2,3] for num_shuffles=3.\n",
      "\n",
      "net_types: list[str], optional, default=[\"resnet_50\"]\n",
      "    Currently supported networks are\n",
      "\n",
      "    * ``\"resnet_50\"``\n",
      "    * ``\"resnet_101\"``\n",
      "    * ``\"resnet_152\"``\n",
      "    * ``\"mobilenet_v2_1.0\"``\n",
      "    * ``\"mobilenet_v2_0.75\"``\n",
      "    * ``\"mobilenet_v2_0.5\"``\n",
      "    * ``\"mobilenet_v2_0.35\"``\n",
      "    * ``\"efficientnet-b0\"``\n",
      "    * ``\"efficientnet-b1\"``\n",
      "    * ``\"efficientnet-b2\"``\n",
      "    * ``\"efficientnet-b3\"``\n",
      "    * ``\"efficientnet-b4\"``\n",
      "    * ``\"efficientnet-b5\"``\n",
      "    * ``\"efficientnet-b6\"``\n",
      "\n",
      "augmenter_types: list[str], optional, default=[\"imgaug\"]\n",
      "    Currently supported augmenters are\n",
      "\n",
      "    * ``\"default\"``\n",
      "    * ``\"imgaug\"``\n",
      "    * ``\"tensorpack\"``\n",
      "    * ``\"deterministic\"``\n",
      "\n",
      "userfeedback: bool, optional, default=False\n",
      "    If ``False``, then all requested train/test splits are created, no matter if\n",
      "    they already exist. If you want to assure that previous splits etc. are not\n",
      "    overwritten, then set this to True and you will be asked for each split.\n",
      "\n",
      "windows2linux\n",
      "\n",
      "    ..deprecated::\n",
      "        Has no effect since 2.2.0.4 and will be removed in 2.2.1.\n",
      "\n",
      "Returns\n",
      "-------\n",
      "shuffle_list: list\n",
      "    List of indices corresponding to the trainingsplits/models that were created.\n",
      "\n",
      "Examples\n",
      "--------\n",
      "On Linux/MacOS\n",
      "\n",
      ">>> shuffle_list = deeplabcut.create_training_model_comparison(\n",
      "        '/analysis/project/reaching-task/config.yaml',\n",
      "        num_shuffles=1,\n",
      "        net_types=['resnet_50','resnet_152'],\n",
      "        augmenter_types=['tensorpack','deterministic'],\n",
      "    )\n",
      "\n",
      "On Windows\n",
      "\n",
      ">>> shuffle_list = deeplabcut.create_training_model_comparison(\n",
      "        'C:\\Users\\Ulf\\looming-task\\config.yaml',\n",
      "        num_shuffles=1,\n",
      "        net_types=['resnet_50','resnet_152'],\n",
      "        augmenter_types=['tensorpack','deterministic'],\n",
      "    )\n",
      "\n",
      "See ``examples/testscript_openfielddata_augmentationcomparison.py`` for an example\n",
      "of how to use ``shuffle_list``.\n",
      "\u001b[0;31mFile:\u001b[0m      ~/miniforge/envs/dlcm1/lib/python3.9/site-packages/deeplabcut/generate_training_dataset/trainingsetmanipulation.py\n",
      "\u001b[0;31mType:\u001b[0m      function"
     ]
    }
   ],
   "source": []
  },
  {
   "cell_type": "code",
   "execution_count": 5,
   "metadata": {},
   "outputs": [
    {
     "name": "stderr",
     "output_type": "stream",
     "text": [
      "Config:\n",
      "{'all_joints': [[0],\n",
      "                [1],\n",
      "                [2],\n",
      "                [3],\n",
      "                [4],\n",
      "                [5],\n",
      "                [6],\n",
      "                [7],\n",
      "                [8],\n",
      "                [9],\n",
      "                [10],\n",
      "                [11],\n",
      "                [12],\n",
      "                [13],\n",
      "                [14],\n",
      "                [15],\n",
      "                [16],\n",
      "                [17],\n",
      "                [18]],\n",
      " 'all_joints_names': ['calib_1',\n",
      "                      'calib_2',\n",
      "                      'calib_3',\n",
      "                      'calib_4',\n",
      "                      'calib_5',\n",
      "                      'calib_6',\n",
      "                      'iliac_crest',\n",
      "                      'hip',\n",
      "                      'knee',\n",
      "                      'ankle',\n",
      "                      'metatarsal',\n",
      "                      'toe',\n",
      "                      'fl_toe',\n",
      "                      'mirror_lhl',\n",
      "                      'mirror_rhl',\n",
      "                      'mirror_lfl',\n",
      "                      'mirror_rfl',\n",
      "                      'mirror_com',\n",
      "                      'mirror'],\n",
      " 'alpha_r': 0.02,\n",
      " 'apply_prob': 0.5,\n",
      " 'batch_size': 1,\n",
      " 'contrast': {'clahe': True,\n",
      "              'claheratio': 0.1,\n",
      "              'histeq': True,\n",
      "              'histeqratio': 0.1},\n",
      " 'convolution': {'edge': False,\n",
      "                 'emboss': {'alpha': [0.0, 1.0], 'strength': [0.5, 1.5]},\n",
      "                 'embossratio': 0.1,\n",
      "                 'sharpen': False,\n",
      "                 'sharpenratio': 0.3},\n",
      " 'crop_pad': 0,\n",
      " 'cropratio': 0.4,\n",
      " 'dataset': 'training-datasets/iteration-0/UnaugmentedDataSet_DTR-M3-preOct17/DTR-M3-pre_kenzie95shuffle1.mat',\n",
      " 'dataset_type': 'imgaug',\n",
      " 'decay_steps': 30000,\n",
      " 'deterministic': False,\n",
      " 'display_iters': 1000,\n",
      " 'fg_fraction': 0.25,\n",
      " 'global_scale': 0.8,\n",
      " 'init_weights': '/home/kenzie_mackinnon/miniforge/envs/dlc/lib/python3.9/site-packages/deeplabcut/pose_estimation_tensorflow/models/pretrained/resnet_v1_50.ckpt',\n",
      " 'intermediate_supervision': False,\n",
      " 'intermediate_supervision_layer': 12,\n",
      " 'location_refinement': True,\n",
      " 'locref_huber_loss': True,\n",
      " 'locref_loss_weight': 0.05,\n",
      " 'locref_stdev': 7.2801,\n",
      " 'log_dir': 'log',\n",
      " 'lr_init': 0.0005,\n",
      " 'max_input_size': 1500,\n",
      " 'mean_pixel': [123.68, 116.779, 103.939],\n",
      " 'metadataset': 'training-datasets/iteration-0/UnaugmentedDataSet_DTR-M3-preOct17/Documentation_data-DTR-M3-pre_95shuffle1.pickle',\n",
      " 'min_input_size': 64,\n",
      " 'mirror': False,\n",
      " 'multi_stage': False,\n",
      " 'multi_step': [[0.005, 10000],\n",
      "                [0.02, 430000],\n",
      "                [0.002, 730000],\n",
      "                [0.001, 1030000]],\n",
      " 'net_type': 'resnet_50',\n",
      " 'num_joints': 19,\n",
      " 'optimizer': 'sgd',\n",
      " 'pairwise_huber_loss': False,\n",
      " 'pairwise_predict': False,\n",
      " 'partaffinityfield_predict': False,\n",
      " 'pos_dist_thresh': 17,\n",
      " 'project_path': '/home/kenzie_mackinnon/sync/lab-analysis/deeplabcut/dlc-dtr/DTR-M3/DTR-M3-pre-kenzie-2023-10-17',\n",
      " 'regularize': False,\n",
      " 'rotation': 25,\n",
      " 'rotratio': 0.4,\n",
      " 'save_iters': 50000,\n",
      " 'scale_jitter_lo': 0.5,\n",
      " 'scale_jitter_up': 1.25,\n",
      " 'scoremap_dir': 'test',\n",
      " 'shuffle': True,\n",
      " 'snapshot_prefix': '/home/kenzie_mackinnon/sync/lab-analysis/deeplabcut/dlc-dtr/DTR-M3/DTR-M3-pre-kenzie-2023-10-17/dlc-models/iteration-0/DTR-M3-preOct17-trainset95shuffle1/train/snapshot',\n",
      " 'stride': 8.0,\n",
      " 'weigh_negatives': False,\n",
      " 'weigh_only_present_joints': False,\n",
      " 'weigh_part_predictions': False,\n",
      " 'weight_decay': 0.0001}\n"
     ]
    },
    {
     "name": "stdout",
     "output_type": "stream",
     "text": [
      "Selecting single-animal trainer\n",
      "Batch Size is 1\n"
     ]
    },
    {
     "name": "stderr",
     "output_type": "stream",
     "text": [
      "/home/kenzie_mackinnon/miniforge/envs/dlc/lib/python3.9/site-packages/tensorflow/python/keras/engine/base_layer_v1.py:1694: UserWarning: `layer.apply` is deprecated and will be removed in a future version. Please use `layer.__call__` method instead.\n",
      "  warnings.warn('`layer.apply` is deprecated and '\n",
      "2023-12-06 22:18:26.837075: I tensorflow/stream_executor/cuda/cuda_gpu_executor.cc:980] successful NUMA node read from SysFS had negative value (-1), but there must be at least one NUMA node, so returning NUMA node zero\n",
      "2023-12-06 22:18:26.838889: W tensorflow/stream_executor/platform/default/dso_loader.cc:64] Could not load dynamic library 'libcudart.so.11.0'; dlerror: libcudart.so.11.0: cannot open shared object file: No such file or directory; LD_LIBRARY_PATH: /home/kenzie_mackinnon/miniforge/envs/dlc/lib/python3.9/site-packages/cv2/../../lib64:\n",
      "2023-12-06 22:18:26.839613: W tensorflow/stream_executor/platform/default/dso_loader.cc:64] Could not load dynamic library 'libcublas.so.11'; dlerror: libcublas.so.11: cannot open shared object file: No such file or directory; LD_LIBRARY_PATH: /home/kenzie_mackinnon/miniforge/envs/dlc/lib/python3.9/site-packages/cv2/../../lib64:\n",
      "2023-12-06 22:18:26.839889: W tensorflow/stream_executor/platform/default/dso_loader.cc:64] Could not load dynamic library 'libcublasLt.so.11'; dlerror: libcublasLt.so.11: cannot open shared object file: No such file or directory; LD_LIBRARY_PATH: /home/kenzie_mackinnon/miniforge/envs/dlc/lib/python3.9/site-packages/cv2/../../lib64:\n",
      "2023-12-06 22:18:26.840089: W tensorflow/stream_executor/platform/default/dso_loader.cc:64] Could not load dynamic library 'libcufft.so.10'; dlerror: libcufft.so.10: cannot open shared object file: No such file or directory; LD_LIBRARY_PATH: /home/kenzie_mackinnon/miniforge/envs/dlc/lib/python3.9/site-packages/cv2/../../lib64:\n",
      "2023-12-06 22:18:26.840301: W tensorflow/stream_executor/platform/default/dso_loader.cc:64] Could not load dynamic library 'libcurand.so.10'; dlerror: libcurand.so.10: cannot open shared object file: No such file or directory; LD_LIBRARY_PATH: /home/kenzie_mackinnon/miniforge/envs/dlc/lib/python3.9/site-packages/cv2/../../lib64:\n",
      "2023-12-06 22:18:26.840483: W tensorflow/stream_executor/platform/default/dso_loader.cc:64] Could not load dynamic library 'libcusolver.so.11'; dlerror: libcusolver.so.11: cannot open shared object file: No such file or directory; LD_LIBRARY_PATH: /home/kenzie_mackinnon/miniforge/envs/dlc/lib/python3.9/site-packages/cv2/../../lib64:\n",
      "2023-12-06 22:18:26.840658: W tensorflow/stream_executor/platform/default/dso_loader.cc:64] Could not load dynamic library 'libcusparse.so.11'; dlerror: libcusparse.so.11: cannot open shared object file: No such file or directory; LD_LIBRARY_PATH: /home/kenzie_mackinnon/miniforge/envs/dlc/lib/python3.9/site-packages/cv2/../../lib64:\n",
      "2023-12-06 22:18:26.840828: W tensorflow/stream_executor/platform/default/dso_loader.cc:64] Could not load dynamic library 'libcudnn.so.8'; dlerror: libcudnn.so.8: cannot open shared object file: No such file or directory; LD_LIBRARY_PATH: /home/kenzie_mackinnon/miniforge/envs/dlc/lib/python3.9/site-packages/cv2/../../lib64:\n",
      "2023-12-06 22:18:26.840845: W tensorflow/core/common_runtime/gpu/gpu_device.cc:1934] Cannot dlopen some GPU libraries. Please make sure the missing libraries mentioned above are installed properly if you would like to use GPU. Follow the guide at https://www.tensorflow.org/install/gpu for how to download and setup the required libraries for your platform.\n",
      "Skipping registering GPU devices...\n",
      "2023-12-06 22:18:26.842506: I tensorflow/core/platform/cpu_feature_guard.cc:193] This TensorFlow binary is optimized with oneAPI Deep Neural Network Library (oneDNN) to use the following CPU instructions in performance-critical operations:  AVX2 FMA\n",
      "To enable them in other operations, rebuild TensorFlow with the appropriate compiler flags.\n"
     ]
    },
    {
     "name": "stdout",
     "output_type": "stream",
     "text": [
      "Loading ImageNet-pretrained resnet_50\n"
     ]
    },
    {
     "name": "stderr",
     "output_type": "stream",
     "text": [
      "2023-12-06 22:18:28.062222: I tensorflow/stream_executor/cuda/cuda_gpu_executor.cc:980] successful NUMA node read from SysFS had negative value (-1), but there must be at least one NUMA node, so returning NUMA node zero\n",
      "2023-12-06 22:18:28.062535: W tensorflow/core/common_runtime/gpu/gpu_device.cc:1934] Cannot dlopen some GPU libraries. Please make sure the missing libraries mentioned above are installed properly if you would like to use GPU. Follow the guide at https://www.tensorflow.org/install/gpu for how to download and setup the required libraries for your platform.\n",
      "Skipping registering GPU devices...\n",
      "2023-12-06 22:18:30.630937: I tensorflow/compiler/mlir/mlir_graph_optimization_pass.cc:354] MLIR V1 optimization pass is not enabled\n"
     ]
    },
    {
     "name": "stdout",
     "output_type": "stream",
     "text": [
      "Max_iters overwritten as 1030000\n",
      "Display_iters overwritten as 1000\n",
      "Save_iters overwritten as 50000\n",
      "Training parameter:\n",
      "{'stride': 8.0, 'weigh_part_predictions': False, 'weigh_negatives': False, 'fg_fraction': 0.25, 'mean_pixel': [123.68, 116.779, 103.939], 'shuffle': True, 'snapshot_prefix': '/home/kenzie_mackinnon/sync/lab-analysis/deeplabcut/dlc-dtr/DTR-M3/DTR-M3-pre-kenzie-2023-10-17/dlc-models/iteration-0/DTR-M3-preOct17-trainset95shuffle1/train/snapshot', 'log_dir': 'log', 'global_scale': 0.8, 'location_refinement': True, 'locref_stdev': 7.2801, 'locref_loss_weight': 0.05, 'locref_huber_loss': True, 'optimizer': 'sgd', 'intermediate_supervision': False, 'intermediate_supervision_layer': 12, 'regularize': False, 'weight_decay': 0.0001, 'crop_pad': 0, 'scoremap_dir': 'test', 'batch_size': 1, 'dataset_type': 'imgaug', 'deterministic': False, 'mirror': False, 'pairwise_huber_loss': False, 'weigh_only_present_joints': False, 'partaffinityfield_predict': False, 'pairwise_predict': False, 'all_joints': [[0], [1], [2], [3], [4], [5], [6], [7], [8], [9], [10], [11], [12], [13], [14], [15], [16], [17], [18]], 'all_joints_names': ['calib_1', 'calib_2', 'calib_3', 'calib_4', 'calib_5', 'calib_6', 'iliac_crest', 'hip', 'knee', 'ankle', 'metatarsal', 'toe', 'fl_toe', 'mirror_lhl', 'mirror_rhl', 'mirror_lfl', 'mirror_rfl', 'mirror_com', 'mirror'], 'alpha_r': 0.02, 'apply_prob': 0.5, 'contrast': {'clahe': True, 'claheratio': 0.1, 'histeq': True, 'histeqratio': 0.1, 'gamma': False, 'sigmoid': False, 'log': False, 'linear': False}, 'convolution': {'edge': False, 'emboss': {'alpha': [0.0, 1.0], 'strength': [0.5, 1.5]}, 'embossratio': 0.1, 'sharpen': False, 'sharpenratio': 0.3}, 'cropratio': 0.4, 'dataset': 'training-datasets/iteration-0/UnaugmentedDataSet_DTR-M3-preOct17/DTR-M3-pre_kenzie95shuffle1.mat', 'decay_steps': 30000, 'display_iters': 1000, 'init_weights': '/home/kenzie_mackinnon/miniforge/envs/dlc/lib/python3.9/site-packages/deeplabcut/pose_estimation_tensorflow/models/pretrained/resnet_v1_50.ckpt', 'lr_init': 0.0005, 'max_input_size': 1500, 'metadataset': 'training-datasets/iteration-0/UnaugmentedDataSet_DTR-M3-preOct17/Documentation_data-DTR-M3-pre_95shuffle1.pickle', 'min_input_size': 64, 'multi_stage': False, 'multi_step': [[0.005, 10000], [0.02, 430000], [0.002, 730000], [0.001, 1030000]], 'net_type': 'resnet_50', 'num_joints': 19, 'pos_dist_thresh': 17, 'project_path': '/home/kenzie_mackinnon/sync/lab-analysis/deeplabcut/dlc-dtr/DTR-M3/DTR-M3-pre-kenzie-2023-10-17', 'rotation': 25, 'rotratio': 0.4, 'save_iters': 50000, 'scale_jitter_lo': 0.5, 'scale_jitter_up': 1.25, 'covering': True, 'elastic_transform': True, 'motion_blur': True, 'motion_blur_params': {'k': 7, 'angle': (-90, 90)}}\n",
      "Starting training....\n"
     ]
    },
    {
     "name": "stderr",
     "output_type": "stream",
     "text": [
      "2023-12-06 22:18:46.122792: W tensorflow/core/framework/cpu_allocator_impl.cc:82] Allocation of 50724864 exceeds 10% of free system memory.\n",
      "2023-12-06 22:18:46.439604: W tensorflow/core/framework/cpu_allocator_impl.cc:82] Allocation of 50724864 exceeds 10% of free system memory.\n",
      "2023-12-06 22:18:46.745615: W tensorflow/core/framework/cpu_allocator_impl.cc:82] Allocation of 50724864 exceeds 10% of free system memory.\n",
      "2023-12-06 22:18:46.979958: W tensorflow/core/framework/cpu_allocator_impl.cc:82] Allocation of 50724864 exceeds 10% of free system memory.\n",
      "2023-12-06 22:18:47.186675: W tensorflow/core/framework/cpu_allocator_impl.cc:82] Allocation of 50724864 exceeds 10% of free system memory.\n"
     ]
    }
   ],
   "source": [
    "deeplabcut.train_network(config_path, displayiters=1000, saveiters=50000, maxiters=1030000)"
   ]
  },
  {
   "cell_type": "code",
   "execution_count": 8,
   "metadata": {},
   "outputs": [
    {
     "name": "stdout",
     "output_type": "stream",
     "text": [
      "C:\\Users\\GPU\\Documents\\DeepLabCut\\temp_kenzie\\CoM\\DTR-pre-kenzie-2023-07-21/evaluation-results/  already exists!\n"
     ]
    },
    {
     "name": "stderr",
     "output_type": "stream",
     "text": [
      "Config:\n",
      "{'all_joints': [[0],\n",
      "                [1],\n",
      "                [2],\n",
      "                [3],\n",
      "                [4],\n",
      "                [5],\n",
      "                [6],\n",
      "                [7],\n",
      "                [8],\n",
      "                [9],\n",
      "                [10],\n",
      "                [11],\n",
      "                [12],\n",
      "                [13],\n",
      "                [14],\n",
      "                [15],\n",
      "                [16],\n",
      "                [17],\n",
      "                [18]],\n",
      " 'all_joints_names': ['calib_1',\n",
      "                      'calib_2',\n",
      "                      'calib_3',\n",
      "                      'calib_4',\n",
      "                      'calib_5',\n",
      "                      'calib_6',\n",
      "                      'iliac_crest',\n",
      "                      'hip',\n",
      "                      'knee',\n",
      "                      'ankle',\n",
      "                      'metatarsal',\n",
      "                      'toe',\n",
      "                      'fl_toe',\n",
      "                      'mirror_lhl',\n",
      "                      'mirror_rhl',\n",
      "                      'mirror_lfl',\n",
      "                      'mirror_rfl',\n",
      "                      'mirror_com',\n",
      "                      'mirror'],\n",
      " 'batch_size': 1,\n",
      " 'crop_pad': 0,\n",
      " 'dataset': 'training-datasets\\\\iteration-0\\\\UnaugmentedDataSet_DTR-preJul21\\\\DTR-pre_kenzie95shuffle1.mat',\n",
      " 'dataset_type': 'imgaug',\n",
      " 'deterministic': False,\n",
      " 'fg_fraction': 0.25,\n",
      " 'global_scale': 0.8,\n",
      " 'init_weights': 'C:\\\\ProgramData\\\\Anaconda3\\\\envs\\\\dlc-windowsGPU\\\\lib\\\\site-packages\\\\deeplabcut\\\\pose_estimation_tensorflow\\\\models\\\\pretrained\\\\resnet_v1_50.ckpt',\n",
      " 'intermediate_supervision': False,\n",
      " 'intermediate_supervision_layer': 12,\n",
      " 'location_refinement': True,\n",
      " 'locref_huber_loss': True,\n",
      " 'locref_loss_weight': 1.0,\n",
      " 'locref_stdev': 7.2801,\n",
      " 'log_dir': 'log',\n",
      " 'mean_pixel': [123.68, 116.779, 103.939],\n",
      " 'mirror': False,\n",
      " 'net_type': 'resnet_50',\n",
      " 'num_joints': 19,\n",
      " 'optimizer': 'sgd',\n",
      " 'pairwise_huber_loss': True,\n",
      " 'pairwise_predict': False,\n",
      " 'partaffinityfield_predict': False,\n",
      " 'regularize': False,\n",
      " 'scoremap_dir': 'test',\n",
      " 'shuffle': True,\n",
      " 'snapshot_prefix': 'C:\\\\Users\\\\GPU\\\\Documents\\\\DeepLabCut\\\\temp_kenzie\\\\CoM\\\\DTR-pre-kenzie-2023-07-21\\\\dlc-models\\\\iteration-0\\\\DTR-preJul21-trainset95shuffle1\\\\test\\\\snapshot',\n",
      " 'stride': 8.0,\n",
      " 'weigh_negatives': False,\n",
      " 'weigh_only_present_joints': False,\n",
      " 'weigh_part_predictions': False,\n",
      " 'weight_decay': 0.0001}\n"
     ]
    },
    {
     "name": "stdout",
     "output_type": "stream",
     "text": [
      "C:\\Users\\GPU\\Documents\\DeepLabCut\\temp_kenzie\\CoM\\DTR-pre-kenzie-2023-07-21\\evaluation-results\\iteration-0\\DTR-preJul21-trainset95shuffle1  already exists!\n",
      "Running  DLC_resnet_50_DTR-preJul21shuffle1_1030000  with # of trainingiterations: 1030000\n",
      "This net has already been evaluated!\n",
      "Plotting...(attention scale might be inconsistent in comparison to when data was analyzed; i.e. if you used rescale)\n",
      "C:\\Users\\GPU\\Documents\\DeepLabCut\\temp_kenzie\\CoM\\DTR-pre-kenzie-2023-07-21\\evaluation-results\\iteration-0\\DTR-preJul21-trainset95shuffle1\\LabeledImages_DLC_resnet_50_DTR-preJul21shuffle1_1030000_snapshot-1030000  already exists!\n"
     ]
    },
    {
     "name": "stderr",
     "output_type": "stream",
     "text": [
      "100%|████████████████████████████████████████████████████████████████████████████████████████████| 240/240 [01:34<00:00,  2.55it/s]\n"
     ]
    }
   ],
   "source": [
    "deeplabcut.evaluate_network(config_path,Shuffles=[1], plotting=True)"
   ]
  },
  {
   "cell_type": "code",
   "execution_count": 9,
   "metadata": {},
   "outputs": [
    {
     "name": "stdout",
     "output_type": "stream",
     "text": [
      "C:\\Users\\GPU\\Documents\\DeepLabCut\\temp_kenzie\\CoM\\DTR-pre-kenzie-2023-07-21/evaluation-results/  already exists!\n"
     ]
    },
    {
     "name": "stderr",
     "output_type": "stream",
     "text": [
      "Config:\n",
      "{'all_joints': [[0],\n",
      "                [1],\n",
      "                [2],\n",
      "                [3],\n",
      "                [4],\n",
      "                [5],\n",
      "                [6],\n",
      "                [7],\n",
      "                [8],\n",
      "                [9],\n",
      "                [10],\n",
      "                [11],\n",
      "                [12],\n",
      "                [13],\n",
      "                [14],\n",
      "                [15],\n",
      "                [16],\n",
      "                [17],\n",
      "                [18]],\n",
      " 'all_joints_names': ['calib_1',\n",
      "                      'calib_2',\n",
      "                      'calib_3',\n",
      "                      'calib_4',\n",
      "                      'calib_5',\n",
      "                      'calib_6',\n",
      "                      'iliac_crest',\n",
      "                      'hip',\n",
      "                      'knee',\n",
      "                      'ankle',\n",
      "                      'metatarsal',\n",
      "                      'toe',\n",
      "                      'fl_toe',\n",
      "                      'mirror_lhl',\n",
      "                      'mirror_rhl',\n",
      "                      'mirror_lfl',\n",
      "                      'mirror_rfl',\n",
      "                      'mirror_com',\n",
      "                      'mirror'],\n",
      " 'batch_size': 1,\n",
      " 'crop_pad': 0,\n",
      " 'dataset': 'training-datasets\\\\iteration-0\\\\UnaugmentedDataSet_DTR-preJul21\\\\DTR-pre_kenzie95shuffle1.mat',\n",
      " 'dataset_type': 'imgaug',\n",
      " 'deterministic': False,\n",
      " 'fg_fraction': 0.25,\n",
      " 'global_scale': 0.8,\n",
      " 'init_weights': 'C:\\\\ProgramData\\\\Anaconda3\\\\envs\\\\dlc-windowsGPU\\\\lib\\\\site-packages\\\\deeplabcut\\\\pose_estimation_tensorflow\\\\models\\\\pretrained\\\\resnet_v1_50.ckpt',\n",
      " 'intermediate_supervision': False,\n",
      " 'intermediate_supervision_layer': 12,\n",
      " 'location_refinement': True,\n",
      " 'locref_huber_loss': True,\n",
      " 'locref_loss_weight': 1.0,\n",
      " 'locref_stdev': 7.2801,\n",
      " 'log_dir': 'log',\n",
      " 'mean_pixel': [123.68, 116.779, 103.939],\n",
      " 'mirror': False,\n",
      " 'net_type': 'resnet_50',\n",
      " 'num_joints': 19,\n",
      " 'optimizer': 'sgd',\n",
      " 'pairwise_huber_loss': True,\n",
      " 'pairwise_predict': False,\n",
      " 'partaffinityfield_predict': False,\n",
      " 'regularize': False,\n",
      " 'scoremap_dir': 'test',\n",
      " 'shuffle': True,\n",
      " 'snapshot_prefix': 'C:\\\\Users\\\\GPU\\\\Documents\\\\DeepLabCut\\\\temp_kenzie\\\\CoM\\\\DTR-pre-kenzie-2023-07-21\\\\dlc-models\\\\iteration-0\\\\DTR-preJul21-trainset95shuffle1\\\\test\\\\snapshot',\n",
      " 'stride': 8.0,\n",
      " 'weigh_negatives': False,\n",
      " 'weigh_only_present_joints': False,\n",
      " 'weigh_part_predictions': False,\n",
      " 'weight_decay': 0.0001}\n"
     ]
    },
    {
     "name": "stdout",
     "output_type": "stream",
     "text": [
      "C:\\Users\\GPU\\Documents\\DeepLabCut\\temp_kenzie\\CoM\\DTR-pre-kenzie-2023-07-21\\evaluation-results\\iteration-0\\DTR-preJul21-trainset95shuffle1  already exists!\n",
      "Initializing ResNet\n",
      "Analyzing data...\n"
     ]
    },
    {
     "name": "stderr",
     "output_type": "stream",
     "text": [
      "2it [00:01,  1.74it/s]\n"
     ]
    },
    {
     "name": "stdout",
     "output_type": "stream",
     "text": [
      "Saving plots...\n",
      "C:\\Users\\GPU\\Documents\\DeepLabCut\\temp_kenzie\\CoM\\DTR-pre-kenzie-2023-07-21\\evaluation-results\\iteration-0\\DTR-preJul21-trainset95shuffle1\\maps  already exists!\n"
     ]
    },
    {
     "name": "stderr",
     "output_type": "stream",
     "text": [
      "100%|████████████████████████████████████████████████████████████████████████████████████████████████| 2/2 [00:01<00:00,  1.02it/s]\n"
     ]
    }
   ],
   "source": [
    "deeplabcut.extract_save_all_maps(config_path, shuffle=1, Indices=[0, 5])"
   ]
  },
  {
   "cell_type": "code",
   "execution_count": null,
   "metadata": {},
   "outputs": [
    {
     "name": "stderr",
     "output_type": "stream",
     "text": [
      "Config:\n",
      "{'all_joints': [[0],\n",
      "                [1],\n",
      "                [2],\n",
      "                [3],\n",
      "                [4],\n",
      "                [5],\n",
      "                [6],\n",
      "                [7],\n",
      "                [8],\n",
      "                [9],\n",
      "                [10],\n",
      "                [11],\n",
      "                [12],\n",
      "                [13],\n",
      "                [14],\n",
      "                [15],\n",
      "                [16],\n",
      "                [17],\n",
      "                [18]],\n",
      " 'all_joints_names': ['calib_1',\n",
      "                      'calib_2',\n",
      "                      'calib_3',\n",
      "                      'calib_4',\n",
      "                      'calib_5',\n",
      "                      'calib_6',\n",
      "                      'iliac_crest',\n",
      "                      'hip',\n",
      "                      'knee',\n",
      "                      'ankle',\n",
      "                      'metatarsal',\n",
      "                      'toe',\n",
      "                      'fl_toe',\n",
      "                      'mirror_lhl',\n",
      "                      'mirror_rhl',\n",
      "                      'mirror_lfl',\n",
      "                      'mirror_rfl',\n",
      "                      'mirror_com',\n",
      "                      'mirror'],\n",
      " 'batch_size': 1,\n",
      " 'crop_pad': 0,\n",
      " 'dataset': 'training-datasets\\\\iteration-0\\\\UnaugmentedDataSet_DTR-preJul21\\\\DTR-pre_kenzie95shuffle1.mat',\n",
      " 'dataset_type': 'imgaug',\n",
      " 'deterministic': False,\n",
      " 'fg_fraction': 0.25,\n",
      " 'global_scale': 0.8,\n",
      " 'init_weights': 'C:\\\\ProgramData\\\\Anaconda3\\\\envs\\\\dlc-windowsGPU\\\\lib\\\\site-packages\\\\deeplabcut\\\\pose_estimation_tensorflow\\\\models\\\\pretrained\\\\resnet_v1_50.ckpt',\n",
      " 'intermediate_supervision': False,\n",
      " 'intermediate_supervision_layer': 12,\n",
      " 'location_refinement': True,\n",
      " 'locref_huber_loss': True,\n",
      " 'locref_loss_weight': 1.0,\n",
      " 'locref_stdev': 7.2801,\n",
      " 'log_dir': 'log',\n",
      " 'mean_pixel': [123.68, 116.779, 103.939],\n",
      " 'mirror': False,\n",
      " 'net_type': 'resnet_50',\n",
      " 'num_joints': 19,\n",
      " 'optimizer': 'sgd',\n",
      " 'pairwise_huber_loss': True,\n",
      " 'pairwise_predict': False,\n",
      " 'partaffinityfield_predict': False,\n",
      " 'regularize': False,\n",
      " 'scoremap_dir': 'test',\n",
      " 'shuffle': True,\n",
      " 'snapshot_prefix': 'C:\\\\Users\\\\GPU\\\\Documents\\\\DeepLabCut\\\\temp_kenzie\\\\CoM\\\\DTR-pre-kenzie-2023-07-21\\\\dlc-models\\\\iteration-0\\\\DTR-preJul21-trainset95shuffle1\\\\test\\\\snapshot',\n",
      " 'stride': 8.0,\n",
      " 'weigh_negatives': False,\n",
      " 'weigh_only_present_joints': False,\n",
      " 'weigh_part_predictions': False,\n",
      " 'weight_decay': 0.0001}\n"
     ]
    },
    {
     "name": "stdout",
     "output_type": "stream",
     "text": [
      "Using snapshot-1030000 for model C:\\Users\\GPU\\Documents\\DeepLabCut\\temp_kenzie\\CoM\\DTR-pre-kenzie-2023-07-21\\dlc-models\\iteration-0\\DTR-preJul21-trainset95shuffle1\n",
      "Initializing ResNet\n",
      "Starting to analyze %  C:\\Users\\GPU\\Documents\\DeepLabCut\\temp_kenzie\\CoM\\DTR\\DTR-M1\\DTR M1 20230404_Pre DTX\\CoM DTR M1 ts3_000000.avi\n",
      "C:\\Users\\GPU\\Documents\\DeepLabCut\\temp_kenzie\\CoM\\DTR\\DTR-M1\\DTR M1 20230404_Pre DTX  already exists!\n",
      "Starting to analyze %  C:\\Users\\GPU\\Documents\\DeepLabCut\\temp_kenzie\\CoM\\DTR\\DTR-M1\\DTR M1 20230404_Pre DTX\\CoM DTR M1 ts3_000001.avi\n",
      "C:\\Users\\GPU\\Documents\\DeepLabCut\\temp_kenzie\\CoM\\DTR\\DTR-M1\\DTR M1 20230404_Pre DTX  already exists!\n",
      "Starting to analyze %  C:\\Users\\GPU\\Documents\\DeepLabCut\\temp_kenzie\\CoM\\DTR\\DTR-M1\\DTR M1 20230404_Pre DTX\\CoM DTR M1 ts3_000002.avi\n",
      "C:\\Users\\GPU\\Documents\\DeepLabCut\\temp_kenzie\\CoM\\DTR\\DTR-M1\\DTR M1 20230404_Pre DTX  already exists!\n",
      "Starting to analyze %  C:\\Users\\GPU\\Documents\\DeepLabCut\\temp_kenzie\\CoM\\DTR\\DTR-M1\\DTR M1 20230404_Pre DTX\\CoM DTR M1 ts3_000003.avi\n",
      "C:\\Users\\GPU\\Documents\\DeepLabCut\\temp_kenzie\\CoM\\DTR\\DTR-M1\\DTR M1 20230404_Pre DTX  already exists!\n",
      "Starting to analyze %  C:\\Users\\GPU\\Documents\\DeepLabCut\\temp_kenzie\\CoM\\DTR\\DTR-M1\\DTR M1 20230404_Pre DTX\\CoM DTR M1 ts3_000004.avi\n",
      "C:\\Users\\GPU\\Documents\\DeepLabCut\\temp_kenzie\\CoM\\DTR\\DTR-M1\\DTR M1 20230404_Pre DTX  already exists!\n",
      "Starting to analyze %  C:\\Users\\GPU\\Documents\\DeepLabCut\\temp_kenzie\\CoM\\DTR\\DTR-M1\\DTR M1 20230404_Pre DTX\\CoM DTR M1 ts3_000005.avi\n",
      "C:\\Users\\GPU\\Documents\\DeepLabCut\\temp_kenzie\\CoM\\DTR\\DTR-M1\\DTR M1 20230404_Pre DTX  already exists!\n",
      "Starting to analyze %  C:\\Users\\GPU\\Documents\\DeepLabCut\\temp_kenzie\\CoM\\DTR\\DTR-M1\\DTR M1 20230404_Pre DTX\\CoM DTR M1 ts3_000006.avi\n",
      "C:\\Users\\GPU\\Documents\\DeepLabCut\\temp_kenzie\\CoM\\DTR\\DTR-M1\\DTR M1 20230404_Pre DTX  already exists!\n",
      "Starting to analyze %  C:\\Users\\GPU\\Documents\\DeepLabCut\\temp_kenzie\\CoM\\DTR\\DTR-M1\\DTR M1 20230404_Pre DTX\\CoM DTR M1 ts3_000007.avi\n",
      "C:\\Users\\GPU\\Documents\\DeepLabCut\\temp_kenzie\\CoM\\DTR\\DTR-M1\\DTR M1 20230404_Pre DTX  already exists!\n",
      "Starting to analyze %  C:\\Users\\GPU\\Documents\\DeepLabCut\\temp_kenzie\\CoM\\DTR\\DTR-M1\\DTR M1 20230404_Pre DTX\\CoM DTR M1 ts3_000008.avi\n",
      "C:\\Users\\GPU\\Documents\\DeepLabCut\\temp_kenzie\\CoM\\DTR\\DTR-M1\\DTR M1 20230404_Pre DTX  already exists!\n",
      "Starting to analyze %  C:\\Users\\GPU\\Documents\\DeepLabCut\\temp_kenzie\\CoM\\DTR\\DTR-M1\\DTR M1 20230404_Pre DTX\\CoM DTR M1 ts3_000009.avi\n",
      "C:\\Users\\GPU\\Documents\\DeepLabCut\\temp_kenzie\\CoM\\DTR\\DTR-M1\\DTR M1 20230404_Pre DTX  already exists!\n",
      "Starting to analyze %  C:\\Users\\GPU\\Documents\\DeepLabCut\\temp_kenzie\\CoM\\DTR\\DTR-M1\\DTR M1 20230404_Pre DTX\\CoM DTR M1 ts3_000010.avi\n",
      "C:\\Users\\GPU\\Documents\\DeepLabCut\\temp_kenzie\\CoM\\DTR\\DTR-M1\\DTR M1 20230404_Pre DTX  already exists!\n",
      "Starting to analyze %  C:\\Users\\GPU\\Documents\\DeepLabCut\\temp_kenzie\\CoM\\DTR\\DTR-M1\\DTR M1 20230404_Pre DTX\\CoM DTR M1 ts3_000011.avi\n",
      "C:\\Users\\GPU\\Documents\\DeepLabCut\\temp_kenzie\\CoM\\DTR\\DTR-M1\\DTR M1 20230404_Pre DTX  already exists!\n",
      "Starting to analyze %  C:\\Users\\GPU\\Documents\\DeepLabCut\\temp_kenzie\\CoM\\DTR\\DTR-M2\\DTR M2 20230405_Pre DTX\\CoM DTR M2 ts3_000000.avi\n",
      "C:\\Users\\GPU\\Documents\\DeepLabCut\\temp_kenzie\\CoM\\DTR\\DTR-M2\\DTR M2 20230405_Pre DTX  already exists!\n",
      "Starting to analyze %  C:\\Users\\GPU\\Documents\\DeepLabCut\\temp_kenzie\\CoM\\DTR\\DTR-M2\\DTR M2 20230405_Pre DTX\\CoM DTR M2 ts3_000001.avi\n",
      "C:\\Users\\GPU\\Documents\\DeepLabCut\\temp_kenzie\\CoM\\DTR\\DTR-M2\\DTR M2 20230405_Pre DTX  already exists!\n",
      "Starting to analyze %  C:\\Users\\GPU\\Documents\\DeepLabCut\\temp_kenzie\\CoM\\DTR\\DTR-M2\\DTR M2 20230405_Pre DTX\\CoM DTR M2 ts3_000002.avi\n",
      "C:\\Users\\GPU\\Documents\\DeepLabCut\\temp_kenzie\\CoM\\DTR\\DTR-M2\\DTR M2 20230405_Pre DTX  already exists!\n",
      "Starting to analyze %  C:\\Users\\GPU\\Documents\\DeepLabCut\\temp_kenzie\\CoM\\DTR\\DTR-M2\\DTR M2 20230405_Pre DTX\\CoM DTR M2 ts3_000003.avi\n",
      "C:\\Users\\GPU\\Documents\\DeepLabCut\\temp_kenzie\\CoM\\DTR\\DTR-M2\\DTR M2 20230405_Pre DTX  already exists!\n",
      "Starting to analyze %  C:\\Users\\GPU\\Documents\\DeepLabCut\\temp_kenzie\\CoM\\DTR\\DTR-M2\\DTR M2 20230405_Pre DTX\\CoM DTR M2 ts3_000004.avi\n",
      "C:\\Users\\GPU\\Documents\\DeepLabCut\\temp_kenzie\\CoM\\DTR\\DTR-M2\\DTR M2 20230405_Pre DTX  already exists!\n",
      "Starting to analyze %  C:\\Users\\GPU\\Documents\\DeepLabCut\\temp_kenzie\\CoM\\DTR\\DTR-M2\\DTR M2 20230405_Pre DTX\\CoM DTR M2 ts3_000005.avi\n",
      "C:\\Users\\GPU\\Documents\\DeepLabCut\\temp_kenzie\\CoM\\DTR\\DTR-M2\\DTR M2 20230405_Pre DTX  already exists!\n",
      "Starting to analyze %  C:\\Users\\GPU\\Documents\\DeepLabCut\\temp_kenzie\\CoM\\DTR\\DTR-M2\\DTR M2 20230405_Pre DTX\\CoM DTR M2 ts3_000006.avi\n",
      "C:\\Users\\GPU\\Documents\\DeepLabCut\\temp_kenzie\\CoM\\DTR\\DTR-M2\\DTR M2 20230405_Pre DTX  already exists!\n",
      "Starting to analyze %  C:\\Users\\GPU\\Documents\\DeepLabCut\\temp_kenzie\\CoM\\DTR\\DTR-M2\\DTR M2 20230405_Pre DTX\\CoM DTR M2 ts3_000007.avi\n",
      "C:\\Users\\GPU\\Documents\\DeepLabCut\\temp_kenzie\\CoM\\DTR\\DTR-M2\\DTR M2 20230405_Pre DTX  already exists!\n",
      "Starting to analyze %  C:\\Users\\GPU\\Documents\\DeepLabCut\\temp_kenzie\\CoM\\DTR\\DTR-M2\\DTR M2 20230405_Pre DTX\\CoM DTR M2 ts3_000008.avi\n",
      "C:\\Users\\GPU\\Documents\\DeepLabCut\\temp_kenzie\\CoM\\DTR\\DTR-M2\\DTR M2 20230405_Pre DTX  already exists!\n",
      "Starting to analyze %  C:\\Users\\GPU\\Documents\\DeepLabCut\\temp_kenzie\\CoM\\DTR\\DTR-M2\\DTR M2 20230405_Pre DTX\\CoM DTR M2 ts3_000009.avi\n",
      "C:\\Users\\GPU\\Documents\\DeepLabCut\\temp_kenzie\\CoM\\DTR\\DTR-M2\\DTR M2 20230405_Pre DTX  already exists!\n",
      "Starting to analyze %  C:\\Users\\GPU\\Documents\\DeepLabCut\\temp_kenzie\\CoM\\DTR\\DTR-M2\\DTR M2 20230405_Pre DTX\\CoM DTR M2 ts3_000010.avi\n",
      "C:\\Users\\GPU\\Documents\\DeepLabCut\\temp_kenzie\\CoM\\DTR\\DTR-M2\\DTR M2 20230405_Pre DTX  already exists!\n",
      "Starting to analyze %  C:\\Users\\GPU\\Documents\\DeepLabCut\\temp_kenzie\\CoM\\DTR\\DTR-M2\\DTR M2 20230405_Pre DTX\\CoM DTR M2 ts3_000011.avi\n",
      "C:\\Users\\GPU\\Documents\\DeepLabCut\\temp_kenzie\\CoM\\DTR\\DTR-M2\\DTR M2 20230405_Pre DTX  already exists!\n",
      "Starting to analyze %  C:\\Users\\GPU\\Documents\\DeepLabCut\\temp_kenzie\\CoM\\DTR\\DTR-M2\\DTR M2 20230405_Pre DTX\\CoM DTR M2 ts3_000012.avi\n",
      "C:\\Users\\GPU\\Documents\\DeepLabCut\\temp_kenzie\\CoM\\DTR\\DTR-M2\\DTR M2 20230405_Pre DTX  already exists!\n",
      "Starting to analyze %  C:\\Users\\GPU\\Documents\\DeepLabCut\\temp_kenzie\\CoM\\DTR\\DTR-M2\\DTR M2 20230405_Pre DTX\\CoM DTR M2 ts3_000013.avi\n",
      "C:\\Users\\GPU\\Documents\\DeepLabCut\\temp_kenzie\\CoM\\DTR\\DTR-M2\\DTR M2 20230405_Pre DTX  already exists!\n",
      "Starting to analyze %  C:\\Users\\GPU\\Documents\\DeepLabCut\\temp_kenzie\\CoM\\DTR\\DTR-M2\\DTR M2 20230405_Pre DTX\\CoM DTR M2 ts3_000014.avi\n",
      "C:\\Users\\GPU\\Documents\\DeepLabCut\\temp_kenzie\\CoM\\DTR\\DTR-M2\\DTR M2 20230405_Pre DTX  already exists!\n",
      "Starting to analyze %  C:\\Users\\GPU\\Documents\\DeepLabCut\\temp_kenzie\\CoM\\DTR\\DTR-M2\\DTR M2 20230405_Pre DTX\\CoM DTR M2 ts3_000015.avi\n",
      "C:\\Users\\GPU\\Documents\\DeepLabCut\\temp_kenzie\\CoM\\DTR\\DTR-M2\\DTR M2 20230405_Pre DTX  already exists!\n",
      "Starting to analyze %  C:\\Users\\GPU\\Documents\\DeepLabCut\\temp_kenzie\\CoM\\DTR\\DTR-M2\\DTR M2 20230405_Pre DTX\\CoM DTR M2 ts3_000016.avi\n",
      "C:\\Users\\GPU\\Documents\\DeepLabCut\\temp_kenzie\\CoM\\DTR\\DTR-M2\\DTR M2 20230405_Pre DTX  already exists!\n",
      "Starting to analyze %  C:\\Users\\GPU\\Documents\\DeepLabCut\\temp_kenzie\\CoM\\DTR\\DTR-M2\\DTR M2 20230405_Pre DTX\\CoM DTR M2 ts3_000017.avi\n",
      "C:\\Users\\GPU\\Documents\\DeepLabCut\\temp_kenzie\\CoM\\DTR\\DTR-M2\\DTR M2 20230405_Pre DTX  already exists!\n",
      "Starting to analyze %  C:\\Users\\GPU\\Documents\\DeepLabCut\\temp_kenzie\\CoM\\DTR\\DTR-M2\\DTR M2 20230405_Pre DTX\\CoM DTR M2 ts3_000018.avi\n",
      "C:\\Users\\GPU\\Documents\\DeepLabCut\\temp_kenzie\\CoM\\DTR\\DTR-M2\\DTR M2 20230405_Pre DTX  already exists!\n",
      "Starting to analyze %  C:\\Users\\GPU\\Documents\\DeepLabCut\\temp_kenzie\\CoM\\DTR\\DTR-M2\\DTR M2 20230405_Pre DTX\\CoM DTR M2 ts3_000019.avi\n",
      "C:\\Users\\GPU\\Documents\\DeepLabCut\\temp_kenzie\\CoM\\DTR\\DTR-M2\\DTR M2 20230405_Pre DTX  already exists!\n",
      "Starting to analyze %  C:\\Users\\GPU\\Documents\\DeepLabCut\\temp_kenzie\\CoM\\DTR\\DTR-M2\\DTR M2 20230405_Pre DTX\\CoM DTR M2 ts3_000020.avi\n",
      "C:\\Users\\GPU\\Documents\\DeepLabCut\\temp_kenzie\\CoM\\DTR\\DTR-M2\\DTR M2 20230405_Pre DTX  already exists!\n",
      "Starting to analyze %  C:\\Users\\GPU\\Documents\\DeepLabCut\\temp_kenzie\\CoM\\DTR\\DTR-M2\\DTR M2 20230405_Pre DTX\\CoM DTR M2 ts3_000021.avi\n",
      "C:\\Users\\GPU\\Documents\\DeepLabCut\\temp_kenzie\\CoM\\DTR\\DTR-M2\\DTR M2 20230405_Pre DTX  already exists!\n",
      "Starting to analyze %  C:\\Users\\GPU\\Documents\\DeepLabCut\\temp_kenzie\\CoM\\DTR\\DTR-M2\\DTR M2 20230405_Pre DTX\\CoM DTR M2 ts3_000022.avi\n",
      "C:\\Users\\GPU\\Documents\\DeepLabCut\\temp_kenzie\\CoM\\DTR\\DTR-M2\\DTR M2 20230405_Pre DTX  already exists!\n",
      "Starting to analyze %  C:\\Users\\GPU\\Documents\\DeepLabCut\\temp_kenzie\\CoM\\DTR\\DTR-M2\\DTR M2 20230405_Pre DTX\\CoM DTR M2 ts3_000023.avi\n",
      "C:\\Users\\GPU\\Documents\\DeepLabCut\\temp_kenzie\\CoM\\DTR\\DTR-M2\\DTR M2 20230405_Pre DTX  already exists!\n",
      "Starting to analyze %  C:\\Users\\GPU\\Documents\\DeepLabCut\\temp_kenzie\\CoM\\DTR\\DTR-M3\\DTR M3 20230411_Pre DTX\\CoM DTR M3 ts3_000000.avi\n",
      "C:\\Users\\GPU\\Documents\\DeepLabCut\\temp_kenzie\\CoM\\DTR\\DTR-M3\\DTR M3 20230411_Pre DTX  already exists!\n",
      "Starting to analyze %  C:\\Users\\GPU\\Documents\\DeepLabCut\\temp_kenzie\\CoM\\DTR\\DTR-M3\\DTR M3 20230411_Pre DTX\\CoM DTR M3 ts3_000001.avi\n",
      "C:\\Users\\GPU\\Documents\\DeepLabCut\\temp_kenzie\\CoM\\DTR\\DTR-M3\\DTR M3 20230411_Pre DTX  already exists!\n",
      "Starting to analyze %  C:\\Users\\GPU\\Documents\\DeepLabCut\\temp_kenzie\\CoM\\DTR\\DTR-M3\\DTR M3 20230411_Pre DTX\\CoM DTR M3 ts3_000002.avi\n",
      "C:\\Users\\GPU\\Documents\\DeepLabCut\\temp_kenzie\\CoM\\DTR\\DTR-M3\\DTR M3 20230411_Pre DTX  already exists!\n",
      "Starting to analyze %  C:\\Users\\GPU\\Documents\\DeepLabCut\\temp_kenzie\\CoM\\DTR\\DTR-M3\\DTR M3 20230411_Pre DTX\\CoM DTR M3 ts3_000003.avi\n",
      "C:\\Users\\GPU\\Documents\\DeepLabCut\\temp_kenzie\\CoM\\DTR\\DTR-M3\\DTR M3 20230411_Pre DTX  already exists!\n",
      "Starting to analyze %  C:\\Users\\GPU\\Documents\\DeepLabCut\\temp_kenzie\\CoM\\DTR\\DTR-M3\\DTR M3 20230411_Pre DTX\\CoM DTR M3 ts3_000004.avi\n",
      "C:\\Users\\GPU\\Documents\\DeepLabCut\\temp_kenzie\\CoM\\DTR\\DTR-M3\\DTR M3 20230411_Pre DTX  already exists!\n",
      "Starting to analyze %  C:\\Users\\GPU\\Documents\\DeepLabCut\\temp_kenzie\\CoM\\DTR\\DTR-M3\\DTR M3 20230411_Pre DTX\\CoM DTR M3 ts3_000005.avi\n",
      "C:\\Users\\GPU\\Documents\\DeepLabCut\\temp_kenzie\\CoM\\DTR\\DTR-M3\\DTR M3 20230411_Pre DTX  already exists!\n",
      "Starting to analyze %  C:\\Users\\GPU\\Documents\\DeepLabCut\\temp_kenzie\\CoM\\DTR\\DTR-M3\\DTR M3 20230411_Pre DTX\\CoM DTR M3 ts3_000006.avi\n",
      "C:\\Users\\GPU\\Documents\\DeepLabCut\\temp_kenzie\\CoM\\DTR\\DTR-M3\\DTR M3 20230411_Pre DTX  already exists!\n",
      "Starting to analyze %  C:\\Users\\GPU\\Documents\\DeepLabCut\\temp_kenzie\\CoM\\DTR\\DTR-M3\\DTR M3 20230411_Pre DTX\\CoM DTR M3 ts3_000007.avi\n",
      "C:\\Users\\GPU\\Documents\\DeepLabCut\\temp_kenzie\\CoM\\DTR\\DTR-M3\\DTR M3 20230411_Pre DTX  already exists!\n",
      "Starting to analyze %  C:\\Users\\GPU\\Documents\\DeepLabCut\\temp_kenzie\\CoM\\DTR\\DTR-M3\\DTR M3 20230411_Pre DTX\\CoM DTR M3 ts3_000008.avi\n",
      "C:\\Users\\GPU\\Documents\\DeepLabCut\\temp_kenzie\\CoM\\DTR\\DTR-M3\\DTR M3 20230411_Pre DTX  already exists!\n",
      "Starting to analyze %  C:\\Users\\GPU\\Documents\\DeepLabCut\\temp_kenzie\\CoM\\DTR\\DTR-M3\\DTR M3 20230411_Pre DTX\\CoM DTR M3 ts3_000009.avi\n",
      "C:\\Users\\GPU\\Documents\\DeepLabCut\\temp_kenzie\\CoM\\DTR\\DTR-M3\\DTR M3 20230411_Pre DTX  already exists!\n",
      "Starting to analyze %  C:\\Users\\GPU\\Documents\\DeepLabCut\\temp_kenzie\\CoM\\DTR\\DTR-M3\\DTR M3 20230411_Pre DTX\\CoM DTR M3 ts3_000010.avi\n",
      "C:\\Users\\GPU\\Documents\\DeepLabCut\\temp_kenzie\\CoM\\DTR\\DTR-M3\\DTR M3 20230411_Pre DTX  already exists!\n",
      "Starting to analyze %  C:\\Users\\GPU\\Documents\\DeepLabCut\\temp_kenzie\\CoM\\DTR\\DTR-M3\\DTR M3 20230411_Pre DTX\\CoM DTR M3 ts3_000011.avi\n",
      "C:\\Users\\GPU\\Documents\\DeepLabCut\\temp_kenzie\\CoM\\DTR\\DTR-M3\\DTR M3 20230411_Pre DTX  already exists!\n",
      "Starting to analyze %  C:\\Users\\GPU\\Documents\\DeepLabCut\\temp_kenzie\\CoM\\DTR\\DTR-M3\\DTR M3 20230411_Pre DTX\\CoM DTR M3 ts3_000012.avi\n",
      "C:\\Users\\GPU\\Documents\\DeepLabCut\\temp_kenzie\\CoM\\DTR\\DTR-M3\\DTR M3 20230411_Pre DTX  already exists!\n",
      "Starting to analyze %  C:\\Users\\GPU\\Documents\\DeepLabCut\\temp_kenzie\\CoM\\DTR\\DTR-M3\\DTR M3 20230411_Pre DTX\\CoM DTR M3 ts3_000013.avi\n",
      "C:\\Users\\GPU\\Documents\\DeepLabCut\\temp_kenzie\\CoM\\DTR\\DTR-M3\\DTR M3 20230411_Pre DTX  already exists!\n",
      "Starting to analyze %  C:\\Users\\GPU\\Documents\\DeepLabCut\\temp_kenzie\\CoM\\DTR\\DTR-M3\\DTR M3 20230411_Pre DTX\\CoM DTR M3 ts3_000014.avi\n",
      "C:\\Users\\GPU\\Documents\\DeepLabCut\\temp_kenzie\\CoM\\DTR\\DTR-M3\\DTR M3 20230411_Pre DTX  already exists!\n",
      "Starting to analyze %  C:\\Users\\GPU\\Documents\\DeepLabCut\\temp_kenzie\\CoM\\DTR\\DTR-M3\\DTR M3 20230411_Pre DTX\\CoM DTR M3 ts3_000015.avi\n",
      "C:\\Users\\GPU\\Documents\\DeepLabCut\\temp_kenzie\\CoM\\DTR\\DTR-M3\\DTR M3 20230411_Pre DTX  already exists!\n",
      "Starting to analyze %  C:\\Users\\GPU\\Documents\\DeepLabCut\\temp_kenzie\\CoM\\DTR\\DTR-M3\\DTR M3 20230411_Pre DTX\\CoM DTR M3 ts3_000016.avi\n",
      "C:\\Users\\GPU\\Documents\\DeepLabCut\\temp_kenzie\\CoM\\DTR\\DTR-M3\\DTR M3 20230411_Pre DTX  already exists!\n",
      "Starting to analyze %  C:\\Users\\GPU\\Documents\\DeepLabCut\\temp_kenzie\\CoM\\DTR\\DTR-M3\\DTR M3 20230411_Pre DTX\\CoM DTR M3 ts3_000017.avi\n",
      "C:\\Users\\GPU\\Documents\\DeepLabCut\\temp_kenzie\\CoM\\DTR\\DTR-M3\\DTR M3 20230411_Pre DTX  already exists!\n",
      "Starting to analyze %  C:\\Users\\GPU\\Documents\\DeepLabCut\\temp_kenzie\\CoM\\DTR\\DTR-M3\\DTR M3 20230411_Pre DTX\\CoM DTR M3 ts3_000018.avi\n",
      "C:\\Users\\GPU\\Documents\\DeepLabCut\\temp_kenzie\\CoM\\DTR\\DTR-M3\\DTR M3 20230411_Pre DTX  already exists!\n",
      "Starting to analyze %  C:\\Users\\GPU\\Documents\\DeepLabCut\\temp_kenzie\\CoM\\DTR\\DTR-M3\\DTR M3 20230411_Pre DTX\\CoM DTR M3 ts3_000019.avi\n",
      "C:\\Users\\GPU\\Documents\\DeepLabCut\\temp_kenzie\\CoM\\DTR\\DTR-M3\\DTR M3 20230411_Pre DTX  already exists!\n",
      "Starting to analyze %  C:\\Users\\GPU\\Documents\\DeepLabCut\\temp_kenzie\\CoM\\DTR\\DTR-M3\\DTR M3 20230411_Pre DTX\\CoM DTR M3 ts3_000020.avi\n",
      "C:\\Users\\GPU\\Documents\\DeepLabCut\\temp_kenzie\\CoM\\DTR\\DTR-M3\\DTR M3 20230411_Pre DTX  already exists!\n",
      "Starting to analyze %  C:\\Users\\GPU\\Documents\\DeepLabCut\\temp_kenzie\\CoM\\DTR\\DTR-M3\\DTR M3 20230411_Pre DTX\\CoM DTR M3 ts3_000021.avi\n",
      "C:\\Users\\GPU\\Documents\\DeepLabCut\\temp_kenzie\\CoM\\DTR\\DTR-M3\\DTR M3 20230411_Pre DTX  already exists!\n",
      "Starting to analyze %  C:\\Users\\GPU\\Documents\\DeepLabCut\\temp_kenzie\\CoM\\DTR\\DTR-M3\\DTR M3 20230411_Pre DTX\\CoM DTR M3 ts3_000022.avi\n",
      "C:\\Users\\GPU\\Documents\\DeepLabCut\\temp_kenzie\\CoM\\DTR\\DTR-M3\\DTR M3 20230411_Pre DTX  already exists!\n",
      "Starting to analyze %  C:\\Users\\GPU\\Documents\\DeepLabCut\\temp_kenzie\\CoM\\DTR\\DTR-M3\\DTR M3 20230411_Pre DTX\\CoM DTR M3 ts3_000023.avi\n",
      "C:\\Users\\GPU\\Documents\\DeepLabCut\\temp_kenzie\\CoM\\DTR\\DTR-M3\\DTR M3 20230411_Pre DTX  already exists!\n",
      "Starting to analyze %  C:\\Users\\GPU\\Documents\\DeepLabCut\\temp_kenzie\\CoM\\DTR\\DTR-M3\\DTR M3 20230411_Pre DTX\\CoM DTR M3 ts3_000024.avi\n",
      "C:\\Users\\GPU\\Documents\\DeepLabCut\\temp_kenzie\\CoM\\DTR\\DTR-M3\\DTR M3 20230411_Pre DTX  already exists!\n",
      "Starting to analyze %  C:\\Users\\GPU\\Documents\\DeepLabCut\\temp_kenzie\\CoM\\DTR\\DTR-M3\\DTR M3 20230411_Pre DTX\\CoM DTR M3 ts3_000025.avi\n",
      "C:\\Users\\GPU\\Documents\\DeepLabCut\\temp_kenzie\\CoM\\DTR\\DTR-M3\\DTR M3 20230411_Pre DTX  already exists!\n",
      "Starting to analyze %  C:\\Users\\GPU\\Documents\\DeepLabCut\\temp_kenzie\\CoM\\DTR\\DTR-M5\\DTR-M5-20230404_pre-DTX\\CoM DTR M5 ts3_000000.avi\n",
      "C:\\Users\\GPU\\Documents\\DeepLabCut\\temp_kenzie\\CoM\\DTR\\DTR-M5\\DTR-M5-20230404_pre-DTX  already exists!\n",
      "Starting to analyze %  C:\\Users\\GPU\\Documents\\DeepLabCut\\temp_kenzie\\CoM\\DTR\\DTR-M5\\DTR-M5-20230404_pre-DTX\\CoM DTR M5 ts3_000001.avi\n",
      "C:\\Users\\GPU\\Documents\\DeepLabCut\\temp_kenzie\\CoM\\DTR\\DTR-M5\\DTR-M5-20230404_pre-DTX  already exists!\n",
      "Starting to analyze %  C:\\Users\\GPU\\Documents\\DeepLabCut\\temp_kenzie\\CoM\\DTR\\DTR-M5\\DTR-M5-20230404_pre-DTX\\CoM DTR M5 ts3_000002.avi\n",
      "C:\\Users\\GPU\\Documents\\DeepLabCut\\temp_kenzie\\CoM\\DTR\\DTR-M5\\DTR-M5-20230404_pre-DTX  already exists!\n",
      "Starting to analyze %  C:\\Users\\GPU\\Documents\\DeepLabCut\\temp_kenzie\\CoM\\DTR\\DTR-M5\\DTR-M5-20230404_pre-DTX\\CoM DTR M5 ts3_000003.avi\n",
      "C:\\Users\\GPU\\Documents\\DeepLabCut\\temp_kenzie\\CoM\\DTR\\DTR-M5\\DTR-M5-20230404_pre-DTX  already exists!\n",
      "Starting to analyze %  C:\\Users\\GPU\\Documents\\DeepLabCut\\temp_kenzie\\CoM\\DTR\\DTR-M5\\DTR-M5-20230404_pre-DTX\\CoM DTR M5 ts3_000004.avi\n",
      "C:\\Users\\GPU\\Documents\\DeepLabCut\\temp_kenzie\\CoM\\DTR\\DTR-M5\\DTR-M5-20230404_pre-DTX  already exists!\n",
      "Starting to analyze %  C:\\Users\\GPU\\Documents\\DeepLabCut\\temp_kenzie\\CoM\\DTR\\DTR-M5\\DTR-M5-20230404_pre-DTX\\CoM DTR M5 ts3_000005.avi\n",
      "C:\\Users\\GPU\\Documents\\DeepLabCut\\temp_kenzie\\CoM\\DTR\\DTR-M5\\DTR-M5-20230404_pre-DTX  already exists!\n"
     ]
    },
    {
     "name": "stdout",
     "output_type": "stream",
     "text": [
      "Starting to analyze %  C:\\Users\\GPU\\Documents\\DeepLabCut\\temp_kenzie\\CoM\\DTR\\DTR-M5\\DTR-M5-20230404_pre-DTX\\CoM DTR M5 ts3_000006.avi\n",
      "C:\\Users\\GPU\\Documents\\DeepLabCut\\temp_kenzie\\CoM\\DTR\\DTR-M5\\DTR-M5-20230404_pre-DTX  already exists!\n",
      "Starting to analyze %  C:\\Users\\GPU\\Documents\\DeepLabCut\\temp_kenzie\\CoM\\DTR\\DTR-M5\\DTR-M5-20230404_pre-DTX\\CoM DTR M5 ts3_000007.avi\n",
      "C:\\Users\\GPU\\Documents\\DeepLabCut\\temp_kenzie\\CoM\\DTR\\DTR-M5\\DTR-M5-20230404_pre-DTX  already exists!\n",
      "Starting to analyze %  C:\\Users\\GPU\\Documents\\DeepLabCut\\temp_kenzie\\CoM\\DTR\\DTR-M5\\DTR-M5-20230404_pre-DTX\\CoM DTR M5 ts3_000008.avi\n",
      "C:\\Users\\GPU\\Documents\\DeepLabCut\\temp_kenzie\\CoM\\DTR\\DTR-M5\\DTR-M5-20230404_pre-DTX  already exists!\n",
      "Starting to analyze %  C:\\Users\\GPU\\Documents\\DeepLabCut\\temp_kenzie\\CoM\\DTR\\DTR-M5\\DTR-M5-20230404_pre-DTX\\CoM DTR M5 ts3_000009.avi\n",
      "C:\\Users\\GPU\\Documents\\DeepLabCut\\temp_kenzie\\CoM\\DTR\\DTR-M5\\DTR-M5-20230404_pre-DTX  already exists!\n",
      "Starting to analyze %  C:\\Users\\GPU\\Documents\\DeepLabCut\\temp_kenzie\\CoM\\DTR\\DTR-M5\\DTR-M5-20230404_pre-DTX\\CoM DTR M5 ts3_000010.avi\n",
      "C:\\Users\\GPU\\Documents\\DeepLabCut\\temp_kenzie\\CoM\\DTR\\DTR-M5\\DTR-M5-20230404_pre-DTX  already exists!\n",
      "Starting to analyze %  C:\\Users\\GPU\\Documents\\DeepLabCut\\temp_kenzie\\CoM\\DTR\\DTR-M5\\DTR-M5-20230404_pre-DTX\\CoM DTR M5 ts3_000011.avi\n",
      "C:\\Users\\GPU\\Documents\\DeepLabCut\\temp_kenzie\\CoM\\DTR\\DTR-M5\\DTR-M5-20230404_pre-DTX  already exists!\n",
      "Starting to analyze %  C:\\Users\\GPU\\Documents\\DeepLabCut\\temp_kenzie\\CoM\\DTR\\DTR-M5\\DTR-M5-20230404_pre-DTX\\CoM DTR M5 ts3_000012.avi\n",
      "C:\\Users\\GPU\\Documents\\DeepLabCut\\temp_kenzie\\CoM\\DTR\\DTR-M5\\DTR-M5-20230404_pre-DTX  already exists!\n",
      "Starting to analyze %  C:\\Users\\GPU\\Documents\\DeepLabCut\\temp_kenzie\\CoM\\DTR\\DTR-M5\\DTR-M5-20230404_pre-DTX\\CoM DTR M5 ts3_000013.avi\n",
      "C:\\Users\\GPU\\Documents\\DeepLabCut\\temp_kenzie\\CoM\\DTR\\DTR-M5\\DTR-M5-20230404_pre-DTX  already exists!\n",
      "Starting to analyze %  C:\\Users\\GPU\\Documents\\DeepLabCut\\temp_kenzie\\CoM\\DTR\\DTR-M5\\DTR-M5-20230404_pre-DTX\\CoM DTR M5 ts3_000014.avi\n",
      "C:\\Users\\GPU\\Documents\\DeepLabCut\\temp_kenzie\\CoM\\DTR\\DTR-M5\\DTR-M5-20230404_pre-DTX  already exists!\n",
      "Starting to analyze %  C:\\Users\\GPU\\Documents\\DeepLabCut\\temp_kenzie\\CoM\\DTR\\DTR-M5\\DTR-M5-20230404_pre-DTX\\CoM DTR M5 ts3_000015.avi\n",
      "C:\\Users\\GPU\\Documents\\DeepLabCut\\temp_kenzie\\CoM\\DTR\\DTR-M5\\DTR-M5-20230404_pre-DTX  already exists!\n",
      "Starting to analyze %  C:\\Users\\GPU\\Documents\\DeepLabCut\\temp_kenzie\\CoM\\DTR\\DTR-M5\\DTR-M5-20230404_pre-DTX\\CoM DTR M5 ts3_000016.avi\n",
      "C:\\Users\\GPU\\Documents\\DeepLabCut\\temp_kenzie\\CoM\\DTR\\DTR-M5\\DTR-M5-20230404_pre-DTX  already exists!\n",
      "Starting to analyze %  C:\\Users\\GPU\\Documents\\DeepLabCut\\temp_kenzie\\CoM\\DTR\\DTR-M5\\DTR-M5-20230404_pre-DTX\\CoM DTR M5 ts3_000017.avi\n",
      "C:\\Users\\GPU\\Documents\\DeepLabCut\\temp_kenzie\\CoM\\DTR\\DTR-M5\\DTR-M5-20230404_pre-DTX  already exists!\n",
      "Starting to analyze %  C:\\Users\\GPU\\Documents\\DeepLabCut\\temp_kenzie\\CoM\\DTR\\DTR-M5\\DTR-M5-20230404_pre-DTX\\CoM DTR M5 ts3_000018.avi\n",
      "C:\\Users\\GPU\\Documents\\DeepLabCut\\temp_kenzie\\CoM\\DTR\\DTR-M5\\DTR-M5-20230404_pre-DTX  already exists!\n",
      "Starting to analyze %  C:\\Users\\GPU\\Documents\\DeepLabCut\\temp_kenzie\\CoM\\DTR\\DTR-M5\\DTR-M5-20230404_pre-DTX\\CoM DTR M5 ts3_000019.avi\n",
      "C:\\Users\\GPU\\Documents\\DeepLabCut\\temp_kenzie\\CoM\\DTR\\DTR-M5\\DTR-M5-20230404_pre-DTX  already exists!\n",
      "Starting to analyze %  C:\\Users\\GPU\\Documents\\DeepLabCut\\temp_kenzie\\CoM\\DTR\\DTR-M5\\DTR-M5-20230404_pre-DTX\\CoM DTR M5 ts3_000020.avi\n",
      "C:\\Users\\GPU\\Documents\\DeepLabCut\\temp_kenzie\\CoM\\DTR\\DTR-M5\\DTR-M5-20230404_pre-DTX  already exists!\n",
      "Starting to analyze %  C:\\Users\\GPU\\Documents\\DeepLabCut\\temp_kenzie\\CoM\\DTR\\DTR-M5\\DTR-M5-20230404_pre-DTX\\CoM DTR M5 ts3_000021.avi\n",
      "C:\\Users\\GPU\\Documents\\DeepLabCut\\temp_kenzie\\CoM\\DTR\\DTR-M5\\DTR-M5-20230404_pre-DTX  already exists!\n",
      "The videos are analyzed. Now your research can truly start! \n",
      " You can create labeled videos with 'create_labeled_video'\n",
      "If the tracking is not satisfactory for some videos, consider expanding the training set. You can use the function 'extract_outlier_frames' to extract a few representative outlier frames.\n"
     ]
    },
    {
     "name": "stderr",
     "output_type": "stream",
     "text": [
      "Config:\n",
      "{'all_joints': [[0],\n",
      "                [1],\n",
      "                [2],\n",
      "                [3],\n",
      "                [4],\n",
      "                [5],\n",
      "                [6],\n",
      "                [7],\n",
      "                [8],\n",
      "                [9],\n",
      "                [10],\n",
      "                [11],\n",
      "                [12],\n",
      "                [13],\n",
      "                [14],\n",
      "                [15],\n",
      "                [16],\n",
      "                [17],\n",
      "                [18]],\n",
      " 'all_joints_names': ['calib_1',\n",
      "                      'calib_2',\n",
      "                      'calib_3',\n",
      "                      'calib_4',\n",
      "                      'calib_5',\n",
      "                      'calib_6',\n",
      "                      'iliac_crest',\n",
      "                      'hip',\n",
      "                      'knee',\n",
      "                      'ankle',\n",
      "                      'metatarsal',\n",
      "                      'toe',\n",
      "                      'fl_toe',\n",
      "                      'mirror_lhl',\n",
      "                      'mirror_rhl',\n",
      "                      'mirror_lfl',\n",
      "                      'mirror_rfl',\n",
      "                      'mirror_com',\n",
      "                      'mirror'],\n",
      " 'batch_size': 1,\n",
      " 'crop_pad': 0,\n",
      " 'dataset': 'training-datasets\\\\iteration-0\\\\UnaugmentedDataSet_DTR-preJul21\\\\DTR-pre_kenzie95shuffle1.mat',\n",
      " 'dataset_type': 'imgaug',\n",
      " 'deterministic': False,\n",
      " 'fg_fraction': 0.25,\n",
      " 'global_scale': 0.8,\n",
      " 'init_weights': 'C:\\\\ProgramData\\\\Anaconda3\\\\envs\\\\dlc-windowsGPU\\\\lib\\\\site-packages\\\\deeplabcut\\\\pose_estimation_tensorflow\\\\models\\\\pretrained\\\\resnet_v1_50.ckpt',\n",
      " 'intermediate_supervision': False,\n",
      " 'intermediate_supervision_layer': 12,\n",
      " 'location_refinement': True,\n",
      " 'locref_huber_loss': True,\n",
      " 'locref_loss_weight': 1.0,\n",
      " 'locref_stdev': 7.2801,\n",
      " 'log_dir': 'log',\n",
      " 'mean_pixel': [123.68, 116.779, 103.939],\n",
      " 'mirror': False,\n",
      " 'net_type': 'resnet_50',\n",
      " 'num_joints': 19,\n",
      " 'optimizer': 'sgd',\n",
      " 'pairwise_huber_loss': True,\n",
      " 'pairwise_predict': False,\n",
      " 'partaffinityfield_predict': False,\n",
      " 'regularize': False,\n",
      " 'scoremap_dir': 'test',\n",
      " 'shuffle': True,\n",
      " 'snapshot_prefix': 'C:\\\\Users\\\\GPU\\\\Documents\\\\DeepLabCut\\\\temp_kenzie\\\\CoM\\\\DTR-pre-kenzie-2023-07-21\\\\dlc-models\\\\iteration-0\\\\DTR-preJul21-trainset95shuffle1\\\\test\\\\snapshot',\n",
      " 'stride': 8.0,\n",
      " 'weigh_negatives': False,\n",
      " 'weigh_only_present_joints': False,\n",
      " 'weigh_part_predictions': False,\n",
      " 'weight_decay': 0.0001}\n"
     ]
    },
    {
     "name": "stdout",
     "output_type": "stream",
     "text": [
      "Using snapshot-1030000 for model C:\\Users\\GPU\\Documents\\DeepLabCut\\temp_kenzie\\CoM\\DTR-pre-kenzie-2023-07-21\\dlc-models\\iteration-0\\DTR-preJul21-trainset95shuffle1\n",
      "Initializing ResNet\n",
      "Starting to analyze %  C:\\Users\\GPU\\Documents\\DeepLabCut\\temp_kenzie\\CoM\\DTR\\DTR-M1\\DTR M1 20230404_Pre DTX\\CoM DTR M1 ts3_000000.avi\n",
      "C:\\Users\\GPU\\Documents\\DeepLabCut\\temp_kenzie\\CoM\\DTR\\DTR-M1\\DTR M1 20230404_Pre DTX  already exists!\n",
      "Loading  C:\\Users\\GPU\\Documents\\DeepLabCut\\temp_kenzie\\CoM\\DTR\\DTR-M1\\DTR M1 20230404_Pre DTX\\CoM DTR M1 ts3_000000.avi\n",
      "Duration of video [s]:  7.81 , recorded with  500.0 fps!\n",
      "Overall # of frames:  3904  found with (before cropping) frame dimensions:  1280 850\n",
      "Starting to extract posture\n"
     ]
    },
    {
     "name": "stderr",
     "output_type": "stream",
     "text": [
      "3939it [02:46, 23.66it/s]                                                                                                          \n"
     ]
    },
    {
     "name": "stdout",
     "output_type": "stream",
     "text": [
      "Saving results in C:\\Users\\GPU\\Documents\\DeepLabCut\\temp_kenzie\\CoM\\DTR\\DTR-M1\\DTR M1 20230404_Pre DTX...\n",
      "Saving csv poses!\n",
      "Starting to analyze %  C:\\Users\\GPU\\Documents\\DeepLabCut\\temp_kenzie\\CoM\\DTR\\DTR-M1\\DTR M1 20230404_Pre DTX\\CoM DTR M1 ts3_000001.avi\n",
      "C:\\Users\\GPU\\Documents\\DeepLabCut\\temp_kenzie\\CoM\\DTR\\DTR-M1\\DTR M1 20230404_Pre DTX  already exists!\n",
      "Loading  C:\\Users\\GPU\\Documents\\DeepLabCut\\temp_kenzie\\CoM\\DTR\\DTR-M1\\DTR M1 20230404_Pre DTX\\CoM DTR M1 ts3_000001.avi\n",
      "Duration of video [s]:  5.08 , recorded with  500.0 fps!\n",
      "Overall # of frames:  2540  found with (before cropping) frame dimensions:  1280 850\n",
      "Starting to extract posture\n"
     ]
    },
    {
     "name": "stderr",
     "output_type": "stream",
     "text": [
      "2550it [01:50, 23.14it/s]                                                                                                          \n"
     ]
    },
    {
     "name": "stdout",
     "output_type": "stream",
     "text": [
      "Saving results in C:\\Users\\GPU\\Documents\\DeepLabCut\\temp_kenzie\\CoM\\DTR\\DTR-M1\\DTR M1 20230404_Pre DTX...\n",
      "Saving csv poses!\n",
      "Starting to analyze %  C:\\Users\\GPU\\Documents\\DeepLabCut\\temp_kenzie\\CoM\\DTR\\DTR-M1\\DTR M1 20230404_Pre DTX\\CoM DTR M1 ts3_000002.avi\n",
      "C:\\Users\\GPU\\Documents\\DeepLabCut\\temp_kenzie\\CoM\\DTR\\DTR-M1\\DTR M1 20230404_Pre DTX  already exists!\n",
      "Loading  C:\\Users\\GPU\\Documents\\DeepLabCut\\temp_kenzie\\CoM\\DTR\\DTR-M1\\DTR M1 20230404_Pre DTX\\CoM DTR M1 ts3_000002.avi\n",
      "Duration of video [s]:  4.25 , recorded with  500.0 fps!\n",
      "Overall # of frames:  2127  found with (before cropping) frame dimensions:  1280 850\n",
      "Starting to extract posture\n"
     ]
    },
    {
     "name": "stderr",
     "output_type": "stream",
     "text": [
      "2142it [01:33, 22.93it/s]                                                                                                          \n"
     ]
    },
    {
     "name": "stdout",
     "output_type": "stream",
     "text": [
      "Saving results in C:\\Users\\GPU\\Documents\\DeepLabCut\\temp_kenzie\\CoM\\DTR\\DTR-M1\\DTR M1 20230404_Pre DTX...\n",
      "Saving csv poses!\n",
      "Starting to analyze %  C:\\Users\\GPU\\Documents\\DeepLabCut\\temp_kenzie\\CoM\\DTR\\DTR-M1\\DTR M1 20230404_Pre DTX\\CoM DTR M1 ts3_000003.avi\n",
      "C:\\Users\\GPU\\Documents\\DeepLabCut\\temp_kenzie\\CoM\\DTR\\DTR-M1\\DTR M1 20230404_Pre DTX  already exists!\n",
      "Loading  C:\\Users\\GPU\\Documents\\DeepLabCut\\temp_kenzie\\CoM\\DTR\\DTR-M1\\DTR M1 20230404_Pre DTX\\CoM DTR M1 ts3_000003.avi\n",
      "Duration of video [s]:  4.99 , recorded with  500.0 fps!\n",
      "Overall # of frames:  2495  found with (before cropping) frame dimensions:  1280 850\n",
      "Starting to extract posture\n"
     ]
    },
    {
     "name": "stderr",
     "output_type": "stream",
     "text": [
      "2496it [01:49, 22.76it/s]                                                                                                          \n"
     ]
    },
    {
     "name": "stdout",
     "output_type": "stream",
     "text": [
      "Saving results in C:\\Users\\GPU\\Documents\\DeepLabCut\\temp_kenzie\\CoM\\DTR\\DTR-M1\\DTR M1 20230404_Pre DTX...\n",
      "Saving csv poses!\n",
      "Starting to analyze %  C:\\Users\\GPU\\Documents\\DeepLabCut\\temp_kenzie\\CoM\\DTR\\DTR-M1\\DTR M1 20230404_Pre DTX\\CoM DTR M1 ts3_000004.avi\n",
      "C:\\Users\\GPU\\Documents\\DeepLabCut\\temp_kenzie\\CoM\\DTR\\DTR-M1\\DTR M1 20230404_Pre DTX  already exists!\n",
      "Loading  C:\\Users\\GPU\\Documents\\DeepLabCut\\temp_kenzie\\CoM\\DTR\\DTR-M1\\DTR M1 20230404_Pre DTX\\CoM DTR M1 ts3_000004.avi\n",
      "Duration of video [s]:  7.81 , recorded with  500.0 fps!\n",
      "Overall # of frames:  3904  found with (before cropping) frame dimensions:  1280 850\n",
      "Starting to extract posture\n"
     ]
    },
    {
     "name": "stderr",
     "output_type": "stream",
     "text": [
      "3939it [02:51, 22.94it/s]                                                                                                          \n"
     ]
    },
    {
     "name": "stdout",
     "output_type": "stream",
     "text": [
      "Saving results in C:\\Users\\GPU\\Documents\\DeepLabCut\\temp_kenzie\\CoM\\DTR\\DTR-M1\\DTR M1 20230404_Pre DTX...\n",
      "Saving csv poses!\n",
      "Starting to analyze %  C:\\Users\\GPU\\Documents\\DeepLabCut\\temp_kenzie\\CoM\\DTR\\DTR-M1\\DTR M1 20230404_Pre DTX\\CoM DTR M1 ts3_000005.avi\n",
      "C:\\Users\\GPU\\Documents\\DeepLabCut\\temp_kenzie\\CoM\\DTR\\DTR-M1\\DTR M1 20230404_Pre DTX  already exists!\n",
      "Loading  C:\\Users\\GPU\\Documents\\DeepLabCut\\temp_kenzie\\CoM\\DTR\\DTR-M1\\DTR M1 20230404_Pre DTX\\CoM DTR M1 ts3_000005.avi\n",
      "Duration of video [s]:  7.81 , recorded with  500.0 fps!\n",
      "Overall # of frames:  3904  found with (before cropping) frame dimensions:  1280 850\n",
      "Starting to extract posture\n"
     ]
    },
    {
     "name": "stderr",
     "output_type": "stream",
     "text": [
      "3939it [02:52, 22.81it/s]                                                                                                          \n"
     ]
    },
    {
     "name": "stdout",
     "output_type": "stream",
     "text": [
      "Saving results in C:\\Users\\GPU\\Documents\\DeepLabCut\\temp_kenzie\\CoM\\DTR\\DTR-M1\\DTR M1 20230404_Pre DTX...\n",
      "Saving csv poses!\n",
      "Starting to analyze %  C:\\Users\\GPU\\Documents\\DeepLabCut\\temp_kenzie\\CoM\\DTR\\DTR-M1\\DTR M1 20230404_Pre DTX\\CoM DTR M1 ts3_000006.avi\n",
      "C:\\Users\\GPU\\Documents\\DeepLabCut\\temp_kenzie\\CoM\\DTR\\DTR-M1\\DTR M1 20230404_Pre DTX  already exists!\n",
      "Loading  C:\\Users\\GPU\\Documents\\DeepLabCut\\temp_kenzie\\CoM\\DTR\\DTR-M1\\DTR M1 20230404_Pre DTX\\CoM DTR M1 ts3_000006.avi\n",
      "Duration of video [s]:  6.95 , recorded with  500.0 fps!\n",
      "Overall # of frames:  3473  found with (before cropping) frame dimensions:  1280 850\n",
      "Starting to extract posture\n"
     ]
    },
    {
     "name": "stderr",
     "output_type": "stream",
     "text": [
      "3502it [02:33, 22.75it/s]                                                                                                          \n"
     ]
    },
    {
     "name": "stdout",
     "output_type": "stream",
     "text": [
      "Saving results in C:\\Users\\GPU\\Documents\\DeepLabCut\\temp_kenzie\\CoM\\DTR\\DTR-M1\\DTR M1 20230404_Pre DTX...\n",
      "Saving csv poses!\n",
      "Starting to analyze %  C:\\Users\\GPU\\Documents\\DeepLabCut\\temp_kenzie\\CoM\\DTR\\DTR-M1\\DTR M1 20230404_Pre DTX\\CoM DTR M1 ts3_000007.avi\n",
      "C:\\Users\\GPU\\Documents\\DeepLabCut\\temp_kenzie\\CoM\\DTR\\DTR-M1\\DTR M1 20230404_Pre DTX  already exists!\n",
      "Loading  C:\\Users\\GPU\\Documents\\DeepLabCut\\temp_kenzie\\CoM\\DTR\\DTR-M1\\DTR M1 20230404_Pre DTX\\CoM DTR M1 ts3_000007.avi\n",
      "Duration of video [s]:  5.96 , recorded with  500.0 fps!\n",
      "Overall # of frames:  2980  found with (before cropping) frame dimensions:  1280 850\n",
      "Starting to extract posture\n"
     ]
    },
    {
     "name": "stderr",
     "output_type": "stream",
     "text": [
      "2987it [02:12, 22.49it/s]                                                                                                          \n"
     ]
    },
    {
     "name": "stdout",
     "output_type": "stream",
     "text": [
      "Saving results in C:\\Users\\GPU\\Documents\\DeepLabCut\\temp_kenzie\\CoM\\DTR\\DTR-M1\\DTR M1 20230404_Pre DTX...\n",
      "Saving csv poses!\n",
      "Starting to analyze %  C:\\Users\\GPU\\Documents\\DeepLabCut\\temp_kenzie\\CoM\\DTR\\DTR-M1\\DTR M1 20230404_Pre DTX\\CoM DTR M1 ts3_000008.avi\n",
      "C:\\Users\\GPU\\Documents\\DeepLabCut\\temp_kenzie\\CoM\\DTR\\DTR-M1\\DTR M1 20230404_Pre DTX  already exists!\n",
      "Loading  C:\\Users\\GPU\\Documents\\DeepLabCut\\temp_kenzie\\CoM\\DTR\\DTR-M1\\DTR M1 20230404_Pre DTX\\CoM DTR M1 ts3_000008.avi\n",
      "Duration of video [s]:  6.95 , recorded with  500.0 fps!\n",
      "Overall # of frames:  3473  found with (before cropping) frame dimensions:  1280 850\n",
      "Starting to extract posture\n"
     ]
    },
    {
     "name": "stderr",
     "output_type": "stream",
     "text": [
      "3502it [02:35, 22.59it/s]                                                                                                          \n"
     ]
    },
    {
     "name": "stdout",
     "output_type": "stream",
     "text": [
      "Saving results in C:\\Users\\GPU\\Documents\\DeepLabCut\\temp_kenzie\\CoM\\DTR\\DTR-M1\\DTR M1 20230404_Pre DTX...\n",
      "Saving csv poses!\n",
      "Starting to analyze %  C:\\Users\\GPU\\Documents\\DeepLabCut\\temp_kenzie\\CoM\\DTR\\DTR-M1\\DTR M1 20230404_Pre DTX\\CoM DTR M1 ts3_000009.avi\n",
      "C:\\Users\\GPU\\Documents\\DeepLabCut\\temp_kenzie\\CoM\\DTR\\DTR-M1\\DTR M1 20230404_Pre DTX  already exists!\n",
      "Loading  C:\\Users\\GPU\\Documents\\DeepLabCut\\temp_kenzie\\CoM\\DTR\\DTR-M1\\DTR M1 20230404_Pre DTX\\CoM DTR M1 ts3_000009.avi\n",
      "Duration of video [s]:  4.69 , recorded with  500.0 fps!\n",
      "Overall # of frames:  2343  found with (before cropping) frame dimensions:  1280 850\n",
      "Starting to extract posture\n"
     ]
    },
    {
     "name": "stderr",
     "output_type": "stream",
     "text": [
      "2346it [01:45, 22.22it/s]                                                                                                          \n"
     ]
    },
    {
     "name": "stdout",
     "output_type": "stream",
     "text": [
      "Saving results in C:\\Users\\GPU\\Documents\\DeepLabCut\\temp_kenzie\\CoM\\DTR\\DTR-M1\\DTR M1 20230404_Pre DTX...\n",
      "Saving csv poses!\n",
      "Starting to analyze %  C:\\Users\\GPU\\Documents\\DeepLabCut\\temp_kenzie\\CoM\\DTR\\DTR-M1\\DTR M1 20230404_Pre DTX\\CoM DTR M1 ts3_000010.avi\n",
      "C:\\Users\\GPU\\Documents\\DeepLabCut\\temp_kenzie\\CoM\\DTR\\DTR-M1\\DTR M1 20230404_Pre DTX  already exists!\n",
      "Loading  C:\\Users\\GPU\\Documents\\DeepLabCut\\temp_kenzie\\CoM\\DTR\\DTR-M1\\DTR M1 20230404_Pre DTX\\CoM DTR M1 ts3_000010.avi\n",
      "Duration of video [s]:  4.11 , recorded with  500.0 fps!\n",
      "Overall # of frames:  2056  found with (before cropping) frame dimensions:  1280 850\n",
      "Starting to extract posture\n"
     ]
    },
    {
     "name": "stderr",
     "output_type": "stream",
     "text": [
      "2060it [01:32, 22.26it/s]                                                                                                          \n"
     ]
    },
    {
     "name": "stdout",
     "output_type": "stream",
     "text": [
      "Saving results in C:\\Users\\GPU\\Documents\\DeepLabCut\\temp_kenzie\\CoM\\DTR\\DTR-M1\\DTR M1 20230404_Pre DTX...\n",
      "Saving csv poses!\n",
      "Starting to analyze %  C:\\Users\\GPU\\Documents\\DeepLabCut\\temp_kenzie\\CoM\\DTR\\DTR-M1\\DTR M1 20230404_Pre DTX\\CoM DTR M1 ts3_000011.avi\n",
      "C:\\Users\\GPU\\Documents\\DeepLabCut\\temp_kenzie\\CoM\\DTR\\DTR-M1\\DTR M1 20230404_Pre DTX  already exists!\n",
      "Loading  C:\\Users\\GPU\\Documents\\DeepLabCut\\temp_kenzie\\CoM\\DTR\\DTR-M1\\DTR M1 20230404_Pre DTX\\CoM DTR M1 ts3_000011.avi\n",
      "Duration of video [s]:  7.81 , recorded with  500.0 fps!\n",
      "Overall # of frames:  3904  found with (before cropping) frame dimensions:  1280 850\n",
      "Starting to extract posture\n"
     ]
    },
    {
     "name": "stderr",
     "output_type": "stream",
     "text": [
      "3939it [02:56, 22.26it/s]                                                                                                          \n"
     ]
    },
    {
     "name": "stdout",
     "output_type": "stream",
     "text": [
      "Saving results in C:\\Users\\GPU\\Documents\\DeepLabCut\\temp_kenzie\\CoM\\DTR\\DTR-M1\\DTR M1 20230404_Pre DTX...\n",
      "Saving csv poses!\n",
      "Starting to analyze %  C:\\Users\\GPU\\Documents\\DeepLabCut\\temp_kenzie\\CoM\\DTR\\DTR-M2\\DTR M2 20230405_Pre DTX\\CoM DTR M2 ts3_000000.avi\n",
      "C:\\Users\\GPU\\Documents\\DeepLabCut\\temp_kenzie\\CoM\\DTR\\DTR-M2\\DTR M2 20230405_Pre DTX  already exists!\n",
      "Loading  C:\\Users\\GPU\\Documents\\DeepLabCut\\temp_kenzie\\CoM\\DTR\\DTR-M2\\DTR M2 20230405_Pre DTX\\CoM DTR M2 ts3_000000.avi\n",
      "Duration of video [s]:  7.81 , recorded with  500.0 fps!\n",
      "Overall # of frames:  3904  found with (before cropping) frame dimensions:  1280 850\n",
      "Starting to extract posture\n"
     ]
    },
    {
     "name": "stderr",
     "output_type": "stream",
     "text": [
      "3939it [02:55, 22.39it/s]                                                                                                          \n"
     ]
    },
    {
     "name": "stdout",
     "output_type": "stream",
     "text": [
      "Saving results in C:\\Users\\GPU\\Documents\\DeepLabCut\\temp_kenzie\\CoM\\DTR\\DTR-M2\\DTR M2 20230405_Pre DTX...\n",
      "Saving csv poses!\n",
      "Starting to analyze %  C:\\Users\\GPU\\Documents\\DeepLabCut\\temp_kenzie\\CoM\\DTR\\DTR-M2\\DTR M2 20230405_Pre DTX\\CoM DTR M2 ts3_000001.avi\n",
      "C:\\Users\\GPU\\Documents\\DeepLabCut\\temp_kenzie\\CoM\\DTR\\DTR-M2\\DTR M2 20230405_Pre DTX  already exists!\n",
      "Loading  C:\\Users\\GPU\\Documents\\DeepLabCut\\temp_kenzie\\CoM\\DTR\\DTR-M2\\DTR M2 20230405_Pre DTX\\CoM DTR M2 ts3_000001.avi\n",
      "Duration of video [s]:  7.81 , recorded with  500.0 fps!\n",
      "Overall # of frames:  3904  found with (before cropping) frame dimensions:  1280 850\n",
      "Starting to extract posture\n"
     ]
    },
    {
     "name": "stderr",
     "output_type": "stream",
     "text": [
      "3939it [02:58, 22.04it/s]                                                                                                          \n"
     ]
    },
    {
     "name": "stdout",
     "output_type": "stream",
     "text": [
      "Saving results in C:\\Users\\GPU\\Documents\\DeepLabCut\\temp_kenzie\\CoM\\DTR\\DTR-M2\\DTR M2 20230405_Pre DTX...\n",
      "Saving csv poses!\n",
      "Starting to analyze %  C:\\Users\\GPU\\Documents\\DeepLabCut\\temp_kenzie\\CoM\\DTR\\DTR-M2\\DTR M2 20230405_Pre DTX\\CoM DTR M2 ts3_000002.avi\n",
      "C:\\Users\\GPU\\Documents\\DeepLabCut\\temp_kenzie\\CoM\\DTR\\DTR-M2\\DTR M2 20230405_Pre DTX  already exists!\n",
      "Loading  C:\\Users\\GPU\\Documents\\DeepLabCut\\temp_kenzie\\CoM\\DTR\\DTR-M2\\DTR M2 20230405_Pre DTX\\CoM DTR M2 ts3_000002.avi\n",
      "Duration of video [s]:  7.35 , recorded with  500.0 fps!\n",
      "Overall # of frames:  3673  found with (before cropping) frame dimensions:  1280 850\n",
      "Starting to extract posture\n"
     ]
    },
    {
     "name": "stderr",
     "output_type": "stream",
     "text": [
      "3708it [02:50, 21.71it/s]                                                                                                          \n"
     ]
    },
    {
     "name": "stdout",
     "output_type": "stream",
     "text": [
      "Saving results in C:\\Users\\GPU\\Documents\\DeepLabCut\\temp_kenzie\\CoM\\DTR\\DTR-M2\\DTR M2 20230405_Pre DTX...\n",
      "Saving csv poses!\n",
      "Starting to analyze %  C:\\Users\\GPU\\Documents\\DeepLabCut\\temp_kenzie\\CoM\\DTR\\DTR-M2\\DTR M2 20230405_Pre DTX\\CoM DTR M2 ts3_000003.avi\n",
      "C:\\Users\\GPU\\Documents\\DeepLabCut\\temp_kenzie\\CoM\\DTR\\DTR-M2\\DTR M2 20230405_Pre DTX  already exists!\n",
      "Loading  C:\\Users\\GPU\\Documents\\DeepLabCut\\temp_kenzie\\CoM\\DTR\\DTR-M2\\DTR M2 20230405_Pre DTX\\CoM DTR M2 ts3_000003.avi\n",
      "Duration of video [s]:  7.81 , recorded with  500.0 fps!\n",
      "Overall # of frames:  3904  found with (before cropping) frame dimensions:  1280 850\n",
      "Starting to extract posture\n"
     ]
    },
    {
     "name": "stderr",
     "output_type": "stream",
     "text": [
      "3939it [02:59, 21.98it/s]                                                                                                          \n"
     ]
    },
    {
     "name": "stdout",
     "output_type": "stream",
     "text": [
      "Saving results in C:\\Users\\GPU\\Documents\\DeepLabCut\\temp_kenzie\\CoM\\DTR\\DTR-M2\\DTR M2 20230405_Pre DTX...\n",
      "Saving csv poses!\n",
      "Starting to analyze %  C:\\Users\\GPU\\Documents\\DeepLabCut\\temp_kenzie\\CoM\\DTR\\DTR-M2\\DTR M2 20230405_Pre DTX\\CoM DTR M2 ts3_000004.avi\n",
      "C:\\Users\\GPU\\Documents\\DeepLabCut\\temp_kenzie\\CoM\\DTR\\DTR-M2\\DTR M2 20230405_Pre DTX  already exists!\n",
      "Loading  C:\\Users\\GPU\\Documents\\DeepLabCut\\temp_kenzie\\CoM\\DTR\\DTR-M2\\DTR M2 20230405_Pre DTX\\CoM DTR M2 ts3_000004.avi\n",
      "Duration of video [s]:  7.81 , recorded with  500.0 fps!\n",
      "Overall # of frames:  3904  found with (before cropping) frame dimensions:  1280 850\n",
      "Starting to extract posture\n"
     ]
    },
    {
     "name": "stderr",
     "output_type": "stream",
     "text": [
      "3939it [02:59, 21.91it/s]                                                                                                          \n"
     ]
    },
    {
     "name": "stdout",
     "output_type": "stream",
     "text": [
      "Saving results in C:\\Users\\GPU\\Documents\\DeepLabCut\\temp_kenzie\\CoM\\DTR\\DTR-M2\\DTR M2 20230405_Pre DTX...\n",
      "Saving csv poses!\n",
      "Starting to analyze %  C:\\Users\\GPU\\Documents\\DeepLabCut\\temp_kenzie\\CoM\\DTR\\DTR-M2\\DTR M2 20230405_Pre DTX\\CoM DTR M2 ts3_000005.avi\n",
      "C:\\Users\\GPU\\Documents\\DeepLabCut\\temp_kenzie\\CoM\\DTR\\DTR-M2\\DTR M2 20230405_Pre DTX  already exists!\n",
      "Loading  C:\\Users\\GPU\\Documents\\DeepLabCut\\temp_kenzie\\CoM\\DTR\\DTR-M2\\DTR M2 20230405_Pre DTX\\CoM DTR M2 ts3_000005.avi\n",
      "Duration of video [s]:  7.81 , recorded with  500.0 fps!\n",
      "Overall # of frames:  3904  found with (before cropping) frame dimensions:  1280 850\n",
      "Starting to extract posture\n"
     ]
    },
    {
     "name": "stderr",
     "output_type": "stream",
     "text": [
      "3939it [03:02, 21.63it/s]                                                                                                          \n"
     ]
    },
    {
     "name": "stdout",
     "output_type": "stream",
     "text": [
      "Saving results in C:\\Users\\GPU\\Documents\\DeepLabCut\\temp_kenzie\\CoM\\DTR\\DTR-M2\\DTR M2 20230405_Pre DTX...\n",
      "Saving csv poses!\n",
      "Starting to analyze %  C:\\Users\\GPU\\Documents\\DeepLabCut\\temp_kenzie\\CoM\\DTR\\DTR-M2\\DTR M2 20230405_Pre DTX\\CoM DTR M2 ts3_000006.avi\n",
      "C:\\Users\\GPU\\Documents\\DeepLabCut\\temp_kenzie\\CoM\\DTR\\DTR-M2\\DTR M2 20230405_Pre DTX  already exists!\n",
      "Loading  C:\\Users\\GPU\\Documents\\DeepLabCut\\temp_kenzie\\CoM\\DTR\\DTR-M2\\DTR M2 20230405_Pre DTX\\CoM DTR M2 ts3_000006.avi\n",
      "Duration of video [s]:  5.45 , recorded with  500.0 fps!\n",
      "Overall # of frames:  2727  found with (before cropping) frame dimensions:  1280 850\n",
      "Starting to extract posture\n"
     ]
    },
    {
     "name": "stderr",
     "output_type": "stream",
     "text": [
      "2754it [02:09, 21.31it/s]                                                                                                          \n"
     ]
    },
    {
     "name": "stdout",
     "output_type": "stream",
     "text": [
      "Saving results in C:\\Users\\GPU\\Documents\\DeepLabCut\\temp_kenzie\\CoM\\DTR\\DTR-M2\\DTR M2 20230405_Pre DTX...\n",
      "Saving csv poses!\n",
      "Starting to analyze %  C:\\Users\\GPU\\Documents\\DeepLabCut\\temp_kenzie\\CoM\\DTR\\DTR-M2\\DTR M2 20230405_Pre DTX\\CoM DTR M2 ts3_000007.avi\n",
      "C:\\Users\\GPU\\Documents\\DeepLabCut\\temp_kenzie\\CoM\\DTR\\DTR-M2\\DTR M2 20230405_Pre DTX  already exists!\n",
      "Loading  C:\\Users\\GPU\\Documents\\DeepLabCut\\temp_kenzie\\CoM\\DTR\\DTR-M2\\DTR M2 20230405_Pre DTX\\CoM DTR M2 ts3_000007.avi\n",
      "Duration of video [s]:  7.81 , recorded with  500.0 fps!\n",
      "Overall # of frames:  3904  found with (before cropping) frame dimensions:  1280 850\n",
      "Starting to extract posture\n"
     ]
    },
    {
     "name": "stderr",
     "output_type": "stream",
     "text": [
      "3939it [03:03, 21.48it/s]                                                                                                          \n"
     ]
    },
    {
     "name": "stdout",
     "output_type": "stream",
     "text": [
      "Saving results in C:\\Users\\GPU\\Documents\\DeepLabCut\\temp_kenzie\\CoM\\DTR\\DTR-M2\\DTR M2 20230405_Pre DTX...\n",
      "Saving csv poses!\n",
      "Starting to analyze %  C:\\Users\\GPU\\Documents\\DeepLabCut\\temp_kenzie\\CoM\\DTR\\DTR-M2\\DTR M2 20230405_Pre DTX\\CoM DTR M2 ts3_000008.avi\n",
      "C:\\Users\\GPU\\Documents\\DeepLabCut\\temp_kenzie\\CoM\\DTR\\DTR-M2\\DTR M2 20230405_Pre DTX  already exists!\n",
      "Loading  C:\\Users\\GPU\\Documents\\DeepLabCut\\temp_kenzie\\CoM\\DTR\\DTR-M2\\DTR M2 20230405_Pre DTX\\CoM DTR M2 ts3_000008.avi\n",
      "Duration of video [s]:  4.89 , recorded with  500.0 fps!\n",
      "Overall # of frames:  2447  found with (before cropping) frame dimensions:  1280 850\n",
      "Starting to extract posture\n"
     ]
    },
    {
     "name": "stderr",
     "output_type": "stream",
     "text": [
      "2448it [01:53, 21.55it/s]                                                                                                          \n"
     ]
    },
    {
     "name": "stdout",
     "output_type": "stream",
     "text": [
      "Saving results in C:\\Users\\GPU\\Documents\\DeepLabCut\\temp_kenzie\\CoM\\DTR\\DTR-M2\\DTR M2 20230405_Pre DTX...\n",
      "Saving csv poses!\n",
      "Starting to analyze %  C:\\Users\\GPU\\Documents\\DeepLabCut\\temp_kenzie\\CoM\\DTR\\DTR-M2\\DTR M2 20230405_Pre DTX\\CoM DTR M2 ts3_000009.avi\n",
      "C:\\Users\\GPU\\Documents\\DeepLabCut\\temp_kenzie\\CoM\\DTR\\DTR-M2\\DTR M2 20230405_Pre DTX  already exists!\n",
      "Loading  C:\\Users\\GPU\\Documents\\DeepLabCut\\temp_kenzie\\CoM\\DTR\\DTR-M2\\DTR M2 20230405_Pre DTX\\CoM DTR M2 ts3_000009.avi\n",
      "Duration of video [s]:  7.81 , recorded with  500.0 fps!\n",
      "Overall # of frames:  3904  found with (before cropping) frame dimensions:  1280 850\n",
      "Starting to extract posture\n"
     ]
    },
    {
     "name": "stderr",
     "output_type": "stream",
     "text": [
      "3939it [03:03, 21.45it/s]                                                                                                          \n"
     ]
    },
    {
     "name": "stdout",
     "output_type": "stream",
     "text": [
      "Saving results in C:\\Users\\GPU\\Documents\\DeepLabCut\\temp_kenzie\\CoM\\DTR\\DTR-M2\\DTR M2 20230405_Pre DTX...\n",
      "Saving csv poses!\n",
      "Starting to analyze %  C:\\Users\\GPU\\Documents\\DeepLabCut\\temp_kenzie\\CoM\\DTR\\DTR-M2\\DTR M2 20230405_Pre DTX\\CoM DTR M2 ts3_000010.avi\n",
      "C:\\Users\\GPU\\Documents\\DeepLabCut\\temp_kenzie\\CoM\\DTR\\DTR-M2\\DTR M2 20230405_Pre DTX  already exists!\n",
      "Loading  C:\\Users\\GPU\\Documents\\DeepLabCut\\temp_kenzie\\CoM\\DTR\\DTR-M2\\DTR M2 20230405_Pre DTX\\CoM DTR M2 ts3_000010.avi\n",
      "Duration of video [s]:  7.81 , recorded with  500.0 fps!\n",
      "Overall # of frames:  3904  found with (before cropping) frame dimensions:  1280 850\n",
      "Starting to extract posture\n"
     ]
    },
    {
     "name": "stderr",
     "output_type": "stream",
     "text": [
      "3939it [03:04, 21.36it/s]                                                                                                          \n"
     ]
    },
    {
     "name": "stdout",
     "output_type": "stream",
     "text": [
      "Saving results in C:\\Users\\GPU\\Documents\\DeepLabCut\\temp_kenzie\\CoM\\DTR\\DTR-M2\\DTR M2 20230405_Pre DTX...\n",
      "Saving csv poses!\n",
      "Starting to analyze %  C:\\Users\\GPU\\Documents\\DeepLabCut\\temp_kenzie\\CoM\\DTR\\DTR-M2\\DTR M2 20230405_Pre DTX\\CoM DTR M2 ts3_000011.avi\n",
      "C:\\Users\\GPU\\Documents\\DeepLabCut\\temp_kenzie\\CoM\\DTR\\DTR-M2\\DTR M2 20230405_Pre DTX  already exists!\n",
      "Loading  C:\\Users\\GPU\\Documents\\DeepLabCut\\temp_kenzie\\CoM\\DTR\\DTR-M2\\DTR M2 20230405_Pre DTX\\CoM DTR M2 ts3_000011.avi\n",
      "Duration of video [s]:  7.81 , recorded with  500.0 fps!\n",
      "Overall # of frames:  3904  found with (before cropping) frame dimensions:  1280 850\n",
      "Starting to extract posture\n"
     ]
    },
    {
     "name": "stderr",
     "output_type": "stream",
     "text": [
      "3939it [03:03, 21.42it/s]                                                                                                          \n"
     ]
    },
    {
     "name": "stdout",
     "output_type": "stream",
     "text": [
      "Saving results in C:\\Users\\GPU\\Documents\\DeepLabCut\\temp_kenzie\\CoM\\DTR\\DTR-M2\\DTR M2 20230405_Pre DTX...\n",
      "Saving csv poses!\n",
      "Starting to analyze %  C:\\Users\\GPU\\Documents\\DeepLabCut\\temp_kenzie\\CoM\\DTR\\DTR-M2\\DTR M2 20230405_Pre DTX\\CoM DTR M2 ts3_000012.avi\n",
      "C:\\Users\\GPU\\Documents\\DeepLabCut\\temp_kenzie\\CoM\\DTR\\DTR-M2\\DTR M2 20230405_Pre DTX  already exists!\n",
      "Loading  C:\\Users\\GPU\\Documents\\DeepLabCut\\temp_kenzie\\CoM\\DTR\\DTR-M2\\DTR M2 20230405_Pre DTX\\CoM DTR M2 ts3_000012.avi\n",
      "Duration of video [s]:  7.81 , recorded with  500.0 fps!\n",
      "Overall # of frames:  3904  found with (before cropping) frame dimensions:  1280 850\n",
      "Starting to extract posture\n"
     ]
    },
    {
     "name": "stderr",
     "output_type": "stream",
     "text": [
      "3939it [03:01, 21.75it/s]                                                                                                          \n"
     ]
    },
    {
     "name": "stdout",
     "output_type": "stream",
     "text": [
      "Saving results in C:\\Users\\GPU\\Documents\\DeepLabCut\\temp_kenzie\\CoM\\DTR\\DTR-M2\\DTR M2 20230405_Pre DTX...\n",
      "Saving csv poses!\n",
      "Starting to analyze %  C:\\Users\\GPU\\Documents\\DeepLabCut\\temp_kenzie\\CoM\\DTR\\DTR-M2\\DTR M2 20230405_Pre DTX\\CoM DTR M2 ts3_000013.avi\n",
      "C:\\Users\\GPU\\Documents\\DeepLabCut\\temp_kenzie\\CoM\\DTR\\DTR-M2\\DTR M2 20230405_Pre DTX  already exists!\n",
      "Loading  C:\\Users\\GPU\\Documents\\DeepLabCut\\temp_kenzie\\CoM\\DTR\\DTR-M2\\DTR M2 20230405_Pre DTX\\CoM DTR M2 ts3_000013.avi\n",
      "Duration of video [s]:  7.81 , recorded with  500.0 fps!\n",
      "Overall # of frames:  3904  found with (before cropping) frame dimensions:  1280 850\n",
      "Starting to extract posture\n"
     ]
    },
    {
     "name": "stderr",
     "output_type": "stream",
     "text": [
      "3939it [03:01, 21.68it/s]                                                                                                          \n"
     ]
    },
    {
     "name": "stdout",
     "output_type": "stream",
     "text": [
      "Saving results in C:\\Users\\GPU\\Documents\\DeepLabCut\\temp_kenzie\\CoM\\DTR\\DTR-M2\\DTR M2 20230405_Pre DTX...\n",
      "Saving csv poses!\n",
      "Starting to analyze %  C:\\Users\\GPU\\Documents\\DeepLabCut\\temp_kenzie\\CoM\\DTR\\DTR-M2\\DTR M2 20230405_Pre DTX\\CoM DTR M2 ts3_000014.avi\n",
      "C:\\Users\\GPU\\Documents\\DeepLabCut\\temp_kenzie\\CoM\\DTR\\DTR-M2\\DTR M2 20230405_Pre DTX  already exists!\n",
      "Loading  C:\\Users\\GPU\\Documents\\DeepLabCut\\temp_kenzie\\CoM\\DTR\\DTR-M2\\DTR M2 20230405_Pre DTX\\CoM DTR M2 ts3_000014.avi\n",
      "Duration of video [s]:  7.81 , recorded with  500.0 fps!\n",
      "Overall # of frames:  3904  found with (before cropping) frame dimensions:  1280 850\n",
      "Starting to extract posture\n"
     ]
    },
    {
     "name": "stderr",
     "output_type": "stream",
     "text": [
      "3939it [03:01, 21.65it/s]                                                                                                          \n"
     ]
    },
    {
     "name": "stdout",
     "output_type": "stream",
     "text": [
      "Saving results in C:\\Users\\GPU\\Documents\\DeepLabCut\\temp_kenzie\\CoM\\DTR\\DTR-M2\\DTR M2 20230405_Pre DTX...\n",
      "Saving csv poses!\n",
      "Starting to analyze %  C:\\Users\\GPU\\Documents\\DeepLabCut\\temp_kenzie\\CoM\\DTR\\DTR-M2\\DTR M2 20230405_Pre DTX\\CoM DTR M2 ts3_000015.avi\n",
      "C:\\Users\\GPU\\Documents\\DeepLabCut\\temp_kenzie\\CoM\\DTR\\DTR-M2\\DTR M2 20230405_Pre DTX  already exists!\n",
      "Loading  C:\\Users\\GPU\\Documents\\DeepLabCut\\temp_kenzie\\CoM\\DTR\\DTR-M2\\DTR M2 20230405_Pre DTX\\CoM DTR M2 ts3_000015.avi\n",
      "Duration of video [s]:  7.48 , recorded with  500.0 fps!\n",
      "Overall # of frames:  3739  found with (before cropping) frame dimensions:  1280 850\n",
      "Starting to extract posture\n"
     ]
    },
    {
     "name": "stderr",
     "output_type": "stream",
     "text": [
      "3774it [02:53, 21.78it/s]                                                                                                          \n"
     ]
    },
    {
     "name": "stdout",
     "output_type": "stream",
     "text": [
      "Saving results in C:\\Users\\GPU\\Documents\\DeepLabCut\\temp_kenzie\\CoM\\DTR\\DTR-M2\\DTR M2 20230405_Pre DTX...\n",
      "Saving csv poses!\n",
      "Starting to analyze %  C:\\Users\\GPU\\Documents\\DeepLabCut\\temp_kenzie\\CoM\\DTR\\DTR-M2\\DTR M2 20230405_Pre DTX\\CoM DTR M2 ts3_000016.avi\n",
      "C:\\Users\\GPU\\Documents\\DeepLabCut\\temp_kenzie\\CoM\\DTR\\DTR-M2\\DTR M2 20230405_Pre DTX  already exists!\n",
      "Loading  C:\\Users\\GPU\\Documents\\DeepLabCut\\temp_kenzie\\CoM\\DTR\\DTR-M2\\DTR M2 20230405_Pre DTX\\CoM DTR M2 ts3_000016.avi\n",
      "Duration of video [s]:  5.77 , recorded with  500.0 fps!\n",
      "Overall # of frames:  2883  found with (before cropping) frame dimensions:  1280 850\n",
      "Starting to extract posture\n"
     ]
    },
    {
     "name": "stderr",
     "output_type": "stream",
     "text": [
      "2884it [02:15, 21.33it/s]                                                                                                          \n"
     ]
    },
    {
     "name": "stdout",
     "output_type": "stream",
     "text": [
      "Saving results in C:\\Users\\GPU\\Documents\\DeepLabCut\\temp_kenzie\\CoM\\DTR\\DTR-M2\\DTR M2 20230405_Pre DTX...\n",
      "Saving csv poses!\n",
      "Starting to analyze %  C:\\Users\\GPU\\Documents\\DeepLabCut\\temp_kenzie\\CoM\\DTR\\DTR-M2\\DTR M2 20230405_Pre DTX\\CoM DTR M2 ts3_000017.avi\n",
      "C:\\Users\\GPU\\Documents\\DeepLabCut\\temp_kenzie\\CoM\\DTR\\DTR-M2\\DTR M2 20230405_Pre DTX  already exists!\n",
      "Loading  C:\\Users\\GPU\\Documents\\DeepLabCut\\temp_kenzie\\CoM\\DTR\\DTR-M2\\DTR M2 20230405_Pre DTX\\CoM DTR M2 ts3_000017.avi\n",
      "Duration of video [s]:  7.81 , recorded with  500.0 fps!\n",
      "Overall # of frames:  3904  found with (before cropping) frame dimensions:  1280 850\n",
      "Starting to extract posture\n"
     ]
    },
    {
     "name": "stderr",
     "output_type": "stream",
     "text": [
      "3939it [03:01, 21.72it/s]                                                                                                          \n"
     ]
    },
    {
     "name": "stdout",
     "output_type": "stream",
     "text": [
      "Saving results in C:\\Users\\GPU\\Documents\\DeepLabCut\\temp_kenzie\\CoM\\DTR\\DTR-M2\\DTR M2 20230405_Pre DTX...\n",
      "Saving csv poses!\n",
      "Starting to analyze %  C:\\Users\\GPU\\Documents\\DeepLabCut\\temp_kenzie\\CoM\\DTR\\DTR-M2\\DTR M2 20230405_Pre DTX\\CoM DTR M2 ts3_000018.avi\n",
      "C:\\Users\\GPU\\Documents\\DeepLabCut\\temp_kenzie\\CoM\\DTR\\DTR-M2\\DTR M2 20230405_Pre DTX  already exists!\n",
      "Loading  C:\\Users\\GPU\\Documents\\DeepLabCut\\temp_kenzie\\CoM\\DTR\\DTR-M2\\DTR M2 20230405_Pre DTX\\CoM DTR M2 ts3_000018.avi\n",
      "Duration of video [s]:  7.81 , recorded with  500.0 fps!\n",
      "Overall # of frames:  3904  found with (before cropping) frame dimensions:  1280 850\n",
      "Starting to extract posture\n"
     ]
    },
    {
     "name": "stderr",
     "output_type": "stream",
     "text": [
      "3939it [03:02, 21.62it/s]                                                                                                          \n"
     ]
    },
    {
     "name": "stdout",
     "output_type": "stream",
     "text": [
      "Saving results in C:\\Users\\GPU\\Documents\\DeepLabCut\\temp_kenzie\\CoM\\DTR\\DTR-M2\\DTR M2 20230405_Pre DTX...\n",
      "Saving csv poses!\n",
      "Starting to analyze %  C:\\Users\\GPU\\Documents\\DeepLabCut\\temp_kenzie\\CoM\\DTR\\DTR-M2\\DTR M2 20230405_Pre DTX\\CoM DTR M2 ts3_000019.avi\n",
      "C:\\Users\\GPU\\Documents\\DeepLabCut\\temp_kenzie\\CoM\\DTR\\DTR-M2\\DTR M2 20230405_Pre DTX  already exists!\n",
      "Loading  C:\\Users\\GPU\\Documents\\DeepLabCut\\temp_kenzie\\CoM\\DTR\\DTR-M2\\DTR M2 20230405_Pre DTX\\CoM DTR M2 ts3_000019.avi\n",
      "Duration of video [s]:  7.53 , recorded with  500.0 fps!\n",
      "Overall # of frames:  3764  found with (before cropping) frame dimensions:  1280 850\n",
      "Starting to extract posture\n"
     ]
    },
    {
     "name": "stderr",
     "output_type": "stream",
     "text": [
      "3774it [02:55, 21.52it/s]                                                                                                          \n"
     ]
    },
    {
     "name": "stdout",
     "output_type": "stream",
     "text": [
      "Saving results in C:\\Users\\GPU\\Documents\\DeepLabCut\\temp_kenzie\\CoM\\DTR\\DTR-M2\\DTR M2 20230405_Pre DTX...\n",
      "Saving csv poses!\n",
      "Starting to analyze %  C:\\Users\\GPU\\Documents\\DeepLabCut\\temp_kenzie\\CoM\\DTR\\DTR-M2\\DTR M2 20230405_Pre DTX\\CoM DTR M2 ts3_000020.avi\n",
      "C:\\Users\\GPU\\Documents\\DeepLabCut\\temp_kenzie\\CoM\\DTR\\DTR-M2\\DTR M2 20230405_Pre DTX  already exists!\n",
      "Loading  C:\\Users\\GPU\\Documents\\DeepLabCut\\temp_kenzie\\CoM\\DTR\\DTR-M2\\DTR M2 20230405_Pre DTX\\CoM DTR M2 ts3_000020.avi\n",
      "Duration of video [s]:  7.81 , recorded with  500.0 fps!\n",
      "Overall # of frames:  3904  found with (before cropping) frame dimensions:  1280 850\n",
      "Starting to extract posture\n"
     ]
    },
    {
     "name": "stderr",
     "output_type": "stream",
     "text": [
      "3939it [03:01, 21.75it/s]                                                                                                          \n"
     ]
    },
    {
     "name": "stdout",
     "output_type": "stream",
     "text": [
      "Saving results in C:\\Users\\GPU\\Documents\\DeepLabCut\\temp_kenzie\\CoM\\DTR\\DTR-M2\\DTR M2 20230405_Pre DTX...\n",
      "Saving csv poses!\n",
      "Starting to analyze %  C:\\Users\\GPU\\Documents\\DeepLabCut\\temp_kenzie\\CoM\\DTR\\DTR-M2\\DTR M2 20230405_Pre DTX\\CoM DTR M2 ts3_000021.avi\n",
      "C:\\Users\\GPU\\Documents\\DeepLabCut\\temp_kenzie\\CoM\\DTR\\DTR-M2\\DTR M2 20230405_Pre DTX  already exists!\n",
      "Loading  C:\\Users\\GPU\\Documents\\DeepLabCut\\temp_kenzie\\CoM\\DTR\\DTR-M2\\DTR M2 20230405_Pre DTX\\CoM DTR M2 ts3_000021.avi\n",
      "Duration of video [s]:  7.81 , recorded with  500.0 fps!\n",
      "Overall # of frames:  3904  found with (before cropping) frame dimensions:  1280 850\n",
      "Starting to extract posture\n"
     ]
    },
    {
     "name": "stderr",
     "output_type": "stream",
     "text": [
      "3939it [03:01, 21.73it/s]                                                                                                          \n"
     ]
    },
    {
     "name": "stdout",
     "output_type": "stream",
     "text": [
      "Saving results in C:\\Users\\GPU\\Documents\\DeepLabCut\\temp_kenzie\\CoM\\DTR\\DTR-M2\\DTR M2 20230405_Pre DTX...\n",
      "Saving csv poses!\n",
      "Starting to analyze %  C:\\Users\\GPU\\Documents\\DeepLabCut\\temp_kenzie\\CoM\\DTR\\DTR-M2\\DTR M2 20230405_Pre DTX\\CoM DTR M2 ts3_000022.avi\n",
      "C:\\Users\\GPU\\Documents\\DeepLabCut\\temp_kenzie\\CoM\\DTR\\DTR-M2\\DTR M2 20230405_Pre DTX  already exists!\n",
      "Loading  C:\\Users\\GPU\\Documents\\DeepLabCut\\temp_kenzie\\CoM\\DTR\\DTR-M2\\DTR M2 20230405_Pre DTX\\CoM DTR M2 ts3_000022.avi\n",
      "Duration of video [s]:  7.81 , recorded with  500.0 fps!\n",
      "Overall # of frames:  3904  found with (before cropping) frame dimensions:  1280 850\n",
      "Starting to extract posture\n"
     ]
    },
    {
     "name": "stderr",
     "output_type": "stream",
     "text": [
      "3939it [03:01, 21.67it/s]                                                                                                          \n"
     ]
    },
    {
     "name": "stdout",
     "output_type": "stream",
     "text": [
      "Saving results in C:\\Users\\GPU\\Documents\\DeepLabCut\\temp_kenzie\\CoM\\DTR\\DTR-M2\\DTR M2 20230405_Pre DTX...\n",
      "Saving csv poses!\n",
      "Starting to analyze %  C:\\Users\\GPU\\Documents\\DeepLabCut\\temp_kenzie\\CoM\\DTR\\DTR-M2\\DTR M2 20230405_Pre DTX\\CoM DTR M2 ts3_000023.avi\n",
      "C:\\Users\\GPU\\Documents\\DeepLabCut\\temp_kenzie\\CoM\\DTR\\DTR-M2\\DTR M2 20230405_Pre DTX  already exists!\n",
      "Loading  C:\\Users\\GPU\\Documents\\DeepLabCut\\temp_kenzie\\CoM\\DTR\\DTR-M2\\DTR M2 20230405_Pre DTX\\CoM DTR M2 ts3_000023.avi\n",
      "Duration of video [s]:  7.81 , recorded with  500.0 fps!\n",
      "Overall # of frames:  3904  found with (before cropping) frame dimensions:  1280 850\n",
      "Starting to extract posture\n"
     ]
    },
    {
     "name": "stderr",
     "output_type": "stream",
     "text": [
      "3939it [03:01, 21.71it/s]                                                                                                          \n"
     ]
    },
    {
     "name": "stdout",
     "output_type": "stream",
     "text": [
      "Saving results in C:\\Users\\GPU\\Documents\\DeepLabCut\\temp_kenzie\\CoM\\DTR\\DTR-M2\\DTR M2 20230405_Pre DTX...\n",
      "Saving csv poses!\n",
      "Starting to analyze %  C:\\Users\\GPU\\Documents\\DeepLabCut\\temp_kenzie\\CoM\\DTR\\DTR-M3\\DTR M3 20230411_Pre DTX\\CoM DTR M3 ts3_000000.avi\n",
      "C:\\Users\\GPU\\Documents\\DeepLabCut\\temp_kenzie\\CoM\\DTR\\DTR-M3\\DTR M3 20230411_Pre DTX  already exists!\n",
      "Loading  C:\\Users\\GPU\\Documents\\DeepLabCut\\temp_kenzie\\CoM\\DTR\\DTR-M3\\DTR M3 20230411_Pre DTX\\CoM DTR M3 ts3_000000.avi\n",
      "Duration of video [s]:  7.81 , recorded with  500.0 fps!\n",
      "Overall # of frames:  3904  found with (before cropping) frame dimensions:  1280 850\n",
      "Starting to extract posture\n"
     ]
    },
    {
     "name": "stderr",
     "output_type": "stream",
     "text": [
      "3939it [03:03, 21.47it/s]                                                                                                          \n"
     ]
    },
    {
     "name": "stdout",
     "output_type": "stream",
     "text": [
      "Saving results in C:\\Users\\GPU\\Documents\\DeepLabCut\\temp_kenzie\\CoM\\DTR\\DTR-M3\\DTR M3 20230411_Pre DTX...\n",
      "Saving csv poses!\n",
      "Starting to analyze %  C:\\Users\\GPU\\Documents\\DeepLabCut\\temp_kenzie\\CoM\\DTR\\DTR-M3\\DTR M3 20230411_Pre DTX\\CoM DTR M3 ts3_000001.avi\n",
      "C:\\Users\\GPU\\Documents\\DeepLabCut\\temp_kenzie\\CoM\\DTR\\DTR-M3\\DTR M3 20230411_Pre DTX  already exists!\n",
      "Loading  C:\\Users\\GPU\\Documents\\DeepLabCut\\temp_kenzie\\CoM\\DTR\\DTR-M3\\DTR M3 20230411_Pre DTX\\CoM DTR M3 ts3_000001.avi\n",
      "Duration of video [s]:  7.81 , recorded with  500.0 fps!\n",
      "Overall # of frames:  3904  found with (before cropping) frame dimensions:  1280 850\n",
      "Starting to extract posture\n"
     ]
    },
    {
     "name": "stderr",
     "output_type": "stream",
     "text": [
      "3939it [03:01, 21.65it/s]                                                                                                          \n"
     ]
    },
    {
     "name": "stdout",
     "output_type": "stream",
     "text": [
      "Saving results in C:\\Users\\GPU\\Documents\\DeepLabCut\\temp_kenzie\\CoM\\DTR\\DTR-M3\\DTR M3 20230411_Pre DTX...\n",
      "Saving csv poses!\n",
      "Starting to analyze %  C:\\Users\\GPU\\Documents\\DeepLabCut\\temp_kenzie\\CoM\\DTR\\DTR-M3\\DTR M3 20230411_Pre DTX\\CoM DTR M3 ts3_000002.avi\n",
      "C:\\Users\\GPU\\Documents\\DeepLabCut\\temp_kenzie\\CoM\\DTR\\DTR-M3\\DTR M3 20230411_Pre DTX  already exists!\n",
      "Loading  C:\\Users\\GPU\\Documents\\DeepLabCut\\temp_kenzie\\CoM\\DTR\\DTR-M3\\DTR M3 20230411_Pre DTX\\CoM DTR M3 ts3_000002.avi\n",
      "Duration of video [s]:  7.81 , recorded with  500.0 fps!\n",
      "Overall # of frames:  3904  found with (before cropping) frame dimensions:  1280 850\n",
      "Starting to extract posture\n"
     ]
    },
    {
     "name": "stderr",
     "output_type": "stream",
     "text": [
      "3939it [03:02, 21.55it/s]                                                                                                          \n"
     ]
    },
    {
     "name": "stdout",
     "output_type": "stream",
     "text": [
      "Saving results in C:\\Users\\GPU\\Documents\\DeepLabCut\\temp_kenzie\\CoM\\DTR\\DTR-M3\\DTR M3 20230411_Pre DTX...\n",
      "Saving csv poses!\n",
      "Starting to analyze %  C:\\Users\\GPU\\Documents\\DeepLabCut\\temp_kenzie\\CoM\\DTR\\DTR-M3\\DTR M3 20230411_Pre DTX\\CoM DTR M3 ts3_000003.avi\n",
      "C:\\Users\\GPU\\Documents\\DeepLabCut\\temp_kenzie\\CoM\\DTR\\DTR-M3\\DTR M3 20230411_Pre DTX  already exists!\n",
      "Loading  C:\\Users\\GPU\\Documents\\DeepLabCut\\temp_kenzie\\CoM\\DTR\\DTR-M3\\DTR M3 20230411_Pre DTX\\CoM DTR M3 ts3_000003.avi\n",
      "Duration of video [s]:  7.81 , recorded with  500.0 fps!\n",
      "Overall # of frames:  3904  found with (before cropping) frame dimensions:  1280 850\n",
      "Starting to extract posture\n"
     ]
    },
    {
     "name": "stderr",
     "output_type": "stream",
     "text": [
      "3939it [03:02, 21.60it/s]                                                                                                          \n"
     ]
    },
    {
     "name": "stdout",
     "output_type": "stream",
     "text": [
      "Saving results in C:\\Users\\GPU\\Documents\\DeepLabCut\\temp_kenzie\\CoM\\DTR\\DTR-M3\\DTR M3 20230411_Pre DTX...\n",
      "Saving csv poses!\n",
      "Starting to analyze %  C:\\Users\\GPU\\Documents\\DeepLabCut\\temp_kenzie\\CoM\\DTR\\DTR-M3\\DTR M3 20230411_Pre DTX\\CoM DTR M3 ts3_000004.avi\n",
      "C:\\Users\\GPU\\Documents\\DeepLabCut\\temp_kenzie\\CoM\\DTR\\DTR-M3\\DTR M3 20230411_Pre DTX  already exists!\n",
      "Loading  C:\\Users\\GPU\\Documents\\DeepLabCut\\temp_kenzie\\CoM\\DTR\\DTR-M3\\DTR M3 20230411_Pre DTX\\CoM DTR M3 ts3_000004.avi\n",
      "Duration of video [s]:  7.81 , recorded with  500.0 fps!\n",
      "Overall # of frames:  3904  found with (before cropping) frame dimensions:  1280 850\n",
      "Starting to extract posture\n"
     ]
    },
    {
     "name": "stderr",
     "output_type": "stream",
     "text": [
      "3939it [03:00, 21.82it/s]                                                                                                          \n"
     ]
    },
    {
     "name": "stdout",
     "output_type": "stream",
     "text": [
      "Saving results in C:\\Users\\GPU\\Documents\\DeepLabCut\\temp_kenzie\\CoM\\DTR\\DTR-M3\\DTR M3 20230411_Pre DTX...\n",
      "Saving csv poses!\n",
      "Starting to analyze %  C:\\Users\\GPU\\Documents\\DeepLabCut\\temp_kenzie\\CoM\\DTR\\DTR-M3\\DTR M3 20230411_Pre DTX\\CoM DTR M3 ts3_000005.avi\n",
      "C:\\Users\\GPU\\Documents\\DeepLabCut\\temp_kenzie\\CoM\\DTR\\DTR-M3\\DTR M3 20230411_Pre DTX  already exists!\n",
      "Loading  C:\\Users\\GPU\\Documents\\DeepLabCut\\temp_kenzie\\CoM\\DTR\\DTR-M3\\DTR M3 20230411_Pre DTX\\CoM DTR M3 ts3_000005.avi\n",
      "Duration of video [s]:  7.81 , recorded with  500.0 fps!\n",
      "Overall # of frames:  3904  found with (before cropping) frame dimensions:  1280 850\n",
      "Starting to extract posture\n"
     ]
    },
    {
     "name": "stderr",
     "output_type": "stream",
     "text": [
      "3939it [03:00, 21.87it/s]                                                                                                          \n"
     ]
    },
    {
     "name": "stdout",
     "output_type": "stream",
     "text": [
      "Saving results in C:\\Users\\GPU\\Documents\\DeepLabCut\\temp_kenzie\\CoM\\DTR\\DTR-M3\\DTR M3 20230411_Pre DTX...\n",
      "Saving csv poses!\n",
      "Starting to analyze %  C:\\Users\\GPU\\Documents\\DeepLabCut\\temp_kenzie\\CoM\\DTR\\DTR-M3\\DTR M3 20230411_Pre DTX\\CoM DTR M3 ts3_000006.avi\n",
      "C:\\Users\\GPU\\Documents\\DeepLabCut\\temp_kenzie\\CoM\\DTR\\DTR-M3\\DTR M3 20230411_Pre DTX  already exists!\n",
      "Loading  C:\\Users\\GPU\\Documents\\DeepLabCut\\temp_kenzie\\CoM\\DTR\\DTR-M3\\DTR M3 20230411_Pre DTX\\CoM DTR M3 ts3_000006.avi\n",
      "Duration of video [s]:  4.22 , recorded with  500.0 fps!\n",
      "Overall # of frames:  2109  found with (before cropping) frame dimensions:  1280 850\n",
      "Starting to extract posture\n"
     ]
    },
    {
     "name": "stderr",
     "output_type": "stream",
     "text": [
      "2121it [01:39, 21.42it/s]                                                                                                          \n"
     ]
    },
    {
     "name": "stdout",
     "output_type": "stream",
     "text": [
      "Saving results in C:\\Users\\GPU\\Documents\\DeepLabCut\\temp_kenzie\\CoM\\DTR\\DTR-M3\\DTR M3 20230411_Pre DTX...\n",
      "Saving csv poses!\n",
      "Starting to analyze %  C:\\Users\\GPU\\Documents\\DeepLabCut\\temp_kenzie\\CoM\\DTR\\DTR-M3\\DTR M3 20230411_Pre DTX\\CoM DTR M3 ts3_000007.avi\n",
      "C:\\Users\\GPU\\Documents\\DeepLabCut\\temp_kenzie\\CoM\\DTR\\DTR-M3\\DTR M3 20230411_Pre DTX  already exists!\n",
      "Loading  C:\\Users\\GPU\\Documents\\DeepLabCut\\temp_kenzie\\CoM\\DTR\\DTR-M3\\DTR M3 20230411_Pre DTX\\CoM DTR M3 ts3_000007.avi\n",
      "Duration of video [s]:  6.78 , recorded with  500.0 fps!\n",
      "Overall # of frames:  3389  found with (before cropping) frame dimensions:  1280 850\n",
      "Starting to extract posture\n"
     ]
    },
    {
     "name": "stderr",
     "output_type": "stream",
     "text": [
      "3399it [02:38, 21.39it/s]                                                                                                          \n"
     ]
    },
    {
     "name": "stdout",
     "output_type": "stream",
     "text": [
      "Saving results in C:\\Users\\GPU\\Documents\\DeepLabCut\\temp_kenzie\\CoM\\DTR\\DTR-M3\\DTR M3 20230411_Pre DTX...\n",
      "Saving csv poses!\n",
      "Starting to analyze %  C:\\Users\\GPU\\Documents\\DeepLabCut\\temp_kenzie\\CoM\\DTR\\DTR-M3\\DTR M3 20230411_Pre DTX\\CoM DTR M3 ts3_000008.avi\n",
      "C:\\Users\\GPU\\Documents\\DeepLabCut\\temp_kenzie\\CoM\\DTR\\DTR-M3\\DTR M3 20230411_Pre DTX  already exists!\n",
      "Loading  C:\\Users\\GPU\\Documents\\DeepLabCut\\temp_kenzie\\CoM\\DTR\\DTR-M3\\DTR M3 20230411_Pre DTX\\CoM DTR M3 ts3_000008.avi\n",
      "Duration of video [s]:  5.19 , recorded with  500.0 fps!\n",
      "Overall # of frames:  2596  found with (before cropping) frame dimensions:  1280 850\n",
      "Starting to extract posture\n"
     ]
    },
    {
     "name": "stderr",
     "output_type": "stream",
     "text": [
      "2600it [02:02, 21.24it/s]                                                                                                          \n"
     ]
    },
    {
     "name": "stdout",
     "output_type": "stream",
     "text": [
      "Saving results in C:\\Users\\GPU\\Documents\\DeepLabCut\\temp_kenzie\\CoM\\DTR\\DTR-M3\\DTR M3 20230411_Pre DTX...\n",
      "Saving csv poses!\n",
      "Starting to analyze %  C:\\Users\\GPU\\Documents\\DeepLabCut\\temp_kenzie\\CoM\\DTR\\DTR-M3\\DTR M3 20230411_Pre DTX\\CoM DTR M3 ts3_000009.avi\n",
      "C:\\Users\\GPU\\Documents\\DeepLabCut\\temp_kenzie\\CoM\\DTR\\DTR-M3\\DTR M3 20230411_Pre DTX  already exists!\n",
      "Loading  C:\\Users\\GPU\\Documents\\DeepLabCut\\temp_kenzie\\CoM\\DTR\\DTR-M3\\DTR M3 20230411_Pre DTX\\CoM DTR M3 ts3_000009.avi\n",
      "Duration of video [s]:  3.77 , recorded with  500.0 fps!\n",
      "Overall # of frames:  1886  found with (before cropping) frame dimensions:  1280 850\n",
      "Starting to extract posture\n"
     ]
    },
    {
     "name": "stderr",
     "output_type": "stream",
     "text": [
      "1890it [01:29, 21.20it/s]                                                                                                          \n"
     ]
    },
    {
     "name": "stdout",
     "output_type": "stream",
     "text": [
      "Saving results in C:\\Users\\GPU\\Documents\\DeepLabCut\\temp_kenzie\\CoM\\DTR\\DTR-M3\\DTR M3 20230411_Pre DTX...\n",
      "Saving csv poses!\n",
      "Starting to analyze %  C:\\Users\\GPU\\Documents\\DeepLabCut\\temp_kenzie\\CoM\\DTR\\DTR-M3\\DTR M3 20230411_Pre DTX\\CoM DTR M3 ts3_000010.avi\n",
      "C:\\Users\\GPU\\Documents\\DeepLabCut\\temp_kenzie\\CoM\\DTR\\DTR-M3\\DTR M3 20230411_Pre DTX  already exists!\n",
      "Loading  C:\\Users\\GPU\\Documents\\DeepLabCut\\temp_kenzie\\CoM\\DTR\\DTR-M3\\DTR M3 20230411_Pre DTX\\CoM DTR M3 ts3_000010.avi\n",
      "Duration of video [s]:  7.81 , recorded with  500.0 fps!\n",
      "Overall # of frames:  3904  found with (before cropping) frame dimensions:  1280 850\n",
      "Starting to extract posture\n"
     ]
    },
    {
     "name": "stderr",
     "output_type": "stream",
     "text": [
      "3939it [03:02, 21.57it/s]                                                                                                          \n"
     ]
    },
    {
     "name": "stdout",
     "output_type": "stream",
     "text": [
      "Saving results in C:\\Users\\GPU\\Documents\\DeepLabCut\\temp_kenzie\\CoM\\DTR\\DTR-M3\\DTR M3 20230411_Pre DTX...\n",
      "Saving csv poses!\n",
      "Starting to analyze %  C:\\Users\\GPU\\Documents\\DeepLabCut\\temp_kenzie\\CoM\\DTR\\DTR-M3\\DTR M3 20230411_Pre DTX\\CoM DTR M3 ts3_000011.avi\n",
      "C:\\Users\\GPU\\Documents\\DeepLabCut\\temp_kenzie\\CoM\\DTR\\DTR-M3\\DTR M3 20230411_Pre DTX  already exists!\n",
      "Loading  C:\\Users\\GPU\\Documents\\DeepLabCut\\temp_kenzie\\CoM\\DTR\\DTR-M3\\DTR M3 20230411_Pre DTX\\CoM DTR M3 ts3_000011.avi\n",
      "Duration of video [s]:  7.81 , recorded with  500.0 fps!\n",
      "Overall # of frames:  3904  found with (before cropping) frame dimensions:  1280 850\n",
      "Starting to extract posture\n"
     ]
    },
    {
     "name": "stderr",
     "output_type": "stream",
     "text": [
      "3939it [03:01, 21.69it/s]                                                                                                          \n"
     ]
    },
    {
     "name": "stdout",
     "output_type": "stream",
     "text": [
      "Saving results in C:\\Users\\GPU\\Documents\\DeepLabCut\\temp_kenzie\\CoM\\DTR\\DTR-M3\\DTR M3 20230411_Pre DTX...\n",
      "Saving csv poses!\n",
      "Starting to analyze %  C:\\Users\\GPU\\Documents\\DeepLabCut\\temp_kenzie\\CoM\\DTR\\DTR-M3\\DTR M3 20230411_Pre DTX\\CoM DTR M3 ts3_000012.avi\n",
      "C:\\Users\\GPU\\Documents\\DeepLabCut\\temp_kenzie\\CoM\\DTR\\DTR-M3\\DTR M3 20230411_Pre DTX  already exists!\n",
      "Loading  C:\\Users\\GPU\\Documents\\DeepLabCut\\temp_kenzie\\CoM\\DTR\\DTR-M3\\DTR M3 20230411_Pre DTX\\CoM DTR M3 ts3_000012.avi\n",
      "Duration of video [s]:  7.81 , recorded with  500.0 fps!\n",
      "Overall # of frames:  3904  found with (before cropping) frame dimensions:  1280 850\n",
      "Starting to extract posture\n"
     ]
    },
    {
     "name": "stderr",
     "output_type": "stream",
     "text": [
      "3939it [03:01, 21.66it/s]                                                                                                          \n"
     ]
    },
    {
     "name": "stdout",
     "output_type": "stream",
     "text": [
      "Saving results in C:\\Users\\GPU\\Documents\\DeepLabCut\\temp_kenzie\\CoM\\DTR\\DTR-M3\\DTR M3 20230411_Pre DTX...\n",
      "Saving csv poses!\n",
      "Starting to analyze %  C:\\Users\\GPU\\Documents\\DeepLabCut\\temp_kenzie\\CoM\\DTR\\DTR-M3\\DTR M3 20230411_Pre DTX\\CoM DTR M3 ts3_000013.avi\n",
      "C:\\Users\\GPU\\Documents\\DeepLabCut\\temp_kenzie\\CoM\\DTR\\DTR-M3\\DTR M3 20230411_Pre DTX  already exists!\n",
      "Loading  C:\\Users\\GPU\\Documents\\DeepLabCut\\temp_kenzie\\CoM\\DTR\\DTR-M3\\DTR M3 20230411_Pre DTX\\CoM DTR M3 ts3_000013.avi\n",
      "Duration of video [s]:  7.81 , recorded with  500.0 fps!\n",
      "Overall # of frames:  3904  found with (before cropping) frame dimensions:  1280 850\n",
      "Starting to extract posture\n"
     ]
    },
    {
     "name": "stderr",
     "output_type": "stream",
     "text": [
      "3939it [03:00, 21.81it/s]                                                                                                          \n"
     ]
    },
    {
     "name": "stdout",
     "output_type": "stream",
     "text": [
      "Saving results in C:\\Users\\GPU\\Documents\\DeepLabCut\\temp_kenzie\\CoM\\DTR\\DTR-M3\\DTR M3 20230411_Pre DTX...\n",
      "Saving csv poses!\n",
      "Starting to analyze %  C:\\Users\\GPU\\Documents\\DeepLabCut\\temp_kenzie\\CoM\\DTR\\DTR-M3\\DTR M3 20230411_Pre DTX\\CoM DTR M3 ts3_000014.avi\n",
      "C:\\Users\\GPU\\Documents\\DeepLabCut\\temp_kenzie\\CoM\\DTR\\DTR-M3\\DTR M3 20230411_Pre DTX  already exists!\n",
      "Loading  C:\\Users\\GPU\\Documents\\DeepLabCut\\temp_kenzie\\CoM\\DTR\\DTR-M3\\DTR M3 20230411_Pre DTX\\CoM DTR M3 ts3_000014.avi\n",
      "Duration of video [s]:  7.81 , recorded with  500.0 fps!\n",
      "Overall # of frames:  3904  found with (before cropping) frame dimensions:  1280 850\n",
      "Starting to extract posture\n"
     ]
    },
    {
     "name": "stderr",
     "output_type": "stream",
     "text": [
      "3939it [03:02, 21.64it/s]                                                                                                          \n"
     ]
    },
    {
     "name": "stdout",
     "output_type": "stream",
     "text": [
      "Saving results in C:\\Users\\GPU\\Documents\\DeepLabCut\\temp_kenzie\\CoM\\DTR\\DTR-M3\\DTR M3 20230411_Pre DTX...\n",
      "Saving csv poses!\n",
      "Starting to analyze %  C:\\Users\\GPU\\Documents\\DeepLabCut\\temp_kenzie\\CoM\\DTR\\DTR-M3\\DTR M3 20230411_Pre DTX\\CoM DTR M3 ts3_000015.avi\n",
      "C:\\Users\\GPU\\Documents\\DeepLabCut\\temp_kenzie\\CoM\\DTR\\DTR-M3\\DTR M3 20230411_Pre DTX  already exists!\n",
      "Loading  C:\\Users\\GPU\\Documents\\DeepLabCut\\temp_kenzie\\CoM\\DTR\\DTR-M3\\DTR M3 20230411_Pre DTX\\CoM DTR M3 ts3_000015.avi\n",
      "Duration of video [s]:  6.82 , recorded with  500.0 fps!\n",
      "Overall # of frames:  3410  found with (before cropping) frame dimensions:  1280 850\n",
      "Starting to extract posture\n"
     ]
    },
    {
     "name": "stderr",
     "output_type": "stream",
     "text": [
      "3434it [02:40, 21.45it/s]                                                                                                          \n"
     ]
    },
    {
     "name": "stdout",
     "output_type": "stream",
     "text": [
      "Saving results in C:\\Users\\GPU\\Documents\\DeepLabCut\\temp_kenzie\\CoM\\DTR\\DTR-M3\\DTR M3 20230411_Pre DTX...\n",
      "Saving csv poses!\n",
      "Starting to analyze %  C:\\Users\\GPU\\Documents\\DeepLabCut\\temp_kenzie\\CoM\\DTR\\DTR-M3\\DTR M3 20230411_Pre DTX\\CoM DTR M3 ts3_000016.avi\n",
      "C:\\Users\\GPU\\Documents\\DeepLabCut\\temp_kenzie\\CoM\\DTR\\DTR-M3\\DTR M3 20230411_Pre DTX  already exists!\n",
      "Loading  C:\\Users\\GPU\\Documents\\DeepLabCut\\temp_kenzie\\CoM\\DTR\\DTR-M3\\DTR M3 20230411_Pre DTX\\CoM DTR M3 ts3_000016.avi\n",
      "Duration of video [s]:  7.81 , recorded with  500.0 fps!\n",
      "Overall # of frames:  3904  found with (before cropping) frame dimensions:  1280 850\n",
      "Starting to extract posture\n"
     ]
    },
    {
     "name": "stderr",
     "output_type": "stream",
     "text": [
      "3939it [03:01, 21.65it/s]                                                                                                          \n"
     ]
    },
    {
     "name": "stdout",
     "output_type": "stream",
     "text": [
      "Saving results in C:\\Users\\GPU\\Documents\\DeepLabCut\\temp_kenzie\\CoM\\DTR\\DTR-M3\\DTR M3 20230411_Pre DTX...\n",
      "Saving csv poses!\n",
      "Starting to analyze %  C:\\Users\\GPU\\Documents\\DeepLabCut\\temp_kenzie\\CoM\\DTR\\DTR-M3\\DTR M3 20230411_Pre DTX\\CoM DTR M3 ts3_000017.avi\n",
      "C:\\Users\\GPU\\Documents\\DeepLabCut\\temp_kenzie\\CoM\\DTR\\DTR-M3\\DTR M3 20230411_Pre DTX  already exists!\n",
      "Loading  C:\\Users\\GPU\\Documents\\DeepLabCut\\temp_kenzie\\CoM\\DTR\\DTR-M3\\DTR M3 20230411_Pre DTX\\CoM DTR M3 ts3_000017.avi\n",
      "Duration of video [s]:  7.81 , recorded with  500.0 fps!\n",
      "Overall # of frames:  3904  found with (before cropping) frame dimensions:  1280 850\n",
      "Starting to extract posture\n"
     ]
    },
    {
     "name": "stderr",
     "output_type": "stream",
     "text": [
      "3939it [03:01, 21.76it/s]                                                                                                          \n"
     ]
    },
    {
     "name": "stdout",
     "output_type": "stream",
     "text": [
      "Saving results in C:\\Users\\GPU\\Documents\\DeepLabCut\\temp_kenzie\\CoM\\DTR\\DTR-M3\\DTR M3 20230411_Pre DTX...\n",
      "Saving csv poses!\n",
      "Starting to analyze %  C:\\Users\\GPU\\Documents\\DeepLabCut\\temp_kenzie\\CoM\\DTR\\DTR-M3\\DTR M3 20230411_Pre DTX\\CoM DTR M3 ts3_000018.avi\n",
      "C:\\Users\\GPU\\Documents\\DeepLabCut\\temp_kenzie\\CoM\\DTR\\DTR-M3\\DTR M3 20230411_Pre DTX  already exists!\n",
      "Loading  C:\\Users\\GPU\\Documents\\DeepLabCut\\temp_kenzie\\CoM\\DTR\\DTR-M3\\DTR M3 20230411_Pre DTX\\CoM DTR M3 ts3_000018.avi\n",
      "Duration of video [s]:  7.81 , recorded with  500.0 fps!\n",
      "Overall # of frames:  3904  found with (before cropping) frame dimensions:  1280 850\n",
      "Starting to extract posture\n"
     ]
    },
    {
     "name": "stderr",
     "output_type": "stream",
     "text": [
      "3939it [03:02, 21.59it/s]                                                                                                          \n"
     ]
    },
    {
     "name": "stdout",
     "output_type": "stream",
     "text": [
      "Saving results in C:\\Users\\GPU\\Documents\\DeepLabCut\\temp_kenzie\\CoM\\DTR\\DTR-M3\\DTR M3 20230411_Pre DTX...\n",
      "Saving csv poses!\n",
      "Starting to analyze %  C:\\Users\\GPU\\Documents\\DeepLabCut\\temp_kenzie\\CoM\\DTR\\DTR-M3\\DTR M3 20230411_Pre DTX\\CoM DTR M3 ts3_000019.avi\n",
      "C:\\Users\\GPU\\Documents\\DeepLabCut\\temp_kenzie\\CoM\\DTR\\DTR-M3\\DTR M3 20230411_Pre DTX  already exists!\n",
      "Loading  C:\\Users\\GPU\\Documents\\DeepLabCut\\temp_kenzie\\CoM\\DTR\\DTR-M3\\DTR M3 20230411_Pre DTX\\CoM DTR M3 ts3_000019.avi\n",
      "Duration of video [s]:  7.81 , recorded with  500.0 fps!\n",
      "Overall # of frames:  3904  found with (before cropping) frame dimensions:  1280 850\n",
      "Starting to extract posture\n"
     ]
    },
    {
     "name": "stderr",
     "output_type": "stream",
     "text": [
      "3939it [03:04, 21.35it/s]                                                                                                          \n"
     ]
    },
    {
     "name": "stdout",
     "output_type": "stream",
     "text": [
      "Saving results in C:\\Users\\GPU\\Documents\\DeepLabCut\\temp_kenzie\\CoM\\DTR\\DTR-M3\\DTR M3 20230411_Pre DTX...\n",
      "Saving csv poses!\n",
      "Starting to analyze %  C:\\Users\\GPU\\Documents\\DeepLabCut\\temp_kenzie\\CoM\\DTR\\DTR-M3\\DTR M3 20230411_Pre DTX\\CoM DTR M3 ts3_000020.avi\n",
      "C:\\Users\\GPU\\Documents\\DeepLabCut\\temp_kenzie\\CoM\\DTR\\DTR-M3\\DTR M3 20230411_Pre DTX  already exists!\n",
      "Loading  C:\\Users\\GPU\\Documents\\DeepLabCut\\temp_kenzie\\CoM\\DTR\\DTR-M3\\DTR M3 20230411_Pre DTX\\CoM DTR M3 ts3_000020.avi\n",
      "Duration of video [s]:  7.81 , recorded with  500.0 fps!\n",
      "Overall # of frames:  3904  found with (before cropping) frame dimensions:  1280 850\n",
      "Starting to extract posture\n"
     ]
    },
    {
     "name": "stderr",
     "output_type": "stream",
     "text": [
      "3939it [03:02, 21.63it/s]                                                                                                          \n"
     ]
    },
    {
     "name": "stdout",
     "output_type": "stream",
     "text": [
      "Saving results in C:\\Users\\GPU\\Documents\\DeepLabCut\\temp_kenzie\\CoM\\DTR\\DTR-M3\\DTR M3 20230411_Pre DTX...\n",
      "Saving csv poses!\n",
      "Starting to analyze %  C:\\Users\\GPU\\Documents\\DeepLabCut\\temp_kenzie\\CoM\\DTR\\DTR-M3\\DTR M3 20230411_Pre DTX\\CoM DTR M3 ts3_000021.avi\n",
      "C:\\Users\\GPU\\Documents\\DeepLabCut\\temp_kenzie\\CoM\\DTR\\DTR-M3\\DTR M3 20230411_Pre DTX  already exists!\n",
      "Loading  C:\\Users\\GPU\\Documents\\DeepLabCut\\temp_kenzie\\CoM\\DTR\\DTR-M3\\DTR M3 20230411_Pre DTX\\CoM DTR M3 ts3_000021.avi\n",
      "Duration of video [s]:  7.81 , recorded with  500.0 fps!\n",
      "Overall # of frames:  3904  found with (before cropping) frame dimensions:  1280 850\n",
      "Starting to extract posture\n"
     ]
    },
    {
     "name": "stderr",
     "output_type": "stream",
     "text": [
      "3939it [03:01, 21.75it/s]                                                                                                          \n"
     ]
    },
    {
     "name": "stdout",
     "output_type": "stream",
     "text": [
      "Saving results in C:\\Users\\GPU\\Documents\\DeepLabCut\\temp_kenzie\\CoM\\DTR\\DTR-M3\\DTR M3 20230411_Pre DTX...\n",
      "Saving csv poses!\n",
      "Starting to analyze %  C:\\Users\\GPU\\Documents\\DeepLabCut\\temp_kenzie\\CoM\\DTR\\DTR-M3\\DTR M3 20230411_Pre DTX\\CoM DTR M3 ts3_000022.avi\n",
      "C:\\Users\\GPU\\Documents\\DeepLabCut\\temp_kenzie\\CoM\\DTR\\DTR-M3\\DTR M3 20230411_Pre DTX  already exists!\n",
      "Loading  C:\\Users\\GPU\\Documents\\DeepLabCut\\temp_kenzie\\CoM\\DTR\\DTR-M3\\DTR M3 20230411_Pre DTX\\CoM DTR M3 ts3_000022.avi\n",
      "Duration of video [s]:  7.81 , recorded with  500.0 fps!\n",
      "Overall # of frames:  3904  found with (before cropping) frame dimensions:  1280 850\n",
      "Starting to extract posture\n"
     ]
    },
    {
     "name": "stderr",
     "output_type": "stream",
     "text": [
      "3939it [03:00, 21.80it/s]                                                                                                          \n"
     ]
    },
    {
     "name": "stdout",
     "output_type": "stream",
     "text": [
      "Saving results in C:\\Users\\GPU\\Documents\\DeepLabCut\\temp_kenzie\\CoM\\DTR\\DTR-M3\\DTR M3 20230411_Pre DTX...\n",
      "Saving csv poses!\n",
      "Starting to analyze %  C:\\Users\\GPU\\Documents\\DeepLabCut\\temp_kenzie\\CoM\\DTR\\DTR-M3\\DTR M3 20230411_Pre DTX\\CoM DTR M3 ts3_000023.avi\n",
      "C:\\Users\\GPU\\Documents\\DeepLabCut\\temp_kenzie\\CoM\\DTR\\DTR-M3\\DTR M3 20230411_Pre DTX  already exists!\n",
      "Loading  C:\\Users\\GPU\\Documents\\DeepLabCut\\temp_kenzie\\CoM\\DTR\\DTR-M3\\DTR M3 20230411_Pre DTX\\CoM DTR M3 ts3_000023.avi\n",
      "Duration of video [s]:  7.81 , recorded with  500.0 fps!\n",
      "Overall # of frames:  3904  found with (before cropping) frame dimensions:  1280 850\n",
      "Starting to extract posture\n"
     ]
    },
    {
     "name": "stderr",
     "output_type": "stream",
     "text": [
      "3939it [03:01, 21.72it/s]                                                                                                          \n"
     ]
    },
    {
     "name": "stdout",
     "output_type": "stream",
     "text": [
      "Saving results in C:\\Users\\GPU\\Documents\\DeepLabCut\\temp_kenzie\\CoM\\DTR\\DTR-M3\\DTR M3 20230411_Pre DTX...\n",
      "Saving csv poses!\n",
      "Starting to analyze %  C:\\Users\\GPU\\Documents\\DeepLabCut\\temp_kenzie\\CoM\\DTR\\DTR-M3\\DTR M3 20230411_Pre DTX\\CoM DTR M3 ts3_000024.avi\n",
      "C:\\Users\\GPU\\Documents\\DeepLabCut\\temp_kenzie\\CoM\\DTR\\DTR-M3\\DTR M3 20230411_Pre DTX  already exists!\n",
      "Loading  C:\\Users\\GPU\\Documents\\DeepLabCut\\temp_kenzie\\CoM\\DTR\\DTR-M3\\DTR M3 20230411_Pre DTX\\CoM DTR M3 ts3_000024.avi\n",
      "Duration of video [s]:  7.81 , recorded with  500.0 fps!\n",
      "Overall # of frames:  3904  found with (before cropping) frame dimensions:  1280 850\n",
      "Starting to extract posture\n"
     ]
    },
    {
     "name": "stderr",
     "output_type": "stream",
     "text": [
      "3939it [03:02, 21.54it/s]                                                                                                          \n"
     ]
    },
    {
     "name": "stdout",
     "output_type": "stream",
     "text": [
      "Saving results in C:\\Users\\GPU\\Documents\\DeepLabCut\\temp_kenzie\\CoM\\DTR\\DTR-M3\\DTR M3 20230411_Pre DTX...\n",
      "Saving csv poses!\n",
      "Starting to analyze %  C:\\Users\\GPU\\Documents\\DeepLabCut\\temp_kenzie\\CoM\\DTR\\DTR-M3\\DTR M3 20230411_Pre DTX\\CoM DTR M3 ts3_000025.avi\n",
      "C:\\Users\\GPU\\Documents\\DeepLabCut\\temp_kenzie\\CoM\\DTR\\DTR-M3\\DTR M3 20230411_Pre DTX  already exists!\n",
      "Loading  C:\\Users\\GPU\\Documents\\DeepLabCut\\temp_kenzie\\CoM\\DTR\\DTR-M3\\DTR M3 20230411_Pre DTX\\CoM DTR M3 ts3_000025.avi\n",
      "Duration of video [s]:  3.8 , recorded with  500.0 fps!\n",
      "Overall # of frames:  1900  found with (before cropping) frame dimensions:  1280 850\n",
      "Starting to extract posture\n"
     ]
    },
    {
     "name": "stderr",
     "output_type": "stream",
     "text": [
      "1919it [01:28, 21.59it/s]                                                                                                          \n"
     ]
    },
    {
     "name": "stdout",
     "output_type": "stream",
     "text": [
      "Saving results in C:\\Users\\GPU\\Documents\\DeepLabCut\\temp_kenzie\\CoM\\DTR\\DTR-M3\\DTR M3 20230411_Pre DTX...\n",
      "Saving csv poses!\n",
      "Starting to analyze %  C:\\Users\\GPU\\Documents\\DeepLabCut\\temp_kenzie\\CoM\\DTR\\DTR-M5\\DTR-M5-20230404_pre-DTX\\CoM DTR M5 ts3_000000.avi\n",
      "C:\\Users\\GPU\\Documents\\DeepLabCut\\temp_kenzie\\CoM\\DTR\\DTR-M5\\DTR-M5-20230404_pre-DTX  already exists!\n",
      "Loading  C:\\Users\\GPU\\Documents\\DeepLabCut\\temp_kenzie\\CoM\\DTR\\DTR-M5\\DTR-M5-20230404_pre-DTX\\CoM DTR M5 ts3_000000.avi\n",
      "Duration of video [s]:  7.81 , recorded with  500.0 fps!\n",
      "Overall # of frames:  3904  found with (before cropping) frame dimensions:  1280 850\n",
      "Starting to extract posture\n"
     ]
    },
    {
     "name": "stderr",
     "output_type": "stream",
     "text": [
      "3939it [03:01, 21.65it/s]                                                                                                          \n"
     ]
    },
    {
     "name": "stdout",
     "output_type": "stream",
     "text": [
      "Saving results in C:\\Users\\GPU\\Documents\\DeepLabCut\\temp_kenzie\\CoM\\DTR\\DTR-M5\\DTR-M5-20230404_pre-DTX...\n",
      "Saving csv poses!\n",
      "Starting to analyze %  C:\\Users\\GPU\\Documents\\DeepLabCut\\temp_kenzie\\CoM\\DTR\\DTR-M5\\DTR-M5-20230404_pre-DTX\\CoM DTR M5 ts3_000001.avi\n",
      "C:\\Users\\GPU\\Documents\\DeepLabCut\\temp_kenzie\\CoM\\DTR\\DTR-M5\\DTR-M5-20230404_pre-DTX  already exists!\n",
      "Loading  C:\\Users\\GPU\\Documents\\DeepLabCut\\temp_kenzie\\CoM\\DTR\\DTR-M5\\DTR-M5-20230404_pre-DTX\\CoM DTR M5 ts3_000001.avi\n",
      "Duration of video [s]:  7.81 , recorded with  500.0 fps!\n",
      "Overall # of frames:  3904  found with (before cropping) frame dimensions:  1280 850\n",
      "Starting to extract posture\n"
     ]
    },
    {
     "name": "stderr",
     "output_type": "stream",
     "text": [
      "3939it [03:01, 21.72it/s]                                                                                                          \n"
     ]
    },
    {
     "name": "stdout",
     "output_type": "stream",
     "text": [
      "Saving results in C:\\Users\\GPU\\Documents\\DeepLabCut\\temp_kenzie\\CoM\\DTR\\DTR-M5\\DTR-M5-20230404_pre-DTX...\n",
      "Saving csv poses!\n",
      "Starting to analyze %  C:\\Users\\GPU\\Documents\\DeepLabCut\\temp_kenzie\\CoM\\DTR\\DTR-M5\\DTR-M5-20230404_pre-DTX\\CoM DTR M5 ts3_000002.avi\n",
      "C:\\Users\\GPU\\Documents\\DeepLabCut\\temp_kenzie\\CoM\\DTR\\DTR-M5\\DTR-M5-20230404_pre-DTX  already exists!\n",
      "Loading  C:\\Users\\GPU\\Documents\\DeepLabCut\\temp_kenzie\\CoM\\DTR\\DTR-M5\\DTR-M5-20230404_pre-DTX\\CoM DTR M5 ts3_000002.avi\n",
      "Duration of video [s]:  7.81 , recorded with  500.0 fps!\n",
      "Overall # of frames:  3904  found with (before cropping) frame dimensions:  1280 850\n",
      "Starting to extract posture\n"
     ]
    },
    {
     "name": "stderr",
     "output_type": "stream",
     "text": [
      "3939it [03:02, 21.54it/s]                                                                                                          \n"
     ]
    },
    {
     "name": "stdout",
     "output_type": "stream",
     "text": [
      "Saving results in C:\\Users\\GPU\\Documents\\DeepLabCut\\temp_kenzie\\CoM\\DTR\\DTR-M5\\DTR-M5-20230404_pre-DTX...\n",
      "Saving csv poses!\n",
      "Starting to analyze %  C:\\Users\\GPU\\Documents\\DeepLabCut\\temp_kenzie\\CoM\\DTR\\DTR-M5\\DTR-M5-20230404_pre-DTX\\CoM DTR M5 ts3_000003.avi\n",
      "C:\\Users\\GPU\\Documents\\DeepLabCut\\temp_kenzie\\CoM\\DTR\\DTR-M5\\DTR-M5-20230404_pre-DTX  already exists!\n",
      "Loading  C:\\Users\\GPU\\Documents\\DeepLabCut\\temp_kenzie\\CoM\\DTR\\DTR-M5\\DTR-M5-20230404_pre-DTX\\CoM DTR M5 ts3_000003.avi\n",
      "Duration of video [s]:  7.81 , recorded with  500.0 fps!\n",
      "Overall # of frames:  3904  found with (before cropping) frame dimensions:  1280 850\n",
      "Starting to extract posture\n"
     ]
    },
    {
     "name": "stderr",
     "output_type": "stream",
     "text": [
      "3939it [03:02, 21.56it/s]                                                                                                          \n"
     ]
    },
    {
     "name": "stdout",
     "output_type": "stream",
     "text": [
      "Saving results in C:\\Users\\GPU\\Documents\\DeepLabCut\\temp_kenzie\\CoM\\DTR\\DTR-M5\\DTR-M5-20230404_pre-DTX...\n",
      "Saving csv poses!\n",
      "Starting to analyze %  C:\\Users\\GPU\\Documents\\DeepLabCut\\temp_kenzie\\CoM\\DTR\\DTR-M5\\DTR-M5-20230404_pre-DTX\\CoM DTR M5 ts3_000004.avi\n",
      "C:\\Users\\GPU\\Documents\\DeepLabCut\\temp_kenzie\\CoM\\DTR\\DTR-M5\\DTR-M5-20230404_pre-DTX  already exists!\n",
      "Loading  C:\\Users\\GPU\\Documents\\DeepLabCut\\temp_kenzie\\CoM\\DTR\\DTR-M5\\DTR-M5-20230404_pre-DTX\\CoM DTR M5 ts3_000004.avi\n",
      "Duration of video [s]:  7.81 , recorded with  500.0 fps!\n",
      "Overall # of frames:  3904  found with (before cropping) frame dimensions:  1280 850\n",
      "Starting to extract posture\n"
     ]
    },
    {
     "name": "stderr",
     "output_type": "stream",
     "text": [
      "3939it [03:03, 21.48it/s]                                                                                                          \n"
     ]
    },
    {
     "name": "stdout",
     "output_type": "stream",
     "text": [
      "Saving results in C:\\Users\\GPU\\Documents\\DeepLabCut\\temp_kenzie\\CoM\\DTR\\DTR-M5\\DTR-M5-20230404_pre-DTX...\n",
      "Saving csv poses!\n",
      "Starting to analyze %  C:\\Users\\GPU\\Documents\\DeepLabCut\\temp_kenzie\\CoM\\DTR\\DTR-M5\\DTR-M5-20230404_pre-DTX\\CoM DTR M5 ts3_000005.avi\n",
      "C:\\Users\\GPU\\Documents\\DeepLabCut\\temp_kenzie\\CoM\\DTR\\DTR-M5\\DTR-M5-20230404_pre-DTX  already exists!\n",
      "Loading  C:\\Users\\GPU\\Documents\\DeepLabCut\\temp_kenzie\\CoM\\DTR\\DTR-M5\\DTR-M5-20230404_pre-DTX\\CoM DTR M5 ts3_000005.avi\n",
      "Duration of video [s]:  4.04 , recorded with  500.0 fps!\n",
      "Overall # of frames:  2020  found with (before cropping) frame dimensions:  1280 850\n",
      "Starting to extract posture\n"
     ]
    },
    {
     "name": "stderr",
     "output_type": "stream",
     "text": [
      "2040it [01:34, 21.56it/s]                                                                                                          \n"
     ]
    },
    {
     "name": "stdout",
     "output_type": "stream",
     "text": [
      "Saving results in C:\\Users\\GPU\\Documents\\DeepLabCut\\temp_kenzie\\CoM\\DTR\\DTR-M5\\DTR-M5-20230404_pre-DTX...\n",
      "Saving csv poses!\n",
      "Starting to analyze %  C:\\Users\\GPU\\Documents\\DeepLabCut\\temp_kenzie\\CoM\\DTR\\DTR-M5\\DTR-M5-20230404_pre-DTX\\CoM DTR M5 ts3_000006.avi\n",
      "C:\\Users\\GPU\\Documents\\DeepLabCut\\temp_kenzie\\CoM\\DTR\\DTR-M5\\DTR-M5-20230404_pre-DTX  already exists!\n",
      "Loading  C:\\Users\\GPU\\Documents\\DeepLabCut\\temp_kenzie\\CoM\\DTR\\DTR-M5\\DTR-M5-20230404_pre-DTX\\CoM DTR M5 ts3_000006.avi\n",
      "Duration of video [s]:  4.42 , recorded with  500.0 fps!\n",
      "Overall # of frames:  2208  found with (before cropping) frame dimensions:  1280 850\n",
      "Starting to extract posture\n"
     ]
    },
    {
     "name": "stderr",
     "output_type": "stream",
     "text": [
      "2222it [01:42, 21.59it/s]                                                                                                          \n"
     ]
    },
    {
     "name": "stdout",
     "output_type": "stream",
     "text": [
      "Saving results in C:\\Users\\GPU\\Documents\\DeepLabCut\\temp_kenzie\\CoM\\DTR\\DTR-M5\\DTR-M5-20230404_pre-DTX...\n",
      "Saving csv poses!\n",
      "Starting to analyze %  C:\\Users\\GPU\\Documents\\DeepLabCut\\temp_kenzie\\CoM\\DTR\\DTR-M5\\DTR-M5-20230404_pre-DTX\\CoM DTR M5 ts3_000007.avi\n",
      "C:\\Users\\GPU\\Documents\\DeepLabCut\\temp_kenzie\\CoM\\DTR\\DTR-M5\\DTR-M5-20230404_pre-DTX  already exists!\n",
      "Loading  C:\\Users\\GPU\\Documents\\DeepLabCut\\temp_kenzie\\CoM\\DTR\\DTR-M5\\DTR-M5-20230404_pre-DTX\\CoM DTR M5 ts3_000007.avi\n",
      "Duration of video [s]:  5.19 , recorded with  500.0 fps!\n",
      "Overall # of frames:  2594  found with (before cropping) frame dimensions:  1280 850\n",
      "Starting to extract posture\n"
     ]
    },
    {
     "name": "stderr",
     "output_type": "stream",
     "text": [
      "2600it [02:01, 21.45it/s]                                                                                                          \n"
     ]
    },
    {
     "name": "stdout",
     "output_type": "stream",
     "text": [
      "Saving results in C:\\Users\\GPU\\Documents\\DeepLabCut\\temp_kenzie\\CoM\\DTR\\DTR-M5\\DTR-M5-20230404_pre-DTX...\n",
      "Saving csv poses!\n",
      "Starting to analyze %  C:\\Users\\GPU\\Documents\\DeepLabCut\\temp_kenzie\\CoM\\DTR\\DTR-M5\\DTR-M5-20230404_pre-DTX\\CoM DTR M5 ts3_000008.avi\n",
      "C:\\Users\\GPU\\Documents\\DeepLabCut\\temp_kenzie\\CoM\\DTR\\DTR-M5\\DTR-M5-20230404_pre-DTX  already exists!\n",
      "Loading  C:\\Users\\GPU\\Documents\\DeepLabCut\\temp_kenzie\\CoM\\DTR\\DTR-M5\\DTR-M5-20230404_pre-DTX\\CoM DTR M5 ts3_000008.avi\n",
      "Duration of video [s]:  5.46 , recorded with  500.0 fps!\n",
      "Overall # of frames:  2729  found with (before cropping) frame dimensions:  1280 850\n",
      "Starting to extract posture\n"
     ]
    },
    {
     "name": "stderr",
     "output_type": "stream",
     "text": [
      "2754it [02:06, 21.83it/s]                                                                                                          \n"
     ]
    },
    {
     "name": "stdout",
     "output_type": "stream",
     "text": [
      "Saving results in C:\\Users\\GPU\\Documents\\DeepLabCut\\temp_kenzie\\CoM\\DTR\\DTR-M5\\DTR-M5-20230404_pre-DTX...\n",
      "Saving csv poses!\n",
      "Starting to analyze %  C:\\Users\\GPU\\Documents\\DeepLabCut\\temp_kenzie\\CoM\\DTR\\DTR-M5\\DTR-M5-20230404_pre-DTX\\CoM DTR M5 ts3_000009.avi\n",
      "C:\\Users\\GPU\\Documents\\DeepLabCut\\temp_kenzie\\CoM\\DTR\\DTR-M5\\DTR-M5-20230404_pre-DTX  already exists!\n",
      "Loading  C:\\Users\\GPU\\Documents\\DeepLabCut\\temp_kenzie\\CoM\\DTR\\DTR-M5\\DTR-M5-20230404_pre-DTX\\CoM DTR M5 ts3_000009.avi\n",
      "Duration of video [s]:  3.48 , recorded with  500.0 fps!\n",
      "Overall # of frames:  1742  found with (before cropping) frame dimensions:  1280 850\n",
      "Starting to extract posture\n"
     ]
    },
    {
     "name": "stderr",
     "output_type": "stream",
     "text": [
      "1751it [01:21, 21.57it/s]                                                                                                          \n"
     ]
    },
    {
     "name": "stdout",
     "output_type": "stream",
     "text": [
      "Saving results in C:\\Users\\GPU\\Documents\\DeepLabCut\\temp_kenzie\\CoM\\DTR\\DTR-M5\\DTR-M5-20230404_pre-DTX...\n",
      "Saving csv poses!\n",
      "Starting to analyze %  C:\\Users\\GPU\\Documents\\DeepLabCut\\temp_kenzie\\CoM\\DTR\\DTR-M5\\DTR-M5-20230404_pre-DTX\\CoM DTR M5 ts3_000010.avi\n",
      "C:\\Users\\GPU\\Documents\\DeepLabCut\\temp_kenzie\\CoM\\DTR\\DTR-M5\\DTR-M5-20230404_pre-DTX  already exists!\n",
      "Loading  C:\\Users\\GPU\\Documents\\DeepLabCut\\temp_kenzie\\CoM\\DTR\\DTR-M5\\DTR-M5-20230404_pre-DTX\\CoM DTR M5 ts3_000010.avi\n",
      "Duration of video [s]:  7.81 , recorded with  500.0 fps!\n",
      "Overall # of frames:  3904  found with (before cropping) frame dimensions:  1280 850\n",
      "Starting to extract posture\n"
     ]
    },
    {
     "name": "stderr",
     "output_type": "stream",
     "text": [
      "3939it [03:01, 21.68it/s]                                                                                                          \n"
     ]
    },
    {
     "name": "stdout",
     "output_type": "stream",
     "text": [
      "Saving results in C:\\Users\\GPU\\Documents\\DeepLabCut\\temp_kenzie\\CoM\\DTR\\DTR-M5\\DTR-M5-20230404_pre-DTX...\n",
      "Saving csv poses!\n",
      "Starting to analyze %  C:\\Users\\GPU\\Documents\\DeepLabCut\\temp_kenzie\\CoM\\DTR\\DTR-M5\\DTR-M5-20230404_pre-DTX\\CoM DTR M5 ts3_000011.avi\n",
      "C:\\Users\\GPU\\Documents\\DeepLabCut\\temp_kenzie\\CoM\\DTR\\DTR-M5\\DTR-M5-20230404_pre-DTX  already exists!\n",
      "Loading  C:\\Users\\GPU\\Documents\\DeepLabCut\\temp_kenzie\\CoM\\DTR\\DTR-M5\\DTR-M5-20230404_pre-DTX\\CoM DTR M5 ts3_000011.avi\n",
      "Duration of video [s]:  7.81 , recorded with  500.0 fps!\n",
      "Overall # of frames:  3904  found with (before cropping) frame dimensions:  1280 850\n",
      "Starting to extract posture\n"
     ]
    },
    {
     "name": "stderr",
     "output_type": "stream",
     "text": [
      "3939it [03:00, 21.87it/s]                                                                                                          \n"
     ]
    },
    {
     "name": "stdout",
     "output_type": "stream",
     "text": [
      "Saving results in C:\\Users\\GPU\\Documents\\DeepLabCut\\temp_kenzie\\CoM\\DTR\\DTR-M5\\DTR-M5-20230404_pre-DTX...\n",
      "Saving csv poses!\n",
      "Starting to analyze %  C:\\Users\\GPU\\Documents\\DeepLabCut\\temp_kenzie\\CoM\\DTR\\DTR-M5\\DTR-M5-20230404_pre-DTX\\CoM DTR M5 ts3_000012.avi\n",
      "C:\\Users\\GPU\\Documents\\DeepLabCut\\temp_kenzie\\CoM\\DTR\\DTR-M5\\DTR-M5-20230404_pre-DTX  already exists!\n",
      "Loading  C:\\Users\\GPU\\Documents\\DeepLabCut\\temp_kenzie\\CoM\\DTR\\DTR-M5\\DTR-M5-20230404_pre-DTX\\CoM DTR M5 ts3_000012.avi\n",
      "Duration of video [s]:  7.81 , recorded with  500.0 fps!\n",
      "Overall # of frames:  3904  found with (before cropping) frame dimensions:  1280 850\n",
      "Starting to extract posture\n"
     ]
    },
    {
     "name": "stderr",
     "output_type": "stream",
     "text": [
      "3939it [03:02, 21.63it/s]                                                                                                          \n"
     ]
    },
    {
     "name": "stdout",
     "output_type": "stream",
     "text": [
      "Saving results in C:\\Users\\GPU\\Documents\\DeepLabCut\\temp_kenzie\\CoM\\DTR\\DTR-M5\\DTR-M5-20230404_pre-DTX...\n",
      "Saving csv poses!\n",
      "Starting to analyze %  C:\\Users\\GPU\\Documents\\DeepLabCut\\temp_kenzie\\CoM\\DTR\\DTR-M5\\DTR-M5-20230404_pre-DTX\\CoM DTR M5 ts3_000013.avi\n",
      "C:\\Users\\GPU\\Documents\\DeepLabCut\\temp_kenzie\\CoM\\DTR\\DTR-M5\\DTR-M5-20230404_pre-DTX  already exists!\n",
      "Loading  C:\\Users\\GPU\\Documents\\DeepLabCut\\temp_kenzie\\CoM\\DTR\\DTR-M5\\DTR-M5-20230404_pre-DTX\\CoM DTR M5 ts3_000013.avi\n",
      "Duration of video [s]:  7.81 , recorded with  500.0 fps!\n",
      "Overall # of frames:  3904  found with (before cropping) frame dimensions:  1280 850\n",
      "Starting to extract posture\n"
     ]
    },
    {
     "name": "stderr",
     "output_type": "stream",
     "text": [
      "3939it [03:01, 21.74it/s]                                                                                                          \n"
     ]
    },
    {
     "name": "stdout",
     "output_type": "stream",
     "text": [
      "Saving results in C:\\Users\\GPU\\Documents\\DeepLabCut\\temp_kenzie\\CoM\\DTR\\DTR-M5\\DTR-M5-20230404_pre-DTX...\n",
      "Saving csv poses!\n",
      "Starting to analyze %  C:\\Users\\GPU\\Documents\\DeepLabCut\\temp_kenzie\\CoM\\DTR\\DTR-M5\\DTR-M5-20230404_pre-DTX\\CoM DTR M5 ts3_000014.avi\n",
      "C:\\Users\\GPU\\Documents\\DeepLabCut\\temp_kenzie\\CoM\\DTR\\DTR-M5\\DTR-M5-20230404_pre-DTX  already exists!\n",
      "Loading  C:\\Users\\GPU\\Documents\\DeepLabCut\\temp_kenzie\\CoM\\DTR\\DTR-M5\\DTR-M5-20230404_pre-DTX\\CoM DTR M5 ts3_000014.avi\n",
      "Duration of video [s]:  7.81 , recorded with  500.0 fps!\n",
      "Overall # of frames:  3904  found with (before cropping) frame dimensions:  1280 850\n",
      "Starting to extract posture\n"
     ]
    },
    {
     "name": "stderr",
     "output_type": "stream",
     "text": [
      "3939it [03:02, 21.54it/s]                                                                                                          \n"
     ]
    },
    {
     "name": "stdout",
     "output_type": "stream",
     "text": [
      "Saving results in C:\\Users\\GPU\\Documents\\DeepLabCut\\temp_kenzie\\CoM\\DTR\\DTR-M5\\DTR-M5-20230404_pre-DTX...\n",
      "Saving csv poses!\n",
      "Starting to analyze %  C:\\Users\\GPU\\Documents\\DeepLabCut\\temp_kenzie\\CoM\\DTR\\DTR-M5\\DTR-M5-20230404_pre-DTX\\CoM DTR M5 ts3_000015.avi\n",
      "C:\\Users\\GPU\\Documents\\DeepLabCut\\temp_kenzie\\CoM\\DTR\\DTR-M5\\DTR-M5-20230404_pre-DTX  already exists!\n",
      "Loading  C:\\Users\\GPU\\Documents\\DeepLabCut\\temp_kenzie\\CoM\\DTR\\DTR-M5\\DTR-M5-20230404_pre-DTX\\CoM DTR M5 ts3_000015.avi\n",
      "Duration of video [s]:  7.81 , recorded with  500.0 fps!\n",
      "Overall # of frames:  3904  found with (before cropping) frame dimensions:  1280 850\n",
      "Starting to extract posture\n"
     ]
    },
    {
     "name": "stderr",
     "output_type": "stream",
     "text": [
      "3939it [03:01, 21.70it/s]                                                                                                          \n"
     ]
    },
    {
     "name": "stdout",
     "output_type": "stream",
     "text": [
      "Saving results in C:\\Users\\GPU\\Documents\\DeepLabCut\\temp_kenzie\\CoM\\DTR\\DTR-M5\\DTR-M5-20230404_pre-DTX...\n",
      "Saving csv poses!\n",
      "Starting to analyze %  C:\\Users\\GPU\\Documents\\DeepLabCut\\temp_kenzie\\CoM\\DTR\\DTR-M5\\DTR-M5-20230404_pre-DTX\\CoM DTR M5 ts3_000016.avi\n",
      "C:\\Users\\GPU\\Documents\\DeepLabCut\\temp_kenzie\\CoM\\DTR\\DTR-M5\\DTR-M5-20230404_pre-DTX  already exists!\n",
      "Loading  C:\\Users\\GPU\\Documents\\DeepLabCut\\temp_kenzie\\CoM\\DTR\\DTR-M5\\DTR-M5-20230404_pre-DTX\\CoM DTR M5 ts3_000016.avi\n",
      "Duration of video [s]:  7.81 , recorded with  500.0 fps!\n",
      "Overall # of frames:  3904  found with (before cropping) frame dimensions:  1280 850\n",
      "Starting to extract posture\n"
     ]
    },
    {
     "name": "stderr",
     "output_type": "stream",
     "text": [
      "3939it [03:02, 21.54it/s]                                                                                                          \n"
     ]
    },
    {
     "name": "stdout",
     "output_type": "stream",
     "text": [
      "Saving results in C:\\Users\\GPU\\Documents\\DeepLabCut\\temp_kenzie\\CoM\\DTR\\DTR-M5\\DTR-M5-20230404_pre-DTX...\n",
      "Saving csv poses!\n",
      "Starting to analyze %  C:\\Users\\GPU\\Documents\\DeepLabCut\\temp_kenzie\\CoM\\DTR\\DTR-M5\\DTR-M5-20230404_pre-DTX\\CoM DTR M5 ts3_000017.avi\n",
      "C:\\Users\\GPU\\Documents\\DeepLabCut\\temp_kenzie\\CoM\\DTR\\DTR-M5\\DTR-M5-20230404_pre-DTX  already exists!\n",
      "Loading  C:\\Users\\GPU\\Documents\\DeepLabCut\\temp_kenzie\\CoM\\DTR\\DTR-M5\\DTR-M5-20230404_pre-DTX\\CoM DTR M5 ts3_000017.avi\n",
      "Duration of video [s]:  7.81 , recorded with  500.0 fps!\n",
      "Overall # of frames:  3904  found with (before cropping) frame dimensions:  1280 850\n",
      "Starting to extract posture\n"
     ]
    },
    {
     "name": "stderr",
     "output_type": "stream",
     "text": [
      "3939it [03:02, 21.54it/s]                                                                                                          \n"
     ]
    },
    {
     "name": "stdout",
     "output_type": "stream",
     "text": [
      "Saving results in C:\\Users\\GPU\\Documents\\DeepLabCut\\temp_kenzie\\CoM\\DTR\\DTR-M5\\DTR-M5-20230404_pre-DTX...\n",
      "Saving csv poses!\n",
      "Starting to analyze %  C:\\Users\\GPU\\Documents\\DeepLabCut\\temp_kenzie\\CoM\\DTR\\DTR-M5\\DTR-M5-20230404_pre-DTX\\CoM DTR M5 ts3_000018.avi\n",
      "C:\\Users\\GPU\\Documents\\DeepLabCut\\temp_kenzie\\CoM\\DTR\\DTR-M5\\DTR-M5-20230404_pre-DTX  already exists!\n",
      "Loading  C:\\Users\\GPU\\Documents\\DeepLabCut\\temp_kenzie\\CoM\\DTR\\DTR-M5\\DTR-M5-20230404_pre-DTX\\CoM DTR M5 ts3_000018.avi\n",
      "Duration of video [s]:  6.35 , recorded with  500.0 fps!\n",
      "Overall # of frames:  3177  found with (before cropping) frame dimensions:  1280 850\n",
      "Starting to extract posture\n"
     ]
    },
    {
     "name": "stderr",
     "output_type": "stream",
     "text": [
      "3193it [02:28, 21.49it/s]                                                                                                          \n"
     ]
    },
    {
     "name": "stdout",
     "output_type": "stream",
     "text": [
      "Saving results in C:\\Users\\GPU\\Documents\\DeepLabCut\\temp_kenzie\\CoM\\DTR\\DTR-M5\\DTR-M5-20230404_pre-DTX...\n",
      "Saving csv poses!\n",
      "Starting to analyze %  C:\\Users\\GPU\\Documents\\DeepLabCut\\temp_kenzie\\CoM\\DTR\\DTR-M5\\DTR-M5-20230404_pre-DTX\\CoM DTR M5 ts3_000019.avi\n",
      "C:\\Users\\GPU\\Documents\\DeepLabCut\\temp_kenzie\\CoM\\DTR\\DTR-M5\\DTR-M5-20230404_pre-DTX  already exists!\n",
      "Loading  C:\\Users\\GPU\\Documents\\DeepLabCut\\temp_kenzie\\CoM\\DTR\\DTR-M5\\DTR-M5-20230404_pre-DTX\\CoM DTR M5 ts3_000019.avi\n",
      "Duration of video [s]:  7.81 , recorded with  500.0 fps!\n",
      "Overall # of frames:  3904  found with (before cropping) frame dimensions:  1280 850\n",
      "Starting to extract posture\n"
     ]
    },
    {
     "name": "stderr",
     "output_type": "stream",
     "text": [
      "3939it [03:01, 21.75it/s]                                                                                                          \n"
     ]
    },
    {
     "name": "stdout",
     "output_type": "stream",
     "text": [
      "Saving results in C:\\Users\\GPU\\Documents\\DeepLabCut\\temp_kenzie\\CoM\\DTR\\DTR-M5\\DTR-M5-20230404_pre-DTX...\n",
      "Saving csv poses!\n",
      "Starting to analyze %  C:\\Users\\GPU\\Documents\\DeepLabCut\\temp_kenzie\\CoM\\DTR\\DTR-M5\\DTR-M5-20230404_pre-DTX\\CoM DTR M5 ts3_000020.avi\n",
      "C:\\Users\\GPU\\Documents\\DeepLabCut\\temp_kenzie\\CoM\\DTR\\DTR-M5\\DTR-M5-20230404_pre-DTX  already exists!\n",
      "Loading  C:\\Users\\GPU\\Documents\\DeepLabCut\\temp_kenzie\\CoM\\DTR\\DTR-M5\\DTR-M5-20230404_pre-DTX\\CoM DTR M5 ts3_000020.avi\n",
      "Duration of video [s]:  7.81 , recorded with  500.0 fps!\n",
      "Overall # of frames:  3904  found with (before cropping) frame dimensions:  1280 850\n",
      "Starting to extract posture\n"
     ]
    },
    {
     "name": "stderr",
     "output_type": "stream",
     "text": [
      "3939it [03:01, 21.75it/s]                                                                                                          \n"
     ]
    },
    {
     "name": "stdout",
     "output_type": "stream",
     "text": [
      "Saving results in C:\\Users\\GPU\\Documents\\DeepLabCut\\temp_kenzie\\CoM\\DTR\\DTR-M5\\DTR-M5-20230404_pre-DTX...\n",
      "Saving csv poses!\n",
      "Starting to analyze %  C:\\Users\\GPU\\Documents\\DeepLabCut\\temp_kenzie\\CoM\\DTR\\DTR-M5\\DTR-M5-20230404_pre-DTX\\CoM DTR M5 ts3_000021.avi\n",
      "C:\\Users\\GPU\\Documents\\DeepLabCut\\temp_kenzie\\CoM\\DTR\\DTR-M5\\DTR-M5-20230404_pre-DTX  already exists!\n",
      "Loading  C:\\Users\\GPU\\Documents\\DeepLabCut\\temp_kenzie\\CoM\\DTR\\DTR-M5\\DTR-M5-20230404_pre-DTX\\CoM DTR M5 ts3_000021.avi\n",
      "Duration of video [s]:  7.81 , recorded with  500.0 fps!\n",
      "Overall # of frames:  3904  found with (before cropping) frame dimensions:  1280 850\n",
      "Starting to extract posture\n"
     ]
    },
    {
     "name": "stderr",
     "output_type": "stream",
     "text": [
      "3939it [03:01, 21.70it/s]                                                                                                          \n"
     ]
    },
    {
     "name": "stdout",
     "output_type": "stream",
     "text": [
      "Saving results in C:\\Users\\GPU\\Documents\\DeepLabCut\\temp_kenzie\\CoM\\DTR\\DTR-M5\\DTR-M5-20230404_pre-DTX...\n",
      "Saving csv poses!\n",
      "The videos are analyzed. Now your research can truly start! \n",
      " You can create labeled videos with 'create_labeled_video'\n",
      "If the tracking is not satisfactory for some videos, consider expanding the training set. You can use the function 'extract_outlier_frames' to extract a few representative outlier frames.\n"
     ]
    }
   ],
   "source": [
    "deeplabcut.launch_dlc()"
   ]
  },
  {
   "cell_type": "code",
   "execution_count": null,
   "metadata": {},
   "outputs": [],
   "source": [
    "deeplabcut.analyze_videos(COND)"
   ]
  }
 ],
 "metadata": {
  "kernelspec": {
   "display_name": "dlcm1",
   "language": "python",
   "name": "python3"
  },
  "language_info": {
   "codemirror_mode": {
    "name": "ipython",
    "version": 3
   },
   "file_extension": ".py",
   "mimetype": "text/x-python",
   "name": "python",
   "nbconvert_exporter": "python",
   "pygments_lexer": "ipython3",
   "version": "3.9.18"
  }
 },
 "nbformat": 4,
 "nbformat_minor": 4
}
