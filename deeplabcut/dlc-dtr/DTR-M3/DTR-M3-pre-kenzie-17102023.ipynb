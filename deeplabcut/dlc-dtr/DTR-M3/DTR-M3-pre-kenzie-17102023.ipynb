{
 "cells": [
  {
   "cell_type": "code",
   "execution_count": 1,
   "metadata": {},
   "outputs": [
    {
     "name": "stdout",
     "output_type": "stream",
     "text": [
      "Loading DLC 2.3.7...\n"
     ]
    },
    {
     "name": "stderr",
     "output_type": "stream",
     "text": [
      "/Users/kenzie_mackinnon/miniforge/envs/dlcm1/lib/python3.9/site-packages/tqdm/auto.py:21: TqdmWarning: IProgress not found. Please update jupyter and ipywidgets. See https://ipywidgets.readthedocs.io/en/stable/user_install.html\n",
      "  from .autonotebook import tqdm as notebook_tqdm\n"
     ]
    }
   ],
   "source": [
    "import deeplabcut"
   ]
  },
  {
   "cell_type": "code",
   "execution_count": 2,
   "metadata": {},
   "outputs": [],
   "source": [
    "config_path = '/Users/kenzie_mackinnon/sync/lab-analysis/deeplabcut/dlc-dtr/DTR-M3/DTR-M3-pre-kenzie-2023-10-17/config.yaml'"
   ]
  },
  {
   "cell_type": "code",
   "execution_count": null,
   "metadata": {},
   "outputs": [],
   "source": [
    "deeplabcut.label_frames(config_path)"
   ]
  },
  {
   "cell_type": "code",
   "execution_count": 3,
   "metadata": {},
   "outputs": [
    {
     "name": "stdout",
     "output_type": "stream",
     "text": [
      "Creating images with labels by kenzie.\n"
     ]
    },
    {
     "name": "stderr",
     "output_type": "stream",
     "text": [
      "100%|██████████████████████████████████████████████████████████████████████████████████████████████| 20/20 [00:03<00:00,  5.03it/s]\n",
      "100%|██████████████████████████████████████████████████████████████████████████████████████████████| 20/20 [00:04<00:00,  4.80it/s]\n",
      "100%|██████████████████████████████████████████████████████████████████████████████████████████████| 20/20 [00:04<00:00,  4.80it/s]\n",
      "100%|██████████████████████████████████████████████████████████████████████████████████████████████| 20/20 [00:04<00:00,  4.45it/s]\n",
      "100%|██████████████████████████████████████████████████████████████████████████████████████████████| 20/20 [00:04<00:00,  4.61it/s]\n",
      "100%|██████████████████████████████████████████████████████████████████████████████████████████████| 20/20 [00:04<00:00,  4.48it/s]\n",
      "100%|██████████████████████████████████████████████████████████████████████████████████████████████| 20/20 [00:04<00:00,  4.60it/s]\n",
      "100%|██████████████████████████████████████████████████████████████████████████████████████████████| 20/20 [00:04<00:00,  4.64it/s]\n",
      "100%|██████████████████████████████████████████████████████████████████████████████████████████████| 20/20 [00:04<00:00,  4.55it/s]\n",
      "100%|██████████████████████████████████████████████████████████████████████████████████████████████| 20/20 [00:04<00:00,  4.78it/s]\n",
      "100%|██████████████████████████████████████████████████████████████████████████████████████████████| 20/20 [00:04<00:00,  4.76it/s]\n",
      "100%|██████████████████████████████████████████████████████████████████████████████████████████████| 20/20 [00:04<00:00,  4.81it/s]\n"
     ]
    },
    {
     "name": "stdout",
     "output_type": "stream",
     "text": [
      "If all the labels are ok, then use the function 'create_training_dataset' to create the training dataset!\n"
     ]
    }
   ],
   "source": [
    "deeplabcut.check_labels(config_path, visualizeindividuals=False)"
   ]
  },
  {
   "cell_type": "code",
   "execution_count": 4,
   "metadata": {},
   "outputs": [
    {
     "name": "stdout",
     "output_type": "stream",
     "text": [
      "C:\\Users\\GPU\\Documents\\DeepLabCut\\temp_kenzie\\CoM\\DTR-pre-kenzie-2023-07-21\\training-datasets\\iteration-0\\UnaugmentedDataSet_DTR-preJul21  already exists!\n",
      "C:\\Users\\GPU\\Documents\\DeepLabCut\\temp_kenzie\\CoM\\DTR-pre-kenzie-2023-07-21\\dlc-models\\iteration-0\\DTR-preJul21-trainset95shuffle1  already exists!\n",
      "C:\\Users\\GPU\\Documents\\DeepLabCut\\temp_kenzie\\CoM\\DTR-pre-kenzie-2023-07-21\\dlc-models\\iteration-0\\DTR-preJul21-trainset95shuffle1/train  already exists!\n",
      "C:\\Users\\GPU\\Documents\\DeepLabCut\\temp_kenzie\\CoM\\DTR-pre-kenzie-2023-07-21\\dlc-models\\iteration-0\\DTR-preJul21-trainset95shuffle1/test  already exists!\n",
      "The training dataset is successfully created. Use the function 'train_network' to start training. Happy training!\n"
     ]
    },
    {
     "data": {
      "text/plain": [
       "[(0.95,\n",
       "  1,\n",
       "  (array([160,  71,  90, 132,  61, 179, 118,  77, 206,  66,  91,   4, 202,\n",
       "            9,  82,  85, 196, 141,   0, 185, 228, 173, 169,   5, 184,  81,\n",
       "           96, 210, 114, 133, 152,  11, 174, 239, 163,   6, 135, 158,  12,\n",
       "          143, 183, 188,  63,  46,  13,  51, 207,  27,  99, 108,  65, 111,\n",
       "          119, 116,  36,  67, 151, 145, 218, 234, 148,  75, 130,  47, 213,\n",
       "           60, 153, 112, 194, 222,  28, 127, 157, 217,  15,  89,   7, 199,\n",
       "          177,   2, 172, 195, 121, 144,  45, 205, 181, 178, 142,  48,  97,\n",
       "           87,  41, 170, 180, 122, 232,  79,  42,  29, 105,   1, 171,  30,\n",
       "          149,  58,  49, 140, 219,  53,  34, 120, 126, 208,  70,  50, 106,\n",
       "           55, 166, 233,  98, 227, 191, 117,  68, 203, 124,  37, 209, 150,\n",
       "           52, 165,  59,   8,  72, 197,  88,  17, 146, 189, 102, 156, 226,\n",
       "           80,  26, 230, 238, 224, 175, 159, 129, 104, 162, 161, 164,  21,\n",
       "           16, 115,  62, 182, 198, 125, 110, 101, 220,  74, 155,  25,  69,\n",
       "           39,  93, 167, 237, 176, 128, 214, 103, 201, 216,  22,  95, 215,\n",
       "          113, 107,  57,  35,  64, 138,  18, 204,  38, 223, 109, 123, 192,\n",
       "           76, 211,  54,  40, 131,  19, 193,  43, 147, 154,  44, 200,  23,\n",
       "          231,  92, 212, 168, 229,  14,  32,  78,  24,  86,  94, 187,  20,\n",
       "          235,  31,  56, 225, 100,  33,  83]),\n",
       "   array([  3, 236, 139, 190, 221,  84, 186, 136, 137,  10, 134,  73])))]"
      ]
     },
     "execution_count": 4,
     "metadata": {},
     "output_type": "execute_result"
    }
   ],
   "source": [
    "deeplabcut.create_training_dataset(config_path, augmenter_type='imgaug')"
   ]
  },
  {
   "cell_type": "code",
   "execution_count": 4,
   "metadata": {},
   "outputs": [
    {
     "name": "stdout",
     "output_type": "stream",
     "text": [
      "\u001b[0;31mSignature:\u001b[0m\n",
      "\u001b[0mdeeplabcut\u001b[0m\u001b[0;34m.\u001b[0m\u001b[0mcreate_training_model_comparison\u001b[0m\u001b[0;34m(\u001b[0m\u001b[0;34m\u001b[0m\n",
      "\u001b[0;34m\u001b[0m    \u001b[0mconfig\u001b[0m\u001b[0;34m,\u001b[0m\u001b[0;34m\u001b[0m\n",
      "\u001b[0;34m\u001b[0m    \u001b[0mtrainindex\u001b[0m\u001b[0;34m=\u001b[0m\u001b[0;36m0\u001b[0m\u001b[0;34m,\u001b[0m\u001b[0;34m\u001b[0m\n",
      "\u001b[0;34m\u001b[0m    \u001b[0mnum_shuffles\u001b[0m\u001b[0;34m=\u001b[0m\u001b[0;36m1\u001b[0m\u001b[0;34m,\u001b[0m\u001b[0;34m\u001b[0m\n",
      "\u001b[0;34m\u001b[0m    \u001b[0mnet_types\u001b[0m\u001b[0;34m=\u001b[0m\u001b[0;34m[\u001b[0m\u001b[0;34m'resnet_50'\u001b[0m\u001b[0;34m]\u001b[0m\u001b[0;34m,\u001b[0m\u001b[0;34m\u001b[0m\n",
      "\u001b[0;34m\u001b[0m    \u001b[0maugmenter_types\u001b[0m\u001b[0;34m=\u001b[0m\u001b[0;34m[\u001b[0m\u001b[0;34m'imgaug'\u001b[0m\u001b[0;34m]\u001b[0m\u001b[0;34m,\u001b[0m\u001b[0;34m\u001b[0m\n",
      "\u001b[0;34m\u001b[0m    \u001b[0muserfeedback\u001b[0m\u001b[0;34m=\u001b[0m\u001b[0;32mFalse\u001b[0m\u001b[0;34m,\u001b[0m\u001b[0;34m\u001b[0m\n",
      "\u001b[0;34m\u001b[0m    \u001b[0mwindows2linux\u001b[0m\u001b[0;34m=\u001b[0m\u001b[0;32mFalse\u001b[0m\u001b[0;34m,\u001b[0m\u001b[0;34m\u001b[0m\n",
      "\u001b[0;34m\u001b[0m\u001b[0;34m)\u001b[0m\u001b[0;34m\u001b[0m\u001b[0;34m\u001b[0m\u001b[0m\n",
      "\u001b[0;31mDocstring:\u001b[0m\n",
      "Creates a training dataset to compare networks and augmentation types.\n",
      "\n",
      "The datasets are created such that the shuffles have same training and testing\n",
      "indices. Therefore, this function is useful for benchmarking the performance of\n",
      "different network and augmentation types on the same training/testdata.\n",
      "\n",
      "Parameters\n",
      "----------\n",
      "config: str\n",
      "    Full path of the config.yaml file.\n",
      "\n",
      "trainindex: int, optional, default=0\n",
      "    Either (in case uniform = True) indexes which element of TrainingFraction in\n",
      "    the config file should be used (note it is a list!).\n",
      "    Alternatively (uniform = False) indexes which folder is dropped, i.e. the first\n",
      "    if trainindex=0, the second if trainindex=1, etc.\n",
      "\n",
      "num_shuffles : int, optional, default=1\n",
      "    Number of shuffles of training dataset to create,\n",
      "    i.e. [1,2,3] for num_shuffles=3.\n",
      "\n",
      "net_types: list[str], optional, default=[\"resnet_50\"]\n",
      "    Currently supported networks are\n",
      "\n",
      "    * ``\"resnet_50\"``\n",
      "    * ``\"resnet_101\"``\n",
      "    * ``\"resnet_152\"``\n",
      "    * ``\"mobilenet_v2_1.0\"``\n",
      "    * ``\"mobilenet_v2_0.75\"``\n",
      "    * ``\"mobilenet_v2_0.5\"``\n",
      "    * ``\"mobilenet_v2_0.35\"``\n",
      "    * ``\"efficientnet-b0\"``\n",
      "    * ``\"efficientnet-b1\"``\n",
      "    * ``\"efficientnet-b2\"``\n",
      "    * ``\"efficientnet-b3\"``\n",
      "    * ``\"efficientnet-b4\"``\n",
      "    * ``\"efficientnet-b5\"``\n",
      "    * ``\"efficientnet-b6\"``\n",
      "\n",
      "augmenter_types: list[str], optional, default=[\"imgaug\"]\n",
      "    Currently supported augmenters are\n",
      "\n",
      "    * ``\"default\"``\n",
      "    * ``\"imgaug\"``\n",
      "    * ``\"tensorpack\"``\n",
      "    * ``\"deterministic\"``\n",
      "\n",
      "userfeedback: bool, optional, default=False\n",
      "    If ``False``, then all requested train/test splits are created, no matter if\n",
      "    they already exist. If you want to assure that previous splits etc. are not\n",
      "    overwritten, then set this to True and you will be asked for each split.\n",
      "\n",
      "windows2linux\n",
      "\n",
      "    ..deprecated::\n",
      "        Has no effect since 2.2.0.4 and will be removed in 2.2.1.\n",
      "\n",
      "Returns\n",
      "-------\n",
      "shuffle_list: list\n",
      "    List of indices corresponding to the trainingsplits/models that were created.\n",
      "\n",
      "Examples\n",
      "--------\n",
      "On Linux/MacOS\n",
      "\n",
      ">>> shuffle_list = deeplabcut.create_training_model_comparison(\n",
      "        '/analysis/project/reaching-task/config.yaml',\n",
      "        num_shuffles=1,\n",
      "        net_types=['resnet_50','resnet_152'],\n",
      "        augmenter_types=['tensorpack','deterministic'],\n",
      "    )\n",
      "\n",
      "On Windows\n",
      "\n",
      ">>> shuffle_list = deeplabcut.create_training_model_comparison(\n",
      "        'C:\\Users\\Ulf\\looming-task\\config.yaml',\n",
      "        num_shuffles=1,\n",
      "        net_types=['resnet_50','resnet_152'],\n",
      "        augmenter_types=['tensorpack','deterministic'],\n",
      "    )\n",
      "\n",
      "See ``examples/testscript_openfielddata_augmentationcomparison.py`` for an example\n",
      "of how to use ``shuffle_list``.\n",
      "\u001b[0;31mFile:\u001b[0m      ~/miniforge/envs/dlcm1/lib/python3.9/site-packages/deeplabcut/generate_training_dataset/trainingsetmanipulation.py\n",
      "\u001b[0;31mType:\u001b[0m      function"
     ]
    }
   ],
   "source": []
  },
  {
   "cell_type": "code",
   "execution_count": 7,
   "metadata": {},
   "outputs": [
    {
     "name": "stdout",
     "output_type": "stream",
     "text": [
      "Selecting single-animal trainer\n"
     ]
    },
    {
     "name": "stderr",
     "output_type": "stream",
     "text": [
      "Config:\n",
      "{'all_joints': [[0],\n",
      "                [1],\n",
      "                [2],\n",
      "                [3],\n",
      "                [4],\n",
      "                [5],\n",
      "                [6],\n",
      "                [7],\n",
      "                [8],\n",
      "                [9],\n",
      "                [10],\n",
      "                [11],\n",
      "                [12],\n",
      "                [13],\n",
      "                [14],\n",
      "                [15],\n",
      "                [16],\n",
      "                [17],\n",
      "                [18]],\n",
      " 'all_joints_names': ['calib_1',\n",
      "                      'calib_2',\n",
      "                      'calib_3',\n",
      "                      'calib_4',\n",
      "                      'calib_5',\n",
      "                      'calib_6',\n",
      "                      'iliac_crest',\n",
      "                      'hip',\n",
      "                      'knee',\n",
      "                      'ankle',\n",
      "                      'metatarsal',\n",
      "                      'toe',\n",
      "                      'fl_toe',\n",
      "                      'mirror_lhl',\n",
      "                      'mirror_rhl',\n",
      "                      'mirror_lfl',\n",
      "                      'mirror_rfl',\n",
      "                      'mirror_com',\n",
      "                      'mirror'],\n",
      " 'alpha_r': 0.02,\n",
      " 'batch_size': 1,\n",
      " 'crop_pad': 0,\n",
      " 'cropratio': 0.4,\n",
      " 'dataset': 'training-datasets\\\\iteration-0\\\\UnaugmentedDataSet_DTR-preJul21\\\\DTR-pre_kenzie95shuffle1.mat',\n",
      " 'dataset_type': 'imgaug',\n",
      " 'decay_steps': 30000,\n",
      " 'deterministic': False,\n",
      " 'display_iters': 1000,\n",
      " 'fg_fraction': 0.25,\n",
      " 'global_scale': 0.8,\n",
      " 'init_weights': 'C:\\\\ProgramData\\\\Anaconda3\\\\envs\\\\dlc-windowsGPU\\\\lib\\\\site-packages\\\\deeplabcut\\\\pose_estimation_tensorflow\\\\models\\\\pretrained\\\\resnet_v1_50.ckpt',\n",
      " 'intermediate_supervision': False,\n",
      " 'intermediate_supervision_layer': 12,\n",
      " 'location_refinement': True,\n",
      " 'locref_huber_loss': True,\n",
      " 'locref_loss_weight': 0.05,\n",
      " 'locref_stdev': 7.2801,\n",
      " 'log_dir': 'log',\n",
      " 'lr_init': 0.0005,\n",
      " 'max_input_size': 1500,\n",
      " 'mean_pixel': [123.68, 116.779, 103.939],\n",
      " 'metadataset': 'training-datasets\\\\iteration-0\\\\UnaugmentedDataSet_DTR-preJul21\\\\Documentation_data-DTR-pre_95shuffle1.pickle',\n",
      " 'min_input_size': 64,\n",
      " 'mirror': False,\n",
      " 'multi_step': [[0.005, 10000],\n",
      "                [0.02, 430000],\n",
      "                [0.002, 730000],\n",
      "                [0.001, 1030000]],\n",
      " 'net_type': 'resnet_50',\n",
      " 'num_joints': 19,\n",
      " 'optimizer': 'sgd',\n",
      " 'pairwise_huber_loss': False,\n",
      " 'pairwise_predict': False,\n",
      " 'partaffinityfield_predict': False,\n",
      " 'pos_dist_thresh': 17,\n",
      " 'project_path': 'C:\\\\Users\\\\GPU\\\\Documents\\\\DeepLabCut\\\\temp_kenzie\\\\CoM\\\\DTR-pre-kenzie-2023-07-21',\n",
      " 'regularize': False,\n",
      " 'rotation': 25,\n",
      " 'rotratio': 0.4,\n",
      " 'save_iters': 50000,\n",
      " 'scale_jitter_lo': 0.5,\n",
      " 'scale_jitter_up': 1.25,\n",
      " 'scoremap_dir': 'test',\n",
      " 'shuffle': True,\n",
      " 'snapshot_prefix': 'C:\\\\Users\\\\GPU\\\\Documents\\\\DeepLabCut\\\\temp_kenzie\\\\CoM\\\\DTR-pre-kenzie-2023-07-21\\\\dlc-models\\\\iteration-0\\\\DTR-preJul21-trainset95shuffle1\\\\train\\\\snapshot',\n",
      " 'stride': 8.0,\n",
      " 'weigh_negatives': False,\n",
      " 'weigh_only_present_joints': False,\n",
      " 'weigh_part_predictions': False,\n",
      " 'weight_decay': 0.0001}\n"
     ]
    },
    {
     "name": "stdout",
     "output_type": "stream",
     "text": [
      "Starting with imgaug pose-dataset loader (=default).\n",
      "Batch Size is 1\n",
      "Initializing ResNet\n",
      "Loading ImageNet-pretrained resnet_50\n",
      "Max_iters overwritten as 1030000\n",
      "Display_iters overwritten as 1000\n",
      "Save_iters overwritten as 50000\n",
      "Training parameter:\n",
      "{'stride': 8.0, 'weigh_part_predictions': False, 'weigh_negatives': False, 'fg_fraction': 0.25, 'mean_pixel': [123.68, 116.779, 103.939], 'shuffle': True, 'snapshot_prefix': 'C:\\\\Users\\\\GPU\\\\Documents\\\\DeepLabCut\\\\temp_kenzie\\\\CoM\\\\DTR-pre-kenzie-2023-07-21\\\\dlc-models\\\\iteration-0\\\\DTR-preJul21-trainset95shuffle1\\\\train\\\\snapshot', 'log_dir': 'log', 'global_scale': 0.8, 'location_refinement': True, 'locref_stdev': 7.2801, 'locref_loss_weight': 0.05, 'locref_huber_loss': True, 'optimizer': 'sgd', 'intermediate_supervision': False, 'intermediate_supervision_layer': 12, 'regularize': False, 'weight_decay': 0.0001, 'crop_pad': 0, 'scoremap_dir': 'test', 'batch_size': 1, 'dataset_type': 'imgaug', 'deterministic': False, 'mirror': False, 'pairwise_huber_loss': False, 'weigh_only_present_joints': False, 'partaffinityfield_predict': False, 'pairwise_predict': False, 'all_joints': [[0], [1], [2], [3], [4], [5], [6], [7], [8], [9], [10], [11], [12], [13], [14], [15], [16], [17], [18]], 'all_joints_names': ['calib_1', 'calib_2', 'calib_3', 'calib_4', 'calib_5', 'calib_6', 'iliac_crest', 'hip', 'knee', 'ankle', 'metatarsal', 'toe', 'fl_toe', 'mirror_lhl', 'mirror_rhl', 'mirror_lfl', 'mirror_rfl', 'mirror_com', 'mirror'], 'alpha_r': 0.02, 'cropratio': 0.4, 'dataset': 'training-datasets\\\\iteration-0\\\\UnaugmentedDataSet_DTR-preJul21\\\\DTR-pre_kenzie95shuffle1.mat', 'decay_steps': 30000, 'display_iters': 1000, 'init_weights': 'C:\\\\ProgramData\\\\Anaconda3\\\\envs\\\\dlc-windowsGPU\\\\lib\\\\site-packages\\\\deeplabcut\\\\pose_estimation_tensorflow\\\\models\\\\pretrained\\\\resnet_v1_50.ckpt', 'lr_init': 0.0005, 'max_input_size': 1500, 'metadataset': 'training-datasets\\\\iteration-0\\\\UnaugmentedDataSet_DTR-preJul21\\\\Documentation_data-DTR-pre_95shuffle1.pickle', 'min_input_size': 64, 'multi_step': [[0.005, 10000], [0.02, 430000], [0.002, 730000], [0.001, 1030000]], 'net_type': 'resnet_50', 'num_joints': 19, 'pos_dist_thresh': 17, 'project_path': 'C:\\\\Users\\\\GPU\\\\Documents\\\\DeepLabCut\\\\temp_kenzie\\\\CoM\\\\DTR-pre-kenzie-2023-07-21', 'rotation': 25, 'rotratio': 0.4, 'save_iters': 50000, 'scale_jitter_lo': 0.5, 'scale_jitter_up': 1.25, 'covering': True, 'elastic_transform': True, 'motion_blur': True, 'motion_blur_params': {'k': 7, 'angle': (-90, 90)}}\n",
      "Starting training....\n"
     ]
    },
    {
     "name": "stderr",
     "output_type": "stream",
     "text": [
      "iteration: 1000 loss: 0.0263 lr: 0.005\n",
      "iteration: 2000 loss: 0.0128 lr: 0.005\n",
      "iteration: 3000 loss: 0.0109 lr: 0.005\n",
      "iteration: 4000 loss: 0.0098 lr: 0.005\n",
      "iteration: 5000 loss: 0.0089 lr: 0.005\n",
      "iteration: 6000 loss: 0.0083 lr: 0.005\n",
      "iteration: 7000 loss: 0.0078 lr: 0.005\n",
      "iteration: 8000 loss: 0.0074 lr: 0.005\n",
      "iteration: 9000 loss: 0.0071 lr: 0.005\n",
      "iteration: 10000 loss: 0.0069 lr: 0.005\n",
      "iteration: 11000 loss: 0.0077 lr: 0.02\n",
      "iteration: 12000 loss: 0.0068 lr: 0.02\n",
      "iteration: 13000 loss: 0.0064 lr: 0.02\n",
      "iteration: 14000 loss: 0.0058 lr: 0.02\n",
      "iteration: 15000 loss: 0.0054 lr: 0.02\n",
      "iteration: 16000 loss: 0.0052 lr: 0.02\n",
      "iteration: 17000 loss: 0.0048 lr: 0.02\n",
      "iteration: 18000 loss: 0.0046 lr: 0.02\n",
      "iteration: 19000 loss: 0.0043 lr: 0.02\n",
      "iteration: 20000 loss: 0.0043 lr: 0.02\n",
      "iteration: 21000 loss: 0.0041 lr: 0.02\n",
      "iteration: 22000 loss: 0.0040 lr: 0.02\n",
      "iteration: 23000 loss: 0.0038 lr: 0.02\n",
      "iteration: 24000 loss: 0.0038 lr: 0.02\n",
      "iteration: 25000 loss: 0.0037 lr: 0.02\n",
      "iteration: 26000 loss: 0.0035 lr: 0.02\n",
      "iteration: 27000 loss: 0.0035 lr: 0.02\n",
      "iteration: 28000 loss: 0.0035 lr: 0.02\n",
      "iteration: 29000 loss: 0.0033 lr: 0.02\n",
      "iteration: 30000 loss: 0.0033 lr: 0.02\n",
      "iteration: 31000 loss: 0.0032 lr: 0.02\n",
      "iteration: 32000 loss: 0.0031 lr: 0.02\n",
      "iteration: 33000 loss: 0.0030 lr: 0.02\n",
      "iteration: 34000 loss: 0.0030 lr: 0.02\n",
      "iteration: 35000 loss: 0.0030 lr: 0.02\n",
      "iteration: 36000 loss: 0.0029 lr: 0.02\n",
      "iteration: 37000 loss: 0.0029 lr: 0.02\n",
      "iteration: 38000 loss: 0.0028 lr: 0.02\n",
      "iteration: 39000 loss: 0.0029 lr: 0.02\n",
      "iteration: 40000 loss: 0.0027 lr: 0.02\n",
      "iteration: 41000 loss: 0.0027 lr: 0.02\n",
      "iteration: 42000 loss: 0.0026 lr: 0.02\n",
      "iteration: 43000 loss: 0.0026 lr: 0.02\n",
      "iteration: 44000 loss: 0.0025 lr: 0.02\n",
      "iteration: 45000 loss: 0.0025 lr: 0.02\n",
      "iteration: 46000 loss: 0.0025 lr: 0.02\n",
      "iteration: 47000 loss: 0.0025 lr: 0.02\n",
      "iteration: 48000 loss: 0.0024 lr: 0.02\n",
      "iteration: 49000 loss: 0.0024 lr: 0.02\n",
      "iteration: 50000 loss: 0.0023 lr: 0.02\n",
      "iteration: 51000 loss: 0.0024 lr: 0.02\n",
      "iteration: 52000 loss: 0.0024 lr: 0.02\n",
      "iteration: 53000 loss: 0.0023 lr: 0.02\n",
      "iteration: 54000 loss: 0.0023 lr: 0.02\n",
      "iteration: 55000 loss: 0.0022 lr: 0.02\n",
      "iteration: 56000 loss: 0.0022 lr: 0.02\n",
      "iteration: 57000 loss: 0.0022 lr: 0.02\n",
      "iteration: 58000 loss: 0.0022 lr: 0.02\n",
      "iteration: 59000 loss: 0.0022 lr: 0.02\n",
      "iteration: 60000 loss: 0.0022 lr: 0.02\n",
      "iteration: 61000 loss: 0.0022 lr: 0.02\n",
      "iteration: 62000 loss: 0.0021 lr: 0.02\n",
      "iteration: 63000 loss: 0.0021 lr: 0.02\n",
      "iteration: 64000 loss: 0.0021 lr: 0.02\n",
      "iteration: 65000 loss: 0.0021 lr: 0.02\n",
      "iteration: 66000 loss: 0.0021 lr: 0.02\n",
      "iteration: 67000 loss: 0.0020 lr: 0.02\n",
      "iteration: 68000 loss: 0.0020 lr: 0.02\n",
      "iteration: 69000 loss: 0.0020 lr: 0.02\n",
      "iteration: 70000 loss: 0.0019 lr: 0.02\n",
      "iteration: 71000 loss: 0.0020 lr: 0.02\n",
      "iteration: 72000 loss: 0.0020 lr: 0.02\n",
      "iteration: 73000 loss: 0.0019 lr: 0.02\n",
      "iteration: 74000 loss: 0.0020 lr: 0.02\n",
      "iteration: 75000 loss: 0.0019 lr: 0.02\n",
      "iteration: 76000 loss: 0.0019 lr: 0.02\n",
      "iteration: 77000 loss: 0.0019 lr: 0.02\n",
      "iteration: 78000 loss: 0.0018 lr: 0.02\n",
      "iteration: 79000 loss: 0.0019 lr: 0.02\n",
      "iteration: 80000 loss: 0.0019 lr: 0.02\n",
      "iteration: 81000 loss: 0.0018 lr: 0.02\n",
      "iteration: 82000 loss: 0.0018 lr: 0.02\n",
      "iteration: 83000 loss: 0.0018 lr: 0.02\n",
      "iteration: 84000 loss: 0.0018 lr: 0.02\n",
      "iteration: 85000 loss: 0.0018 lr: 0.02\n",
      "iteration: 86000 loss: 0.0018 lr: 0.02\n",
      "iteration: 87000 loss: 0.0018 lr: 0.02\n",
      "iteration: 88000 loss: 0.0017 lr: 0.02\n",
      "iteration: 89000 loss: 0.0018 lr: 0.02\n",
      "iteration: 90000 loss: 0.0017 lr: 0.02\n",
      "iteration: 91000 loss: 0.0016 lr: 0.02\n",
      "iteration: 92000 loss: 0.0017 lr: 0.02\n",
      "iteration: 93000 loss: 0.0016 lr: 0.02\n",
      "iteration: 94000 loss: 0.0016 lr: 0.02\n",
      "iteration: 95000 loss: 0.0017 lr: 0.02\n",
      "iteration: 96000 loss: 0.0017 lr: 0.02\n",
      "iteration: 97000 loss: 0.0016 lr: 0.02\n",
      "iteration: 98000 loss: 0.0017 lr: 0.02\n",
      "iteration: 99000 loss: 0.0016 lr: 0.02\n",
      "iteration: 100000 loss: 0.0017 lr: 0.02\n",
      "iteration: 101000 loss: 0.0017 lr: 0.02\n",
      "iteration: 102000 loss: 0.0016 lr: 0.02\n",
      "iteration: 103000 loss: 0.0016 lr: 0.02\n",
      "iteration: 104000 loss: 0.0016 lr: 0.02\n",
      "iteration: 105000 loss: 0.0016 lr: 0.02\n",
      "iteration: 106000 loss: 0.0016 lr: 0.02\n",
      "iteration: 107000 loss: 0.0016 lr: 0.02\n",
      "iteration: 108000 loss: 0.0016 lr: 0.02\n",
      "iteration: 109000 loss: 0.0016 lr: 0.02\n",
      "iteration: 110000 loss: 0.0015 lr: 0.02\n",
      "iteration: 111000 loss: 0.0015 lr: 0.02\n",
      "iteration: 112000 loss: 0.0016 lr: 0.02\n",
      "iteration: 113000 loss: 0.0016 lr: 0.02\n",
      "iteration: 114000 loss: 0.0016 lr: 0.02\n",
      "iteration: 115000 loss: 0.0015 lr: 0.02\n",
      "iteration: 116000 loss: 0.0015 lr: 0.02\n",
      "iteration: 117000 loss: 0.0016 lr: 0.02\n",
      "iteration: 118000 loss: 0.0016 lr: 0.02\n",
      "iteration: 119000 loss: 0.0015 lr: 0.02\n",
      "iteration: 120000 loss: 0.0015 lr: 0.02\n",
      "iteration: 121000 loss: 0.0015 lr: 0.02\n",
      "iteration: 122000 loss: 0.0015 lr: 0.02\n",
      "iteration: 123000 loss: 0.0015 lr: 0.02\n",
      "iteration: 124000 loss: 0.0015 lr: 0.02\n",
      "iteration: 125000 loss: 0.0015 lr: 0.02\n",
      "iteration: 126000 loss: 0.0015 lr: 0.02\n",
      "iteration: 127000 loss: 0.0015 lr: 0.02\n",
      "iteration: 128000 loss: 0.0015 lr: 0.02\n",
      "iteration: 129000 loss: 0.0015 lr: 0.02\n",
      "iteration: 130000 loss: 0.0014 lr: 0.02\n",
      "iteration: 131000 loss: 0.0014 lr: 0.02\n",
      "iteration: 132000 loss: 0.0014 lr: 0.02\n",
      "iteration: 133000 loss: 0.0014 lr: 0.02\n",
      "iteration: 134000 loss: 0.0014 lr: 0.02\n",
      "iteration: 135000 loss: 0.0015 lr: 0.02\n",
      "iteration: 136000 loss: 0.0014 lr: 0.02\n",
      "iteration: 137000 loss: 0.0014 lr: 0.02\n",
      "iteration: 138000 loss: 0.0014 lr: 0.02\n",
      "iteration: 139000 loss: 0.0014 lr: 0.02\n",
      "iteration: 140000 loss: 0.0014 lr: 0.02\n",
      "iteration: 141000 loss: 0.0014 lr: 0.02\n",
      "iteration: 142000 loss: 0.0014 lr: 0.02\n",
      "iteration: 143000 loss: 0.0014 lr: 0.02\n",
      "iteration: 144000 loss: 0.0014 lr: 0.02\n",
      "iteration: 145000 loss: 0.0014 lr: 0.02\n",
      "iteration: 146000 loss: 0.0013 lr: 0.02\n",
      "iteration: 147000 loss: 0.0014 lr: 0.02\n",
      "iteration: 148000 loss: 0.0014 lr: 0.02\n",
      "iteration: 149000 loss: 0.0013 lr: 0.02\n",
      "iteration: 150000 loss: 0.0014 lr: 0.02\n",
      "iteration: 151000 loss: 0.0013 lr: 0.02\n",
      "iteration: 152000 loss: 0.0013 lr: 0.02\n",
      "iteration: 153000 loss: 0.0013 lr: 0.02\n",
      "iteration: 154000 loss: 0.0013 lr: 0.02\n",
      "iteration: 155000 loss: 0.0013 lr: 0.02\n",
      "iteration: 156000 loss: 0.0013 lr: 0.02\n",
      "iteration: 157000 loss: 0.0013 lr: 0.02\n",
      "iteration: 158000 loss: 0.0013 lr: 0.02\n",
      "iteration: 159000 loss: 0.0013 lr: 0.02\n",
      "iteration: 160000 loss: 0.0013 lr: 0.02\n",
      "iteration: 161000 loss: 0.0013 lr: 0.02\n",
      "iteration: 162000 loss: 0.0013 lr: 0.02\n",
      "iteration: 163000 loss: 0.0013 lr: 0.02\n",
      "iteration: 164000 loss: 0.0013 lr: 0.02\n",
      "iteration: 165000 loss: 0.0013 lr: 0.02\n",
      "iteration: 166000 loss: 0.0013 lr: 0.02\n",
      "iteration: 167000 loss: 0.0013 lr: 0.02\n",
      "iteration: 168000 loss: 0.0013 lr: 0.02\n",
      "iteration: 169000 loss: 0.0013 lr: 0.02\n",
      "iteration: 170000 loss: 0.0013 lr: 0.02\n",
      "iteration: 171000 loss: 0.0013 lr: 0.02\n",
      "iteration: 172000 loss: 0.0013 lr: 0.02\n",
      "iteration: 173000 loss: 0.0012 lr: 0.02\n",
      "iteration: 174000 loss: 0.0012 lr: 0.02\n",
      "iteration: 175000 loss: 0.0013 lr: 0.02\n",
      "iteration: 176000 loss: 0.0012 lr: 0.02\n",
      "iteration: 177000 loss: 0.0012 lr: 0.02\n",
      "iteration: 178000 loss: 0.0012 lr: 0.02\n",
      "iteration: 179000 loss: 0.0012 lr: 0.02\n",
      "iteration: 180000 loss: 0.0013 lr: 0.02\n",
      "iteration: 181000 loss: 0.0012 lr: 0.02\n",
      "iteration: 182000 loss: 0.0012 lr: 0.02\n",
      "iteration: 183000 loss: 0.0012 lr: 0.02\n",
      "iteration: 184000 loss: 0.0012 lr: 0.02\n",
      "iteration: 185000 loss: 0.0012 lr: 0.02\n",
      "iteration: 186000 loss: 0.0012 lr: 0.02\n",
      "iteration: 187000 loss: 0.0012 lr: 0.02\n",
      "iteration: 188000 loss: 0.0012 lr: 0.02\n",
      "iteration: 189000 loss: 0.0012 lr: 0.02\n",
      "iteration: 190000 loss: 0.0012 lr: 0.02\n",
      "iteration: 191000 loss: 0.0012 lr: 0.02\n",
      "iteration: 192000 loss: 0.0012 lr: 0.02\n",
      "iteration: 193000 loss: 0.0012 lr: 0.02\n",
      "iteration: 194000 loss: 0.0012 lr: 0.02\n",
      "iteration: 195000 loss: 0.0012 lr: 0.02\n",
      "iteration: 196000 loss: 0.0012 lr: 0.02\n",
      "iteration: 197000 loss: 0.0012 lr: 0.02\n",
      "iteration: 198000 loss: 0.0012 lr: 0.02\n",
      "iteration: 199000 loss: 0.0012 lr: 0.02\n",
      "iteration: 200000 loss: 0.0012 lr: 0.02\n",
      "iteration: 201000 loss: 0.0012 lr: 0.02\n",
      "iteration: 202000 loss: 0.0012 lr: 0.02\n",
      "iteration: 203000 loss: 0.0012 lr: 0.02\n",
      "iteration: 204000 loss: 0.0012 lr: 0.02\n",
      "iteration: 205000 loss: 0.0012 lr: 0.02\n",
      "iteration: 206000 loss: 0.0012 lr: 0.02\n",
      "iteration: 207000 loss: 0.0011 lr: 0.02\n",
      "iteration: 208000 loss: 0.0011 lr: 0.02\n",
      "iteration: 209000 loss: 0.0012 lr: 0.02\n",
      "iteration: 210000 loss: 0.0011 lr: 0.02\n",
      "iteration: 211000 loss: 0.0011 lr: 0.02\n",
      "iteration: 212000 loss: 0.0012 lr: 0.02\n",
      "iteration: 213000 loss: 0.0011 lr: 0.02\n",
      "iteration: 214000 loss: 0.0011 lr: 0.02\n",
      "iteration: 215000 loss: 0.0011 lr: 0.02\n",
      "iteration: 216000 loss: 0.0011 lr: 0.02\n",
      "iteration: 217000 loss: 0.0012 lr: 0.02\n",
      "iteration: 218000 loss: 0.0011 lr: 0.02\n",
      "iteration: 219000 loss: 0.0012 lr: 0.02\n",
      "iteration: 220000 loss: 0.0011 lr: 0.02\n",
      "iteration: 221000 loss: 0.0011 lr: 0.02\n",
      "iteration: 222000 loss: 0.0011 lr: 0.02\n",
      "iteration: 223000 loss: 0.0011 lr: 0.02\n",
      "iteration: 224000 loss: 0.0011 lr: 0.02\n",
      "iteration: 225000 loss: 0.0011 lr: 0.02\n",
      "iteration: 226000 loss: 0.0011 lr: 0.02\n",
      "iteration: 227000 loss: 0.0011 lr: 0.02\n",
      "iteration: 228000 loss: 0.0011 lr: 0.02\n",
      "iteration: 229000 loss: 0.0010 lr: 0.02\n",
      "iteration: 230000 loss: 0.0011 lr: 0.02\n",
      "iteration: 231000 loss: 0.0011 lr: 0.02\n",
      "iteration: 232000 loss: 0.0011 lr: 0.02\n",
      "iteration: 233000 loss: 0.0011 lr: 0.02\n",
      "iteration: 234000 loss: 0.0010 lr: 0.02\n",
      "iteration: 235000 loss: 0.0011 lr: 0.02\n",
      "iteration: 236000 loss: 0.0011 lr: 0.02\n",
      "iteration: 237000 loss: 0.0011 lr: 0.02\n",
      "iteration: 238000 loss: 0.0011 lr: 0.02\n",
      "iteration: 239000 loss: 0.0011 lr: 0.02\n",
      "iteration: 240000 loss: 0.0011 lr: 0.02\n",
      "iteration: 241000 loss: 0.0011 lr: 0.02\n",
      "iteration: 242000 loss: 0.0011 lr: 0.02\n",
      "iteration: 243000 loss: 0.0011 lr: 0.02\n",
      "iteration: 244000 loss: 0.0011 lr: 0.02\n",
      "iteration: 245000 loss: 0.0010 lr: 0.02\n",
      "iteration: 246000 loss: 0.0011 lr: 0.02\n",
      "iteration: 247000 loss: 0.0011 lr: 0.02\n",
      "iteration: 248000 loss: 0.0011 lr: 0.02\n",
      "iteration: 249000 loss: 0.0011 lr: 0.02\n",
      "iteration: 250000 loss: 0.0011 lr: 0.02\n",
      "iteration: 251000 loss: 0.0011 lr: 0.02\n",
      "iteration: 252000 loss: 0.0010 lr: 0.02\n",
      "iteration: 253000 loss: 0.0011 lr: 0.02\n",
      "iteration: 254000 loss: 0.0010 lr: 0.02\n",
      "iteration: 255000 loss: 0.0010 lr: 0.02\n",
      "iteration: 256000 loss: 0.0010 lr: 0.02\n",
      "iteration: 257000 loss: 0.0010 lr: 0.02\n",
      "iteration: 258000 loss: 0.0010 lr: 0.02\n",
      "iteration: 259000 loss: 0.0011 lr: 0.02\n",
      "iteration: 260000 loss: 0.0011 lr: 0.02\n",
      "iteration: 261000 loss: 0.0011 lr: 0.02\n",
      "iteration: 262000 loss: 0.0010 lr: 0.02\n",
      "iteration: 263000 loss: 0.0011 lr: 0.02\n",
      "iteration: 264000 loss: 0.0011 lr: 0.02\n",
      "iteration: 265000 loss: 0.0010 lr: 0.02\n",
      "iteration: 266000 loss: 0.0010 lr: 0.02\n",
      "iteration: 267000 loss: 0.0010 lr: 0.02\n",
      "iteration: 268000 loss: 0.0010 lr: 0.02\n",
      "iteration: 269000 loss: 0.0010 lr: 0.02\n",
      "iteration: 270000 loss: 0.0010 lr: 0.02\n",
      "iteration: 271000 loss: 0.0010 lr: 0.02\n",
      "iteration: 272000 loss: 0.0010 lr: 0.02\n",
      "iteration: 273000 loss: 0.0010 lr: 0.02\n",
      "iteration: 274000 loss: 0.0010 lr: 0.02\n",
      "iteration: 275000 loss: 0.0010 lr: 0.02\n",
      "iteration: 276000 loss: 0.0010 lr: 0.02\n",
      "iteration: 277000 loss: 0.0010 lr: 0.02\n",
      "iteration: 278000 loss: 0.0010 lr: 0.02\n",
      "iteration: 279000 loss: 0.0011 lr: 0.02\n",
      "iteration: 280000 loss: 0.0010 lr: 0.02\n",
      "iteration: 281000 loss: 0.0010 lr: 0.02\n",
      "iteration: 282000 loss: 0.0010 lr: 0.02\n",
      "iteration: 283000 loss: 0.0010 lr: 0.02\n",
      "iteration: 284000 loss: 0.0010 lr: 0.02\n",
      "iteration: 285000 loss: 0.0010 lr: 0.02\n",
      "iteration: 286000 loss: 0.0010 lr: 0.02\n",
      "iteration: 287000 loss: 0.0010 lr: 0.02\n",
      "iteration: 288000 loss: 0.0010 lr: 0.02\n",
      "iteration: 289000 loss: 0.0010 lr: 0.02\n",
      "iteration: 290000 loss: 0.0010 lr: 0.02\n",
      "iteration: 291000 loss: 0.0010 lr: 0.02\n",
      "iteration: 292000 loss: 0.0010 lr: 0.02\n",
      "iteration: 293000 loss: 0.0010 lr: 0.02\n",
      "iteration: 294000 loss: 0.0010 lr: 0.02\n",
      "iteration: 295000 loss: 0.0010 lr: 0.02\n",
      "iteration: 296000 loss: 0.0010 lr: 0.02\n",
      "iteration: 297000 loss: 0.0009 lr: 0.02\n",
      "iteration: 298000 loss: 0.0010 lr: 0.02\n",
      "iteration: 299000 loss: 0.0010 lr: 0.02\n",
      "iteration: 300000 loss: 0.0010 lr: 0.02\n",
      "iteration: 301000 loss: 0.0010 lr: 0.02\n",
      "iteration: 302000 loss: 0.0010 lr: 0.02\n",
      "iteration: 303000 loss: 0.0010 lr: 0.02\n",
      "iteration: 304000 loss: 0.0010 lr: 0.02\n",
      "iteration: 305000 loss: 0.0010 lr: 0.02\n",
      "iteration: 306000 loss: 0.0009 lr: 0.02\n",
      "iteration: 307000 loss: 0.0010 lr: 0.02\n",
      "iteration: 308000 loss: 0.0010 lr: 0.02\n",
      "iteration: 309000 loss: 0.0010 lr: 0.02\n",
      "iteration: 310000 loss: 0.0009 lr: 0.02\n",
      "iteration: 311000 loss: 0.0010 lr: 0.02\n",
      "iteration: 312000 loss: 0.0010 lr: 0.02\n",
      "iteration: 313000 loss: 0.0009 lr: 0.02\n",
      "iteration: 314000 loss: 0.0010 lr: 0.02\n",
      "iteration: 315000 loss: 0.0010 lr: 0.02\n",
      "iteration: 316000 loss: 0.0010 lr: 0.02\n",
      "iteration: 317000 loss: 0.0010 lr: 0.02\n",
      "iteration: 318000 loss: 0.0010 lr: 0.02\n",
      "iteration: 319000 loss: 0.0010 lr: 0.02\n",
      "iteration: 320000 loss: 0.0009 lr: 0.02\n",
      "iteration: 321000 loss: 0.0009 lr: 0.02\n",
      "iteration: 322000 loss: 0.0010 lr: 0.02\n",
      "iteration: 323000 loss: 0.0010 lr: 0.02\n",
      "iteration: 324000 loss: 0.0010 lr: 0.02\n",
      "iteration: 325000 loss: 0.0010 lr: 0.02\n",
      "iteration: 326000 loss: 0.0009 lr: 0.02\n",
      "iteration: 327000 loss: 0.0010 lr: 0.02\n",
      "iteration: 328000 loss: 0.0010 lr: 0.02\n",
      "iteration: 329000 loss: 0.0009 lr: 0.02\n",
      "iteration: 330000 loss: 0.0009 lr: 0.02\n",
      "iteration: 331000 loss: 0.0009 lr: 0.02\n",
      "iteration: 332000 loss: 0.0009 lr: 0.02\n",
      "iteration: 333000 loss: 0.0010 lr: 0.02\n",
      "iteration: 334000 loss: 0.0009 lr: 0.02\n",
      "iteration: 335000 loss: 0.0010 lr: 0.02\n",
      "iteration: 336000 loss: 0.0009 lr: 0.02\n",
      "iteration: 337000 loss: 0.0009 lr: 0.02\n",
      "iteration: 338000 loss: 0.0009 lr: 0.02\n",
      "iteration: 339000 loss: 0.0009 lr: 0.02\n",
      "iteration: 340000 loss: 0.0009 lr: 0.02\n",
      "iteration: 341000 loss: 0.0009 lr: 0.02\n",
      "iteration: 342000 loss: 0.0010 lr: 0.02\n",
      "iteration: 343000 loss: 0.0009 lr: 0.02\n",
      "iteration: 344000 loss: 0.0009 lr: 0.02\n",
      "iteration: 345000 loss: 0.0009 lr: 0.02\n",
      "iteration: 346000 loss: 0.0009 lr: 0.02\n",
      "iteration: 347000 loss: 0.0009 lr: 0.02\n",
      "iteration: 348000 loss: 0.0009 lr: 0.02\n",
      "iteration: 349000 loss: 0.0010 lr: 0.02\n",
      "iteration: 350000 loss: 0.0009 lr: 0.02\n",
      "iteration: 351000 loss: 0.0009 lr: 0.02\n",
      "iteration: 352000 loss: 0.0009 lr: 0.02\n",
      "iteration: 353000 loss: 0.0009 lr: 0.02\n",
      "iteration: 354000 loss: 0.0009 lr: 0.02\n",
      "iteration: 355000 loss: 0.0009 lr: 0.02\n",
      "iteration: 356000 loss: 0.0009 lr: 0.02\n",
      "iteration: 357000 loss: 0.0009 lr: 0.02\n",
      "iteration: 358000 loss: 0.0009 lr: 0.02\n",
      "iteration: 359000 loss: 0.0009 lr: 0.02\n",
      "iteration: 360000 loss: 0.0009 lr: 0.02\n",
      "iteration: 361000 loss: 0.0009 lr: 0.02\n",
      "iteration: 362000 loss: 0.0009 lr: 0.02\n",
      "iteration: 363000 loss: 0.0009 lr: 0.02\n",
      "iteration: 364000 loss: 0.0009 lr: 0.02\n",
      "iteration: 365000 loss: 0.0009 lr: 0.02\n",
      "iteration: 366000 loss: 0.0009 lr: 0.02\n",
      "iteration: 367000 loss: 0.0009 lr: 0.02\n",
      "iteration: 368000 loss: 0.0009 lr: 0.02\n",
      "iteration: 369000 loss: 0.0009 lr: 0.02\n",
      "iteration: 370000 loss: 0.0009 lr: 0.02\n",
      "iteration: 371000 loss: 0.0009 lr: 0.02\n",
      "iteration: 372000 loss: 0.0009 lr: 0.02\n",
      "iteration: 373000 loss: 0.0009 lr: 0.02\n",
      "iteration: 374000 loss: 0.0009 lr: 0.02\n",
      "iteration: 375000 loss: 0.0009 lr: 0.02\n",
      "iteration: 376000 loss: 0.0009 lr: 0.02\n",
      "iteration: 377000 loss: 0.0009 lr: 0.02\n",
      "iteration: 378000 loss: 0.0009 lr: 0.02\n",
      "iteration: 379000 loss: 0.0009 lr: 0.02\n",
      "iteration: 380000 loss: 0.0009 lr: 0.02\n",
      "iteration: 381000 loss: 0.0009 lr: 0.02\n",
      "iteration: 382000 loss: 0.0009 lr: 0.02\n",
      "iteration: 383000 loss: 0.0009 lr: 0.02\n",
      "iteration: 384000 loss: 0.0009 lr: 0.02\n",
      "iteration: 385000 loss: 0.0009 lr: 0.02\n",
      "iteration: 386000 loss: 0.0009 lr: 0.02\n",
      "iteration: 387000 loss: 0.0009 lr: 0.02\n",
      "iteration: 388000 loss: 0.0009 lr: 0.02\n",
      "iteration: 389000 loss: 0.0008 lr: 0.02\n",
      "iteration: 390000 loss: 0.0009 lr: 0.02\n",
      "iteration: 391000 loss: 0.0009 lr: 0.02\n",
      "iteration: 392000 loss: 0.0009 lr: 0.02\n",
      "iteration: 393000 loss: 0.0009 lr: 0.02\n",
      "iteration: 394000 loss: 0.0009 lr: 0.02\n",
      "iteration: 395000 loss: 0.0009 lr: 0.02\n",
      "iteration: 396000 loss: 0.0009 lr: 0.02\n",
      "iteration: 397000 loss: 0.0008 lr: 0.02\n",
      "iteration: 398000 loss: 0.0009 lr: 0.02\n",
      "iteration: 399000 loss: 0.0009 lr: 0.02\n",
      "iteration: 400000 loss: 0.0008 lr: 0.02\n",
      "iteration: 401000 loss: 0.0009 lr: 0.02\n",
      "iteration: 402000 loss: 0.0009 lr: 0.02\n",
      "iteration: 403000 loss: 0.0009 lr: 0.02\n",
      "iteration: 404000 loss: 0.0009 lr: 0.02\n",
      "iteration: 405000 loss: 0.0009 lr: 0.02\n",
      "iteration: 406000 loss: 0.0009 lr: 0.02\n",
      "iteration: 407000 loss: 0.0008 lr: 0.02\n",
      "iteration: 408000 loss: 0.0008 lr: 0.02\n",
      "iteration: 409000 loss: 0.0009 lr: 0.02\n",
      "iteration: 410000 loss: 0.0009 lr: 0.02\n",
      "iteration: 411000 loss: 0.0008 lr: 0.02\n"
     ]
    },
    {
     "name": "stderr",
     "output_type": "stream",
     "text": [
      "iteration: 412000 loss: 0.0009 lr: 0.02\n",
      "iteration: 413000 loss: 0.0009 lr: 0.02\n",
      "iteration: 414000 loss: 0.0009 lr: 0.02\n",
      "iteration: 415000 loss: 0.0009 lr: 0.02\n",
      "iteration: 416000 loss: 0.0008 lr: 0.02\n",
      "iteration: 417000 loss: 0.0008 lr: 0.02\n",
      "iteration: 418000 loss: 0.0009 lr: 0.02\n",
      "iteration: 419000 loss: 0.0009 lr: 0.02\n",
      "iteration: 420000 loss: 0.0008 lr: 0.02\n",
      "iteration: 421000 loss: 0.0009 lr: 0.02\n",
      "iteration: 422000 loss: 0.0008 lr: 0.02\n",
      "iteration: 423000 loss: 0.0008 lr: 0.02\n",
      "iteration: 424000 loss: 0.0009 lr: 0.02\n",
      "iteration: 425000 loss: 0.0008 lr: 0.02\n",
      "iteration: 426000 loss: 0.0008 lr: 0.02\n",
      "iteration: 427000 loss: 0.0009 lr: 0.02\n",
      "iteration: 428000 loss: 0.0008 lr: 0.02\n",
      "iteration: 429000 loss: 0.0009 lr: 0.02\n",
      "iteration: 430000 loss: 0.0009 lr: 0.02\n",
      "iteration: 431000 loss: 0.0008 lr: 0.002\n",
      "iteration: 432000 loss: 0.0008 lr: 0.002\n",
      "iteration: 433000 loss: 0.0007 lr: 0.002\n",
      "iteration: 434000 loss: 0.0007 lr: 0.002\n",
      "iteration: 435000 loss: 0.0007 lr: 0.002\n",
      "iteration: 436000 loss: 0.0007 lr: 0.002\n",
      "iteration: 437000 loss: 0.0007 lr: 0.002\n",
      "iteration: 438000 loss: 0.0007 lr: 0.002\n",
      "iteration: 439000 loss: 0.0007 lr: 0.002\n",
      "iteration: 440000 loss: 0.0007 lr: 0.002\n",
      "iteration: 441000 loss: 0.0007 lr: 0.002\n",
      "iteration: 442000 loss: 0.0007 lr: 0.002\n",
      "iteration: 443000 loss: 0.0007 lr: 0.002\n",
      "iteration: 444000 loss: 0.0007 lr: 0.002\n",
      "iteration: 445000 loss: 0.0007 lr: 0.002\n",
      "iteration: 446000 loss: 0.0007 lr: 0.002\n",
      "iteration: 447000 loss: 0.0007 lr: 0.002\n",
      "iteration: 448000 loss: 0.0007 lr: 0.002\n",
      "iteration: 449000 loss: 0.0007 lr: 0.002\n",
      "iteration: 450000 loss: 0.0007 lr: 0.002\n",
      "iteration: 451000 loss: 0.0007 lr: 0.002\n",
      "iteration: 452000 loss: 0.0007 lr: 0.002\n",
      "iteration: 453000 loss: 0.0007 lr: 0.002\n",
      "iteration: 454000 loss: 0.0007 lr: 0.002\n",
      "iteration: 455000 loss: 0.0007 lr: 0.002\n",
      "iteration: 456000 loss: 0.0007 lr: 0.002\n",
      "iteration: 457000 loss: 0.0007 lr: 0.002\n",
      "iteration: 458000 loss: 0.0007 lr: 0.002\n",
      "iteration: 459000 loss: 0.0007 lr: 0.002\n",
      "iteration: 460000 loss: 0.0007 lr: 0.002\n",
      "iteration: 461000 loss: 0.0007 lr: 0.002\n",
      "iteration: 462000 loss: 0.0007 lr: 0.002\n",
      "iteration: 463000 loss: 0.0007 lr: 0.002\n",
      "iteration: 464000 loss: 0.0007 lr: 0.002\n",
      "iteration: 465000 loss: 0.0007 lr: 0.002\n",
      "iteration: 466000 loss: 0.0007 lr: 0.002\n",
      "iteration: 467000 loss: 0.0007 lr: 0.002\n",
      "iteration: 468000 loss: 0.0007 lr: 0.002\n",
      "iteration: 469000 loss: 0.0007 lr: 0.002\n",
      "iteration: 470000 loss: 0.0007 lr: 0.002\n",
      "iteration: 471000 loss: 0.0007 lr: 0.002\n",
      "iteration: 472000 loss: 0.0007 lr: 0.002\n",
      "iteration: 473000 loss: 0.0007 lr: 0.002\n",
      "iteration: 474000 loss: 0.0007 lr: 0.002\n",
      "iteration: 475000 loss: 0.0007 lr: 0.002\n",
      "iteration: 476000 loss: 0.0007 lr: 0.002\n",
      "iteration: 477000 loss: 0.0007 lr: 0.002\n",
      "iteration: 478000 loss: 0.0007 lr: 0.002\n",
      "iteration: 479000 loss: 0.0007 lr: 0.002\n",
      "iteration: 480000 loss: 0.0007 lr: 0.002\n",
      "iteration: 481000 loss: 0.0007 lr: 0.002\n",
      "iteration: 482000 loss: 0.0007 lr: 0.002\n",
      "iteration: 483000 loss: 0.0007 lr: 0.002\n",
      "iteration: 484000 loss: 0.0007 lr: 0.002\n",
      "iteration: 485000 loss: 0.0007 lr: 0.002\n",
      "iteration: 486000 loss: 0.0007 lr: 0.002\n",
      "iteration: 487000 loss: 0.0007 lr: 0.002\n",
      "iteration: 488000 loss: 0.0007 lr: 0.002\n",
      "iteration: 489000 loss: 0.0007 lr: 0.002\n",
      "iteration: 490000 loss: 0.0007 lr: 0.002\n",
      "iteration: 491000 loss: 0.0007 lr: 0.002\n",
      "iteration: 492000 loss: 0.0007 lr: 0.002\n",
      "iteration: 493000 loss: 0.0007 lr: 0.002\n",
      "iteration: 494000 loss: 0.0007 lr: 0.002\n",
      "iteration: 495000 loss: 0.0007 lr: 0.002\n",
      "iteration: 496000 loss: 0.0007 lr: 0.002\n",
      "iteration: 497000 loss: 0.0007 lr: 0.002\n",
      "iteration: 498000 loss: 0.0007 lr: 0.002\n",
      "iteration: 499000 loss: 0.0007 lr: 0.002\n",
      "iteration: 500000 loss: 0.0007 lr: 0.002\n",
      "iteration: 501000 loss: 0.0007 lr: 0.002\n",
      "iteration: 502000 loss: 0.0007 lr: 0.002\n",
      "iteration: 503000 loss: 0.0007 lr: 0.002\n",
      "iteration: 504000 loss: 0.0007 lr: 0.002\n",
      "iteration: 505000 loss: 0.0007 lr: 0.002\n",
      "iteration: 506000 loss: 0.0007 lr: 0.002\n",
      "iteration: 507000 loss: 0.0007 lr: 0.002\n",
      "iteration: 508000 loss: 0.0007 lr: 0.002\n",
      "iteration: 509000 loss: 0.0007 lr: 0.002\n",
      "iteration: 510000 loss: 0.0007 lr: 0.002\n",
      "iteration: 511000 loss: 0.0007 lr: 0.002\n",
      "iteration: 512000 loss: 0.0007 lr: 0.002\n",
      "iteration: 513000 loss: 0.0007 lr: 0.002\n",
      "iteration: 514000 loss: 0.0007 lr: 0.002\n",
      "iteration: 515000 loss: 0.0007 lr: 0.002\n",
      "iteration: 516000 loss: 0.0007 lr: 0.002\n",
      "iteration: 517000 loss: 0.0007 lr: 0.002\n",
      "iteration: 518000 loss: 0.0007 lr: 0.002\n",
      "iteration: 519000 loss: 0.0007 lr: 0.002\n",
      "iteration: 520000 loss: 0.0007 lr: 0.002\n",
      "iteration: 521000 loss: 0.0007 lr: 0.002\n",
      "iteration: 522000 loss: 0.0007 lr: 0.002\n",
      "iteration: 523000 loss: 0.0007 lr: 0.002\n",
      "iteration: 524000 loss: 0.0007 lr: 0.002\n",
      "iteration: 525000 loss: 0.0007 lr: 0.002\n",
      "iteration: 526000 loss: 0.0007 lr: 0.002\n",
      "iteration: 527000 loss: 0.0007 lr: 0.002\n",
      "iteration: 528000 loss: 0.0007 lr: 0.002\n",
      "iteration: 529000 loss: 0.0007 lr: 0.002\n",
      "iteration: 530000 loss: 0.0007 lr: 0.002\n",
      "iteration: 531000 loss: 0.0007 lr: 0.002\n",
      "iteration: 532000 loss: 0.0007 lr: 0.002\n",
      "iteration: 533000 loss: 0.0007 lr: 0.002\n",
      "iteration: 534000 loss: 0.0007 lr: 0.002\n",
      "iteration: 535000 loss: 0.0007 lr: 0.002\n",
      "iteration: 536000 loss: 0.0007 lr: 0.002\n",
      "iteration: 537000 loss: 0.0007 lr: 0.002\n",
      "iteration: 538000 loss: 0.0007 lr: 0.002\n",
      "iteration: 539000 loss: 0.0007 lr: 0.002\n",
      "iteration: 540000 loss: 0.0007 lr: 0.002\n",
      "iteration: 541000 loss: 0.0007 lr: 0.002\n",
      "iteration: 542000 loss: 0.0007 lr: 0.002\n",
      "iteration: 543000 loss: 0.0007 lr: 0.002\n",
      "iteration: 544000 loss: 0.0007 lr: 0.002\n",
      "iteration: 545000 loss: 0.0007 lr: 0.002\n",
      "iteration: 546000 loss: 0.0007 lr: 0.002\n",
      "iteration: 547000 loss: 0.0007 lr: 0.002\n",
      "iteration: 548000 loss: 0.0007 lr: 0.002\n",
      "iteration: 549000 loss: 0.0007 lr: 0.002\n",
      "iteration: 550000 loss: 0.0007 lr: 0.002\n",
      "iteration: 551000 loss: 0.0007 lr: 0.002\n",
      "iteration: 552000 loss: 0.0007 lr: 0.002\n",
      "iteration: 553000 loss: 0.0007 lr: 0.002\n",
      "iteration: 554000 loss: 0.0007 lr: 0.002\n",
      "iteration: 555000 loss: 0.0007 lr: 0.002\n",
      "iteration: 556000 loss: 0.0007 lr: 0.002\n",
      "iteration: 557000 loss: 0.0007 lr: 0.002\n",
      "iteration: 558000 loss: 0.0007 lr: 0.002\n",
      "iteration: 559000 loss: 0.0007 lr: 0.002\n",
      "iteration: 560000 loss: 0.0007 lr: 0.002\n",
      "iteration: 561000 loss: 0.0007 lr: 0.002\n",
      "iteration: 562000 loss: 0.0007 lr: 0.002\n",
      "iteration: 563000 loss: 0.0007 lr: 0.002\n",
      "iteration: 564000 loss: 0.0007 lr: 0.002\n",
      "iteration: 565000 loss: 0.0007 lr: 0.002\n",
      "iteration: 566000 loss: 0.0007 lr: 0.002\n",
      "iteration: 567000 loss: 0.0007 lr: 0.002\n",
      "iteration: 568000 loss: 0.0007 lr: 0.002\n",
      "iteration: 569000 loss: 0.0007 lr: 0.002\n",
      "iteration: 570000 loss: 0.0007 lr: 0.002\n",
      "iteration: 571000 loss: 0.0007 lr: 0.002\n",
      "iteration: 572000 loss: 0.0007 lr: 0.002\n",
      "iteration: 573000 loss: 0.0007 lr: 0.002\n",
      "iteration: 574000 loss: 0.0007 lr: 0.002\n",
      "iteration: 575000 loss: 0.0007 lr: 0.002\n",
      "iteration: 576000 loss: 0.0007 lr: 0.002\n",
      "iteration: 577000 loss: 0.0007 lr: 0.002\n",
      "iteration: 578000 loss: 0.0007 lr: 0.002\n",
      "iteration: 579000 loss: 0.0007 lr: 0.002\n",
      "iteration: 580000 loss: 0.0007 lr: 0.002\n",
      "iteration: 581000 loss: 0.0007 lr: 0.002\n",
      "iteration: 582000 loss: 0.0007 lr: 0.002\n",
      "iteration: 583000 loss: 0.0007 lr: 0.002\n",
      "iteration: 584000 loss: 0.0007 lr: 0.002\n",
      "iteration: 585000 loss: 0.0007 lr: 0.002\n",
      "iteration: 586000 loss: 0.0006 lr: 0.002\n",
      "iteration: 587000 loss: 0.0007 lr: 0.002\n",
      "iteration: 588000 loss: 0.0007 lr: 0.002\n",
      "iteration: 589000 loss: 0.0007 lr: 0.002\n",
      "iteration: 590000 loss: 0.0007 lr: 0.002\n",
      "iteration: 591000 loss: 0.0007 lr: 0.002\n",
      "iteration: 592000 loss: 0.0006 lr: 0.002\n",
      "iteration: 593000 loss: 0.0007 lr: 0.002\n",
      "iteration: 594000 loss: 0.0007 lr: 0.002\n",
      "iteration: 595000 loss: 0.0007 lr: 0.002\n",
      "iteration: 596000 loss: 0.0007 lr: 0.002\n",
      "iteration: 597000 loss: 0.0007 lr: 0.002\n",
      "iteration: 598000 loss: 0.0007 lr: 0.002\n",
      "iteration: 599000 loss: 0.0007 lr: 0.002\n",
      "iteration: 600000 loss: 0.0007 lr: 0.002\n",
      "iteration: 601000 loss: 0.0007 lr: 0.002\n",
      "iteration: 602000 loss: 0.0007 lr: 0.002\n",
      "iteration: 603000 loss: 0.0007 lr: 0.002\n",
      "iteration: 604000 loss: 0.0007 lr: 0.002\n",
      "iteration: 605000 loss: 0.0007 lr: 0.002\n",
      "iteration: 606000 loss: 0.0007 lr: 0.002\n",
      "iteration: 607000 loss: 0.0007 lr: 0.002\n",
      "iteration: 608000 loss: 0.0007 lr: 0.002\n",
      "iteration: 609000 loss: 0.0007 lr: 0.002\n",
      "iteration: 610000 loss: 0.0007 lr: 0.002\n",
      "iteration: 611000 loss: 0.0007 lr: 0.002\n",
      "iteration: 612000 loss: 0.0007 lr: 0.002\n",
      "iteration: 613000 loss: 0.0007 lr: 0.002\n",
      "iteration: 614000 loss: 0.0007 lr: 0.002\n",
      "iteration: 615000 loss: 0.0007 lr: 0.002\n",
      "iteration: 616000 loss: 0.0007 lr: 0.002\n",
      "iteration: 617000 loss: 0.0007 lr: 0.002\n",
      "iteration: 618000 loss: 0.0007 lr: 0.002\n",
      "iteration: 619000 loss: 0.0007 lr: 0.002\n",
      "iteration: 620000 loss: 0.0007 lr: 0.002\n",
      "iteration: 621000 loss: 0.0007 lr: 0.002\n",
      "iteration: 622000 loss: 0.0007 lr: 0.002\n",
      "iteration: 623000 loss: 0.0007 lr: 0.002\n",
      "iteration: 624000 loss: 0.0007 lr: 0.002\n",
      "iteration: 625000 loss: 0.0007 lr: 0.002\n",
      "iteration: 626000 loss: 0.0007 lr: 0.002\n",
      "iteration: 627000 loss: 0.0007 lr: 0.002\n",
      "iteration: 628000 loss: 0.0007 lr: 0.002\n",
      "iteration: 629000 loss: 0.0007 lr: 0.002\n",
      "iteration: 630000 loss: 0.0007 lr: 0.002\n",
      "iteration: 631000 loss: 0.0007 lr: 0.002\n",
      "iteration: 632000 loss: 0.0007 lr: 0.002\n",
      "iteration: 633000 loss: 0.0007 lr: 0.002\n",
      "iteration: 634000 loss: 0.0007 lr: 0.002\n",
      "iteration: 635000 loss: 0.0007 lr: 0.002\n",
      "iteration: 636000 loss: 0.0007 lr: 0.002\n",
      "iteration: 637000 loss: 0.0007 lr: 0.002\n",
      "iteration: 638000 loss: 0.0007 lr: 0.002\n",
      "iteration: 639000 loss: 0.0007 lr: 0.002\n",
      "iteration: 640000 loss: 0.0007 lr: 0.002\n",
      "iteration: 641000 loss: 0.0007 lr: 0.002\n",
      "iteration: 642000 loss: 0.0007 lr: 0.002\n",
      "iteration: 643000 loss: 0.0007 lr: 0.002\n",
      "iteration: 644000 loss: 0.0007 lr: 0.002\n",
      "iteration: 645000 loss: 0.0007 lr: 0.002\n",
      "iteration: 646000 loss: 0.0007 lr: 0.002\n",
      "iteration: 647000 loss: 0.0007 lr: 0.002\n",
      "iteration: 648000 loss: 0.0007 lr: 0.002\n",
      "iteration: 649000 loss: 0.0007 lr: 0.002\n",
      "iteration: 650000 loss: 0.0007 lr: 0.002\n",
      "iteration: 651000 loss: 0.0006 lr: 0.002\n",
      "iteration: 652000 loss: 0.0007 lr: 0.002\n",
      "iteration: 653000 loss: 0.0007 lr: 0.002\n",
      "iteration: 654000 loss: 0.0007 lr: 0.002\n",
      "iteration: 655000 loss: 0.0007 lr: 0.002\n",
      "iteration: 656000 loss: 0.0007 lr: 0.002\n",
      "iteration: 657000 loss: 0.0007 lr: 0.002\n",
      "iteration: 658000 loss: 0.0007 lr: 0.002\n",
      "iteration: 659000 loss: 0.0007 lr: 0.002\n",
      "iteration: 660000 loss: 0.0007 lr: 0.002\n",
      "iteration: 661000 loss: 0.0007 lr: 0.002\n",
      "iteration: 662000 loss: 0.0007 lr: 0.002\n",
      "iteration: 663000 loss: 0.0006 lr: 0.002\n",
      "iteration: 664000 loss: 0.0007 lr: 0.002\n",
      "iteration: 665000 loss: 0.0007 lr: 0.002\n",
      "iteration: 666000 loss: 0.0007 lr: 0.002\n",
      "iteration: 667000 loss: 0.0007 lr: 0.002\n",
      "iteration: 668000 loss: 0.0007 lr: 0.002\n",
      "iteration: 669000 loss: 0.0007 lr: 0.002\n",
      "iteration: 670000 loss: 0.0007 lr: 0.002\n",
      "iteration: 671000 loss: 0.0007 lr: 0.002\n",
      "iteration: 672000 loss: 0.0007 lr: 0.002\n",
      "iteration: 673000 loss: 0.0007 lr: 0.002\n",
      "iteration: 674000 loss: 0.0007 lr: 0.002\n",
      "iteration: 675000 loss: 0.0007 lr: 0.002\n",
      "iteration: 676000 loss: 0.0007 lr: 0.002\n",
      "iteration: 677000 loss: 0.0007 lr: 0.002\n",
      "iteration: 678000 loss: 0.0007 lr: 0.002\n",
      "iteration: 679000 loss: 0.0007 lr: 0.002\n",
      "iteration: 680000 loss: 0.0007 lr: 0.002\n",
      "iteration: 681000 loss: 0.0007 lr: 0.002\n",
      "iteration: 682000 loss: 0.0007 lr: 0.002\n",
      "iteration: 683000 loss: 0.0007 lr: 0.002\n",
      "iteration: 684000 loss: 0.0007 lr: 0.002\n",
      "iteration: 685000 loss: 0.0007 lr: 0.002\n",
      "iteration: 686000 loss: 0.0006 lr: 0.002\n",
      "iteration: 687000 loss: 0.0006 lr: 0.002\n",
      "iteration: 688000 loss: 0.0007 lr: 0.002\n",
      "iteration: 689000 loss: 0.0007 lr: 0.002\n",
      "iteration: 690000 loss: 0.0007 lr: 0.002\n",
      "iteration: 691000 loss: 0.0007 lr: 0.002\n",
      "iteration: 692000 loss: 0.0006 lr: 0.002\n",
      "iteration: 693000 loss: 0.0007 lr: 0.002\n",
      "iteration: 694000 loss: 0.0007 lr: 0.002\n",
      "iteration: 695000 loss: 0.0007 lr: 0.002\n",
      "iteration: 696000 loss: 0.0007 lr: 0.002\n",
      "iteration: 697000 loss: 0.0007 lr: 0.002\n",
      "iteration: 698000 loss: 0.0006 lr: 0.002\n",
      "iteration: 699000 loss: 0.0007 lr: 0.002\n",
      "iteration: 700000 loss: 0.0007 lr: 0.002\n",
      "iteration: 701000 loss: 0.0007 lr: 0.002\n",
      "iteration: 702000 loss: 0.0007 lr: 0.002\n",
      "iteration: 703000 loss: 0.0007 lr: 0.002\n",
      "iteration: 704000 loss: 0.0006 lr: 0.002\n",
      "iteration: 705000 loss: 0.0007 lr: 0.002\n",
      "iteration: 706000 loss: 0.0007 lr: 0.002\n",
      "iteration: 707000 loss: 0.0007 lr: 0.002\n",
      "iteration: 708000 loss: 0.0007 lr: 0.002\n",
      "iteration: 709000 loss: 0.0007 lr: 0.002\n",
      "iteration: 710000 loss: 0.0007 lr: 0.002\n",
      "iteration: 711000 loss: 0.0007 lr: 0.002\n",
      "iteration: 712000 loss: 0.0006 lr: 0.002\n",
      "iteration: 713000 loss: 0.0007 lr: 0.002\n",
      "iteration: 714000 loss: 0.0007 lr: 0.002\n",
      "iteration: 715000 loss: 0.0007 lr: 0.002\n",
      "iteration: 716000 loss: 0.0007 lr: 0.002\n",
      "iteration: 717000 loss: 0.0007 lr: 0.002\n",
      "iteration: 718000 loss: 0.0007 lr: 0.002\n",
      "iteration: 719000 loss: 0.0007 lr: 0.002\n",
      "iteration: 720000 loss: 0.0007 lr: 0.002\n",
      "iteration: 721000 loss: 0.0007 lr: 0.002\n",
      "iteration: 722000 loss: 0.0007 lr: 0.002\n",
      "iteration: 723000 loss: 0.0007 lr: 0.002\n",
      "iteration: 724000 loss: 0.0007 lr: 0.002\n",
      "iteration: 725000 loss: 0.0007 lr: 0.002\n",
      "iteration: 726000 loss: 0.0007 lr: 0.002\n",
      "iteration: 727000 loss: 0.0007 lr: 0.002\n",
      "iteration: 728000 loss: 0.0007 lr: 0.002\n",
      "iteration: 729000 loss: 0.0007 lr: 0.002\n",
      "iteration: 730000 loss: 0.0007 lr: 0.002\n",
      "iteration: 731000 loss: 0.0007 lr: 0.001\n",
      "iteration: 732000 loss: 0.0007 lr: 0.001\n",
      "iteration: 733000 loss: 0.0007 lr: 0.001\n",
      "iteration: 734000 loss: 0.0007 lr: 0.001\n",
      "iteration: 735000 loss: 0.0007 lr: 0.001\n",
      "iteration: 736000 loss: 0.0007 lr: 0.001\n",
      "iteration: 737000 loss: 0.0007 lr: 0.001\n",
      "iteration: 738000 loss: 0.0007 lr: 0.001\n",
      "iteration: 739000 loss: 0.0007 lr: 0.001\n",
      "iteration: 740000 loss: 0.0007 lr: 0.001\n",
      "iteration: 741000 loss: 0.0007 lr: 0.001\n",
      "iteration: 742000 loss: 0.0007 lr: 0.001\n",
      "iteration: 743000 loss: 0.0007 lr: 0.001\n",
      "iteration: 744000 loss: 0.0007 lr: 0.001\n",
      "iteration: 745000 loss: 0.0007 lr: 0.001\n",
      "iteration: 746000 loss: 0.0006 lr: 0.001\n",
      "iteration: 747000 loss: 0.0007 lr: 0.001\n",
      "iteration: 748000 loss: 0.0007 lr: 0.001\n",
      "iteration: 749000 loss: 0.0007 lr: 0.001\n",
      "iteration: 750000 loss: 0.0007 lr: 0.001\n",
      "iteration: 751000 loss: 0.0007 lr: 0.001\n",
      "iteration: 752000 loss: 0.0007 lr: 0.001\n",
      "iteration: 753000 loss: 0.0007 lr: 0.001\n",
      "iteration: 754000 loss: 0.0007 lr: 0.001\n",
      "iteration: 755000 loss: 0.0007 lr: 0.001\n",
      "iteration: 756000 loss: 0.0007 lr: 0.001\n",
      "iteration: 757000 loss: 0.0007 lr: 0.001\n",
      "iteration: 758000 loss: 0.0007 lr: 0.001\n",
      "iteration: 759000 loss: 0.0007 lr: 0.001\n",
      "iteration: 760000 loss: 0.0007 lr: 0.001\n",
      "iteration: 761000 loss: 0.0006 lr: 0.001\n",
      "iteration: 762000 loss: 0.0007 lr: 0.001\n",
      "iteration: 763000 loss: 0.0007 lr: 0.001\n",
      "iteration: 764000 loss: 0.0007 lr: 0.001\n",
      "iteration: 765000 loss: 0.0007 lr: 0.001\n",
      "iteration: 766000 loss: 0.0007 lr: 0.001\n",
      "iteration: 767000 loss: 0.0007 lr: 0.001\n",
      "iteration: 768000 loss: 0.0007 lr: 0.001\n",
      "iteration: 769000 loss: 0.0007 lr: 0.001\n",
      "iteration: 770000 loss: 0.0007 lr: 0.001\n",
      "iteration: 771000 loss: 0.0006 lr: 0.001\n",
      "iteration: 772000 loss: 0.0007 lr: 0.001\n",
      "iteration: 773000 loss: 0.0007 lr: 0.001\n",
      "iteration: 774000 loss: 0.0007 lr: 0.001\n",
      "iteration: 775000 loss: 0.0007 lr: 0.001\n",
      "iteration: 776000 loss: 0.0006 lr: 0.001\n",
      "iteration: 777000 loss: 0.0007 lr: 0.001\n",
      "iteration: 778000 loss: 0.0007 lr: 0.001\n",
      "iteration: 779000 loss: 0.0007 lr: 0.001\n",
      "iteration: 780000 loss: 0.0007 lr: 0.001\n",
      "iteration: 781000 loss: 0.0007 lr: 0.001\n",
      "iteration: 782000 loss: 0.0007 lr: 0.001\n",
      "iteration: 783000 loss: 0.0007 lr: 0.001\n",
      "iteration: 784000 loss: 0.0007 lr: 0.001\n",
      "iteration: 785000 loss: 0.0007 lr: 0.001\n",
      "iteration: 786000 loss: 0.0007 lr: 0.001\n",
      "iteration: 787000 loss: 0.0007 lr: 0.001\n",
      "iteration: 788000 loss: 0.0007 lr: 0.001\n",
      "iteration: 789000 loss: 0.0007 lr: 0.001\n",
      "iteration: 790000 loss: 0.0007 lr: 0.001\n",
      "iteration: 791000 loss: 0.0007 lr: 0.001\n",
      "iteration: 792000 loss: 0.0007 lr: 0.001\n",
      "iteration: 793000 loss: 0.0007 lr: 0.001\n",
      "iteration: 794000 loss: 0.0007 lr: 0.001\n",
      "iteration: 795000 loss: 0.0006 lr: 0.001\n",
      "iteration: 796000 loss: 0.0007 lr: 0.001\n",
      "iteration: 797000 loss: 0.0007 lr: 0.001\n",
      "iteration: 798000 loss: 0.0006 lr: 0.001\n",
      "iteration: 799000 loss: 0.0007 lr: 0.001\n",
      "iteration: 800000 loss: 0.0007 lr: 0.001\n",
      "iteration: 801000 loss: 0.0007 lr: 0.001\n",
      "iteration: 802000 loss: 0.0007 lr: 0.001\n",
      "iteration: 803000 loss: 0.0007 lr: 0.001\n",
      "iteration: 804000 loss: 0.0006 lr: 0.001\n",
      "iteration: 805000 loss: 0.0006 lr: 0.001\n",
      "iteration: 806000 loss: 0.0007 lr: 0.001\n",
      "iteration: 807000 loss: 0.0007 lr: 0.001\n",
      "iteration: 808000 loss: 0.0007 lr: 0.001\n",
      "iteration: 809000 loss: 0.0007 lr: 0.001\n",
      "iteration: 810000 loss: 0.0006 lr: 0.001\n"
     ]
    },
    {
     "name": "stderr",
     "output_type": "stream",
     "text": [
      "iteration: 811000 loss: 0.0007 lr: 0.001\n",
      "iteration: 812000 loss: 0.0006 lr: 0.001\n",
      "iteration: 813000 loss: 0.0006 lr: 0.001\n",
      "iteration: 814000 loss: 0.0007 lr: 0.001\n",
      "iteration: 815000 loss: 0.0007 lr: 0.001\n",
      "iteration: 816000 loss: 0.0007 lr: 0.001\n",
      "iteration: 817000 loss: 0.0007 lr: 0.001\n",
      "iteration: 818000 loss: 0.0006 lr: 0.001\n",
      "iteration: 819000 loss: 0.0006 lr: 0.001\n",
      "iteration: 820000 loss: 0.0006 lr: 0.001\n",
      "iteration: 821000 loss: 0.0007 lr: 0.001\n",
      "iteration: 822000 loss: 0.0006 lr: 0.001\n",
      "iteration: 823000 loss: 0.0007 lr: 0.001\n",
      "iteration: 824000 loss: 0.0007 lr: 0.001\n",
      "iteration: 825000 loss: 0.0007 lr: 0.001\n",
      "iteration: 826000 loss: 0.0006 lr: 0.001\n",
      "iteration: 827000 loss: 0.0007 lr: 0.001\n",
      "iteration: 828000 loss: 0.0007 lr: 0.001\n",
      "iteration: 829000 loss: 0.0007 lr: 0.001\n",
      "iteration: 830000 loss: 0.0007 lr: 0.001\n",
      "iteration: 831000 loss: 0.0007 lr: 0.001\n",
      "iteration: 832000 loss: 0.0006 lr: 0.001\n",
      "iteration: 833000 loss: 0.0007 lr: 0.001\n",
      "iteration: 834000 loss: 0.0007 lr: 0.001\n",
      "iteration: 835000 loss: 0.0006 lr: 0.001\n",
      "iteration: 836000 loss: 0.0007 lr: 0.001\n",
      "iteration: 837000 loss: 0.0007 lr: 0.001\n",
      "iteration: 838000 loss: 0.0006 lr: 0.001\n",
      "iteration: 839000 loss: 0.0007 lr: 0.001\n",
      "iteration: 840000 loss: 0.0007 lr: 0.001\n",
      "iteration: 841000 loss: 0.0007 lr: 0.001\n",
      "iteration: 842000 loss: 0.0006 lr: 0.001\n",
      "iteration: 843000 loss: 0.0006 lr: 0.001\n",
      "iteration: 844000 loss: 0.0007 lr: 0.001\n",
      "iteration: 845000 loss: 0.0007 lr: 0.001\n",
      "iteration: 846000 loss: 0.0007 lr: 0.001\n",
      "iteration: 847000 loss: 0.0007 lr: 0.001\n",
      "iteration: 848000 loss: 0.0007 lr: 0.001\n",
      "iteration: 849000 loss: 0.0007 lr: 0.001\n",
      "iteration: 850000 loss: 0.0007 lr: 0.001\n",
      "iteration: 851000 loss: 0.0007 lr: 0.001\n",
      "iteration: 852000 loss: 0.0007 lr: 0.001\n",
      "iteration: 853000 loss: 0.0007 lr: 0.001\n",
      "iteration: 854000 loss: 0.0006 lr: 0.001\n",
      "iteration: 855000 loss: 0.0007 lr: 0.001\n",
      "iteration: 856000 loss: 0.0007 lr: 0.001\n",
      "iteration: 857000 loss: 0.0006 lr: 0.001\n",
      "iteration: 858000 loss: 0.0007 lr: 0.001\n",
      "iteration: 859000 loss: 0.0007 lr: 0.001\n",
      "iteration: 860000 loss: 0.0007 lr: 0.001\n",
      "iteration: 861000 loss: 0.0007 lr: 0.001\n",
      "iteration: 862000 loss: 0.0007 lr: 0.001\n",
      "iteration: 863000 loss: 0.0007 lr: 0.001\n",
      "iteration: 864000 loss: 0.0007 lr: 0.001\n",
      "iteration: 865000 loss: 0.0006 lr: 0.001\n",
      "iteration: 866000 loss: 0.0006 lr: 0.001\n",
      "iteration: 867000 loss: 0.0007 lr: 0.001\n",
      "iteration: 868000 loss: 0.0007 lr: 0.001\n",
      "iteration: 869000 loss: 0.0007 lr: 0.001\n",
      "iteration: 870000 loss: 0.0007 lr: 0.001\n",
      "iteration: 871000 loss: 0.0007 lr: 0.001\n",
      "iteration: 872000 loss: 0.0006 lr: 0.001\n",
      "iteration: 873000 loss: 0.0007 lr: 0.001\n",
      "iteration: 874000 loss: 0.0007 lr: 0.001\n",
      "iteration: 875000 loss: 0.0007 lr: 0.001\n",
      "iteration: 876000 loss: 0.0006 lr: 0.001\n",
      "iteration: 877000 loss: 0.0007 lr: 0.001\n",
      "iteration: 878000 loss: 0.0007 lr: 0.001\n",
      "iteration: 879000 loss: 0.0006 lr: 0.001\n",
      "iteration: 880000 loss: 0.0007 lr: 0.001\n",
      "iteration: 881000 loss: 0.0007 lr: 0.001\n",
      "iteration: 882000 loss: 0.0007 lr: 0.001\n",
      "iteration: 883000 loss: 0.0007 lr: 0.001\n",
      "iteration: 884000 loss: 0.0007 lr: 0.001\n",
      "iteration: 885000 loss: 0.0007 lr: 0.001\n",
      "iteration: 886000 loss: 0.0007 lr: 0.001\n",
      "iteration: 887000 loss: 0.0007 lr: 0.001\n",
      "iteration: 888000 loss: 0.0007 lr: 0.001\n",
      "iteration: 889000 loss: 0.0007 lr: 0.001\n",
      "iteration: 890000 loss: 0.0007 lr: 0.001\n",
      "iteration: 891000 loss: 0.0007 lr: 0.001\n",
      "iteration: 892000 loss: 0.0007 lr: 0.001\n",
      "iteration: 893000 loss: 0.0007 lr: 0.001\n",
      "iteration: 894000 loss: 0.0007 lr: 0.001\n",
      "iteration: 895000 loss: 0.0007 lr: 0.001\n",
      "iteration: 896000 loss: 0.0006 lr: 0.001\n",
      "iteration: 897000 loss: 0.0007 lr: 0.001\n",
      "iteration: 898000 loss: 0.0007 lr: 0.001\n",
      "iteration: 899000 loss: 0.0007 lr: 0.001\n",
      "iteration: 900000 loss: 0.0006 lr: 0.001\n",
      "iteration: 901000 loss: 0.0007 lr: 0.001\n",
      "iteration: 902000 loss: 0.0007 lr: 0.001\n",
      "iteration: 903000 loss: 0.0007 lr: 0.001\n",
      "iteration: 904000 loss: 0.0007 lr: 0.001\n",
      "iteration: 905000 loss: 0.0006 lr: 0.001\n",
      "iteration: 906000 loss: 0.0007 lr: 0.001\n",
      "iteration: 907000 loss: 0.0007 lr: 0.001\n",
      "iteration: 908000 loss: 0.0007 lr: 0.001\n",
      "iteration: 909000 loss: 0.0007 lr: 0.001\n",
      "iteration: 910000 loss: 0.0007 lr: 0.001\n",
      "iteration: 911000 loss: 0.0007 lr: 0.001\n",
      "iteration: 912000 loss: 0.0007 lr: 0.001\n",
      "iteration: 913000 loss: 0.0007 lr: 0.001\n",
      "iteration: 914000 loss: 0.0007 lr: 0.001\n",
      "iteration: 915000 loss: 0.0006 lr: 0.001\n",
      "iteration: 916000 loss: 0.0007 lr: 0.001\n",
      "iteration: 917000 loss: 0.0007 lr: 0.001\n",
      "iteration: 918000 loss: 0.0006 lr: 0.001\n",
      "iteration: 919000 loss: 0.0007 lr: 0.001\n",
      "iteration: 920000 loss: 0.0007 lr: 0.001\n",
      "iteration: 921000 loss: 0.0007 lr: 0.001\n",
      "iteration: 922000 loss: 0.0007 lr: 0.001\n",
      "iteration: 923000 loss: 0.0006 lr: 0.001\n",
      "iteration: 924000 loss: 0.0006 lr: 0.001\n",
      "iteration: 925000 loss: 0.0007 lr: 0.001\n",
      "iteration: 926000 loss: 0.0006 lr: 0.001\n",
      "iteration: 927000 loss: 0.0007 lr: 0.001\n",
      "iteration: 928000 loss: 0.0007 lr: 0.001\n",
      "iteration: 929000 loss: 0.0007 lr: 0.001\n",
      "iteration: 930000 loss: 0.0007 lr: 0.001\n",
      "iteration: 931000 loss: 0.0007 lr: 0.001\n",
      "iteration: 932000 loss: 0.0007 lr: 0.001\n",
      "iteration: 933000 loss: 0.0006 lr: 0.001\n",
      "iteration: 934000 loss: 0.0006 lr: 0.001\n",
      "iteration: 935000 loss: 0.0007 lr: 0.001\n",
      "iteration: 936000 loss: 0.0007 lr: 0.001\n",
      "iteration: 937000 loss: 0.0007 lr: 0.001\n",
      "iteration: 938000 loss: 0.0007 lr: 0.001\n",
      "iteration: 939000 loss: 0.0007 lr: 0.001\n",
      "iteration: 940000 loss: 0.0007 lr: 0.001\n",
      "iteration: 941000 loss: 0.0007 lr: 0.001\n",
      "iteration: 942000 loss: 0.0007 lr: 0.001\n",
      "iteration: 943000 loss: 0.0007 lr: 0.001\n",
      "iteration: 944000 loss: 0.0006 lr: 0.001\n",
      "iteration: 945000 loss: 0.0007 lr: 0.001\n",
      "iteration: 946000 loss: 0.0007 lr: 0.001\n",
      "iteration: 947000 loss: 0.0007 lr: 0.001\n",
      "iteration: 948000 loss: 0.0007 lr: 0.001\n",
      "iteration: 949000 loss: 0.0007 lr: 0.001\n",
      "iteration: 950000 loss: 0.0007 lr: 0.001\n",
      "iteration: 951000 loss: 0.0007 lr: 0.001\n",
      "iteration: 952000 loss: 0.0007 lr: 0.001\n",
      "iteration: 953000 loss: 0.0006 lr: 0.001\n",
      "iteration: 954000 loss: 0.0007 lr: 0.001\n",
      "iteration: 955000 loss: 0.0007 lr: 0.001\n",
      "iteration: 956000 loss: 0.0007 lr: 0.001\n",
      "iteration: 957000 loss: 0.0007 lr: 0.001\n",
      "iteration: 958000 loss: 0.0006 lr: 0.001\n",
      "iteration: 959000 loss: 0.0007 lr: 0.001\n",
      "iteration: 960000 loss: 0.0007 lr: 0.001\n",
      "iteration: 961000 loss: 0.0007 lr: 0.001\n",
      "iteration: 962000 loss: 0.0007 lr: 0.001\n",
      "iteration: 963000 loss: 0.0007 lr: 0.001\n",
      "iteration: 964000 loss: 0.0007 lr: 0.001\n",
      "iteration: 965000 loss: 0.0006 lr: 0.001\n",
      "iteration: 966000 loss: 0.0007 lr: 0.001\n",
      "iteration: 967000 loss: 0.0007 lr: 0.001\n",
      "iteration: 968000 loss: 0.0007 lr: 0.001\n",
      "iteration: 969000 loss: 0.0006 lr: 0.001\n",
      "iteration: 970000 loss: 0.0007 lr: 0.001\n",
      "iteration: 971000 loss: 0.0006 lr: 0.001\n",
      "iteration: 972000 loss: 0.0007 lr: 0.001\n",
      "iteration: 973000 loss: 0.0007 lr: 0.001\n",
      "iteration: 974000 loss: 0.0007 lr: 0.001\n",
      "iteration: 975000 loss: 0.0006 lr: 0.001\n",
      "iteration: 976000 loss: 0.0007 lr: 0.001\n",
      "iteration: 977000 loss: 0.0007 lr: 0.001\n",
      "iteration: 978000 loss: 0.0006 lr: 0.001\n",
      "iteration: 979000 loss: 0.0007 lr: 0.001\n",
      "iteration: 980000 loss: 0.0007 lr: 0.001\n",
      "iteration: 981000 loss: 0.0007 lr: 0.001\n",
      "iteration: 982000 loss: 0.0007 lr: 0.001\n",
      "iteration: 983000 loss: 0.0006 lr: 0.001\n",
      "iteration: 984000 loss: 0.0007 lr: 0.001\n",
      "iteration: 985000 loss: 0.0007 lr: 0.001\n",
      "iteration: 986000 loss: 0.0007 lr: 0.001\n",
      "iteration: 987000 loss: 0.0007 lr: 0.001\n",
      "iteration: 988000 loss: 0.0006 lr: 0.001\n",
      "iteration: 989000 loss: 0.0007 lr: 0.001\n",
      "iteration: 990000 loss: 0.0007 lr: 0.001\n",
      "iteration: 991000 loss: 0.0006 lr: 0.001\n",
      "iteration: 992000 loss: 0.0007 lr: 0.001\n",
      "iteration: 993000 loss: 0.0006 lr: 0.001\n",
      "iteration: 994000 loss: 0.0007 lr: 0.001\n",
      "iteration: 995000 loss: 0.0006 lr: 0.001\n",
      "iteration: 996000 loss: 0.0007 lr: 0.001\n",
      "iteration: 997000 loss: 0.0007 lr: 0.001\n",
      "iteration: 998000 loss: 0.0006 lr: 0.001\n",
      "iteration: 999000 loss: 0.0007 lr: 0.001\n",
      "iteration: 1000000 loss: 0.0007 lr: 0.001\n",
      "iteration: 1001000 loss: 0.0006 lr: 0.001\n",
      "iteration: 1002000 loss: 0.0006 lr: 0.001\n",
      "iteration: 1003000 loss: 0.0007 lr: 0.001\n",
      "iteration: 1004000 loss: 0.0007 lr: 0.001\n",
      "iteration: 1005000 loss: 0.0006 lr: 0.001\n",
      "iteration: 1006000 loss: 0.0007 lr: 0.001\n",
      "iteration: 1007000 loss: 0.0006 lr: 0.001\n",
      "iteration: 1008000 loss: 0.0007 lr: 0.001\n",
      "iteration: 1009000 loss: 0.0007 lr: 0.001\n",
      "iteration: 1010000 loss: 0.0007 lr: 0.001\n",
      "iteration: 1011000 loss: 0.0006 lr: 0.001\n",
      "iteration: 1012000 loss: 0.0007 lr: 0.001\n",
      "iteration: 1013000 loss: 0.0006 lr: 0.001\n",
      "iteration: 1014000 loss: 0.0006 lr: 0.001\n",
      "iteration: 1015000 loss: 0.0006 lr: 0.001\n",
      "iteration: 1016000 loss: 0.0007 lr: 0.001\n",
      "iteration: 1017000 loss: 0.0007 lr: 0.001\n",
      "iteration: 1018000 loss: 0.0006 lr: 0.001\n",
      "iteration: 1019000 loss: 0.0007 lr: 0.001\n",
      "iteration: 1020000 loss: 0.0006 lr: 0.001\n",
      "iteration: 1021000 loss: 0.0007 lr: 0.001\n",
      "iteration: 1022000 loss: 0.0007 lr: 0.001\n",
      "iteration: 1023000 loss: 0.0007 lr: 0.001\n",
      "iteration: 1024000 loss: 0.0006 lr: 0.001\n",
      "iteration: 1025000 loss: 0.0007 lr: 0.001\n",
      "iteration: 1026000 loss: 0.0007 lr: 0.001\n",
      "iteration: 1027000 loss: 0.0007 lr: 0.001\n",
      "iteration: 1028000 loss: 0.0007 lr: 0.001\n",
      "iteration: 1029000 loss: 0.0007 lr: 0.001\n",
      "iteration: 1030000 loss: 0.0007 lr: 0.001\n",
      "Exception in thread Thread-20:\n",
      "Traceback (most recent call last):\n",
      "  File \"C:\\ProgramData\\Anaconda3\\envs\\dlc-windowsGPU\\lib\\site-packages\\tensorflow\\python\\client\\session.py\", line 1334, in _do_call\n",
      "    return fn(*args)\n",
      "  File \"C:\\ProgramData\\Anaconda3\\envs\\dlc-windowsGPU\\lib\\site-packages\\tensorflow\\python\\client\\session.py\", line 1319, in _run_fn\n",
      "    options, feed_dict, fetch_list, target_list, run_metadata)\n",
      "  File \"C:\\ProgramData\\Anaconda3\\envs\\dlc-windowsGPU\\lib\\site-packages\\tensorflow\\python\\client\\session.py\", line 1407, in _call_tf_sessionrun\n",
      "    run_metadata)\n",
      "tensorflow.python.framework.errors_impl.CancelledError: Enqueue operation was cancelled\n",
      "\t [[{{node fifo_queue_enqueue}}]]\n",
      "\n",
      "During handling of the above exception, another exception occurred:\n",
      "\n",
      "Traceback (most recent call last):\n",
      "  File \"C:\\ProgramData\\Anaconda3\\envs\\dlc-windowsGPU\\lib\\threading.py\", line 916, in _bootstrap_inner\n",
      "    self.run()\n",
      "  File \"C:\\ProgramData\\Anaconda3\\envs\\dlc-windowsGPU\\lib\\threading.py\", line 864, in run\n",
      "    self._target(*self._args, **self._kwargs)\n",
      "  File \"C:\\ProgramData\\Anaconda3\\envs\\dlc-windowsGPU\\lib\\site-packages\\deeplabcut\\pose_estimation_tensorflow\\train.py\", line 91, in load_and_enqueue\n",
      "    sess.run(enqueue_op, feed_dict=food)\n",
      "  File \"C:\\ProgramData\\Anaconda3\\envs\\dlc-windowsGPU\\lib\\site-packages\\tensorflow\\python\\client\\session.py\", line 929, in run\n",
      "    run_metadata_ptr)\n",
      "  File \"C:\\ProgramData\\Anaconda3\\envs\\dlc-windowsGPU\\lib\\site-packages\\tensorflow\\python\\client\\session.py\", line 1152, in _run\n",
      "    feed_dict_tensor, options, run_metadata)\n",
      "  File \"C:\\ProgramData\\Anaconda3\\envs\\dlc-windowsGPU\\lib\\site-packages\\tensorflow\\python\\client\\session.py\", line 1328, in _do_run\n",
      "    run_metadata)\n",
      "  File \"C:\\ProgramData\\Anaconda3\\envs\\dlc-windowsGPU\\lib\\site-packages\\tensorflow\\python\\client\\session.py\", line 1348, in _do_call\n",
      "    raise type(e)(node_def, op, message)\n",
      "tensorflow.python.framework.errors_impl.CancelledError: Enqueue operation was cancelled\n",
      "\t [[node fifo_queue_enqueue (defined at C:\\ProgramData\\Anaconda3\\envs\\dlc-windowsGPU\\lib\\site-packages\\deeplabcut\\pose_estimation_tensorflow\\train.py:77) ]]\n",
      "\n",
      "Caused by op 'fifo_queue_enqueue', defined at:\n",
      "  File \"C:\\ProgramData\\Anaconda3\\envs\\dlc-windowsGPU\\lib\\runpy.py\", line 193, in _run_module_as_main\n",
      "    \"__main__\", mod_spec)\n",
      "  File \"C:\\ProgramData\\Anaconda3\\envs\\dlc-windowsGPU\\lib\\runpy.py\", line 85, in _run_code\n",
      "    exec(code, run_globals)\n",
      "  File \"C:\\ProgramData\\Anaconda3\\envs\\dlc-windowsGPU\\lib\\site-packages\\ipykernel_launcher.py\", line 16, in <module>\n",
      "    app.launch_new_instance()\n",
      "  File \"C:\\ProgramData\\Anaconda3\\envs\\dlc-windowsGPU\\lib\\site-packages\\traitlets\\config\\application.py\", line 664, in launch_instance\n",
      "    app.start()\n",
      "  File \"C:\\ProgramData\\Anaconda3\\envs\\dlc-windowsGPU\\lib\\site-packages\\ipykernel\\kernelapp.py\", line 583, in start\n",
      "    self.io_loop.start()\n",
      "  File \"C:\\ProgramData\\Anaconda3\\envs\\dlc-windowsGPU\\lib\\site-packages\\tornado\\platform\\asyncio.py\", line 149, in start\n",
      "    self.asyncio_loop.run_forever()\n",
      "  File \"C:\\ProgramData\\Anaconda3\\envs\\dlc-windowsGPU\\lib\\asyncio\\base_events.py\", line 442, in run_forever\n",
      "    self._run_once()\n",
      "  File \"C:\\ProgramData\\Anaconda3\\envs\\dlc-windowsGPU\\lib\\asyncio\\base_events.py\", line 1462, in _run_once\n",
      "    handle._run()\n",
      "  File \"C:\\ProgramData\\Anaconda3\\envs\\dlc-windowsGPU\\lib\\asyncio\\events.py\", line 145, in _run\n",
      "    self._callback(*self._args)\n",
      "  File \"C:\\ProgramData\\Anaconda3\\envs\\dlc-windowsGPU\\lib\\site-packages\\tornado\\ioloop.py\", line 690, in <lambda>\n",
      "    lambda f: self._run_callback(functools.partial(callback, future))\n",
      "  File \"C:\\ProgramData\\Anaconda3\\envs\\dlc-windowsGPU\\lib\\site-packages\\tornado\\ioloop.py\", line 743, in _run_callback\n",
      "    ret = callback()\n",
      "  File \"C:\\ProgramData\\Anaconda3\\envs\\dlc-windowsGPU\\lib\\site-packages\\tornado\\gen.py\", line 787, in inner\n",
      "    self.run()\n",
      "  File \"C:\\ProgramData\\Anaconda3\\envs\\dlc-windowsGPU\\lib\\site-packages\\tornado\\gen.py\", line 748, in run\n",
      "    yielded = self.gen.send(value)\n",
      "  File \"C:\\ProgramData\\Anaconda3\\envs\\dlc-windowsGPU\\lib\\site-packages\\ipykernel\\kernelbase.py\", line 361, in process_one\n",
      "    yield gen.maybe_future(dispatch(*args))\n",
      "  File \"C:\\ProgramData\\Anaconda3\\envs\\dlc-windowsGPU\\lib\\site-packages\\tornado\\gen.py\", line 209, in wrapper\n",
      "    yielded = next(result)\n",
      "  File \"C:\\ProgramData\\Anaconda3\\envs\\dlc-windowsGPU\\lib\\site-packages\\ipykernel\\kernelbase.py\", line 268, in dispatch_shell\n",
      "    yield gen.maybe_future(handler(stream, idents, msg))\n",
      "  File \"C:\\ProgramData\\Anaconda3\\envs\\dlc-windowsGPU\\lib\\site-packages\\tornado\\gen.py\", line 209, in wrapper\n",
      "    yielded = next(result)\n",
      "  File \"C:\\ProgramData\\Anaconda3\\envs\\dlc-windowsGPU\\lib\\site-packages\\ipykernel\\kernelbase.py\", line 541, in execute_request\n",
      "    user_expressions, allow_stdin,\n",
      "  File \"C:\\ProgramData\\Anaconda3\\envs\\dlc-windowsGPU\\lib\\site-packages\\tornado\\gen.py\", line 209, in wrapper\n",
      "    yielded = next(result)\n",
      "  File \"C:\\ProgramData\\Anaconda3\\envs\\dlc-windowsGPU\\lib\\site-packages\\ipykernel\\ipkernel.py\", line 300, in do_execute\n",
      "    res = shell.run_cell(code, store_history=store_history, silent=silent)\n",
      "  File \"C:\\ProgramData\\Anaconda3\\envs\\dlc-windowsGPU\\lib\\site-packages\\ipykernel\\zmqshell.py\", line 536, in run_cell\n",
      "    return super(ZMQInteractiveShell, self).run_cell(*args, **kwargs)\n",
      "  File \"C:\\ProgramData\\Anaconda3\\envs\\dlc-windowsGPU\\lib\\site-packages\\IPython\\core\\interactiveshell.py\", line 2858, in run_cell\n",
      "    raw_cell, store_history, silent, shell_futures)\n",
      "  File \"C:\\ProgramData\\Anaconda3\\envs\\dlc-windowsGPU\\lib\\site-packages\\IPython\\core\\interactiveshell.py\", line 2886, in _run_cell\n",
      "    return runner(coro)\n",
      "  File \"C:\\ProgramData\\Anaconda3\\envs\\dlc-windowsGPU\\lib\\site-packages\\IPython\\core\\async_helpers.py\", line 68, in _pseudo_sync_runner\n",
      "    coro.send(None)\n",
      "  File \"C:\\ProgramData\\Anaconda3\\envs\\dlc-windowsGPU\\lib\\site-packages\\IPython\\core\\interactiveshell.py\", line 3063, in run_cell_async\n",
      "    interactivity=interactivity, compiler=compiler, result=result)\n",
      "  File \"C:\\ProgramData\\Anaconda3\\envs\\dlc-windowsGPU\\lib\\site-packages\\IPython\\core\\interactiveshell.py\", line 3254, in run_ast_nodes\n",
      "    if (await self.run_code(code, result,  async_=asy)):\n",
      "  File \"C:\\ProgramData\\Anaconda3\\envs\\dlc-windowsGPU\\lib\\site-packages\\IPython\\core\\interactiveshell.py\", line 3331, in run_code\n",
      "    exec(code_obj, self.user_global_ns, self.user_ns)\n",
      "  File \"<ipython-input-7-03084050ad10>\", line 1, in <module>\n",
      "    deeplabcut.train_network(config_path, displayiters=1000, saveiters=50000, maxiters=1030000)\n",
      "  File \"C:\\ProgramData\\Anaconda3\\envs\\dlc-windowsGPU\\lib\\site-packages\\deeplabcut\\pose_estimation_tensorflow\\training.py\", line 189, in train_network\n",
      "    allow_growth=allow_growth,\n",
      "  File \"C:\\ProgramData\\Anaconda3\\envs\\dlc-windowsGPU\\lib\\site-packages\\deeplabcut\\pose_estimation_tensorflow\\train.py\", line 177, in train\n",
      "    batch, enqueue_op, placeholders = setup_preloading(batch_spec)\n",
      "  File \"C:\\ProgramData\\Anaconda3\\envs\\dlc-windowsGPU\\lib\\site-packages\\deeplabcut\\pose_estimation_tensorflow\\train.py\", line 77, in setup_preloading\n",
      "    enqueue_op = q.enqueue(placeholders_list)\n",
      "  File \"C:\\ProgramData\\Anaconda3\\envs\\dlc-windowsGPU\\lib\\site-packages\\tensorflow\\python\\ops\\data_flow_ops.py\", line 345, in enqueue\n",
      "    self._queue_ref, vals, name=scope)\n",
      "  File \"C:\\ProgramData\\Anaconda3\\envs\\dlc-windowsGPU\\lib\\site-packages\\tensorflow\\python\\ops\\gen_data_flow_ops.py\", line 4158, in queue_enqueue_v2\n",
      "    timeout_ms=timeout_ms, name=name)\n",
      "  File \"C:\\ProgramData\\Anaconda3\\envs\\dlc-windowsGPU\\lib\\site-packages\\tensorflow\\python\\framework\\op_def_library.py\", line 788, in _apply_op_helper\n",
      "    op_def=op_def)\n",
      "  File \"C:\\ProgramData\\Anaconda3\\envs\\dlc-windowsGPU\\lib\\site-packages\\tensorflow\\python\\util\\deprecation.py\", line 507, in new_func\n",
      "    return func(*args, **kwargs)\n",
      "  File \"C:\\ProgramData\\Anaconda3\\envs\\dlc-windowsGPU\\lib\\site-packages\\tensorflow\\python\\framework\\ops.py\", line 3300, in create_op\n",
      "    op_def=op_def)\n",
      "  File \"C:\\ProgramData\\Anaconda3\\envs\\dlc-windowsGPU\\lib\\site-packages\\tensorflow\\python\\framework\\ops.py\", line 1801, in __init__\n",
      "    self._traceback = tf_stack.extract_stack()\n",
      "\n",
      "CancelledError (see above for traceback): Enqueue operation was cancelled\n",
      "\t [[node fifo_queue_enqueue (defined at C:\\ProgramData\\Anaconda3\\envs\\dlc-windowsGPU\\lib\\site-packages\\deeplabcut\\pose_estimation_tensorflow\\train.py:77) ]]\n",
      "\n"
     ]
    },
    {
     "name": "stderr",
     "output_type": "stream",
     "text": [
      "\n"
     ]
    },
    {
     "name": "stdout",
     "output_type": "stream",
     "text": [
      "The network is now trained and ready to evaluate. Use the function 'evaluate_network' to evaluate the network.\n"
     ]
    }
   ],
   "source": [
    "deeplabcut.train_network(config_path, displayiters=1000, saveiters=50000, maxiters=1030000)"
   ]
  },
  {
   "cell_type": "code",
   "execution_count": 8,
   "metadata": {},
   "outputs": [
    {
     "name": "stdout",
     "output_type": "stream",
     "text": [
      "C:\\Users\\GPU\\Documents\\DeepLabCut\\temp_kenzie\\CoM\\DTR-pre-kenzie-2023-07-21/evaluation-results/  already exists!\n"
     ]
    },
    {
     "name": "stderr",
     "output_type": "stream",
     "text": [
      "Config:\n",
      "{'all_joints': [[0],\n",
      "                [1],\n",
      "                [2],\n",
      "                [3],\n",
      "                [4],\n",
      "                [5],\n",
      "                [6],\n",
      "                [7],\n",
      "                [8],\n",
      "                [9],\n",
      "                [10],\n",
      "                [11],\n",
      "                [12],\n",
      "                [13],\n",
      "                [14],\n",
      "                [15],\n",
      "                [16],\n",
      "                [17],\n",
      "                [18]],\n",
      " 'all_joints_names': ['calib_1',\n",
      "                      'calib_2',\n",
      "                      'calib_3',\n",
      "                      'calib_4',\n",
      "                      'calib_5',\n",
      "                      'calib_6',\n",
      "                      'iliac_crest',\n",
      "                      'hip',\n",
      "                      'knee',\n",
      "                      'ankle',\n",
      "                      'metatarsal',\n",
      "                      'toe',\n",
      "                      'fl_toe',\n",
      "                      'mirror_lhl',\n",
      "                      'mirror_rhl',\n",
      "                      'mirror_lfl',\n",
      "                      'mirror_rfl',\n",
      "                      'mirror_com',\n",
      "                      'mirror'],\n",
      " 'batch_size': 1,\n",
      " 'crop_pad': 0,\n",
      " 'dataset': 'training-datasets\\\\iteration-0\\\\UnaugmentedDataSet_DTR-preJul21\\\\DTR-pre_kenzie95shuffle1.mat',\n",
      " 'dataset_type': 'imgaug',\n",
      " 'deterministic': False,\n",
      " 'fg_fraction': 0.25,\n",
      " 'global_scale': 0.8,\n",
      " 'init_weights': 'C:\\\\ProgramData\\\\Anaconda3\\\\envs\\\\dlc-windowsGPU\\\\lib\\\\site-packages\\\\deeplabcut\\\\pose_estimation_tensorflow\\\\models\\\\pretrained\\\\resnet_v1_50.ckpt',\n",
      " 'intermediate_supervision': False,\n",
      " 'intermediate_supervision_layer': 12,\n",
      " 'location_refinement': True,\n",
      " 'locref_huber_loss': True,\n",
      " 'locref_loss_weight': 1.0,\n",
      " 'locref_stdev': 7.2801,\n",
      " 'log_dir': 'log',\n",
      " 'mean_pixel': [123.68, 116.779, 103.939],\n",
      " 'mirror': False,\n",
      " 'net_type': 'resnet_50',\n",
      " 'num_joints': 19,\n",
      " 'optimizer': 'sgd',\n",
      " 'pairwise_huber_loss': True,\n",
      " 'pairwise_predict': False,\n",
      " 'partaffinityfield_predict': False,\n",
      " 'regularize': False,\n",
      " 'scoremap_dir': 'test',\n",
      " 'shuffle': True,\n",
      " 'snapshot_prefix': 'C:\\\\Users\\\\GPU\\\\Documents\\\\DeepLabCut\\\\temp_kenzie\\\\CoM\\\\DTR-pre-kenzie-2023-07-21\\\\dlc-models\\\\iteration-0\\\\DTR-preJul21-trainset95shuffle1\\\\test\\\\snapshot',\n",
      " 'stride': 8.0,\n",
      " 'weigh_negatives': False,\n",
      " 'weigh_only_present_joints': False,\n",
      " 'weigh_part_predictions': False,\n",
      " 'weight_decay': 0.0001}\n"
     ]
    },
    {
     "name": "stdout",
     "output_type": "stream",
     "text": [
      "C:\\Users\\GPU\\Documents\\DeepLabCut\\temp_kenzie\\CoM\\DTR-pre-kenzie-2023-07-21\\evaluation-results\\iteration-0\\DTR-preJul21-trainset95shuffle1  already exists!\n",
      "Running  DLC_resnet_50_DTR-preJul21shuffle1_1030000  with # of trainingiterations: 1030000\n",
      "This net has already been evaluated!\n",
      "Plotting...(attention scale might be inconsistent in comparison to when data was analyzed; i.e. if you used rescale)\n",
      "C:\\Users\\GPU\\Documents\\DeepLabCut\\temp_kenzie\\CoM\\DTR-pre-kenzie-2023-07-21\\evaluation-results\\iteration-0\\DTR-preJul21-trainset95shuffle1\\LabeledImages_DLC_resnet_50_DTR-preJul21shuffle1_1030000_snapshot-1030000  already exists!\n"
     ]
    },
    {
     "name": "stderr",
     "output_type": "stream",
     "text": [
      "100%|████████████████████████████████████████████████████████████████████████████████████████████| 240/240 [01:34<00:00,  2.55it/s]\n"
     ]
    }
   ],
   "source": [
    "deeplabcut.evaluate_network(config_path,Shuffles=[1], plotting=True)"
   ]
  },
  {
   "cell_type": "code",
   "execution_count": 9,
   "metadata": {},
   "outputs": [
    {
     "name": "stdout",
     "output_type": "stream",
     "text": [
      "C:\\Users\\GPU\\Documents\\DeepLabCut\\temp_kenzie\\CoM\\DTR-pre-kenzie-2023-07-21/evaluation-results/  already exists!\n"
     ]
    },
    {
     "name": "stderr",
     "output_type": "stream",
     "text": [
      "Config:\n",
      "{'all_joints': [[0],\n",
      "                [1],\n",
      "                [2],\n",
      "                [3],\n",
      "                [4],\n",
      "                [5],\n",
      "                [6],\n",
      "                [7],\n",
      "                [8],\n",
      "                [9],\n",
      "                [10],\n",
      "                [11],\n",
      "                [12],\n",
      "                [13],\n",
      "                [14],\n",
      "                [15],\n",
      "                [16],\n",
      "                [17],\n",
      "                [18]],\n",
      " 'all_joints_names': ['calib_1',\n",
      "                      'calib_2',\n",
      "                      'calib_3',\n",
      "                      'calib_4',\n",
      "                      'calib_5',\n",
      "                      'calib_6',\n",
      "                      'iliac_crest',\n",
      "                      'hip',\n",
      "                      'knee',\n",
      "                      'ankle',\n",
      "                      'metatarsal',\n",
      "                      'toe',\n",
      "                      'fl_toe',\n",
      "                      'mirror_lhl',\n",
      "                      'mirror_rhl',\n",
      "                      'mirror_lfl',\n",
      "                      'mirror_rfl',\n",
      "                      'mirror_com',\n",
      "                      'mirror'],\n",
      " 'batch_size': 1,\n",
      " 'crop_pad': 0,\n",
      " 'dataset': 'training-datasets\\\\iteration-0\\\\UnaugmentedDataSet_DTR-preJul21\\\\DTR-pre_kenzie95shuffle1.mat',\n",
      " 'dataset_type': 'imgaug',\n",
      " 'deterministic': False,\n",
      " 'fg_fraction': 0.25,\n",
      " 'global_scale': 0.8,\n",
      " 'init_weights': 'C:\\\\ProgramData\\\\Anaconda3\\\\envs\\\\dlc-windowsGPU\\\\lib\\\\site-packages\\\\deeplabcut\\\\pose_estimation_tensorflow\\\\models\\\\pretrained\\\\resnet_v1_50.ckpt',\n",
      " 'intermediate_supervision': False,\n",
      " 'intermediate_supervision_layer': 12,\n",
      " 'location_refinement': True,\n",
      " 'locref_huber_loss': True,\n",
      " 'locref_loss_weight': 1.0,\n",
      " 'locref_stdev': 7.2801,\n",
      " 'log_dir': 'log',\n",
      " 'mean_pixel': [123.68, 116.779, 103.939],\n",
      " 'mirror': False,\n",
      " 'net_type': 'resnet_50',\n",
      " 'num_joints': 19,\n",
      " 'optimizer': 'sgd',\n",
      " 'pairwise_huber_loss': True,\n",
      " 'pairwise_predict': False,\n",
      " 'partaffinityfield_predict': False,\n",
      " 'regularize': False,\n",
      " 'scoremap_dir': 'test',\n",
      " 'shuffle': True,\n",
      " 'snapshot_prefix': 'C:\\\\Users\\\\GPU\\\\Documents\\\\DeepLabCut\\\\temp_kenzie\\\\CoM\\\\DTR-pre-kenzie-2023-07-21\\\\dlc-models\\\\iteration-0\\\\DTR-preJul21-trainset95shuffle1\\\\test\\\\snapshot',\n",
      " 'stride': 8.0,\n",
      " 'weigh_negatives': False,\n",
      " 'weigh_only_present_joints': False,\n",
      " 'weigh_part_predictions': False,\n",
      " 'weight_decay': 0.0001}\n"
     ]
    },
    {
     "name": "stdout",
     "output_type": "stream",
     "text": [
      "C:\\Users\\GPU\\Documents\\DeepLabCut\\temp_kenzie\\CoM\\DTR-pre-kenzie-2023-07-21\\evaluation-results\\iteration-0\\DTR-preJul21-trainset95shuffle1  already exists!\n",
      "Initializing ResNet\n",
      "Analyzing data...\n"
     ]
    },
    {
     "name": "stderr",
     "output_type": "stream",
     "text": [
      "2it [00:01,  1.74it/s]\n"
     ]
    },
    {
     "name": "stdout",
     "output_type": "stream",
     "text": [
      "Saving plots...\n",
      "C:\\Users\\GPU\\Documents\\DeepLabCut\\temp_kenzie\\CoM\\DTR-pre-kenzie-2023-07-21\\evaluation-results\\iteration-0\\DTR-preJul21-trainset95shuffle1\\maps  already exists!\n"
     ]
    },
    {
     "name": "stderr",
     "output_type": "stream",
     "text": [
      "100%|████████████████████████████████████████████████████████████████████████████████████████████████| 2/2 [00:01<00:00,  1.02it/s]\n"
     ]
    }
   ],
   "source": [
    "deeplabcut.extract_save_all_maps(config_path, shuffle=1, Indices=[0, 5])"
   ]
  },
  {
   "cell_type": "code",
   "execution_count": null,
   "metadata": {},
   "outputs": [
    {
     "name": "stderr",
     "output_type": "stream",
     "text": [
      "Config:\n",
      "{'all_joints': [[0],\n",
      "                [1],\n",
      "                [2],\n",
      "                [3],\n",
      "                [4],\n",
      "                [5],\n",
      "                [6],\n",
      "                [7],\n",
      "                [8],\n",
      "                [9],\n",
      "                [10],\n",
      "                [11],\n",
      "                [12],\n",
      "                [13],\n",
      "                [14],\n",
      "                [15],\n",
      "                [16],\n",
      "                [17],\n",
      "                [18]],\n",
      " 'all_joints_names': ['calib_1',\n",
      "                      'calib_2',\n",
      "                      'calib_3',\n",
      "                      'calib_4',\n",
      "                      'calib_5',\n",
      "                      'calib_6',\n",
      "                      'iliac_crest',\n",
      "                      'hip',\n",
      "                      'knee',\n",
      "                      'ankle',\n",
      "                      'metatarsal',\n",
      "                      'toe',\n",
      "                      'fl_toe',\n",
      "                      'mirror_lhl',\n",
      "                      'mirror_rhl',\n",
      "                      'mirror_lfl',\n",
      "                      'mirror_rfl',\n",
      "                      'mirror_com',\n",
      "                      'mirror'],\n",
      " 'batch_size': 1,\n",
      " 'crop_pad': 0,\n",
      " 'dataset': 'training-datasets\\\\iteration-0\\\\UnaugmentedDataSet_DTR-preJul21\\\\DTR-pre_kenzie95shuffle1.mat',\n",
      " 'dataset_type': 'imgaug',\n",
      " 'deterministic': False,\n",
      " 'fg_fraction': 0.25,\n",
      " 'global_scale': 0.8,\n",
      " 'init_weights': 'C:\\\\ProgramData\\\\Anaconda3\\\\envs\\\\dlc-windowsGPU\\\\lib\\\\site-packages\\\\deeplabcut\\\\pose_estimation_tensorflow\\\\models\\\\pretrained\\\\resnet_v1_50.ckpt',\n",
      " 'intermediate_supervision': False,\n",
      " 'intermediate_supervision_layer': 12,\n",
      " 'location_refinement': True,\n",
      " 'locref_huber_loss': True,\n",
      " 'locref_loss_weight': 1.0,\n",
      " 'locref_stdev': 7.2801,\n",
      " 'log_dir': 'log',\n",
      " 'mean_pixel': [123.68, 116.779, 103.939],\n",
      " 'mirror': False,\n",
      " 'net_type': 'resnet_50',\n",
      " 'num_joints': 19,\n",
      " 'optimizer': 'sgd',\n",
      " 'pairwise_huber_loss': True,\n",
      " 'pairwise_predict': False,\n",
      " 'partaffinityfield_predict': False,\n",
      " 'regularize': False,\n",
      " 'scoremap_dir': 'test',\n",
      " 'shuffle': True,\n",
      " 'snapshot_prefix': 'C:\\\\Users\\\\GPU\\\\Documents\\\\DeepLabCut\\\\temp_kenzie\\\\CoM\\\\DTR-pre-kenzie-2023-07-21\\\\dlc-models\\\\iteration-0\\\\DTR-preJul21-trainset95shuffle1\\\\test\\\\snapshot',\n",
      " 'stride': 8.0,\n",
      " 'weigh_negatives': False,\n",
      " 'weigh_only_present_joints': False,\n",
      " 'weigh_part_predictions': False,\n",
      " 'weight_decay': 0.0001}\n"
     ]
    },
    {
     "name": "stdout",
     "output_type": "stream",
     "text": [
      "Using snapshot-1030000 for model C:\\Users\\GPU\\Documents\\DeepLabCut\\temp_kenzie\\CoM\\DTR-pre-kenzie-2023-07-21\\dlc-models\\iteration-0\\DTR-preJul21-trainset95shuffle1\n",
      "Initializing ResNet\n",
      "Starting to analyze %  C:\\Users\\GPU\\Documents\\DeepLabCut\\temp_kenzie\\CoM\\DTR\\DTR-M1\\DTR M1 20230404_Pre DTX\\CoM DTR M1 ts3_000000.avi\n",
      "C:\\Users\\GPU\\Documents\\DeepLabCut\\temp_kenzie\\CoM\\DTR\\DTR-M1\\DTR M1 20230404_Pre DTX  already exists!\n",
      "Starting to analyze %  C:\\Users\\GPU\\Documents\\DeepLabCut\\temp_kenzie\\CoM\\DTR\\DTR-M1\\DTR M1 20230404_Pre DTX\\CoM DTR M1 ts3_000001.avi\n",
      "C:\\Users\\GPU\\Documents\\DeepLabCut\\temp_kenzie\\CoM\\DTR\\DTR-M1\\DTR M1 20230404_Pre DTX  already exists!\n",
      "Starting to analyze %  C:\\Users\\GPU\\Documents\\DeepLabCut\\temp_kenzie\\CoM\\DTR\\DTR-M1\\DTR M1 20230404_Pre DTX\\CoM DTR M1 ts3_000002.avi\n",
      "C:\\Users\\GPU\\Documents\\DeepLabCut\\temp_kenzie\\CoM\\DTR\\DTR-M1\\DTR M1 20230404_Pre DTX  already exists!\n",
      "Starting to analyze %  C:\\Users\\GPU\\Documents\\DeepLabCut\\temp_kenzie\\CoM\\DTR\\DTR-M1\\DTR M1 20230404_Pre DTX\\CoM DTR M1 ts3_000003.avi\n",
      "C:\\Users\\GPU\\Documents\\DeepLabCut\\temp_kenzie\\CoM\\DTR\\DTR-M1\\DTR M1 20230404_Pre DTX  already exists!\n",
      "Starting to analyze %  C:\\Users\\GPU\\Documents\\DeepLabCut\\temp_kenzie\\CoM\\DTR\\DTR-M1\\DTR M1 20230404_Pre DTX\\CoM DTR M1 ts3_000004.avi\n",
      "C:\\Users\\GPU\\Documents\\DeepLabCut\\temp_kenzie\\CoM\\DTR\\DTR-M1\\DTR M1 20230404_Pre DTX  already exists!\n",
      "Starting to analyze %  C:\\Users\\GPU\\Documents\\DeepLabCut\\temp_kenzie\\CoM\\DTR\\DTR-M1\\DTR M1 20230404_Pre DTX\\CoM DTR M1 ts3_000005.avi\n",
      "C:\\Users\\GPU\\Documents\\DeepLabCut\\temp_kenzie\\CoM\\DTR\\DTR-M1\\DTR M1 20230404_Pre DTX  already exists!\n",
      "Starting to analyze %  C:\\Users\\GPU\\Documents\\DeepLabCut\\temp_kenzie\\CoM\\DTR\\DTR-M1\\DTR M1 20230404_Pre DTX\\CoM DTR M1 ts3_000006.avi\n",
      "C:\\Users\\GPU\\Documents\\DeepLabCut\\temp_kenzie\\CoM\\DTR\\DTR-M1\\DTR M1 20230404_Pre DTX  already exists!\n",
      "Starting to analyze %  C:\\Users\\GPU\\Documents\\DeepLabCut\\temp_kenzie\\CoM\\DTR\\DTR-M1\\DTR M1 20230404_Pre DTX\\CoM DTR M1 ts3_000007.avi\n",
      "C:\\Users\\GPU\\Documents\\DeepLabCut\\temp_kenzie\\CoM\\DTR\\DTR-M1\\DTR M1 20230404_Pre DTX  already exists!\n",
      "Starting to analyze %  C:\\Users\\GPU\\Documents\\DeepLabCut\\temp_kenzie\\CoM\\DTR\\DTR-M1\\DTR M1 20230404_Pre DTX\\CoM DTR M1 ts3_000008.avi\n",
      "C:\\Users\\GPU\\Documents\\DeepLabCut\\temp_kenzie\\CoM\\DTR\\DTR-M1\\DTR M1 20230404_Pre DTX  already exists!\n",
      "Starting to analyze %  C:\\Users\\GPU\\Documents\\DeepLabCut\\temp_kenzie\\CoM\\DTR\\DTR-M1\\DTR M1 20230404_Pre DTX\\CoM DTR M1 ts3_000009.avi\n",
      "C:\\Users\\GPU\\Documents\\DeepLabCut\\temp_kenzie\\CoM\\DTR\\DTR-M1\\DTR M1 20230404_Pre DTX  already exists!\n",
      "Starting to analyze %  C:\\Users\\GPU\\Documents\\DeepLabCut\\temp_kenzie\\CoM\\DTR\\DTR-M1\\DTR M1 20230404_Pre DTX\\CoM DTR M1 ts3_000010.avi\n",
      "C:\\Users\\GPU\\Documents\\DeepLabCut\\temp_kenzie\\CoM\\DTR\\DTR-M1\\DTR M1 20230404_Pre DTX  already exists!\n",
      "Starting to analyze %  C:\\Users\\GPU\\Documents\\DeepLabCut\\temp_kenzie\\CoM\\DTR\\DTR-M1\\DTR M1 20230404_Pre DTX\\CoM DTR M1 ts3_000011.avi\n",
      "C:\\Users\\GPU\\Documents\\DeepLabCut\\temp_kenzie\\CoM\\DTR\\DTR-M1\\DTR M1 20230404_Pre DTX  already exists!\n",
      "Starting to analyze %  C:\\Users\\GPU\\Documents\\DeepLabCut\\temp_kenzie\\CoM\\DTR\\DTR-M2\\DTR M2 20230405_Pre DTX\\CoM DTR M2 ts3_000000.avi\n",
      "C:\\Users\\GPU\\Documents\\DeepLabCut\\temp_kenzie\\CoM\\DTR\\DTR-M2\\DTR M2 20230405_Pre DTX  already exists!\n",
      "Starting to analyze %  C:\\Users\\GPU\\Documents\\DeepLabCut\\temp_kenzie\\CoM\\DTR\\DTR-M2\\DTR M2 20230405_Pre DTX\\CoM DTR M2 ts3_000001.avi\n",
      "C:\\Users\\GPU\\Documents\\DeepLabCut\\temp_kenzie\\CoM\\DTR\\DTR-M2\\DTR M2 20230405_Pre DTX  already exists!\n",
      "Starting to analyze %  C:\\Users\\GPU\\Documents\\DeepLabCut\\temp_kenzie\\CoM\\DTR\\DTR-M2\\DTR M2 20230405_Pre DTX\\CoM DTR M2 ts3_000002.avi\n",
      "C:\\Users\\GPU\\Documents\\DeepLabCut\\temp_kenzie\\CoM\\DTR\\DTR-M2\\DTR M2 20230405_Pre DTX  already exists!\n",
      "Starting to analyze %  C:\\Users\\GPU\\Documents\\DeepLabCut\\temp_kenzie\\CoM\\DTR\\DTR-M2\\DTR M2 20230405_Pre DTX\\CoM DTR M2 ts3_000003.avi\n",
      "C:\\Users\\GPU\\Documents\\DeepLabCut\\temp_kenzie\\CoM\\DTR\\DTR-M2\\DTR M2 20230405_Pre DTX  already exists!\n",
      "Starting to analyze %  C:\\Users\\GPU\\Documents\\DeepLabCut\\temp_kenzie\\CoM\\DTR\\DTR-M2\\DTR M2 20230405_Pre DTX\\CoM DTR M2 ts3_000004.avi\n",
      "C:\\Users\\GPU\\Documents\\DeepLabCut\\temp_kenzie\\CoM\\DTR\\DTR-M2\\DTR M2 20230405_Pre DTX  already exists!\n",
      "Starting to analyze %  C:\\Users\\GPU\\Documents\\DeepLabCut\\temp_kenzie\\CoM\\DTR\\DTR-M2\\DTR M2 20230405_Pre DTX\\CoM DTR M2 ts3_000005.avi\n",
      "C:\\Users\\GPU\\Documents\\DeepLabCut\\temp_kenzie\\CoM\\DTR\\DTR-M2\\DTR M2 20230405_Pre DTX  already exists!\n",
      "Starting to analyze %  C:\\Users\\GPU\\Documents\\DeepLabCut\\temp_kenzie\\CoM\\DTR\\DTR-M2\\DTR M2 20230405_Pre DTX\\CoM DTR M2 ts3_000006.avi\n",
      "C:\\Users\\GPU\\Documents\\DeepLabCut\\temp_kenzie\\CoM\\DTR\\DTR-M2\\DTR M2 20230405_Pre DTX  already exists!\n",
      "Starting to analyze %  C:\\Users\\GPU\\Documents\\DeepLabCut\\temp_kenzie\\CoM\\DTR\\DTR-M2\\DTR M2 20230405_Pre DTX\\CoM DTR M2 ts3_000007.avi\n",
      "C:\\Users\\GPU\\Documents\\DeepLabCut\\temp_kenzie\\CoM\\DTR\\DTR-M2\\DTR M2 20230405_Pre DTX  already exists!\n",
      "Starting to analyze %  C:\\Users\\GPU\\Documents\\DeepLabCut\\temp_kenzie\\CoM\\DTR\\DTR-M2\\DTR M2 20230405_Pre DTX\\CoM DTR M2 ts3_000008.avi\n",
      "C:\\Users\\GPU\\Documents\\DeepLabCut\\temp_kenzie\\CoM\\DTR\\DTR-M2\\DTR M2 20230405_Pre DTX  already exists!\n",
      "Starting to analyze %  C:\\Users\\GPU\\Documents\\DeepLabCut\\temp_kenzie\\CoM\\DTR\\DTR-M2\\DTR M2 20230405_Pre DTX\\CoM DTR M2 ts3_000009.avi\n",
      "C:\\Users\\GPU\\Documents\\DeepLabCut\\temp_kenzie\\CoM\\DTR\\DTR-M2\\DTR M2 20230405_Pre DTX  already exists!\n",
      "Starting to analyze %  C:\\Users\\GPU\\Documents\\DeepLabCut\\temp_kenzie\\CoM\\DTR\\DTR-M2\\DTR M2 20230405_Pre DTX\\CoM DTR M2 ts3_000010.avi\n",
      "C:\\Users\\GPU\\Documents\\DeepLabCut\\temp_kenzie\\CoM\\DTR\\DTR-M2\\DTR M2 20230405_Pre DTX  already exists!\n",
      "Starting to analyze %  C:\\Users\\GPU\\Documents\\DeepLabCut\\temp_kenzie\\CoM\\DTR\\DTR-M2\\DTR M2 20230405_Pre DTX\\CoM DTR M2 ts3_000011.avi\n",
      "C:\\Users\\GPU\\Documents\\DeepLabCut\\temp_kenzie\\CoM\\DTR\\DTR-M2\\DTR M2 20230405_Pre DTX  already exists!\n",
      "Starting to analyze %  C:\\Users\\GPU\\Documents\\DeepLabCut\\temp_kenzie\\CoM\\DTR\\DTR-M2\\DTR M2 20230405_Pre DTX\\CoM DTR M2 ts3_000012.avi\n",
      "C:\\Users\\GPU\\Documents\\DeepLabCut\\temp_kenzie\\CoM\\DTR\\DTR-M2\\DTR M2 20230405_Pre DTX  already exists!\n",
      "Starting to analyze %  C:\\Users\\GPU\\Documents\\DeepLabCut\\temp_kenzie\\CoM\\DTR\\DTR-M2\\DTR M2 20230405_Pre DTX\\CoM DTR M2 ts3_000013.avi\n",
      "C:\\Users\\GPU\\Documents\\DeepLabCut\\temp_kenzie\\CoM\\DTR\\DTR-M2\\DTR M2 20230405_Pre DTX  already exists!\n",
      "Starting to analyze %  C:\\Users\\GPU\\Documents\\DeepLabCut\\temp_kenzie\\CoM\\DTR\\DTR-M2\\DTR M2 20230405_Pre DTX\\CoM DTR M2 ts3_000014.avi\n",
      "C:\\Users\\GPU\\Documents\\DeepLabCut\\temp_kenzie\\CoM\\DTR\\DTR-M2\\DTR M2 20230405_Pre DTX  already exists!\n",
      "Starting to analyze %  C:\\Users\\GPU\\Documents\\DeepLabCut\\temp_kenzie\\CoM\\DTR\\DTR-M2\\DTR M2 20230405_Pre DTX\\CoM DTR M2 ts3_000015.avi\n",
      "C:\\Users\\GPU\\Documents\\DeepLabCut\\temp_kenzie\\CoM\\DTR\\DTR-M2\\DTR M2 20230405_Pre DTX  already exists!\n",
      "Starting to analyze %  C:\\Users\\GPU\\Documents\\DeepLabCut\\temp_kenzie\\CoM\\DTR\\DTR-M2\\DTR M2 20230405_Pre DTX\\CoM DTR M2 ts3_000016.avi\n",
      "C:\\Users\\GPU\\Documents\\DeepLabCut\\temp_kenzie\\CoM\\DTR\\DTR-M2\\DTR M2 20230405_Pre DTX  already exists!\n",
      "Starting to analyze %  C:\\Users\\GPU\\Documents\\DeepLabCut\\temp_kenzie\\CoM\\DTR\\DTR-M2\\DTR M2 20230405_Pre DTX\\CoM DTR M2 ts3_000017.avi\n",
      "C:\\Users\\GPU\\Documents\\DeepLabCut\\temp_kenzie\\CoM\\DTR\\DTR-M2\\DTR M2 20230405_Pre DTX  already exists!\n",
      "Starting to analyze %  C:\\Users\\GPU\\Documents\\DeepLabCut\\temp_kenzie\\CoM\\DTR\\DTR-M2\\DTR M2 20230405_Pre DTX\\CoM DTR M2 ts3_000018.avi\n",
      "C:\\Users\\GPU\\Documents\\DeepLabCut\\temp_kenzie\\CoM\\DTR\\DTR-M2\\DTR M2 20230405_Pre DTX  already exists!\n",
      "Starting to analyze %  C:\\Users\\GPU\\Documents\\DeepLabCut\\temp_kenzie\\CoM\\DTR\\DTR-M2\\DTR M2 20230405_Pre DTX\\CoM DTR M2 ts3_000019.avi\n",
      "C:\\Users\\GPU\\Documents\\DeepLabCut\\temp_kenzie\\CoM\\DTR\\DTR-M2\\DTR M2 20230405_Pre DTX  already exists!\n",
      "Starting to analyze %  C:\\Users\\GPU\\Documents\\DeepLabCut\\temp_kenzie\\CoM\\DTR\\DTR-M2\\DTR M2 20230405_Pre DTX\\CoM DTR M2 ts3_000020.avi\n",
      "C:\\Users\\GPU\\Documents\\DeepLabCut\\temp_kenzie\\CoM\\DTR\\DTR-M2\\DTR M2 20230405_Pre DTX  already exists!\n",
      "Starting to analyze %  C:\\Users\\GPU\\Documents\\DeepLabCut\\temp_kenzie\\CoM\\DTR\\DTR-M2\\DTR M2 20230405_Pre DTX\\CoM DTR M2 ts3_000021.avi\n",
      "C:\\Users\\GPU\\Documents\\DeepLabCut\\temp_kenzie\\CoM\\DTR\\DTR-M2\\DTR M2 20230405_Pre DTX  already exists!\n",
      "Starting to analyze %  C:\\Users\\GPU\\Documents\\DeepLabCut\\temp_kenzie\\CoM\\DTR\\DTR-M2\\DTR M2 20230405_Pre DTX\\CoM DTR M2 ts3_000022.avi\n",
      "C:\\Users\\GPU\\Documents\\DeepLabCut\\temp_kenzie\\CoM\\DTR\\DTR-M2\\DTR M2 20230405_Pre DTX  already exists!\n",
      "Starting to analyze %  C:\\Users\\GPU\\Documents\\DeepLabCut\\temp_kenzie\\CoM\\DTR\\DTR-M2\\DTR M2 20230405_Pre DTX\\CoM DTR M2 ts3_000023.avi\n",
      "C:\\Users\\GPU\\Documents\\DeepLabCut\\temp_kenzie\\CoM\\DTR\\DTR-M2\\DTR M2 20230405_Pre DTX  already exists!\n",
      "Starting to analyze %  C:\\Users\\GPU\\Documents\\DeepLabCut\\temp_kenzie\\CoM\\DTR\\DTR-M3\\DTR M3 20230411_Pre DTX\\CoM DTR M3 ts3_000000.avi\n",
      "C:\\Users\\GPU\\Documents\\DeepLabCut\\temp_kenzie\\CoM\\DTR\\DTR-M3\\DTR M3 20230411_Pre DTX  already exists!\n",
      "Starting to analyze %  C:\\Users\\GPU\\Documents\\DeepLabCut\\temp_kenzie\\CoM\\DTR\\DTR-M3\\DTR M3 20230411_Pre DTX\\CoM DTR M3 ts3_000001.avi\n",
      "C:\\Users\\GPU\\Documents\\DeepLabCut\\temp_kenzie\\CoM\\DTR\\DTR-M3\\DTR M3 20230411_Pre DTX  already exists!\n",
      "Starting to analyze %  C:\\Users\\GPU\\Documents\\DeepLabCut\\temp_kenzie\\CoM\\DTR\\DTR-M3\\DTR M3 20230411_Pre DTX\\CoM DTR M3 ts3_000002.avi\n",
      "C:\\Users\\GPU\\Documents\\DeepLabCut\\temp_kenzie\\CoM\\DTR\\DTR-M3\\DTR M3 20230411_Pre DTX  already exists!\n",
      "Starting to analyze %  C:\\Users\\GPU\\Documents\\DeepLabCut\\temp_kenzie\\CoM\\DTR\\DTR-M3\\DTR M3 20230411_Pre DTX\\CoM DTR M3 ts3_000003.avi\n",
      "C:\\Users\\GPU\\Documents\\DeepLabCut\\temp_kenzie\\CoM\\DTR\\DTR-M3\\DTR M3 20230411_Pre DTX  already exists!\n",
      "Starting to analyze %  C:\\Users\\GPU\\Documents\\DeepLabCut\\temp_kenzie\\CoM\\DTR\\DTR-M3\\DTR M3 20230411_Pre DTX\\CoM DTR M3 ts3_000004.avi\n",
      "C:\\Users\\GPU\\Documents\\DeepLabCut\\temp_kenzie\\CoM\\DTR\\DTR-M3\\DTR M3 20230411_Pre DTX  already exists!\n",
      "Starting to analyze %  C:\\Users\\GPU\\Documents\\DeepLabCut\\temp_kenzie\\CoM\\DTR\\DTR-M3\\DTR M3 20230411_Pre DTX\\CoM DTR M3 ts3_000005.avi\n",
      "C:\\Users\\GPU\\Documents\\DeepLabCut\\temp_kenzie\\CoM\\DTR\\DTR-M3\\DTR M3 20230411_Pre DTX  already exists!\n",
      "Starting to analyze %  C:\\Users\\GPU\\Documents\\DeepLabCut\\temp_kenzie\\CoM\\DTR\\DTR-M3\\DTR M3 20230411_Pre DTX\\CoM DTR M3 ts3_000006.avi\n",
      "C:\\Users\\GPU\\Documents\\DeepLabCut\\temp_kenzie\\CoM\\DTR\\DTR-M3\\DTR M3 20230411_Pre DTX  already exists!\n",
      "Starting to analyze %  C:\\Users\\GPU\\Documents\\DeepLabCut\\temp_kenzie\\CoM\\DTR\\DTR-M3\\DTR M3 20230411_Pre DTX\\CoM DTR M3 ts3_000007.avi\n",
      "C:\\Users\\GPU\\Documents\\DeepLabCut\\temp_kenzie\\CoM\\DTR\\DTR-M3\\DTR M3 20230411_Pre DTX  already exists!\n",
      "Starting to analyze %  C:\\Users\\GPU\\Documents\\DeepLabCut\\temp_kenzie\\CoM\\DTR\\DTR-M3\\DTR M3 20230411_Pre DTX\\CoM DTR M3 ts3_000008.avi\n",
      "C:\\Users\\GPU\\Documents\\DeepLabCut\\temp_kenzie\\CoM\\DTR\\DTR-M3\\DTR M3 20230411_Pre DTX  already exists!\n",
      "Starting to analyze %  C:\\Users\\GPU\\Documents\\DeepLabCut\\temp_kenzie\\CoM\\DTR\\DTR-M3\\DTR M3 20230411_Pre DTX\\CoM DTR M3 ts3_000009.avi\n",
      "C:\\Users\\GPU\\Documents\\DeepLabCut\\temp_kenzie\\CoM\\DTR\\DTR-M3\\DTR M3 20230411_Pre DTX  already exists!\n",
      "Starting to analyze %  C:\\Users\\GPU\\Documents\\DeepLabCut\\temp_kenzie\\CoM\\DTR\\DTR-M3\\DTR M3 20230411_Pre DTX\\CoM DTR M3 ts3_000010.avi\n",
      "C:\\Users\\GPU\\Documents\\DeepLabCut\\temp_kenzie\\CoM\\DTR\\DTR-M3\\DTR M3 20230411_Pre DTX  already exists!\n",
      "Starting to analyze %  C:\\Users\\GPU\\Documents\\DeepLabCut\\temp_kenzie\\CoM\\DTR\\DTR-M3\\DTR M3 20230411_Pre DTX\\CoM DTR M3 ts3_000011.avi\n",
      "C:\\Users\\GPU\\Documents\\DeepLabCut\\temp_kenzie\\CoM\\DTR\\DTR-M3\\DTR M3 20230411_Pre DTX  already exists!\n",
      "Starting to analyze %  C:\\Users\\GPU\\Documents\\DeepLabCut\\temp_kenzie\\CoM\\DTR\\DTR-M3\\DTR M3 20230411_Pre DTX\\CoM DTR M3 ts3_000012.avi\n",
      "C:\\Users\\GPU\\Documents\\DeepLabCut\\temp_kenzie\\CoM\\DTR\\DTR-M3\\DTR M3 20230411_Pre DTX  already exists!\n",
      "Starting to analyze %  C:\\Users\\GPU\\Documents\\DeepLabCut\\temp_kenzie\\CoM\\DTR\\DTR-M3\\DTR M3 20230411_Pre DTX\\CoM DTR M3 ts3_000013.avi\n",
      "C:\\Users\\GPU\\Documents\\DeepLabCut\\temp_kenzie\\CoM\\DTR\\DTR-M3\\DTR M3 20230411_Pre DTX  already exists!\n",
      "Starting to analyze %  C:\\Users\\GPU\\Documents\\DeepLabCut\\temp_kenzie\\CoM\\DTR\\DTR-M3\\DTR M3 20230411_Pre DTX\\CoM DTR M3 ts3_000014.avi\n",
      "C:\\Users\\GPU\\Documents\\DeepLabCut\\temp_kenzie\\CoM\\DTR\\DTR-M3\\DTR M3 20230411_Pre DTX  already exists!\n",
      "Starting to analyze %  C:\\Users\\GPU\\Documents\\DeepLabCut\\temp_kenzie\\CoM\\DTR\\DTR-M3\\DTR M3 20230411_Pre DTX\\CoM DTR M3 ts3_000015.avi\n",
      "C:\\Users\\GPU\\Documents\\DeepLabCut\\temp_kenzie\\CoM\\DTR\\DTR-M3\\DTR M3 20230411_Pre DTX  already exists!\n",
      "Starting to analyze %  C:\\Users\\GPU\\Documents\\DeepLabCut\\temp_kenzie\\CoM\\DTR\\DTR-M3\\DTR M3 20230411_Pre DTX\\CoM DTR M3 ts3_000016.avi\n",
      "C:\\Users\\GPU\\Documents\\DeepLabCut\\temp_kenzie\\CoM\\DTR\\DTR-M3\\DTR M3 20230411_Pre DTX  already exists!\n",
      "Starting to analyze %  C:\\Users\\GPU\\Documents\\DeepLabCut\\temp_kenzie\\CoM\\DTR\\DTR-M3\\DTR M3 20230411_Pre DTX\\CoM DTR M3 ts3_000017.avi\n",
      "C:\\Users\\GPU\\Documents\\DeepLabCut\\temp_kenzie\\CoM\\DTR\\DTR-M3\\DTR M3 20230411_Pre DTX  already exists!\n",
      "Starting to analyze %  C:\\Users\\GPU\\Documents\\DeepLabCut\\temp_kenzie\\CoM\\DTR\\DTR-M3\\DTR M3 20230411_Pre DTX\\CoM DTR M3 ts3_000018.avi\n",
      "C:\\Users\\GPU\\Documents\\DeepLabCut\\temp_kenzie\\CoM\\DTR\\DTR-M3\\DTR M3 20230411_Pre DTX  already exists!\n",
      "Starting to analyze %  C:\\Users\\GPU\\Documents\\DeepLabCut\\temp_kenzie\\CoM\\DTR\\DTR-M3\\DTR M3 20230411_Pre DTX\\CoM DTR M3 ts3_000019.avi\n",
      "C:\\Users\\GPU\\Documents\\DeepLabCut\\temp_kenzie\\CoM\\DTR\\DTR-M3\\DTR M3 20230411_Pre DTX  already exists!\n",
      "Starting to analyze %  C:\\Users\\GPU\\Documents\\DeepLabCut\\temp_kenzie\\CoM\\DTR\\DTR-M3\\DTR M3 20230411_Pre DTX\\CoM DTR M3 ts3_000020.avi\n",
      "C:\\Users\\GPU\\Documents\\DeepLabCut\\temp_kenzie\\CoM\\DTR\\DTR-M3\\DTR M3 20230411_Pre DTX  already exists!\n",
      "Starting to analyze %  C:\\Users\\GPU\\Documents\\DeepLabCut\\temp_kenzie\\CoM\\DTR\\DTR-M3\\DTR M3 20230411_Pre DTX\\CoM DTR M3 ts3_000021.avi\n",
      "C:\\Users\\GPU\\Documents\\DeepLabCut\\temp_kenzie\\CoM\\DTR\\DTR-M3\\DTR M3 20230411_Pre DTX  already exists!\n",
      "Starting to analyze %  C:\\Users\\GPU\\Documents\\DeepLabCut\\temp_kenzie\\CoM\\DTR\\DTR-M3\\DTR M3 20230411_Pre DTX\\CoM DTR M3 ts3_000022.avi\n",
      "C:\\Users\\GPU\\Documents\\DeepLabCut\\temp_kenzie\\CoM\\DTR\\DTR-M3\\DTR M3 20230411_Pre DTX  already exists!\n",
      "Starting to analyze %  C:\\Users\\GPU\\Documents\\DeepLabCut\\temp_kenzie\\CoM\\DTR\\DTR-M3\\DTR M3 20230411_Pre DTX\\CoM DTR M3 ts3_000023.avi\n",
      "C:\\Users\\GPU\\Documents\\DeepLabCut\\temp_kenzie\\CoM\\DTR\\DTR-M3\\DTR M3 20230411_Pre DTX  already exists!\n",
      "Starting to analyze %  C:\\Users\\GPU\\Documents\\DeepLabCut\\temp_kenzie\\CoM\\DTR\\DTR-M3\\DTR M3 20230411_Pre DTX\\CoM DTR M3 ts3_000024.avi\n",
      "C:\\Users\\GPU\\Documents\\DeepLabCut\\temp_kenzie\\CoM\\DTR\\DTR-M3\\DTR M3 20230411_Pre DTX  already exists!\n",
      "Starting to analyze %  C:\\Users\\GPU\\Documents\\DeepLabCut\\temp_kenzie\\CoM\\DTR\\DTR-M3\\DTR M3 20230411_Pre DTX\\CoM DTR M3 ts3_000025.avi\n",
      "C:\\Users\\GPU\\Documents\\DeepLabCut\\temp_kenzie\\CoM\\DTR\\DTR-M3\\DTR M3 20230411_Pre DTX  already exists!\n",
      "Starting to analyze %  C:\\Users\\GPU\\Documents\\DeepLabCut\\temp_kenzie\\CoM\\DTR\\DTR-M5\\DTR-M5-20230404_pre-DTX\\CoM DTR M5 ts3_000000.avi\n",
      "C:\\Users\\GPU\\Documents\\DeepLabCut\\temp_kenzie\\CoM\\DTR\\DTR-M5\\DTR-M5-20230404_pre-DTX  already exists!\n",
      "Starting to analyze %  C:\\Users\\GPU\\Documents\\DeepLabCut\\temp_kenzie\\CoM\\DTR\\DTR-M5\\DTR-M5-20230404_pre-DTX\\CoM DTR M5 ts3_000001.avi\n",
      "C:\\Users\\GPU\\Documents\\DeepLabCut\\temp_kenzie\\CoM\\DTR\\DTR-M5\\DTR-M5-20230404_pre-DTX  already exists!\n",
      "Starting to analyze %  C:\\Users\\GPU\\Documents\\DeepLabCut\\temp_kenzie\\CoM\\DTR\\DTR-M5\\DTR-M5-20230404_pre-DTX\\CoM DTR M5 ts3_000002.avi\n",
      "C:\\Users\\GPU\\Documents\\DeepLabCut\\temp_kenzie\\CoM\\DTR\\DTR-M5\\DTR-M5-20230404_pre-DTX  already exists!\n",
      "Starting to analyze %  C:\\Users\\GPU\\Documents\\DeepLabCut\\temp_kenzie\\CoM\\DTR\\DTR-M5\\DTR-M5-20230404_pre-DTX\\CoM DTR M5 ts3_000003.avi\n",
      "C:\\Users\\GPU\\Documents\\DeepLabCut\\temp_kenzie\\CoM\\DTR\\DTR-M5\\DTR-M5-20230404_pre-DTX  already exists!\n",
      "Starting to analyze %  C:\\Users\\GPU\\Documents\\DeepLabCut\\temp_kenzie\\CoM\\DTR\\DTR-M5\\DTR-M5-20230404_pre-DTX\\CoM DTR M5 ts3_000004.avi\n",
      "C:\\Users\\GPU\\Documents\\DeepLabCut\\temp_kenzie\\CoM\\DTR\\DTR-M5\\DTR-M5-20230404_pre-DTX  already exists!\n",
      "Starting to analyze %  C:\\Users\\GPU\\Documents\\DeepLabCut\\temp_kenzie\\CoM\\DTR\\DTR-M5\\DTR-M5-20230404_pre-DTX\\CoM DTR M5 ts3_000005.avi\n",
      "C:\\Users\\GPU\\Documents\\DeepLabCut\\temp_kenzie\\CoM\\DTR\\DTR-M5\\DTR-M5-20230404_pre-DTX  already exists!\n"
     ]
    },
    {
     "name": "stdout",
     "output_type": "stream",
     "text": [
      "Starting to analyze %  C:\\Users\\GPU\\Documents\\DeepLabCut\\temp_kenzie\\CoM\\DTR\\DTR-M5\\DTR-M5-20230404_pre-DTX\\CoM DTR M5 ts3_000006.avi\n",
      "C:\\Users\\GPU\\Documents\\DeepLabCut\\temp_kenzie\\CoM\\DTR\\DTR-M5\\DTR-M5-20230404_pre-DTX  already exists!\n",
      "Starting to analyze %  C:\\Users\\GPU\\Documents\\DeepLabCut\\temp_kenzie\\CoM\\DTR\\DTR-M5\\DTR-M5-20230404_pre-DTX\\CoM DTR M5 ts3_000007.avi\n",
      "C:\\Users\\GPU\\Documents\\DeepLabCut\\temp_kenzie\\CoM\\DTR\\DTR-M5\\DTR-M5-20230404_pre-DTX  already exists!\n",
      "Starting to analyze %  C:\\Users\\GPU\\Documents\\DeepLabCut\\temp_kenzie\\CoM\\DTR\\DTR-M5\\DTR-M5-20230404_pre-DTX\\CoM DTR M5 ts3_000008.avi\n",
      "C:\\Users\\GPU\\Documents\\DeepLabCut\\temp_kenzie\\CoM\\DTR\\DTR-M5\\DTR-M5-20230404_pre-DTX  already exists!\n",
      "Starting to analyze %  C:\\Users\\GPU\\Documents\\DeepLabCut\\temp_kenzie\\CoM\\DTR\\DTR-M5\\DTR-M5-20230404_pre-DTX\\CoM DTR M5 ts3_000009.avi\n",
      "C:\\Users\\GPU\\Documents\\DeepLabCut\\temp_kenzie\\CoM\\DTR\\DTR-M5\\DTR-M5-20230404_pre-DTX  already exists!\n",
      "Starting to analyze %  C:\\Users\\GPU\\Documents\\DeepLabCut\\temp_kenzie\\CoM\\DTR\\DTR-M5\\DTR-M5-20230404_pre-DTX\\CoM DTR M5 ts3_000010.avi\n",
      "C:\\Users\\GPU\\Documents\\DeepLabCut\\temp_kenzie\\CoM\\DTR\\DTR-M5\\DTR-M5-20230404_pre-DTX  already exists!\n",
      "Starting to analyze %  C:\\Users\\GPU\\Documents\\DeepLabCut\\temp_kenzie\\CoM\\DTR\\DTR-M5\\DTR-M5-20230404_pre-DTX\\CoM DTR M5 ts3_000011.avi\n",
      "C:\\Users\\GPU\\Documents\\DeepLabCut\\temp_kenzie\\CoM\\DTR\\DTR-M5\\DTR-M5-20230404_pre-DTX  already exists!\n",
      "Starting to analyze %  C:\\Users\\GPU\\Documents\\DeepLabCut\\temp_kenzie\\CoM\\DTR\\DTR-M5\\DTR-M5-20230404_pre-DTX\\CoM DTR M5 ts3_000012.avi\n",
      "C:\\Users\\GPU\\Documents\\DeepLabCut\\temp_kenzie\\CoM\\DTR\\DTR-M5\\DTR-M5-20230404_pre-DTX  already exists!\n",
      "Starting to analyze %  C:\\Users\\GPU\\Documents\\DeepLabCut\\temp_kenzie\\CoM\\DTR\\DTR-M5\\DTR-M5-20230404_pre-DTX\\CoM DTR M5 ts3_000013.avi\n",
      "C:\\Users\\GPU\\Documents\\DeepLabCut\\temp_kenzie\\CoM\\DTR\\DTR-M5\\DTR-M5-20230404_pre-DTX  already exists!\n",
      "Starting to analyze %  C:\\Users\\GPU\\Documents\\DeepLabCut\\temp_kenzie\\CoM\\DTR\\DTR-M5\\DTR-M5-20230404_pre-DTX\\CoM DTR M5 ts3_000014.avi\n",
      "C:\\Users\\GPU\\Documents\\DeepLabCut\\temp_kenzie\\CoM\\DTR\\DTR-M5\\DTR-M5-20230404_pre-DTX  already exists!\n",
      "Starting to analyze %  C:\\Users\\GPU\\Documents\\DeepLabCut\\temp_kenzie\\CoM\\DTR\\DTR-M5\\DTR-M5-20230404_pre-DTX\\CoM DTR M5 ts3_000015.avi\n",
      "C:\\Users\\GPU\\Documents\\DeepLabCut\\temp_kenzie\\CoM\\DTR\\DTR-M5\\DTR-M5-20230404_pre-DTX  already exists!\n",
      "Starting to analyze %  C:\\Users\\GPU\\Documents\\DeepLabCut\\temp_kenzie\\CoM\\DTR\\DTR-M5\\DTR-M5-20230404_pre-DTX\\CoM DTR M5 ts3_000016.avi\n",
      "C:\\Users\\GPU\\Documents\\DeepLabCut\\temp_kenzie\\CoM\\DTR\\DTR-M5\\DTR-M5-20230404_pre-DTX  already exists!\n",
      "Starting to analyze %  C:\\Users\\GPU\\Documents\\DeepLabCut\\temp_kenzie\\CoM\\DTR\\DTR-M5\\DTR-M5-20230404_pre-DTX\\CoM DTR M5 ts3_000017.avi\n",
      "C:\\Users\\GPU\\Documents\\DeepLabCut\\temp_kenzie\\CoM\\DTR\\DTR-M5\\DTR-M5-20230404_pre-DTX  already exists!\n",
      "Starting to analyze %  C:\\Users\\GPU\\Documents\\DeepLabCut\\temp_kenzie\\CoM\\DTR\\DTR-M5\\DTR-M5-20230404_pre-DTX\\CoM DTR M5 ts3_000018.avi\n",
      "C:\\Users\\GPU\\Documents\\DeepLabCut\\temp_kenzie\\CoM\\DTR\\DTR-M5\\DTR-M5-20230404_pre-DTX  already exists!\n",
      "Starting to analyze %  C:\\Users\\GPU\\Documents\\DeepLabCut\\temp_kenzie\\CoM\\DTR\\DTR-M5\\DTR-M5-20230404_pre-DTX\\CoM DTR M5 ts3_000019.avi\n",
      "C:\\Users\\GPU\\Documents\\DeepLabCut\\temp_kenzie\\CoM\\DTR\\DTR-M5\\DTR-M5-20230404_pre-DTX  already exists!\n",
      "Starting to analyze %  C:\\Users\\GPU\\Documents\\DeepLabCut\\temp_kenzie\\CoM\\DTR\\DTR-M5\\DTR-M5-20230404_pre-DTX\\CoM DTR M5 ts3_000020.avi\n",
      "C:\\Users\\GPU\\Documents\\DeepLabCut\\temp_kenzie\\CoM\\DTR\\DTR-M5\\DTR-M5-20230404_pre-DTX  already exists!\n",
      "Starting to analyze %  C:\\Users\\GPU\\Documents\\DeepLabCut\\temp_kenzie\\CoM\\DTR\\DTR-M5\\DTR-M5-20230404_pre-DTX\\CoM DTR M5 ts3_000021.avi\n",
      "C:\\Users\\GPU\\Documents\\DeepLabCut\\temp_kenzie\\CoM\\DTR\\DTR-M5\\DTR-M5-20230404_pre-DTX  already exists!\n",
      "The videos are analyzed. Now your research can truly start! \n",
      " You can create labeled videos with 'create_labeled_video'\n",
      "If the tracking is not satisfactory for some videos, consider expanding the training set. You can use the function 'extract_outlier_frames' to extract a few representative outlier frames.\n"
     ]
    },
    {
     "name": "stderr",
     "output_type": "stream",
     "text": [
      "Config:\n",
      "{'all_joints': [[0],\n",
      "                [1],\n",
      "                [2],\n",
      "                [3],\n",
      "                [4],\n",
      "                [5],\n",
      "                [6],\n",
      "                [7],\n",
      "                [8],\n",
      "                [9],\n",
      "                [10],\n",
      "                [11],\n",
      "                [12],\n",
      "                [13],\n",
      "                [14],\n",
      "                [15],\n",
      "                [16],\n",
      "                [17],\n",
      "                [18]],\n",
      " 'all_joints_names': ['calib_1',\n",
      "                      'calib_2',\n",
      "                      'calib_3',\n",
      "                      'calib_4',\n",
      "                      'calib_5',\n",
      "                      'calib_6',\n",
      "                      'iliac_crest',\n",
      "                      'hip',\n",
      "                      'knee',\n",
      "                      'ankle',\n",
      "                      'metatarsal',\n",
      "                      'toe',\n",
      "                      'fl_toe',\n",
      "                      'mirror_lhl',\n",
      "                      'mirror_rhl',\n",
      "                      'mirror_lfl',\n",
      "                      'mirror_rfl',\n",
      "                      'mirror_com',\n",
      "                      'mirror'],\n",
      " 'batch_size': 1,\n",
      " 'crop_pad': 0,\n",
      " 'dataset': 'training-datasets\\\\iteration-0\\\\UnaugmentedDataSet_DTR-preJul21\\\\DTR-pre_kenzie95shuffle1.mat',\n",
      " 'dataset_type': 'imgaug',\n",
      " 'deterministic': False,\n",
      " 'fg_fraction': 0.25,\n",
      " 'global_scale': 0.8,\n",
      " 'init_weights': 'C:\\\\ProgramData\\\\Anaconda3\\\\envs\\\\dlc-windowsGPU\\\\lib\\\\site-packages\\\\deeplabcut\\\\pose_estimation_tensorflow\\\\models\\\\pretrained\\\\resnet_v1_50.ckpt',\n",
      " 'intermediate_supervision': False,\n",
      " 'intermediate_supervision_layer': 12,\n",
      " 'location_refinement': True,\n",
      " 'locref_huber_loss': True,\n",
      " 'locref_loss_weight': 1.0,\n",
      " 'locref_stdev': 7.2801,\n",
      " 'log_dir': 'log',\n",
      " 'mean_pixel': [123.68, 116.779, 103.939],\n",
      " 'mirror': False,\n",
      " 'net_type': 'resnet_50',\n",
      " 'num_joints': 19,\n",
      " 'optimizer': 'sgd',\n",
      " 'pairwise_huber_loss': True,\n",
      " 'pairwise_predict': False,\n",
      " 'partaffinityfield_predict': False,\n",
      " 'regularize': False,\n",
      " 'scoremap_dir': 'test',\n",
      " 'shuffle': True,\n",
      " 'snapshot_prefix': 'C:\\\\Users\\\\GPU\\\\Documents\\\\DeepLabCut\\\\temp_kenzie\\\\CoM\\\\DTR-pre-kenzie-2023-07-21\\\\dlc-models\\\\iteration-0\\\\DTR-preJul21-trainset95shuffle1\\\\test\\\\snapshot',\n",
      " 'stride': 8.0,\n",
      " 'weigh_negatives': False,\n",
      " 'weigh_only_present_joints': False,\n",
      " 'weigh_part_predictions': False,\n",
      " 'weight_decay': 0.0001}\n"
     ]
    },
    {
     "name": "stdout",
     "output_type": "stream",
     "text": [
      "Using snapshot-1030000 for model C:\\Users\\GPU\\Documents\\DeepLabCut\\temp_kenzie\\CoM\\DTR-pre-kenzie-2023-07-21\\dlc-models\\iteration-0\\DTR-preJul21-trainset95shuffle1\n",
      "Initializing ResNet\n",
      "Starting to analyze %  C:\\Users\\GPU\\Documents\\DeepLabCut\\temp_kenzie\\CoM\\DTR\\DTR-M1\\DTR M1 20230404_Pre DTX\\CoM DTR M1 ts3_000000.avi\n",
      "C:\\Users\\GPU\\Documents\\DeepLabCut\\temp_kenzie\\CoM\\DTR\\DTR-M1\\DTR M1 20230404_Pre DTX  already exists!\n",
      "Loading  C:\\Users\\GPU\\Documents\\DeepLabCut\\temp_kenzie\\CoM\\DTR\\DTR-M1\\DTR M1 20230404_Pre DTX\\CoM DTR M1 ts3_000000.avi\n",
      "Duration of video [s]:  7.81 , recorded with  500.0 fps!\n",
      "Overall # of frames:  3904  found with (before cropping) frame dimensions:  1280 850\n",
      "Starting to extract posture\n"
     ]
    },
    {
     "name": "stderr",
     "output_type": "stream",
     "text": [
      "3939it [02:46, 23.66it/s]                                                                                                          \n"
     ]
    },
    {
     "name": "stdout",
     "output_type": "stream",
     "text": [
      "Saving results in C:\\Users\\GPU\\Documents\\DeepLabCut\\temp_kenzie\\CoM\\DTR\\DTR-M1\\DTR M1 20230404_Pre DTX...\n",
      "Saving csv poses!\n",
      "Starting to analyze %  C:\\Users\\GPU\\Documents\\DeepLabCut\\temp_kenzie\\CoM\\DTR\\DTR-M1\\DTR M1 20230404_Pre DTX\\CoM DTR M1 ts3_000001.avi\n",
      "C:\\Users\\GPU\\Documents\\DeepLabCut\\temp_kenzie\\CoM\\DTR\\DTR-M1\\DTR M1 20230404_Pre DTX  already exists!\n",
      "Loading  C:\\Users\\GPU\\Documents\\DeepLabCut\\temp_kenzie\\CoM\\DTR\\DTR-M1\\DTR M1 20230404_Pre DTX\\CoM DTR M1 ts3_000001.avi\n",
      "Duration of video [s]:  5.08 , recorded with  500.0 fps!\n",
      "Overall # of frames:  2540  found with (before cropping) frame dimensions:  1280 850\n",
      "Starting to extract posture\n"
     ]
    },
    {
     "name": "stderr",
     "output_type": "stream",
     "text": [
      "2550it [01:50, 23.14it/s]                                                                                                          \n"
     ]
    },
    {
     "name": "stdout",
     "output_type": "stream",
     "text": [
      "Saving results in C:\\Users\\GPU\\Documents\\DeepLabCut\\temp_kenzie\\CoM\\DTR\\DTR-M1\\DTR M1 20230404_Pre DTX...\n",
      "Saving csv poses!\n",
      "Starting to analyze %  C:\\Users\\GPU\\Documents\\DeepLabCut\\temp_kenzie\\CoM\\DTR\\DTR-M1\\DTR M1 20230404_Pre DTX\\CoM DTR M1 ts3_000002.avi\n",
      "C:\\Users\\GPU\\Documents\\DeepLabCut\\temp_kenzie\\CoM\\DTR\\DTR-M1\\DTR M1 20230404_Pre DTX  already exists!\n",
      "Loading  C:\\Users\\GPU\\Documents\\DeepLabCut\\temp_kenzie\\CoM\\DTR\\DTR-M1\\DTR M1 20230404_Pre DTX\\CoM DTR M1 ts3_000002.avi\n",
      "Duration of video [s]:  4.25 , recorded with  500.0 fps!\n",
      "Overall # of frames:  2127  found with (before cropping) frame dimensions:  1280 850\n",
      "Starting to extract posture\n"
     ]
    },
    {
     "name": "stderr",
     "output_type": "stream",
     "text": [
      "2142it [01:33, 22.93it/s]                                                                                                          \n"
     ]
    },
    {
     "name": "stdout",
     "output_type": "stream",
     "text": [
      "Saving results in C:\\Users\\GPU\\Documents\\DeepLabCut\\temp_kenzie\\CoM\\DTR\\DTR-M1\\DTR M1 20230404_Pre DTX...\n",
      "Saving csv poses!\n",
      "Starting to analyze %  C:\\Users\\GPU\\Documents\\DeepLabCut\\temp_kenzie\\CoM\\DTR\\DTR-M1\\DTR M1 20230404_Pre DTX\\CoM DTR M1 ts3_000003.avi\n",
      "C:\\Users\\GPU\\Documents\\DeepLabCut\\temp_kenzie\\CoM\\DTR\\DTR-M1\\DTR M1 20230404_Pre DTX  already exists!\n",
      "Loading  C:\\Users\\GPU\\Documents\\DeepLabCut\\temp_kenzie\\CoM\\DTR\\DTR-M1\\DTR M1 20230404_Pre DTX\\CoM DTR M1 ts3_000003.avi\n",
      "Duration of video [s]:  4.99 , recorded with  500.0 fps!\n",
      "Overall # of frames:  2495  found with (before cropping) frame dimensions:  1280 850\n",
      "Starting to extract posture\n"
     ]
    },
    {
     "name": "stderr",
     "output_type": "stream",
     "text": [
      "2496it [01:49, 22.76it/s]                                                                                                          \n"
     ]
    },
    {
     "name": "stdout",
     "output_type": "stream",
     "text": [
      "Saving results in C:\\Users\\GPU\\Documents\\DeepLabCut\\temp_kenzie\\CoM\\DTR\\DTR-M1\\DTR M1 20230404_Pre DTX...\n",
      "Saving csv poses!\n",
      "Starting to analyze %  C:\\Users\\GPU\\Documents\\DeepLabCut\\temp_kenzie\\CoM\\DTR\\DTR-M1\\DTR M1 20230404_Pre DTX\\CoM DTR M1 ts3_000004.avi\n",
      "C:\\Users\\GPU\\Documents\\DeepLabCut\\temp_kenzie\\CoM\\DTR\\DTR-M1\\DTR M1 20230404_Pre DTX  already exists!\n",
      "Loading  C:\\Users\\GPU\\Documents\\DeepLabCut\\temp_kenzie\\CoM\\DTR\\DTR-M1\\DTR M1 20230404_Pre DTX\\CoM DTR M1 ts3_000004.avi\n",
      "Duration of video [s]:  7.81 , recorded with  500.0 fps!\n",
      "Overall # of frames:  3904  found with (before cropping) frame dimensions:  1280 850\n",
      "Starting to extract posture\n"
     ]
    },
    {
     "name": "stderr",
     "output_type": "stream",
     "text": [
      "3939it [02:51, 22.94it/s]                                                                                                          \n"
     ]
    },
    {
     "name": "stdout",
     "output_type": "stream",
     "text": [
      "Saving results in C:\\Users\\GPU\\Documents\\DeepLabCut\\temp_kenzie\\CoM\\DTR\\DTR-M1\\DTR M1 20230404_Pre DTX...\n",
      "Saving csv poses!\n",
      "Starting to analyze %  C:\\Users\\GPU\\Documents\\DeepLabCut\\temp_kenzie\\CoM\\DTR\\DTR-M1\\DTR M1 20230404_Pre DTX\\CoM DTR M1 ts3_000005.avi\n",
      "C:\\Users\\GPU\\Documents\\DeepLabCut\\temp_kenzie\\CoM\\DTR\\DTR-M1\\DTR M1 20230404_Pre DTX  already exists!\n",
      "Loading  C:\\Users\\GPU\\Documents\\DeepLabCut\\temp_kenzie\\CoM\\DTR\\DTR-M1\\DTR M1 20230404_Pre DTX\\CoM DTR M1 ts3_000005.avi\n",
      "Duration of video [s]:  7.81 , recorded with  500.0 fps!\n",
      "Overall # of frames:  3904  found with (before cropping) frame dimensions:  1280 850\n",
      "Starting to extract posture\n"
     ]
    },
    {
     "name": "stderr",
     "output_type": "stream",
     "text": [
      "3939it [02:52, 22.81it/s]                                                                                                          \n"
     ]
    },
    {
     "name": "stdout",
     "output_type": "stream",
     "text": [
      "Saving results in C:\\Users\\GPU\\Documents\\DeepLabCut\\temp_kenzie\\CoM\\DTR\\DTR-M1\\DTR M1 20230404_Pre DTX...\n",
      "Saving csv poses!\n",
      "Starting to analyze %  C:\\Users\\GPU\\Documents\\DeepLabCut\\temp_kenzie\\CoM\\DTR\\DTR-M1\\DTR M1 20230404_Pre DTX\\CoM DTR M1 ts3_000006.avi\n",
      "C:\\Users\\GPU\\Documents\\DeepLabCut\\temp_kenzie\\CoM\\DTR\\DTR-M1\\DTR M1 20230404_Pre DTX  already exists!\n",
      "Loading  C:\\Users\\GPU\\Documents\\DeepLabCut\\temp_kenzie\\CoM\\DTR\\DTR-M1\\DTR M1 20230404_Pre DTX\\CoM DTR M1 ts3_000006.avi\n",
      "Duration of video [s]:  6.95 , recorded with  500.0 fps!\n",
      "Overall # of frames:  3473  found with (before cropping) frame dimensions:  1280 850\n",
      "Starting to extract posture\n"
     ]
    },
    {
     "name": "stderr",
     "output_type": "stream",
     "text": [
      "3502it [02:33, 22.75it/s]                                                                                                          \n"
     ]
    },
    {
     "name": "stdout",
     "output_type": "stream",
     "text": [
      "Saving results in C:\\Users\\GPU\\Documents\\DeepLabCut\\temp_kenzie\\CoM\\DTR\\DTR-M1\\DTR M1 20230404_Pre DTX...\n",
      "Saving csv poses!\n",
      "Starting to analyze %  C:\\Users\\GPU\\Documents\\DeepLabCut\\temp_kenzie\\CoM\\DTR\\DTR-M1\\DTR M1 20230404_Pre DTX\\CoM DTR M1 ts3_000007.avi\n",
      "C:\\Users\\GPU\\Documents\\DeepLabCut\\temp_kenzie\\CoM\\DTR\\DTR-M1\\DTR M1 20230404_Pre DTX  already exists!\n",
      "Loading  C:\\Users\\GPU\\Documents\\DeepLabCut\\temp_kenzie\\CoM\\DTR\\DTR-M1\\DTR M1 20230404_Pre DTX\\CoM DTR M1 ts3_000007.avi\n",
      "Duration of video [s]:  5.96 , recorded with  500.0 fps!\n",
      "Overall # of frames:  2980  found with (before cropping) frame dimensions:  1280 850\n",
      "Starting to extract posture\n"
     ]
    },
    {
     "name": "stderr",
     "output_type": "stream",
     "text": [
      "2987it [02:12, 22.49it/s]                                                                                                          \n"
     ]
    },
    {
     "name": "stdout",
     "output_type": "stream",
     "text": [
      "Saving results in C:\\Users\\GPU\\Documents\\DeepLabCut\\temp_kenzie\\CoM\\DTR\\DTR-M1\\DTR M1 20230404_Pre DTX...\n",
      "Saving csv poses!\n",
      "Starting to analyze %  C:\\Users\\GPU\\Documents\\DeepLabCut\\temp_kenzie\\CoM\\DTR\\DTR-M1\\DTR M1 20230404_Pre DTX\\CoM DTR M1 ts3_000008.avi\n",
      "C:\\Users\\GPU\\Documents\\DeepLabCut\\temp_kenzie\\CoM\\DTR\\DTR-M1\\DTR M1 20230404_Pre DTX  already exists!\n",
      "Loading  C:\\Users\\GPU\\Documents\\DeepLabCut\\temp_kenzie\\CoM\\DTR\\DTR-M1\\DTR M1 20230404_Pre DTX\\CoM DTR M1 ts3_000008.avi\n",
      "Duration of video [s]:  6.95 , recorded with  500.0 fps!\n",
      "Overall # of frames:  3473  found with (before cropping) frame dimensions:  1280 850\n",
      "Starting to extract posture\n"
     ]
    },
    {
     "name": "stderr",
     "output_type": "stream",
     "text": [
      "3502it [02:35, 22.59it/s]                                                                                                          \n"
     ]
    },
    {
     "name": "stdout",
     "output_type": "stream",
     "text": [
      "Saving results in C:\\Users\\GPU\\Documents\\DeepLabCut\\temp_kenzie\\CoM\\DTR\\DTR-M1\\DTR M1 20230404_Pre DTX...\n",
      "Saving csv poses!\n",
      "Starting to analyze %  C:\\Users\\GPU\\Documents\\DeepLabCut\\temp_kenzie\\CoM\\DTR\\DTR-M1\\DTR M1 20230404_Pre DTX\\CoM DTR M1 ts3_000009.avi\n",
      "C:\\Users\\GPU\\Documents\\DeepLabCut\\temp_kenzie\\CoM\\DTR\\DTR-M1\\DTR M1 20230404_Pre DTX  already exists!\n",
      "Loading  C:\\Users\\GPU\\Documents\\DeepLabCut\\temp_kenzie\\CoM\\DTR\\DTR-M1\\DTR M1 20230404_Pre DTX\\CoM DTR M1 ts3_000009.avi\n",
      "Duration of video [s]:  4.69 , recorded with  500.0 fps!\n",
      "Overall # of frames:  2343  found with (before cropping) frame dimensions:  1280 850\n",
      "Starting to extract posture\n"
     ]
    },
    {
     "name": "stderr",
     "output_type": "stream",
     "text": [
      "2346it [01:45, 22.22it/s]                                                                                                          \n"
     ]
    },
    {
     "name": "stdout",
     "output_type": "stream",
     "text": [
      "Saving results in C:\\Users\\GPU\\Documents\\DeepLabCut\\temp_kenzie\\CoM\\DTR\\DTR-M1\\DTR M1 20230404_Pre DTX...\n",
      "Saving csv poses!\n",
      "Starting to analyze %  C:\\Users\\GPU\\Documents\\DeepLabCut\\temp_kenzie\\CoM\\DTR\\DTR-M1\\DTR M1 20230404_Pre DTX\\CoM DTR M1 ts3_000010.avi\n",
      "C:\\Users\\GPU\\Documents\\DeepLabCut\\temp_kenzie\\CoM\\DTR\\DTR-M1\\DTR M1 20230404_Pre DTX  already exists!\n",
      "Loading  C:\\Users\\GPU\\Documents\\DeepLabCut\\temp_kenzie\\CoM\\DTR\\DTR-M1\\DTR M1 20230404_Pre DTX\\CoM DTR M1 ts3_000010.avi\n",
      "Duration of video [s]:  4.11 , recorded with  500.0 fps!\n",
      "Overall # of frames:  2056  found with (before cropping) frame dimensions:  1280 850\n",
      "Starting to extract posture\n"
     ]
    },
    {
     "name": "stderr",
     "output_type": "stream",
     "text": [
      "2060it [01:32, 22.26it/s]                                                                                                          \n"
     ]
    },
    {
     "name": "stdout",
     "output_type": "stream",
     "text": [
      "Saving results in C:\\Users\\GPU\\Documents\\DeepLabCut\\temp_kenzie\\CoM\\DTR\\DTR-M1\\DTR M1 20230404_Pre DTX...\n",
      "Saving csv poses!\n",
      "Starting to analyze %  C:\\Users\\GPU\\Documents\\DeepLabCut\\temp_kenzie\\CoM\\DTR\\DTR-M1\\DTR M1 20230404_Pre DTX\\CoM DTR M1 ts3_000011.avi\n",
      "C:\\Users\\GPU\\Documents\\DeepLabCut\\temp_kenzie\\CoM\\DTR\\DTR-M1\\DTR M1 20230404_Pre DTX  already exists!\n",
      "Loading  C:\\Users\\GPU\\Documents\\DeepLabCut\\temp_kenzie\\CoM\\DTR\\DTR-M1\\DTR M1 20230404_Pre DTX\\CoM DTR M1 ts3_000011.avi\n",
      "Duration of video [s]:  7.81 , recorded with  500.0 fps!\n",
      "Overall # of frames:  3904  found with (before cropping) frame dimensions:  1280 850\n",
      "Starting to extract posture\n"
     ]
    },
    {
     "name": "stderr",
     "output_type": "stream",
     "text": [
      "3939it [02:56, 22.26it/s]                                                                                                          \n"
     ]
    },
    {
     "name": "stdout",
     "output_type": "stream",
     "text": [
      "Saving results in C:\\Users\\GPU\\Documents\\DeepLabCut\\temp_kenzie\\CoM\\DTR\\DTR-M1\\DTR M1 20230404_Pre DTX...\n",
      "Saving csv poses!\n",
      "Starting to analyze %  C:\\Users\\GPU\\Documents\\DeepLabCut\\temp_kenzie\\CoM\\DTR\\DTR-M2\\DTR M2 20230405_Pre DTX\\CoM DTR M2 ts3_000000.avi\n",
      "C:\\Users\\GPU\\Documents\\DeepLabCut\\temp_kenzie\\CoM\\DTR\\DTR-M2\\DTR M2 20230405_Pre DTX  already exists!\n",
      "Loading  C:\\Users\\GPU\\Documents\\DeepLabCut\\temp_kenzie\\CoM\\DTR\\DTR-M2\\DTR M2 20230405_Pre DTX\\CoM DTR M2 ts3_000000.avi\n",
      "Duration of video [s]:  7.81 , recorded with  500.0 fps!\n",
      "Overall # of frames:  3904  found with (before cropping) frame dimensions:  1280 850\n",
      "Starting to extract posture\n"
     ]
    },
    {
     "name": "stderr",
     "output_type": "stream",
     "text": [
      "3939it [02:55, 22.39it/s]                                                                                                          \n"
     ]
    },
    {
     "name": "stdout",
     "output_type": "stream",
     "text": [
      "Saving results in C:\\Users\\GPU\\Documents\\DeepLabCut\\temp_kenzie\\CoM\\DTR\\DTR-M2\\DTR M2 20230405_Pre DTX...\n",
      "Saving csv poses!\n",
      "Starting to analyze %  C:\\Users\\GPU\\Documents\\DeepLabCut\\temp_kenzie\\CoM\\DTR\\DTR-M2\\DTR M2 20230405_Pre DTX\\CoM DTR M2 ts3_000001.avi\n",
      "C:\\Users\\GPU\\Documents\\DeepLabCut\\temp_kenzie\\CoM\\DTR\\DTR-M2\\DTR M2 20230405_Pre DTX  already exists!\n",
      "Loading  C:\\Users\\GPU\\Documents\\DeepLabCut\\temp_kenzie\\CoM\\DTR\\DTR-M2\\DTR M2 20230405_Pre DTX\\CoM DTR M2 ts3_000001.avi\n",
      "Duration of video [s]:  7.81 , recorded with  500.0 fps!\n",
      "Overall # of frames:  3904  found with (before cropping) frame dimensions:  1280 850\n",
      "Starting to extract posture\n"
     ]
    },
    {
     "name": "stderr",
     "output_type": "stream",
     "text": [
      "3939it [02:58, 22.04it/s]                                                                                                          \n"
     ]
    },
    {
     "name": "stdout",
     "output_type": "stream",
     "text": [
      "Saving results in C:\\Users\\GPU\\Documents\\DeepLabCut\\temp_kenzie\\CoM\\DTR\\DTR-M2\\DTR M2 20230405_Pre DTX...\n",
      "Saving csv poses!\n",
      "Starting to analyze %  C:\\Users\\GPU\\Documents\\DeepLabCut\\temp_kenzie\\CoM\\DTR\\DTR-M2\\DTR M2 20230405_Pre DTX\\CoM DTR M2 ts3_000002.avi\n",
      "C:\\Users\\GPU\\Documents\\DeepLabCut\\temp_kenzie\\CoM\\DTR\\DTR-M2\\DTR M2 20230405_Pre DTX  already exists!\n",
      "Loading  C:\\Users\\GPU\\Documents\\DeepLabCut\\temp_kenzie\\CoM\\DTR\\DTR-M2\\DTR M2 20230405_Pre DTX\\CoM DTR M2 ts3_000002.avi\n",
      "Duration of video [s]:  7.35 , recorded with  500.0 fps!\n",
      "Overall # of frames:  3673  found with (before cropping) frame dimensions:  1280 850\n",
      "Starting to extract posture\n"
     ]
    },
    {
     "name": "stderr",
     "output_type": "stream",
     "text": [
      "3708it [02:50, 21.71it/s]                                                                                                          \n"
     ]
    },
    {
     "name": "stdout",
     "output_type": "stream",
     "text": [
      "Saving results in C:\\Users\\GPU\\Documents\\DeepLabCut\\temp_kenzie\\CoM\\DTR\\DTR-M2\\DTR M2 20230405_Pre DTX...\n",
      "Saving csv poses!\n",
      "Starting to analyze %  C:\\Users\\GPU\\Documents\\DeepLabCut\\temp_kenzie\\CoM\\DTR\\DTR-M2\\DTR M2 20230405_Pre DTX\\CoM DTR M2 ts3_000003.avi\n",
      "C:\\Users\\GPU\\Documents\\DeepLabCut\\temp_kenzie\\CoM\\DTR\\DTR-M2\\DTR M2 20230405_Pre DTX  already exists!\n",
      "Loading  C:\\Users\\GPU\\Documents\\DeepLabCut\\temp_kenzie\\CoM\\DTR\\DTR-M2\\DTR M2 20230405_Pre DTX\\CoM DTR M2 ts3_000003.avi\n",
      "Duration of video [s]:  7.81 , recorded with  500.0 fps!\n",
      "Overall # of frames:  3904  found with (before cropping) frame dimensions:  1280 850\n",
      "Starting to extract posture\n"
     ]
    },
    {
     "name": "stderr",
     "output_type": "stream",
     "text": [
      "3939it [02:59, 21.98it/s]                                                                                                          \n"
     ]
    },
    {
     "name": "stdout",
     "output_type": "stream",
     "text": [
      "Saving results in C:\\Users\\GPU\\Documents\\DeepLabCut\\temp_kenzie\\CoM\\DTR\\DTR-M2\\DTR M2 20230405_Pre DTX...\n",
      "Saving csv poses!\n",
      "Starting to analyze %  C:\\Users\\GPU\\Documents\\DeepLabCut\\temp_kenzie\\CoM\\DTR\\DTR-M2\\DTR M2 20230405_Pre DTX\\CoM DTR M2 ts3_000004.avi\n",
      "C:\\Users\\GPU\\Documents\\DeepLabCut\\temp_kenzie\\CoM\\DTR\\DTR-M2\\DTR M2 20230405_Pre DTX  already exists!\n",
      "Loading  C:\\Users\\GPU\\Documents\\DeepLabCut\\temp_kenzie\\CoM\\DTR\\DTR-M2\\DTR M2 20230405_Pre DTX\\CoM DTR M2 ts3_000004.avi\n",
      "Duration of video [s]:  7.81 , recorded with  500.0 fps!\n",
      "Overall # of frames:  3904  found with (before cropping) frame dimensions:  1280 850\n",
      "Starting to extract posture\n"
     ]
    },
    {
     "name": "stderr",
     "output_type": "stream",
     "text": [
      "3939it [02:59, 21.91it/s]                                                                                                          \n"
     ]
    },
    {
     "name": "stdout",
     "output_type": "stream",
     "text": [
      "Saving results in C:\\Users\\GPU\\Documents\\DeepLabCut\\temp_kenzie\\CoM\\DTR\\DTR-M2\\DTR M2 20230405_Pre DTX...\n",
      "Saving csv poses!\n",
      "Starting to analyze %  C:\\Users\\GPU\\Documents\\DeepLabCut\\temp_kenzie\\CoM\\DTR\\DTR-M2\\DTR M2 20230405_Pre DTX\\CoM DTR M2 ts3_000005.avi\n",
      "C:\\Users\\GPU\\Documents\\DeepLabCut\\temp_kenzie\\CoM\\DTR\\DTR-M2\\DTR M2 20230405_Pre DTX  already exists!\n",
      "Loading  C:\\Users\\GPU\\Documents\\DeepLabCut\\temp_kenzie\\CoM\\DTR\\DTR-M2\\DTR M2 20230405_Pre DTX\\CoM DTR M2 ts3_000005.avi\n",
      "Duration of video [s]:  7.81 , recorded with  500.0 fps!\n",
      "Overall # of frames:  3904  found with (before cropping) frame dimensions:  1280 850\n",
      "Starting to extract posture\n"
     ]
    },
    {
     "name": "stderr",
     "output_type": "stream",
     "text": [
      "3939it [03:02, 21.63it/s]                                                                                                          \n"
     ]
    },
    {
     "name": "stdout",
     "output_type": "stream",
     "text": [
      "Saving results in C:\\Users\\GPU\\Documents\\DeepLabCut\\temp_kenzie\\CoM\\DTR\\DTR-M2\\DTR M2 20230405_Pre DTX...\n",
      "Saving csv poses!\n",
      "Starting to analyze %  C:\\Users\\GPU\\Documents\\DeepLabCut\\temp_kenzie\\CoM\\DTR\\DTR-M2\\DTR M2 20230405_Pre DTX\\CoM DTR M2 ts3_000006.avi\n",
      "C:\\Users\\GPU\\Documents\\DeepLabCut\\temp_kenzie\\CoM\\DTR\\DTR-M2\\DTR M2 20230405_Pre DTX  already exists!\n",
      "Loading  C:\\Users\\GPU\\Documents\\DeepLabCut\\temp_kenzie\\CoM\\DTR\\DTR-M2\\DTR M2 20230405_Pre DTX\\CoM DTR M2 ts3_000006.avi\n",
      "Duration of video [s]:  5.45 , recorded with  500.0 fps!\n",
      "Overall # of frames:  2727  found with (before cropping) frame dimensions:  1280 850\n",
      "Starting to extract posture\n"
     ]
    },
    {
     "name": "stderr",
     "output_type": "stream",
     "text": [
      "2754it [02:09, 21.31it/s]                                                                                                          \n"
     ]
    },
    {
     "name": "stdout",
     "output_type": "stream",
     "text": [
      "Saving results in C:\\Users\\GPU\\Documents\\DeepLabCut\\temp_kenzie\\CoM\\DTR\\DTR-M2\\DTR M2 20230405_Pre DTX...\n",
      "Saving csv poses!\n",
      "Starting to analyze %  C:\\Users\\GPU\\Documents\\DeepLabCut\\temp_kenzie\\CoM\\DTR\\DTR-M2\\DTR M2 20230405_Pre DTX\\CoM DTR M2 ts3_000007.avi\n",
      "C:\\Users\\GPU\\Documents\\DeepLabCut\\temp_kenzie\\CoM\\DTR\\DTR-M2\\DTR M2 20230405_Pre DTX  already exists!\n",
      "Loading  C:\\Users\\GPU\\Documents\\DeepLabCut\\temp_kenzie\\CoM\\DTR\\DTR-M2\\DTR M2 20230405_Pre DTX\\CoM DTR M2 ts3_000007.avi\n",
      "Duration of video [s]:  7.81 , recorded with  500.0 fps!\n",
      "Overall # of frames:  3904  found with (before cropping) frame dimensions:  1280 850\n",
      "Starting to extract posture\n"
     ]
    },
    {
     "name": "stderr",
     "output_type": "stream",
     "text": [
      "3939it [03:03, 21.48it/s]                                                                                                          \n"
     ]
    },
    {
     "name": "stdout",
     "output_type": "stream",
     "text": [
      "Saving results in C:\\Users\\GPU\\Documents\\DeepLabCut\\temp_kenzie\\CoM\\DTR\\DTR-M2\\DTR M2 20230405_Pre DTX...\n",
      "Saving csv poses!\n",
      "Starting to analyze %  C:\\Users\\GPU\\Documents\\DeepLabCut\\temp_kenzie\\CoM\\DTR\\DTR-M2\\DTR M2 20230405_Pre DTX\\CoM DTR M2 ts3_000008.avi\n",
      "C:\\Users\\GPU\\Documents\\DeepLabCut\\temp_kenzie\\CoM\\DTR\\DTR-M2\\DTR M2 20230405_Pre DTX  already exists!\n",
      "Loading  C:\\Users\\GPU\\Documents\\DeepLabCut\\temp_kenzie\\CoM\\DTR\\DTR-M2\\DTR M2 20230405_Pre DTX\\CoM DTR M2 ts3_000008.avi\n",
      "Duration of video [s]:  4.89 , recorded with  500.0 fps!\n",
      "Overall # of frames:  2447  found with (before cropping) frame dimensions:  1280 850\n",
      "Starting to extract posture\n"
     ]
    },
    {
     "name": "stderr",
     "output_type": "stream",
     "text": [
      "2448it [01:53, 21.55it/s]                                                                                                          \n"
     ]
    },
    {
     "name": "stdout",
     "output_type": "stream",
     "text": [
      "Saving results in C:\\Users\\GPU\\Documents\\DeepLabCut\\temp_kenzie\\CoM\\DTR\\DTR-M2\\DTR M2 20230405_Pre DTX...\n",
      "Saving csv poses!\n",
      "Starting to analyze %  C:\\Users\\GPU\\Documents\\DeepLabCut\\temp_kenzie\\CoM\\DTR\\DTR-M2\\DTR M2 20230405_Pre DTX\\CoM DTR M2 ts3_000009.avi\n",
      "C:\\Users\\GPU\\Documents\\DeepLabCut\\temp_kenzie\\CoM\\DTR\\DTR-M2\\DTR M2 20230405_Pre DTX  already exists!\n",
      "Loading  C:\\Users\\GPU\\Documents\\DeepLabCut\\temp_kenzie\\CoM\\DTR\\DTR-M2\\DTR M2 20230405_Pre DTX\\CoM DTR M2 ts3_000009.avi\n",
      "Duration of video [s]:  7.81 , recorded with  500.0 fps!\n",
      "Overall # of frames:  3904  found with (before cropping) frame dimensions:  1280 850\n",
      "Starting to extract posture\n"
     ]
    },
    {
     "name": "stderr",
     "output_type": "stream",
     "text": [
      "3939it [03:03, 21.45it/s]                                                                                                          \n"
     ]
    },
    {
     "name": "stdout",
     "output_type": "stream",
     "text": [
      "Saving results in C:\\Users\\GPU\\Documents\\DeepLabCut\\temp_kenzie\\CoM\\DTR\\DTR-M2\\DTR M2 20230405_Pre DTX...\n",
      "Saving csv poses!\n",
      "Starting to analyze %  C:\\Users\\GPU\\Documents\\DeepLabCut\\temp_kenzie\\CoM\\DTR\\DTR-M2\\DTR M2 20230405_Pre DTX\\CoM DTR M2 ts3_000010.avi\n",
      "C:\\Users\\GPU\\Documents\\DeepLabCut\\temp_kenzie\\CoM\\DTR\\DTR-M2\\DTR M2 20230405_Pre DTX  already exists!\n",
      "Loading  C:\\Users\\GPU\\Documents\\DeepLabCut\\temp_kenzie\\CoM\\DTR\\DTR-M2\\DTR M2 20230405_Pre DTX\\CoM DTR M2 ts3_000010.avi\n",
      "Duration of video [s]:  7.81 , recorded with  500.0 fps!\n",
      "Overall # of frames:  3904  found with (before cropping) frame dimensions:  1280 850\n",
      "Starting to extract posture\n"
     ]
    },
    {
     "name": "stderr",
     "output_type": "stream",
     "text": [
      "3939it [03:04, 21.36it/s]                                                                                                          \n"
     ]
    },
    {
     "name": "stdout",
     "output_type": "stream",
     "text": [
      "Saving results in C:\\Users\\GPU\\Documents\\DeepLabCut\\temp_kenzie\\CoM\\DTR\\DTR-M2\\DTR M2 20230405_Pre DTX...\n",
      "Saving csv poses!\n",
      "Starting to analyze %  C:\\Users\\GPU\\Documents\\DeepLabCut\\temp_kenzie\\CoM\\DTR\\DTR-M2\\DTR M2 20230405_Pre DTX\\CoM DTR M2 ts3_000011.avi\n",
      "C:\\Users\\GPU\\Documents\\DeepLabCut\\temp_kenzie\\CoM\\DTR\\DTR-M2\\DTR M2 20230405_Pre DTX  already exists!\n",
      "Loading  C:\\Users\\GPU\\Documents\\DeepLabCut\\temp_kenzie\\CoM\\DTR\\DTR-M2\\DTR M2 20230405_Pre DTX\\CoM DTR M2 ts3_000011.avi\n",
      "Duration of video [s]:  7.81 , recorded with  500.0 fps!\n",
      "Overall # of frames:  3904  found with (before cropping) frame dimensions:  1280 850\n",
      "Starting to extract posture\n"
     ]
    },
    {
     "name": "stderr",
     "output_type": "stream",
     "text": [
      "3939it [03:03, 21.42it/s]                                                                                                          \n"
     ]
    },
    {
     "name": "stdout",
     "output_type": "stream",
     "text": [
      "Saving results in C:\\Users\\GPU\\Documents\\DeepLabCut\\temp_kenzie\\CoM\\DTR\\DTR-M2\\DTR M2 20230405_Pre DTX...\n",
      "Saving csv poses!\n",
      "Starting to analyze %  C:\\Users\\GPU\\Documents\\DeepLabCut\\temp_kenzie\\CoM\\DTR\\DTR-M2\\DTR M2 20230405_Pre DTX\\CoM DTR M2 ts3_000012.avi\n",
      "C:\\Users\\GPU\\Documents\\DeepLabCut\\temp_kenzie\\CoM\\DTR\\DTR-M2\\DTR M2 20230405_Pre DTX  already exists!\n",
      "Loading  C:\\Users\\GPU\\Documents\\DeepLabCut\\temp_kenzie\\CoM\\DTR\\DTR-M2\\DTR M2 20230405_Pre DTX\\CoM DTR M2 ts3_000012.avi\n",
      "Duration of video [s]:  7.81 , recorded with  500.0 fps!\n",
      "Overall # of frames:  3904  found with (before cropping) frame dimensions:  1280 850\n",
      "Starting to extract posture\n"
     ]
    },
    {
     "name": "stderr",
     "output_type": "stream",
     "text": [
      "3939it [03:01, 21.75it/s]                                                                                                          \n"
     ]
    },
    {
     "name": "stdout",
     "output_type": "stream",
     "text": [
      "Saving results in C:\\Users\\GPU\\Documents\\DeepLabCut\\temp_kenzie\\CoM\\DTR\\DTR-M2\\DTR M2 20230405_Pre DTX...\n",
      "Saving csv poses!\n",
      "Starting to analyze %  C:\\Users\\GPU\\Documents\\DeepLabCut\\temp_kenzie\\CoM\\DTR\\DTR-M2\\DTR M2 20230405_Pre DTX\\CoM DTR M2 ts3_000013.avi\n",
      "C:\\Users\\GPU\\Documents\\DeepLabCut\\temp_kenzie\\CoM\\DTR\\DTR-M2\\DTR M2 20230405_Pre DTX  already exists!\n",
      "Loading  C:\\Users\\GPU\\Documents\\DeepLabCut\\temp_kenzie\\CoM\\DTR\\DTR-M2\\DTR M2 20230405_Pre DTX\\CoM DTR M2 ts3_000013.avi\n",
      "Duration of video [s]:  7.81 , recorded with  500.0 fps!\n",
      "Overall # of frames:  3904  found with (before cropping) frame dimensions:  1280 850\n",
      "Starting to extract posture\n"
     ]
    },
    {
     "name": "stderr",
     "output_type": "stream",
     "text": [
      "3939it [03:01, 21.68it/s]                                                                                                          \n"
     ]
    },
    {
     "name": "stdout",
     "output_type": "stream",
     "text": [
      "Saving results in C:\\Users\\GPU\\Documents\\DeepLabCut\\temp_kenzie\\CoM\\DTR\\DTR-M2\\DTR M2 20230405_Pre DTX...\n",
      "Saving csv poses!\n",
      "Starting to analyze %  C:\\Users\\GPU\\Documents\\DeepLabCut\\temp_kenzie\\CoM\\DTR\\DTR-M2\\DTR M2 20230405_Pre DTX\\CoM DTR M2 ts3_000014.avi\n",
      "C:\\Users\\GPU\\Documents\\DeepLabCut\\temp_kenzie\\CoM\\DTR\\DTR-M2\\DTR M2 20230405_Pre DTX  already exists!\n",
      "Loading  C:\\Users\\GPU\\Documents\\DeepLabCut\\temp_kenzie\\CoM\\DTR\\DTR-M2\\DTR M2 20230405_Pre DTX\\CoM DTR M2 ts3_000014.avi\n",
      "Duration of video [s]:  7.81 , recorded with  500.0 fps!\n",
      "Overall # of frames:  3904  found with (before cropping) frame dimensions:  1280 850\n",
      "Starting to extract posture\n"
     ]
    },
    {
     "name": "stderr",
     "output_type": "stream",
     "text": [
      "3939it [03:01, 21.65it/s]                                                                                                          \n"
     ]
    },
    {
     "name": "stdout",
     "output_type": "stream",
     "text": [
      "Saving results in C:\\Users\\GPU\\Documents\\DeepLabCut\\temp_kenzie\\CoM\\DTR\\DTR-M2\\DTR M2 20230405_Pre DTX...\n",
      "Saving csv poses!\n",
      "Starting to analyze %  C:\\Users\\GPU\\Documents\\DeepLabCut\\temp_kenzie\\CoM\\DTR\\DTR-M2\\DTR M2 20230405_Pre DTX\\CoM DTR M2 ts3_000015.avi\n",
      "C:\\Users\\GPU\\Documents\\DeepLabCut\\temp_kenzie\\CoM\\DTR\\DTR-M2\\DTR M2 20230405_Pre DTX  already exists!\n",
      "Loading  C:\\Users\\GPU\\Documents\\DeepLabCut\\temp_kenzie\\CoM\\DTR\\DTR-M2\\DTR M2 20230405_Pre DTX\\CoM DTR M2 ts3_000015.avi\n",
      "Duration of video [s]:  7.48 , recorded with  500.0 fps!\n",
      "Overall # of frames:  3739  found with (before cropping) frame dimensions:  1280 850\n",
      "Starting to extract posture\n"
     ]
    },
    {
     "name": "stderr",
     "output_type": "stream",
     "text": [
      "3774it [02:53, 21.78it/s]                                                                                                          \n"
     ]
    },
    {
     "name": "stdout",
     "output_type": "stream",
     "text": [
      "Saving results in C:\\Users\\GPU\\Documents\\DeepLabCut\\temp_kenzie\\CoM\\DTR\\DTR-M2\\DTR M2 20230405_Pre DTX...\n",
      "Saving csv poses!\n",
      "Starting to analyze %  C:\\Users\\GPU\\Documents\\DeepLabCut\\temp_kenzie\\CoM\\DTR\\DTR-M2\\DTR M2 20230405_Pre DTX\\CoM DTR M2 ts3_000016.avi\n",
      "C:\\Users\\GPU\\Documents\\DeepLabCut\\temp_kenzie\\CoM\\DTR\\DTR-M2\\DTR M2 20230405_Pre DTX  already exists!\n",
      "Loading  C:\\Users\\GPU\\Documents\\DeepLabCut\\temp_kenzie\\CoM\\DTR\\DTR-M2\\DTR M2 20230405_Pre DTX\\CoM DTR M2 ts3_000016.avi\n",
      "Duration of video [s]:  5.77 , recorded with  500.0 fps!\n",
      "Overall # of frames:  2883  found with (before cropping) frame dimensions:  1280 850\n",
      "Starting to extract posture\n"
     ]
    },
    {
     "name": "stderr",
     "output_type": "stream",
     "text": [
      "2884it [02:15, 21.33it/s]                                                                                                          \n"
     ]
    },
    {
     "name": "stdout",
     "output_type": "stream",
     "text": [
      "Saving results in C:\\Users\\GPU\\Documents\\DeepLabCut\\temp_kenzie\\CoM\\DTR\\DTR-M2\\DTR M2 20230405_Pre DTX...\n",
      "Saving csv poses!\n",
      "Starting to analyze %  C:\\Users\\GPU\\Documents\\DeepLabCut\\temp_kenzie\\CoM\\DTR\\DTR-M2\\DTR M2 20230405_Pre DTX\\CoM DTR M2 ts3_000017.avi\n",
      "C:\\Users\\GPU\\Documents\\DeepLabCut\\temp_kenzie\\CoM\\DTR\\DTR-M2\\DTR M2 20230405_Pre DTX  already exists!\n",
      "Loading  C:\\Users\\GPU\\Documents\\DeepLabCut\\temp_kenzie\\CoM\\DTR\\DTR-M2\\DTR M2 20230405_Pre DTX\\CoM DTR M2 ts3_000017.avi\n",
      "Duration of video [s]:  7.81 , recorded with  500.0 fps!\n",
      "Overall # of frames:  3904  found with (before cropping) frame dimensions:  1280 850\n",
      "Starting to extract posture\n"
     ]
    },
    {
     "name": "stderr",
     "output_type": "stream",
     "text": [
      "3939it [03:01, 21.72it/s]                                                                                                          \n"
     ]
    },
    {
     "name": "stdout",
     "output_type": "stream",
     "text": [
      "Saving results in C:\\Users\\GPU\\Documents\\DeepLabCut\\temp_kenzie\\CoM\\DTR\\DTR-M2\\DTR M2 20230405_Pre DTX...\n",
      "Saving csv poses!\n",
      "Starting to analyze %  C:\\Users\\GPU\\Documents\\DeepLabCut\\temp_kenzie\\CoM\\DTR\\DTR-M2\\DTR M2 20230405_Pre DTX\\CoM DTR M2 ts3_000018.avi\n",
      "C:\\Users\\GPU\\Documents\\DeepLabCut\\temp_kenzie\\CoM\\DTR\\DTR-M2\\DTR M2 20230405_Pre DTX  already exists!\n",
      "Loading  C:\\Users\\GPU\\Documents\\DeepLabCut\\temp_kenzie\\CoM\\DTR\\DTR-M2\\DTR M2 20230405_Pre DTX\\CoM DTR M2 ts3_000018.avi\n",
      "Duration of video [s]:  7.81 , recorded with  500.0 fps!\n",
      "Overall # of frames:  3904  found with (before cropping) frame dimensions:  1280 850\n",
      "Starting to extract posture\n"
     ]
    },
    {
     "name": "stderr",
     "output_type": "stream",
     "text": [
      "3939it [03:02, 21.62it/s]                                                                                                          \n"
     ]
    },
    {
     "name": "stdout",
     "output_type": "stream",
     "text": [
      "Saving results in C:\\Users\\GPU\\Documents\\DeepLabCut\\temp_kenzie\\CoM\\DTR\\DTR-M2\\DTR M2 20230405_Pre DTX...\n",
      "Saving csv poses!\n",
      "Starting to analyze %  C:\\Users\\GPU\\Documents\\DeepLabCut\\temp_kenzie\\CoM\\DTR\\DTR-M2\\DTR M2 20230405_Pre DTX\\CoM DTR M2 ts3_000019.avi\n",
      "C:\\Users\\GPU\\Documents\\DeepLabCut\\temp_kenzie\\CoM\\DTR\\DTR-M2\\DTR M2 20230405_Pre DTX  already exists!\n",
      "Loading  C:\\Users\\GPU\\Documents\\DeepLabCut\\temp_kenzie\\CoM\\DTR\\DTR-M2\\DTR M2 20230405_Pre DTX\\CoM DTR M2 ts3_000019.avi\n",
      "Duration of video [s]:  7.53 , recorded with  500.0 fps!\n",
      "Overall # of frames:  3764  found with (before cropping) frame dimensions:  1280 850\n",
      "Starting to extract posture\n"
     ]
    },
    {
     "name": "stderr",
     "output_type": "stream",
     "text": [
      "3774it [02:55, 21.52it/s]                                                                                                          \n"
     ]
    },
    {
     "name": "stdout",
     "output_type": "stream",
     "text": [
      "Saving results in C:\\Users\\GPU\\Documents\\DeepLabCut\\temp_kenzie\\CoM\\DTR\\DTR-M2\\DTR M2 20230405_Pre DTX...\n",
      "Saving csv poses!\n",
      "Starting to analyze %  C:\\Users\\GPU\\Documents\\DeepLabCut\\temp_kenzie\\CoM\\DTR\\DTR-M2\\DTR M2 20230405_Pre DTX\\CoM DTR M2 ts3_000020.avi\n",
      "C:\\Users\\GPU\\Documents\\DeepLabCut\\temp_kenzie\\CoM\\DTR\\DTR-M2\\DTR M2 20230405_Pre DTX  already exists!\n",
      "Loading  C:\\Users\\GPU\\Documents\\DeepLabCut\\temp_kenzie\\CoM\\DTR\\DTR-M2\\DTR M2 20230405_Pre DTX\\CoM DTR M2 ts3_000020.avi\n",
      "Duration of video [s]:  7.81 , recorded with  500.0 fps!\n",
      "Overall # of frames:  3904  found with (before cropping) frame dimensions:  1280 850\n",
      "Starting to extract posture\n"
     ]
    },
    {
     "name": "stderr",
     "output_type": "stream",
     "text": [
      "3939it [03:01, 21.75it/s]                                                                                                          \n"
     ]
    },
    {
     "name": "stdout",
     "output_type": "stream",
     "text": [
      "Saving results in C:\\Users\\GPU\\Documents\\DeepLabCut\\temp_kenzie\\CoM\\DTR\\DTR-M2\\DTR M2 20230405_Pre DTX...\n",
      "Saving csv poses!\n",
      "Starting to analyze %  C:\\Users\\GPU\\Documents\\DeepLabCut\\temp_kenzie\\CoM\\DTR\\DTR-M2\\DTR M2 20230405_Pre DTX\\CoM DTR M2 ts3_000021.avi\n",
      "C:\\Users\\GPU\\Documents\\DeepLabCut\\temp_kenzie\\CoM\\DTR\\DTR-M2\\DTR M2 20230405_Pre DTX  already exists!\n",
      "Loading  C:\\Users\\GPU\\Documents\\DeepLabCut\\temp_kenzie\\CoM\\DTR\\DTR-M2\\DTR M2 20230405_Pre DTX\\CoM DTR M2 ts3_000021.avi\n",
      "Duration of video [s]:  7.81 , recorded with  500.0 fps!\n",
      "Overall # of frames:  3904  found with (before cropping) frame dimensions:  1280 850\n",
      "Starting to extract posture\n"
     ]
    },
    {
     "name": "stderr",
     "output_type": "stream",
     "text": [
      "3939it [03:01, 21.73it/s]                                                                                                          \n"
     ]
    },
    {
     "name": "stdout",
     "output_type": "stream",
     "text": [
      "Saving results in C:\\Users\\GPU\\Documents\\DeepLabCut\\temp_kenzie\\CoM\\DTR\\DTR-M2\\DTR M2 20230405_Pre DTX...\n",
      "Saving csv poses!\n",
      "Starting to analyze %  C:\\Users\\GPU\\Documents\\DeepLabCut\\temp_kenzie\\CoM\\DTR\\DTR-M2\\DTR M2 20230405_Pre DTX\\CoM DTR M2 ts3_000022.avi\n",
      "C:\\Users\\GPU\\Documents\\DeepLabCut\\temp_kenzie\\CoM\\DTR\\DTR-M2\\DTR M2 20230405_Pre DTX  already exists!\n",
      "Loading  C:\\Users\\GPU\\Documents\\DeepLabCut\\temp_kenzie\\CoM\\DTR\\DTR-M2\\DTR M2 20230405_Pre DTX\\CoM DTR M2 ts3_000022.avi\n",
      "Duration of video [s]:  7.81 , recorded with  500.0 fps!\n",
      "Overall # of frames:  3904  found with (before cropping) frame dimensions:  1280 850\n",
      "Starting to extract posture\n"
     ]
    },
    {
     "name": "stderr",
     "output_type": "stream",
     "text": [
      "3939it [03:01, 21.67it/s]                                                                                                          \n"
     ]
    },
    {
     "name": "stdout",
     "output_type": "stream",
     "text": [
      "Saving results in C:\\Users\\GPU\\Documents\\DeepLabCut\\temp_kenzie\\CoM\\DTR\\DTR-M2\\DTR M2 20230405_Pre DTX...\n",
      "Saving csv poses!\n",
      "Starting to analyze %  C:\\Users\\GPU\\Documents\\DeepLabCut\\temp_kenzie\\CoM\\DTR\\DTR-M2\\DTR M2 20230405_Pre DTX\\CoM DTR M2 ts3_000023.avi\n",
      "C:\\Users\\GPU\\Documents\\DeepLabCut\\temp_kenzie\\CoM\\DTR\\DTR-M2\\DTR M2 20230405_Pre DTX  already exists!\n",
      "Loading  C:\\Users\\GPU\\Documents\\DeepLabCut\\temp_kenzie\\CoM\\DTR\\DTR-M2\\DTR M2 20230405_Pre DTX\\CoM DTR M2 ts3_000023.avi\n",
      "Duration of video [s]:  7.81 , recorded with  500.0 fps!\n",
      "Overall # of frames:  3904  found with (before cropping) frame dimensions:  1280 850\n",
      "Starting to extract posture\n"
     ]
    },
    {
     "name": "stderr",
     "output_type": "stream",
     "text": [
      "3939it [03:01, 21.71it/s]                                                                                                          \n"
     ]
    },
    {
     "name": "stdout",
     "output_type": "stream",
     "text": [
      "Saving results in C:\\Users\\GPU\\Documents\\DeepLabCut\\temp_kenzie\\CoM\\DTR\\DTR-M2\\DTR M2 20230405_Pre DTX...\n",
      "Saving csv poses!\n",
      "Starting to analyze %  C:\\Users\\GPU\\Documents\\DeepLabCut\\temp_kenzie\\CoM\\DTR\\DTR-M3\\DTR M3 20230411_Pre DTX\\CoM DTR M3 ts3_000000.avi\n",
      "C:\\Users\\GPU\\Documents\\DeepLabCut\\temp_kenzie\\CoM\\DTR\\DTR-M3\\DTR M3 20230411_Pre DTX  already exists!\n",
      "Loading  C:\\Users\\GPU\\Documents\\DeepLabCut\\temp_kenzie\\CoM\\DTR\\DTR-M3\\DTR M3 20230411_Pre DTX\\CoM DTR M3 ts3_000000.avi\n",
      "Duration of video [s]:  7.81 , recorded with  500.0 fps!\n",
      "Overall # of frames:  3904  found with (before cropping) frame dimensions:  1280 850\n",
      "Starting to extract posture\n"
     ]
    },
    {
     "name": "stderr",
     "output_type": "stream",
     "text": [
      "3939it [03:03, 21.47it/s]                                                                                                          \n"
     ]
    },
    {
     "name": "stdout",
     "output_type": "stream",
     "text": [
      "Saving results in C:\\Users\\GPU\\Documents\\DeepLabCut\\temp_kenzie\\CoM\\DTR\\DTR-M3\\DTR M3 20230411_Pre DTX...\n",
      "Saving csv poses!\n",
      "Starting to analyze %  C:\\Users\\GPU\\Documents\\DeepLabCut\\temp_kenzie\\CoM\\DTR\\DTR-M3\\DTR M3 20230411_Pre DTX\\CoM DTR M3 ts3_000001.avi\n",
      "C:\\Users\\GPU\\Documents\\DeepLabCut\\temp_kenzie\\CoM\\DTR\\DTR-M3\\DTR M3 20230411_Pre DTX  already exists!\n",
      "Loading  C:\\Users\\GPU\\Documents\\DeepLabCut\\temp_kenzie\\CoM\\DTR\\DTR-M3\\DTR M3 20230411_Pre DTX\\CoM DTR M3 ts3_000001.avi\n",
      "Duration of video [s]:  7.81 , recorded with  500.0 fps!\n",
      "Overall # of frames:  3904  found with (before cropping) frame dimensions:  1280 850\n",
      "Starting to extract posture\n"
     ]
    },
    {
     "name": "stderr",
     "output_type": "stream",
     "text": [
      "3939it [03:01, 21.65it/s]                                                                                                          \n"
     ]
    },
    {
     "name": "stdout",
     "output_type": "stream",
     "text": [
      "Saving results in C:\\Users\\GPU\\Documents\\DeepLabCut\\temp_kenzie\\CoM\\DTR\\DTR-M3\\DTR M3 20230411_Pre DTX...\n",
      "Saving csv poses!\n",
      "Starting to analyze %  C:\\Users\\GPU\\Documents\\DeepLabCut\\temp_kenzie\\CoM\\DTR\\DTR-M3\\DTR M3 20230411_Pre DTX\\CoM DTR M3 ts3_000002.avi\n",
      "C:\\Users\\GPU\\Documents\\DeepLabCut\\temp_kenzie\\CoM\\DTR\\DTR-M3\\DTR M3 20230411_Pre DTX  already exists!\n",
      "Loading  C:\\Users\\GPU\\Documents\\DeepLabCut\\temp_kenzie\\CoM\\DTR\\DTR-M3\\DTR M3 20230411_Pre DTX\\CoM DTR M3 ts3_000002.avi\n",
      "Duration of video [s]:  7.81 , recorded with  500.0 fps!\n",
      "Overall # of frames:  3904  found with (before cropping) frame dimensions:  1280 850\n",
      "Starting to extract posture\n"
     ]
    },
    {
     "name": "stderr",
     "output_type": "stream",
     "text": [
      "3939it [03:02, 21.55it/s]                                                                                                          \n"
     ]
    },
    {
     "name": "stdout",
     "output_type": "stream",
     "text": [
      "Saving results in C:\\Users\\GPU\\Documents\\DeepLabCut\\temp_kenzie\\CoM\\DTR\\DTR-M3\\DTR M3 20230411_Pre DTX...\n",
      "Saving csv poses!\n",
      "Starting to analyze %  C:\\Users\\GPU\\Documents\\DeepLabCut\\temp_kenzie\\CoM\\DTR\\DTR-M3\\DTR M3 20230411_Pre DTX\\CoM DTR M3 ts3_000003.avi\n",
      "C:\\Users\\GPU\\Documents\\DeepLabCut\\temp_kenzie\\CoM\\DTR\\DTR-M3\\DTR M3 20230411_Pre DTX  already exists!\n",
      "Loading  C:\\Users\\GPU\\Documents\\DeepLabCut\\temp_kenzie\\CoM\\DTR\\DTR-M3\\DTR M3 20230411_Pre DTX\\CoM DTR M3 ts3_000003.avi\n",
      "Duration of video [s]:  7.81 , recorded with  500.0 fps!\n",
      "Overall # of frames:  3904  found with (before cropping) frame dimensions:  1280 850\n",
      "Starting to extract posture\n"
     ]
    },
    {
     "name": "stderr",
     "output_type": "stream",
     "text": [
      "3939it [03:02, 21.60it/s]                                                                                                          \n"
     ]
    },
    {
     "name": "stdout",
     "output_type": "stream",
     "text": [
      "Saving results in C:\\Users\\GPU\\Documents\\DeepLabCut\\temp_kenzie\\CoM\\DTR\\DTR-M3\\DTR M3 20230411_Pre DTX...\n",
      "Saving csv poses!\n",
      "Starting to analyze %  C:\\Users\\GPU\\Documents\\DeepLabCut\\temp_kenzie\\CoM\\DTR\\DTR-M3\\DTR M3 20230411_Pre DTX\\CoM DTR M3 ts3_000004.avi\n",
      "C:\\Users\\GPU\\Documents\\DeepLabCut\\temp_kenzie\\CoM\\DTR\\DTR-M3\\DTR M3 20230411_Pre DTX  already exists!\n",
      "Loading  C:\\Users\\GPU\\Documents\\DeepLabCut\\temp_kenzie\\CoM\\DTR\\DTR-M3\\DTR M3 20230411_Pre DTX\\CoM DTR M3 ts3_000004.avi\n",
      "Duration of video [s]:  7.81 , recorded with  500.0 fps!\n",
      "Overall # of frames:  3904  found with (before cropping) frame dimensions:  1280 850\n",
      "Starting to extract posture\n"
     ]
    },
    {
     "name": "stderr",
     "output_type": "stream",
     "text": [
      "3939it [03:00, 21.82it/s]                                                                                                          \n"
     ]
    },
    {
     "name": "stdout",
     "output_type": "stream",
     "text": [
      "Saving results in C:\\Users\\GPU\\Documents\\DeepLabCut\\temp_kenzie\\CoM\\DTR\\DTR-M3\\DTR M3 20230411_Pre DTX...\n",
      "Saving csv poses!\n",
      "Starting to analyze %  C:\\Users\\GPU\\Documents\\DeepLabCut\\temp_kenzie\\CoM\\DTR\\DTR-M3\\DTR M3 20230411_Pre DTX\\CoM DTR M3 ts3_000005.avi\n",
      "C:\\Users\\GPU\\Documents\\DeepLabCut\\temp_kenzie\\CoM\\DTR\\DTR-M3\\DTR M3 20230411_Pre DTX  already exists!\n",
      "Loading  C:\\Users\\GPU\\Documents\\DeepLabCut\\temp_kenzie\\CoM\\DTR\\DTR-M3\\DTR M3 20230411_Pre DTX\\CoM DTR M3 ts3_000005.avi\n",
      "Duration of video [s]:  7.81 , recorded with  500.0 fps!\n",
      "Overall # of frames:  3904  found with (before cropping) frame dimensions:  1280 850\n",
      "Starting to extract posture\n"
     ]
    },
    {
     "name": "stderr",
     "output_type": "stream",
     "text": [
      "3939it [03:00, 21.87it/s]                                                                                                          \n"
     ]
    },
    {
     "name": "stdout",
     "output_type": "stream",
     "text": [
      "Saving results in C:\\Users\\GPU\\Documents\\DeepLabCut\\temp_kenzie\\CoM\\DTR\\DTR-M3\\DTR M3 20230411_Pre DTX...\n",
      "Saving csv poses!\n",
      "Starting to analyze %  C:\\Users\\GPU\\Documents\\DeepLabCut\\temp_kenzie\\CoM\\DTR\\DTR-M3\\DTR M3 20230411_Pre DTX\\CoM DTR M3 ts3_000006.avi\n",
      "C:\\Users\\GPU\\Documents\\DeepLabCut\\temp_kenzie\\CoM\\DTR\\DTR-M3\\DTR M3 20230411_Pre DTX  already exists!\n",
      "Loading  C:\\Users\\GPU\\Documents\\DeepLabCut\\temp_kenzie\\CoM\\DTR\\DTR-M3\\DTR M3 20230411_Pre DTX\\CoM DTR M3 ts3_000006.avi\n",
      "Duration of video [s]:  4.22 , recorded with  500.0 fps!\n",
      "Overall # of frames:  2109  found with (before cropping) frame dimensions:  1280 850\n",
      "Starting to extract posture\n"
     ]
    },
    {
     "name": "stderr",
     "output_type": "stream",
     "text": [
      "2121it [01:39, 21.42it/s]                                                                                                          \n"
     ]
    },
    {
     "name": "stdout",
     "output_type": "stream",
     "text": [
      "Saving results in C:\\Users\\GPU\\Documents\\DeepLabCut\\temp_kenzie\\CoM\\DTR\\DTR-M3\\DTR M3 20230411_Pre DTX...\n",
      "Saving csv poses!\n",
      "Starting to analyze %  C:\\Users\\GPU\\Documents\\DeepLabCut\\temp_kenzie\\CoM\\DTR\\DTR-M3\\DTR M3 20230411_Pre DTX\\CoM DTR M3 ts3_000007.avi\n",
      "C:\\Users\\GPU\\Documents\\DeepLabCut\\temp_kenzie\\CoM\\DTR\\DTR-M3\\DTR M3 20230411_Pre DTX  already exists!\n",
      "Loading  C:\\Users\\GPU\\Documents\\DeepLabCut\\temp_kenzie\\CoM\\DTR\\DTR-M3\\DTR M3 20230411_Pre DTX\\CoM DTR M3 ts3_000007.avi\n",
      "Duration of video [s]:  6.78 , recorded with  500.0 fps!\n",
      "Overall # of frames:  3389  found with (before cropping) frame dimensions:  1280 850\n",
      "Starting to extract posture\n"
     ]
    },
    {
     "name": "stderr",
     "output_type": "stream",
     "text": [
      "3399it [02:38, 21.39it/s]                                                                                                          \n"
     ]
    },
    {
     "name": "stdout",
     "output_type": "stream",
     "text": [
      "Saving results in C:\\Users\\GPU\\Documents\\DeepLabCut\\temp_kenzie\\CoM\\DTR\\DTR-M3\\DTR M3 20230411_Pre DTX...\n",
      "Saving csv poses!\n",
      "Starting to analyze %  C:\\Users\\GPU\\Documents\\DeepLabCut\\temp_kenzie\\CoM\\DTR\\DTR-M3\\DTR M3 20230411_Pre DTX\\CoM DTR M3 ts3_000008.avi\n",
      "C:\\Users\\GPU\\Documents\\DeepLabCut\\temp_kenzie\\CoM\\DTR\\DTR-M3\\DTR M3 20230411_Pre DTX  already exists!\n",
      "Loading  C:\\Users\\GPU\\Documents\\DeepLabCut\\temp_kenzie\\CoM\\DTR\\DTR-M3\\DTR M3 20230411_Pre DTX\\CoM DTR M3 ts3_000008.avi\n",
      "Duration of video [s]:  5.19 , recorded with  500.0 fps!\n",
      "Overall # of frames:  2596  found with (before cropping) frame dimensions:  1280 850\n",
      "Starting to extract posture\n"
     ]
    },
    {
     "name": "stderr",
     "output_type": "stream",
     "text": [
      "2600it [02:02, 21.24it/s]                                                                                                          \n"
     ]
    },
    {
     "name": "stdout",
     "output_type": "stream",
     "text": [
      "Saving results in C:\\Users\\GPU\\Documents\\DeepLabCut\\temp_kenzie\\CoM\\DTR\\DTR-M3\\DTR M3 20230411_Pre DTX...\n",
      "Saving csv poses!\n",
      "Starting to analyze %  C:\\Users\\GPU\\Documents\\DeepLabCut\\temp_kenzie\\CoM\\DTR\\DTR-M3\\DTR M3 20230411_Pre DTX\\CoM DTR M3 ts3_000009.avi\n",
      "C:\\Users\\GPU\\Documents\\DeepLabCut\\temp_kenzie\\CoM\\DTR\\DTR-M3\\DTR M3 20230411_Pre DTX  already exists!\n",
      "Loading  C:\\Users\\GPU\\Documents\\DeepLabCut\\temp_kenzie\\CoM\\DTR\\DTR-M3\\DTR M3 20230411_Pre DTX\\CoM DTR M3 ts3_000009.avi\n",
      "Duration of video [s]:  3.77 , recorded with  500.0 fps!\n",
      "Overall # of frames:  1886  found with (before cropping) frame dimensions:  1280 850\n",
      "Starting to extract posture\n"
     ]
    },
    {
     "name": "stderr",
     "output_type": "stream",
     "text": [
      "1890it [01:29, 21.20it/s]                                                                                                          \n"
     ]
    },
    {
     "name": "stdout",
     "output_type": "stream",
     "text": [
      "Saving results in C:\\Users\\GPU\\Documents\\DeepLabCut\\temp_kenzie\\CoM\\DTR\\DTR-M3\\DTR M3 20230411_Pre DTX...\n",
      "Saving csv poses!\n",
      "Starting to analyze %  C:\\Users\\GPU\\Documents\\DeepLabCut\\temp_kenzie\\CoM\\DTR\\DTR-M3\\DTR M3 20230411_Pre DTX\\CoM DTR M3 ts3_000010.avi\n",
      "C:\\Users\\GPU\\Documents\\DeepLabCut\\temp_kenzie\\CoM\\DTR\\DTR-M3\\DTR M3 20230411_Pre DTX  already exists!\n",
      "Loading  C:\\Users\\GPU\\Documents\\DeepLabCut\\temp_kenzie\\CoM\\DTR\\DTR-M3\\DTR M3 20230411_Pre DTX\\CoM DTR M3 ts3_000010.avi\n",
      "Duration of video [s]:  7.81 , recorded with  500.0 fps!\n",
      "Overall # of frames:  3904  found with (before cropping) frame dimensions:  1280 850\n",
      "Starting to extract posture\n"
     ]
    },
    {
     "name": "stderr",
     "output_type": "stream",
     "text": [
      "3939it [03:02, 21.57it/s]                                                                                                          \n"
     ]
    },
    {
     "name": "stdout",
     "output_type": "stream",
     "text": [
      "Saving results in C:\\Users\\GPU\\Documents\\DeepLabCut\\temp_kenzie\\CoM\\DTR\\DTR-M3\\DTR M3 20230411_Pre DTX...\n",
      "Saving csv poses!\n",
      "Starting to analyze %  C:\\Users\\GPU\\Documents\\DeepLabCut\\temp_kenzie\\CoM\\DTR\\DTR-M3\\DTR M3 20230411_Pre DTX\\CoM DTR M3 ts3_000011.avi\n",
      "C:\\Users\\GPU\\Documents\\DeepLabCut\\temp_kenzie\\CoM\\DTR\\DTR-M3\\DTR M3 20230411_Pre DTX  already exists!\n",
      "Loading  C:\\Users\\GPU\\Documents\\DeepLabCut\\temp_kenzie\\CoM\\DTR\\DTR-M3\\DTR M3 20230411_Pre DTX\\CoM DTR M3 ts3_000011.avi\n",
      "Duration of video [s]:  7.81 , recorded with  500.0 fps!\n",
      "Overall # of frames:  3904  found with (before cropping) frame dimensions:  1280 850\n",
      "Starting to extract posture\n"
     ]
    },
    {
     "name": "stderr",
     "output_type": "stream",
     "text": [
      "3939it [03:01, 21.69it/s]                                                                                                          \n"
     ]
    },
    {
     "name": "stdout",
     "output_type": "stream",
     "text": [
      "Saving results in C:\\Users\\GPU\\Documents\\DeepLabCut\\temp_kenzie\\CoM\\DTR\\DTR-M3\\DTR M3 20230411_Pre DTX...\n",
      "Saving csv poses!\n",
      "Starting to analyze %  C:\\Users\\GPU\\Documents\\DeepLabCut\\temp_kenzie\\CoM\\DTR\\DTR-M3\\DTR M3 20230411_Pre DTX\\CoM DTR M3 ts3_000012.avi\n",
      "C:\\Users\\GPU\\Documents\\DeepLabCut\\temp_kenzie\\CoM\\DTR\\DTR-M3\\DTR M3 20230411_Pre DTX  already exists!\n",
      "Loading  C:\\Users\\GPU\\Documents\\DeepLabCut\\temp_kenzie\\CoM\\DTR\\DTR-M3\\DTR M3 20230411_Pre DTX\\CoM DTR M3 ts3_000012.avi\n",
      "Duration of video [s]:  7.81 , recorded with  500.0 fps!\n",
      "Overall # of frames:  3904  found with (before cropping) frame dimensions:  1280 850\n",
      "Starting to extract posture\n"
     ]
    },
    {
     "name": "stderr",
     "output_type": "stream",
     "text": [
      "3939it [03:01, 21.66it/s]                                                                                                          \n"
     ]
    },
    {
     "name": "stdout",
     "output_type": "stream",
     "text": [
      "Saving results in C:\\Users\\GPU\\Documents\\DeepLabCut\\temp_kenzie\\CoM\\DTR\\DTR-M3\\DTR M3 20230411_Pre DTX...\n",
      "Saving csv poses!\n",
      "Starting to analyze %  C:\\Users\\GPU\\Documents\\DeepLabCut\\temp_kenzie\\CoM\\DTR\\DTR-M3\\DTR M3 20230411_Pre DTX\\CoM DTR M3 ts3_000013.avi\n",
      "C:\\Users\\GPU\\Documents\\DeepLabCut\\temp_kenzie\\CoM\\DTR\\DTR-M3\\DTR M3 20230411_Pre DTX  already exists!\n",
      "Loading  C:\\Users\\GPU\\Documents\\DeepLabCut\\temp_kenzie\\CoM\\DTR\\DTR-M3\\DTR M3 20230411_Pre DTX\\CoM DTR M3 ts3_000013.avi\n",
      "Duration of video [s]:  7.81 , recorded with  500.0 fps!\n",
      "Overall # of frames:  3904  found with (before cropping) frame dimensions:  1280 850\n",
      "Starting to extract posture\n"
     ]
    },
    {
     "name": "stderr",
     "output_type": "stream",
     "text": [
      "3939it [03:00, 21.81it/s]                                                                                                          \n"
     ]
    },
    {
     "name": "stdout",
     "output_type": "stream",
     "text": [
      "Saving results in C:\\Users\\GPU\\Documents\\DeepLabCut\\temp_kenzie\\CoM\\DTR\\DTR-M3\\DTR M3 20230411_Pre DTX...\n",
      "Saving csv poses!\n",
      "Starting to analyze %  C:\\Users\\GPU\\Documents\\DeepLabCut\\temp_kenzie\\CoM\\DTR\\DTR-M3\\DTR M3 20230411_Pre DTX\\CoM DTR M3 ts3_000014.avi\n",
      "C:\\Users\\GPU\\Documents\\DeepLabCut\\temp_kenzie\\CoM\\DTR\\DTR-M3\\DTR M3 20230411_Pre DTX  already exists!\n",
      "Loading  C:\\Users\\GPU\\Documents\\DeepLabCut\\temp_kenzie\\CoM\\DTR\\DTR-M3\\DTR M3 20230411_Pre DTX\\CoM DTR M3 ts3_000014.avi\n",
      "Duration of video [s]:  7.81 , recorded with  500.0 fps!\n",
      "Overall # of frames:  3904  found with (before cropping) frame dimensions:  1280 850\n",
      "Starting to extract posture\n"
     ]
    },
    {
     "name": "stderr",
     "output_type": "stream",
     "text": [
      "3939it [03:02, 21.64it/s]                                                                                                          \n"
     ]
    },
    {
     "name": "stdout",
     "output_type": "stream",
     "text": [
      "Saving results in C:\\Users\\GPU\\Documents\\DeepLabCut\\temp_kenzie\\CoM\\DTR\\DTR-M3\\DTR M3 20230411_Pre DTX...\n",
      "Saving csv poses!\n",
      "Starting to analyze %  C:\\Users\\GPU\\Documents\\DeepLabCut\\temp_kenzie\\CoM\\DTR\\DTR-M3\\DTR M3 20230411_Pre DTX\\CoM DTR M3 ts3_000015.avi\n",
      "C:\\Users\\GPU\\Documents\\DeepLabCut\\temp_kenzie\\CoM\\DTR\\DTR-M3\\DTR M3 20230411_Pre DTX  already exists!\n",
      "Loading  C:\\Users\\GPU\\Documents\\DeepLabCut\\temp_kenzie\\CoM\\DTR\\DTR-M3\\DTR M3 20230411_Pre DTX\\CoM DTR M3 ts3_000015.avi\n",
      "Duration of video [s]:  6.82 , recorded with  500.0 fps!\n",
      "Overall # of frames:  3410  found with (before cropping) frame dimensions:  1280 850\n",
      "Starting to extract posture\n"
     ]
    },
    {
     "name": "stderr",
     "output_type": "stream",
     "text": [
      "3434it [02:40, 21.45it/s]                                                                                                          \n"
     ]
    },
    {
     "name": "stdout",
     "output_type": "stream",
     "text": [
      "Saving results in C:\\Users\\GPU\\Documents\\DeepLabCut\\temp_kenzie\\CoM\\DTR\\DTR-M3\\DTR M3 20230411_Pre DTX...\n",
      "Saving csv poses!\n",
      "Starting to analyze %  C:\\Users\\GPU\\Documents\\DeepLabCut\\temp_kenzie\\CoM\\DTR\\DTR-M3\\DTR M3 20230411_Pre DTX\\CoM DTR M3 ts3_000016.avi\n",
      "C:\\Users\\GPU\\Documents\\DeepLabCut\\temp_kenzie\\CoM\\DTR\\DTR-M3\\DTR M3 20230411_Pre DTX  already exists!\n",
      "Loading  C:\\Users\\GPU\\Documents\\DeepLabCut\\temp_kenzie\\CoM\\DTR\\DTR-M3\\DTR M3 20230411_Pre DTX\\CoM DTR M3 ts3_000016.avi\n",
      "Duration of video [s]:  7.81 , recorded with  500.0 fps!\n",
      "Overall # of frames:  3904  found with (before cropping) frame dimensions:  1280 850\n",
      "Starting to extract posture\n"
     ]
    },
    {
     "name": "stderr",
     "output_type": "stream",
     "text": [
      "3939it [03:01, 21.65it/s]                                                                                                          \n"
     ]
    },
    {
     "name": "stdout",
     "output_type": "stream",
     "text": [
      "Saving results in C:\\Users\\GPU\\Documents\\DeepLabCut\\temp_kenzie\\CoM\\DTR\\DTR-M3\\DTR M3 20230411_Pre DTX...\n",
      "Saving csv poses!\n",
      "Starting to analyze %  C:\\Users\\GPU\\Documents\\DeepLabCut\\temp_kenzie\\CoM\\DTR\\DTR-M3\\DTR M3 20230411_Pre DTX\\CoM DTR M3 ts3_000017.avi\n",
      "C:\\Users\\GPU\\Documents\\DeepLabCut\\temp_kenzie\\CoM\\DTR\\DTR-M3\\DTR M3 20230411_Pre DTX  already exists!\n",
      "Loading  C:\\Users\\GPU\\Documents\\DeepLabCut\\temp_kenzie\\CoM\\DTR\\DTR-M3\\DTR M3 20230411_Pre DTX\\CoM DTR M3 ts3_000017.avi\n",
      "Duration of video [s]:  7.81 , recorded with  500.0 fps!\n",
      "Overall # of frames:  3904  found with (before cropping) frame dimensions:  1280 850\n",
      "Starting to extract posture\n"
     ]
    },
    {
     "name": "stderr",
     "output_type": "stream",
     "text": [
      "3939it [03:01, 21.76it/s]                                                                                                          \n"
     ]
    },
    {
     "name": "stdout",
     "output_type": "stream",
     "text": [
      "Saving results in C:\\Users\\GPU\\Documents\\DeepLabCut\\temp_kenzie\\CoM\\DTR\\DTR-M3\\DTR M3 20230411_Pre DTX...\n",
      "Saving csv poses!\n",
      "Starting to analyze %  C:\\Users\\GPU\\Documents\\DeepLabCut\\temp_kenzie\\CoM\\DTR\\DTR-M3\\DTR M3 20230411_Pre DTX\\CoM DTR M3 ts3_000018.avi\n",
      "C:\\Users\\GPU\\Documents\\DeepLabCut\\temp_kenzie\\CoM\\DTR\\DTR-M3\\DTR M3 20230411_Pre DTX  already exists!\n",
      "Loading  C:\\Users\\GPU\\Documents\\DeepLabCut\\temp_kenzie\\CoM\\DTR\\DTR-M3\\DTR M3 20230411_Pre DTX\\CoM DTR M3 ts3_000018.avi\n",
      "Duration of video [s]:  7.81 , recorded with  500.0 fps!\n",
      "Overall # of frames:  3904  found with (before cropping) frame dimensions:  1280 850\n",
      "Starting to extract posture\n"
     ]
    },
    {
     "name": "stderr",
     "output_type": "stream",
     "text": [
      "3939it [03:02, 21.59it/s]                                                                                                          \n"
     ]
    },
    {
     "name": "stdout",
     "output_type": "stream",
     "text": [
      "Saving results in C:\\Users\\GPU\\Documents\\DeepLabCut\\temp_kenzie\\CoM\\DTR\\DTR-M3\\DTR M3 20230411_Pre DTX...\n",
      "Saving csv poses!\n",
      "Starting to analyze %  C:\\Users\\GPU\\Documents\\DeepLabCut\\temp_kenzie\\CoM\\DTR\\DTR-M3\\DTR M3 20230411_Pre DTX\\CoM DTR M3 ts3_000019.avi\n",
      "C:\\Users\\GPU\\Documents\\DeepLabCut\\temp_kenzie\\CoM\\DTR\\DTR-M3\\DTR M3 20230411_Pre DTX  already exists!\n",
      "Loading  C:\\Users\\GPU\\Documents\\DeepLabCut\\temp_kenzie\\CoM\\DTR\\DTR-M3\\DTR M3 20230411_Pre DTX\\CoM DTR M3 ts3_000019.avi\n",
      "Duration of video [s]:  7.81 , recorded with  500.0 fps!\n",
      "Overall # of frames:  3904  found with (before cropping) frame dimensions:  1280 850\n",
      "Starting to extract posture\n"
     ]
    },
    {
     "name": "stderr",
     "output_type": "stream",
     "text": [
      "3939it [03:04, 21.35it/s]                                                                                                          \n"
     ]
    },
    {
     "name": "stdout",
     "output_type": "stream",
     "text": [
      "Saving results in C:\\Users\\GPU\\Documents\\DeepLabCut\\temp_kenzie\\CoM\\DTR\\DTR-M3\\DTR M3 20230411_Pre DTX...\n",
      "Saving csv poses!\n",
      "Starting to analyze %  C:\\Users\\GPU\\Documents\\DeepLabCut\\temp_kenzie\\CoM\\DTR\\DTR-M3\\DTR M3 20230411_Pre DTX\\CoM DTR M3 ts3_000020.avi\n",
      "C:\\Users\\GPU\\Documents\\DeepLabCut\\temp_kenzie\\CoM\\DTR\\DTR-M3\\DTR M3 20230411_Pre DTX  already exists!\n",
      "Loading  C:\\Users\\GPU\\Documents\\DeepLabCut\\temp_kenzie\\CoM\\DTR\\DTR-M3\\DTR M3 20230411_Pre DTX\\CoM DTR M3 ts3_000020.avi\n",
      "Duration of video [s]:  7.81 , recorded with  500.0 fps!\n",
      "Overall # of frames:  3904  found with (before cropping) frame dimensions:  1280 850\n",
      "Starting to extract posture\n"
     ]
    },
    {
     "name": "stderr",
     "output_type": "stream",
     "text": [
      "3939it [03:02, 21.63it/s]                                                                                                          \n"
     ]
    },
    {
     "name": "stdout",
     "output_type": "stream",
     "text": [
      "Saving results in C:\\Users\\GPU\\Documents\\DeepLabCut\\temp_kenzie\\CoM\\DTR\\DTR-M3\\DTR M3 20230411_Pre DTX...\n",
      "Saving csv poses!\n",
      "Starting to analyze %  C:\\Users\\GPU\\Documents\\DeepLabCut\\temp_kenzie\\CoM\\DTR\\DTR-M3\\DTR M3 20230411_Pre DTX\\CoM DTR M3 ts3_000021.avi\n",
      "C:\\Users\\GPU\\Documents\\DeepLabCut\\temp_kenzie\\CoM\\DTR\\DTR-M3\\DTR M3 20230411_Pre DTX  already exists!\n",
      "Loading  C:\\Users\\GPU\\Documents\\DeepLabCut\\temp_kenzie\\CoM\\DTR\\DTR-M3\\DTR M3 20230411_Pre DTX\\CoM DTR M3 ts3_000021.avi\n",
      "Duration of video [s]:  7.81 , recorded with  500.0 fps!\n",
      "Overall # of frames:  3904  found with (before cropping) frame dimensions:  1280 850\n",
      "Starting to extract posture\n"
     ]
    },
    {
     "name": "stderr",
     "output_type": "stream",
     "text": [
      "3939it [03:01, 21.75it/s]                                                                                                          \n"
     ]
    },
    {
     "name": "stdout",
     "output_type": "stream",
     "text": [
      "Saving results in C:\\Users\\GPU\\Documents\\DeepLabCut\\temp_kenzie\\CoM\\DTR\\DTR-M3\\DTR M3 20230411_Pre DTX...\n",
      "Saving csv poses!\n",
      "Starting to analyze %  C:\\Users\\GPU\\Documents\\DeepLabCut\\temp_kenzie\\CoM\\DTR\\DTR-M3\\DTR M3 20230411_Pre DTX\\CoM DTR M3 ts3_000022.avi\n",
      "C:\\Users\\GPU\\Documents\\DeepLabCut\\temp_kenzie\\CoM\\DTR\\DTR-M3\\DTR M3 20230411_Pre DTX  already exists!\n",
      "Loading  C:\\Users\\GPU\\Documents\\DeepLabCut\\temp_kenzie\\CoM\\DTR\\DTR-M3\\DTR M3 20230411_Pre DTX\\CoM DTR M3 ts3_000022.avi\n",
      "Duration of video [s]:  7.81 , recorded with  500.0 fps!\n",
      "Overall # of frames:  3904  found with (before cropping) frame dimensions:  1280 850\n",
      "Starting to extract posture\n"
     ]
    },
    {
     "name": "stderr",
     "output_type": "stream",
     "text": [
      "3939it [03:00, 21.80it/s]                                                                                                          \n"
     ]
    },
    {
     "name": "stdout",
     "output_type": "stream",
     "text": [
      "Saving results in C:\\Users\\GPU\\Documents\\DeepLabCut\\temp_kenzie\\CoM\\DTR\\DTR-M3\\DTR M3 20230411_Pre DTX...\n",
      "Saving csv poses!\n",
      "Starting to analyze %  C:\\Users\\GPU\\Documents\\DeepLabCut\\temp_kenzie\\CoM\\DTR\\DTR-M3\\DTR M3 20230411_Pre DTX\\CoM DTR M3 ts3_000023.avi\n",
      "C:\\Users\\GPU\\Documents\\DeepLabCut\\temp_kenzie\\CoM\\DTR\\DTR-M3\\DTR M3 20230411_Pre DTX  already exists!\n",
      "Loading  C:\\Users\\GPU\\Documents\\DeepLabCut\\temp_kenzie\\CoM\\DTR\\DTR-M3\\DTR M3 20230411_Pre DTX\\CoM DTR M3 ts3_000023.avi\n",
      "Duration of video [s]:  7.81 , recorded with  500.0 fps!\n",
      "Overall # of frames:  3904  found with (before cropping) frame dimensions:  1280 850\n",
      "Starting to extract posture\n"
     ]
    },
    {
     "name": "stderr",
     "output_type": "stream",
     "text": [
      "3939it [03:01, 21.72it/s]                                                                                                          \n"
     ]
    },
    {
     "name": "stdout",
     "output_type": "stream",
     "text": [
      "Saving results in C:\\Users\\GPU\\Documents\\DeepLabCut\\temp_kenzie\\CoM\\DTR\\DTR-M3\\DTR M3 20230411_Pre DTX...\n",
      "Saving csv poses!\n",
      "Starting to analyze %  C:\\Users\\GPU\\Documents\\DeepLabCut\\temp_kenzie\\CoM\\DTR\\DTR-M3\\DTR M3 20230411_Pre DTX\\CoM DTR M3 ts3_000024.avi\n",
      "C:\\Users\\GPU\\Documents\\DeepLabCut\\temp_kenzie\\CoM\\DTR\\DTR-M3\\DTR M3 20230411_Pre DTX  already exists!\n",
      "Loading  C:\\Users\\GPU\\Documents\\DeepLabCut\\temp_kenzie\\CoM\\DTR\\DTR-M3\\DTR M3 20230411_Pre DTX\\CoM DTR M3 ts3_000024.avi\n",
      "Duration of video [s]:  7.81 , recorded with  500.0 fps!\n",
      "Overall # of frames:  3904  found with (before cropping) frame dimensions:  1280 850\n",
      "Starting to extract posture\n"
     ]
    },
    {
     "name": "stderr",
     "output_type": "stream",
     "text": [
      "3939it [03:02, 21.54it/s]                                                                                                          \n"
     ]
    },
    {
     "name": "stdout",
     "output_type": "stream",
     "text": [
      "Saving results in C:\\Users\\GPU\\Documents\\DeepLabCut\\temp_kenzie\\CoM\\DTR\\DTR-M3\\DTR M3 20230411_Pre DTX...\n",
      "Saving csv poses!\n",
      "Starting to analyze %  C:\\Users\\GPU\\Documents\\DeepLabCut\\temp_kenzie\\CoM\\DTR\\DTR-M3\\DTR M3 20230411_Pre DTX\\CoM DTR M3 ts3_000025.avi\n",
      "C:\\Users\\GPU\\Documents\\DeepLabCut\\temp_kenzie\\CoM\\DTR\\DTR-M3\\DTR M3 20230411_Pre DTX  already exists!\n",
      "Loading  C:\\Users\\GPU\\Documents\\DeepLabCut\\temp_kenzie\\CoM\\DTR\\DTR-M3\\DTR M3 20230411_Pre DTX\\CoM DTR M3 ts3_000025.avi\n",
      "Duration of video [s]:  3.8 , recorded with  500.0 fps!\n",
      "Overall # of frames:  1900  found with (before cropping) frame dimensions:  1280 850\n",
      "Starting to extract posture\n"
     ]
    },
    {
     "name": "stderr",
     "output_type": "stream",
     "text": [
      "1919it [01:28, 21.59it/s]                                                                                                          \n"
     ]
    },
    {
     "name": "stdout",
     "output_type": "stream",
     "text": [
      "Saving results in C:\\Users\\GPU\\Documents\\DeepLabCut\\temp_kenzie\\CoM\\DTR\\DTR-M3\\DTR M3 20230411_Pre DTX...\n",
      "Saving csv poses!\n",
      "Starting to analyze %  C:\\Users\\GPU\\Documents\\DeepLabCut\\temp_kenzie\\CoM\\DTR\\DTR-M5\\DTR-M5-20230404_pre-DTX\\CoM DTR M5 ts3_000000.avi\n",
      "C:\\Users\\GPU\\Documents\\DeepLabCut\\temp_kenzie\\CoM\\DTR\\DTR-M5\\DTR-M5-20230404_pre-DTX  already exists!\n",
      "Loading  C:\\Users\\GPU\\Documents\\DeepLabCut\\temp_kenzie\\CoM\\DTR\\DTR-M5\\DTR-M5-20230404_pre-DTX\\CoM DTR M5 ts3_000000.avi\n",
      "Duration of video [s]:  7.81 , recorded with  500.0 fps!\n",
      "Overall # of frames:  3904  found with (before cropping) frame dimensions:  1280 850\n",
      "Starting to extract posture\n"
     ]
    },
    {
     "name": "stderr",
     "output_type": "stream",
     "text": [
      "3939it [03:01, 21.65it/s]                                                                                                          \n"
     ]
    },
    {
     "name": "stdout",
     "output_type": "stream",
     "text": [
      "Saving results in C:\\Users\\GPU\\Documents\\DeepLabCut\\temp_kenzie\\CoM\\DTR\\DTR-M5\\DTR-M5-20230404_pre-DTX...\n",
      "Saving csv poses!\n",
      "Starting to analyze %  C:\\Users\\GPU\\Documents\\DeepLabCut\\temp_kenzie\\CoM\\DTR\\DTR-M5\\DTR-M5-20230404_pre-DTX\\CoM DTR M5 ts3_000001.avi\n",
      "C:\\Users\\GPU\\Documents\\DeepLabCut\\temp_kenzie\\CoM\\DTR\\DTR-M5\\DTR-M5-20230404_pre-DTX  already exists!\n",
      "Loading  C:\\Users\\GPU\\Documents\\DeepLabCut\\temp_kenzie\\CoM\\DTR\\DTR-M5\\DTR-M5-20230404_pre-DTX\\CoM DTR M5 ts3_000001.avi\n",
      "Duration of video [s]:  7.81 , recorded with  500.0 fps!\n",
      "Overall # of frames:  3904  found with (before cropping) frame dimensions:  1280 850\n",
      "Starting to extract posture\n"
     ]
    },
    {
     "name": "stderr",
     "output_type": "stream",
     "text": [
      "3939it [03:01, 21.72it/s]                                                                                                          \n"
     ]
    },
    {
     "name": "stdout",
     "output_type": "stream",
     "text": [
      "Saving results in C:\\Users\\GPU\\Documents\\DeepLabCut\\temp_kenzie\\CoM\\DTR\\DTR-M5\\DTR-M5-20230404_pre-DTX...\n",
      "Saving csv poses!\n",
      "Starting to analyze %  C:\\Users\\GPU\\Documents\\DeepLabCut\\temp_kenzie\\CoM\\DTR\\DTR-M5\\DTR-M5-20230404_pre-DTX\\CoM DTR M5 ts3_000002.avi\n",
      "C:\\Users\\GPU\\Documents\\DeepLabCut\\temp_kenzie\\CoM\\DTR\\DTR-M5\\DTR-M5-20230404_pre-DTX  already exists!\n",
      "Loading  C:\\Users\\GPU\\Documents\\DeepLabCut\\temp_kenzie\\CoM\\DTR\\DTR-M5\\DTR-M5-20230404_pre-DTX\\CoM DTR M5 ts3_000002.avi\n",
      "Duration of video [s]:  7.81 , recorded with  500.0 fps!\n",
      "Overall # of frames:  3904  found with (before cropping) frame dimensions:  1280 850\n",
      "Starting to extract posture\n"
     ]
    },
    {
     "name": "stderr",
     "output_type": "stream",
     "text": [
      "3939it [03:02, 21.54it/s]                                                                                                          \n"
     ]
    },
    {
     "name": "stdout",
     "output_type": "stream",
     "text": [
      "Saving results in C:\\Users\\GPU\\Documents\\DeepLabCut\\temp_kenzie\\CoM\\DTR\\DTR-M5\\DTR-M5-20230404_pre-DTX...\n",
      "Saving csv poses!\n",
      "Starting to analyze %  C:\\Users\\GPU\\Documents\\DeepLabCut\\temp_kenzie\\CoM\\DTR\\DTR-M5\\DTR-M5-20230404_pre-DTX\\CoM DTR M5 ts3_000003.avi\n",
      "C:\\Users\\GPU\\Documents\\DeepLabCut\\temp_kenzie\\CoM\\DTR\\DTR-M5\\DTR-M5-20230404_pre-DTX  already exists!\n",
      "Loading  C:\\Users\\GPU\\Documents\\DeepLabCut\\temp_kenzie\\CoM\\DTR\\DTR-M5\\DTR-M5-20230404_pre-DTX\\CoM DTR M5 ts3_000003.avi\n",
      "Duration of video [s]:  7.81 , recorded with  500.0 fps!\n",
      "Overall # of frames:  3904  found with (before cropping) frame dimensions:  1280 850\n",
      "Starting to extract posture\n"
     ]
    },
    {
     "name": "stderr",
     "output_type": "stream",
     "text": [
      "3939it [03:02, 21.56it/s]                                                                                                          \n"
     ]
    },
    {
     "name": "stdout",
     "output_type": "stream",
     "text": [
      "Saving results in C:\\Users\\GPU\\Documents\\DeepLabCut\\temp_kenzie\\CoM\\DTR\\DTR-M5\\DTR-M5-20230404_pre-DTX...\n",
      "Saving csv poses!\n",
      "Starting to analyze %  C:\\Users\\GPU\\Documents\\DeepLabCut\\temp_kenzie\\CoM\\DTR\\DTR-M5\\DTR-M5-20230404_pre-DTX\\CoM DTR M5 ts3_000004.avi\n",
      "C:\\Users\\GPU\\Documents\\DeepLabCut\\temp_kenzie\\CoM\\DTR\\DTR-M5\\DTR-M5-20230404_pre-DTX  already exists!\n",
      "Loading  C:\\Users\\GPU\\Documents\\DeepLabCut\\temp_kenzie\\CoM\\DTR\\DTR-M5\\DTR-M5-20230404_pre-DTX\\CoM DTR M5 ts3_000004.avi\n",
      "Duration of video [s]:  7.81 , recorded with  500.0 fps!\n",
      "Overall # of frames:  3904  found with (before cropping) frame dimensions:  1280 850\n",
      "Starting to extract posture\n"
     ]
    },
    {
     "name": "stderr",
     "output_type": "stream",
     "text": [
      "3939it [03:03, 21.48it/s]                                                                                                          \n"
     ]
    },
    {
     "name": "stdout",
     "output_type": "stream",
     "text": [
      "Saving results in C:\\Users\\GPU\\Documents\\DeepLabCut\\temp_kenzie\\CoM\\DTR\\DTR-M5\\DTR-M5-20230404_pre-DTX...\n",
      "Saving csv poses!\n",
      "Starting to analyze %  C:\\Users\\GPU\\Documents\\DeepLabCut\\temp_kenzie\\CoM\\DTR\\DTR-M5\\DTR-M5-20230404_pre-DTX\\CoM DTR M5 ts3_000005.avi\n",
      "C:\\Users\\GPU\\Documents\\DeepLabCut\\temp_kenzie\\CoM\\DTR\\DTR-M5\\DTR-M5-20230404_pre-DTX  already exists!\n",
      "Loading  C:\\Users\\GPU\\Documents\\DeepLabCut\\temp_kenzie\\CoM\\DTR\\DTR-M5\\DTR-M5-20230404_pre-DTX\\CoM DTR M5 ts3_000005.avi\n",
      "Duration of video [s]:  4.04 , recorded with  500.0 fps!\n",
      "Overall # of frames:  2020  found with (before cropping) frame dimensions:  1280 850\n",
      "Starting to extract posture\n"
     ]
    },
    {
     "name": "stderr",
     "output_type": "stream",
     "text": [
      "2040it [01:34, 21.56it/s]                                                                                                          \n"
     ]
    },
    {
     "name": "stdout",
     "output_type": "stream",
     "text": [
      "Saving results in C:\\Users\\GPU\\Documents\\DeepLabCut\\temp_kenzie\\CoM\\DTR\\DTR-M5\\DTR-M5-20230404_pre-DTX...\n",
      "Saving csv poses!\n",
      "Starting to analyze %  C:\\Users\\GPU\\Documents\\DeepLabCut\\temp_kenzie\\CoM\\DTR\\DTR-M5\\DTR-M5-20230404_pre-DTX\\CoM DTR M5 ts3_000006.avi\n",
      "C:\\Users\\GPU\\Documents\\DeepLabCut\\temp_kenzie\\CoM\\DTR\\DTR-M5\\DTR-M5-20230404_pre-DTX  already exists!\n",
      "Loading  C:\\Users\\GPU\\Documents\\DeepLabCut\\temp_kenzie\\CoM\\DTR\\DTR-M5\\DTR-M5-20230404_pre-DTX\\CoM DTR M5 ts3_000006.avi\n",
      "Duration of video [s]:  4.42 , recorded with  500.0 fps!\n",
      "Overall # of frames:  2208  found with (before cropping) frame dimensions:  1280 850\n",
      "Starting to extract posture\n"
     ]
    },
    {
     "name": "stderr",
     "output_type": "stream",
     "text": [
      "2222it [01:42, 21.59it/s]                                                                                                          \n"
     ]
    },
    {
     "name": "stdout",
     "output_type": "stream",
     "text": [
      "Saving results in C:\\Users\\GPU\\Documents\\DeepLabCut\\temp_kenzie\\CoM\\DTR\\DTR-M5\\DTR-M5-20230404_pre-DTX...\n",
      "Saving csv poses!\n",
      "Starting to analyze %  C:\\Users\\GPU\\Documents\\DeepLabCut\\temp_kenzie\\CoM\\DTR\\DTR-M5\\DTR-M5-20230404_pre-DTX\\CoM DTR M5 ts3_000007.avi\n",
      "C:\\Users\\GPU\\Documents\\DeepLabCut\\temp_kenzie\\CoM\\DTR\\DTR-M5\\DTR-M5-20230404_pre-DTX  already exists!\n",
      "Loading  C:\\Users\\GPU\\Documents\\DeepLabCut\\temp_kenzie\\CoM\\DTR\\DTR-M5\\DTR-M5-20230404_pre-DTX\\CoM DTR M5 ts3_000007.avi\n",
      "Duration of video [s]:  5.19 , recorded with  500.0 fps!\n",
      "Overall # of frames:  2594  found with (before cropping) frame dimensions:  1280 850\n",
      "Starting to extract posture\n"
     ]
    },
    {
     "name": "stderr",
     "output_type": "stream",
     "text": [
      "2600it [02:01, 21.45it/s]                                                                                                          \n"
     ]
    },
    {
     "name": "stdout",
     "output_type": "stream",
     "text": [
      "Saving results in C:\\Users\\GPU\\Documents\\DeepLabCut\\temp_kenzie\\CoM\\DTR\\DTR-M5\\DTR-M5-20230404_pre-DTX...\n",
      "Saving csv poses!\n",
      "Starting to analyze %  C:\\Users\\GPU\\Documents\\DeepLabCut\\temp_kenzie\\CoM\\DTR\\DTR-M5\\DTR-M5-20230404_pre-DTX\\CoM DTR M5 ts3_000008.avi\n",
      "C:\\Users\\GPU\\Documents\\DeepLabCut\\temp_kenzie\\CoM\\DTR\\DTR-M5\\DTR-M5-20230404_pre-DTX  already exists!\n",
      "Loading  C:\\Users\\GPU\\Documents\\DeepLabCut\\temp_kenzie\\CoM\\DTR\\DTR-M5\\DTR-M5-20230404_pre-DTX\\CoM DTR M5 ts3_000008.avi\n",
      "Duration of video [s]:  5.46 , recorded with  500.0 fps!\n",
      "Overall # of frames:  2729  found with (before cropping) frame dimensions:  1280 850\n",
      "Starting to extract posture\n"
     ]
    },
    {
     "name": "stderr",
     "output_type": "stream",
     "text": [
      "2754it [02:06, 21.83it/s]                                                                                                          \n"
     ]
    },
    {
     "name": "stdout",
     "output_type": "stream",
     "text": [
      "Saving results in C:\\Users\\GPU\\Documents\\DeepLabCut\\temp_kenzie\\CoM\\DTR\\DTR-M5\\DTR-M5-20230404_pre-DTX...\n",
      "Saving csv poses!\n",
      "Starting to analyze %  C:\\Users\\GPU\\Documents\\DeepLabCut\\temp_kenzie\\CoM\\DTR\\DTR-M5\\DTR-M5-20230404_pre-DTX\\CoM DTR M5 ts3_000009.avi\n",
      "C:\\Users\\GPU\\Documents\\DeepLabCut\\temp_kenzie\\CoM\\DTR\\DTR-M5\\DTR-M5-20230404_pre-DTX  already exists!\n",
      "Loading  C:\\Users\\GPU\\Documents\\DeepLabCut\\temp_kenzie\\CoM\\DTR\\DTR-M5\\DTR-M5-20230404_pre-DTX\\CoM DTR M5 ts3_000009.avi\n",
      "Duration of video [s]:  3.48 , recorded with  500.0 fps!\n",
      "Overall # of frames:  1742  found with (before cropping) frame dimensions:  1280 850\n",
      "Starting to extract posture\n"
     ]
    },
    {
     "name": "stderr",
     "output_type": "stream",
     "text": [
      "1751it [01:21, 21.57it/s]                                                                                                          \n"
     ]
    },
    {
     "name": "stdout",
     "output_type": "stream",
     "text": [
      "Saving results in C:\\Users\\GPU\\Documents\\DeepLabCut\\temp_kenzie\\CoM\\DTR\\DTR-M5\\DTR-M5-20230404_pre-DTX...\n",
      "Saving csv poses!\n",
      "Starting to analyze %  C:\\Users\\GPU\\Documents\\DeepLabCut\\temp_kenzie\\CoM\\DTR\\DTR-M5\\DTR-M5-20230404_pre-DTX\\CoM DTR M5 ts3_000010.avi\n",
      "C:\\Users\\GPU\\Documents\\DeepLabCut\\temp_kenzie\\CoM\\DTR\\DTR-M5\\DTR-M5-20230404_pre-DTX  already exists!\n",
      "Loading  C:\\Users\\GPU\\Documents\\DeepLabCut\\temp_kenzie\\CoM\\DTR\\DTR-M5\\DTR-M5-20230404_pre-DTX\\CoM DTR M5 ts3_000010.avi\n",
      "Duration of video [s]:  7.81 , recorded with  500.0 fps!\n",
      "Overall # of frames:  3904  found with (before cropping) frame dimensions:  1280 850\n",
      "Starting to extract posture\n"
     ]
    },
    {
     "name": "stderr",
     "output_type": "stream",
     "text": [
      "3939it [03:01, 21.68it/s]                                                                                                          \n"
     ]
    },
    {
     "name": "stdout",
     "output_type": "stream",
     "text": [
      "Saving results in C:\\Users\\GPU\\Documents\\DeepLabCut\\temp_kenzie\\CoM\\DTR\\DTR-M5\\DTR-M5-20230404_pre-DTX...\n",
      "Saving csv poses!\n",
      "Starting to analyze %  C:\\Users\\GPU\\Documents\\DeepLabCut\\temp_kenzie\\CoM\\DTR\\DTR-M5\\DTR-M5-20230404_pre-DTX\\CoM DTR M5 ts3_000011.avi\n",
      "C:\\Users\\GPU\\Documents\\DeepLabCut\\temp_kenzie\\CoM\\DTR\\DTR-M5\\DTR-M5-20230404_pre-DTX  already exists!\n",
      "Loading  C:\\Users\\GPU\\Documents\\DeepLabCut\\temp_kenzie\\CoM\\DTR\\DTR-M5\\DTR-M5-20230404_pre-DTX\\CoM DTR M5 ts3_000011.avi\n",
      "Duration of video [s]:  7.81 , recorded with  500.0 fps!\n",
      "Overall # of frames:  3904  found with (before cropping) frame dimensions:  1280 850\n",
      "Starting to extract posture\n"
     ]
    },
    {
     "name": "stderr",
     "output_type": "stream",
     "text": [
      "3939it [03:00, 21.87it/s]                                                                                                          \n"
     ]
    },
    {
     "name": "stdout",
     "output_type": "stream",
     "text": [
      "Saving results in C:\\Users\\GPU\\Documents\\DeepLabCut\\temp_kenzie\\CoM\\DTR\\DTR-M5\\DTR-M5-20230404_pre-DTX...\n",
      "Saving csv poses!\n",
      "Starting to analyze %  C:\\Users\\GPU\\Documents\\DeepLabCut\\temp_kenzie\\CoM\\DTR\\DTR-M5\\DTR-M5-20230404_pre-DTX\\CoM DTR M5 ts3_000012.avi\n",
      "C:\\Users\\GPU\\Documents\\DeepLabCut\\temp_kenzie\\CoM\\DTR\\DTR-M5\\DTR-M5-20230404_pre-DTX  already exists!\n",
      "Loading  C:\\Users\\GPU\\Documents\\DeepLabCut\\temp_kenzie\\CoM\\DTR\\DTR-M5\\DTR-M5-20230404_pre-DTX\\CoM DTR M5 ts3_000012.avi\n",
      "Duration of video [s]:  7.81 , recorded with  500.0 fps!\n",
      "Overall # of frames:  3904  found with (before cropping) frame dimensions:  1280 850\n",
      "Starting to extract posture\n"
     ]
    },
    {
     "name": "stderr",
     "output_type": "stream",
     "text": [
      "3939it [03:02, 21.63it/s]                                                                                                          \n"
     ]
    },
    {
     "name": "stdout",
     "output_type": "stream",
     "text": [
      "Saving results in C:\\Users\\GPU\\Documents\\DeepLabCut\\temp_kenzie\\CoM\\DTR\\DTR-M5\\DTR-M5-20230404_pre-DTX...\n",
      "Saving csv poses!\n",
      "Starting to analyze %  C:\\Users\\GPU\\Documents\\DeepLabCut\\temp_kenzie\\CoM\\DTR\\DTR-M5\\DTR-M5-20230404_pre-DTX\\CoM DTR M5 ts3_000013.avi\n",
      "C:\\Users\\GPU\\Documents\\DeepLabCut\\temp_kenzie\\CoM\\DTR\\DTR-M5\\DTR-M5-20230404_pre-DTX  already exists!\n",
      "Loading  C:\\Users\\GPU\\Documents\\DeepLabCut\\temp_kenzie\\CoM\\DTR\\DTR-M5\\DTR-M5-20230404_pre-DTX\\CoM DTR M5 ts3_000013.avi\n",
      "Duration of video [s]:  7.81 , recorded with  500.0 fps!\n",
      "Overall # of frames:  3904  found with (before cropping) frame dimensions:  1280 850\n",
      "Starting to extract posture\n"
     ]
    },
    {
     "name": "stderr",
     "output_type": "stream",
     "text": [
      "3939it [03:01, 21.74it/s]                                                                                                          \n"
     ]
    },
    {
     "name": "stdout",
     "output_type": "stream",
     "text": [
      "Saving results in C:\\Users\\GPU\\Documents\\DeepLabCut\\temp_kenzie\\CoM\\DTR\\DTR-M5\\DTR-M5-20230404_pre-DTX...\n",
      "Saving csv poses!\n",
      "Starting to analyze %  C:\\Users\\GPU\\Documents\\DeepLabCut\\temp_kenzie\\CoM\\DTR\\DTR-M5\\DTR-M5-20230404_pre-DTX\\CoM DTR M5 ts3_000014.avi\n",
      "C:\\Users\\GPU\\Documents\\DeepLabCut\\temp_kenzie\\CoM\\DTR\\DTR-M5\\DTR-M5-20230404_pre-DTX  already exists!\n",
      "Loading  C:\\Users\\GPU\\Documents\\DeepLabCut\\temp_kenzie\\CoM\\DTR\\DTR-M5\\DTR-M5-20230404_pre-DTX\\CoM DTR M5 ts3_000014.avi\n",
      "Duration of video [s]:  7.81 , recorded with  500.0 fps!\n",
      "Overall # of frames:  3904  found with (before cropping) frame dimensions:  1280 850\n",
      "Starting to extract posture\n"
     ]
    },
    {
     "name": "stderr",
     "output_type": "stream",
     "text": [
      "3939it [03:02, 21.54it/s]                                                                                                          \n"
     ]
    },
    {
     "name": "stdout",
     "output_type": "stream",
     "text": [
      "Saving results in C:\\Users\\GPU\\Documents\\DeepLabCut\\temp_kenzie\\CoM\\DTR\\DTR-M5\\DTR-M5-20230404_pre-DTX...\n",
      "Saving csv poses!\n",
      "Starting to analyze %  C:\\Users\\GPU\\Documents\\DeepLabCut\\temp_kenzie\\CoM\\DTR\\DTR-M5\\DTR-M5-20230404_pre-DTX\\CoM DTR M5 ts3_000015.avi\n",
      "C:\\Users\\GPU\\Documents\\DeepLabCut\\temp_kenzie\\CoM\\DTR\\DTR-M5\\DTR-M5-20230404_pre-DTX  already exists!\n",
      "Loading  C:\\Users\\GPU\\Documents\\DeepLabCut\\temp_kenzie\\CoM\\DTR\\DTR-M5\\DTR-M5-20230404_pre-DTX\\CoM DTR M5 ts3_000015.avi\n",
      "Duration of video [s]:  7.81 , recorded with  500.0 fps!\n",
      "Overall # of frames:  3904  found with (before cropping) frame dimensions:  1280 850\n",
      "Starting to extract posture\n"
     ]
    },
    {
     "name": "stderr",
     "output_type": "stream",
     "text": [
      "3939it [03:01, 21.70it/s]                                                                                                          \n"
     ]
    },
    {
     "name": "stdout",
     "output_type": "stream",
     "text": [
      "Saving results in C:\\Users\\GPU\\Documents\\DeepLabCut\\temp_kenzie\\CoM\\DTR\\DTR-M5\\DTR-M5-20230404_pre-DTX...\n",
      "Saving csv poses!\n",
      "Starting to analyze %  C:\\Users\\GPU\\Documents\\DeepLabCut\\temp_kenzie\\CoM\\DTR\\DTR-M5\\DTR-M5-20230404_pre-DTX\\CoM DTR M5 ts3_000016.avi\n",
      "C:\\Users\\GPU\\Documents\\DeepLabCut\\temp_kenzie\\CoM\\DTR\\DTR-M5\\DTR-M5-20230404_pre-DTX  already exists!\n",
      "Loading  C:\\Users\\GPU\\Documents\\DeepLabCut\\temp_kenzie\\CoM\\DTR\\DTR-M5\\DTR-M5-20230404_pre-DTX\\CoM DTR M5 ts3_000016.avi\n",
      "Duration of video [s]:  7.81 , recorded with  500.0 fps!\n",
      "Overall # of frames:  3904  found with (before cropping) frame dimensions:  1280 850\n",
      "Starting to extract posture\n"
     ]
    },
    {
     "name": "stderr",
     "output_type": "stream",
     "text": [
      "3939it [03:02, 21.54it/s]                                                                                                          \n"
     ]
    },
    {
     "name": "stdout",
     "output_type": "stream",
     "text": [
      "Saving results in C:\\Users\\GPU\\Documents\\DeepLabCut\\temp_kenzie\\CoM\\DTR\\DTR-M5\\DTR-M5-20230404_pre-DTX...\n",
      "Saving csv poses!\n",
      "Starting to analyze %  C:\\Users\\GPU\\Documents\\DeepLabCut\\temp_kenzie\\CoM\\DTR\\DTR-M5\\DTR-M5-20230404_pre-DTX\\CoM DTR M5 ts3_000017.avi\n",
      "C:\\Users\\GPU\\Documents\\DeepLabCut\\temp_kenzie\\CoM\\DTR\\DTR-M5\\DTR-M5-20230404_pre-DTX  already exists!\n",
      "Loading  C:\\Users\\GPU\\Documents\\DeepLabCut\\temp_kenzie\\CoM\\DTR\\DTR-M5\\DTR-M5-20230404_pre-DTX\\CoM DTR M5 ts3_000017.avi\n",
      "Duration of video [s]:  7.81 , recorded with  500.0 fps!\n",
      "Overall # of frames:  3904  found with (before cropping) frame dimensions:  1280 850\n",
      "Starting to extract posture\n"
     ]
    },
    {
     "name": "stderr",
     "output_type": "stream",
     "text": [
      "3939it [03:02, 21.54it/s]                                                                                                          \n"
     ]
    },
    {
     "name": "stdout",
     "output_type": "stream",
     "text": [
      "Saving results in C:\\Users\\GPU\\Documents\\DeepLabCut\\temp_kenzie\\CoM\\DTR\\DTR-M5\\DTR-M5-20230404_pre-DTX...\n",
      "Saving csv poses!\n",
      "Starting to analyze %  C:\\Users\\GPU\\Documents\\DeepLabCut\\temp_kenzie\\CoM\\DTR\\DTR-M5\\DTR-M5-20230404_pre-DTX\\CoM DTR M5 ts3_000018.avi\n",
      "C:\\Users\\GPU\\Documents\\DeepLabCut\\temp_kenzie\\CoM\\DTR\\DTR-M5\\DTR-M5-20230404_pre-DTX  already exists!\n",
      "Loading  C:\\Users\\GPU\\Documents\\DeepLabCut\\temp_kenzie\\CoM\\DTR\\DTR-M5\\DTR-M5-20230404_pre-DTX\\CoM DTR M5 ts3_000018.avi\n",
      "Duration of video [s]:  6.35 , recorded with  500.0 fps!\n",
      "Overall # of frames:  3177  found with (before cropping) frame dimensions:  1280 850\n",
      "Starting to extract posture\n"
     ]
    },
    {
     "name": "stderr",
     "output_type": "stream",
     "text": [
      "3193it [02:28, 21.49it/s]                                                                                                          \n"
     ]
    },
    {
     "name": "stdout",
     "output_type": "stream",
     "text": [
      "Saving results in C:\\Users\\GPU\\Documents\\DeepLabCut\\temp_kenzie\\CoM\\DTR\\DTR-M5\\DTR-M5-20230404_pre-DTX...\n",
      "Saving csv poses!\n",
      "Starting to analyze %  C:\\Users\\GPU\\Documents\\DeepLabCut\\temp_kenzie\\CoM\\DTR\\DTR-M5\\DTR-M5-20230404_pre-DTX\\CoM DTR M5 ts3_000019.avi\n",
      "C:\\Users\\GPU\\Documents\\DeepLabCut\\temp_kenzie\\CoM\\DTR\\DTR-M5\\DTR-M5-20230404_pre-DTX  already exists!\n",
      "Loading  C:\\Users\\GPU\\Documents\\DeepLabCut\\temp_kenzie\\CoM\\DTR\\DTR-M5\\DTR-M5-20230404_pre-DTX\\CoM DTR M5 ts3_000019.avi\n",
      "Duration of video [s]:  7.81 , recorded with  500.0 fps!\n",
      "Overall # of frames:  3904  found with (before cropping) frame dimensions:  1280 850\n",
      "Starting to extract posture\n"
     ]
    },
    {
     "name": "stderr",
     "output_type": "stream",
     "text": [
      "3939it [03:01, 21.75it/s]                                                                                                          \n"
     ]
    },
    {
     "name": "stdout",
     "output_type": "stream",
     "text": [
      "Saving results in C:\\Users\\GPU\\Documents\\DeepLabCut\\temp_kenzie\\CoM\\DTR\\DTR-M5\\DTR-M5-20230404_pre-DTX...\n",
      "Saving csv poses!\n",
      "Starting to analyze %  C:\\Users\\GPU\\Documents\\DeepLabCut\\temp_kenzie\\CoM\\DTR\\DTR-M5\\DTR-M5-20230404_pre-DTX\\CoM DTR M5 ts3_000020.avi\n",
      "C:\\Users\\GPU\\Documents\\DeepLabCut\\temp_kenzie\\CoM\\DTR\\DTR-M5\\DTR-M5-20230404_pre-DTX  already exists!\n",
      "Loading  C:\\Users\\GPU\\Documents\\DeepLabCut\\temp_kenzie\\CoM\\DTR\\DTR-M5\\DTR-M5-20230404_pre-DTX\\CoM DTR M5 ts3_000020.avi\n",
      "Duration of video [s]:  7.81 , recorded with  500.0 fps!\n",
      "Overall # of frames:  3904  found with (before cropping) frame dimensions:  1280 850\n",
      "Starting to extract posture\n"
     ]
    },
    {
     "name": "stderr",
     "output_type": "stream",
     "text": [
      "3939it [03:01, 21.75it/s]                                                                                                          \n"
     ]
    },
    {
     "name": "stdout",
     "output_type": "stream",
     "text": [
      "Saving results in C:\\Users\\GPU\\Documents\\DeepLabCut\\temp_kenzie\\CoM\\DTR\\DTR-M5\\DTR-M5-20230404_pre-DTX...\n",
      "Saving csv poses!\n",
      "Starting to analyze %  C:\\Users\\GPU\\Documents\\DeepLabCut\\temp_kenzie\\CoM\\DTR\\DTR-M5\\DTR-M5-20230404_pre-DTX\\CoM DTR M5 ts3_000021.avi\n",
      "C:\\Users\\GPU\\Documents\\DeepLabCut\\temp_kenzie\\CoM\\DTR\\DTR-M5\\DTR-M5-20230404_pre-DTX  already exists!\n",
      "Loading  C:\\Users\\GPU\\Documents\\DeepLabCut\\temp_kenzie\\CoM\\DTR\\DTR-M5\\DTR-M5-20230404_pre-DTX\\CoM DTR M5 ts3_000021.avi\n",
      "Duration of video [s]:  7.81 , recorded with  500.0 fps!\n",
      "Overall # of frames:  3904  found with (before cropping) frame dimensions:  1280 850\n",
      "Starting to extract posture\n"
     ]
    },
    {
     "name": "stderr",
     "output_type": "stream",
     "text": [
      "3939it [03:01, 21.70it/s]                                                                                                          \n"
     ]
    },
    {
     "name": "stdout",
     "output_type": "stream",
     "text": [
      "Saving results in C:\\Users\\GPU\\Documents\\DeepLabCut\\temp_kenzie\\CoM\\DTR\\DTR-M5\\DTR-M5-20230404_pre-DTX...\n",
      "Saving csv poses!\n",
      "The videos are analyzed. Now your research can truly start! \n",
      " You can create labeled videos with 'create_labeled_video'\n",
      "If the tracking is not satisfactory for some videos, consider expanding the training set. You can use the function 'extract_outlier_frames' to extract a few representative outlier frames.\n"
     ]
    }
   ],
   "source": [
    "deeplabcut.launch_dlc()"
   ]
  },
  {
   "cell_type": "code",
   "execution_count": null,
   "metadata": {},
   "outputs": [],
   "source": [
    "deeplabcut.analyze_videos(COND)"
   ]
  }
 ],
 "metadata": {
  "kernelspec": {
   "display_name": "dlcm1",
   "language": "python",
   "name": "python3"
  },
  "language_info": {
   "codemirror_mode": {
    "name": "ipython",
    "version": 3
   },
   "file_extension": ".py",
   "mimetype": "text/x-python",
   "name": "python",
   "nbconvert_exporter": "python",
   "pygments_lexer": "ipython3",
   "version": "3.9.18"
  }
 },
 "nbformat": 4,
 "nbformat_minor": 4
}
