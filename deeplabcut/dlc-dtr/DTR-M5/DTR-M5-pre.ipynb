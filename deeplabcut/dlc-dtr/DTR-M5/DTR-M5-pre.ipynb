{
 "cells": [
  {
   "cell_type": "markdown",
   "id": "8ecc87b8",
   "metadata": {},
   "source": [
    "# This is the analysis for Center of Mass Project\n",
    "\n",
    "The goal of this is notebook is to bring together the general guidance on using DeepLabCut, while making the analysis executable in context with the associated directions. The first step will be to activate the relevant `conda` environment, which contains DeepLabCut. \n",
    "- In the case of the GPU computer, this will be done by launching the *anaconda prompt (anaconda powershell prompt is also fine)* in administator mode and typing `conda activate dlc-windowsGPU-2023'` \n",
    "- If you are using you're own PC, then the command would be `conda activate DEEPLABCUT`.\n",
    "\n",
    "\n",
    "\n",
    "## General Overview\n",
    "\n",
    "1. Import relevant packages and create project\n",
    "2. Extract frames from imported videos\n",
    "3. Label frames from videos to denote anatomincal landmarks\n",
    "4. Train Neural Network (GPU Intensive)\n",
    "5. Evalualte Network"
   ]
  },
  {
   "cell_type": "markdown",
   "id": "d7b863f7",
   "metadata": {},
   "source": [
    "First step will be to import deeplabcut.\n",
    "- Running blocks of code in jupyter is done by making sure that you are one the block you want to run and either pressing the run button above or the shortcut (Ctrl+Enter)."
   ]
  },
  {
   "cell_type": "code",
   "execution_count": 2,
   "id": "68590d88",
   "metadata": {
    "scrolled": false
   },
   "outputs": [
    {
     "ename": "ModuleNotFoundError",
     "evalue": "No module named 'deeplabcut'",
     "output_type": "error",
     "traceback": [
      "\u001b[0;31m---------------------------------------------------------------------------\u001b[0m",
      "\u001b[0;31mModuleNotFoundError\u001b[0m                       Traceback (most recent call last)",
      "Cell \u001b[0;32mIn[2], line 1\u001b[0m\n\u001b[0;32m----> 1\u001b[0m \u001b[39mimport\u001b[39;00m \u001b[39mdeeplabcut\u001b[39;00m\n\u001b[1;32m      2\u001b[0m \u001b[39mimport\u001b[39;00m \u001b[39mnumpy\u001b[39;00m \u001b[39mas\u001b[39;00m \u001b[39mnp\u001b[39;00m\n\u001b[1;32m      3\u001b[0m \u001b[39mimport\u001b[39;00m \u001b[39mpandas\u001b[39;00m \u001b[39mas\u001b[39;00m \u001b[39mpd\u001b[39;00m\n",
      "\u001b[0;31mModuleNotFoundError\u001b[0m: No module named 'deeplabcut'"
     ]
    }
   ],
   "source": [
    "import deeplabcut\n",
    "import numpy as np\n",
    "import pandas as pd"
   ]
  },
  {
   "cell_type": "markdown",
   "id": "29feace0",
   "metadata": {},
   "source": [
    "### Project Creation\n",
    "\n",
    "Here we will use the block written below to create a new project.\n",
    "\n",
    "> Do not run the block below if you have already made your project. You can move down to the block containing `config_path`."
   ]
  },
  {
   "cell_type": "code",
   "execution_count": null,
   "id": "90cf13b8",
   "metadata": {
    "scrolled": false
   },
   "outputs": [],
   "source": [
    "# -*- coding: utf-8 -*-\n",
    "\"\"\"\n",
    "Created on Mon Feb  6 11:09:35 2023\n",
    "\n",
    "@author: Kenzie MacKinnon\n",
    "\n",
    "The purpose of this script is to facilitate the import and creation of a new\n",
    "DeepLabCut project.\n",
    "\n",
    "The does project creation in a more interactive way if you run it.\n",
    "You can also assign the appropriate variable in the code block below\n",
    "\n",
    "\"\"\"\n",
    "\n",
    "# %% Imports\n",
    "import os\n",
    "import platform\n",
    "from datetime import datetime\n",
    "from pathlib import Path\n",
    "\n",
    "# Functions\n",
    "def filePathList(dir_path):\n",
    "    file_paths = []\n",
    "    for root, dirs, files in os.walk(dir_path):\n",
    "        for file in files:\n",
    "            file_paths.append(os.path.join(root, file))\n",
    "    return file_paths\n",
    "\n",
    "def pathconvUnixToDos(paths):\n",
    "    dos_paths = []\n",
    "    for path in paths:\n",
    "        dos_path = path.replace('/', '\\\\')\n",
    "        dos_paths.append(dos_path)\n",
    "    return dos_paths\n",
    "\n",
    "def directoryPresent(targetPath, projName):\n",
    "    path = os.path.join(projName, targetPath)\n",
    "\n",
    "    # Will return boolean\n",
    "    return os.path.isdir(path)\n",
    "\n",
    "\n",
    "# Gathering User input\n",
    "projectName = \"DTR-M5-pre\"\n",
    "experimenterName = \"kenzie\"\n",
    "targetForProject = \"\\\\Kenzie\\\\CoM\\\\DTR\\\\DTR-M5\\\\\"\n",
    "\n",
    "# Depending on the OS processing the file we will run different functions to create file path lists\n",
    "operatingSystem = platform.system()\n",
    "\n",
    "if operatingSystem == \"Windows\":\n",
    "    print(\"Window operating system detected!\")\n",
    "\n",
    "    # Path where recorded videos can currently be found\n",
    "    videoImportPath = \"\\\\Kenzie\\\\CoM\\\\DTR\\\\DTR-M5\\\\DTR-M5-20230404_pre-DTX\\\\\"\n",
    "\n",
    "    # Creating list of file paths for each video in specified folder\n",
    "    file_paths = filePathList(videoImportPath)\n",
    "\n",
    "    # Changing file paths from Unix format to DOS for videos\n",
    "    dos_path_conversion = pathconvUnixToDos(file_paths)\n",
    "    file_paths = dos_path_conversion\n",
    "\n",
    "    # Changing file paths from Unix format to DOS for target directory\n",
    "    # unixPathComponents = targetForProject.split('/')\n",
    "    # targetForProject = os.path.join(*unixPathComponents).replace('/', os.sep)\n",
    "    # print(targetForProject)\n",
    "elif operatingSystem == \"Linux\":\n",
    "    print(\"Linux operating system detected!\")\n",
    "    # Path where recorded videos can currently be found\n",
    "    videoImportPath = str(input(\"Enter file path for videos you want to import: \"))\n",
    "\n",
    "    # Creating list of file paths for each video in specified folder\n",
    "    file_paths = filePathList(videoImportPath)\n",
    "elif operatingSystem == \"Darwin\":\n",
    "    print(\"Darwin(MacOS) operating system detected!\")\n",
    "    # Path where recorded videos can currently be found\n",
    "    videoImportPath = str(input(\"Enter file path for videos you want to import: \"))\n",
    "\n",
    "    # Creating list of file paths for each video in specified folder\n",
    "    file_paths = filePathList(videoImportPath)\n",
    "else:\n",
    "    print(\"Operating system not detected!\")\n",
    "    print(\"Falling back onto Unix path protocol\")\n",
    "    # Path where recorded videos can currently be found\n",
    "    videoImportPath = str(input(\"Enter file path for videos you want to import: \"))\n",
    "\n",
    "    # Creating list of file paths for each video in specified folder\n",
    "    file_paths = filePathList(videoImportPath)\n",
    "\n",
    "# Checking result of variable file path importing\n",
    "print(\"Project Name: \" + projectName)\n",
    "print(\"Experimenter: \" + experimenterName)\n",
    "print(\"Output of file paths:\")\n",
    "print(\"--------------------\")\n",
    "print(file_paths)\n",
    "# %% Creation of project\n",
    "\n",
    "# Checking to see if project with same name already exists\n",
    "current_date = datetime.now().strftime(\"%Y-%m-%d\")\n",
    "\n",
    "newProjectName = projectName + \"-\" + experimenterName + \"-\" + current_date\n",
    "\n",
    "if directoryPresent(newProjectName, targetForProject):\n",
    "    print(f\"Directory {newProjectName} already exists in {targetForProject}.\")\n",
    "else:\n",
    "    print(f\"Directory {newProjectName} does not exist in {targetForProject}.\")\n",
    "    config_path = deeplabcut.create_new_project(projectName, experimenterName, file_paths, working_directory=(targetForProject), copy_videos=True)\n",
    "\n",
    "# # %% Extract frames from videos\n",
    "# deeplabcut.extract_frames(config_path, mode='automatic', userfeedback=False)\n",
    "#\n",
    "# # %% Label frames\n",
    "# deeplabcut.label_frames(config_path)\n",
    "#\n",
    "# # %% Check Annotated Frames\n",
    "# deeplabcut.check_labels(config_path, visualizeindividuals=True)\n",
    "#"
   ]
  },
  {
   "cell_type": "markdown",
   "id": "f6e3060f",
   "metadata": {},
   "source": [
    "On windows server config path"
   ]
  },
  {
   "cell_type": "code",
   "execution_count": 2,
   "id": "4619c5fd",
   "metadata": {
    "scrolled": true
   },
   "outputs": [],
   "source": [
    "config_path = '\\\\Kenzie\\\\CoM\\\\DTR\\\\DTR-M5\\\\DTR-M5-pre-kenzie-2023-06-30\\\\config.yaml'\n",
    "videofile_path = '\\\\Kenzie\\\\CoM\\\\DTR\\\\DTR-M5\\\\DTR-M5-20230404_pre-DTX\\\\'\n",
    "VideoType = 'avi'"
   ]
  },
  {
   "cell_type": "markdown",
   "id": "82461fcd",
   "metadata": {},
   "source": [
    "On unix server config path"
   ]
  },
  {
   "cell_type": "code",
   "execution_count": null,
   "id": "c36ff53c",
   "metadata": {
    "scrolled": true
   },
   "outputs": [],
   "source": [
    "config_path = '/Volumes/Common/Kenzie/dlc-projects/CoM-M3-WT-20220420-kenzie-2023-03-01/config.yaml'"
   ]
  },
  {
   "cell_type": "code",
   "execution_count": null,
   "id": "817ac599",
   "metadata": {
    "scrolled": true
   },
   "outputs": [],
   "source": [
    "deeplabcut.extract_frames(config_path, mode='automatic', algo='kmeans', userfeedback=False, crop=True)"
   ]
  },
  {
   "cell_type": "code",
   "execution_count": 3,
   "id": "2e4961e6",
   "metadata": {
    "scrolled": true
   },
   "outputs": [
    {
     "name": "stderr",
     "output_type": "stream",
     "text": [
      "WARNING: QStatusBar::insertPermanentWidget: Index out of range (0), appending widget\n"
     ]
    }
   ],
   "source": [
    "deeplabcut.label_frames(config_path)"
   ]
  },
  {
   "cell_type": "markdown",
   "id": "cb6a2c33",
   "metadata": {},
   "source": [
    "### Checking Labeling"
   ]
  },
  {
   "cell_type": "code",
   "execution_count": null,
   "id": "701008ab",
   "metadata": {
    "scrolled": true
   },
   "outputs": [],
   "source": [
    "deeplabcut.check_labels(config_path, visualizeindividuals=False)"
   ]
  },
  {
   "cell_type": "markdown",
   "id": "199ae083",
   "metadata": {},
   "source": [
    "### Create Training Dataset\n",
    "\n",
    "Only run this step where you are going to train the network. If you label on your laptop but move your project folder to Google Colab or AWS, lab server, etc, then run the step below on that platform! If you labeled on a Windows machine but train on Linux, this is fine as of 2.0.4 onwards it will be done automatically (it saves file sets as both Linux and Windows for you)."
   ]
  },
  {
   "cell_type": "code",
   "execution_count": null,
   "id": "e586a571",
   "metadata": {
    "scrolled": true
   },
   "outputs": [],
   "source": [
    "deeplabcut.create_training_dataset(config_path, augmenter_type='imgaug')"
   ]
  },
  {
   "cell_type": "markdown",
   "id": "12ec8f3d",
   "metadata": {},
   "source": [
    "### Network Training\n",
    "\n",
    "This part is where you would want to be leveraging the GPU's on the big PC to training the Neural Network."
   ]
  },
  {
   "cell_type": "code",
   "execution_count": null,
   "id": "fa842cc7",
   "metadata": {
    "scrolled": true
   },
   "outputs": [],
   "source": [
    "deeplabcut.train_network(config_path)"
   ]
  },
  {
   "cell_type": "code",
   "execution_count": null,
   "id": "bf05132d",
   "metadata": {
    "scrolled": true
   },
   "outputs": [],
   "source": [
    "%matplotlib\n",
    "# Network evaluation\n",
    "\n",
    "deeplabcut.evaluate_network(config_path, plotting=True)"
   ]
  },
  {
   "cell_type": "markdown",
   "id": "99f04a5e",
   "metadata": {},
   "source": [
    "# Begin Video Analysis"
   ]
  },
  {
   "cell_type": "code",
   "execution_count": null,
   "id": "e5b2a7e6",
   "metadata": {
    "scrolled": true
   },
   "outputs": [],
   "source": [
    "deeplabcut.analyze_videos(config_path, videofile_path, videotype=VideoType)"
   ]
  },
  {
   "cell_type": "markdown",
   "id": "3fb4041c",
   "metadata": {},
   "source": [
    "# Plot the Trajectory"
   ]
  },
  {
   "cell_type": "code",
   "execution_count": null,
   "id": "648d9893",
   "metadata": {
    "scrolled": true
   },
   "outputs": [],
   "source": [
    "deeplabcut.plot_trajectories(config_path,videofile_path, videotype=VideoType)"
   ]
  },
  {
   "cell_type": "code",
   "execution_count": null,
   "id": "b2c69b17",
   "metadata": {
    "scrolled": true
   },
   "outputs": [],
   "source": [
    "deeplabcut.create_labeled_video(config_path, videofile_path, videotype=VideoType)"
   ]
  },
  {
   "cell_type": "markdown",
   "id": "c03274df",
   "metadata": {},
   "source": [
    "# Finding frames with abnormal body part Distances\n",
    "\n"
   ]
  },
  {
   "cell_type": "code",
   "execution_count": null,
   "id": "e00a986d",
   "metadata": {
    "scrolled": false
   },
   "outputs": [],
   "source": [
    "\n",
    "max_dist = 100\n",
    "df = pd.read_hdf('path_to_your_labeled_data_file')\n",
    "bpt1 = df.xs('head', level='bodyparts', axis=1).to_numpy()\n",
    "bpt2 = df.xs('tail', level='bodyparts', axis=1).to_numpy()\n",
    "# We calculate the vectors from a point to the other\n",
    "# and group them per frame and per animal.\n",
    "try:\n",
    "    diff = (bpt1 - bpt2).reshape((len(df), -1, 2))\n",
    "except ValueError:\n",
    "    diff = (bpt1 - bpt2).reshape((len(df), -1, 3))\n",
    "dist = np.linalg.norm(diff, axis=2)\n",
    "mask = np.any(dist >= max_dist, axis=1)\n",
    "flagged_frames = df.iloc[mask].index"
   ]
  }
 ],
 "metadata": {
  "kernelspec": {
   "display_name": "Python 3 (ipykernel)",
   "language": "python",
   "name": "python3"
  },
  "language_info": {
   "codemirror_mode": {
    "name": "ipython",
    "version": 3
   },
   "file_extension": ".py",
   "mimetype": "text/x-python",
   "name": "python",
   "nbconvert_exporter": "python",
   "pygments_lexer": "ipython3",
   "version": "3.9.16"
  },
  "vscode": {
   "interpreter": {
    "hash": "9565301901e75327fdc7fb6f564cf4ec01f7a567182f2fdf4865a4f02c22ee08"
   }
  }
 },
 "nbformat": 4,
 "nbformat_minor": 5
}
