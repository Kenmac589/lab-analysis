{
 "cells": [
  {
   "cell_type": "markdown",
   "id": "8ecc87b8",
   "metadata": {},
   "source": [
    "# This is the analysis for Center of Mass Project\n",
    "\n",
    "The goal of this is notebook is to bring together the general guidance on using DeepLabCut, while making the analysis executable in context with the associated directions. The first step will be to activate the relevant `conda` environment, which contains DeepLabCut. \n",
    "- In the case of the GPU computer, this will be done by launching the *anaconda prompt (anaconda powershell prompt is also fine)* in administator mode and typing `conda activate dlc-windowsGPU-2023'` \n",
    "- If you are using you're own PC, then the command would be `conda activate DEEPLABCUT`.\n",
    "\n",
    "\n",
    "\n",
    "## General Overview\n",
    "\n",
    "1. Import relevant packages and create project\n",
    "2. Extract frames from imported videos\n",
    "3. Label frames from videos to denote anatomincal landmarks\n",
    "4. Train Neural Network (GPU Intensive)\n",
    "5. Evalualte Network"
   ]
  },
  {
   "cell_type": "markdown",
   "id": "d7b863f7",
   "metadata": {},
   "source": [
    "First step will be to import deeplabcut.\n",
    "- Running blocks of code in jupyter is done by making sure that you are one the block you want to run and either pressing the run button above or the shortcut (Ctrl+Enter)."
   ]
  },
  {
   "cell_type": "code",
   "execution_count": 2,
   "id": "68590d88",
   "metadata": {
    "scrolled": false
   },
   "outputs": [
    {
     "name": "stdout",
     "output_type": "stream",
     "text": [
      "Loading DLC 2.3.8...\n"
     ]
    },
    {
     "name": "stderr",
     "output_type": "stream",
     "text": [
      "/Users/kenzie_mackinnon/miniforge/envs/dlcm1/lib/python3.9/site-packages/tqdm/auto.py:21: TqdmWarning: IProgress not found. Please update jupyter and ipywidgets. See https://ipywidgets.readthedocs.io/en/stable/user_install.html\n",
      "  from .autonotebook import tqdm as notebook_tqdm\n"
     ]
    }
   ],
   "source": [
    "import deeplabcut\n",
    "import numpy as np\n",
    "import pandas as pd"
   ]
  },
  {
   "cell_type": "markdown",
   "id": "29feace0",
   "metadata": {},
   "source": [
    "### Project Creation\n",
    "\n",
    "Here we will use the block written below to create a new project.\n",
    "\n",
    "> Do not run the block below if you have already made your project. You can move down to the block containing `config_path`."
   ]
  },
  {
   "cell_type": "code",
   "execution_count": 2,
   "id": "90cf13b8",
   "metadata": {
    "scrolled": false
   },
   "outputs": [
    {
     "name": "stdout",
     "output_type": "stream",
     "text": [
      "Darwin(MacOS) operating system detected!\n",
      "Project Name: mole_rat_right\n",
      "Experimenter: kenzie\n",
      "Output of file paths:\n",
      "--------------------\n",
      "['/Users/kenzie_mackinnon/sync/lab-analysis/deeplabcut/right/GX010854_run5_FWr.avi', '/Users/kenzie_mackinnon/sync/lab-analysis/deeplabcut/right/GX010851_run 3_FWr.avi', '/Users/kenzie_mackinnon/sync/lab-analysis/deeplabcut/right/GX010856_example 1_BWl and FWr.avi', '/Users/kenzie_mackinnon/sync/lab-analysis/deeplabcut/right/GX010855_run 2_FWr.avi', '/Users/kenzie_mackinnon/sync/lab-analysis/deeplabcut/right/GX010854_run8_BWl.avi', '/Users/kenzie_mackinnon/sync/lab-analysis/deeplabcut/right/GX010851_run 2_FWr.avi', '/Users/kenzie_mackinnon/sync/lab-analysis/deeplabcut/right/GX010849_run 5_FWr.avi', '/Users/kenzie_mackinnon/sync/lab-analysis/deeplabcut/right/GX010852_run 3_FWr.avi', '/Users/kenzie_mackinnon/sync/lab-analysis/deeplabcut/right/GX010854_run12_FWr.avi', '/Users/kenzie_mackinnon/sync/lab-analysis/deeplabcut/right/GX010847_run 7_FWr.avi', '/Users/kenzie_mackinnon/sync/lab-analysis/deeplabcut/right/GX010855_run 5_BWl.avi', '/Users/kenzie_mackinnon/sync/lab-analysis/deeplabcut/right/GX010856_run 1_FWr.avi', '/Users/kenzie_mackinnon/sync/lab-analysis/deeplabcut/right/GX010852_run 1_FWr.avi', '/Users/kenzie_mackinnon/sync/lab-analysis/deeplabcut/right/GX010849_run 2_BWl.avi', '/Users/kenzie_mackinnon/sync/lab-analysis/deeplabcut/right/GX010848_run 2_FWr.avi', '/Users/kenzie_mackinnon/sync/lab-analysis/deeplabcut/right/GX010851_example 1_FWr and BWl.avi', '/Users/kenzie_mackinnon/sync/lab-analysis/deeplabcut/right/GX010854_run7_FWr.avi', '/Users/kenzie_mackinnon/sync/lab-analysis/deeplabcut/right/GX010854_run11_FWr.avi', '/Users/kenzie_mackinnon/sync/lab-analysis/deeplabcut/right/GX010847_run 4_FWr.avi', '/Users/kenzie_mackinnon/sync/lab-analysis/deeplabcut/right/GX010855_run 1_FWr.avi', '/Users/kenzie_mackinnon/sync/lab-analysis/deeplabcut/right/GX010855_run 4_BWl.avi', '/Users/kenzie_mackinnon/sync/lab-analysis/deeplabcut/right/GX010846_run 1_FWr.avi', '/Users/kenzie_mackinnon/sync/lab-analysis/deeplabcut/right/GX010852_run 5_BWl.avi', '/Users/kenzie_mackinnon/sync/lab-analysis/deeplabcut/right/GX010851_run 1_FWr.avi', '/Users/kenzie_mackinnon/sync/lab-analysis/deeplabcut/right/GX010847_run 1_FWr.avi', '/Users/kenzie_mackinnon/sync/lab-analysis/deeplabcut/right/GX010854_run14_FWr.avi', '/Users/kenzie_mackinnon/sync/lab-analysis/deeplabcut/right/GX010853_run 4_BWl.avi', '/Users/kenzie_mackinnon/sync/lab-analysis/deeplabcut/right/GX010853_run 1_FWr.avi', '/Users/kenzie_mackinnon/sync/lab-analysis/deeplabcut/right/GX010849_run 10_FWr.avi', '/Users/kenzie_mackinnon/sync/lab-analysis/deeplabcut/right/GX010854_run6_BWl.avi', '/Users/kenzie_mackinnon/sync/lab-analysis/deeplabcut/right/GX010851_run 5_FWr.avi', '/Users/kenzie_mackinnon/sync/lab-analysis/deeplabcut/right/GX010852_run 4_FWr.avi', '/Users/kenzie_mackinnon/sync/lab-analysis/deeplabcut/right/GX010849_run 9_FWr.avi', '/Users/kenzie_mackinnon/sync/lab-analysis/deeplabcut/right/GX010846_run 7_FWr.avi', '/Users/kenzie_mackinnon/sync/lab-analysis/deeplabcut/right/GX010855_run 7_FWr.avi', '/Users/kenzie_mackinnon/sync/lab-analysis/deeplabcut/right/GX010849_run 4_BWl.avi', '/Users/kenzie_mackinnon/sync/lab-analysis/deeplabcut/right/GX010855_run 3_BWl.avi', '/Users/kenzie_mackinnon/sync/lab-analysis/deeplabcut/right/GX010854_run9_FWr.avi', '/Users/kenzie_mackinnon/sync/lab-analysis/deeplabcut/right/GX010849_run 8_FWr.avi']\n",
      "Directory mole_rat_right-kenzie-2024-01-08 does not exist in /Users/kenzie_mackinnon/sync/lab-analysis/deeplabcut/.\n",
      "Created \"/Users/kenzie_mackinnon/sync/lab-analysis/deeplabcut/mole_rat_right-kenzie-2024-01-08/videos\"\n",
      "Created \"/Users/kenzie_mackinnon/sync/lab-analysis/deeplabcut/mole_rat_right-kenzie-2024-01-08/labeled-data\"\n",
      "Created \"/Users/kenzie_mackinnon/sync/lab-analysis/deeplabcut/mole_rat_right-kenzie-2024-01-08/training-datasets\"\n",
      "Created \"/Users/kenzie_mackinnon/sync/lab-analysis/deeplabcut/mole_rat_right-kenzie-2024-01-08/dlc-models\"\n",
      "Copying the videos\n",
      "/Users/kenzie_mackinnon/sync/lab-analysis/deeplabcut/mole_rat_right-kenzie-2024-01-08/videos/GX010854_run5_FWr.avi\n",
      "/Users/kenzie_mackinnon/sync/lab-analysis/deeplabcut/mole_rat_right-kenzie-2024-01-08/videos/GX010851_run 3_FWr.avi\n",
      "/Users/kenzie_mackinnon/sync/lab-analysis/deeplabcut/mole_rat_right-kenzie-2024-01-08/videos/GX010856_example 1_BWl and FWr.avi\n",
      "/Users/kenzie_mackinnon/sync/lab-analysis/deeplabcut/mole_rat_right-kenzie-2024-01-08/videos/GX010855_run 2_FWr.avi\n",
      "/Users/kenzie_mackinnon/sync/lab-analysis/deeplabcut/mole_rat_right-kenzie-2024-01-08/videos/GX010854_run8_BWl.avi\n",
      "/Users/kenzie_mackinnon/sync/lab-analysis/deeplabcut/mole_rat_right-kenzie-2024-01-08/videos/GX010851_run 2_FWr.avi\n",
      "/Users/kenzie_mackinnon/sync/lab-analysis/deeplabcut/mole_rat_right-kenzie-2024-01-08/videos/GX010849_run 5_FWr.avi\n",
      "/Users/kenzie_mackinnon/sync/lab-analysis/deeplabcut/mole_rat_right-kenzie-2024-01-08/videos/GX010852_run 3_FWr.avi\n",
      "/Users/kenzie_mackinnon/sync/lab-analysis/deeplabcut/mole_rat_right-kenzie-2024-01-08/videos/GX010854_run12_FWr.avi\n",
      "/Users/kenzie_mackinnon/sync/lab-analysis/deeplabcut/mole_rat_right-kenzie-2024-01-08/videos/GX010847_run 7_FWr.avi\n",
      "/Users/kenzie_mackinnon/sync/lab-analysis/deeplabcut/mole_rat_right-kenzie-2024-01-08/videos/GX010855_run 5_BWl.avi\n",
      "/Users/kenzie_mackinnon/sync/lab-analysis/deeplabcut/mole_rat_right-kenzie-2024-01-08/videos/GX010856_run 1_FWr.avi\n",
      "/Users/kenzie_mackinnon/sync/lab-analysis/deeplabcut/mole_rat_right-kenzie-2024-01-08/videos/GX010852_run 1_FWr.avi\n",
      "/Users/kenzie_mackinnon/sync/lab-analysis/deeplabcut/mole_rat_right-kenzie-2024-01-08/videos/GX010849_run 2_BWl.avi\n",
      "/Users/kenzie_mackinnon/sync/lab-analysis/deeplabcut/mole_rat_right-kenzie-2024-01-08/videos/GX010848_run 2_FWr.avi\n",
      "/Users/kenzie_mackinnon/sync/lab-analysis/deeplabcut/mole_rat_right-kenzie-2024-01-08/videos/GX010851_example 1_FWr and BWl.avi\n",
      "/Users/kenzie_mackinnon/sync/lab-analysis/deeplabcut/mole_rat_right-kenzie-2024-01-08/videos/GX010854_run7_FWr.avi\n",
      "/Users/kenzie_mackinnon/sync/lab-analysis/deeplabcut/mole_rat_right-kenzie-2024-01-08/videos/GX010854_run11_FWr.avi\n",
      "/Users/kenzie_mackinnon/sync/lab-analysis/deeplabcut/mole_rat_right-kenzie-2024-01-08/videos/GX010847_run 4_FWr.avi\n",
      "/Users/kenzie_mackinnon/sync/lab-analysis/deeplabcut/mole_rat_right-kenzie-2024-01-08/videos/GX010855_run 1_FWr.avi\n",
      "/Users/kenzie_mackinnon/sync/lab-analysis/deeplabcut/mole_rat_right-kenzie-2024-01-08/videos/GX010855_run 4_BWl.avi\n",
      "/Users/kenzie_mackinnon/sync/lab-analysis/deeplabcut/mole_rat_right-kenzie-2024-01-08/videos/GX010846_run 1_FWr.avi\n",
      "/Users/kenzie_mackinnon/sync/lab-analysis/deeplabcut/mole_rat_right-kenzie-2024-01-08/videos/GX010852_run 5_BWl.avi\n",
      "/Users/kenzie_mackinnon/sync/lab-analysis/deeplabcut/mole_rat_right-kenzie-2024-01-08/videos/GX010851_run 1_FWr.avi\n",
      "/Users/kenzie_mackinnon/sync/lab-analysis/deeplabcut/mole_rat_right-kenzie-2024-01-08/videos/GX010847_run 1_FWr.avi\n",
      "/Users/kenzie_mackinnon/sync/lab-analysis/deeplabcut/mole_rat_right-kenzie-2024-01-08/videos/GX010854_run14_FWr.avi\n",
      "/Users/kenzie_mackinnon/sync/lab-analysis/deeplabcut/mole_rat_right-kenzie-2024-01-08/videos/GX010853_run 4_BWl.avi\n",
      "/Users/kenzie_mackinnon/sync/lab-analysis/deeplabcut/mole_rat_right-kenzie-2024-01-08/videos/GX010853_run 1_FWr.avi\n",
      "/Users/kenzie_mackinnon/sync/lab-analysis/deeplabcut/mole_rat_right-kenzie-2024-01-08/videos/GX010849_run 10_FWr.avi\n",
      "/Users/kenzie_mackinnon/sync/lab-analysis/deeplabcut/mole_rat_right-kenzie-2024-01-08/videos/GX010854_run6_BWl.avi\n",
      "/Users/kenzie_mackinnon/sync/lab-analysis/deeplabcut/mole_rat_right-kenzie-2024-01-08/videos/GX010851_run 5_FWr.avi\n",
      "/Users/kenzie_mackinnon/sync/lab-analysis/deeplabcut/mole_rat_right-kenzie-2024-01-08/videos/GX010852_run 4_FWr.avi\n",
      "/Users/kenzie_mackinnon/sync/lab-analysis/deeplabcut/mole_rat_right-kenzie-2024-01-08/videos/GX010849_run 9_FWr.avi\n",
      "/Users/kenzie_mackinnon/sync/lab-analysis/deeplabcut/mole_rat_right-kenzie-2024-01-08/videos/GX010846_run 7_FWr.avi\n",
      "/Users/kenzie_mackinnon/sync/lab-analysis/deeplabcut/mole_rat_right-kenzie-2024-01-08/videos/GX010855_run 7_FWr.avi\n",
      "/Users/kenzie_mackinnon/sync/lab-analysis/deeplabcut/mole_rat_right-kenzie-2024-01-08/videos/GX010849_run 4_BWl.avi\n",
      "/Users/kenzie_mackinnon/sync/lab-analysis/deeplabcut/mole_rat_right-kenzie-2024-01-08/videos/GX010855_run 3_BWl.avi\n",
      "/Users/kenzie_mackinnon/sync/lab-analysis/deeplabcut/mole_rat_right-kenzie-2024-01-08/videos/GX010854_run9_FWr.avi\n",
      "/Users/kenzie_mackinnon/sync/lab-analysis/deeplabcut/mole_rat_right-kenzie-2024-01-08/videos/GX010849_run 8_FWr.avi\n",
      "Generated \"/Users/kenzie_mackinnon/sync/lab-analysis/deeplabcut/mole_rat_right-kenzie-2024-01-08/config.yaml\"\n",
      "\n",
      "A new project with name mole_rat_right-kenzie-2024-01-08 is created at /Users/kenzie_mackinnon/sync/lab-analysis/deeplabcut and a configurable file (config.yaml) is stored there. Change the parameters in this file to adapt to your project's needs.\n",
      " Once you have changed the configuration file, use the function 'extract_frames' to select frames for labeling.\n",
      ". [OPTIONAL] Use the function 'add_new_videos' to add new videos to your project (at any stage).\n"
     ]
    }
   ],
   "source": [
    "# -*- coding: utf-8 -*-\n",
    "\"\"\"\n",
    "Created on Mon Feb  6 11:09:35 2023\n",
    "\n",
    "@author: Kenzie MacKinnon\n",
    "\n",
    "The purpose of this script is to facilitate the import and creation of a new\n",
    "DeepLabCut project.\n",
    "\n",
    "The does project creation in a more interactive way if you run it.\n",
    "You can also assign the appropriate variable in the code block below\n",
    "\n",
    "\"\"\"\n",
    "\n",
    "# %% Imports\n",
    "import os\n",
    "import platform\n",
    "from datetime import datetime\n",
    "from pathlib import Path\n",
    "\n",
    "# Functions\n",
    "def filePathList(dir_path):\n",
    "    file_paths = []\n",
    "    for root, dirs, files in os.walk(dir_path):\n",
    "        for file in files:\n",
    "            file_paths.append(os.path.join(root, file))\n",
    "    return file_paths\n",
    "\n",
    "def pathconvUnixToDos(paths):\n",
    "    dos_paths = []\n",
    "    for path in paths:\n",
    "        dos_path = path.replace('/', '\\\\')\n",
    "        dos_paths.append(dos_path)\n",
    "    return dos_paths\n",
    "\n",
    "def directoryPresent(targetPath, projName):\n",
    "    path = os.path.join(projName, targetPath)\n",
    "\n",
    "    # Will return boolean\n",
    "    return os.path.isdir(path)\n",
    "\n",
    "\n",
    "# Gathering User input\n",
    "projectName = \"mole_rat_right\"\n",
    "experimenterName = \"kenzie\"\n",
    "targetForProject = \"/Users/kenzie_mackinnon/sync/lab-analysis/deeplabcut/\"\n",
    "\n",
    "# Depending on the OS processing the file we will run different functions to create file path lists\n",
    "operatingSystem = platform.system()\n",
    "\n",
    "if operatingSystem == \"Windows\":\n",
    "    print(\"Window operating system detected!\")\n",
    "\n",
    "    # Path where recorded videos can currently be found\n",
    "    videoImportPath = \"\\\\Kenzie\\\\CoM\\\\DTR\\\\DTR-M5\\\\DTR-M5-20230404_pre-DTX\\\\\"\n",
    "\n",
    "    # Creating list of file paths for each video in specified folder\n",
    "    file_paths = filePathList(videoImportPath)\n",
    "\n",
    "    # Changing file paths from Unix format to DOS for videos\n",
    "    dos_path_conversion = pathconvUnixToDos(file_paths)\n",
    "    file_paths = dos_path_conversion\n",
    "\n",
    "    # Changing file paths from Unix format to DOS for target directory\n",
    "    # unixPathComponents = targetForProject.split('/')\n",
    "    # targetForProject = os.path.join(*unixPathComponents).replace('/', os.sep)\n",
    "    # print(targetForProject)\n",
    "elif operatingSystem == \"Linux\":\n",
    "    print(\"Linux operating system detected!\")\n",
    "    # Path where recorded videos can currently be found\n",
    "    videoImportPath = str(input(\"Enter file path for videos you want to import: \"))\n",
    "\n",
    "    # Creating list of file paths for each video in specified folder\n",
    "    file_paths = filePathList(videoImportPath)\n",
    "elif operatingSystem == \"Darwin\":\n",
    "    print(\"Darwin(MacOS) operating system detected!\")\n",
    "    # Path where recorded videos can currently be found\n",
    "    videoImportPath = str(input(\"Enter file path for videos you want to import: \"))\n",
    "\n",
    "    # Creating list of file paths for each video in specified folder\n",
    "    file_paths = filePathList(videoImportPath)\n",
    "else:\n",
    "    print(\"Operating system not detected!\")\n",
    "    print(\"Falling back onto Unix path protocol\")\n",
    "    # Path where recorded videos can currently be found\n",
    "    videoImportPath = str(input(\"Enter file path for videos you want to import: \"))\n",
    "\n",
    "    # Creating list of file paths for each video in specified folder\n",
    "    file_paths = filePathList(videoImportPath)\n",
    "\n",
    "# Checking result of variable file path importing\n",
    "print(\"Project Name: \" + projectName)\n",
    "print(\"Experimenter: \" + experimenterName)\n",
    "print(\"Output of file paths:\")\n",
    "print(\"--------------------\")\n",
    "print(file_paths)\n",
    "# %% Creation of project\n",
    "\n",
    "# Checking to see if project with same name already exists\n",
    "current_date = datetime.now().strftime(\"%Y-%m-%d\")\n",
    "\n",
    "newProjectName = projectName + \"-\" + experimenterName + \"-\" + current_date\n",
    "\n",
    "if directoryPresent(newProjectName, targetForProject):\n",
    "    print(f\"Directory {newProjectName} already exists in {targetForProject}.\")\n",
    "else:\n",
    "    print(f\"Directory {newProjectName} does not exist in {targetForProject}.\")\n",
    "    config_path = deeplabcut.create_new_project(projectName, experimenterName, file_paths, working_directory=(targetForProject), copy_videos=True)\n",
    "\n",
    "# # %% Extract frames from videos\n",
    "# deeplabcut.extract_frames(config_path, mode='automatic', userfeedback=False)\n",
    "#\n",
    "# # %% Label frames\n",
    "# deeplabcut.label_frames(config_path)\n",
    "#\n",
    "# # %% Check Annotated Frames\n",
    "# deeplabcut.check_labels(config_path, visualizeindividuals=True)\n",
    "#"
   ]
  },
  {
   "cell_type": "markdown",
   "id": "f2782b4c",
   "metadata": {},
   "source": [
    "What you need to add to the bottom of config file\n",
    "\n",
    "```yaml\n",
    "bodyparts:\n",
    "- calib_1\n",
    "- calib_2\n",
    "- calib_3\n",
    "- calib_4\n",
    "- calib_5\n",
    "- calib_6\n",
    "- iliac_crest\n",
    "- hip\n",
    "- knee\n",
    "- ankle\n",
    "- metatarsal\n",
    "- toe\n",
    "- fl_toe\n",
    "- mirror_lhl\n",
    "- mirror_rhl\n",
    "- mirror_lfl\n",
    "- mirror_rfl\n",
    "- mirror_com\n",
    "- mirror\n",
    "# The following two lines tell the clustering algorithm from where to where (as a fraction of the video length) frames have to be extracted when using deeplabcut.extract_frames()\n",
    "\n",
    "# Fraction of video to start/stop when extracting frames for labeling/refinement\n",
    "\n",
    "    # Fraction of video to start/stop when extracting frames for labeling/refinement\n",
    "start: 0\n",
    "stop: 1\n",
    "numframes2pick: 20\n",
    "\n",
    "    # Plotting configuration\n",
    "skeleton:\n",
    "- - iliac_crest\n",
    "  - hip\n",
    "- - hip\n",
    "  - knee\n",
    "- - knee\n",
    "  - ankle\n",
    "- - ankle\n",
    "  - metatarsal\n",
    "- - metatarsal\n",
    "  - toe\n",
    "skeleton_color: black\n",
    "pcutoff: 0.6\n",
    "dotsize: 8\n",
    "alphavalue: 0.7\n",
    "colormap: rainbow\n",
    "\n",
    "    # Training,Evaluation and Analysis configuration\n",
    "TrainingFraction:\n",
    "- 0.95\n",
    "iteration: 0\n",
    "default_net_type: resnet_50\n",
    "default_augmenter: default\n",
    "snapshotindex: -1\n",
    "batch_size: 8\n",
    "\n",
    "    # Cropping Parameters (for analysis and outlier frame detection)\n",
    "cropping: false\n",
    "    #if cropping is true for analysis, then set the values here:\n",
    "x1: 0\n",
    "x2: 640\n",
    "y1: 277\n",
    "y2: 624\n",
    "\n",
    "    # Refinement configuration (parameters from annotation dataset configuration also relevant in this stage)\n",
    "corner2move2:\n",
    "- 50\n",
    "- 50\n",
    "move2corner: true\n",
    "\n",
    "```"
   ]
  },
  {
   "cell_type": "markdown",
   "id": "f6e3060f",
   "metadata": {},
   "source": [
    "On windows server config path"
   ]
  },
  {
   "cell_type": "code",
   "execution_count": 3,
   "id": "4619c5fd",
   "metadata": {
    "scrolled": true
   },
   "outputs": [],
   "source": [
    "config_path = \"/Users/kenzie_mackinnon/sync/lab-analysis/deeplabcut/1yr/1yrDTRnoRosa-preDTX-kenzie-2024-01-31/config.yaml\"\n",
    "videofile_path = '/Users/kenzie_mackinnon/sync/lab-analysis/deeplabcut/1yr/1yrDTRnoRosa-preDTX-kenzie-2024-01-31/videos/'\n",
    "VideoType = 'avi'"
   ]
  },
  {
   "cell_type": "markdown",
   "id": "82461fcd",
   "metadata": {},
   "source": [
    "On unix server config path"
   ]
  },
  {
   "cell_type": "code",
   "execution_count": 5,
   "id": "c36ff53c",
   "metadata": {
    "scrolled": true
   },
   "outputs": [],
   "source": [
    "config_path = '/Users/kenzie_mackinnon/sync/lab-analysis/deeplabcut/dlc-dtr/DTR-M5/test_output-kenzie-2024-01-04/config.yaml'"
   ]
  },
  {
   "cell_type": "code",
   "execution_count": 4,
   "id": "817ac599",
   "metadata": {
    "scrolled": true
   },
   "outputs": [
    {
     "name": "stdout",
     "output_type": "stream",
     "text": [
      "Config file read successfully.\n",
      "Extracting frames based on kmeans ...\n",
      "Kmeans-quantization based extracting of frames from 0.0  seconds to 4.93  seconds.\n",
      "Extracting and downsampling... 2467  frames from the video.\n"
     ]
    },
    {
     "name": "stderr",
     "output_type": "stream",
     "text": [
      "2467it [00:15, 155.07it/s]\n",
      "/Users/kenzie_mackinnon/miniforge/envs/dlcm1/lib/python3.9/site-packages/sklearn/cluster/_kmeans.py:870: FutureWarning: The default value of `n_init` will change from 3 to 'auto' in 1.4. Set the value of `n_init` explicitly to suppress the warning\n",
      "  warnings.warn(\n"
     ]
    },
    {
     "name": "stdout",
     "output_type": "stream",
     "text": [
      "Kmeans clustering ... (this might take a while)\n",
      "Extracting frames based on kmeans ...\n",
      "Kmeans-quantization based extracting of frames from 0.0  seconds to 6.4  seconds.\n",
      "Extracting and downsampling... 3199  frames from the video.\n"
     ]
    },
    {
     "name": "stderr",
     "output_type": "stream",
     "text": [
      "3199it [00:21, 150.97it/s]\n",
      "/Users/kenzie_mackinnon/miniforge/envs/dlcm1/lib/python3.9/site-packages/sklearn/cluster/_kmeans.py:870: FutureWarning: The default value of `n_init` will change from 3 to 'auto' in 1.4. Set the value of `n_init` explicitly to suppress the warning\n",
      "  warnings.warn(\n"
     ]
    },
    {
     "name": "stdout",
     "output_type": "stream",
     "text": [
      "Kmeans clustering ... (this might take a while)\n",
      "Extracting frames based on kmeans ...\n",
      "Kmeans-quantization based extracting of frames from 0.0  seconds to 7.1  seconds.\n",
      "Extracting and downsampling... 3550  frames from the video.\n"
     ]
    },
    {
     "name": "stderr",
     "output_type": "stream",
     "text": [
      "3550it [00:23, 154.04it/s]\n",
      "/Users/kenzie_mackinnon/miniforge/envs/dlcm1/lib/python3.9/site-packages/sklearn/cluster/_kmeans.py:870: FutureWarning: The default value of `n_init` will change from 3 to 'auto' in 1.4. Set the value of `n_init` explicitly to suppress the warning\n",
      "  warnings.warn(\n"
     ]
    },
    {
     "name": "stdout",
     "output_type": "stream",
     "text": [
      "Kmeans clustering ... (this might take a while)\n",
      "Extracting frames based on kmeans ...\n",
      "Kmeans-quantization based extracting of frames from 0.0  seconds to 5.73  seconds.\n",
      "Extracting and downsampling... 2867  frames from the video.\n"
     ]
    },
    {
     "name": "stderr",
     "output_type": "stream",
     "text": [
      "2867it [00:18, 152.29it/s]\n",
      "/Users/kenzie_mackinnon/miniforge/envs/dlcm1/lib/python3.9/site-packages/sklearn/cluster/_kmeans.py:870: FutureWarning: The default value of `n_init` will change from 3 to 'auto' in 1.4. Set the value of `n_init` explicitly to suppress the warning\n",
      "  warnings.warn(\n"
     ]
    },
    {
     "name": "stdout",
     "output_type": "stream",
     "text": [
      "Kmeans clustering ... (this might take a while)\n",
      "Extracting frames based on kmeans ...\n",
      "Kmeans-quantization based extracting of frames from 0.0  seconds to 6.7  seconds.\n",
      "Extracting and downsampling... 3350  frames from the video.\n"
     ]
    },
    {
     "name": "stderr",
     "output_type": "stream",
     "text": [
      "3350it [00:21, 152.71it/s]\n",
      "/Users/kenzie_mackinnon/miniforge/envs/dlcm1/lib/python3.9/site-packages/sklearn/cluster/_kmeans.py:870: FutureWarning: The default value of `n_init` will change from 3 to 'auto' in 1.4. Set the value of `n_init` explicitly to suppress the warning\n",
      "  warnings.warn(\n"
     ]
    },
    {
     "name": "stdout",
     "output_type": "stream",
     "text": [
      "Kmeans clustering ... (this might take a while)\n",
      "Extracting frames based on kmeans ...\n",
      "Kmeans-quantization based extracting of frames from 0.0  seconds to 5.47  seconds.\n",
      "Extracting and downsampling... 2734  frames from the video.\n"
     ]
    },
    {
     "name": "stderr",
     "output_type": "stream",
     "text": [
      "2734it [00:17, 154.03it/s]\n",
      "/Users/kenzie_mackinnon/miniforge/envs/dlcm1/lib/python3.9/site-packages/sklearn/cluster/_kmeans.py:870: FutureWarning: The default value of `n_init` will change from 3 to 'auto' in 1.4. Set the value of `n_init` explicitly to suppress the warning\n",
      "  warnings.warn(\n"
     ]
    },
    {
     "name": "stdout",
     "output_type": "stream",
     "text": [
      "Kmeans clustering ... (this might take a while)\n",
      "Extracting frames based on kmeans ...\n",
      "Kmeans-quantization based extracting of frames from 0.0  seconds to 7.81  seconds.\n",
      "Extracting and downsampling... 3904  frames from the video.\n"
     ]
    },
    {
     "name": "stderr",
     "output_type": "stream",
     "text": [
      "3904it [00:25, 154.59it/s]\n",
      "/Users/kenzie_mackinnon/miniforge/envs/dlcm1/lib/python3.9/site-packages/sklearn/cluster/_kmeans.py:870: FutureWarning: The default value of `n_init` will change from 3 to 'auto' in 1.4. Set the value of `n_init` explicitly to suppress the warning\n",
      "  warnings.warn(\n"
     ]
    },
    {
     "name": "stdout",
     "output_type": "stream",
     "text": [
      "Kmeans clustering ... (this might take a while)\n",
      "Extracting frames based on kmeans ...\n",
      "Kmeans-quantization based extracting of frames from 0.0  seconds to 7.81  seconds.\n",
      "Extracting and downsampling... 3904  frames from the video.\n"
     ]
    },
    {
     "name": "stderr",
     "output_type": "stream",
     "text": [
      "3904it [00:25, 154.21it/s]\n",
      "/Users/kenzie_mackinnon/miniforge/envs/dlcm1/lib/python3.9/site-packages/sklearn/cluster/_kmeans.py:870: FutureWarning: The default value of `n_init` will change from 3 to 'auto' in 1.4. Set the value of `n_init` explicitly to suppress the warning\n",
      "  warnings.warn(\n"
     ]
    },
    {
     "name": "stdout",
     "output_type": "stream",
     "text": [
      "Kmeans clustering ... (this might take a while)\n",
      "Extracting frames based on kmeans ...\n",
      "Kmeans-quantization based extracting of frames from 0.0  seconds to 7.81  seconds.\n",
      "Extracting and downsampling... 3904  frames from the video.\n"
     ]
    },
    {
     "name": "stderr",
     "output_type": "stream",
     "text": [
      "3904it [00:25, 154.11it/s]\n",
      "/Users/kenzie_mackinnon/miniforge/envs/dlcm1/lib/python3.9/site-packages/sklearn/cluster/_kmeans.py:870: FutureWarning: The default value of `n_init` will change from 3 to 'auto' in 1.4. Set the value of `n_init` explicitly to suppress the warning\n",
      "  warnings.warn(\n"
     ]
    },
    {
     "name": "stdout",
     "output_type": "stream",
     "text": [
      "Kmeans clustering ... (this might take a while)\n",
      "Extracting frames based on kmeans ...\n",
      "Kmeans-quantization based extracting of frames from 0.0  seconds to 6.74  seconds.\n",
      "Extracting and downsampling... 3371  frames from the video.\n"
     ]
    },
    {
     "name": "stderr",
     "output_type": "stream",
     "text": [
      "3371it [00:21, 155.40it/s]\n",
      "/Users/kenzie_mackinnon/miniforge/envs/dlcm1/lib/python3.9/site-packages/sklearn/cluster/_kmeans.py:870: FutureWarning: The default value of `n_init` will change from 3 to 'auto' in 1.4. Set the value of `n_init` explicitly to suppress the warning\n",
      "  warnings.warn(\n"
     ]
    },
    {
     "name": "stdout",
     "output_type": "stream",
     "text": [
      "Kmeans clustering ... (this might take a while)\n",
      "Extracting frames based on kmeans ...\n",
      "Kmeans-quantization based extracting of frames from 0.0  seconds to 3.94  seconds.\n",
      "Extracting and downsampling... 1968  frames from the video.\n"
     ]
    },
    {
     "name": "stderr",
     "output_type": "stream",
     "text": [
      "1968it [00:12, 153.43it/s]\n",
      "/Users/kenzie_mackinnon/miniforge/envs/dlcm1/lib/python3.9/site-packages/sklearn/cluster/_kmeans.py:870: FutureWarning: The default value of `n_init` will change from 3 to 'auto' in 1.4. Set the value of `n_init` explicitly to suppress the warning\n",
      "  warnings.warn(\n"
     ]
    },
    {
     "name": "stdout",
     "output_type": "stream",
     "text": [
      "Kmeans clustering ... (this might take a while)\n",
      "Extracting frames based on kmeans ...\n",
      "Kmeans-quantization based extracting of frames from 0.0  seconds to 7.81  seconds.\n",
      "Extracting and downsampling... 3904  frames from the video.\n"
     ]
    },
    {
     "name": "stderr",
     "output_type": "stream",
     "text": [
      "3904it [00:25, 154.11it/s]\n",
      "/Users/kenzie_mackinnon/miniforge/envs/dlcm1/lib/python3.9/site-packages/sklearn/cluster/_kmeans.py:870: FutureWarning: The default value of `n_init` will change from 3 to 'auto' in 1.4. Set the value of `n_init` explicitly to suppress the warning\n",
      "  warnings.warn(\n"
     ]
    },
    {
     "name": "stdout",
     "output_type": "stream",
     "text": [
      "Kmeans clustering ... (this might take a while)\n",
      "Extracting frames based on kmeans ...\n",
      "Kmeans-quantization based extracting of frames from 0.0  seconds to 6.25  seconds.\n",
      "Extracting and downsampling... 3125  frames from the video.\n"
     ]
    },
    {
     "name": "stderr",
     "output_type": "stream",
     "text": [
      "3125it [00:21, 146.38it/s]\n",
      "/Users/kenzie_mackinnon/miniforge/envs/dlcm1/lib/python3.9/site-packages/sklearn/cluster/_kmeans.py:870: FutureWarning: The default value of `n_init` will change from 3 to 'auto' in 1.4. Set the value of `n_init` explicitly to suppress the warning\n",
      "  warnings.warn(\n"
     ]
    },
    {
     "name": "stdout",
     "output_type": "stream",
     "text": [
      "Kmeans clustering ... (this might take a while)\n",
      "Extracting frames based on kmeans ...\n",
      "Kmeans-quantization based extracting of frames from 0.0  seconds to 7.81  seconds.\n",
      "Extracting and downsampling... 3904  frames from the video.\n"
     ]
    },
    {
     "name": "stderr",
     "output_type": "stream",
     "text": [
      "3904it [00:27, 143.46it/s]\n",
      "/Users/kenzie_mackinnon/miniforge/envs/dlcm1/lib/python3.9/site-packages/sklearn/cluster/_kmeans.py:870: FutureWarning: The default value of `n_init` will change from 3 to 'auto' in 1.4. Set the value of `n_init` explicitly to suppress the warning\n",
      "  warnings.warn(\n"
     ]
    },
    {
     "name": "stdout",
     "output_type": "stream",
     "text": [
      "Kmeans clustering ... (this might take a while)\n",
      "Extracting frames based on kmeans ...\n",
      "Kmeans-quantization based extracting of frames from 0.0  seconds to 7.81  seconds.\n",
      "Extracting and downsampling... 3904  frames from the video.\n"
     ]
    },
    {
     "name": "stderr",
     "output_type": "stream",
     "text": [
      "3904it [00:26, 145.46it/s]\n",
      "/Users/kenzie_mackinnon/miniforge/envs/dlcm1/lib/python3.9/site-packages/sklearn/cluster/_kmeans.py:870: FutureWarning: The default value of `n_init` will change from 3 to 'auto' in 1.4. Set the value of `n_init` explicitly to suppress the warning\n",
      "  warnings.warn(\n"
     ]
    },
    {
     "name": "stdout",
     "output_type": "stream",
     "text": [
      "Kmeans clustering ... (this might take a while)\n",
      "Extracting frames based on kmeans ...\n",
      "Kmeans-quantization based extracting of frames from 0.0  seconds to 6.55  seconds.\n",
      "Extracting and downsampling... 3273  frames from the video.\n"
     ]
    },
    {
     "name": "stderr",
     "output_type": "stream",
     "text": [
      "3273it [00:22, 145.36it/s]\n",
      "/Users/kenzie_mackinnon/miniforge/envs/dlcm1/lib/python3.9/site-packages/sklearn/cluster/_kmeans.py:870: FutureWarning: The default value of `n_init` will change from 3 to 'auto' in 1.4. Set the value of `n_init` explicitly to suppress the warning\n",
      "  warnings.warn(\n"
     ]
    },
    {
     "name": "stdout",
     "output_type": "stream",
     "text": [
      "Kmeans clustering ... (this might take a while)\n",
      "Extracting frames based on kmeans ...\n",
      "Kmeans-quantization based extracting of frames from 0.0  seconds to 7.81  seconds.\n",
      "Extracting and downsampling... 3904  frames from the video.\n"
     ]
    },
    {
     "name": "stderr",
     "output_type": "stream",
     "text": [
      "3904it [00:26, 146.38it/s]\n",
      "/Users/kenzie_mackinnon/miniforge/envs/dlcm1/lib/python3.9/site-packages/sklearn/cluster/_kmeans.py:870: FutureWarning: The default value of `n_init` will change from 3 to 'auto' in 1.4. Set the value of `n_init` explicitly to suppress the warning\n",
      "  warnings.warn(\n"
     ]
    },
    {
     "name": "stdout",
     "output_type": "stream",
     "text": [
      "Kmeans clustering ... (this might take a while)\n",
      "Extracting frames based on kmeans ...\n",
      "Kmeans-quantization based extracting of frames from 0.0  seconds to 4.53  seconds.\n",
      "Extracting and downsampling... 2266  frames from the video.\n"
     ]
    },
    {
     "name": "stderr",
     "output_type": "stream",
     "text": [
      "2266it [00:15, 147.62it/s]\n",
      "/Users/kenzie_mackinnon/miniforge/envs/dlcm1/lib/python3.9/site-packages/sklearn/cluster/_kmeans.py:870: FutureWarning: The default value of `n_init` will change from 3 to 'auto' in 1.4. Set the value of `n_init` explicitly to suppress the warning\n",
      "  warnings.warn(\n"
     ]
    },
    {
     "name": "stdout",
     "output_type": "stream",
     "text": [
      "Kmeans clustering ... (this might take a while)\n",
      "Extracting frames based on kmeans ...\n",
      "Kmeans-quantization based extracting of frames from 0.0  seconds to 6.7  seconds.\n",
      "Extracting and downsampling... 3350  frames from the video.\n"
     ]
    },
    {
     "name": "stderr",
     "output_type": "stream",
     "text": [
      "3350it [00:23, 143.43it/s]\n",
      "/Users/kenzie_mackinnon/miniforge/envs/dlcm1/lib/python3.9/site-packages/sklearn/cluster/_kmeans.py:870: FutureWarning: The default value of `n_init` will change from 3 to 'auto' in 1.4. Set the value of `n_init` explicitly to suppress the warning\n",
      "  warnings.warn(\n"
     ]
    },
    {
     "name": "stdout",
     "output_type": "stream",
     "text": [
      "Kmeans clustering ... (this might take a while)\n",
      "Extracting frames based on kmeans ...\n",
      "Kmeans-quantization based extracting of frames from 0.0  seconds to 7.81  seconds.\n",
      "Extracting and downsampling... 3904  frames from the video.\n"
     ]
    },
    {
     "name": "stderr",
     "output_type": "stream",
     "text": [
      "3904it [00:27, 143.29it/s]\n",
      "/Users/kenzie_mackinnon/miniforge/envs/dlcm1/lib/python3.9/site-packages/sklearn/cluster/_kmeans.py:870: FutureWarning: The default value of `n_init` will change from 3 to 'auto' in 1.4. Set the value of `n_init` explicitly to suppress the warning\n",
      "  warnings.warn(\n"
     ]
    },
    {
     "name": "stdout",
     "output_type": "stream",
     "text": [
      "Kmeans clustering ... (this might take a while)\n",
      "Extracting frames based on kmeans ...\n",
      "Kmeans-quantization based extracting of frames from 0.0  seconds to 7.81  seconds.\n",
      "Extracting and downsampling... 3904  frames from the video.\n"
     ]
    },
    {
     "name": "stderr",
     "output_type": "stream",
     "text": [
      "3904it [00:27, 144.57it/s]\n",
      "/Users/kenzie_mackinnon/miniforge/envs/dlcm1/lib/python3.9/site-packages/sklearn/cluster/_kmeans.py:870: FutureWarning: The default value of `n_init` will change from 3 to 'auto' in 1.4. Set the value of `n_init` explicitly to suppress the warning\n",
      "  warnings.warn(\n"
     ]
    },
    {
     "name": "stdout",
     "output_type": "stream",
     "text": [
      "Kmeans clustering ... (this might take a while)\n",
      "Extracting frames based on kmeans ...\n",
      "Kmeans-quantization based extracting of frames from 0.0  seconds to 7.81  seconds.\n",
      "Extracting and downsampling... 3904  frames from the video.\n"
     ]
    },
    {
     "name": "stderr",
     "output_type": "stream",
     "text": [
      "3904it [00:26, 149.08it/s]\n",
      "/Users/kenzie_mackinnon/miniforge/envs/dlcm1/lib/python3.9/site-packages/sklearn/cluster/_kmeans.py:870: FutureWarning: The default value of `n_init` will change from 3 to 'auto' in 1.4. Set the value of `n_init` explicitly to suppress the warning\n",
      "  warnings.warn(\n"
     ]
    },
    {
     "name": "stdout",
     "output_type": "stream",
     "text": [
      "Kmeans clustering ... (this might take a while)\n",
      "Extracting frames based on kmeans ...\n",
      "Kmeans-quantization based extracting of frames from 0.0  seconds to 7.81  seconds.\n",
      "Extracting and downsampling... 3904  frames from the video.\n"
     ]
    },
    {
     "name": "stderr",
     "output_type": "stream",
     "text": [
      "3904it [00:25, 152.94it/s]\n",
      "/Users/kenzie_mackinnon/miniforge/envs/dlcm1/lib/python3.9/site-packages/sklearn/cluster/_kmeans.py:870: FutureWarning: The default value of `n_init` will change from 3 to 'auto' in 1.4. Set the value of `n_init` explicitly to suppress the warning\n",
      "  warnings.warn(\n"
     ]
    },
    {
     "name": "stdout",
     "output_type": "stream",
     "text": [
      "Kmeans clustering ... (this might take a while)\n",
      "Extracting frames based on kmeans ...\n",
      "Kmeans-quantization based extracting of frames from 0.0  seconds to 7.81  seconds.\n",
      "Extracting and downsampling... 3904  frames from the video.\n"
     ]
    },
    {
     "name": "stderr",
     "output_type": "stream",
     "text": [
      "3904it [00:25, 154.25it/s]\n",
      "/Users/kenzie_mackinnon/miniforge/envs/dlcm1/lib/python3.9/site-packages/sklearn/cluster/_kmeans.py:870: FutureWarning: The default value of `n_init` will change from 3 to 'auto' in 1.4. Set the value of `n_init` explicitly to suppress the warning\n",
      "  warnings.warn(\n"
     ]
    },
    {
     "name": "stdout",
     "output_type": "stream",
     "text": [
      "Kmeans clustering ... (this might take a while)\n",
      "Extracting frames based on kmeans ...\n",
      "Kmeans-quantization based extracting of frames from 0.0  seconds to 5.53  seconds.\n",
      "Extracting and downsampling... 2765  frames from the video.\n"
     ]
    },
    {
     "name": "stderr",
     "output_type": "stream",
     "text": [
      "2765it [00:17, 153.72it/s]\n",
      "/Users/kenzie_mackinnon/miniforge/envs/dlcm1/lib/python3.9/site-packages/sklearn/cluster/_kmeans.py:870: FutureWarning: The default value of `n_init` will change from 3 to 'auto' in 1.4. Set the value of `n_init` explicitly to suppress the warning\n",
      "  warnings.warn(\n"
     ]
    },
    {
     "name": "stdout",
     "output_type": "stream",
     "text": [
      "Kmeans clustering ... (this might take a while)\n",
      "Extracting frames based on kmeans ...\n",
      "Kmeans-quantization based extracting of frames from 0.0  seconds to 7.81  seconds.\n",
      "Extracting and downsampling... 3904  frames from the video.\n"
     ]
    },
    {
     "name": "stderr",
     "output_type": "stream",
     "text": [
      "3904it [00:25, 153.80it/s]\n",
      "/Users/kenzie_mackinnon/miniforge/envs/dlcm1/lib/python3.9/site-packages/sklearn/cluster/_kmeans.py:870: FutureWarning: The default value of `n_init` will change from 3 to 'auto' in 1.4. Set the value of `n_init` explicitly to suppress the warning\n",
      "  warnings.warn(\n"
     ]
    },
    {
     "name": "stdout",
     "output_type": "stream",
     "text": [
      "Kmeans clustering ... (this might take a while)\n",
      "Extracting frames based on kmeans ...\n",
      "Kmeans-quantization based extracting of frames from 0.0  seconds to 7.81  seconds.\n",
      "Extracting and downsampling... 3904  frames from the video.\n"
     ]
    },
    {
     "name": "stderr",
     "output_type": "stream",
     "text": [
      "3904it [00:25, 153.45it/s]\n",
      "/Users/kenzie_mackinnon/miniforge/envs/dlcm1/lib/python3.9/site-packages/sklearn/cluster/_kmeans.py:870: FutureWarning: The default value of `n_init` will change from 3 to 'auto' in 1.4. Set the value of `n_init` explicitly to suppress the warning\n",
      "  warnings.warn(\n"
     ]
    },
    {
     "name": "stdout",
     "output_type": "stream",
     "text": [
      "Kmeans clustering ... (this might take a while)\n",
      "Extracting frames based on kmeans ...\n",
      "Kmeans-quantization based extracting of frames from 0.0  seconds to 7.81  seconds.\n",
      "Extracting and downsampling... 3904  frames from the video.\n"
     ]
    },
    {
     "name": "stderr",
     "output_type": "stream",
     "text": [
      "3904it [00:25, 153.36it/s]\n",
      "/Users/kenzie_mackinnon/miniforge/envs/dlcm1/lib/python3.9/site-packages/sklearn/cluster/_kmeans.py:870: FutureWarning: The default value of `n_init` will change from 3 to 'auto' in 1.4. Set the value of `n_init` explicitly to suppress the warning\n",
      "  warnings.warn(\n"
     ]
    },
    {
     "name": "stdout",
     "output_type": "stream",
     "text": [
      "Kmeans clustering ... (this might take a while)\n",
      "Extracting frames based on kmeans ...\n",
      "Kmeans-quantization based extracting of frames from 0.0  seconds to 7.81  seconds.\n",
      "Extracting and downsampling... 3904  frames from the video.\n"
     ]
    },
    {
     "name": "stderr",
     "output_type": "stream",
     "text": [
      "3904it [00:25, 152.89it/s]\n",
      "/Users/kenzie_mackinnon/miniforge/envs/dlcm1/lib/python3.9/site-packages/sklearn/cluster/_kmeans.py:870: FutureWarning: The default value of `n_init` will change from 3 to 'auto' in 1.4. Set the value of `n_init` explicitly to suppress the warning\n",
      "  warnings.warn(\n"
     ]
    },
    {
     "name": "stdout",
     "output_type": "stream",
     "text": [
      "Kmeans clustering ... (this might take a while)\n",
      "Extracting frames based on kmeans ...\n",
      "Kmeans-quantization based extracting of frames from 0.0  seconds to 6.62  seconds.\n",
      "Extracting and downsampling... 3310  frames from the video.\n"
     ]
    },
    {
     "name": "stderr",
     "output_type": "stream",
     "text": [
      "3310it [00:21, 153.20it/s]\n",
      "/Users/kenzie_mackinnon/miniforge/envs/dlcm1/lib/python3.9/site-packages/sklearn/cluster/_kmeans.py:870: FutureWarning: The default value of `n_init` will change from 3 to 'auto' in 1.4. Set the value of `n_init` explicitly to suppress the warning\n",
      "  warnings.warn(\n"
     ]
    },
    {
     "name": "stdout",
     "output_type": "stream",
     "text": [
      "Kmeans clustering ... (this might take a while)\n",
      "Extracting frames based on kmeans ...\n",
      "Kmeans-quantization based extracting of frames from 0.0  seconds to 7.81  seconds.\n",
      "Extracting and downsampling... 3904  frames from the video.\n"
     ]
    },
    {
     "name": "stderr",
     "output_type": "stream",
     "text": [
      "3904it [00:25, 153.21it/s]\n",
      "/Users/kenzie_mackinnon/miniforge/envs/dlcm1/lib/python3.9/site-packages/sklearn/cluster/_kmeans.py:870: FutureWarning: The default value of `n_init` will change from 3 to 'auto' in 1.4. Set the value of `n_init` explicitly to suppress the warning\n",
      "  warnings.warn(\n"
     ]
    },
    {
     "name": "stdout",
     "output_type": "stream",
     "text": [
      "Kmeans clustering ... (this might take a while)\n",
      "Extracting frames based on kmeans ...\n",
      "Kmeans-quantization based extracting of frames from 0.0  seconds to 7.81  seconds.\n",
      "Extracting and downsampling... 3904  frames from the video.\n"
     ]
    },
    {
     "name": "stderr",
     "output_type": "stream",
     "text": [
      "3904it [00:25, 153.61it/s]\n",
      "/Users/kenzie_mackinnon/miniforge/envs/dlcm1/lib/python3.9/site-packages/sklearn/cluster/_kmeans.py:870: FutureWarning: The default value of `n_init` will change from 3 to 'auto' in 1.4. Set the value of `n_init` explicitly to suppress the warning\n",
      "  warnings.warn(\n"
     ]
    },
    {
     "name": "stdout",
     "output_type": "stream",
     "text": [
      "Kmeans clustering ... (this might take a while)\n",
      "Extracting frames based on kmeans ...\n",
      "Kmeans-quantization based extracting of frames from 0.0  seconds to 6.92  seconds.\n",
      "Extracting and downsampling... 3461  frames from the video.\n"
     ]
    },
    {
     "name": "stderr",
     "output_type": "stream",
     "text": [
      "3461it [00:22, 153.43it/s]\n",
      "/Users/kenzie_mackinnon/miniforge/envs/dlcm1/lib/python3.9/site-packages/sklearn/cluster/_kmeans.py:870: FutureWarning: The default value of `n_init` will change from 3 to 'auto' in 1.4. Set the value of `n_init` explicitly to suppress the warning\n",
      "  warnings.warn(\n"
     ]
    },
    {
     "name": "stdout",
     "output_type": "stream",
     "text": [
      "Kmeans clustering ... (this might take a while)\n",
      "Extracting frames based on kmeans ...\n",
      "Kmeans-quantization based extracting of frames from 0.0  seconds to 7.81  seconds.\n",
      "Extracting and downsampling... 3904  frames from the video.\n"
     ]
    },
    {
     "name": "stderr",
     "output_type": "stream",
     "text": [
      "3904it [00:24, 156.24it/s]\n",
      "/Users/kenzie_mackinnon/miniforge/envs/dlcm1/lib/python3.9/site-packages/sklearn/cluster/_kmeans.py:870: FutureWarning: The default value of `n_init` will change from 3 to 'auto' in 1.4. Set the value of `n_init` explicitly to suppress the warning\n",
      "  warnings.warn(\n"
     ]
    },
    {
     "name": "stdout",
     "output_type": "stream",
     "text": [
      "Kmeans clustering ... (this might take a while)\n",
      "Extracting frames based on kmeans ...\n",
      "Kmeans-quantization based extracting of frames from 0.0  seconds to 7.81  seconds.\n",
      "Extracting and downsampling... 3904  frames from the video.\n"
     ]
    },
    {
     "name": "stderr",
     "output_type": "stream",
     "text": [
      "3904it [00:25, 155.39it/s]\n",
      "/Users/kenzie_mackinnon/miniforge/envs/dlcm1/lib/python3.9/site-packages/sklearn/cluster/_kmeans.py:870: FutureWarning: The default value of `n_init` will change from 3 to 'auto' in 1.4. Set the value of `n_init` explicitly to suppress the warning\n",
      "  warnings.warn(\n"
     ]
    },
    {
     "name": "stdout",
     "output_type": "stream",
     "text": [
      "Kmeans clustering ... (this might take a while)\n",
      "Extracting frames based on kmeans ...\n",
      "Kmeans-quantization based extracting of frames from 0.0  seconds to 6.9  seconds.\n",
      "Extracting and downsampling... 3448  frames from the video.\n"
     ]
    },
    {
     "name": "stderr",
     "output_type": "stream",
     "text": [
      "3448it [00:22, 153.54it/s]\n",
      "/Users/kenzie_mackinnon/miniforge/envs/dlcm1/lib/python3.9/site-packages/sklearn/cluster/_kmeans.py:870: FutureWarning: The default value of `n_init` will change from 3 to 'auto' in 1.4. Set the value of `n_init` explicitly to suppress the warning\n",
      "  warnings.warn(\n"
     ]
    },
    {
     "name": "stdout",
     "output_type": "stream",
     "text": [
      "Kmeans clustering ... (this might take a while)\n",
      "Extracting frames based on kmeans ...\n",
      "Kmeans-quantization based extracting of frames from 0.0  seconds to 7.81  seconds.\n",
      "Extracting and downsampling... 3904  frames from the video.\n"
     ]
    },
    {
     "name": "stderr",
     "output_type": "stream",
     "text": [
      "3904it [00:25, 153.15it/s]\n",
      "/Users/kenzie_mackinnon/miniforge/envs/dlcm1/lib/python3.9/site-packages/sklearn/cluster/_kmeans.py:870: FutureWarning: The default value of `n_init` will change from 3 to 'auto' in 1.4. Set the value of `n_init` explicitly to suppress the warning\n",
      "  warnings.warn(\n"
     ]
    },
    {
     "name": "stdout",
     "output_type": "stream",
     "text": [
      "Kmeans clustering ... (this might take a while)\n",
      "Extracting frames based on kmeans ...\n",
      "Kmeans-quantization based extracting of frames from 0.0  seconds to 6.88  seconds.\n",
      "Extracting and downsampling... 3439  frames from the video.\n"
     ]
    },
    {
     "name": "stderr",
     "output_type": "stream",
     "text": [
      "3439it [00:24, 139.76it/s]\n",
      "/Users/kenzie_mackinnon/miniforge/envs/dlcm1/lib/python3.9/site-packages/sklearn/cluster/_kmeans.py:870: FutureWarning: The default value of `n_init` will change from 3 to 'auto' in 1.4. Set the value of `n_init` explicitly to suppress the warning\n",
      "  warnings.warn(\n"
     ]
    },
    {
     "name": "stdout",
     "output_type": "stream",
     "text": [
      "Kmeans clustering ... (this might take a while)\n",
      "Extracting frames based on kmeans ...\n",
      "Kmeans-quantization based extracting of frames from 0.0  seconds to 5.96  seconds.\n",
      "Extracting and downsampling... 2981  frames from the video.\n"
     ]
    },
    {
     "name": "stderr",
     "output_type": "stream",
     "text": [
      "2981it [00:19, 152.67it/s]\n",
      "/Users/kenzie_mackinnon/miniforge/envs/dlcm1/lib/python3.9/site-packages/sklearn/cluster/_kmeans.py:870: FutureWarning: The default value of `n_init` will change from 3 to 'auto' in 1.4. Set the value of `n_init` explicitly to suppress the warning\n",
      "  warnings.warn(\n"
     ]
    },
    {
     "name": "stdout",
     "output_type": "stream",
     "text": [
      "Kmeans clustering ... (this might take a while)\n",
      "Extracting frames based on kmeans ...\n",
      "Kmeans-quantization based extracting of frames from 0.0  seconds to 7.81  seconds.\n",
      "Extracting and downsampling... 3904  frames from the video.\n"
     ]
    },
    {
     "name": "stderr",
     "output_type": "stream",
     "text": [
      "3904it [00:30, 129.08it/s]\n",
      "/Users/kenzie_mackinnon/miniforge/envs/dlcm1/lib/python3.9/site-packages/sklearn/cluster/_kmeans.py:870: FutureWarning: The default value of `n_init` will change from 3 to 'auto' in 1.4. Set the value of `n_init` explicitly to suppress the warning\n",
      "  warnings.warn(\n"
     ]
    },
    {
     "name": "stdout",
     "output_type": "stream",
     "text": [
      "Kmeans clustering ... (this might take a while)\n",
      "Extracting frames based on kmeans ...\n",
      "Kmeans-quantization based extracting of frames from 0.0  seconds to 7.81  seconds.\n",
      "Extracting and downsampling... 3904  frames from the video.\n"
     ]
    },
    {
     "name": "stderr",
     "output_type": "stream",
     "text": [
      "3904it [00:30, 127.18it/s]\n",
      "/Users/kenzie_mackinnon/miniforge/envs/dlcm1/lib/python3.9/site-packages/sklearn/cluster/_kmeans.py:870: FutureWarning: The default value of `n_init` will change from 3 to 'auto' in 1.4. Set the value of `n_init` explicitly to suppress the warning\n",
      "  warnings.warn(\n"
     ]
    },
    {
     "name": "stdout",
     "output_type": "stream",
     "text": [
      "Kmeans clustering ... (this might take a while)\n",
      "Extracting frames based on kmeans ...\n",
      "Kmeans-quantization based extracting of frames from 0.0  seconds to 7.81  seconds.\n",
      "Extracting and downsampling... 3904  frames from the video.\n"
     ]
    },
    {
     "name": "stderr",
     "output_type": "stream",
     "text": [
      "3904it [00:31, 124.51it/s]\n",
      "/Users/kenzie_mackinnon/miniforge/envs/dlcm1/lib/python3.9/site-packages/sklearn/cluster/_kmeans.py:870: FutureWarning: The default value of `n_init` will change from 3 to 'auto' in 1.4. Set the value of `n_init` explicitly to suppress the warning\n",
      "  warnings.warn(\n"
     ]
    },
    {
     "name": "stdout",
     "output_type": "stream",
     "text": [
      "Kmeans clustering ... (this might take a while)\n",
      "Extracting frames based on kmeans ...\n",
      "Kmeans-quantization based extracting of frames from 0.0  seconds to 7.81  seconds.\n",
      "Extracting and downsampling... 3904  frames from the video.\n"
     ]
    },
    {
     "name": "stderr",
     "output_type": "stream",
     "text": [
      "3904it [00:27, 143.55it/s]\n",
      "/Users/kenzie_mackinnon/miniforge/envs/dlcm1/lib/python3.9/site-packages/sklearn/cluster/_kmeans.py:870: FutureWarning: The default value of `n_init` will change from 3 to 'auto' in 1.4. Set the value of `n_init` explicitly to suppress the warning\n",
      "  warnings.warn(\n"
     ]
    },
    {
     "name": "stdout",
     "output_type": "stream",
     "text": [
      "Kmeans clustering ... (this might take a while)\n",
      "Extracting frames based on kmeans ...\n",
      "Kmeans-quantization based extracting of frames from 0.0  seconds to 7.81  seconds.\n",
      "Extracting and downsampling... 3904  frames from the video.\n"
     ]
    },
    {
     "name": "stderr",
     "output_type": "stream",
     "text": [
      "3904it [00:27, 140.97it/s]\n",
      "/Users/kenzie_mackinnon/miniforge/envs/dlcm1/lib/python3.9/site-packages/sklearn/cluster/_kmeans.py:870: FutureWarning: The default value of `n_init` will change from 3 to 'auto' in 1.4. Set the value of `n_init` explicitly to suppress the warning\n",
      "  warnings.warn(\n"
     ]
    },
    {
     "name": "stdout",
     "output_type": "stream",
     "text": [
      "Kmeans clustering ... (this might take a while)\n",
      "Extracting frames based on kmeans ...\n",
      "Kmeans-quantization based extracting of frames from 0.0  seconds to 7.81  seconds.\n",
      "Extracting and downsampling... 3904  frames from the video.\n"
     ]
    },
    {
     "name": "stderr",
     "output_type": "stream",
     "text": [
      "3904it [00:31, 124.32it/s]\n",
      "/Users/kenzie_mackinnon/miniforge/envs/dlcm1/lib/python3.9/site-packages/sklearn/cluster/_kmeans.py:870: FutureWarning: The default value of `n_init` will change from 3 to 'auto' in 1.4. Set the value of `n_init` explicitly to suppress the warning\n",
      "  warnings.warn(\n"
     ]
    },
    {
     "name": "stdout",
     "output_type": "stream",
     "text": [
      "Kmeans clustering ... (this might take a while)\n",
      "Extracting frames based on kmeans ...\n",
      "Kmeans-quantization based extracting of frames from 0.0  seconds to 7.81  seconds.\n",
      "Extracting and downsampling... 3904  frames from the video.\n"
     ]
    },
    {
     "name": "stderr",
     "output_type": "stream",
     "text": [
      "3904it [00:31, 122.40it/s]\n",
      "/Users/kenzie_mackinnon/miniforge/envs/dlcm1/lib/python3.9/site-packages/sklearn/cluster/_kmeans.py:870: FutureWarning: The default value of `n_init` will change from 3 to 'auto' in 1.4. Set the value of `n_init` explicitly to suppress the warning\n",
      "  warnings.warn(\n"
     ]
    },
    {
     "name": "stdout",
     "output_type": "stream",
     "text": [
      "Kmeans clustering ... (this might take a while)\n",
      "Extracting frames based on kmeans ...\n",
      "Kmeans-quantization based extracting of frames from 0.0  seconds to 7.81  seconds.\n",
      "Extracting and downsampling... 3904  frames from the video.\n"
     ]
    },
    {
     "name": "stderr",
     "output_type": "stream",
     "text": [
      "3904it [00:30, 126.81it/s]\n",
      "/Users/kenzie_mackinnon/miniforge/envs/dlcm1/lib/python3.9/site-packages/sklearn/cluster/_kmeans.py:870: FutureWarning: The default value of `n_init` will change from 3 to 'auto' in 1.4. Set the value of `n_init` explicitly to suppress the warning\n",
      "  warnings.warn(\n"
     ]
    },
    {
     "name": "stdout",
     "output_type": "stream",
     "text": [
      "Kmeans clustering ... (this might take a while)\n",
      "Extracting frames based on kmeans ...\n",
      "Kmeans-quantization based extracting of frames from 0.0  seconds to 7.81  seconds.\n",
      "Extracting and downsampling... 3904  frames from the video.\n"
     ]
    },
    {
     "name": "stderr",
     "output_type": "stream",
     "text": [
      "3904it [00:30, 126.74it/s]\n",
      "/Users/kenzie_mackinnon/miniforge/envs/dlcm1/lib/python3.9/site-packages/sklearn/cluster/_kmeans.py:870: FutureWarning: The default value of `n_init` will change from 3 to 'auto' in 1.4. Set the value of `n_init` explicitly to suppress the warning\n",
      "  warnings.warn(\n"
     ]
    },
    {
     "name": "stdout",
     "output_type": "stream",
     "text": [
      "Kmeans clustering ... (this might take a while)\n",
      "Extracting frames based on kmeans ...\n",
      "Kmeans-quantization based extracting of frames from 0.0  seconds to 7.81  seconds.\n",
      "Extracting and downsampling... 3904  frames from the video.\n"
     ]
    },
    {
     "name": "stderr",
     "output_type": "stream",
     "text": [
      "3904it [00:27, 140.09it/s]\n",
      "/Users/kenzie_mackinnon/miniforge/envs/dlcm1/lib/python3.9/site-packages/sklearn/cluster/_kmeans.py:870: FutureWarning: The default value of `n_init` will change from 3 to 'auto' in 1.4. Set the value of `n_init` explicitly to suppress the warning\n",
      "  warnings.warn(\n"
     ]
    },
    {
     "name": "stdout",
     "output_type": "stream",
     "text": [
      "Kmeans clustering ... (this might take a while)\n",
      "Extracting frames based on kmeans ...\n",
      "Kmeans-quantization based extracting of frames from 0.0  seconds to 7.81  seconds.\n",
      "Extracting and downsampling... 3904  frames from the video.\n"
     ]
    },
    {
     "name": "stderr",
     "output_type": "stream",
     "text": [
      "3904it [00:25, 153.49it/s]\n",
      "/Users/kenzie_mackinnon/miniforge/envs/dlcm1/lib/python3.9/site-packages/sklearn/cluster/_kmeans.py:870: FutureWarning: The default value of `n_init` will change from 3 to 'auto' in 1.4. Set the value of `n_init` explicitly to suppress the warning\n",
      "  warnings.warn(\n"
     ]
    },
    {
     "name": "stdout",
     "output_type": "stream",
     "text": [
      "Kmeans clustering ... (this might take a while)\n",
      "Extracting frames based on kmeans ...\n",
      "Kmeans-quantization based extracting of frames from 0.0  seconds to 7.81  seconds.\n",
      "Extracting and downsampling... 3904  frames from the video.\n"
     ]
    },
    {
     "name": "stderr",
     "output_type": "stream",
     "text": [
      "3904it [00:29, 130.33it/s]\n",
      "/Users/kenzie_mackinnon/miniforge/envs/dlcm1/lib/python3.9/site-packages/sklearn/cluster/_kmeans.py:870: FutureWarning: The default value of `n_init` will change from 3 to 'auto' in 1.4. Set the value of `n_init` explicitly to suppress the warning\n",
      "  warnings.warn(\n"
     ]
    },
    {
     "name": "stdout",
     "output_type": "stream",
     "text": [
      "Kmeans clustering ... (this might take a while)\n",
      "Extracting frames based on kmeans ...\n",
      "Kmeans-quantization based extracting of frames from 0.0  seconds to 7.81  seconds.\n",
      "Extracting and downsampling... 3904  frames from the video.\n"
     ]
    },
    {
     "name": "stderr",
     "output_type": "stream",
     "text": [
      "3904it [00:30, 127.00it/s]\n",
      "/Users/kenzie_mackinnon/miniforge/envs/dlcm1/lib/python3.9/site-packages/sklearn/cluster/_kmeans.py:870: FutureWarning: The default value of `n_init` will change from 3 to 'auto' in 1.4. Set the value of `n_init` explicitly to suppress the warning\n",
      "  warnings.warn(\n"
     ]
    },
    {
     "name": "stdout",
     "output_type": "stream",
     "text": [
      "Kmeans clustering ... (this might take a while)\n",
      "Extracting frames based on kmeans ...\n",
      "Kmeans-quantization based extracting of frames from 0.0  seconds to 7.81  seconds.\n",
      "Extracting and downsampling... 3904  frames from the video.\n"
     ]
    },
    {
     "name": "stderr",
     "output_type": "stream",
     "text": [
      "3904it [00:29, 130.27it/s]\n",
      "/Users/kenzie_mackinnon/miniforge/envs/dlcm1/lib/python3.9/site-packages/sklearn/cluster/_kmeans.py:870: FutureWarning: The default value of `n_init` will change from 3 to 'auto' in 1.4. Set the value of `n_init` explicitly to suppress the warning\n",
      "  warnings.warn(\n"
     ]
    },
    {
     "name": "stdout",
     "output_type": "stream",
     "text": [
      "Kmeans clustering ... (this might take a while)\n",
      "Extracting frames based on kmeans ...\n",
      "Kmeans-quantization based extracting of frames from 0.0  seconds to 7.81  seconds.\n",
      "Extracting and downsampling... 3904  frames from the video.\n"
     ]
    },
    {
     "name": "stderr",
     "output_type": "stream",
     "text": [
      "3904it [00:31, 122.54it/s]\n",
      "/Users/kenzie_mackinnon/miniforge/envs/dlcm1/lib/python3.9/site-packages/sklearn/cluster/_kmeans.py:870: FutureWarning: The default value of `n_init` will change from 3 to 'auto' in 1.4. Set the value of `n_init` explicitly to suppress the warning\n",
      "  warnings.warn(\n"
     ]
    },
    {
     "name": "stdout",
     "output_type": "stream",
     "text": [
      "Kmeans clustering ... (this might take a while)\n",
      "Extracting frames based on kmeans ...\n",
      "Kmeans-quantization based extracting of frames from 0.0  seconds to 7.81  seconds.\n",
      "Extracting and downsampling... 3904  frames from the video.\n"
     ]
    },
    {
     "name": "stderr",
     "output_type": "stream",
     "text": [
      "3904it [00:31, 123.21it/s]\n",
      "/Users/kenzie_mackinnon/miniforge/envs/dlcm1/lib/python3.9/site-packages/sklearn/cluster/_kmeans.py:870: FutureWarning: The default value of `n_init` will change from 3 to 'auto' in 1.4. Set the value of `n_init` explicitly to suppress the warning\n",
      "  warnings.warn(\n"
     ]
    },
    {
     "name": "stdout",
     "output_type": "stream",
     "text": [
      "Kmeans clustering ... (this might take a while)\n",
      "Extracting frames based on kmeans ...\n",
      "Kmeans-quantization based extracting of frames from 0.0  seconds to 7.81  seconds.\n",
      "Extracting and downsampling... 3904  frames from the video.\n"
     ]
    },
    {
     "name": "stderr",
     "output_type": "stream",
     "text": [
      "3904it [01:31, 42.79it/s] \n",
      "/Users/kenzie_mackinnon/miniforge/envs/dlcm1/lib/python3.9/site-packages/sklearn/cluster/_kmeans.py:870: FutureWarning: The default value of `n_init` will change from 3 to 'auto' in 1.4. Set the value of `n_init` explicitly to suppress the warning\n",
      "  warnings.warn(\n"
     ]
    },
    {
     "name": "stdout",
     "output_type": "stream",
     "text": [
      "Kmeans clustering ... (this might take a while)\n",
      "Extracting frames based on kmeans ...\n",
      "Kmeans-quantization based extracting of frames from 0.0  seconds to 7.81  seconds.\n",
      "Extracting and downsampling... 3904  frames from the video.\n"
     ]
    },
    {
     "name": "stderr",
     "output_type": "stream",
     "text": [
      "3904it [00:27, 141.66it/s]\n",
      "/Users/kenzie_mackinnon/miniforge/envs/dlcm1/lib/python3.9/site-packages/sklearn/cluster/_kmeans.py:870: FutureWarning: The default value of `n_init` will change from 3 to 'auto' in 1.4. Set the value of `n_init` explicitly to suppress the warning\n",
      "  warnings.warn(\n"
     ]
    },
    {
     "name": "stdout",
     "output_type": "stream",
     "text": [
      "Kmeans clustering ... (this might take a while)\n",
      "Extracting frames based on kmeans ...\n",
      "Kmeans-quantization based extracting of frames from 0.0  seconds to 7.81  seconds.\n",
      "Extracting and downsampling... 3904  frames from the video.\n"
     ]
    },
    {
     "name": "stderr",
     "output_type": "stream",
     "text": [
      "3904it [00:25, 154.09it/s]\n",
      "/Users/kenzie_mackinnon/miniforge/envs/dlcm1/lib/python3.9/site-packages/sklearn/cluster/_kmeans.py:870: FutureWarning: The default value of `n_init` will change from 3 to 'auto' in 1.4. Set the value of `n_init` explicitly to suppress the warning\n",
      "  warnings.warn(\n"
     ]
    },
    {
     "name": "stdout",
     "output_type": "stream",
     "text": [
      "Kmeans clustering ... (this might take a while)\n",
      "Extracting frames based on kmeans ...\n",
      "Kmeans-quantization based extracting of frames from 0.0  seconds to 7.81  seconds.\n",
      "Extracting and downsampling... 3904  frames from the video.\n"
     ]
    },
    {
     "name": "stderr",
     "output_type": "stream",
     "text": [
      "3904it [00:25, 154.57it/s]\n",
      "/Users/kenzie_mackinnon/miniforge/envs/dlcm1/lib/python3.9/site-packages/sklearn/cluster/_kmeans.py:870: FutureWarning: The default value of `n_init` will change from 3 to 'auto' in 1.4. Set the value of `n_init` explicitly to suppress the warning\n",
      "  warnings.warn(\n"
     ]
    },
    {
     "name": "stdout",
     "output_type": "stream",
     "text": [
      "Kmeans clustering ... (this might take a while)\n",
      "Extracting frames based on kmeans ...\n",
      "Kmeans-quantization based extracting of frames from 0.0  seconds to 7.81  seconds.\n",
      "Extracting and downsampling... 3904  frames from the video.\n"
     ]
    },
    {
     "name": "stderr",
     "output_type": "stream",
     "text": [
      "3904it [00:25, 155.20it/s]\n",
      "/Users/kenzie_mackinnon/miniforge/envs/dlcm1/lib/python3.9/site-packages/sklearn/cluster/_kmeans.py:870: FutureWarning: The default value of `n_init` will change from 3 to 'auto' in 1.4. Set the value of `n_init` explicitly to suppress the warning\n",
      "  warnings.warn(\n"
     ]
    },
    {
     "name": "stdout",
     "output_type": "stream",
     "text": [
      "Kmeans clustering ... (this might take a while)\n",
      "Extracting frames based on kmeans ...\n",
      "Kmeans-quantization based extracting of frames from 0.0  seconds to 7.81  seconds.\n",
      "Extracting and downsampling... 3904  frames from the video.\n"
     ]
    },
    {
     "name": "stderr",
     "output_type": "stream",
     "text": [
      "3904it [00:25, 155.60it/s]\n",
      "/Users/kenzie_mackinnon/miniforge/envs/dlcm1/lib/python3.9/site-packages/sklearn/cluster/_kmeans.py:870: FutureWarning: The default value of `n_init` will change from 3 to 'auto' in 1.4. Set the value of `n_init` explicitly to suppress the warning\n",
      "  warnings.warn(\n"
     ]
    },
    {
     "name": "stdout",
     "output_type": "stream",
     "text": [
      "Kmeans clustering ... (this might take a while)\n",
      "Extracting frames based on kmeans ...\n",
      "Kmeans-quantization based extracting of frames from 0.0  seconds to 7.81  seconds.\n",
      "Extracting and downsampling... 3904  frames from the video.\n"
     ]
    },
    {
     "name": "stderr",
     "output_type": "stream",
     "text": [
      "3904it [00:25, 154.93it/s]\n",
      "/Users/kenzie_mackinnon/miniforge/envs/dlcm1/lib/python3.9/site-packages/sklearn/cluster/_kmeans.py:870: FutureWarning: The default value of `n_init` will change from 3 to 'auto' in 1.4. Set the value of `n_init` explicitly to suppress the warning\n",
      "  warnings.warn(\n"
     ]
    },
    {
     "name": "stdout",
     "output_type": "stream",
     "text": [
      "Kmeans clustering ... (this might take a while)\n",
      "Extracting frames based on kmeans ...\n",
      "Kmeans-quantization based extracting of frames from 0.0  seconds to 7.81  seconds.\n",
      "Extracting and downsampling... 3904  frames from the video.\n"
     ]
    },
    {
     "name": "stderr",
     "output_type": "stream",
     "text": [
      "3904it [00:25, 155.08it/s]\n",
      "/Users/kenzie_mackinnon/miniforge/envs/dlcm1/lib/python3.9/site-packages/sklearn/cluster/_kmeans.py:870: FutureWarning: The default value of `n_init` will change from 3 to 'auto' in 1.4. Set the value of `n_init` explicitly to suppress the warning\n",
      "  warnings.warn(\n"
     ]
    },
    {
     "name": "stdout",
     "output_type": "stream",
     "text": [
      "Kmeans clustering ... (this might take a while)\n",
      "Extracting frames based on kmeans ...\n",
      "Kmeans-quantization based extracting of frames from 0.0  seconds to 7.81  seconds.\n",
      "Extracting and downsampling... 3904  frames from the video.\n"
     ]
    },
    {
     "name": "stderr",
     "output_type": "stream",
     "text": [
      "3904it [00:25, 154.30it/s]\n",
      "/Users/kenzie_mackinnon/miniforge/envs/dlcm1/lib/python3.9/site-packages/sklearn/cluster/_kmeans.py:870: FutureWarning: The default value of `n_init` will change from 3 to 'auto' in 1.4. Set the value of `n_init` explicitly to suppress the warning\n",
      "  warnings.warn(\n"
     ]
    },
    {
     "name": "stdout",
     "output_type": "stream",
     "text": [
      "Kmeans clustering ... (this might take a while)\n",
      "Frames were successfully extracted, for the videos listed in the config.yaml file.\n",
      "\n",
      "You can now label the frames using the function 'label_frames' (Note, you should label frames extracted from diverse videos (and many videos; we do not recommend training on single videos!)).\n"
     ]
    }
   ],
   "source": [
    "deeplabcut.extract_frames(config_path, mode='automatic', algo='kmeans', userfeedback=False, crop=True)"
   ]
  },
  {
   "cell_type": "code",
   "execution_count": 5,
   "id": "2e4961e6",
   "metadata": {
    "scrolled": true
   },
   "outputs": [
    {
     "ename": "",
     "evalue": "",
     "output_type": "error",
     "traceback": [
      "\u001b[1;31mThe Kernel crashed while executing code in the the current cell or a previous cell. Please review the code in the cell(s) to identify a possible cause of the failure. Click <a href='https://aka.ms/vscodeJupyterKernelCrash'>here</a> for more info. View Jupyter <a href='command:jupyter.viewOutput'>log</a> for further details."
     ]
    }
   ],
   "source": [
    "deeplabcut.label_frames(config_path)"
   ]
  },
  {
   "cell_type": "markdown",
   "id": "cb6a2c33",
   "metadata": {},
   "source": [
    "### Checking Labeling"
   ]
  },
  {
   "cell_type": "code",
   "execution_count": null,
   "id": "701008ab",
   "metadata": {
    "scrolled": true
   },
   "outputs": [],
   "source": [
    "deeplabcut.check_labels(config_path, visualizeindividuals=False)"
   ]
  },
  {
   "cell_type": "markdown",
   "id": "199ae083",
   "metadata": {},
   "source": [
    "### Create Training Dataset\n",
    "\n",
    "Only run this step where you are going to train the network. If you label on your laptop but move your project folder to Google Colab or AWS, lab server, etc, then run the step below on that platform! If you labeled on a Windows machine but train on Linux, this is fine as of 2.0.4 onwards it will be done automatically (it saves file sets as both Linux and Windows for you)."
   ]
  },
  {
   "cell_type": "code",
   "execution_count": null,
   "id": "e586a571",
   "metadata": {
    "scrolled": true
   },
   "outputs": [],
   "source": [
    "deeplabcut.create_training_dataset(config_path, augmenter_type='imgaug')"
   ]
  },
  {
   "cell_type": "markdown",
   "id": "12ec8f3d",
   "metadata": {},
   "source": [
    "### Network Training\n",
    "\n",
    "This part is where you would want to be leveraging the GPU's on the big PC to training the Neural Network."
   ]
  },
  {
   "cell_type": "code",
   "execution_count": null,
   "id": "fa842cc7",
   "metadata": {
    "scrolled": true
   },
   "outputs": [],
   "source": [
    "deeplabcut.train_network(config_path)"
   ]
  },
  {
   "cell_type": "code",
   "execution_count": null,
   "id": "bf05132d",
   "metadata": {
    "scrolled": true
   },
   "outputs": [],
   "source": [
    "%matplotlib\n",
    "# Network evaluation\n",
    "\n",
    "deeplabcut.evaluate_network(config_path, plotting=True)"
   ]
  },
  {
   "cell_type": "markdown",
   "id": "99f04a5e",
   "metadata": {},
   "source": [
    "# Begin Video Analysis"
   ]
  },
  {
   "cell_type": "code",
   "execution_count": null,
   "id": "e5b2a7e6",
   "metadata": {
    "scrolled": true
   },
   "outputs": [],
   "source": [
    "deeplabcut.analyze_videos(config_path, videofile_path, videotype=VideoType)"
   ]
  },
  {
   "cell_type": "markdown",
   "id": "3fb4041c",
   "metadata": {},
   "source": [
    "# Plot the Trajectory"
   ]
  },
  {
   "cell_type": "code",
   "execution_count": null,
   "id": "648d9893",
   "metadata": {
    "scrolled": true
   },
   "outputs": [],
   "source": [
    "deeplabcut.plot_trajectories(config_path,videofile_path, videotype=VideoType)"
   ]
  },
  {
   "cell_type": "code",
   "execution_count": null,
   "id": "b2c69b17",
   "metadata": {
    "scrolled": true
   },
   "outputs": [],
   "source": [
    "deeplabcut.create_labeled_video(config_path, videofile_path, videotype=VideoType)"
   ]
  },
  {
   "cell_type": "markdown",
   "id": "c03274df",
   "metadata": {},
   "source": [
    "# Finding frames with abnormal body part Distances\n",
    "\n"
   ]
  },
  {
   "cell_type": "code",
   "execution_count": null,
   "id": "e00a986d",
   "metadata": {
    "scrolled": false
   },
   "outputs": [],
   "source": [
    "\n",
    "max_dist = 100\n",
    "df = pd.read_hdf('path_to_your_labeled_data_file')\n",
    "bpt1 = df.xs('head', level='bodyparts', axis=1).to_numpy()\n",
    "bpt2 = df.xs('tail', level='bodyparts', axis=1).to_numpy()\n",
    "# We calculate the vectors from a point to the other\n",
    "# and group them per frame and per animal.\n",
    "try:\n",
    "    diff = (bpt1 - bpt2).reshape((len(df), -1, 2))\n",
    "except ValueError:\n",
    "    diff = (bpt1 - bpt2).reshape((len(df), -1, 3))\n",
    "dist = np.linalg.norm(diff, axis=2)\n",
    "mask = np.any(dist >= max_dist, axis=1)\n",
    "flagged_frames = df.iloc[mask].index"
   ]
  }
 ],
 "metadata": {
  "jupytext": {
   "formats": "ipynb,py:percent"
  },
  "kernelspec": {
   "display_name": "Python 3 (ipykernel)",
   "language": "python",
   "name": "python3"
  },
  "language_info": {
   "codemirror_mode": {
    "name": "ipython",
    "version": 3
   },
   "file_extension": ".py",
   "mimetype": "text/x-python",
   "name": "python",
   "nbconvert_exporter": "python",
   "pygments_lexer": "ipython3",
   "version": "3.9.18"
  },
  "vscode": {
   "interpreter": {
    "hash": "9565301901e75327fdc7fb6f564cf4ec01f7a567182f2fdf4865a4f02c22ee08"
   }
  }
 },
 "nbformat": 4,
 "nbformat_minor": 5
}
